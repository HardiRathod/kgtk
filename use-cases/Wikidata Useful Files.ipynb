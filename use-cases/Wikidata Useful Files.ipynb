{
 "cells": [
  {
   "cell_type": "markdown",
   "id": "f2ec5812",
   "metadata": {
    "papermill": {
     "duration": 0.096873,
     "end_time": "2021-04-19T05:29:10.407900",
     "exception": false,
     "start_time": "2021-04-19T05:29:10.311027",
     "status": "completed"
    },
    "tags": []
   },
   "source": [
    "# Generating Useful Wikidata Files\n",
    "\n",
    "This notebook generates files that contain derived data that is useful in many applications. The input to the notebook is the full Wikidata or a subset of Wikidata. It also works for arbutrary KGs as long as they follow the representation requirements of Wikidata:\n",
    "\n",
    "- the *instance of* relation is represented using the `P31` property\n",
    "- the *subclass of* relation is represented using the `P279` property\n",
    "- all properties declare a datatype, and the data types must be one of the datatypes in Wikidata.\n",
    "\n",
    "Inputs:\n",
    "\n",
    "- `claims_file`: contains all statements, which consist of edges `node1/label/node2` where `label` is a property in Wikidata (e.g., sitelinks, labels, aliases and description are not in the claims file.\n",
    "- `item_file`: the subset of the `claims_file` consistin of edges for property of data type `wikibase-item`\n",
    "- `label_file`, `alias_file` and `description_file` containing labels, aliases and descriptions. It is assume that these files contain the labels, aliases and descriptions of all nodes appearing in the claims file. Users may provide these files for specific languages only.\n",
    "\n",
    "Outputs:\n",
    "\n",
    "- **Instance of (P31):** `derived.P31.tsv.gz` contains all the `instance of (P31)` edges present in the claims file.\n",
    "- **Subclass of (P279):** `derived.P279.tsv.gz` contains all the `subclass of (P279)` edges present in the claims file.\n",
    "- **Is A (isa):** `derived.isa.tsv.gz` contains edges `node`isa/node2` where either `node1/P31/node2` or `node1/P279/node2`\n",
    "- **Closure of subclass of (P279star):** `derived.P279star.tsv.gz` contains edges `node1/P279star/node2` where `node2` is reachable from `node1` via zero or more hops using the `P279` property. Note that for example, `Q44/P279star/Q44`. An example when this file is useful is when you want to find all the instance of a class, including instances of subclasses of the given class.\n",
    "- **In/out degrees:** `metadata.out_degree.tsv.gz` contains the out degree of every node, and `metadata.in_degree.tsv.gz` contains the in degree of every node.\n",
    "- **Pagerank:** outputs page rank on the directed graph in `metadata.pagerank.directed.tsv.gz` and page rank of the directed graph in `metadata.pagerank.undirected.tsv.gz`."
   ]
  },
  {
   "cell_type": "markdown",
   "id": "7de51e75",
   "metadata": {
    "papermill": {
     "duration": 0.074887,
     "end_time": "2021-04-19T05:29:10.539256",
     "exception": false,
     "start_time": "2021-04-19T05:29:10.464369",
     "status": "completed"
    },
    "tags": []
   },
   "source": [
    "### Batch Invocation\n",
    "Example batch command. The second argument is a notebook where the output will be stored. You can load it to see progress.\n",
    "\n",
    "```\n",
    "papermill Wikidata\\ Useful\\ Files.ipynb useful-files.out.ipynb \\\n",
    "-p claims_file /Volumes/GoogleDrive/Shared\\ drives/KGTK-public-graphs/wikidata-20200803-v4/all.tsv.gz \\\n",
    "-p label_file /Volumes/GoogleDrive/Shared\\ drives/KGTK-public-graphs/wikidata-20200803-v4/part.label.en.tsv.gz \\\n",
    "-p item_file /Volumes/GoogleDrive/Shared\\ drives/KGTK-public-graphs/wikidata-20200803-v4/part.wikibase-item.tsv.gz \\\n",
    "-p property_item_file = /Volumes/GoogleDrive/Shared\\ drives/KGTK-public-graphs/wikidata-20200803-v4/part.property.wikibase-item.tsv.gz \\\n",
    "-p output_path <local folder> \\\n",
    "-p output_folder useful_files_v4 \\\n",
    "-p temp_folder temp.useful_files_v4 \\\n",
    "-p delete_database no \n",
    "-p languages es,ru,zh-cn\n",
    "```"
   ]
  },
  {
   "cell_type": "code",
   "execution_count": 2,
   "id": "bad3f6eb",
   "metadata": {
    "execution": {
     "iopub.execute_input": "2021-04-19T05:29:10.653849Z",
     "iopub.status.busy": "2021-04-19T05:29:10.652980Z",
     "iopub.status.idle": "2021-04-19T05:29:10.657924Z",
     "shell.execute_reply": "2021-04-19T05:29:10.657341Z"
    },
    "papermill": {
     "duration": 0.065943,
     "end_time": "2021-04-19T05:29:10.658067",
     "exception": false,
     "start_time": "2021-04-19T05:29:10.592124",
     "status": "completed"
    },
    "tags": [
     "parameters"
    ]
   },
   "outputs": [],
   "source": [
    "# Parameters\n",
    "\n",
    "# Folder on local machine where to create the output and temporary folders\n",
    "output_path = \"/data/amandeep/wikidata-20210215\"\n",
    "\n",
    "# The names of the output and temporary folders\n",
    "output_folder = \"useful_wikidata_files\"\n",
    "temp_folder = \"temp.useful_wikidata_files\"\n",
    "\n",
    "# The location of input files\n",
    "wiki_root_folder = \"/data/amandeep/wikidata-20210215/\"\n",
    "claims_file = \"claims.tsv.gz\"\n",
    "label_file = \"labels.en.tsv.gz\"\n",
    "alias_file = \"aliases.en.tsv.gz\"\n",
    "description_file = \"descriptions.en.tsv.gz\"\n",
    "item_file = \"claims.wikibase-item.tsv.gz\"\n",
    "\n",
    "label_all = \"labels.tsv.gz\"\n",
    "alias_all = \"aliases.tsv.gz\"\n",
    "description_all = \"descriptions.tsv.gz\"\n",
    "\n",
    "# Location of the cache database for kypher\n",
    "cache_path = \"/data/amandeep/wikidata-20210215/temp.useful_wikidata_files\"\n",
    "\n",
    "# Whether to delete the cache database\n",
    "delete_database = False\n",
    "\n",
    "# Whether to compute pagerank as it may not run on the laptop\n",
    "compute_pagerank = True\n",
    "languages = 'ru,es,zh-cn,de,it,nl,pl,fr,pt,sv'"
   ]
  },
  {
   "cell_type": "code",
   "execution_count": 3,
   "id": "31230b41",
   "metadata": {
    "execution": {
     "iopub.execute_input": "2021-04-19T05:29:10.773716Z",
     "iopub.status.busy": "2021-04-19T05:29:10.773183Z",
     "iopub.status.idle": "2021-04-19T05:29:10.776325Z",
     "shell.execute_reply": "2021-04-19T05:29:10.775808Z"
    },
    "papermill": {
     "duration": 0.061531,
     "end_time": "2021-04-19T05:29:10.776471",
     "exception": false,
     "start_time": "2021-04-19T05:29:10.714940",
     "status": "completed"
    },
    "tags": [
     "injected-parameters"
    ]
   },
   "outputs": [],
   "source": [
    "# Parameters\n",
    "output_path = \"/data/hrathod/output/subset/novartis\"\n",
    "output_folder = \"useful_files\"\n",
    "temp_folder = \"temp.useful_files\"\n",
    "wiki_root_folder = \"/data/hrathod/output/subset/novartis/parts/\"\n",
    "cache_path = \"/data/hrathod/output/subset/novartis/temp.useful_files\"\n",
    "languages = \"en\"\n",
    "compute_pagerank = True\n",
    "delete_database = False\n"
   ]
  },
  {
   "cell_type": "code",
   "execution_count": 4,
   "id": "a84ddb28",
   "metadata": {
    "execution": {
     "iopub.execute_input": "2021-04-19T05:29:10.884771Z",
     "iopub.status.busy": "2021-04-19T05:29:10.884258Z",
     "iopub.status.idle": "2021-04-19T05:29:10.887428Z",
     "shell.execute_reply": "2021-04-19T05:29:10.886995Z"
    },
    "papermill": {
     "duration": 0.05885,
     "end_time": "2021-04-19T05:29:10.887553",
     "exception": false,
     "start_time": "2021-04-19T05:29:10.828703",
     "status": "completed"
    },
    "tags": []
   },
   "outputs": [],
   "source": [
    "languages = languages.split(',')"
   ]
  },
  {
   "cell_type": "code",
   "execution_count": 5,
   "id": "ad68cdba",
   "metadata": {
    "execution": {
     "iopub.execute_input": "2021-04-19T05:29:10.997455Z",
     "iopub.status.busy": "2021-04-19T05:29:10.996949Z",
     "iopub.status.idle": "2021-04-19T05:29:11.758097Z",
     "shell.execute_reply": "2021-04-19T05:29:11.757572Z"
    },
    "papermill": {
     "duration": 0.818767,
     "end_time": "2021-04-19T05:29:11.758248",
     "exception": false,
     "start_time": "2021-04-19T05:29:10.939481",
     "status": "completed"
    },
    "tags": []
   },
   "outputs": [],
   "source": [
    "import io\n",
    "import os\n",
    "import subprocess\n",
    "import sys\n",
    "\n",
    "import numpy as np\n",
    "import pandas as pd\n",
    "\n",
    "import altair as alt"
   ]
  },
  {
   "cell_type": "markdown",
   "id": "2efd4cc9",
   "metadata": {
    "papermill": {
     "duration": 0.167623,
     "end_time": "2021-04-19T05:29:11.978955",
     "exception": false,
     "start_time": "2021-04-19T05:29:11.811332",
     "status": "completed"
    },
    "tags": []
   },
   "source": [
    "## Set up environment and folders to store the files\n",
    "\n",
    "- `OUT` folder where the output files go\n",
    "- `TEMP` folder to keep temporary files , including the database\n",
    "- `kgtk` shortcut to invoke the kgtk software\n",
    "- `kypher` shortcut to invoke `kgtk query with the cache database\n",
    "- `CLAIMS` the `all.tsv` file of wikidata that contains all edges except label/alias/description\n",
    "- `LABELS` the file with the English labels\n",
    "- `ITEMS` the wikibase-item file (currently does not include node1 that are properties so for now we need the net file\n",
    "- `STORE` location of the cache file"
   ]
  },
  {
   "cell_type": "code",
   "execution_count": 6,
   "id": "24c1f72f",
   "metadata": {
    "execution": {
     "iopub.execute_input": "2021-04-19T05:29:12.135067Z",
     "iopub.status.busy": "2021-04-19T05:29:12.132096Z",
     "iopub.status.idle": "2021-04-19T05:29:12.137907Z",
     "shell.execute_reply": "2021-04-19T05:29:12.138302Z"
    },
    "papermill": {
     "duration": 0.074019,
     "end_time": "2021-04-19T05:29:12.138464",
     "exception": false,
     "start_time": "2021-04-19T05:29:12.064445",
     "status": "completed"
    },
    "tags": []
   },
   "outputs": [],
   "source": [
    "if cache_path:\n",
    "    os.environ['STORE'] = \"{}/wikidata.sqlite3.db\".format(cache_path)\n",
    "else:\n",
    "    os.environ['STORE'] = \"{}/{}/wikidata.sqlite3.db\".format(output_path, temp_folder)\n",
    "os.environ['OUT'] = \"{}/{}\".format(output_path, output_folder)\n",
    "os.environ['TEMP'] = \"{}/{}\".format(output_path, temp_folder)\n",
    "os.environ['kgtk'] = \"kgtk\"\n",
    "os.environ['kgtk'] = \"kgtk --debug\"\n",
    "os.environ['kypher'] = \"kgtk --debug query --graph-cache \" + os.environ['STORE']\n",
    "os.environ['CLAIMS'] = wiki_root_folder + claims_file\n",
    "os.environ['LABELS'] = wiki_root_folder + label_file\n",
    "os.environ['ALIASES'] = wiki_root_folder + alias_file\n",
    "os.environ['DESCRIPTIONS'] = wiki_root_folder + description_file\n",
    "os.environ['ITEMS'] = wiki_root_folder + item_file"
   ]
  },
  {
   "cell_type": "markdown",
   "id": "395b192c",
   "metadata": {
    "papermill": {
     "duration": 0.134106,
     "end_time": "2021-04-19T05:29:14.200197",
     "exception": false,
     "start_time": "2021-04-19T05:29:14.066091",
     "status": "completed"
    },
    "tags": []
   },
   "source": [
    "Go to the output directory and create the subfolders for the output files and the temporary files"
   ]
  },
  {
   "cell_type": "code",
   "execution_count": 7,
   "id": "c3580e59",
   "metadata": {
    "execution": {
     "iopub.execute_input": "2021-04-19T05:29:14.334783Z",
     "iopub.status.busy": "2021-04-19T05:29:14.334245Z",
     "iopub.status.idle": "2021-04-19T05:29:14.354746Z",
     "shell.execute_reply": "2021-04-19T05:29:14.354218Z"
    },
    "papermill": {
     "duration": 0.085182,
     "end_time": "2021-04-19T05:29:14.354902",
     "exception": false,
     "start_time": "2021-04-19T05:29:14.269720",
     "status": "completed"
    },
    "tags": []
   },
   "outputs": [
    {
     "name": "stdout",
     "output_type": "stream",
     "text": [
      "/data/hrathod/output/subset/novartis\n"
     ]
    }
   ],
   "source": [
    "cd $output_path"
   ]
  },
  {
   "cell_type": "code",
   "execution_count": 8,
   "id": "2769ac19",
   "metadata": {
    "execution": {
     "iopub.execute_input": "2021-04-19T05:29:14.481216Z",
     "iopub.status.busy": "2021-04-19T05:29:14.480694Z",
     "iopub.status.idle": "2021-04-19T05:29:14.768870Z",
     "shell.execute_reply": "2021-04-19T05:29:14.767641Z"
    },
    "papermill": {
     "duration": 0.356184,
     "end_time": "2021-04-19T05:29:14.769167",
     "exception": false,
     "start_time": "2021-04-19T05:29:14.412983",
     "status": "completed"
    },
    "tags": []
   },
   "outputs": [],
   "source": [
    "!mkdir -p $OUT\n",
    "!mkdir -p $TEMP"
   ]
  },
  {
   "cell_type": "markdown",
   "id": "aa333f97",
   "metadata": {
    "papermill": {
     "duration": 0.056784,
     "end_time": "2021-04-19T05:29:14.906489",
     "exception": false,
     "start_time": "2021-04-19T05:29:14.849705",
     "status": "completed"
    },
    "tags": []
   },
   "source": [
    "Clean up the database before we start"
   ]
  },
  {
   "cell_type": "code",
   "execution_count": 9,
   "id": "63bc2230",
   "metadata": {
    "execution": {
     "iopub.execute_input": "2021-04-19T05:29:15.147080Z",
     "iopub.status.busy": "2021-04-19T05:29:15.146510Z",
     "iopub.status.idle": "2021-04-19T05:29:15.149447Z",
     "shell.execute_reply": "2021-04-19T05:29:15.148926Z"
    },
    "papermill": {
     "duration": 0.063173,
     "end_time": "2021-04-19T05:29:15.149573",
     "exception": false,
     "start_time": "2021-04-19T05:29:15.086400",
     "status": "completed"
    },
    "tags": []
   },
   "outputs": [],
   "source": [
    "if delete_database:\n",
    "    print(\"Deleteddatabase\") \n",
    "    !rm $STORE"
   ]
  },
  {
   "cell_type": "markdown",
   "id": "ca873928",
   "metadata": {
    "papermill": {
     "duration": 0.063717,
     "end_time": "2021-04-19T05:29:16.980153",
     "exception": false,
     "start_time": "2021-04-19T05:29:16.916436",
     "status": "completed"
    },
    "tags": []
   },
   "source": [
    "### Preview the input files"
   ]
  },
  {
   "cell_type": "markdown",
   "id": "c1b1b025",
   "metadata": {
    "papermill": {
     "duration": 0.058408,
     "end_time": "2021-04-19T05:29:17.097358",
     "exception": false,
     "start_time": "2021-04-19T05:29:17.038950",
     "status": "completed"
    },
    "tags": []
   },
   "source": [
    "It is always a good practice to peek a the files to make sure the column headings are what we expect"
   ]
  },
  {
   "cell_type": "code",
   "execution_count": 12,
   "id": "380040c8",
   "metadata": {
    "execution": {
     "iopub.execute_input": "2021-04-19T05:29:17.226234Z",
     "iopub.status.busy": "2021-04-19T05:29:17.221228Z",
     "iopub.status.idle": "2021-04-19T05:29:18.444393Z",
     "shell.execute_reply": "2021-04-19T05:29:18.445444Z"
    },
    "papermill": {
     "duration": 0.995169,
     "end_time": "2021-04-19T05:29:18.150734",
     "exception": false,
     "start_time": "2021-04-19T05:29:17.155565",
     "status": "completed"
    },
    "tags": []
   },
   "outputs": [
    {
     "name": "stdout",
     "output_type": "stream",
     "text": [
      "[2021-04-19 09:37:19 sqlstore]: IMPORT graph directly into table graph_1 from /data/hrathod/output/subset/novartis/parts/claims.tsv.gz ...\n",
      "[2021-04-19 09:45:32 query]: SQL Translation:\n",
      "---------------------------------------------\n",
      "  SELECT *\n",
      "     FROM graph_1 AS graph_1_c1\n",
      "     LIMIT ?\n",
      "  PARAS: [10]\n",
      "---------------------------------------------\n",
      "id\tnode1\tlabel\tnode2\tnode2;wikidatatype\trank\n",
      "P10-P1628-32b85d-7927ece6-0\tP10\tP1628\t\"http://www.w3.org/2006/vcard/ns#Video\" url\tnormal\n",
      "P10-P1628-acf60d-b8950832-0\tP10\tP1628\t\"https://schema.org/video\"\turl\tnormal\n",
      "P10-P1629-Q34508-bcc39400-0\tP10\tP1629\tQ34508\twikibase-item\tnormal\n",
      "P10-P1659-P1651-c4068028-0\tP10\tP1659\tP1651\twikibase-property\tnormal\n",
      "P10-P1659-P18-5e4b9c4f-0\tP10\tP1659\tP18\twikibase-property\tnormal\n",
      "P10-P1659-P4238-d21d1ac0-0\tP10\tP1659\tP4238\twikibase-property\tnormal\n",
      "P10-P1659-P51-86aca4c5-0\tP10\tP1659\tP51\twikibase-property\tnormal\n",
      "P10-P1855-Q15075950-7eff6d65-0\tP10\tP1855\tQ15075950\twikibase-item\tnormal\n",
      "P10-P1855-Q4504-a69d2c73-0\tP10\tP1855\tQ4504\twikibase-item\tnormal\n",
      "P10-P1855-Q69063653-c8cdb04c-0\tP10\tP1855\tQ69063653\twikibase-item\tnormal\n"
     ]
    }
   ],
   "source": [
    "!$kypher -i \"$CLAIMS\" --limit 10 | col "
   ]
  },
  {
   "cell_type": "markdown",
   "id": "63798804",
   "metadata": {
    "papermill": {
     "duration": null,
     "end_time": null,
     "exception": null,
     "start_time": null,
     "status": "completed"
    },
    "tags": []
   },
   "source": [
    "Force creation of the index on the label column"
   ]
  },
  {
   "cell_type": "code",
   "execution_count": 13,
   "id": "57f62537",
   "metadata": {
    "papermill": {
     "duration": null,
     "end_time": null,
     "exception": null,
     "start_time": null,
     "status": "completed"
    },
    "tags": []
   },
   "outputs": [
    {
     "name": "stdout",
     "output_type": "stream",
     "text": [
      "[2021-04-19 09:45:44 query]: SQL Translation:\n",
      "---------------------------------------------\n",
      "  SELECT *\n",
      "     FROM graph_1 AS graph_1_c1\n",
      "     WHERE graph_1_c1.\"label\"=?\n",
      "     LIMIT ?\n",
      "  PARAS: ['P31', 5]\n",
      "---------------------------------------------\n",
      "[2021-04-19 09:45:44 sqlstore]: CREATE INDEX on table graph_1 column label ...\n",
      "[2021-04-19 09:51:06 sqlstore]: ANALYZE INDEX on table graph_1 column label ...\n",
      "id                              node1  label  node2      node2;wikidatatype  rank\n",
      "P10-P31-Q18610173-85ef4d24-0    P10    P31    Q18610173  wikibase-item       normal\n",
      "P1000-P31-Q18608871-093affb5-0  P1000  P31    Q18608871  wikibase-item       normal\n",
      "P1001-P31-Q15720608-deeedec9-0  P1001  P31    Q15720608  wikibase-item       normal\n",
      "P1001-P31-Q22984026-8beb0cfe-0  P1001  P31    Q22984026  wikibase-item       normal\n",
      "P1001-P31-Q22997934-1e5b1a96-0  P1001  P31    Q22997934  wikibase-item       normal\n"
     ]
    }
   ],
   "source": [
    "!$kypher -i \"$CLAIMS\" -o - \\\n",
    "--match '(i)-[:P31]->(c)' \\\n",
    "--limit 5 \\\n",
    "| column -t -s $'\\t' "
   ]
  },
  {
   "cell_type": "markdown",
   "id": "ed7d948a",
   "metadata": {
    "papermill": {
     "duration": null,
     "end_time": null,
     "exception": null,
     "start_time": null,
     "status": "completed"
    },
    "tags": []
   },
   "source": [
    "Force creation of the index on the node2 column"
   ]
  },
  {
   "cell_type": "code",
   "execution_count": 14,
   "id": "6f69a147",
   "metadata": {
    "papermill": {
     "duration": null,
     "end_time": null,
     "exception": null,
     "start_time": null,
     "status": "completed"
    },
    "tags": []
   },
   "outputs": [
    {
     "name": "stdout",
     "output_type": "stream",
     "text": [
      "[2021-04-19 09:51:29 query]: SQL Translation:\n",
      "---------------------------------------------\n",
      "  SELECT *\n",
      "     FROM graph_1 AS graph_1_c1\n",
      "     WHERE graph_1_c1.\"node2\"=?\n",
      "     LIMIT ?\n",
      "  PARAS: ['Q5', 5]\n",
      "---------------------------------------------\n",
      "[2021-04-19 09:51:29 sqlstore]: CREATE INDEX on table graph_1 column node2 ...\n",
      "[2021-04-19 09:59:05 sqlstore]: ANALYZE INDEX on table graph_1 column node2 ...\n",
      "id                         node1  label  node2  node2;wikidatatype  rank\n",
      "P1424-P1855-Q5-47bdcd17-0  P1424  P1855  Q5     wikibase-item       normal\n",
      "P1552-P1855-Q5-53b667e4-0  P1552  P1855  Q5     wikibase-item       normal\n",
      "P1963-P1855-Q5-1ba43aca-0  P1963  P1855  Q5     wikibase-item       normal\n",
      "P3055-P1629-Q5-fb63cfeb-0  P3055  P1629  Q5     wikibase-item       normal\n",
      "P5869-P1855-Q5-3a19317f-0  P5869  P1855  Q5     wikibase-item       normal\n"
     ]
    }
   ],
   "source": [
    "!$kypher -i \"$CLAIMS\" -o - \\\n",
    "--match '(i)-[r]->(:Q5)' \\\n",
    "--limit 5 \\\n",
    "| column -t -s $'\\t' "
   ]
  },
  {
   "cell_type": "markdown",
   "id": "1c983bc7",
   "metadata": {
    "papermill": {
     "duration": null,
     "end_time": null,
     "exception": null,
     "start_time": null,
     "status": "completed"
    },
    "tags": []
   },
   "source": [
    "### Count the number of edges"
   ]
  },
  {
   "cell_type": "markdown",
   "id": "e9b20c84",
   "metadata": {
    "papermill": {
     "duration": null,
     "end_time": null,
     "exception": null,
     "start_time": null,
     "status": "completed"
    },
    "tags": []
   },
   "source": [
    "Counting takes a long time"
   ]
  },
  {
   "cell_type": "code",
   "execution_count": 15,
   "id": "3255ef66",
   "metadata": {
    "papermill": {
     "duration": null,
     "end_time": null,
     "exception": null,
     "start_time": null,
     "status": "completed"
    },
    "tags": []
   },
   "outputs": [
    {
     "name": "stdout",
     "output_type": "stream",
     "text": [
      "[2021-04-19 09:59:39 query]: SQL Translation:\n",
      "---------------------------------------------\n",
      "  SELECT count(graph_1_c1.\"id\") \"_aLias.count\"\n",
      "     FROM graph_1 AS graph_1_c1\n",
      "     LIMIT ?\n",
      "  PARAS: [10]\n",
      "---------------------------------------------\n",
      "count\n",
      "293787649\n"
     ]
    }
   ],
   "source": [
    "!$kypher -i \"$CLAIMS\" \\\n",
    "--match '()-[r]->()' \\\n",
    "--return 'count(r) as count' \\\n",
    "--limit 10"
   ]
  },
  {
   "cell_type": "markdown",
   "id": "5ac5c58f",
   "metadata": {
    "papermill": {
     "duration": null,
     "end_time": null,
     "exception": null,
     "start_time": null,
     "status": "completed"
    },
    "tags": []
   },
   "source": [
    "### Get labels, aliases and descriptions for other languages"
   ]
  },
  {
   "cell_type": "code",
   "execution_count": 16,
   "id": "8e218891",
   "metadata": {
    "papermill": {
     "duration": null,
     "end_time": null,
     "exception": null,
     "start_time": null,
     "status": "completed"
    },
    "tags": []
   },
   "outputs": [
    {
     "name": "stdout",
     "output_type": "stream",
     "text": [
      "[2021-04-19 10:00:14 sqlstore]: IMPORT graph directly into table graph_2 from /data/hrathod/output/subset/novartis/parts/labels.tsv.gz ...\n",
      "[2021-04-19 10:01:02 query]: SQL Translation:\n",
      "---------------------------------------------\n",
      "  SELECT graph_2_c1.\"node1\", graph_2_c1.\"label\", graph_2_c1.\"node2\", graph_2_c1.\"id\"\n",
      "     FROM graph_2 AS graph_2_c1\n",
      "     WHERE graph_2_c1.\"label\"=?\n",
      "     AND (kgtk_lqstring_lang_suffix(graph_2_c1.\"node2\") = ?)\n",
      "  PARAS: ['label', 'en']\n",
      "---------------------------------------------\n",
      "[2021-04-19 10:01:02 sqlstore]: CREATE INDEX on table graph_2 column label ...\n",
      "[2021-04-19 10:01:15 sqlstore]: ANALYZE INDEX on table graph_2 column label ...\n"
     ]
    }
   ],
   "source": [
    "for lang in languages:\n",
    "    cmd = f\"kgtk --debug query --graph-cache {os.environ['STORE']} -i {wiki_root_folder}{label_all} -o {output_path}/{output_folder}/labels.{lang}.tsv.gz --match '(n1)-[l:label]->(n2)' --where 'n2.kgtk_lqstring_lang_suffix = \\\"{lang}\\\"' --return 'n1, l.label, n2, l.id' \"\n",
    "    !{cmd}"
   ]
  },
  {
   "cell_type": "code",
   "execution_count": 17,
   "id": "77042c12",
   "metadata": {
    "papermill": {
     "duration": null,
     "end_time": null,
     "exception": null,
     "start_time": null,
     "status": "completed"
    },
    "tags": []
   },
   "outputs": [
    {
     "name": "stdout",
     "output_type": "stream",
     "text": [
      "[2021-04-19 10:06:22 sqlstore]: IMPORT graph directly into table graph_3 from /data/hrathod/output/subset/novartis/parts/aliases.tsv.gz ...\n",
      "[2021-04-19 10:06:32 query]: SQL Translation:\n",
      "---------------------------------------------\n",
      "  SELECT graph_3_c1.\"node1\", graph_3_c1.\"label\", graph_3_c1.\"node2\", graph_3_c1.\"id\"\n",
      "     FROM graph_3 AS graph_3_c1\n",
      "     WHERE graph_3_c1.\"label\"=?\n",
      "     AND (kgtk_lqstring_lang_suffix(graph_3_c1.\"node2\") = ?)\n",
      "  PARAS: ['alias', 'en']\n",
      "---------------------------------------------\n",
      "[2021-04-19 10:06:32 sqlstore]: CREATE INDEX on table graph_3 column label ...\n",
      "[2021-04-19 10:06:35 sqlstore]: ANALYZE INDEX on table graph_3 column label ...\n"
     ]
    }
   ],
   "source": [
    "for lang in languages:\n",
    "    cmd = f\"kgtk --debug query --graph-cache {os.environ['STORE']} -i {wiki_root_folder}{alias_all} -o {output_path}/{output_folder}/aliases.{lang}.tsv.gz --match '(n1)-[l:alias]->(n2)' --where 'n2.kgtk_lqstring_lang_suffix = \\\"{lang}\\\"' --return 'n1, l.label, n2, l.id' \"\n",
    "    !{cmd}"
   ]
  },
  {
   "cell_type": "code",
   "execution_count": 18,
   "id": "b0d95b25",
   "metadata": {
    "papermill": {
     "duration": null,
     "end_time": null,
     "exception": null,
     "start_time": null,
     "status": "completed"
    },
    "tags": []
   },
   "outputs": [
    {
     "name": "stdout",
     "output_type": "stream",
     "text": [
      "[2021-04-19 10:07:50 sqlstore]: IMPORT graph directly into table graph_4 from /data/hrathod/output/subset/novartis/parts/descriptions.tsv.gz ...\n",
      "[2021-04-19 10:08:29 query]: SQL Translation:\n",
      "---------------------------------------------\n",
      "  SELECT graph_4_c1.\"node1\", graph_4_c1.\"label\", graph_4_c1.\"node2\", graph_4_c1.\"id\"\n",
      "     FROM graph_4 AS graph_4_c1\n",
      "     WHERE graph_4_c1.\"label\"=?\n",
      "     AND (kgtk_lqstring_lang_suffix(graph_4_c1.\"node2\") = ?)\n",
      "  PARAS: ['description', 'en']\n",
      "---------------------------------------------\n",
      "[2021-04-19 10:08:29 sqlstore]: CREATE INDEX on table graph_4 column label ...\n",
      "[2021-04-19 10:08:40 sqlstore]: ANALYZE INDEX on table graph_4 column label ...\n"
     ]
    }
   ],
   "source": [
    "for lang in languages:\n",
    "    cmd = f\"kgtk --debug query --graph-cache {os.environ['STORE']} -i {wiki_root_folder}{description_all} -o {output_path}/{output_folder}/descriptions.{lang}.tsv.gz --match '(n1)-[l:description]->(n2)' --where 'n2.kgtk_lqstring_lang_suffix = \\\"{lang}\\\"' --return 'n1, l.label, n2, l.id' \"\n",
    "    !{cmd}"
   ]
  },
  {
   "cell_type": "markdown",
   "id": "614c5c15",
   "metadata": {
    "papermill": {
     "duration": null,
     "end_time": null,
     "exception": null,
     "start_time": null,
     "status": "completed"
    },
    "tags": []
   },
   "source": [
    "### Create the P31 and P279 files"
   ]
  },
  {
   "cell_type": "markdown",
   "id": "76c86b33",
   "metadata": {
    "papermill": {
     "duration": null,
     "end_time": null,
     "exception": null,
     "start_time": null,
     "status": "completed"
    },
    "tags": []
   },
   "source": [
    "Create the `P31` file"
   ]
  },
  {
   "cell_type": "code",
   "execution_count": 19,
   "id": "d024bcc0",
   "metadata": {
    "papermill": {
     "duration": null,
     "end_time": null,
     "exception": null,
     "start_time": null,
     "status": "completed"
    },
    "tags": []
   },
   "outputs": [
    {
     "name": "stdout",
     "output_type": "stream",
     "text": [
      "[2021-04-19 10:11:48 query]: SQL Translation:\r\n",
      "---------------------------------------------\r\n",
      "  SELECT graph_1_c1.\"id\", graph_1_c1.\"node1\", graph_1_c1.\"label\", graph_1_c1.\"node2\"\r\n",
      "     FROM graph_1 AS graph_1_c1\r\n",
      "     WHERE graph_1_c1.\"label\"=?\r\n",
      "  PARAS: ['P31']\r\n",
      "---------------------------------------------\r\n"
     ]
    }
   ],
   "source": [
    "!$kypher -i \"$CLAIMS\" -o $OUT/derived.P31.tsv.gz \\\n",
    "--match '(n1)-[l:P31]->(n2)' \\\n",
    "--return 'l, n1, l.label, n2' "
   ]
  },
  {
   "cell_type": "markdown",
   "id": "c55bd1e8",
   "metadata": {
    "papermill": {
     "duration": null,
     "end_time": null,
     "exception": null,
     "start_time": null,
     "status": "completed"
    },
    "tags": []
   },
   "source": [
    "Create the P279 file"
   ]
  },
  {
   "cell_type": "code",
   "execution_count": 18,
   "id": "fd6f41f9",
   "metadata": {
    "papermill": {
     "duration": null,
     "end_time": null,
     "exception": null,
     "start_time": null,
     "status": "completed"
    },
    "tags": []
   },
   "outputs": [
    {
     "name": "stdout",
     "output_type": "stream",
     "text": [
      "id\tnode1\tlabel\tnode2\r\n",
      "P10-P31-Q18610173-85ef4d24-0\tP10\tP31\tQ18610173\r\n",
      "P1000-P31-Q18608871-093affb5-0\tP1000\tP31\tQ18608871\r\n",
      "P1001-P31-Q15720608-deeedec9-0\tP1001\tP31\tQ15720608\r\n",
      "P1001-P31-Q22984026-8beb0cfe-0\tP1001\tP31\tQ22984026\r\n",
      "\r\n",
      "gzip: P1001-P31-Q22997934-1e5b1a96-0\tP1001\tP31\tQ22997934\r\n",
      "stdout: Broken pipe\r\n",
      "P1001-P31-Q61719275-0ccc11a5-0\tP1001\tP31\tQ61719275\r\n",
      "P1001-P31-Q70564278-b92b04ba-0\tP1001\tP31\tQ70564278\r\n",
      "P1002-P31-Q22963600-b3a47587-0\tP1002\tP31\tQ22963600\r\n",
      "P1003-P31-Q19595382-152d2cdd-0\tP1003\tP31\tQ19595382\r\n"
     ]
    }
   ],
   "source": [
    "!zcat $OUT/derived.P31.tsv.gz | head | col"
   ]
  },
  {
   "cell_type": "code",
   "execution_count": 21,
   "id": "dbaab1c6",
   "metadata": {
    "papermill": {
     "duration": null,
     "end_time": null,
     "exception": null,
     "start_time": null,
     "status": "completed"
    },
    "tags": []
   },
   "outputs": [
    {
     "name": "stdout",
     "output_type": "stream",
     "text": [
      "[2021-04-19 10:19:56 query]: SQL Translation:\r\n",
      "---------------------------------------------\r\n",
      "  SELECT graph_1_c1.\"id\", graph_1_c1.\"node1\", graph_1_c1.\"label\", graph_1_c1.\"node2\"\r\n",
      "     FROM graph_1 AS graph_1_c1\r\n",
      "     WHERE graph_1_c1.\"label\"=?\r\n",
      "  PARAS: ['P279']\r\n",
      "---------------------------------------------\r\n"
     ]
    }
   ],
   "source": [
    "!$kypher -i \"$CLAIMS\" -o $OUT/derived.P279.tsv.gz \\\n",
    "    --match '(n1)-[l:P279]->(n2)' \\\n",
    "    --return 'l, n1, l.label, n2' "
   ]
  },
  {
   "cell_type": "markdown",
   "id": "d94b1ef5",
   "metadata": {
    "papermill": {
     "duration": null,
     "end_time": null,
     "exception": null,
     "start_time": null,
     "status": "completed"
    },
    "tags": []
   },
   "source": [
    "### Create the file that contains all nodes reachable via P279 starting from a node2 in P31 or a node1 in P279"
   ]
  },
  {
   "cell_type": "markdown",
   "id": "899b5c39",
   "metadata": {
    "papermill": {
     "duration": null,
     "end_time": null,
     "exception": null,
     "start_time": null,
     "status": "completed"
    },
    "tags": []
   },
   "source": [
    "First compute the roots"
   ]
  },
  {
   "cell_type": "code",
   "execution_count": 22,
   "id": "e20424ef",
   "metadata": {
    "papermill": {
     "duration": null,
     "end_time": null,
     "exception": null,
     "start_time": null,
     "status": "completed"
    },
    "tags": []
   },
   "outputs": [
    {
     "name": "stdout",
     "output_type": "stream",
     "text": [
      "[2021-04-19 10:20:48 sqlstore]: IMPORT graph directly into table graph_5 from /data/hrathod/output/subset/novartis/useful_files/derived.P279.tsv.gz ...\n",
      "[2021-04-19 10:21:04 query]: SQL Translation:\n",
      "---------------------------------------------\n",
      "  SELECT graph_5_c1.\"node1\" \"_aLias.id\"\n",
      "     FROM graph_5 AS graph_5_c1\n",
      "  PARAS: []\n",
      "---------------------------------------------\n"
     ]
    }
   ],
   "source": [
    "!$kypher -i $OUT/derived.P279.tsv.gz -o $TEMP/P279.n1.tsv.gz \\\n",
    "--match '(n1)-[l]->()' \\\n",
    "--return 'n1 as id' "
   ]
  },
  {
   "cell_type": "code",
   "execution_count": 23,
   "id": "27f3e032",
   "metadata": {
    "papermill": {
     "duration": null,
     "end_time": null,
     "exception": null,
     "start_time": null,
     "status": "completed"
    },
    "tags": []
   },
   "outputs": [
    {
     "name": "stdout",
     "output_type": "stream",
     "text": [
      "[2021-04-19 10:21:23 sqlstore]: IMPORT graph directly into table graph_6 from /data/hrathod/output/subset/novartis/useful_files/derived.P31.tsv.gz ...\n",
      "[2021-04-19 10:22:06 query]: SQL Translation:\n",
      "---------------------------------------------\n",
      "  SELECT graph_6_c1.\"node2\" \"_aLias.id\"\n",
      "     FROM graph_6 AS graph_6_c1\n",
      "  PARAS: []\n",
      "---------------------------------------------\n"
     ]
    }
   ],
   "source": [
    "!$kypher -i $OUT/derived.P31.tsv.gz -o $TEMP/P31.n2.tsv.gz \\\n",
    "--match '()-[l]->(n2)' \\\n",
    "--return 'n2 as id' "
   ]
  },
  {
   "cell_type": "code",
   "execution_count": 24,
   "id": "f5441d80",
   "metadata": {
    "papermill": {
     "duration": null,
     "end_time": null,
     "exception": null,
     "start_time": null,
     "status": "completed"
    },
    "tags": []
   },
   "outputs": [],
   "source": [
    "!$kgtk cat --mode NONE -i $TEMP/P31.n2.tsv.gz $TEMP/P279.n1.tsv.gz \\\n",
    "| gzip > $TEMP/P279.roots.1.tsv.gz"
   ]
  },
  {
   "cell_type": "code",
   "execution_count": 25,
   "id": "0f357c8c",
   "metadata": {
    "papermill": {
     "duration": null,
     "end_time": null,
     "exception": null,
     "start_time": null,
     "status": "completed"
    },
    "tags": []
   },
   "outputs": [],
   "source": [
    "!$kgtk sort --mode NONE --column id -i $TEMP/P279.roots.1.tsv.gz \\\n",
    "| gzip > $TEMP/P279.roots.2.tsv.gz"
   ]
  },
  {
   "cell_type": "markdown",
   "id": "2ac33ea8",
   "metadata": {
    "papermill": {
     "duration": null,
     "end_time": null,
     "exception": null,
     "start_time": null,
     "status": "completed"
    },
    "tags": []
   },
   "source": [
    "We have lots of duplicates"
   ]
  },
  {
   "cell_type": "code",
   "execution_count": 26,
   "id": "ec848f51",
   "metadata": {
    "papermill": {
     "duration": null,
     "end_time": null,
     "exception": null,
     "start_time": null,
     "status": "completed"
    },
    "tags": []
   },
   "outputs": [
    {
     "name": "stdout",
     "output_type": "stream",
     "text": [
      "id\r\n",
      "Q100000030\r\n",
      "Q1000017\r\n",
      "Q1000032\r\n",
      "Q1000032\r\n",
      "Q1000039\r\n",
      "Q100004761\r\n",
      "Q100004761\r\n",
      "Q100004761\r\n",
      "Q1000064\r\n",
      "\r\n",
      "gzip: stdout: Broken pipe\r\n"
     ]
    }
   ],
   "source": [
    "!zcat < $TEMP/P279.roots.2.tsv.gz | head"
   ]
  },
  {
   "cell_type": "code",
   "execution_count": 27,
   "id": "ea4e0b8a",
   "metadata": {
    "papermill": {
     "duration": null,
     "end_time": null,
     "exception": null,
     "start_time": null,
     "status": "completed"
    },
    "tags": []
   },
   "outputs": [],
   "source": [
    "!$kgtk compact -i $TEMP/P279.roots.2.tsv.gz --mode NONE \\\n",
    "    --presorted \\\n",
    "    --columns id \\\n",
    "    -o $TEMP/P279.roots.tsv"
   ]
  },
  {
   "cell_type": "markdown",
   "id": "3e63d64a",
   "metadata": {
    "papermill": {
     "duration": null,
     "end_time": null,
     "exception": null,
     "start_time": null,
     "status": "completed"
    },
    "tags": []
   },
   "source": [
    "Now we can invoke the reachable-nodes command"
   ]
  },
  {
   "cell_type": "code",
   "execution_count": 28,
   "id": "b9c8fd54",
   "metadata": {
    "papermill": {
     "duration": null,
     "end_time": null,
     "exception": null,
     "start_time": null,
     "status": "completed"
    },
    "tags": []
   },
   "outputs": [],
   "source": [
    "!$kgtk reachable-nodes \\\n",
    "    --rootfile $TEMP/P279.roots.tsv \\\n",
    "    --selflink \\\n",
    "    -i $OUT/derived.P279.tsv.gz \\\n",
    "| gzip > $TEMP/P279.reachable.tsv.gz"
   ]
  },
  {
   "cell_type": "code",
   "execution_count": 29,
   "id": "90c9667e",
   "metadata": {
    "papermill": {
     "duration": null,
     "end_time": null,
     "exception": null,
     "start_time": null,
     "status": "completed"
    },
    "tags": []
   },
   "outputs": [
    {
     "name": "stdout",
     "output_type": "stream",
     "text": [
      "node1\tlabel\tnode2\r\n",
      "Q100000030\treachable\tQ100000030\r\n",
      "Q100000030\treachable\tQ14748\r\n",
      "Q100000030\treachable\tQ14745\r\n",
      "Q100000030\treachable\tQ1357761\r\n",
      "Q100000030\treachable\tQ223557\r\n",
      "Q100000030\treachable\tQ4406616\r\n",
      "Q100000030\treachable\tQ488383\r\n",
      "Q100000030\treachable\tQ35120\r\n",
      "\r\n",
      "gzip: Q100000030\treachable\tQ2424752\r\n",
      "stdout: Broken pipe\r\n"
     ]
    }
   ],
   "source": [
    "!zcat < $TEMP/P279.reachable.tsv.gz | head | col"
   ]
  },
  {
   "cell_type": "markdown",
   "id": "f3f151f7",
   "metadata": {
    "papermill": {
     "duration": null,
     "end_time": null,
     "exception": null,
     "start_time": null,
     "status": "completed"
    },
    "tags": []
   },
   "source": [
    "The reachable-nodes command produces edges labeled `reachable`, so we need one command to rename them."
   ]
  },
  {
   "cell_type": "code",
   "execution_count": 30,
   "id": "3b01c9b0",
   "metadata": {
    "papermill": {
     "duration": null,
     "end_time": null,
     "exception": null,
     "start_time": null,
     "status": "completed"
    },
    "tags": []
   },
   "outputs": [
    {
     "name": "stdout",
     "output_type": "stream",
     "text": [
      "[2021-04-19 11:41:33 sqlstore]: IMPORT graph directly into table graph_7 from /data/hrathod/output/subset/novartis/temp.useful_files/P279.reachable.tsv.gz ...\n",
      "[2021-04-19 11:44:23 query]: SQL Translation:\n",
      "---------------------------------------------\n",
      "  SELECT graph_7_c1.\"node1\", ? \"_aLias.label\", graph_7_c1.\"node2\" \"_aLias.node2\"\n",
      "     FROM graph_7 AS graph_7_c1\n",
      "  PARAS: ['P279star']\n",
      "---------------------------------------------\n"
     ]
    }
   ],
   "source": [
    "!$kypher -i $TEMP/P279.reachable.tsv.gz -o $TEMP/P279star.1.tsv.gz \\\n",
    "--match '(n1)-[]->(n2)' \\\n",
    "--return 'n1, \"P279star\" as label, n2 as node2' "
   ]
  },
  {
   "cell_type": "markdown",
   "id": "80336ea0",
   "metadata": {
    "papermill": {
     "duration": null,
     "end_time": null,
     "exception": null,
     "start_time": null,
     "status": "completed"
    },
    "tags": []
   },
   "source": [
    "Now we can concatenate these files to produce the final output"
   ]
  },
  {
   "cell_type": "code",
   "execution_count": 31,
   "id": "4783f64a",
   "metadata": {
    "papermill": {
     "duration": null,
     "end_time": null,
     "exception": null,
     "start_time": null,
     "status": "completed"
    },
    "tags": []
   },
   "outputs": [],
   "source": [
    "!$kgtk sort -i $TEMP/P279star.1.tsv.gz -o $TEMP/P279star.2.tsv.gz"
   ]
  },
  {
   "cell_type": "markdown",
   "id": "f90a7658",
   "metadata": {
    "papermill": {
     "duration": null,
     "end_time": null,
     "exception": null,
     "start_time": null,
     "status": "completed"
    },
    "tags": []
   },
   "source": [
    "Make sure there are no duplicates"
   ]
  },
  {
   "cell_type": "code",
   "execution_count": 32,
   "id": "0e46f6de",
   "metadata": {
    "papermill": {
     "duration": null,
     "end_time": null,
     "exception": null,
     "start_time": null,
     "status": "completed"
    },
    "tags": []
   },
   "outputs": [],
   "source": [
    "!$kgtk compact --presorted -i $TEMP/P279star.2.tsv.gz -o $TEMP/P279star.3.tsv.gz"
   ]
  },
  {
   "cell_type": "markdown",
   "id": "77872963",
   "metadata": {
    "papermill": {
     "duration": null,
     "end_time": null,
     "exception": null,
     "start_time": null,
     "status": "completed"
    },
    "tags": []
   },
   "source": [
    "Add ids"
   ]
  },
  {
   "cell_type": "code",
   "execution_count": 33,
   "id": "cab44fab",
   "metadata": {
    "papermill": {
     "duration": null,
     "end_time": null,
     "exception": null,
     "start_time": null,
     "status": "completed"
    },
    "tags": []
   },
   "outputs": [],
   "source": [
    "!$kgtk add-id --id-style wikidata -i $TEMP/P279star.3.tsv.gz -o $OUT/derived.P279star.tsv.gz"
   ]
  },
  {
   "cell_type": "code",
   "execution_count": 34,
   "id": "05dade36",
   "metadata": {
    "papermill": {
     "duration": null,
     "end_time": null,
     "exception": null,
     "start_time": null,
     "status": "completed"
    },
    "tags": []
   },
   "outputs": [
    {
     "name": "stdout",
     "output_type": "stream",
     "text": [
      "node1\tlabel\tnode2\tid\r\n",
      "Q100000030\tP279star\tQ100000030\tQ100000030-P279star-Q100000030-0000\r\n",
      "Q100000030\tP279star\tQ1357761\tQ100000030-P279star-Q1357761-0000\r\n",
      "Q100000030\tP279star\tQ14745\tQ100000030-P279star-Q14745-0000\r\n",
      "Q100000030\tP279star\tQ14748\tQ100000030-P279star-Q14748-0000\r\n",
      "Q100000030\tP279star\tQ15401930\tQ100000030-P279star-Q15401930-0000\r\n",
      "Q100000030\tP279star\tQ15621286\tQ100000030-P279star-Q15621286-0000\r\n",
      "Q100000030\tP279star\tQ16686448\tQ100000030-P279star-Q16686448-0000\r\n",
      "Q100000030\tP279star\tQ17537576\tQ100000030-P279star-Q17537576-0000\r\n",
      "Q100000030\tP279star\tQ223557 Q100000030-P279star-Q223557-0000\r\n",
      "\r\n",
      "gzip: stdout: Broken pipe\r\n"
     ]
    }
   ],
   "source": [
    "!zcat < $OUT/derived.P279star.tsv.gz | head | col"
   ]
  },
  {
   "cell_type": "markdown",
   "id": "fd22c216",
   "metadata": {
    "papermill": {
     "duration": null,
     "end_time": null,
     "exception": null,
     "start_time": null,
     "status": "completed"
    },
    "tags": []
   },
   "source": [
    "This is how we would do the typical `?item P31/P279* ?class` in Kypher. \n",
    "The example shows how to get all the counts of instances of subclasses of city (Q515)."
   ]
  },
  {
   "cell_type": "code",
   "execution_count": 35,
   "id": "939778af",
   "metadata": {
    "papermill": {
     "duration": null,
     "end_time": null,
     "exception": null,
     "start_time": null,
     "status": "completed"
    },
    "tags": []
   },
   "outputs": [
    {
     "name": "stdout",
     "output_type": "stream",
     "text": [
      "[2021-04-19 14:46:22 sqlstore]: IMPORT graph directly into table graph_8 from /data/hrathod/output/subset/novartis/useful_files/derived.P279star.tsv.gz ...\n",
      "[2021-04-19 14:52:03 sqlstore]: IMPORT graph directly into table graph_9 from /data/hrathod/output/subset/novartis/parts/labels.en.tsv.gz ...\n",
      "[2021-04-19 14:52:52 query]: SQL Translation:\n",
      "---------------------------------------------\n",
      "  SELECT DISTINCT graph_6_c1.\"node2\" \"_aLias.class\", count(graph_6_c1.\"node2\") \"_aLias.count\", graph_9_c4.\"node2\" \"_aLias.class name\", graph_6_c1.\"node1\" \"_aLias.instance\", graph_9_c3.\"node2\" \"_aLias.label\"\n",
      "     FROM graph_6 AS graph_6_c1, graph_8 AS graph_8_c2, graph_9 AS graph_9_c3, graph_9 AS graph_9_c4\n",
      "     WHERE graph_6_c1.\"label\"=?\n",
      "     AND graph_8_c2.\"node2\"=?\n",
      "     AND graph_9_c3.\"label\"=?\n",
      "     AND graph_9_c4.\"label\"=?\n",
      "     AND graph_6_c1.\"node1\"=graph_9_c3.\"node1\"\n",
      "     AND graph_6_c1.\"node2\"=graph_8_c2.\"node1\"\n",
      "     AND graph_8_c2.\"node1\"=graph_9_c4.\"node1\"\n",
      "     GROUP BY \"_aLias.class\"\n",
      "     ORDER BY count(graph_6_c1.\"node2\") DESC, graph_6_c1.\"node2\" ASC, graph_6_c1.\"node1\" ASC\n",
      "     LIMIT ?\n",
      "  PARAS: ['P31', 'Q515', 'label', 'label', 10]\n",
      "---------------------------------------------\n",
      "[2021-04-19 14:52:52 sqlstore]: CREATE INDEX on table graph_8 column node2 ...\n",
      "[2021-04-19 14:57:48 sqlstore]: ANALYZE INDEX on table graph_8 column node2 ...\n",
      "[2021-04-19 14:57:54 sqlstore]: CREATE INDEX on table graph_8 column node1 ...\n",
      "[2021-04-19 15:02:14 sqlstore]: ANALYZE INDEX on table graph_8 column node1 ...\n",
      "[2021-04-19 15:02:20 sqlstore]: CREATE INDEX on table graph_9 column node1 ...\n",
      "[2021-04-19 15:02:43 sqlstore]: ANALYZE INDEX on table graph_9 column node1 ...\n",
      "[2021-04-19 15:02:45 sqlstore]: CREATE INDEX on table graph_9 column label ...\n",
      "[2021-04-19 15:02:58 sqlstore]: ANALYZE INDEX on table graph_9 column label ...\n",
      "[2021-04-19 15:03:00 sqlstore]: CREATE INDEX on table graph_6 column label ...\n",
      "[2021-04-19 15:04:43 sqlstore]: ANALYZE INDEX on table graph_6 column label ...\n",
      "[2021-04-19 15:05:07 sqlstore]: CREATE INDEX on table graph_6 column node1 ...\n",
      "[2021-04-19 15:07:17 sqlstore]: ANALYZE INDEX on table graph_6 column node1 ...\n",
      "[2021-04-19 15:07:21 sqlstore]: CREATE INDEX on table graph_6 column node2 ...\n",
      "[2021-04-19 15:07:48 sqlstore]: ANALYZE INDEX on table graph_6 column node2 ...\n",
      "class\tcount\tclass name\tinstance\tlabel\n"
     ]
    }
   ],
   "source": [
    "!$kypher -i $OUT/derived.P31.tsv.gz -i $OUT/derived.P279star.tsv.gz -i \"$LABELS\" \\\n",
    "--match 'P31: (n1)-[:P31]->(c), P279star: (c)-[]->(:Q515), label: (n1)-[:label]->(label), label: (c)-[:label]->(c_label)' \\\n",
    "--return 'distinct c as class, count(c) as count, c_label as `class name`, n1 as instance, label as `label`' \\\n",
    "--order-by 'count(c) desc, c, n1' \\\n",
    "--limit 10 \\\n",
    "| col"
   ]
  },
  {
   "cell_type": "markdown",
   "id": "627166c7",
   "metadata": {
    "papermill": {
     "duration": null,
     "end_time": null,
     "exception": null,
     "start_time": null,
     "status": "completed"
    },
    "tags": []
   },
   "source": [
    "Illustrate that it is indeed `P279*`"
   ]
  },
  {
   "cell_type": "code",
   "execution_count": 36,
   "id": "ba621e07",
   "metadata": {
    "papermill": {
     "duration": null,
     "end_time": null,
     "exception": null,
     "start_time": null,
     "status": "completed"
    },
    "tags": []
   },
   "outputs": [
    {
     "name": "stdout",
     "output_type": "stream",
     "text": [
      "[2021-04-19 15:08:03 query]: SQL Translation:\n",
      "---------------------------------------------\n",
      "  SELECT DISTINCT graph_6_c1.\"node2\" \"_aLias.class\", graph_9_c4.\"node2\" \"_aLias.class name\", graph_9_c3.\"node1\" \"_aLias.instance\", graph_9_c3.\"node2\" \"_aLias.label\"\n",
      "     FROM graph_6 AS graph_6_c1, graph_8 AS graph_8_c2, graph_9 AS graph_9_c3, graph_9 AS graph_9_c4\n",
      "     WHERE graph_6_c1.\"label\"=?\n",
      "     AND graph_8_c2.\"node2\"=?\n",
      "     AND graph_9_c3.\"label\"=?\n",
      "     AND graph_9_c4.\"label\"=?\n",
      "     AND graph_6_c1.\"node1\"=graph_9_c3.\"node1\"\n",
      "     AND graph_6_c1.\"node2\"=graph_8_c2.\"node1\"\n",
      "     AND graph_8_c2.\"node1\"=graph_9_c4.\"node1\"\n",
      "     ORDER BY graph_6_c1.\"node2\" ASC, graph_9_c3.\"node1\" ASC\n",
      "     LIMIT ?\n",
      "  PARAS: ['P31', 'Q63440326', 'label', 'label', 10]\n",
      "---------------------------------------------\n",
      "class\tclass name\tinstance\tlabel\n"
     ]
    }
   ],
   "source": [
    "!$kypher -i $OUT/derived.P31.tsv.gz -i $OUT/derived.P279star.tsv.gz -i \"$LABELS\" \\\n",
    "--match 'P31: (n1)-[:P31]->(c), P279star: (c)-[]->(:Q63440326), label: (n1)-[:label]->(label), label: (c)-[:label]->(c_label)' \\\n",
    "--return 'distinct c as class, c_label as `class name`, n1 as instance, label as `label`' \\\n",
    "--order-by 'c, n1' \\\n",
    "--limit 10 \\\n",
    "| col "
   ]
  },
  {
   "cell_type": "markdown",
   "id": "59bde37f",
   "metadata": {
    "papermill": {
     "duration": null,
     "end_time": null,
     "exception": null,
     "start_time": null,
     "status": "completed"
    },
    "tags": []
   },
   "source": [
    "Test that `P279star` is indeed star"
   ]
  },
  {
   "cell_type": "code",
   "execution_count": 37,
   "id": "3f8e5af7",
   "metadata": {
    "papermill": {
     "duration": null,
     "end_time": null,
     "exception": null,
     "start_time": null,
     "status": "completed"
    },
    "tags": []
   },
   "outputs": [
    {
     "name": "stdout",
     "output_type": "stream",
     "text": [
      "[2021-04-19 15:08:04 query]: SQL Translation:\n",
      "---------------------------------------------\n",
      "  SELECT *\n",
      "     FROM graph_8 AS graph_8_c1\n",
      "     WHERE graph_8_c1.\"label\"=?\n",
      "     AND graph_8_c1.\"node1\"=?\n",
      "     AND graph_8_c1.\"node2\"=?\n",
      "  PARAS: ['P279star', 'Q44', 'Q44']\n",
      "---------------------------------------------\n",
      "[2021-04-19 15:08:04 sqlstore]: CREATE INDEX on table graph_8 column label ...\n",
      "[2021-04-19 15:10:44 sqlstore]: ANALYZE INDEX on table graph_8 column label ...\n",
      "node1\tlabel\tnode2\tid\n",
      "Q44\tP279star\tQ44\tQ44-P279star-Q44-0000\n"
     ]
    }
   ],
   "source": [
    "!$kypher -i $OUT/derived.P279star.tsv.gz \\\n",
    "--match '(n1:Q44)-[:P279star]->(n2:Q44)'"
   ]
  },
  {
   "cell_type": "markdown",
   "id": "14963c5a",
   "metadata": {
    "papermill": {
     "duration": null,
     "end_time": null,
     "exception": null,
     "start_time": null,
     "status": "completed"
    },
    "tags": []
   },
   "source": [
    "### Create a file to do generalized Is-A queries\n",
    "The idea is that `(n1)-[:isa]->(n2)` when `(n1)-[:P31]->(n2)` or `(n1)-[:P279]->(n2)`\n",
    "\n",
    "We do this by concatenating the files and renaming the relation"
   ]
  },
  {
   "cell_type": "code",
   "execution_count": 38,
   "id": "c0bf771b",
   "metadata": {
    "papermill": {
     "duration": null,
     "end_time": null,
     "exception": null,
     "start_time": null,
     "status": "completed"
    },
    "tags": []
   },
   "outputs": [],
   "source": [
    "!$kgtk cat -i $OUT/derived.P31.tsv.gz $OUT/derived.P279.tsv.gz \\\n",
    "-o $TEMP/isa.1.tsv.gz"
   ]
  },
  {
   "cell_type": "code",
   "execution_count": 39,
   "id": "8ec5e984",
   "metadata": {
    "papermill": {
     "duration": null,
     "end_time": null,
     "exception": null,
     "start_time": null,
     "status": "completed"
    },
    "tags": []
   },
   "outputs": [
    {
     "name": "stdout",
     "output_type": "stream",
     "text": [
      "[2021-04-19 15:39:25 sqlstore]: IMPORT graph directly into table graph_10 from /data/hrathod/output/subset/novartis/temp.useful_files/isa.1.tsv.gz ...\n",
      "[2021-04-19 15:42:53 query]: SQL Translation:\n",
      "---------------------------------------------\n",
      "  SELECT graph_10_c1.\"node1\", ? \"_aLias.label\", graph_10_c1.\"node2\"\n",
      "     FROM graph_10 AS graph_10_c1\n",
      "  PARAS: ['isa']\n",
      "---------------------------------------------\n"
     ]
    }
   ],
   "source": [
    "!$kypher -i $TEMP/isa.1.tsv.gz -o $OUT/derived.isa.tsv.gz \\\n",
    "--match '(n1)-[]->(n2)' \\\n",
    "--return 'n1, \"isa\" as label, n2' "
   ]
  },
  {
   "cell_type": "markdown",
   "id": "5698f129",
   "metadata": {
    "papermill": {
     "duration": null,
     "end_time": null,
     "exception": null,
     "start_time": null,
     "status": "completed"
    },
    "tags": []
   },
   "source": [
    "Example of how to use the `isa` relation"
   ]
  },
  {
   "cell_type": "code",
   "execution_count": 40,
   "id": "0934d5d5",
   "metadata": {
    "papermill": {
     "duration": null,
     "end_time": null,
     "exception": null,
     "start_time": null,
     "status": "completed"
    },
    "tags": []
   },
   "outputs": [
    {
     "name": "stdout",
     "output_type": "stream",
     "text": [
      "[2021-04-19 15:49:17 sqlstore]: IMPORT graph directly into table graph_11 from /data/hrathod/output/subset/novartis/useful_files/derived.isa.tsv.gz ...\n",
      "[2021-04-19 15:49:49 query]: SQL Translation:\n",
      "---------------------------------------------\n",
      "  SELECT DISTINCT graph_9_c3.\"node1\", graph_11_c1.\"label\", ? \"_aLias.node2\", graph_9_c3.\"node2\" \"_aLias.n1_label\"\n",
      "     FROM graph_11 AS graph_11_c1, graph_8 AS graph_8_c2, graph_9 AS graph_9_c3\n",
      "     WHERE graph_11_c1.\"label\"=?\n",
      "     AND graph_8_c2.\"node2\"=?\n",
      "     AND graph_9_c3.\"label\"=?\n",
      "     AND graph_11_c1.\"node1\"=graph_9_c3.\"node1\"\n",
      "     AND graph_11_c1.\"node2\"=graph_8_c2.\"node1\"\n",
      "     LIMIT ?\n",
      "  PARAS: ['Q44', 'isa', 'Q44', 'label', 10]\n",
      "---------------------------------------------\n",
      "[2021-04-19 15:49:49 sqlstore]: CREATE INDEX on table graph_11 column label ...\n",
      "[2021-04-19 15:50:26 sqlstore]: ANALYZE INDEX on table graph_11 column label ...\n",
      "[2021-04-19 15:50:45 sqlstore]: CREATE INDEX on table graph_11 column node2 ...\n",
      "[2021-04-19 15:54:09 sqlstore]: ANALYZE INDEX on table graph_11 column node2 ...\n",
      "[2021-04-19 15:54:12 sqlstore]: CREATE INDEX on table graph_11 column node1 ...\n",
      "[2021-04-19 15:54:32 sqlstore]: ANALYZE INDEX on table graph_11 column node1 ...\n",
      "node1\tlabel\tnode2\tn1_label\n",
      "Q103351397\tisa\tQ44\t'Milkshake India Pale Ale'@en\n",
      "Q15875298\tisa\tQ44\t'Floreffe'@en\n",
      "Q1917255\tisa\tQ44\t'St-Idesbald'@en\n",
      "Q2004062\tisa\tQ44\t'Sancti Adalberti'@en\n",
      "Q2006077\tisa\tQ44\t'Abbaye de Bonne-Espérance'@en\n",
      "Q2272636\tisa\tQ44\t'Ename beer'@en\n",
      "Q2290730\tisa\tQ44\t'Ter Dolen (beer)'@en\n",
      "Q3625571\tisa\tQ44\t'Herkenrode Tripel'@en\n",
      "Q505815 isa\tQ44\t'Trappist beer'@en\n",
      "Q747216 isa\tQ44\t'Bornem'@en\n"
     ]
    }
   ],
   "source": [
    "!$kypher -i $OUT/derived.isa.tsv.gz -i $OUT/derived.P279star.tsv.gz -i \"$LABELS\" -o - \\\n",
    "--match 'isa: (n1)-[l:isa]->(c), P279star: (c)-[]->(:Q44), label: (n1)-[:label]->(label)' \\\n",
    "--return 'distinct n1, l.label, \"Q44\" as node2, label as n1_label' \\\n",
    "--limit 10 \\\n",
    "| col"
   ]
  },
  {
   "cell_type": "markdown",
   "id": "f8be599e",
   "metadata": {
    "papermill": {
     "duration": null,
     "end_time": null,
     "exception": null,
     "start_time": null,
     "status": "completed"
    },
    "tags": []
   },
   "source": [
    "### Create files with `isa/P279* and P31/P279*` \n",
    "This file is useful to find all nodes that are below a q-node via P279 or isa.\n",
    "\n",
    "> These files are very large and take many hours to compute"
   ]
  },
  {
   "cell_type": "code",
   "execution_count": 42,
   "id": "fb377edd",
   "metadata": {
    "papermill": {
     "duration": null,
     "end_time": null,
     "exception": null,
     "start_time": null,
     "status": "completed"
    },
    "tags": []
   },
   "outputs": [],
   "source": [
    "os.environ['P279STAR'] = f\"{os.environ['OUT']}/derived.P279star.tsv.gz\"\n",
    "os.environ['ISA'] = f\"{os.environ['OUT']}/derived.isa.tsv.gz\""
   ]
  },
  {
   "cell_type": "code",
   "execution_count": 43,
   "id": "b00554a7",
   "metadata": {
    "papermill": {
     "duration": null,
     "end_time": null,
     "exception": null,
     "start_time": null,
     "status": "completed"
    },
    "tags": []
   },
   "outputs": [
    {
     "name": "stdout",
     "output_type": "stream",
     "text": [
      "-rw-r--r-- 1 hrathod div22 6197025530 Apr 19 00:38 /data/hrathod/output/subset/novartis/parts/claims.tsv.gz\n",
      "-rw-r--r-- 1 hrathod div22 500895934 Apr 19 14:45 /data/hrathod/output/subset/novartis/useful_files/derived.P279star.tsv.gz\n",
      "-rw-r--r-- 1 hrathod div22 113117957 Apr 19 15:49 /data/hrathod/output/subset/novartis/useful_files/derived.isa.tsv.gz\n"
     ]
    }
   ],
   "source": [
    "!ls -l $CLAIMS\n",
    "!ls -l $P279STAR\n",
    "!ls -l $ISA"
   ]
  },
  {
   "cell_type": "code",
   "execution_count": 44,
   "id": "eafce951",
   "metadata": {
    "papermill": {
     "duration": null,
     "end_time": null,
     "exception": null,
     "start_time": null,
     "status": "completed"
    },
    "tags": []
   },
   "outputs": [
    {
     "name": "stdout",
     "output_type": "stream",
     "text": [
      "[2021-04-19 16:04:40 query]: SQL Translation:\r\n",
      "---------------------------------------------\r\n",
      "  SELECT DISTINCT graph_11_c1.\"node1\" \"_aLias.node1\", ? \"_aLias.label\", graph_8_c2.\"node2\" \"_aLias.node2\"\r\n",
      "     FROM graph_11 AS graph_11_c1, graph_8 AS graph_8_c2\r\n",
      "     WHERE graph_11_c1.\"node2\"=graph_8_c2.\"node1\"\r\n",
      "  PARAS: ['isa_star']\r\n",
      "---------------------------------------------\r\n"
     ]
    }
   ],
   "source": [
    "!$kypher -i \"$P279STAR\" -i \"$ISA\"  \\\n",
    "--match '\\\n",
    "  isa: (n1)-[]->(n2), \\\n",
    "  P279star: (n2)-[]->(n3)' \\\n",
    "--return 'distinct n1 as node1, \"isa_star\" as label, n3 as node2' \\\n",
    "-o \"$TEMP\"/derived.isastar_1.tsv.gz"
   ]
  },
  {
   "cell_type": "markdown",
   "id": "ed2032b6",
   "metadata": {
    "papermill": {
     "duration": null,
     "end_time": null,
     "exception": null,
     "start_time": null,
     "status": "completed"
    },
    "tags": []
   },
   "source": [
    "Now add ids and sort it"
   ]
  },
  {
   "cell_type": "code",
   "execution_count": 57,
   "id": "a74c3701",
   "metadata": {
    "papermill": {
     "duration": null,
     "end_time": null,
     "exception": null,
     "start_time": null,
     "status": "completed"
    },
    "tags": []
   },
   "outputs": [],
   "source": [
    "!$kgtk add-id --id-style wikidata -i \"$TEMP\"/derived.isastar_1.tsv.gz \\\n",
    "/ sort -o \"$OUT\"/derived.isastar.tsv.gz"
   ]
  },
  {
   "cell_type": "markdown",
   "id": "82585578",
   "metadata": {
    "papermill": {
     "duration": null,
     "end_time": null,
     "exception": null,
     "start_time": null,
     "status": "completed"
    },
    "tags": []
   },
   "source": [
    "It is very big"
   ]
  },
  {
   "cell_type": "code",
   "execution_count": 58,
   "id": "0d10d84e",
   "metadata": {
    "papermill": {
     "duration": null,
     "end_time": null,
     "exception": null,
     "start_time": null,
     "status": "completed"
    },
    "tags": []
   },
   "outputs": [
    {
     "name": "stdout",
     "output_type": "stream",
     "text": [
      "1124675882 4498703528 62256821797\r\n"
     ]
    }
   ],
   "source": [
    "!zcat < \"$OUT\"/derived.isastar.tsv.gz | wc"
   ]
  },
  {
   "cell_type": "markdown",
   "id": "92025d45",
   "metadata": {
    "papermill": {
     "duration": null,
     "end_time": null,
     "exception": null,
     "start_time": null,
     "status": "completed"
    },
    "tags": []
   },
   "source": [
    "Also calculate the same file by for P31/P279*"
   ]
  },
  {
   "cell_type": "code",
   "execution_count": 59,
   "id": "05fff7e0",
   "metadata": {
    "papermill": {
     "duration": null,
     "end_time": null,
     "exception": null,
     "start_time": null,
     "status": "completed"
    },
    "tags": []
   },
   "outputs": [
    {
     "name": "stdout",
     "output_type": "stream",
     "text": [
      "[2021-04-20 04:01:17 query]: SQL Translation:\r\n",
      "---------------------------------------------\r\n",
      "  SELECT DISTINCT graph_1_c1.\"node1\" \"_aLias.node1\", ? \"_aLias.label\", graph_8_c2.\"node2\" \"_aLias.node2\"\r\n",
      "     FROM graph_1 AS graph_1_c1, graph_8 AS graph_8_c2\r\n",
      "     WHERE graph_1_c1.\"label\"=?\r\n",
      "     AND graph_1_c1.\"node2\"=graph_8_c2.\"node1\"\r\n",
      "  PARAS: ['P31P279star', 'P31']\r\n",
      "---------------------------------------------\r\n"
     ]
    }
   ],
   "source": [
    "!$kypher -i \"$CLAIMS\" -i \"$P279STAR\" \\\n",
    "--match '\\\n",
    "  claims: (n1)-[:P31]->(n2), \\\n",
    "  P279star: (n2)-[]->(n3)' \\\n",
    "--return 'distinct n1 as node1, \"P31P279star\" as label, n3 as node2' \\\n",
    "-o \"$TEMP\"/derived.P31P279star.gz"
   ]
  },
  {
   "cell_type": "markdown",
   "id": "a0e66e5e",
   "metadata": {
    "papermill": {
     "duration": null,
     "end_time": null,
     "exception": null,
     "start_time": null,
     "status": "completed"
    },
    "tags": []
   },
   "source": [
    "Add ids and sort it"
   ]
  },
  {
   "cell_type": "code",
   "execution_count": 60,
   "id": "9f6c62b8",
   "metadata": {
    "papermill": {
     "duration": null,
     "end_time": null,
     "exception": null,
     "start_time": null,
     "status": "completed"
    },
    "tags": []
   },
   "outputs": [],
   "source": [
    "!$kgtk add-id --id-style wikidata -i \"$TEMP\"/derived.P31P279star.gz \\\n",
    "/ sort -o \"$OUT\"/derived.P31P279star.tsv.gz"
   ]
  },
  {
   "cell_type": "markdown",
   "id": "3b8796ae",
   "metadata": {
    "papermill": {
     "duration": null,
     "end_time": null,
     "exception": null,
     "start_time": null,
     "status": "completed"
    },
    "tags": []
   },
   "source": [
    "It is also very big"
   ]
  },
  {
   "cell_type": "code",
   "execution_count": 61,
   "id": "4f3c9429",
   "metadata": {
    "papermill": {
     "duration": null,
     "end_time": null,
     "exception": null,
     "start_time": null,
     "status": "completed"
    },
    "tags": []
   },
   "outputs": [
    {
     "name": "stdout",
     "output_type": "stream",
     "text": [
      "1108414952 4433659808 68009062735\r\n"
     ]
    }
   ],
   "source": [
    "!zcat < \"$OUT\"/derived.P31P279star.tsv.gz | wc"
   ]
  },
  {
   "cell_type": "markdown",
   "id": "c55d38a3",
   "metadata": {
    "papermill": {
     "duration": null,
     "end_time": null,
     "exception": null,
     "start_time": null,
     "status": "completed"
    },
    "tags": []
   },
   "source": [
    "## Compute pagerank"
   ]
  },
  {
   "cell_type": "markdown",
   "id": "d68b02da",
   "metadata": {
    "papermill": {
     "duration": null,
     "end_time": null,
     "exception": null,
     "start_time": null,
     "status": "completed"
    },
    "tags": []
   },
   "source": [
    "Now compute pagerank. These commands will exceed 16GB memory for graphs containing over 25 million nodes."
   ]
  },
  {
   "cell_type": "code",
   "execution_count": 62,
   "id": "d9f35d86",
   "metadata": {
    "papermill": {
     "duration": null,
     "end_time": null,
     "exception": null,
     "start_time": null,
     "status": "completed"
    },
    "tags": []
   },
   "outputs": [],
   "source": [
    "if compute_pagerank:\n",
    "    !$kgtk graph-statistics -i \"$ITEMS\" -o $OUT/metadata.pagerank.directed.tsv.gz \\\n",
    "    --page-rank-property directed_pagerank \\\n",
    "    --pagerank --statistics-only \\\n",
    "    --log $TEMP/metadata.pagerank.directed.summary.txt "
   ]
  },
  {
   "cell_type": "code",
   "execution_count": 63,
   "id": "bc489f62",
   "metadata": {
    "papermill": {
     "duration": null,
     "end_time": null,
     "exception": null,
     "start_time": null,
     "status": "completed"
    },
    "tags": []
   },
   "outputs": [
    {
     "name": "stdout",
     "output_type": "stream",
     "text": [
      "graph loaded! It has 32514811 nodes and 110244593 edges\r\n",
      "\r\n",
      "###Top relations:\r\n",
      "P31\t32677573\r\n",
      "P6259\t7999222\r\n",
      "P59\t7350430\r\n",
      "P17\t4867690\r\n",
      "P684\t4314512\r\n",
      "P361\t3216946\r\n",
      "P703\t3060841\r\n",
      "P279\t2929865\r\n",
      "P171\t2901186\r\n",
      "P105\t2889571\r\n",
      "\r\n",
      "###PageRank\r\n",
      "Max pageranks\r\n",
      "3175\tQ4167836\t0.034585\r\n",
      "82461\tQ1264450\t0.011703\r\n",
      "340636\tQ35252665\t0.009475\r\n",
      "1958\tQ11266439\t0.008330\r\n",
      "577016\tQ17442446\t0.008110\r\n"
     ]
    }
   ],
   "source": [
    "if compute_pagerank:\n",
    "    !cat $TEMP/metadata.pagerank.directed.summary.txt"
   ]
  },
  {
   "cell_type": "code",
   "execution_count": 64,
   "id": "df223fc3",
   "metadata": {
    "papermill": {
     "duration": null,
     "end_time": null,
     "exception": null,
     "start_time": null,
     "status": "completed"
    },
    "tags": []
   },
   "outputs": [],
   "source": [
    "if compute_pagerank:\n",
    "    !$kgtk graph-statistics -i \"$ITEMS\" -o $OUT/metadata.pagerank.undirected.tsv.gz \\\n",
    "    --page-rank-property undirected_pagerank \\\n",
    "    --pagerank --statistics-only --undirected \\\n",
    "    --log $TEMP/metadata.pagerank.undirected.summary.txt "
   ]
  },
  {
   "cell_type": "markdown",
   "id": "b5dc202d",
   "metadata": {},
   "source": [
    "Taking a look at the created file"
   ]
  },
  {
   "cell_type": "code",
   "execution_count": 65,
   "id": "ca480399",
   "metadata": {
    "papermill": {
     "duration": null,
     "end_time": null,
     "exception": null,
     "start_time": null,
     "status": "completed"
    },
    "tags": []
   },
   "outputs": [
    {
     "name": "stdout",
     "output_type": "stream",
     "text": [
      "graph loaded! It has 32514811 nodes and 110244593 edges\r\n",
      "\r\n",
      "###Top relations:\r\n",
      "P31\t32677573\r\n",
      "P6259\t7999222\r\n",
      "P59\t7350430\r\n",
      "P17\t4867690\r\n",
      "P684\t4314512\r\n",
      "P361\t3216946\r\n",
      "P703\t3060841\r\n",
      "P279\t2929865\r\n",
      "P171\t2901186\r\n",
      "P105\t2889571\r\n",
      "\r\n",
      "###PageRank\r\n",
      "Max pageranks\r\n",
      "82461\tQ1264450\t0.038235\r\n",
      "3175\tQ4167836\t0.035878\r\n",
      "7448\tQ4167410\t0.016248\r\n",
      "14223\tQ523\t0.015989\r\n",
      "6893\tQ11173\t0.013249\r\n"
     ]
    }
   ],
   "source": [
    "if compute_pagerank:\n",
    "    !cat $TEMP/metadata.pagerank.undirected.summary.txt "
   ]
  },
  {
   "cell_type": "markdown",
   "id": "234c4740",
   "metadata": {
    "papermill": {
     "duration": null,
     "end_time": null,
     "exception": null,
     "start_time": null,
     "status": "completed"
    },
    "tags": []
   },
   "source": [
    "## Compute Degrees"
   ]
  },
  {
   "cell_type": "markdown",
   "id": "d97e289f",
   "metadata": {
    "papermill": {
     "duration": null,
     "end_time": null,
     "exception": null,
     "start_time": null,
     "status": "completed"
    },
    "tags": []
   },
   "source": [
    "Kypher can compute the out degree by counting the node2s for each node1"
   ]
  },
  {
   "cell_type": "code",
   "execution_count": 66,
   "id": "f3199c67",
   "metadata": {
    "papermill": {
     "duration": null,
     "end_time": null,
     "exception": null,
     "start_time": null,
     "status": "completed"
    },
    "tags": []
   },
   "outputs": [
    {
     "name": "stdout",
     "output_type": "stream",
     "text": [
      "[2021-04-20 11:51:49 query]: SQL Translation:\r\n",
      "---------------------------------------------\r\n",
      "  SELECT DISTINCT graph_1_c1.\"node1\" \"_aLias.node1\", count(DISTINCT graph_1_c1.\"id\") \"_aLias.node2\", ? \"_aLias.label\"\r\n",
      "     FROM graph_1 AS graph_1_c1\r\n",
      "     GROUP BY \"_aLias.node1\"\r\n",
      "  PARAS: ['out_degree']\r\n",
      "---------------------------------------------\r\n"
     ]
    }
   ],
   "source": [
    "!$kypher -i \"$CLAIMS\" -o $TEMP/metadata.out_degree.tsv.gz \\\n",
    "--match '(n1)-[l]->()' \\\n",
    "--return 'distinct n1 as node1, count(distinct l) as node2, \"out_degree\" as label' "
   ]
  },
  {
   "cell_type": "code",
   "execution_count": 67,
   "id": "a81a9f1f",
   "metadata": {
    "papermill": {
     "duration": null,
     "end_time": null,
     "exception": null,
     "start_time": null,
     "status": "completed"
    },
    "tags": []
   },
   "outputs": [],
   "source": [
    "!$kgtk add-id --id-style wikidata -i $TEMP/metadata.out_degree.tsv.gz \\\n",
    "/ sort -o $OUT/metadata.out_degree.tsv.gz"
   ]
  },
  {
   "cell_type": "code",
   "execution_count": 20,
   "id": "b5fed13a",
   "metadata": {},
   "outputs": [
    {
     "name": "stdout",
     "output_type": "stream",
     "text": [
      "node1\tnode2\tlabel\tid\r\n",
      "P10\t17\tout_degree\tP10-out_degree-452354\r\n",
      "P1000\t8\tout_degree\tP1000-out_degree-2c6242\r\n",
      "P1001\t28\tout_degree\tP1001-out_degree-59e197\r\n",
      "P1002\t9\tout_degree\tP1002-out_degree-19581e\r\n",
      "P1003\t18\tout_degree\tP1003-out_degree-4ec959\r\n",
      "P1004\t33\tout_degree\tP1004-out_degree-c6f3ac\r\n",
      "P1005\t22\tout_degree\tP1005-out_degree-785f3e\r\n",
      "P1006\t25\tout_degree\tP1006-out_degree-b7a568\r\n",
      "P1007\t18\tout_degree\tP1007-out_degree-4ec959\r\n",
      "\r\n",
      "gzip: stdout: Broken pipe\r\n"
     ]
    }
   ],
   "source": [
    "!zcat < $OUT/metadata.out_degree.tsv.gz | head"
   ]
  },
  {
   "cell_type": "markdown",
   "id": "6b03cb38",
   "metadata": {
    "papermill": {
     "duration": null,
     "end_time": null,
     "exception": null,
     "start_time": null,
     "status": "completed"
    },
    "tags": []
   },
   "source": [
    "To count the in-degree we only care when the node2 is a wikibase-item"
   ]
  },
  {
   "cell_type": "code",
   "execution_count": 11,
   "id": "720a48b5",
   "metadata": {
    "papermill": {
     "duration": null,
     "end_time": null,
     "exception": null,
     "start_time": null,
     "status": "completed"
    },
    "tags": []
   },
   "outputs": [
    {
     "name": "stdout",
     "output_type": "stream",
     "text": [
      "[2021-04-22 12:25:04 query]: SQL Translation:\r\n",
      "---------------------------------------------\r\n",
      "  SELECT DISTINCT graph_1_c1.\"node2\" \"_aLias.node1\", count(DISTINCT graph_1_c1.\"id\") \"_aLias.node2\", ? \"_aLias.label\"\r\n",
      "     FROM graph_1 AS graph_1_c1\r\n",
      "     WHERE graph_1_c1.\"node2;wikidatatype\"=?\r\n",
      "     GROUP BY \"_aLias.node1\"\r\n",
      "     ORDER BY graph_1_c1.\"node2\" ASC\r\n",
      "  PARAS: ['in_degree', 'wikibase-item']\r\n",
      "---------------------------------------------\r\n"
     ]
    }
   ],
   "source": [
    "# BUG in kypher, sometimes the following command will not work, as in we'll see multilple rows for a Qnode, which is\n",
    "# fixable by deleting cache\n",
    "!$kypher -i \"$CLAIMS\" -o $TEMP/metadata.in_degree_1.tsv.gz \\\n",
    "--match '()-[l]->(n2 {`wikidatatype`:\"wikibase-item\"})' \\\n",
    "--return 'distinct n2 as node1, count(distinct l) as node2, \"in_degree\" as label' \\\n",
    "--order-by 'n2'"
   ]
  },
  {
   "cell_type": "markdown",
   "id": "568cb424",
   "metadata": {},
   "source": [
    "The above query calculates only for indegree greater than or equal to one. Because some of the q-nodes do not appear in node 2 at all. These are the nodes that have indegree as 0 and are present in the claims file but do not appear in the above generated file.  \n",
    "Hence, we filter on node1 to get a list of q-nodes that have indegree 0."
   ]
  },
  {
   "cell_type": "code",
   "execution_count": 12,
   "id": "927b095b",
   "metadata": {},
   "outputs": [],
   "source": [
    "\n",
    "!kgtk ifnotexists --input-file \"$CLAIMS\" \\\n",
    "--filter-on $TEMP/metadata.in_degree_1.tsv.gz\\\n",
    "--input-keys node1 \\\n",
    "--filter-keys node1 \\\n",
    "-o $TEMP/indegree.zero_1.tsv.gz"
   ]
  },
  {
   "cell_type": "code",
   "execution_count": 13,
   "id": "b99a91d4",
   "metadata": {},
   "outputs": [
    {
     "name": "stdout",
     "output_type": "stream",
     "text": [
      "id\tnode1\tlabel\tnode2\tnode2;wikidatatype\trank\r\n",
      "P10-P1628-32b85d-7927ece6-0\tP10\tP1628\t\"http://www.w3.org/2006/vcard/ns#Video\"\turl\tnormal\r\n",
      "P10-P1628-acf60d-b8950832-0\tP10\tP1628\t\"https://schema.org/video\"\turl\tnormal\r\n",
      "P10-P1629-Q34508-bcc39400-0\tP10\tP1629\tQ34508\twikibase-item\tnormal\r\n",
      "P10-P1659-P1651-c4068028-0\tP10\tP1659\tP1651\twikibase-property\tnormal\r\n",
      "P10-P1659-P18-5e4b9c4f-0\tP10\tP1659\tP18\twikibase-property\tnormal\r\n",
      "P10-P1659-P4238-d21d1ac0-0\tP10\tP1659\tP4238\twikibase-property\tnormal\r\n",
      "P10-P1659-P51-86aca4c5-0\tP10\tP1659\tP51\twikibase-property\tnormal\r\n",
      "P10-P1855-Q15075950-7eff6d65-0\tP10\tP1855\tQ15075950\twikibase-item\tnormal\r\n",
      "P10-P1855-Q4504-a69d2c73-0\tP10\tP1855\tQ4504\twikibase-item\tnormal\r\n",
      "\r\n",
      "gzip: stdout: Broken pipe\r\n"
     ]
    }
   ],
   "source": [
    "!zcat < $TEMP/indegree.zero_1.tsv.gz | head"
   ]
  },
  {
   "cell_type": "markdown",
   "id": "75fa1a46",
   "metadata": {},
   "source": [
    "Properties are also included. We only care about wikibase items. These are the Q-Nodes. We will also remove duplicates by using distinct."
   ]
  },
  {
   "cell_type": "code",
   "execution_count": 15,
   "id": "03678590",
   "metadata": {},
   "outputs": [
    {
     "name": "stdout",
     "output_type": "stream",
     "text": [
      "[2021-04-22 13:21:09 sqlstore]: IMPORT graph directly into table graph_15 from /data/hrathod/output/subset/novartis/temp.useful_files/indegree.zero_1.tsv.gz ...\n",
      "[2021-04-22 13:28:13 query]: SQL Translation:\n",
      "---------------------------------------------\n",
      "  SELECT DISTINCT graph_15_c1.\"node1\" \"_aLias.node1\", ? \"_aLias.label\", ? \"_aLias.node2\"\n",
      "     FROM graph_15 AS graph_15_c1\n",
      "     WHERE (substr(graph_15_c1.\"node1\", ?, ?) >= ?)\n",
      "  PARAS: ['in_degree', '0', 1, 1, 'Q']\n",
      "---------------------------------------------\n"
     ]
    }
   ],
   "source": [
    "\n",
    "!$kypher -i $TEMP/indegree.zero_1.tsv.gz --match '(n1)-[]->(n2)' \\\n",
    "--where 'substr(n1,1,1) >= \"Q\"'\\\n",
    "-o $TEMP/indegree.zero.tsv.gz \\\n",
    "--return 'distinct n1 as node1, \"in_degree\" as label, \"0\" as node2'"
   ]
  },
  {
   "cell_type": "code",
   "execution_count": 16,
   "id": "f270e31f",
   "metadata": {},
   "outputs": [
    {
     "name": "stdout",
     "output_type": "stream",
     "text": [
      "node1\tlabel\tnode2\r\n",
      "Q10000\tin_degree\t0\r\n",
      "Q1000000\tin_degree\t0\r\n",
      "Q100000003\tin_degree\t0\r\n",
      "Q100000011\tin_degree\t0\r\n",
      "Q100000014\tin_degree\t0\r\n",
      "Q100000021\tin_degree\t0\r\n",
      "Q100000029\tin_degree\t0\r\n",
      "Q100000030\tin_degree\t0\r\n",
      "Q100000033\tin_degree\t0\r\n",
      "\r\n",
      "gzip: stdout: Broken pipe\r\n"
     ]
    }
   ],
   "source": [
    "#Taking a look at the file.\n",
    "!zcat < $TEMP/indegree.zero.tsv.gz | head"
   ]
  },
  {
   "cell_type": "code",
   "execution_count": 17,
   "id": "6504a9c7",
   "metadata": {},
   "outputs": [],
   "source": [
    "#Concatenating the indegree 0 items with other degree items.\n",
    "!kgtk cat -i $TEMP/indegree.zero.tsv.gz $TEMP/metadata.in_degree_1.tsv.gz -o $TEMP/metadata.in_degree.tsv.gz"
   ]
  },
  {
   "cell_type": "code",
   "execution_count": 20,
   "id": "a2c05193",
   "metadata": {
    "papermill": {
     "duration": null,
     "end_time": null,
     "exception": null,
     "start_time": null,
     "status": "completed"
    },
    "tags": []
   },
   "outputs": [],
   "source": [
    "#Adding the ID for the file\n",
    "!$kgtk add-id --id-style wikidata -i $TEMP/metadata.in_degree.tsv.gz \\\n",
    "/ sort -o $OUT/metadata.in_degree.tsv.gz"
   ]
  },
  {
   "cell_type": "code",
   "execution_count": 21,
   "id": "8dde2287",
   "metadata": {
    "papermill": {
     "duration": null,
     "end_time": null,
     "exception": null,
     "start_time": null,
     "status": "completed"
    },
    "tags": []
   },
   "outputs": [
    {
     "name": "stdout",
     "output_type": "stream",
     "text": [
      "node1\tlabel\tnode2\tid\r\n",
      "Q1\tin_degree\t72\tQ1-in_degree-872261\r\n",
      "Q100\tin_degree\t4390\tQ100-in_degree-c3c41d\r\n",
      "Q1000\tin_degree\t1824\tQ1000-in_degree-2ced18\r\n",
      "\r\n",
      "gzip: Q10000\tin_degree\t0\tQ10000-in_degree-5feceb\r\n",
      "Q1000000\tin_degree\t0\tQ1000000-in_degree-5feceb\r\n",
      "stdout: Broken pipe\r\n",
      "Q10000000\tin_degree\t1\tQ10000000-in_degree-6b86b2\r\n",
      "Q100000003\tin_degree\t0\tQ100000003-in_degree-5feceb\r\n",
      "Q100000011\tin_degree\t0\tQ100000011-in_degree-5feceb\r\n",
      "Q100000014\tin_degree\t0\tQ100000014-in_degree-5feceb\r\n"
     ]
    }
   ],
   "source": [
    "!zcat < $OUT/metadata.in_degree.tsv.gz | head | col"
   ]
  },
  {
   "cell_type": "markdown",
   "id": "77818f17",
   "metadata": {
    "papermill": {
     "duration": null,
     "end_time": null,
     "exception": null,
     "start_time": null,
     "status": "completed"
    },
    "tags": []
   },
   "source": [
    "Calculate the distribution so we can make a nice chart"
   ]
  },
  {
   "cell_type": "code",
   "execution_count": 27,
   "id": "d63b17ca",
   "metadata": {
    "papermill": {
     "duration": null,
     "end_time": null,
     "exception": null,
     "start_time": null,
     "status": "completed"
    },
    "tags": []
   },
   "outputs": [
    {
     "name": "stdout",
     "output_type": "stream",
     "text": [
      "[2021-04-21 20:41:03 sqlstore]: IMPORT graph directly into table graph_14 from /data/hrathod/output/subset/novartis/useful_files/metadata.in_degree.tsv.gz ...\n",
      "[2021-04-21 20:41:45 query]: SQL Translation:\n",
      "---------------------------------------------\n",
      "  SELECT DISTINCT graph_14_c1.\"node2\" \"_aLias.in_degree\", count(DISTINCT graph_14_c1.\"node1\") \"_aLias.count\", ? \"_aLias.label\"\n",
      "     FROM graph_14 AS graph_14_c1\n",
      "     GROUP BY \"_aLias.in_degree\"\n",
      "     ORDER BY CAST(graph_14_c1.\"node2\" AS integer) ASC\n",
      "  PARAS: ['count']\n",
      "---------------------------------------------\n"
     ]
    }
   ],
   "source": [
    "!$kypher -i $OUT/metadata.in_degree.tsv.gz -o $OUT/statistics.in_degree.distribution.tsv \\\n",
    "--match '(n1)-[]->(n2)' \\\n",
    "--return 'distinct n2 as in_degree, count(distinct n1) as count, \"count\" as label' \\\n",
    "--order-by 'cast(n2, integer)' "
   ]
  },
  {
   "cell_type": "code",
   "execution_count": 28,
   "id": "9356b8c4",
   "metadata": {
    "papermill": {
     "duration": null,
     "end_time": null,
     "exception": null,
     "start_time": null,
     "status": "completed"
    },
    "tags": []
   },
   "outputs": [
    {
     "name": "stdout",
     "output_type": "stream",
     "text": [
      "in_degree\tcount\tlabel\r\n",
      "0\t26915708\tcount\r\n",
      "1\t3878549 count\r\n",
      "2\t809741\tcount\r\n",
      "3\t384964\tcount\r\n",
      "4\t146345\tcount\r\n",
      "5\t95533\tcount\r\n",
      "6\t66172\tcount\r\n",
      "7\t59216\tcount\r\n",
      "8\t36869\tcount\r\n"
     ]
    }
   ],
   "source": [
    "!head $OUT/statistics.in_degree.distribution.tsv | col"
   ]
  },
  {
   "cell_type": "code",
   "execution_count": 29,
   "id": "4407ad18",
   "metadata": {
    "papermill": {
     "duration": null,
     "end_time": null,
     "exception": null,
     "start_time": null,
     "status": "completed"
    },
    "tags": []
   },
   "outputs": [
    {
     "name": "stdout",
     "output_type": "stream",
     "text": [
      "[2021-04-21 20:42:27 query]: SQL Translation:\r\n",
      "---------------------------------------------\r\n",
      "  SELECT DISTINCT graph_13_c1.\"node2\" \"_aLias.out_degree\", count(DISTINCT graph_13_c1.\"node1\") \"_aLias.count\", ? \"_aLias.label\"\r\n",
      "     FROM graph_13 AS graph_13_c1\r\n",
      "     GROUP BY \"_aLias.out_degree\"\r\n",
      "     ORDER BY CAST(graph_13_c1.\"node2\" AS integer) ASC\r\n",
      "  PARAS: ['count']\r\n",
      "---------------------------------------------\r\n"
     ]
    }
   ],
   "source": [
    "!$kypher -i $OUT/metadata.out_degree.tsv.gz -o $OUT/statistics.out_degree.distribution.tsv \\\n",
    "--match '(n1)-[]->(n2)' \\\n",
    "--return 'distinct n2 as out_degree, count(distinct n1) as count, \"count\" as label' \\\n",
    "--order-by 'cast(n2, integer)' "
   ]
  },
  {
   "cell_type": "markdown",
   "id": "bba560d6",
   "metadata": {
    "papermill": {
     "duration": null,
     "end_time": null,
     "exception": null,
     "start_time": null,
     "status": "completed"
    },
    "tags": []
   },
   "source": [
    "Draw some charts"
   ]
  },
  {
   "cell_type": "code",
   "execution_count": 30,
   "id": "c2f42a11",
   "metadata": {
    "papermill": {
     "duration": null,
     "end_time": null,
     "exception": null,
     "start_time": null,
     "status": "completed"
    },
    "tags": []
   },
   "outputs": [
    {
     "data": {
      "text/html": [
       "\n",
       "<div id=\"altair-viz-0f27067ccd2d4d7fbe205be0e81f480d\"></div>\n",
       "<script type=\"text/javascript\">\n",
       "  (function(spec, embedOpt){\n",
       "    let outputDiv = document.currentScript.previousElementSibling;\n",
       "    if (outputDiv.id !== \"altair-viz-0f27067ccd2d4d7fbe205be0e81f480d\") {\n",
       "      outputDiv = document.getElementById(\"altair-viz-0f27067ccd2d4d7fbe205be0e81f480d\");\n",
       "    }\n",
       "    const paths = {\n",
       "      \"vega\": \"https://cdn.jsdelivr.net/npm//vega@5?noext\",\n",
       "      \"vega-lib\": \"https://cdn.jsdelivr.net/npm//vega-lib?noext\",\n",
       "      \"vega-lite\": \"https://cdn.jsdelivr.net/npm//vega-lite@4.8.1?noext\",\n",
       "      \"vega-embed\": \"https://cdn.jsdelivr.net/npm//vega-embed@6?noext\",\n",
       "    };\n",
       "\n",
       "    function loadScript(lib) {\n",
       "      return new Promise(function(resolve, reject) {\n",
       "        var s = document.createElement('script');\n",
       "        s.src = paths[lib];\n",
       "        s.async = true;\n",
       "        s.onload = () => resolve(paths[lib]);\n",
       "        s.onerror = () => reject(`Error loading script: ${paths[lib]}`);\n",
       "        document.getElementsByTagName(\"head\")[0].appendChild(s);\n",
       "      });\n",
       "    }\n",
       "\n",
       "    function showError(err) {\n",
       "      outputDiv.innerHTML = `<div class=\"error\" style=\"color:red;\">${err}</div>`;\n",
       "      throw err;\n",
       "    }\n",
       "\n",
       "    function displayChart(vegaEmbed) {\n",
       "      vegaEmbed(outputDiv, spec, embedOpt)\n",
       "        .catch(err => showError(`Javascript Error: ${err.message}<br>This usually means there's a typo in your chart specification. See the javascript console for the full traceback.`));\n",
       "    }\n",
       "\n",
       "    if(typeof define === \"function\" && define.amd) {\n",
       "      requirejs.config({paths});\n",
       "      require([\"vega-embed\"], displayChart, err => showError(`Error loading script: ${err.message}`));\n",
       "    } else if (typeof vegaEmbed === \"function\") {\n",
       "      displayChart(vegaEmbed);\n",
       "    } else {\n",
       "      loadScript(\"vega\")\n",
       "        .then(() => loadScript(\"vega-lite\"))\n",
       "        .then(() => loadScript(\"vega-embed\"))\n",
       "        .catch(showError)\n",
       "        .then(() => displayChart(vegaEmbed));\n",
       "    }\n",
       "  })({\"config\": {\"view\": {\"continuousWidth\": 400, \"continuousHeight\": 300}}, \"data\": {\"name\": \"data-0d2a9593bbae18be26b48ea514dfedda\"}, \"mark\": {\"type\": \"circle\", \"size\": 60}, \"encoding\": {\"tooltip\": [{\"type\": \"quantitative\", \"field\": \"in_degree\"}, {\"type\": \"quantitative\", \"field\": \"count\"}], \"x\": {\"type\": \"quantitative\", \"field\": \"in_degree\", \"scale\": {\"type\": \"log\"}}, \"y\": {\"type\": \"quantitative\", \"field\": \"count\", \"scale\": {\"type\": \"log\"}, \"title\": \"count of nodes\"}}, \"selection\": {\"selector001\": {\"type\": \"interval\", \"bind\": \"scales\", \"encodings\": [\"x\", \"y\"]}}, \"title\": \"Distribution of In Degree\", \"$schema\": \"https://vega.github.io/schema/vega-lite/v4.8.1.json\", \"datasets\": {\"data-0d2a9593bbae18be26b48ea514dfedda\": [{\"in_degree\": 0, \"count\": 26915708, \"label\": \"count\"}, {\"in_degree\": 1, \"count\": 3878549, \"label\": \"count\"}, {\"in_degree\": 2, \"count\": 809741, \"label\": \"count\"}, {\"in_degree\": 3, \"count\": 384964, \"label\": \"count\"}, {\"in_degree\": 4, \"count\": 146345, \"label\": \"count\"}, {\"in_degree\": 5, \"count\": 95533, \"label\": \"count\"}, {\"in_degree\": 6, \"count\": 66172, \"label\": \"count\"}, {\"in_degree\": 7, \"count\": 59216, \"label\": \"count\"}, {\"in_degree\": 8, \"count\": 36869, \"label\": \"count\"}, {\"in_degree\": 9, \"count\": 29746, \"label\": \"count\"}, {\"in_degree\": 10, \"count\": 35008, \"label\": \"count\"}, {\"in_degree\": 11, \"count\": 94979, \"label\": \"count\"}, {\"in_degree\": 12, \"count\": 27772, \"label\": \"count\"}, {\"in_degree\": 13, \"count\": 17113, \"label\": \"count\"}, {\"in_degree\": 14, \"count\": 13848, \"label\": \"count\"}, {\"in_degree\": 15, \"count\": 11508, \"label\": \"count\"}, {\"in_degree\": 16, \"count\": 10557, \"label\": \"count\"}, {\"in_degree\": 17, \"count\": 9218, \"label\": \"count\"}, {\"in_degree\": 18, \"count\": 8384, \"label\": \"count\"}, {\"in_degree\": 19, \"count\": 7748, \"label\": \"count\"}, {\"in_degree\": 20, \"count\": 7171, \"label\": \"count\"}, {\"in_degree\": 21, \"count\": 6506, \"label\": \"count\"}, {\"in_degree\": 22, \"count\": 5859, \"label\": \"count\"}, {\"in_degree\": 23, \"count\": 5483, \"label\": \"count\"}, {\"in_degree\": 24, \"count\": 5150, \"label\": \"count\"}, {\"in_degree\": 25, \"count\": 4752, \"label\": \"count\"}, {\"in_degree\": 26, \"count\": 4295, \"label\": \"count\"}, {\"in_degree\": 27, \"count\": 4222, \"label\": \"count\"}, {\"in_degree\": 28, \"count\": 3889, \"label\": \"count\"}, {\"in_degree\": 29, \"count\": 3610, \"label\": \"count\"}, {\"in_degree\": 30, \"count\": 4323, \"label\": \"count\"}, {\"in_degree\": 31, \"count\": 5084, \"label\": \"count\"}, {\"in_degree\": 32, \"count\": 3408, \"label\": \"count\"}, {\"in_degree\": 33, \"count\": 3305, \"label\": \"count\"}, {\"in_degree\": 34, \"count\": 3471, \"label\": \"count\"}, {\"in_degree\": 35, \"count\": 3042, \"label\": \"count\"}, {\"in_degree\": 36, \"count\": 2484, \"label\": \"count\"}, {\"in_degree\": 37, \"count\": 2583, \"label\": \"count\"}, {\"in_degree\": 38, \"count\": 2325, \"label\": \"count\"}, {\"in_degree\": 39, \"count\": 1988, \"label\": \"count\"}, {\"in_degree\": 40, \"count\": 2177, \"label\": \"count\"}, {\"in_degree\": 41, \"count\": 1853, \"label\": \"count\"}, {\"in_degree\": 42, \"count\": 2047, \"label\": \"count\"}, {\"in_degree\": 43, \"count\": 1781, \"label\": \"count\"}, {\"in_degree\": 44, \"count\": 1916, \"label\": \"count\"}, {\"in_degree\": 45, \"count\": 1717, \"label\": \"count\"}, {\"in_degree\": 46, \"count\": 1613, \"label\": \"count\"}, {\"in_degree\": 47, \"count\": 1511, \"label\": \"count\"}, {\"in_degree\": 48, \"count\": 1615, \"label\": \"count\"}, {\"in_degree\": 49, \"count\": 1626, \"label\": \"count\"}, {\"in_degree\": 50, \"count\": 1329, \"label\": \"count\"}, {\"in_degree\": 51, \"count\": 1338, \"label\": \"count\"}, {\"in_degree\": 52, \"count\": 1167, \"label\": \"count\"}, {\"in_degree\": 53, \"count\": 1164, \"label\": \"count\"}, {\"in_degree\": 54, \"count\": 1262, \"label\": \"count\"}, {\"in_degree\": 55, \"count\": 1243, \"label\": \"count\"}, {\"in_degree\": 56, \"count\": 1065, \"label\": \"count\"}, {\"in_degree\": 57, \"count\": 1194, \"label\": \"count\"}, {\"in_degree\": 58, \"count\": 1083, \"label\": \"count\"}, {\"in_degree\": 59, \"count\": 964, \"label\": \"count\"}, {\"in_degree\": 60, \"count\": 1013, \"label\": \"count\"}, {\"in_degree\": 61, \"count\": 964, \"label\": \"count\"}, {\"in_degree\": 62, \"count\": 975, \"label\": \"count\"}, {\"in_degree\": 63, \"count\": 1002, \"label\": \"count\"}, {\"in_degree\": 64, \"count\": 871, \"label\": \"count\"}, {\"in_degree\": 65, \"count\": 902, \"label\": \"count\"}, {\"in_degree\": 66, \"count\": 822, \"label\": \"count\"}, {\"in_degree\": 67, \"count\": 857, \"label\": \"count\"}, {\"in_degree\": 68, \"count\": 746, \"label\": \"count\"}, {\"in_degree\": 69, \"count\": 1002, \"label\": \"count\"}, {\"in_degree\": 70, \"count\": 838, \"label\": \"count\"}, {\"in_degree\": 71, \"count\": 865, \"label\": \"count\"}, {\"in_degree\": 72, \"count\": 646, \"label\": \"count\"}, {\"in_degree\": 73, \"count\": 755, \"label\": \"count\"}, {\"in_degree\": 74, \"count\": 749, \"label\": \"count\"}, {\"in_degree\": 75, \"count\": 622, \"label\": \"count\"}, {\"in_degree\": 76, \"count\": 627, \"label\": \"count\"}, {\"in_degree\": 77, \"count\": 766, \"label\": \"count\"}, {\"in_degree\": 78, \"count\": 627, \"label\": \"count\"}, {\"in_degree\": 79, \"count\": 606, \"label\": \"count\"}, {\"in_degree\": 80, \"count\": 641, \"label\": \"count\"}, {\"in_degree\": 81, \"count\": 533, \"label\": \"count\"}, {\"in_degree\": 82, \"count\": 603, \"label\": \"count\"}, {\"in_degree\": 83, \"count\": 571, \"label\": \"count\"}, {\"in_degree\": 84, \"count\": 449, \"label\": \"count\"}, {\"in_degree\": 85, \"count\": 455, \"label\": \"count\"}, {\"in_degree\": 86, \"count\": 561, \"label\": \"count\"}, {\"in_degree\": 87, \"count\": 459, \"label\": \"count\"}, {\"in_degree\": 88, \"count\": 512, \"label\": \"count\"}, {\"in_degree\": 89, \"count\": 433, \"label\": \"count\"}, {\"in_degree\": 90, \"count\": 427, \"label\": \"count\"}, {\"in_degree\": 91, \"count\": 432, \"label\": \"count\"}, {\"in_degree\": 92, \"count\": 509, \"label\": \"count\"}, {\"in_degree\": 93, \"count\": 469, \"label\": \"count\"}, {\"in_degree\": 94, \"count\": 422, \"label\": \"count\"}, {\"in_degree\": 95, \"count\": 374, \"label\": \"count\"}, {\"in_degree\": 96, \"count\": 583, \"label\": \"count\"}, {\"in_degree\": 97, \"count\": 343, \"label\": \"count\"}, {\"in_degree\": 98, \"count\": 579, \"label\": \"count\"}, {\"in_degree\": 99, \"count\": 378, \"label\": \"count\"}, {\"in_degree\": 100, \"count\": 460, \"label\": \"count\"}, {\"in_degree\": 101, \"count\": 394, \"label\": \"count\"}, {\"in_degree\": 102, \"count\": 349, \"label\": \"count\"}, {\"in_degree\": 103, \"count\": 337, \"label\": \"count\"}, {\"in_degree\": 104, \"count\": 435, \"label\": \"count\"}, {\"in_degree\": 105, \"count\": 536, \"label\": \"count\"}, {\"in_degree\": 106, \"count\": 338, \"label\": \"count\"}, {\"in_degree\": 107, \"count\": 308, \"label\": \"count\"}, {\"in_degree\": 108, \"count\": 339, \"label\": \"count\"}, {\"in_degree\": 109, \"count\": 307, \"label\": \"count\"}, {\"in_degree\": 110, \"count\": 285, \"label\": \"count\"}, {\"in_degree\": 111, \"count\": 412, \"label\": \"count\"}, {\"in_degree\": 112, \"count\": 406, \"label\": \"count\"}, {\"in_degree\": 113, \"count\": 297, \"label\": \"count\"}, {\"in_degree\": 114, \"count\": 306, \"label\": \"count\"}, {\"in_degree\": 115, \"count\": 405, \"label\": \"count\"}, {\"in_degree\": 116, \"count\": 266, \"label\": \"count\"}, {\"in_degree\": 117, \"count\": 269, \"label\": \"count\"}, {\"in_degree\": 118, \"count\": 274, \"label\": \"count\"}, {\"in_degree\": 119, \"count\": 267, \"label\": \"count\"}, {\"in_degree\": 120, \"count\": 413, \"label\": \"count\"}, {\"in_degree\": 121, \"count\": 269, \"label\": \"count\"}, {\"in_degree\": 122, \"count\": 362, \"label\": \"count\"}, {\"in_degree\": 123, \"count\": 381, \"label\": \"count\"}, {\"in_degree\": 124, \"count\": 348, \"label\": \"count\"}, {\"in_degree\": 125, \"count\": 370, \"label\": \"count\"}, {\"in_degree\": 126, \"count\": 337, \"label\": \"count\"}, {\"in_degree\": 127, \"count\": 382, \"label\": \"count\"}, {\"in_degree\": 128, \"count\": 230, \"label\": \"count\"}, {\"in_degree\": 129, \"count\": 248, \"label\": \"count\"}, {\"in_degree\": 130, \"count\": 351, \"label\": \"count\"}, {\"in_degree\": 131, \"count\": 228, \"label\": \"count\"}, {\"in_degree\": 132, \"count\": 207, \"label\": \"count\"}, {\"in_degree\": 133, \"count\": 197, \"label\": \"count\"}, {\"in_degree\": 134, \"count\": 204, \"label\": \"count\"}, {\"in_degree\": 135, \"count\": 182, \"label\": \"count\"}, {\"in_degree\": 136, \"count\": 202, \"label\": \"count\"}, {\"in_degree\": 137, \"count\": 322, \"label\": \"count\"}, {\"in_degree\": 138, \"count\": 171, \"label\": \"count\"}, {\"in_degree\": 139, \"count\": 166, \"label\": \"count\"}, {\"in_degree\": 140, \"count\": 186, \"label\": \"count\"}, {\"in_degree\": 141, \"count\": 312, \"label\": \"count\"}, {\"in_degree\": 142, \"count\": 313, \"label\": \"count\"}, {\"in_degree\": 143, \"count\": 161, \"label\": \"count\"}, {\"in_degree\": 144, \"count\": 167, \"label\": \"count\"}, {\"in_degree\": 145, \"count\": 149, \"label\": \"count\"}, {\"in_degree\": 146, \"count\": 179, \"label\": \"count\"}, {\"in_degree\": 147, \"count\": 163, \"label\": \"count\"}, {\"in_degree\": 148, \"count\": 174, \"label\": \"count\"}, {\"in_degree\": 149, \"count\": 158, \"label\": \"count\"}, {\"in_degree\": 150, \"count\": 161, \"label\": \"count\"}, {\"in_degree\": 151, \"count\": 151, \"label\": \"count\"}, {\"in_degree\": 152, \"count\": 141, \"label\": \"count\"}, {\"in_degree\": 153, \"count\": 446, \"label\": \"count\"}, {\"in_degree\": 154, \"count\": 143, \"label\": \"count\"}, {\"in_degree\": 155, \"count\": 135, \"label\": \"count\"}, {\"in_degree\": 156, \"count\": 142, \"label\": \"count\"}, {\"in_degree\": 157, \"count\": 137, \"label\": \"count\"}, {\"in_degree\": 158, \"count\": 150, \"label\": \"count\"}, {\"in_degree\": 159, \"count\": 130, \"label\": \"count\"}, {\"in_degree\": 160, \"count\": 132, \"label\": \"count\"}, {\"in_degree\": 161, \"count\": 154, \"label\": \"count\"}, {\"in_degree\": 162, \"count\": 147, \"label\": \"count\"}, {\"in_degree\": 163, \"count\": 286, \"label\": \"count\"}, {\"in_degree\": 164, \"count\": 154, \"label\": \"count\"}, {\"in_degree\": 165, \"count\": 120, \"label\": \"count\"}, {\"in_degree\": 166, \"count\": 129, \"label\": \"count\"}, {\"in_degree\": 167, \"count\": 147, \"label\": \"count\"}, {\"in_degree\": 168, \"count\": 288, \"label\": \"count\"}, {\"in_degree\": 169, \"count\": 124, \"label\": \"count\"}, {\"in_degree\": 170, \"count\": 119, \"label\": \"count\"}, {\"in_degree\": 171, \"count\": 116, \"label\": \"count\"}, {\"in_degree\": 172, \"count\": 275, \"label\": \"count\"}, {\"in_degree\": 173, \"count\": 94, \"label\": \"count\"}, {\"in_degree\": 174, \"count\": 92, \"label\": \"count\"}, {\"in_degree\": 175, \"count\": 113, \"label\": \"count\"}, {\"in_degree\": 176, \"count\": 114, \"label\": \"count\"}, {\"in_degree\": 177, \"count\": 111, \"label\": \"count\"}, {\"in_degree\": 178, \"count\": 107, \"label\": \"count\"}, {\"in_degree\": 179, \"count\": 109, \"label\": \"count\"}, {\"in_degree\": 180, \"count\": 102, \"label\": \"count\"}, {\"in_degree\": 181, \"count\": 106, \"label\": \"count\"}, {\"in_degree\": 182, \"count\": 302, \"label\": \"count\"}, {\"in_degree\": 183, \"count\": 117, \"label\": \"count\"}, {\"in_degree\": 184, \"count\": 98, \"label\": \"count\"}, {\"in_degree\": 185, \"count\": 121, \"label\": \"count\"}, {\"in_degree\": 186, \"count\": 98, \"label\": \"count\"}, {\"in_degree\": 187, \"count\": 103, \"label\": \"count\"}, {\"in_degree\": 188, \"count\": 116, \"label\": \"count\"}, {\"in_degree\": 189, \"count\": 83, \"label\": \"count\"}, {\"in_degree\": 190, \"count\": 109, \"label\": \"count\"}, {\"in_degree\": 191, \"count\": 85, \"label\": \"count\"}, {\"in_degree\": 192, \"count\": 112, \"label\": \"count\"}, {\"in_degree\": 193, \"count\": 76, \"label\": \"count\"}, {\"in_degree\": 194, \"count\": 86, \"label\": \"count\"}, {\"in_degree\": 195, \"count\": 99, \"label\": \"count\"}, {\"in_degree\": 196, \"count\": 83, \"label\": \"count\"}, {\"in_degree\": 197, \"count\": 265, \"label\": \"count\"}, {\"in_degree\": 198, \"count\": 87, \"label\": \"count\"}, {\"in_degree\": 199, \"count\": 271, \"label\": \"count\"}, {\"in_degree\": 200, \"count\": 82, \"label\": \"count\"}, {\"in_degree\": 201, \"count\": 76, \"label\": \"count\"}, {\"in_degree\": 202, \"count\": 78, \"label\": \"count\"}, {\"in_degree\": 203, \"count\": 92, \"label\": \"count\"}, {\"in_degree\": 204, \"count\": 89, \"label\": \"count\"}, {\"in_degree\": 205, \"count\": 277, \"label\": \"count\"}, {\"in_degree\": 206, \"count\": 84, \"label\": \"count\"}, {\"in_degree\": 207, \"count\": 82, \"label\": \"count\"}, {\"in_degree\": 208, \"count\": 281, \"label\": \"count\"}, {\"in_degree\": 209, \"count\": 77, \"label\": \"count\"}, {\"in_degree\": 210, \"count\": 72, \"label\": \"count\"}, {\"in_degree\": 211, \"count\": 74, \"label\": \"count\"}, {\"in_degree\": 212, \"count\": 303, \"label\": \"count\"}, {\"in_degree\": 213, \"count\": 87, \"label\": \"count\"}, {\"in_degree\": 214, \"count\": 68, \"label\": \"count\"}, {\"in_degree\": 215, \"count\": 68, \"label\": \"count\"}, {\"in_degree\": 216, \"count\": 64, \"label\": \"count\"}, {\"in_degree\": 217, \"count\": 83, \"label\": \"count\"}, {\"in_degree\": 218, \"count\": 67, \"label\": \"count\"}, {\"in_degree\": 219, \"count\": 64, \"label\": \"count\"}, {\"in_degree\": 220, \"count\": 83, \"label\": \"count\"}, {\"in_degree\": 221, \"count\": 65, \"label\": \"count\"}, {\"in_degree\": 222, \"count\": 63, \"label\": \"count\"}, {\"in_degree\": 223, \"count\": 65, \"label\": \"count\"}, {\"in_degree\": 224, \"count\": 72, \"label\": \"count\"}, {\"in_degree\": 225, \"count\": 74, \"label\": \"count\"}, {\"in_degree\": 226, \"count\": 76, \"label\": \"count\"}, {\"in_degree\": 227, \"count\": 61, \"label\": \"count\"}, {\"in_degree\": 228, \"count\": 293, \"label\": \"count\"}, {\"in_degree\": 229, \"count\": 62, \"label\": \"count\"}, {\"in_degree\": 230, \"count\": 80, \"label\": \"count\"}, {\"in_degree\": 231, \"count\": 65, \"label\": \"count\"}, {\"in_degree\": 232, \"count\": 47, \"label\": \"count\"}, {\"in_degree\": 233, \"count\": 57, \"label\": \"count\"}, {\"in_degree\": 234, \"count\": 58, \"label\": \"count\"}, {\"in_degree\": 235, \"count\": 58, \"label\": \"count\"}, {\"in_degree\": 236, \"count\": 70, \"label\": \"count\"}, {\"in_degree\": 237, \"count\": 534, \"label\": \"count\"}, {\"in_degree\": 238, \"count\": 57, \"label\": \"count\"}, {\"in_degree\": 239, \"count\": 68, \"label\": \"count\"}, {\"in_degree\": 240, \"count\": 74, \"label\": \"count\"}, {\"in_degree\": 241, \"count\": 63, \"label\": \"count\"}, {\"in_degree\": 242, \"count\": 77, \"label\": \"count\"}, {\"in_degree\": 243, \"count\": 56, \"label\": \"count\"}, {\"in_degree\": 244, \"count\": 55, \"label\": \"count\"}, {\"in_degree\": 245, \"count\": 63, \"label\": \"count\"}, {\"in_degree\": 246, \"count\": 63, \"label\": \"count\"}, {\"in_degree\": 247, \"count\": 48, \"label\": \"count\"}, {\"in_degree\": 248, \"count\": 66, \"label\": \"count\"}, {\"in_degree\": 249, \"count\": 62, \"label\": \"count\"}, {\"in_degree\": 250, \"count\": 44, \"label\": \"count\"}, {\"in_degree\": 251, \"count\": 64, \"label\": \"count\"}, {\"in_degree\": 252, \"count\": 53, \"label\": \"count\"}, {\"in_degree\": 253, \"count\": 46, \"label\": \"count\"}, {\"in_degree\": 254, \"count\": 64, \"label\": \"count\"}, {\"in_degree\": 255, \"count\": 47, \"label\": \"count\"}, {\"in_degree\": 256, \"count\": 52, \"label\": \"count\"}, {\"in_degree\": 257, \"count\": 48, \"label\": \"count\"}, {\"in_degree\": 258, \"count\": 50, \"label\": \"count\"}, {\"in_degree\": 259, \"count\": 53, \"label\": \"count\"}, {\"in_degree\": 260, \"count\": 53, \"label\": \"count\"}, {\"in_degree\": 261, \"count\": 57, \"label\": \"count\"}, {\"in_degree\": 262, \"count\": 57, \"label\": \"count\"}, {\"in_degree\": 263, \"count\": 57, \"label\": \"count\"}, {\"in_degree\": 264, \"count\": 56, \"label\": \"count\"}, {\"in_degree\": 265, \"count\": 45, \"label\": \"count\"}, {\"in_degree\": 266, \"count\": 44, \"label\": \"count\"}, {\"in_degree\": 267, \"count\": 49, \"label\": \"count\"}, {\"in_degree\": 268, \"count\": 47, \"label\": \"count\"}, {\"in_degree\": 269, \"count\": 50, \"label\": \"count\"}, {\"in_degree\": 270, \"count\": 35, \"label\": \"count\"}, {\"in_degree\": 271, \"count\": 45, \"label\": \"count\"}, {\"in_degree\": 272, \"count\": 56, \"label\": \"count\"}, {\"in_degree\": 273, \"count\": 45, \"label\": \"count\"}, {\"in_degree\": 274, \"count\": 58, \"label\": \"count\"}, {\"in_degree\": 275, \"count\": 36, \"label\": \"count\"}, {\"in_degree\": 276, \"count\": 56, \"label\": \"count\"}, {\"in_degree\": 277, \"count\": 40, \"label\": \"count\"}, {\"in_degree\": 278, \"count\": 285, \"label\": \"count\"}, {\"in_degree\": 279, \"count\": 337, \"label\": \"count\"}, {\"in_degree\": 280, \"count\": 53, \"label\": \"count\"}, {\"in_degree\": 281, \"count\": 46, \"label\": \"count\"}, {\"in_degree\": 282, \"count\": 320, \"label\": \"count\"}, {\"in_degree\": 283, \"count\": 327, \"label\": \"count\"}, {\"in_degree\": 284, \"count\": 41, \"label\": \"count\"}, {\"in_degree\": 285, \"count\": 39, \"label\": \"count\"}, {\"in_degree\": 286, \"count\": 40, \"label\": \"count\"}, {\"in_degree\": 287, \"count\": 43, \"label\": \"count\"}, {\"in_degree\": 288, \"count\": 35, \"label\": \"count\"}, {\"in_degree\": 289, \"count\": 44, \"label\": \"count\"}, {\"in_degree\": 290, \"count\": 38, \"label\": \"count\"}, {\"in_degree\": 291, \"count\": 41, \"label\": \"count\"}, {\"in_degree\": 292, \"count\": 39, \"label\": \"count\"}, {\"in_degree\": 293, \"count\": 46, \"label\": \"count\"}, {\"in_degree\": 294, \"count\": 35, \"label\": \"count\"}, {\"in_degree\": 295, \"count\": 338, \"label\": \"count\"}, {\"in_degree\": 296, \"count\": 28, \"label\": \"count\"}, {\"in_degree\": 297, \"count\": 47, \"label\": \"count\"}, {\"in_degree\": 298, \"count\": 343, \"label\": \"count\"}, {\"in_degree\": 299, \"count\": 39, \"label\": \"count\"}, {\"in_degree\": 300, \"count\": 38, \"label\": \"count\"}, {\"in_degree\": 301, \"count\": 348, \"label\": \"count\"}, {\"in_degree\": 302, \"count\": 42, \"label\": \"count\"}, {\"in_degree\": 303, \"count\": 36, \"label\": \"count\"}, {\"in_degree\": 304, \"count\": 34, \"label\": \"count\"}, {\"in_degree\": 305, \"count\": 42, \"label\": \"count\"}, {\"in_degree\": 306, \"count\": 37, \"label\": \"count\"}, {\"in_degree\": 307, \"count\": 71, \"label\": \"count\"}, {\"in_degree\": 308, \"count\": 41, \"label\": \"count\"}, {\"in_degree\": 309, \"count\": 24, \"label\": \"count\"}, {\"in_degree\": 310, \"count\": 34, \"label\": \"count\"}, {\"in_degree\": 311, \"count\": 40, \"label\": \"count\"}, {\"in_degree\": 312, \"count\": 282, \"label\": \"count\"}, {\"in_degree\": 313, \"count\": 34, \"label\": \"count\"}, {\"in_degree\": 314, \"count\": 33, \"label\": \"count\"}, {\"in_degree\": 315, \"count\": 42, \"label\": \"count\"}, {\"in_degree\": 316, \"count\": 47, \"label\": \"count\"}, {\"in_degree\": 317, \"count\": 32, \"label\": \"count\"}, {\"in_degree\": 318, \"count\": 32, \"label\": \"count\"}, {\"in_degree\": 319, \"count\": 37, \"label\": \"count\"}, {\"in_degree\": 320, \"count\": 30, \"label\": \"count\"}, {\"in_degree\": 321, \"count\": 26, \"label\": \"count\"}, {\"in_degree\": 322, \"count\": 45, \"label\": \"count\"}, {\"in_degree\": 323, \"count\": 43, \"label\": \"count\"}, {\"in_degree\": 324, \"count\": 30, \"label\": \"count\"}, {\"in_degree\": 325, \"count\": 49, \"label\": \"count\"}, {\"in_degree\": 326, \"count\": 35, \"label\": \"count\"}, {\"in_degree\": 327, \"count\": 367, \"label\": \"count\"}, {\"in_degree\": 328, \"count\": 30, \"label\": \"count\"}, {\"in_degree\": 329, \"count\": 37, \"label\": \"count\"}, {\"in_degree\": 330, \"count\": 29, \"label\": \"count\"}, {\"in_degree\": 331, \"count\": 99, \"label\": \"count\"}, {\"in_degree\": 332, \"count\": 38, \"label\": \"count\"}, {\"in_degree\": 333, \"count\": 31, \"label\": \"count\"}, {\"in_degree\": 334, \"count\": 41, \"label\": \"count\"}, {\"in_degree\": 335, \"count\": 44, \"label\": \"count\"}, {\"in_degree\": 336, \"count\": 367, \"label\": \"count\"}, {\"in_degree\": 337, \"count\": 36, \"label\": \"count\"}, {\"in_degree\": 338, \"count\": 31, \"label\": \"count\"}, {\"in_degree\": 339, \"count\": 30, \"label\": \"count\"}, {\"in_degree\": 340, \"count\": 32, \"label\": \"count\"}, {\"in_degree\": 341, \"count\": 24, \"label\": \"count\"}, {\"in_degree\": 342, \"count\": 27, \"label\": \"count\"}, {\"in_degree\": 343, \"count\": 38, \"label\": \"count\"}, {\"in_degree\": 344, \"count\": 35, \"label\": \"count\"}, {\"in_degree\": 345, \"count\": 32, \"label\": \"count\"}, {\"in_degree\": 346, \"count\": 38, \"label\": \"count\"}, {\"in_degree\": 347, \"count\": 41, \"label\": \"count\"}, {\"in_degree\": 348, \"count\": 29, \"label\": \"count\"}, {\"in_degree\": 349, \"count\": 12, \"label\": \"count\"}, {\"in_degree\": 350, \"count\": 30, \"label\": \"count\"}, {\"in_degree\": 351, \"count\": 17, \"label\": \"count\"}, {\"in_degree\": 352, \"count\": 28, \"label\": \"count\"}, {\"in_degree\": 353, \"count\": 27, \"label\": \"count\"}, {\"in_degree\": 354, \"count\": 33, \"label\": \"count\"}, {\"in_degree\": 355, \"count\": 25, \"label\": \"count\"}, {\"in_degree\": 356, \"count\": 23, \"label\": \"count\"}, {\"in_degree\": 357, \"count\": 32, \"label\": \"count\"}, {\"in_degree\": 358, \"count\": 28, \"label\": \"count\"}, {\"in_degree\": 359, \"count\": 33, \"label\": \"count\"}, {\"in_degree\": 360, \"count\": 33, \"label\": \"count\"}, {\"in_degree\": 361, \"count\": 27, \"label\": \"count\"}, {\"in_degree\": 362, \"count\": 27, \"label\": \"count\"}, {\"in_degree\": 363, \"count\": 28, \"label\": \"count\"}, {\"in_degree\": 364, \"count\": 30, \"label\": \"count\"}, {\"in_degree\": 365, \"count\": 26, \"label\": \"count\"}, {\"in_degree\": 366, \"count\": 25, \"label\": \"count\"}, {\"in_degree\": 367, \"count\": 23, \"label\": \"count\"}, {\"in_degree\": 368, \"count\": 26, \"label\": \"count\"}, {\"in_degree\": 369, \"count\": 24, \"label\": \"count\"}, {\"in_degree\": 370, \"count\": 42, \"label\": \"count\"}, {\"in_degree\": 371, \"count\": 22, \"label\": \"count\"}, {\"in_degree\": 372, \"count\": 22, \"label\": \"count\"}, {\"in_degree\": 373, \"count\": 20, \"label\": \"count\"}, {\"in_degree\": 374, \"count\": 31, \"label\": \"count\"}, {\"in_degree\": 375, \"count\": 27, \"label\": \"count\"}, {\"in_degree\": 376, \"count\": 24, \"label\": \"count\"}, {\"in_degree\": 377, \"count\": 27, \"label\": \"count\"}, {\"in_degree\": 378, \"count\": 30, \"label\": \"count\"}, {\"in_degree\": 379, \"count\": 18, \"label\": \"count\"}, {\"in_degree\": 380, \"count\": 16, \"label\": \"count\"}, {\"in_degree\": 381, \"count\": 18, \"label\": \"count\"}, {\"in_degree\": 382, \"count\": 32, \"label\": \"count\"}, {\"in_degree\": 383, \"count\": 30, \"label\": \"count\"}, {\"in_degree\": 384, \"count\": 25, \"label\": \"count\"}, {\"in_degree\": 385, \"count\": 18, \"label\": \"count\"}, {\"in_degree\": 386, \"count\": 19, \"label\": \"count\"}, {\"in_degree\": 387, \"count\": 16, \"label\": \"count\"}, {\"in_degree\": 388, \"count\": 22, \"label\": \"count\"}, {\"in_degree\": 389, \"count\": 25, \"label\": \"count\"}, {\"in_degree\": 390, \"count\": 14, \"label\": \"count\"}, {\"in_degree\": 391, \"count\": 27, \"label\": \"count\"}, {\"in_degree\": 392, \"count\": 22, \"label\": \"count\"}, {\"in_degree\": 393, \"count\": 20, \"label\": \"count\"}, {\"in_degree\": 394, \"count\": 17, \"label\": \"count\"}, {\"in_degree\": 395, \"count\": 29, \"label\": \"count\"}, {\"in_degree\": 396, \"count\": 12, \"label\": \"count\"}, {\"in_degree\": 397, \"count\": 17, \"label\": \"count\"}, {\"in_degree\": 398, \"count\": 18, \"label\": \"count\"}, {\"in_degree\": 399, \"count\": 20, \"label\": \"count\"}, {\"in_degree\": 400, \"count\": 25, \"label\": \"count\"}, {\"in_degree\": 401, \"count\": 24, \"label\": \"count\"}, {\"in_degree\": 402, \"count\": 28, \"label\": \"count\"}, {\"in_degree\": 403, \"count\": 18, \"label\": \"count\"}, {\"in_degree\": 404, \"count\": 24, \"label\": \"count\"}, {\"in_degree\": 405, \"count\": 15, \"label\": \"count\"}, {\"in_degree\": 406, \"count\": 14, \"label\": \"count\"}, {\"in_degree\": 407, \"count\": 20, \"label\": \"count\"}, {\"in_degree\": 408, \"count\": 32, \"label\": \"count\"}, {\"in_degree\": 409, \"count\": 19, \"label\": \"count\"}, {\"in_degree\": 410, \"count\": 432, \"label\": \"count\"}, {\"in_degree\": 411, \"count\": 20, \"label\": \"count\"}, {\"in_degree\": 412, \"count\": 26, \"label\": \"count\"}, {\"in_degree\": 413, \"count\": 17, \"label\": \"count\"}, {\"in_degree\": 414, \"count\": 32, \"label\": \"count\"}, {\"in_degree\": 415, \"count\": 14, \"label\": \"count\"}, {\"in_degree\": 416, \"count\": 26, \"label\": \"count\"}, {\"in_degree\": 417, \"count\": 29, \"label\": \"count\"}, {\"in_degree\": 418, \"count\": 23, \"label\": \"count\"}, {\"in_degree\": 419, \"count\": 14, \"label\": \"count\"}, {\"in_degree\": 420, \"count\": 23, \"label\": \"count\"}, {\"in_degree\": 421, \"count\": 23, \"label\": \"count\"}, {\"in_degree\": 422, \"count\": 22, \"label\": \"count\"}, {\"in_degree\": 423, \"count\": 29, \"label\": \"count\"}, {\"in_degree\": 424, \"count\": 22, \"label\": \"count\"}, {\"in_degree\": 425, \"count\": 30, \"label\": \"count\"}, {\"in_degree\": 426, \"count\": 17, \"label\": \"count\"}, {\"in_degree\": 427, \"count\": 17, \"label\": \"count\"}, {\"in_degree\": 428, \"count\": 20, \"label\": \"count\"}, {\"in_degree\": 429, \"count\": 22, \"label\": \"count\"}, {\"in_degree\": 430, \"count\": 23, \"label\": \"count\"}, {\"in_degree\": 431, \"count\": 15, \"label\": \"count\"}, {\"in_degree\": 432, \"count\": 16, \"label\": \"count\"}, {\"in_degree\": 433, \"count\": 26, \"label\": \"count\"}, {\"in_degree\": 434, \"count\": 28, \"label\": \"count\"}, {\"in_degree\": 435, \"count\": 28, \"label\": \"count\"}, {\"in_degree\": 436, \"count\": 20, \"label\": \"count\"}, {\"in_degree\": 437, \"count\": 14, \"label\": \"count\"}, {\"in_degree\": 438, \"count\": 19, \"label\": \"count\"}, {\"in_degree\": 439, \"count\": 23, \"label\": \"count\"}, {\"in_degree\": 440, \"count\": 15, \"label\": \"count\"}, {\"in_degree\": 441, \"count\": 16, \"label\": \"count\"}, {\"in_degree\": 442, \"count\": 21, \"label\": \"count\"}, {\"in_degree\": 443, \"count\": 15, \"label\": \"count\"}, {\"in_degree\": 444, \"count\": 13, \"label\": \"count\"}, {\"in_degree\": 445, \"count\": 21, \"label\": \"count\"}, {\"in_degree\": 446, \"count\": 17, \"label\": \"count\"}, {\"in_degree\": 447, \"count\": 27, \"label\": \"count\"}, {\"in_degree\": 448, \"count\": 15, \"label\": \"count\"}, {\"in_degree\": 449, \"count\": 25, \"label\": \"count\"}, {\"in_degree\": 450, \"count\": 16, \"label\": \"count\"}, {\"in_degree\": 451, \"count\": 20, \"label\": \"count\"}, {\"in_degree\": 452, \"count\": 21, \"label\": \"count\"}, {\"in_degree\": 453, \"count\": 9, \"label\": \"count\"}, {\"in_degree\": 454, \"count\": 13, \"label\": \"count\"}, {\"in_degree\": 455, \"count\": 19, \"label\": \"count\"}, {\"in_degree\": 456, \"count\": 13, \"label\": \"count\"}, {\"in_degree\": 457, \"count\": 10, \"label\": \"count\"}, {\"in_degree\": 458, \"count\": 16, \"label\": \"count\"}, {\"in_degree\": 459, \"count\": 17, \"label\": \"count\"}, {\"in_degree\": 460, \"count\": 20, \"label\": \"count\"}, {\"in_degree\": 461, \"count\": 15, \"label\": \"count\"}, {\"in_degree\": 462, \"count\": 20, \"label\": \"count\"}, {\"in_degree\": 463, \"count\": 23, \"label\": \"count\"}, {\"in_degree\": 464, \"count\": 14, \"label\": \"count\"}, {\"in_degree\": 465, \"count\": 19, \"label\": \"count\"}, {\"in_degree\": 466, \"count\": 15, \"label\": \"count\"}, {\"in_degree\": 467, \"count\": 22, \"label\": \"count\"}, {\"in_degree\": 468, \"count\": 12, \"label\": \"count\"}, {\"in_degree\": 469, \"count\": 10, \"label\": \"count\"}, {\"in_degree\": 470, \"count\": 18, \"label\": \"count\"}, {\"in_degree\": 471, \"count\": 21, \"label\": \"count\"}, {\"in_degree\": 472, \"count\": 19, \"label\": \"count\"}, {\"in_degree\": 473, \"count\": 8, \"label\": \"count\"}, {\"in_degree\": 474, \"count\": 14, \"label\": \"count\"}, {\"in_degree\": 475, \"count\": 15, \"label\": \"count\"}, {\"in_degree\": 476, \"count\": 14, \"label\": \"count\"}, {\"in_degree\": 477, \"count\": 17, \"label\": \"count\"}, {\"in_degree\": 478, \"count\": 11, \"label\": \"count\"}, {\"in_degree\": 479, \"count\": 21, \"label\": \"count\"}, {\"in_degree\": 480, \"count\": 17, \"label\": \"count\"}, {\"in_degree\": 481, \"count\": 16, \"label\": \"count\"}, {\"in_degree\": 482, \"count\": 11, \"label\": \"count\"}, {\"in_degree\": 483, \"count\": 13, \"label\": \"count\"}, {\"in_degree\": 484, \"count\": 9, \"label\": \"count\"}, {\"in_degree\": 485, \"count\": 14, \"label\": \"count\"}, {\"in_degree\": 486, \"count\": 15, \"label\": \"count\"}, {\"in_degree\": 487, \"count\": 19, \"label\": \"count\"}, {\"in_degree\": 488, \"count\": 12, \"label\": \"count\"}, {\"in_degree\": 489, \"count\": 10, \"label\": \"count\"}, {\"in_degree\": 490, \"count\": 12, \"label\": \"count\"}, {\"in_degree\": 491, \"count\": 18, \"label\": \"count\"}, {\"in_degree\": 492, \"count\": 15, \"label\": \"count\"}, {\"in_degree\": 493, \"count\": 12, \"label\": \"count\"}, {\"in_degree\": 494, \"count\": 7, \"label\": \"count\"}, {\"in_degree\": 495, \"count\": 15, \"label\": \"count\"}, {\"in_degree\": 496, \"count\": 16, \"label\": \"count\"}, {\"in_degree\": 497, \"count\": 16, \"label\": \"count\"}, {\"in_degree\": 498, \"count\": 12, \"label\": \"count\"}, {\"in_degree\": 499, \"count\": 15, \"label\": \"count\"}, {\"in_degree\": 500, \"count\": 15, \"label\": \"count\"}, {\"in_degree\": 501, \"count\": 10, \"label\": \"count\"}, {\"in_degree\": 502, \"count\": 15, \"label\": \"count\"}, {\"in_degree\": 503, \"count\": 13, \"label\": \"count\"}, {\"in_degree\": 504, \"count\": 17, \"label\": \"count\"}, {\"in_degree\": 505, \"count\": 12, \"label\": \"count\"}, {\"in_degree\": 506, \"count\": 19, \"label\": \"count\"}, {\"in_degree\": 507, \"count\": 11, \"label\": \"count\"}, {\"in_degree\": 508, \"count\": 12, \"label\": \"count\"}, {\"in_degree\": 509, \"count\": 10, \"label\": \"count\"}, {\"in_degree\": 510, \"count\": 12, \"label\": \"count\"}, {\"in_degree\": 511, \"count\": 15, \"label\": \"count\"}, {\"in_degree\": 512, \"count\": 14, \"label\": \"count\"}, {\"in_degree\": 513, \"count\": 17, \"label\": \"count\"}, {\"in_degree\": 514, \"count\": 7, \"label\": \"count\"}, {\"in_degree\": 515, \"count\": 19, \"label\": \"count\"}, {\"in_degree\": 516, \"count\": 16, \"label\": \"count\"}, {\"in_degree\": 517, \"count\": 14, \"label\": \"count\"}, {\"in_degree\": 518, \"count\": 14, \"label\": \"count\"}, {\"in_degree\": 519, \"count\": 11, \"label\": \"count\"}, {\"in_degree\": 520, \"count\": 12, \"label\": \"count\"}, {\"in_degree\": 521, \"count\": 11, \"label\": \"count\"}, {\"in_degree\": 522, \"count\": 9, \"label\": \"count\"}, {\"in_degree\": 523, \"count\": 17, \"label\": \"count\"}, {\"in_degree\": 524, \"count\": 7, \"label\": \"count\"}, {\"in_degree\": 525, \"count\": 14, \"label\": \"count\"}, {\"in_degree\": 526, \"count\": 12, \"label\": \"count\"}, {\"in_degree\": 527, \"count\": 18, \"label\": \"count\"}, {\"in_degree\": 528, \"count\": 9, \"label\": \"count\"}, {\"in_degree\": 529, \"count\": 15, \"label\": \"count\"}, {\"in_degree\": 530, \"count\": 17, \"label\": \"count\"}, {\"in_degree\": 531, \"count\": 15, \"label\": \"count\"}, {\"in_degree\": 532, \"count\": 27, \"label\": \"count\"}, {\"in_degree\": 533, \"count\": 28, \"label\": \"count\"}, {\"in_degree\": 534, \"count\": 34, \"label\": \"count\"}, {\"in_degree\": 535, \"count\": 28, \"label\": \"count\"}, {\"in_degree\": 536, \"count\": 40, \"label\": \"count\"}, {\"in_degree\": 537, \"count\": 41, \"label\": \"count\"}, {\"in_degree\": 538, \"count\": 43, \"label\": \"count\"}, {\"in_degree\": 539, \"count\": 40, \"label\": \"count\"}, {\"in_degree\": 540, \"count\": 42, \"label\": \"count\"}, {\"in_degree\": 541, \"count\": 48, \"label\": \"count\"}, {\"in_degree\": 542, \"count\": 573, \"label\": \"count\"}, {\"in_degree\": 543, \"count\": 28, \"label\": \"count\"}, {\"in_degree\": 544, \"count\": 27, \"label\": \"count\"}, {\"in_degree\": 545, \"count\": 11, \"label\": \"count\"}, {\"in_degree\": 546, \"count\": 23, \"label\": \"count\"}, {\"in_degree\": 547, \"count\": 14, \"label\": \"count\"}, {\"in_degree\": 548, \"count\": 26, \"label\": \"count\"}, {\"in_degree\": 549, \"count\": 20, \"label\": \"count\"}, {\"in_degree\": 550, \"count\": 19, \"label\": \"count\"}, {\"in_degree\": 551, \"count\": 12, \"label\": \"count\"}, {\"in_degree\": 552, \"count\": 18, \"label\": \"count\"}, {\"in_degree\": 553, \"count\": 12, \"label\": \"count\"}, {\"in_degree\": 554, \"count\": 11, \"label\": \"count\"}, {\"in_degree\": 555, \"count\": 18, \"label\": \"count\"}, {\"in_degree\": 556, \"count\": 19, \"label\": \"count\"}, {\"in_degree\": 557, \"count\": 13, \"label\": \"count\"}, {\"in_degree\": 558, \"count\": 6, \"label\": \"count\"}, {\"in_degree\": 559, \"count\": 16, \"label\": \"count\"}, {\"in_degree\": 560, \"count\": 12, \"label\": \"count\"}, {\"in_degree\": 561, \"count\": 13, \"label\": \"count\"}, {\"in_degree\": 562, \"count\": 9, \"label\": \"count\"}, {\"in_degree\": 563, \"count\": 14, \"label\": \"count\"}, {\"in_degree\": 564, \"count\": 13, \"label\": \"count\"}, {\"in_degree\": 565, \"count\": 12, \"label\": \"count\"}, {\"in_degree\": 566, \"count\": 11, \"label\": \"count\"}, {\"in_degree\": 567, \"count\": 13, \"label\": \"count\"}, {\"in_degree\": 568, \"count\": 9, \"label\": \"count\"}, {\"in_degree\": 569, \"count\": 7, \"label\": \"count\"}, {\"in_degree\": 570, \"count\": 7, \"label\": \"count\"}, {\"in_degree\": 571, \"count\": 14, \"label\": \"count\"}, {\"in_degree\": 572, \"count\": 20, \"label\": \"count\"}, {\"in_degree\": 573, \"count\": 8, \"label\": \"count\"}, {\"in_degree\": 574, \"count\": 13, \"label\": \"count\"}, {\"in_degree\": 575, \"count\": 10, \"label\": \"count\"}, {\"in_degree\": 576, \"count\": 13, \"label\": \"count\"}, {\"in_degree\": 577, \"count\": 6, \"label\": \"count\"}, {\"in_degree\": 578, \"count\": 8, \"label\": \"count\"}, {\"in_degree\": 579, \"count\": 9, \"label\": \"count\"}, {\"in_degree\": 580, \"count\": 14, \"label\": \"count\"}, {\"in_degree\": 581, \"count\": 7, \"label\": \"count\"}, {\"in_degree\": 582, \"count\": 14, \"label\": \"count\"}, {\"in_degree\": 583, \"count\": 9, \"label\": \"count\"}, {\"in_degree\": 584, \"count\": 12, \"label\": \"count\"}, {\"in_degree\": 585, \"count\": 9, \"label\": \"count\"}, {\"in_degree\": 586, \"count\": 12, \"label\": \"count\"}, {\"in_degree\": 587, \"count\": 14, \"label\": \"count\"}, {\"in_degree\": 588, \"count\": 6, \"label\": \"count\"}, {\"in_degree\": 589, \"count\": 8, \"label\": \"count\"}, {\"in_degree\": 590, \"count\": 8, \"label\": \"count\"}, {\"in_degree\": 591, \"count\": 12, \"label\": \"count\"}, {\"in_degree\": 592, \"count\": 13, \"label\": \"count\"}, {\"in_degree\": 593, \"count\": 13, \"label\": \"count\"}, {\"in_degree\": 594, \"count\": 11, \"label\": \"count\"}, {\"in_degree\": 595, \"count\": 12, \"label\": \"count\"}, {\"in_degree\": 596, \"count\": 7, \"label\": \"count\"}, {\"in_degree\": 597, \"count\": 7, \"label\": \"count\"}, {\"in_degree\": 598, \"count\": 12, \"label\": \"count\"}, {\"in_degree\": 599, \"count\": 9, \"label\": \"count\"}, {\"in_degree\": 600, \"count\": 10, \"label\": \"count\"}, {\"in_degree\": 601, \"count\": 3, \"label\": \"count\"}, {\"in_degree\": 602, \"count\": 13, \"label\": \"count\"}, {\"in_degree\": 603, \"count\": 12, \"label\": \"count\"}, {\"in_degree\": 604, \"count\": 12, \"label\": \"count\"}, {\"in_degree\": 605, \"count\": 5, \"label\": \"count\"}, {\"in_degree\": 606, \"count\": 3, \"label\": \"count\"}, {\"in_degree\": 607, \"count\": 10, \"label\": \"count\"}, {\"in_degree\": 608, \"count\": 8, \"label\": \"count\"}, {\"in_degree\": 609, \"count\": 8, \"label\": \"count\"}, {\"in_degree\": 610, \"count\": 11, \"label\": \"count\"}, {\"in_degree\": 611, \"count\": 11, \"label\": \"count\"}, {\"in_degree\": 612, \"count\": 9, \"label\": \"count\"}, {\"in_degree\": 613, \"count\": 5, \"label\": \"count\"}, {\"in_degree\": 614, \"count\": 6, \"label\": \"count\"}, {\"in_degree\": 615, \"count\": 10, \"label\": \"count\"}, {\"in_degree\": 616, \"count\": 10, \"label\": \"count\"}, {\"in_degree\": 617, \"count\": 8, \"label\": \"count\"}, {\"in_degree\": 618, \"count\": 7, \"label\": \"count\"}, {\"in_degree\": 619, \"count\": 9, \"label\": \"count\"}, {\"in_degree\": 620, \"count\": 10, \"label\": \"count\"}, {\"in_degree\": 621, \"count\": 13, \"label\": \"count\"}, {\"in_degree\": 622, \"count\": 9, \"label\": \"count\"}, {\"in_degree\": 623, \"count\": 7, \"label\": \"count\"}, {\"in_degree\": 624, \"count\": 7, \"label\": \"count\"}, {\"in_degree\": 625, \"count\": 11, \"label\": \"count\"}, {\"in_degree\": 626, \"count\": 5, \"label\": \"count\"}, {\"in_degree\": 627, \"count\": 12, \"label\": \"count\"}, {\"in_degree\": 628, \"count\": 6, \"label\": \"count\"}, {\"in_degree\": 629, \"count\": 6, \"label\": \"count\"}, {\"in_degree\": 630, \"count\": 13, \"label\": \"count\"}, {\"in_degree\": 631, \"count\": 9, \"label\": \"count\"}, {\"in_degree\": 632, \"count\": 11, \"label\": \"count\"}, {\"in_degree\": 633, \"count\": 10, \"label\": \"count\"}, {\"in_degree\": 634, \"count\": 10, \"label\": \"count\"}, {\"in_degree\": 635, \"count\": 6, \"label\": \"count\"}, {\"in_degree\": 636, \"count\": 6, \"label\": \"count\"}, {\"in_degree\": 637, \"count\": 14, \"label\": \"count\"}, {\"in_degree\": 638, \"count\": 10, \"label\": \"count\"}, {\"in_degree\": 639, \"count\": 7, \"label\": \"count\"}, {\"in_degree\": 640, \"count\": 10, \"label\": \"count\"}, {\"in_degree\": 641, \"count\": 8, \"label\": \"count\"}, {\"in_degree\": 642, \"count\": 14, \"label\": \"count\"}, {\"in_degree\": 643, \"count\": 12, \"label\": \"count\"}, {\"in_degree\": 644, \"count\": 11, \"label\": \"count\"}, {\"in_degree\": 645, \"count\": 6, \"label\": \"count\"}, {\"in_degree\": 646, \"count\": 11, \"label\": \"count\"}, {\"in_degree\": 647, \"count\": 10, \"label\": \"count\"}, {\"in_degree\": 648, \"count\": 7, \"label\": \"count\"}, {\"in_degree\": 649, \"count\": 14, \"label\": \"count\"}, {\"in_degree\": 650, \"count\": 9, \"label\": \"count\"}, {\"in_degree\": 651, \"count\": 12, \"label\": \"count\"}, {\"in_degree\": 652, \"count\": 5, \"label\": \"count\"}, {\"in_degree\": 653, \"count\": 6, \"label\": \"count\"}, {\"in_degree\": 654, \"count\": 11, \"label\": \"count\"}, {\"in_degree\": 655, \"count\": 8, \"label\": \"count\"}, {\"in_degree\": 656, \"count\": 9, \"label\": \"count\"}, {\"in_degree\": 657, \"count\": 7, \"label\": \"count\"}, {\"in_degree\": 658, \"count\": 4, \"label\": \"count\"}, {\"in_degree\": 659, \"count\": 12, \"label\": \"count\"}, {\"in_degree\": 660, \"count\": 7, \"label\": \"count\"}, {\"in_degree\": 661, \"count\": 10, \"label\": \"count\"}, {\"in_degree\": 662, \"count\": 11, \"label\": \"count\"}, {\"in_degree\": 663, \"count\": 5, \"label\": \"count\"}, {\"in_degree\": 664, \"count\": 7, \"label\": \"count\"}, {\"in_degree\": 665, \"count\": 7, \"label\": \"count\"}, {\"in_degree\": 666, \"count\": 11, \"label\": \"count\"}, {\"in_degree\": 667, \"count\": 9, \"label\": \"count\"}, {\"in_degree\": 668, \"count\": 6, \"label\": \"count\"}, {\"in_degree\": 669, \"count\": 7, \"label\": \"count\"}, {\"in_degree\": 670, \"count\": 8, \"label\": \"count\"}, {\"in_degree\": 671, \"count\": 9, \"label\": \"count\"}, {\"in_degree\": 672, \"count\": 9, \"label\": \"count\"}, {\"in_degree\": 673, \"count\": 10, \"label\": \"count\"}, {\"in_degree\": 674, \"count\": 8, \"label\": \"count\"}, {\"in_degree\": 675, \"count\": 14, \"label\": \"count\"}, {\"in_degree\": 676, \"count\": 7, \"label\": \"count\"}, {\"in_degree\": 677, \"count\": 13, \"label\": \"count\"}, {\"in_degree\": 678, \"count\": 14, \"label\": \"count\"}, {\"in_degree\": 679, \"count\": 5, \"label\": \"count\"}, {\"in_degree\": 680, \"count\": 10, \"label\": \"count\"}, {\"in_degree\": 681, \"count\": 13, \"label\": \"count\"}, {\"in_degree\": 682, \"count\": 9, \"label\": \"count\"}, {\"in_degree\": 683, \"count\": 10, \"label\": \"count\"}, {\"in_degree\": 684, \"count\": 6, \"label\": \"count\"}, {\"in_degree\": 685, \"count\": 5, \"label\": \"count\"}, {\"in_degree\": 686, \"count\": 10, \"label\": \"count\"}, {\"in_degree\": 687, \"count\": 6, \"label\": \"count\"}, {\"in_degree\": 688, \"count\": 12, \"label\": \"count\"}, {\"in_degree\": 689, \"count\": 3, \"label\": \"count\"}, {\"in_degree\": 690, \"count\": 7, \"label\": \"count\"}, {\"in_degree\": 691, \"count\": 14, \"label\": \"count\"}, {\"in_degree\": 692, \"count\": 11, \"label\": \"count\"}, {\"in_degree\": 693, \"count\": 11, \"label\": \"count\"}, {\"in_degree\": 694, \"count\": 7, \"label\": \"count\"}, {\"in_degree\": 695, \"count\": 11, \"label\": \"count\"}, {\"in_degree\": 696, \"count\": 5, \"label\": \"count\"}, {\"in_degree\": 697, \"count\": 9, \"label\": \"count\"}, {\"in_degree\": 698, \"count\": 11, \"label\": \"count\"}, {\"in_degree\": 699, \"count\": 14, \"label\": \"count\"}, {\"in_degree\": 700, \"count\": 7, \"label\": \"count\"}, {\"in_degree\": 701, \"count\": 9, \"label\": \"count\"}, {\"in_degree\": 702, \"count\": 3, \"label\": \"count\"}, {\"in_degree\": 703, \"count\": 6, \"label\": \"count\"}, {\"in_degree\": 704, \"count\": 9, \"label\": \"count\"}, {\"in_degree\": 705, \"count\": 9, \"label\": \"count\"}, {\"in_degree\": 706, \"count\": 10, \"label\": \"count\"}, {\"in_degree\": 707, \"count\": 4, \"label\": \"count\"}, {\"in_degree\": 708, \"count\": 7, \"label\": \"count\"}, {\"in_degree\": 709, \"count\": 8, \"label\": \"count\"}, {\"in_degree\": 710, \"count\": 4, \"label\": \"count\"}, {\"in_degree\": 711, \"count\": 7, \"label\": \"count\"}, {\"in_degree\": 712, \"count\": 8, \"label\": \"count\"}, {\"in_degree\": 713, \"count\": 5, \"label\": \"count\"}, {\"in_degree\": 714, \"count\": 3, \"label\": \"count\"}, {\"in_degree\": 715, \"count\": 8, \"label\": \"count\"}, {\"in_degree\": 716, \"count\": 4, \"label\": \"count\"}, {\"in_degree\": 717, \"count\": 11, \"label\": \"count\"}, {\"in_degree\": 718, \"count\": 5, \"label\": \"count\"}, {\"in_degree\": 719, \"count\": 10, \"label\": \"count\"}, {\"in_degree\": 720, \"count\": 5, \"label\": \"count\"}, {\"in_degree\": 721, \"count\": 7, \"label\": \"count\"}, {\"in_degree\": 722, \"count\": 5, \"label\": \"count\"}, {\"in_degree\": 723, \"count\": 6, \"label\": \"count\"}, {\"in_degree\": 724, \"count\": 5, \"label\": \"count\"}, {\"in_degree\": 725, \"count\": 6, \"label\": \"count\"}, {\"in_degree\": 726, \"count\": 11, \"label\": \"count\"}, {\"in_degree\": 727, \"count\": 8, \"label\": \"count\"}, {\"in_degree\": 728, \"count\": 7, \"label\": \"count\"}, {\"in_degree\": 729, \"count\": 7, \"label\": \"count\"}, {\"in_degree\": 730, \"count\": 8, \"label\": \"count\"}, {\"in_degree\": 731, \"count\": 3, \"label\": \"count\"}, {\"in_degree\": 732, \"count\": 9, \"label\": \"count\"}, {\"in_degree\": 733, \"count\": 8, \"label\": \"count\"}, {\"in_degree\": 734, \"count\": 12, \"label\": \"count\"}, {\"in_degree\": 735, \"count\": 5, \"label\": \"count\"}, {\"in_degree\": 736, \"count\": 10, \"label\": \"count\"}, {\"in_degree\": 737, \"count\": 11, \"label\": \"count\"}, {\"in_degree\": 738, \"count\": 9, \"label\": \"count\"}, {\"in_degree\": 739, \"count\": 10, \"label\": \"count\"}, {\"in_degree\": 740, \"count\": 10, \"label\": \"count\"}, {\"in_degree\": 741, \"count\": 8, \"label\": \"count\"}, {\"in_degree\": 742, \"count\": 5, \"label\": \"count\"}, {\"in_degree\": 743, \"count\": 9, \"label\": \"count\"}, {\"in_degree\": 744, \"count\": 8, \"label\": \"count\"}, {\"in_degree\": 745, \"count\": 10, \"label\": \"count\"}, {\"in_degree\": 746, \"count\": 5, \"label\": \"count\"}, {\"in_degree\": 747, \"count\": 5, \"label\": \"count\"}, {\"in_degree\": 748, \"count\": 6, \"label\": \"count\"}, {\"in_degree\": 749, \"count\": 6, \"label\": \"count\"}, {\"in_degree\": 750, \"count\": 7, \"label\": \"count\"}, {\"in_degree\": 751, \"count\": 4, \"label\": \"count\"}, {\"in_degree\": 752, \"count\": 5, \"label\": \"count\"}, {\"in_degree\": 753, \"count\": 4, \"label\": \"count\"}, {\"in_degree\": 754, \"count\": 9, \"label\": \"count\"}, {\"in_degree\": 755, \"count\": 8, \"label\": \"count\"}, {\"in_degree\": 756, \"count\": 7, \"label\": \"count\"}, {\"in_degree\": 757, \"count\": 6, \"label\": \"count\"}, {\"in_degree\": 758, \"count\": 9, \"label\": \"count\"}, {\"in_degree\": 759, \"count\": 8, \"label\": \"count\"}, {\"in_degree\": 760, \"count\": 11, \"label\": \"count\"}, {\"in_degree\": 761, \"count\": 8, \"label\": \"count\"}, {\"in_degree\": 762, \"count\": 9, \"label\": \"count\"}, {\"in_degree\": 763, \"count\": 6, \"label\": \"count\"}, {\"in_degree\": 764, \"count\": 6, \"label\": \"count\"}, {\"in_degree\": 765, \"count\": 10, \"label\": \"count\"}, {\"in_degree\": 766, \"count\": 6, \"label\": \"count\"}, {\"in_degree\": 767, \"count\": 11, \"label\": \"count\"}, {\"in_degree\": 768, \"count\": 6, \"label\": \"count\"}, {\"in_degree\": 769, \"count\": 9, \"label\": \"count\"}, {\"in_degree\": 770, \"count\": 13, \"label\": \"count\"}, {\"in_degree\": 771, \"count\": 5, \"label\": \"count\"}, {\"in_degree\": 772, \"count\": 4, \"label\": \"count\"}, {\"in_degree\": 773, \"count\": 8, \"label\": \"count\"}, {\"in_degree\": 774, \"count\": 7, \"label\": \"count\"}, {\"in_degree\": 775, \"count\": 1, \"label\": \"count\"}, {\"in_degree\": 776, \"count\": 8, \"label\": \"count\"}, {\"in_degree\": 777, \"count\": 9, \"label\": \"count\"}, {\"in_degree\": 778, \"count\": 6, \"label\": \"count\"}, {\"in_degree\": 779, \"count\": 7, \"label\": \"count\"}, {\"in_degree\": 780, \"count\": 3, \"label\": \"count\"}, {\"in_degree\": 781, \"count\": 5, \"label\": \"count\"}, {\"in_degree\": 782, \"count\": 8, \"label\": \"count\"}, {\"in_degree\": 783, \"count\": 7, \"label\": \"count\"}, {\"in_degree\": 784, \"count\": 9, \"label\": \"count\"}, {\"in_degree\": 785, \"count\": 5, \"label\": \"count\"}, {\"in_degree\": 786, \"count\": 4, \"label\": \"count\"}, {\"in_degree\": 787, \"count\": 9, \"label\": \"count\"}, {\"in_degree\": 788, \"count\": 4, \"label\": \"count\"}, {\"in_degree\": 789, \"count\": 7, \"label\": \"count\"}, {\"in_degree\": 790, \"count\": 6, \"label\": \"count\"}, {\"in_degree\": 791, \"count\": 2, \"label\": \"count\"}, {\"in_degree\": 792, \"count\": 8, \"label\": \"count\"}, {\"in_degree\": 793, \"count\": 5, \"label\": \"count\"}, {\"in_degree\": 794, \"count\": 6, \"label\": \"count\"}, {\"in_degree\": 795, \"count\": 6, \"label\": \"count\"}, {\"in_degree\": 796, \"count\": 5, \"label\": \"count\"}, {\"in_degree\": 797, \"count\": 5, \"label\": \"count\"}, {\"in_degree\": 798, \"count\": 6, \"label\": \"count\"}, {\"in_degree\": 799, \"count\": 10, \"label\": \"count\"}, {\"in_degree\": 800, \"count\": 6, \"label\": \"count\"}, {\"in_degree\": 801, \"count\": 3, \"label\": \"count\"}, {\"in_degree\": 802, \"count\": 4, \"label\": \"count\"}, {\"in_degree\": 803, \"count\": 4, \"label\": \"count\"}, {\"in_degree\": 804, \"count\": 8, \"label\": \"count\"}, {\"in_degree\": 805, \"count\": 10, \"label\": \"count\"}, {\"in_degree\": 806, \"count\": 3, \"label\": \"count\"}, {\"in_degree\": 807, \"count\": 5, \"label\": \"count\"}, {\"in_degree\": 808, \"count\": 2, \"label\": \"count\"}, {\"in_degree\": 809, \"count\": 6, \"label\": \"count\"}, {\"in_degree\": 810, \"count\": 8, \"label\": \"count\"}, {\"in_degree\": 811, \"count\": 5, \"label\": \"count\"}, {\"in_degree\": 812, \"count\": 7, \"label\": \"count\"}, {\"in_degree\": 813, \"count\": 2, \"label\": \"count\"}, {\"in_degree\": 814, \"count\": 6, \"label\": \"count\"}, {\"in_degree\": 815, \"count\": 10, \"label\": \"count\"}, {\"in_degree\": 816, \"count\": 5, \"label\": \"count\"}, {\"in_degree\": 817, \"count\": 5, \"label\": \"count\"}, {\"in_degree\": 818, \"count\": 2, \"label\": \"count\"}, {\"in_degree\": 819, \"count\": 8, \"label\": \"count\"}, {\"in_degree\": 820, \"count\": 6, \"label\": \"count\"}, {\"in_degree\": 821, \"count\": 7, \"label\": \"count\"}, {\"in_degree\": 822, \"count\": 7, \"label\": \"count\"}, {\"in_degree\": 823, \"count\": 6, \"label\": \"count\"}, {\"in_degree\": 824, \"count\": 4, \"label\": \"count\"}, {\"in_degree\": 825, \"count\": 3, \"label\": \"count\"}, {\"in_degree\": 826, \"count\": 8, \"label\": \"count\"}, {\"in_degree\": 827, \"count\": 10, \"label\": \"count\"}, {\"in_degree\": 828, \"count\": 4, \"label\": \"count\"}, {\"in_degree\": 829, \"count\": 3, \"label\": \"count\"}, {\"in_degree\": 830, \"count\": 4, \"label\": \"count\"}, {\"in_degree\": 831, \"count\": 6, \"label\": \"count\"}, {\"in_degree\": 832, \"count\": 5, \"label\": \"count\"}, {\"in_degree\": 833, \"count\": 5, \"label\": \"count\"}, {\"in_degree\": 834, \"count\": 6, \"label\": \"count\"}, {\"in_degree\": 835, \"count\": 4, \"label\": \"count\"}, {\"in_degree\": 836, \"count\": 4, \"label\": \"count\"}, {\"in_degree\": 837, \"count\": 6, \"label\": \"count\"}, {\"in_degree\": 838, \"count\": 5, \"label\": \"count\"}, {\"in_degree\": 839, \"count\": 5, \"label\": \"count\"}, {\"in_degree\": 840, \"count\": 7, \"label\": \"count\"}, {\"in_degree\": 841, \"count\": 4, \"label\": \"count\"}, {\"in_degree\": 842, \"count\": 6, \"label\": \"count\"}, {\"in_degree\": 843, \"count\": 4, \"label\": \"count\"}, {\"in_degree\": 844, \"count\": 6, \"label\": \"count\"}, {\"in_degree\": 845, \"count\": 8, \"label\": \"count\"}, {\"in_degree\": 846, \"count\": 3, \"label\": \"count\"}, {\"in_degree\": 847, \"count\": 7, \"label\": \"count\"}, {\"in_degree\": 848, \"count\": 6, \"label\": \"count\"}, {\"in_degree\": 849, \"count\": 8, \"label\": \"count\"}, {\"in_degree\": 850, \"count\": 5, \"label\": \"count\"}, {\"in_degree\": 851, \"count\": 8, \"label\": \"count\"}, {\"in_degree\": 852, \"count\": 2, \"label\": \"count\"}, {\"in_degree\": 853, \"count\": 6, \"label\": \"count\"}, {\"in_degree\": 854, \"count\": 7, \"label\": \"count\"}, {\"in_degree\": 855, \"count\": 7, \"label\": \"count\"}, {\"in_degree\": 856, \"count\": 3, \"label\": \"count\"}, {\"in_degree\": 857, \"count\": 5, \"label\": \"count\"}, {\"in_degree\": 858, \"count\": 8, \"label\": \"count\"}, {\"in_degree\": 859, \"count\": 8, \"label\": \"count\"}, {\"in_degree\": 860, \"count\": 6, \"label\": \"count\"}, {\"in_degree\": 861, \"count\": 5, \"label\": \"count\"}, {\"in_degree\": 862, \"count\": 8, \"label\": \"count\"}, {\"in_degree\": 863, \"count\": 5, \"label\": \"count\"}, {\"in_degree\": 864, \"count\": 8, \"label\": \"count\"}, {\"in_degree\": 865, \"count\": 3, \"label\": \"count\"}, {\"in_degree\": 866, \"count\": 1, \"label\": \"count\"}, {\"in_degree\": 867, \"count\": 8, \"label\": \"count\"}, {\"in_degree\": 868, \"count\": 7, \"label\": \"count\"}, {\"in_degree\": 869, \"count\": 5, \"label\": \"count\"}, {\"in_degree\": 870, \"count\": 6, \"label\": \"count\"}, {\"in_degree\": 871, \"count\": 10, \"label\": \"count\"}, {\"in_degree\": 872, \"count\": 5, \"label\": \"count\"}, {\"in_degree\": 873, \"count\": 4, \"label\": \"count\"}, {\"in_degree\": 874, \"count\": 2, \"label\": \"count\"}, {\"in_degree\": 875, \"count\": 4, \"label\": \"count\"}, {\"in_degree\": 876, \"count\": 3, \"label\": \"count\"}, {\"in_degree\": 877, \"count\": 2, \"label\": \"count\"}, {\"in_degree\": 878, \"count\": 9, \"label\": \"count\"}, {\"in_degree\": 879, \"count\": 7, \"label\": \"count\"}, {\"in_degree\": 880, \"count\": 4, \"label\": \"count\"}, {\"in_degree\": 881, \"count\": 4, \"label\": \"count\"}, {\"in_degree\": 882, \"count\": 5, \"label\": \"count\"}, {\"in_degree\": 883, \"count\": 9, \"label\": \"count\"}, {\"in_degree\": 884, \"count\": 1, \"label\": \"count\"}, {\"in_degree\": 885, \"count\": 5, \"label\": \"count\"}, {\"in_degree\": 886, \"count\": 6, \"label\": \"count\"}, {\"in_degree\": 887, \"count\": 5, \"label\": \"count\"}, {\"in_degree\": 888, \"count\": 3, \"label\": \"count\"}, {\"in_degree\": 889, \"count\": 4, \"label\": \"count\"}, {\"in_degree\": 890, \"count\": 1, \"label\": \"count\"}, {\"in_degree\": 891, \"count\": 3, \"label\": \"count\"}, {\"in_degree\": 892, \"count\": 3, \"label\": \"count\"}, {\"in_degree\": 893, \"count\": 5, \"label\": \"count\"}, {\"in_degree\": 895, \"count\": 7, \"label\": \"count\"}, {\"in_degree\": 896, \"count\": 5, \"label\": \"count\"}, {\"in_degree\": 897, \"count\": 2, \"label\": \"count\"}, {\"in_degree\": 898, \"count\": 7, \"label\": \"count\"}, {\"in_degree\": 899, \"count\": 3, \"label\": \"count\"}, {\"in_degree\": 900, \"count\": 11, \"label\": \"count\"}, {\"in_degree\": 901, \"count\": 11, \"label\": \"count\"}, {\"in_degree\": 902, \"count\": 6, \"label\": \"count\"}, {\"in_degree\": 903, \"count\": 1, \"label\": \"count\"}, {\"in_degree\": 904, \"count\": 6, \"label\": \"count\"}, {\"in_degree\": 905, \"count\": 5, \"label\": \"count\"}, {\"in_degree\": 906, \"count\": 5, \"label\": \"count\"}, {\"in_degree\": 907, \"count\": 6, \"label\": \"count\"}, {\"in_degree\": 908, \"count\": 1, \"label\": \"count\"}, {\"in_degree\": 909, \"count\": 1, \"label\": \"count\"}, {\"in_degree\": 910, \"count\": 4, \"label\": \"count\"}, {\"in_degree\": 911, \"count\": 6, \"label\": \"count\"}, {\"in_degree\": 912, \"count\": 7, \"label\": \"count\"}, {\"in_degree\": 913, \"count\": 4, \"label\": \"count\"}, {\"in_degree\": 914, \"count\": 5, \"label\": \"count\"}, {\"in_degree\": 915, \"count\": 3, \"label\": \"count\"}, {\"in_degree\": 916, \"count\": 4, \"label\": \"count\"}, {\"in_degree\": 917, \"count\": 4, \"label\": \"count\"}, {\"in_degree\": 918, \"count\": 3, \"label\": \"count\"}, {\"in_degree\": 919, \"count\": 5, \"label\": \"count\"}, {\"in_degree\": 920, \"count\": 3, \"label\": \"count\"}, {\"in_degree\": 921, \"count\": 5, \"label\": \"count\"}, {\"in_degree\": 922, \"count\": 4, \"label\": \"count\"}, {\"in_degree\": 923, \"count\": 5, \"label\": \"count\"}, {\"in_degree\": 924, \"count\": 5, \"label\": \"count\"}, {\"in_degree\": 925, \"count\": 8, \"label\": \"count\"}, {\"in_degree\": 926, \"count\": 6, \"label\": \"count\"}, {\"in_degree\": 927, \"count\": 8, \"label\": \"count\"}, {\"in_degree\": 928, \"count\": 3, \"label\": \"count\"}, {\"in_degree\": 929, \"count\": 8, \"label\": \"count\"}, {\"in_degree\": 930, \"count\": 4, \"label\": \"count\"}, {\"in_degree\": 931, \"count\": 3, \"label\": \"count\"}, {\"in_degree\": 932, \"count\": 3, \"label\": \"count\"}, {\"in_degree\": 933, \"count\": 7, \"label\": \"count\"}, {\"in_degree\": 934, \"count\": 3, \"label\": \"count\"}, {\"in_degree\": 935, \"count\": 6, \"label\": \"count\"}, {\"in_degree\": 936, \"count\": 7, \"label\": \"count\"}, {\"in_degree\": 937, \"count\": 2, \"label\": \"count\"}, {\"in_degree\": 938, \"count\": 8, \"label\": \"count\"}, {\"in_degree\": 939, \"count\": 7, \"label\": \"count\"}, {\"in_degree\": 940, \"count\": 7, \"label\": \"count\"}, {\"in_degree\": 941, \"count\": 8, \"label\": \"count\"}, {\"in_degree\": 942, \"count\": 4, \"label\": \"count\"}, {\"in_degree\": 943, \"count\": 6, \"label\": \"count\"}, {\"in_degree\": 944, \"count\": 3, \"label\": \"count\"}, {\"in_degree\": 945, \"count\": 6, \"label\": \"count\"}, {\"in_degree\": 946, \"count\": 4, \"label\": \"count\"}, {\"in_degree\": 947, \"count\": 8, \"label\": \"count\"}, {\"in_degree\": 948, \"count\": 3, \"label\": \"count\"}, {\"in_degree\": 949, \"count\": 4, \"label\": \"count\"}, {\"in_degree\": 950, \"count\": 5, \"label\": \"count\"}, {\"in_degree\": 951, \"count\": 5, \"label\": \"count\"}, {\"in_degree\": 952, \"count\": 1, \"label\": \"count\"}, {\"in_degree\": 953, \"count\": 6, \"label\": \"count\"}, {\"in_degree\": 954, \"count\": 4, \"label\": \"count\"}, {\"in_degree\": 955, \"count\": 6, \"label\": \"count\"}, {\"in_degree\": 956, \"count\": 4, \"label\": \"count\"}, {\"in_degree\": 957, \"count\": 4, \"label\": \"count\"}, {\"in_degree\": 958, \"count\": 2, \"label\": \"count\"}, {\"in_degree\": 959, \"count\": 4, \"label\": \"count\"}, {\"in_degree\": 960, \"count\": 8, \"label\": \"count\"}, {\"in_degree\": 961, \"count\": 2, \"label\": \"count\"}, {\"in_degree\": 962, \"count\": 3, \"label\": \"count\"}, {\"in_degree\": 963, \"count\": 5, \"label\": \"count\"}, {\"in_degree\": 964, \"count\": 4, \"label\": \"count\"}, {\"in_degree\": 965, \"count\": 5, \"label\": \"count\"}, {\"in_degree\": 966, \"count\": 1, \"label\": \"count\"}, {\"in_degree\": 967, \"count\": 11, \"label\": \"count\"}, {\"in_degree\": 968, \"count\": 9, \"label\": \"count\"}, {\"in_degree\": 969, \"count\": 4, \"label\": \"count\"}, {\"in_degree\": 970, \"count\": 4, \"label\": \"count\"}, {\"in_degree\": 971, \"count\": 5, \"label\": \"count\"}, {\"in_degree\": 972, \"count\": 5, \"label\": \"count\"}, {\"in_degree\": 973, \"count\": 5, \"label\": \"count\"}, {\"in_degree\": 974, \"count\": 5, \"label\": \"count\"}, {\"in_degree\": 975, \"count\": 5, \"label\": \"count\"}, {\"in_degree\": 976, \"count\": 3, \"label\": \"count\"}, {\"in_degree\": 977, \"count\": 3, \"label\": \"count\"}, {\"in_degree\": 979, \"count\": 6, \"label\": \"count\"}, {\"in_degree\": 980, \"count\": 3, \"label\": \"count\"}, {\"in_degree\": 981, \"count\": 4, \"label\": \"count\"}, {\"in_degree\": 982, \"count\": 4, \"label\": \"count\"}, {\"in_degree\": 983, \"count\": 4, \"label\": \"count\"}, {\"in_degree\": 984, \"count\": 9, \"label\": \"count\"}, {\"in_degree\": 985, \"count\": 4, \"label\": \"count\"}, {\"in_degree\": 986, \"count\": 2, \"label\": \"count\"}, {\"in_degree\": 987, \"count\": 6, \"label\": \"count\"}, {\"in_degree\": 988, \"count\": 3, \"label\": \"count\"}, {\"in_degree\": 989, \"count\": 3, \"label\": \"count\"}, {\"in_degree\": 990, \"count\": 4, \"label\": \"count\"}, {\"in_degree\": 991, \"count\": 4, \"label\": \"count\"}, {\"in_degree\": 992, \"count\": 2, \"label\": \"count\"}, {\"in_degree\": 993, \"count\": 3, \"label\": \"count\"}, {\"in_degree\": 994, \"count\": 3, \"label\": \"count\"}, {\"in_degree\": 995, \"count\": 5, \"label\": \"count\"}, {\"in_degree\": 996, \"count\": 8, \"label\": \"count\"}, {\"in_degree\": 997, \"count\": 8, \"label\": \"count\"}, {\"in_degree\": 998, \"count\": 4, \"label\": \"count\"}, {\"in_degree\": 999, \"count\": 6, \"label\": \"count\"}, {\"in_degree\": 1000, \"count\": 3, \"label\": \"count\"}, {\"in_degree\": 1001, \"count\": 2, \"label\": \"count\"}, {\"in_degree\": 1002, \"count\": 4, \"label\": \"count\"}, {\"in_degree\": 1003, \"count\": 8, \"label\": \"count\"}, {\"in_degree\": 1004, \"count\": 2, \"label\": \"count\"}, {\"in_degree\": 1005, \"count\": 4, \"label\": \"count\"}, {\"in_degree\": 1006, \"count\": 7, \"label\": \"count\"}, {\"in_degree\": 1007, \"count\": 7, \"label\": \"count\"}, {\"in_degree\": 1008, \"count\": 7, \"label\": \"count\"}, {\"in_degree\": 1009, \"count\": 5, \"label\": \"count\"}, {\"in_degree\": 1010, \"count\": 2, \"label\": \"count\"}, {\"in_degree\": 1011, \"count\": 3, \"label\": \"count\"}, {\"in_degree\": 1012, \"count\": 3, \"label\": \"count\"}, {\"in_degree\": 1013, \"count\": 3, \"label\": \"count\"}, {\"in_degree\": 1014, \"count\": 2, \"label\": \"count\"}, {\"in_degree\": 1015, \"count\": 3, \"label\": \"count\"}, {\"in_degree\": 1016, \"count\": 6, \"label\": \"count\"}, {\"in_degree\": 1017, \"count\": 6, \"label\": \"count\"}, {\"in_degree\": 1018, \"count\": 1, \"label\": \"count\"}, {\"in_degree\": 1019, \"count\": 4, \"label\": \"count\"}, {\"in_degree\": 1020, \"count\": 5, \"label\": \"count\"}, {\"in_degree\": 1021, \"count\": 5, \"label\": \"count\"}, {\"in_degree\": 1022, \"count\": 5, \"label\": \"count\"}, {\"in_degree\": 1023, \"count\": 2, \"label\": \"count\"}, {\"in_degree\": 1024, \"count\": 3, \"label\": \"count\"}, {\"in_degree\": 1025, \"count\": 7, \"label\": \"count\"}, {\"in_degree\": 1026, \"count\": 4, \"label\": \"count\"}, {\"in_degree\": 1027, \"count\": 6, \"label\": \"count\"}, {\"in_degree\": 1028, \"count\": 6, \"label\": \"count\"}, {\"in_degree\": 1029, \"count\": 2, \"label\": \"count\"}, {\"in_degree\": 1030, \"count\": 4, \"label\": \"count\"}, {\"in_degree\": 1031, \"count\": 5, \"label\": \"count\"}, {\"in_degree\": 1032, \"count\": 5, \"label\": \"count\"}, {\"in_degree\": 1033, \"count\": 7, \"label\": \"count\"}, {\"in_degree\": 1034, \"count\": 7, \"label\": \"count\"}, {\"in_degree\": 1035, \"count\": 4, \"label\": \"count\"}, {\"in_degree\": 1036, \"count\": 9, \"label\": \"count\"}, {\"in_degree\": 1037, \"count\": 6, \"label\": \"count\"}, {\"in_degree\": 1038, \"count\": 5, \"label\": \"count\"}, {\"in_degree\": 1039, \"count\": 7, \"label\": \"count\"}, {\"in_degree\": 1040, \"count\": 4, \"label\": \"count\"}, {\"in_degree\": 1041, \"count\": 7, \"label\": \"count\"}, {\"in_degree\": 1042, \"count\": 6, \"label\": \"count\"}, {\"in_degree\": 1043, \"count\": 3, \"label\": \"count\"}, {\"in_degree\": 1044, \"count\": 5, \"label\": \"count\"}, {\"in_degree\": 1045, \"count\": 1, \"label\": \"count\"}, {\"in_degree\": 1046, \"count\": 6, \"label\": \"count\"}, {\"in_degree\": 1047, \"count\": 2, \"label\": \"count\"}, {\"in_degree\": 1048, \"count\": 5, \"label\": \"count\"}, {\"in_degree\": 1049, \"count\": 3, \"label\": \"count\"}, {\"in_degree\": 1050, \"count\": 1, \"label\": \"count\"}, {\"in_degree\": 1051, \"count\": 4, \"label\": \"count\"}, {\"in_degree\": 1052, \"count\": 4, \"label\": \"count\"}, {\"in_degree\": 1053, \"count\": 1, \"label\": \"count\"}, {\"in_degree\": 1054, \"count\": 5, \"label\": \"count\"}, {\"in_degree\": 1055, \"count\": 1, \"label\": \"count\"}, {\"in_degree\": 1056, \"count\": 4, \"label\": \"count\"}, {\"in_degree\": 1057, \"count\": 3, \"label\": \"count\"}, {\"in_degree\": 1058, \"count\": 1, \"label\": \"count\"}, {\"in_degree\": 1059, \"count\": 2, \"label\": \"count\"}, {\"in_degree\": 1061, \"count\": 1, \"label\": \"count\"}, {\"in_degree\": 1062, \"count\": 6, \"label\": \"count\"}, {\"in_degree\": 1063, \"count\": 5, \"label\": \"count\"}, {\"in_degree\": 1064, \"count\": 2, \"label\": \"count\"}, {\"in_degree\": 1065, \"count\": 6, \"label\": \"count\"}, {\"in_degree\": 1066, \"count\": 4, \"label\": \"count\"}, {\"in_degree\": 1067, \"count\": 2, \"label\": \"count\"}, {\"in_degree\": 1068, \"count\": 1, \"label\": \"count\"}, {\"in_degree\": 1069, \"count\": 4, \"label\": \"count\"}, {\"in_degree\": 1070, \"count\": 10, \"label\": \"count\"}, {\"in_degree\": 1071, \"count\": 5, \"label\": \"count\"}, {\"in_degree\": 1072, \"count\": 3, \"label\": \"count\"}, {\"in_degree\": 1073, \"count\": 1, \"label\": \"count\"}, {\"in_degree\": 1074, \"count\": 1, \"label\": \"count\"}, {\"in_degree\": 1075, \"count\": 1, \"label\": \"count\"}, {\"in_degree\": 1076, \"count\": 4, \"label\": \"count\"}, {\"in_degree\": 1077, \"count\": 3, \"label\": \"count\"}, {\"in_degree\": 1078, \"count\": 4, \"label\": \"count\"}, {\"in_degree\": 1079, \"count\": 2, \"label\": \"count\"}, {\"in_degree\": 1080, \"count\": 5, \"label\": \"count\"}, {\"in_degree\": 1081, \"count\": 3, \"label\": \"count\"}, {\"in_degree\": 1082, \"count\": 3, \"label\": \"count\"}, {\"in_degree\": 1083, \"count\": 2, \"label\": \"count\"}, {\"in_degree\": 1084, \"count\": 3, \"label\": \"count\"}, {\"in_degree\": 1085, \"count\": 2, \"label\": \"count\"}, {\"in_degree\": 1086, \"count\": 1, \"label\": \"count\"}, {\"in_degree\": 1087, \"count\": 5, \"label\": \"count\"}, {\"in_degree\": 1088, \"count\": 6, \"label\": \"count\"}, {\"in_degree\": 1089, \"count\": 5, \"label\": \"count\"}, {\"in_degree\": 1090, \"count\": 3, \"label\": \"count\"}, {\"in_degree\": 1091, \"count\": 4, \"label\": \"count\"}, {\"in_degree\": 1092, \"count\": 1, \"label\": \"count\"}, {\"in_degree\": 1093, \"count\": 3, \"label\": \"count\"}, {\"in_degree\": 1094, \"count\": 3, \"label\": \"count\"}, {\"in_degree\": 1095, \"count\": 3, \"label\": \"count\"}, {\"in_degree\": 1096, \"count\": 2, \"label\": \"count\"}, {\"in_degree\": 1097, \"count\": 2, \"label\": \"count\"}, {\"in_degree\": 1098, \"count\": 4, \"label\": \"count\"}, {\"in_degree\": 1099, \"count\": 3, \"label\": \"count\"}, {\"in_degree\": 1100, \"count\": 9, \"label\": \"count\"}, {\"in_degree\": 1101, \"count\": 3, \"label\": \"count\"}, {\"in_degree\": 1102, \"count\": 3, \"label\": \"count\"}, {\"in_degree\": 1103, \"count\": 4, \"label\": \"count\"}, {\"in_degree\": 1104, \"count\": 3, \"label\": \"count\"}, {\"in_degree\": 1105, \"count\": 4, \"label\": \"count\"}, {\"in_degree\": 1106, \"count\": 3, \"label\": \"count\"}, {\"in_degree\": 1107, \"count\": 4, \"label\": \"count\"}, {\"in_degree\": 1108, \"count\": 1, \"label\": \"count\"}, {\"in_degree\": 1109, \"count\": 3, \"label\": \"count\"}, {\"in_degree\": 1110, \"count\": 2, \"label\": \"count\"}, {\"in_degree\": 1111, \"count\": 1, \"label\": \"count\"}, {\"in_degree\": 1112, \"count\": 4, \"label\": \"count\"}, {\"in_degree\": 1113, \"count\": 4, \"label\": \"count\"}, {\"in_degree\": 1114, \"count\": 3, \"label\": \"count\"}, {\"in_degree\": 1115, \"count\": 3, \"label\": \"count\"}, {\"in_degree\": 1116, \"count\": 2, \"label\": \"count\"}, {\"in_degree\": 1117, \"count\": 5, \"label\": \"count\"}, {\"in_degree\": 1118, \"count\": 5, \"label\": \"count\"}, {\"in_degree\": 1119, \"count\": 5, \"label\": \"count\"}, {\"in_degree\": 1120, \"count\": 1, \"label\": \"count\"}, {\"in_degree\": 1121, \"count\": 4, \"label\": \"count\"}, {\"in_degree\": 1122, \"count\": 2, \"label\": \"count\"}, {\"in_degree\": 1123, \"count\": 2, \"label\": \"count\"}, {\"in_degree\": 1124, \"count\": 1, \"label\": \"count\"}, {\"in_degree\": 1125, \"count\": 3, \"label\": \"count\"}, {\"in_degree\": 1126, \"count\": 1, \"label\": \"count\"}, {\"in_degree\": 1127, \"count\": 2, \"label\": \"count\"}, {\"in_degree\": 1128, \"count\": 6, \"label\": \"count\"}, {\"in_degree\": 1129, \"count\": 2, \"label\": \"count\"}, {\"in_degree\": 1130, \"count\": 1, \"label\": \"count\"}, {\"in_degree\": 1131, \"count\": 6, \"label\": \"count\"}, {\"in_degree\": 1132, \"count\": 2, \"label\": \"count\"}, {\"in_degree\": 1133, \"count\": 3, \"label\": \"count\"}, {\"in_degree\": 1134, \"count\": 3, \"label\": \"count\"}, {\"in_degree\": 1135, \"count\": 6, \"label\": \"count\"}, {\"in_degree\": 1136, \"count\": 1, \"label\": \"count\"}, {\"in_degree\": 1137, \"count\": 1, \"label\": \"count\"}, {\"in_degree\": 1138, \"count\": 4, \"label\": \"count\"}, {\"in_degree\": 1139, \"count\": 6, \"label\": \"count\"}, {\"in_degree\": 1140, \"count\": 2, \"label\": \"count\"}, {\"in_degree\": 1141, \"count\": 3, \"label\": \"count\"}, {\"in_degree\": 1142, \"count\": 4, \"label\": \"count\"}, {\"in_degree\": 1143, \"count\": 3, \"label\": \"count\"}, {\"in_degree\": 1144, \"count\": 2, \"label\": \"count\"}, {\"in_degree\": 1145, \"count\": 4, \"label\": \"count\"}, {\"in_degree\": 1146, \"count\": 8, \"label\": \"count\"}, {\"in_degree\": 1147, \"count\": 2, \"label\": \"count\"}, {\"in_degree\": 1148, \"count\": 4, \"label\": \"count\"}, {\"in_degree\": 1149, \"count\": 2, \"label\": \"count\"}, {\"in_degree\": 1150, \"count\": 4, \"label\": \"count\"}, {\"in_degree\": 1151, \"count\": 6, \"label\": \"count\"}, {\"in_degree\": 1152, \"count\": 5, \"label\": \"count\"}, {\"in_degree\": 1153, \"count\": 1, \"label\": \"count\"}, {\"in_degree\": 1154, \"count\": 5, \"label\": \"count\"}, {\"in_degree\": 1155, \"count\": 5, \"label\": \"count\"}, {\"in_degree\": 1157, \"count\": 2, \"label\": \"count\"}, {\"in_degree\": 1158, \"count\": 6, \"label\": \"count\"}, {\"in_degree\": 1159, \"count\": 4, \"label\": \"count\"}, {\"in_degree\": 1160, \"count\": 3, \"label\": \"count\"}, {\"in_degree\": 1161, \"count\": 5, \"label\": \"count\"}, {\"in_degree\": 1162, \"count\": 5, \"label\": \"count\"}, {\"in_degree\": 1163, \"count\": 2, \"label\": \"count\"}, {\"in_degree\": 1164, \"count\": 3, \"label\": \"count\"}, {\"in_degree\": 1165, \"count\": 4, \"label\": \"count\"}, {\"in_degree\": 1166, \"count\": 3, \"label\": \"count\"}, {\"in_degree\": 1167, \"count\": 2, \"label\": \"count\"}, {\"in_degree\": 1168, \"count\": 5, \"label\": \"count\"}, {\"in_degree\": 1169, \"count\": 1, \"label\": \"count\"}, {\"in_degree\": 1171, \"count\": 4, \"label\": \"count\"}, {\"in_degree\": 1172, \"count\": 2, \"label\": \"count\"}, {\"in_degree\": 1173, \"count\": 4, \"label\": \"count\"}, {\"in_degree\": 1174, \"count\": 3, \"label\": \"count\"}, {\"in_degree\": 1175, \"count\": 2, \"label\": \"count\"}, {\"in_degree\": 1176, \"count\": 4, \"label\": \"count\"}, {\"in_degree\": 1177, \"count\": 3, \"label\": \"count\"}, {\"in_degree\": 1178, \"count\": 2, \"label\": \"count\"}, {\"in_degree\": 1179, \"count\": 1, \"label\": \"count\"}, {\"in_degree\": 1180, \"count\": 4, \"label\": \"count\"}, {\"in_degree\": 1181, \"count\": 2, \"label\": \"count\"}, {\"in_degree\": 1182, \"count\": 4, \"label\": \"count\"}, {\"in_degree\": 1183, \"count\": 3, \"label\": \"count\"}, {\"in_degree\": 1184, \"count\": 1, \"label\": \"count\"}, {\"in_degree\": 1185, \"count\": 1, \"label\": \"count\"}, {\"in_degree\": 1186, \"count\": 1, \"label\": \"count\"}, {\"in_degree\": 1187, \"count\": 2, \"label\": \"count\"}, {\"in_degree\": 1188, \"count\": 2, \"label\": \"count\"}, {\"in_degree\": 1189, \"count\": 3, \"label\": \"count\"}, {\"in_degree\": 1190, \"count\": 7, \"label\": \"count\"}, {\"in_degree\": 1191, \"count\": 4, \"label\": \"count\"}, {\"in_degree\": 1192, \"count\": 6, \"label\": \"count\"}, {\"in_degree\": 1193, \"count\": 1, \"label\": \"count\"}, {\"in_degree\": 1194, \"count\": 3, \"label\": \"count\"}, {\"in_degree\": 1195, \"count\": 2, \"label\": \"count\"}, {\"in_degree\": 1196, \"count\": 1, \"label\": \"count\"}, {\"in_degree\": 1198, \"count\": 6, \"label\": \"count\"}, {\"in_degree\": 1199, \"count\": 2, \"label\": \"count\"}, {\"in_degree\": 1200, \"count\": 4, \"label\": \"count\"}, {\"in_degree\": 1201, \"count\": 3, \"label\": \"count\"}, {\"in_degree\": 1202, \"count\": 3, \"label\": \"count\"}, {\"in_degree\": 1203, \"count\": 4, \"label\": \"count\"}, {\"in_degree\": 1204, \"count\": 6, \"label\": \"count\"}, {\"in_degree\": 1205, \"count\": 2, \"label\": \"count\"}, {\"in_degree\": 1207, \"count\": 4, \"label\": \"count\"}, {\"in_degree\": 1208, \"count\": 3, \"label\": \"count\"}, {\"in_degree\": 1209, \"count\": 3, \"label\": \"count\"}, {\"in_degree\": 1210, \"count\": 2, \"label\": \"count\"}, {\"in_degree\": 1211, \"count\": 2, \"label\": \"count\"}, {\"in_degree\": 1212, \"count\": 3, \"label\": \"count\"}, {\"in_degree\": 1213, \"count\": 2, \"label\": \"count\"}, {\"in_degree\": 1214, \"count\": 5, \"label\": \"count\"}, {\"in_degree\": 1215, \"count\": 1, \"label\": \"count\"}, {\"in_degree\": 1217, \"count\": 2, \"label\": \"count\"}, {\"in_degree\": 1218, \"count\": 6, \"label\": \"count\"}, {\"in_degree\": 1219, \"count\": 4, \"label\": \"count\"}, {\"in_degree\": 1220, \"count\": 2, \"label\": \"count\"}, {\"in_degree\": 1222, \"count\": 2, \"label\": \"count\"}, {\"in_degree\": 1223, \"count\": 1, \"label\": \"count\"}, {\"in_degree\": 1225, \"count\": 3, \"label\": \"count\"}, {\"in_degree\": 1226, \"count\": 1, \"label\": \"count\"}, {\"in_degree\": 1227, \"count\": 1, \"label\": \"count\"}, {\"in_degree\": 1228, \"count\": 4, \"label\": \"count\"}, {\"in_degree\": 1229, \"count\": 3, \"label\": \"count\"}, {\"in_degree\": 1230, \"count\": 3, \"label\": \"count\"}, {\"in_degree\": 1231, \"count\": 6, \"label\": \"count\"}, {\"in_degree\": 1232, \"count\": 5, \"label\": \"count\"}, {\"in_degree\": 1233, \"count\": 1, \"label\": \"count\"}, {\"in_degree\": 1234, \"count\": 1, \"label\": \"count\"}, {\"in_degree\": 1235, \"count\": 2, \"label\": \"count\"}, {\"in_degree\": 1236, \"count\": 1, \"label\": \"count\"}, {\"in_degree\": 1237, \"count\": 2, \"label\": \"count\"}, {\"in_degree\": 1238, \"count\": 2, \"label\": \"count\"}, {\"in_degree\": 1239, \"count\": 2, \"label\": \"count\"}, {\"in_degree\": 1240, \"count\": 1, \"label\": \"count\"}, {\"in_degree\": 1241, \"count\": 5, \"label\": \"count\"}, {\"in_degree\": 1242, \"count\": 4, \"label\": \"count\"}, {\"in_degree\": 1243, \"count\": 3, \"label\": \"count\"}, {\"in_degree\": 1244, \"count\": 6, \"label\": \"count\"}, {\"in_degree\": 1245, \"count\": 1, \"label\": \"count\"}, {\"in_degree\": 1246, \"count\": 3, \"label\": \"count\"}, {\"in_degree\": 1248, \"count\": 3, \"label\": \"count\"}, {\"in_degree\": 1249, \"count\": 6, \"label\": \"count\"}, {\"in_degree\": 1250, \"count\": 5, \"label\": \"count\"}, {\"in_degree\": 1251, \"count\": 5, \"label\": \"count\"}, {\"in_degree\": 1252, \"count\": 4, \"label\": \"count\"}, {\"in_degree\": 1253, \"count\": 3, \"label\": \"count\"}, {\"in_degree\": 1254, \"count\": 2, \"label\": \"count\"}, {\"in_degree\": 1255, \"count\": 1, \"label\": \"count\"}, {\"in_degree\": 1256, \"count\": 2, \"label\": \"count\"}, {\"in_degree\": 1257, \"count\": 2, \"label\": \"count\"}, {\"in_degree\": 1258, \"count\": 1, \"label\": \"count\"}, {\"in_degree\": 1259, \"count\": 3, \"label\": \"count\"}, {\"in_degree\": 1260, \"count\": 5, \"label\": \"count\"}, {\"in_degree\": 1261, \"count\": 3, \"label\": \"count\"}, {\"in_degree\": 1262, \"count\": 4, \"label\": \"count\"}, {\"in_degree\": 1263, \"count\": 2, \"label\": \"count\"}, {\"in_degree\": 1264, \"count\": 1, \"label\": \"count\"}, {\"in_degree\": 1265, \"count\": 3, \"label\": \"count\"}, {\"in_degree\": 1266, \"count\": 3, \"label\": \"count\"}, {\"in_degree\": 1267, \"count\": 2, \"label\": \"count\"}, {\"in_degree\": 1268, \"count\": 2, \"label\": \"count\"}, {\"in_degree\": 1269, \"count\": 2, \"label\": \"count\"}, {\"in_degree\": 1270, \"count\": 5, \"label\": \"count\"}, {\"in_degree\": 1271, \"count\": 3, \"label\": \"count\"}, {\"in_degree\": 1272, \"count\": 2, \"label\": \"count\"}, {\"in_degree\": 1273, \"count\": 3, \"label\": \"count\"}, {\"in_degree\": 1274, \"count\": 5, \"label\": \"count\"}, {\"in_degree\": 1275, \"count\": 3, \"label\": \"count\"}, {\"in_degree\": 1277, \"count\": 1, \"label\": \"count\"}, {\"in_degree\": 1278, \"count\": 3, \"label\": \"count\"}, {\"in_degree\": 1279, \"count\": 5, \"label\": \"count\"}, {\"in_degree\": 1280, \"count\": 4, \"label\": \"count\"}, {\"in_degree\": 1281, \"count\": 4, \"label\": \"count\"}, {\"in_degree\": 1282, \"count\": 3, \"label\": \"count\"}, {\"in_degree\": 1283, \"count\": 2, \"label\": \"count\"}, {\"in_degree\": 1284, \"count\": 3, \"label\": \"count\"}, {\"in_degree\": 1285, \"count\": 4, \"label\": \"count\"}, {\"in_degree\": 1286, \"count\": 3, \"label\": \"count\"}, {\"in_degree\": 1287, \"count\": 2, \"label\": \"count\"}, {\"in_degree\": 1288, \"count\": 2, \"label\": \"count\"}, {\"in_degree\": 1290, \"count\": 2, \"label\": \"count\"}, {\"in_degree\": 1291, \"count\": 3, \"label\": \"count\"}, {\"in_degree\": 1292, \"count\": 4, \"label\": \"count\"}, {\"in_degree\": 1293, \"count\": 1, \"label\": \"count\"}, {\"in_degree\": 1295, \"count\": 2, \"label\": \"count\"}, {\"in_degree\": 1296, \"count\": 1, \"label\": \"count\"}, {\"in_degree\": 1297, \"count\": 3, \"label\": \"count\"}, {\"in_degree\": 1298, \"count\": 2, \"label\": \"count\"}, {\"in_degree\": 1299, \"count\": 3, \"label\": \"count\"}, {\"in_degree\": 1300, \"count\": 3, \"label\": \"count\"}, {\"in_degree\": 1301, \"count\": 7, \"label\": \"count\"}, {\"in_degree\": 1302, \"count\": 4, \"label\": \"count\"}, {\"in_degree\": 1303, \"count\": 6, \"label\": \"count\"}, {\"in_degree\": 1306, \"count\": 6, \"label\": \"count\"}, {\"in_degree\": 1307, \"count\": 3, \"label\": \"count\"}, {\"in_degree\": 1308, \"count\": 2, \"label\": \"count\"}, {\"in_degree\": 1309, \"count\": 2, \"label\": \"count\"}, {\"in_degree\": 1310, \"count\": 2, \"label\": \"count\"}, {\"in_degree\": 1311, \"count\": 1, \"label\": \"count\"}, {\"in_degree\": 1312, \"count\": 3, \"label\": \"count\"}, {\"in_degree\": 1313, \"count\": 1, \"label\": \"count\"}, {\"in_degree\": 1314, \"count\": 2, \"label\": \"count\"}, {\"in_degree\": 1315, \"count\": 5, \"label\": \"count\"}, {\"in_degree\": 1316, \"count\": 1, \"label\": \"count\"}, {\"in_degree\": 1317, \"count\": 2, \"label\": \"count\"}, {\"in_degree\": 1318, \"count\": 2, \"label\": \"count\"}, {\"in_degree\": 1319, \"count\": 3, \"label\": \"count\"}, {\"in_degree\": 1320, \"count\": 4, \"label\": \"count\"}, {\"in_degree\": 1321, \"count\": 1, \"label\": \"count\"}, {\"in_degree\": 1322, \"count\": 3, \"label\": \"count\"}, {\"in_degree\": 1323, \"count\": 5, \"label\": \"count\"}, {\"in_degree\": 1324, \"count\": 2, \"label\": \"count\"}, {\"in_degree\": 1325, \"count\": 3, \"label\": \"count\"}, {\"in_degree\": 1326, \"count\": 2, \"label\": \"count\"}, {\"in_degree\": 1327, \"count\": 3, \"label\": \"count\"}, {\"in_degree\": 1328, \"count\": 1, \"label\": \"count\"}, {\"in_degree\": 1329, \"count\": 4, \"label\": \"count\"}, {\"in_degree\": 1330, \"count\": 1, \"label\": \"count\"}, {\"in_degree\": 1331, \"count\": 4, \"label\": \"count\"}, {\"in_degree\": 1332, \"count\": 1, \"label\": \"count\"}, {\"in_degree\": 1333, \"count\": 3, \"label\": \"count\"}, {\"in_degree\": 1334, \"count\": 1, \"label\": \"count\"}, {\"in_degree\": 1335, \"count\": 2, \"label\": \"count\"}, {\"in_degree\": 1336, \"count\": 3, \"label\": \"count\"}, {\"in_degree\": 1337, \"count\": 1, \"label\": \"count\"}, {\"in_degree\": 1338, \"count\": 2, \"label\": \"count\"}, {\"in_degree\": 1339, \"count\": 1, \"label\": \"count\"}, {\"in_degree\": 1340, \"count\": 4, \"label\": \"count\"}, {\"in_degree\": 1341, \"count\": 1, \"label\": \"count\"}, {\"in_degree\": 1342, \"count\": 1, \"label\": \"count\"}, {\"in_degree\": 1343, \"count\": 1, \"label\": \"count\"}, {\"in_degree\": 1344, \"count\": 2, \"label\": \"count\"}, {\"in_degree\": 1346, \"count\": 3, \"label\": \"count\"}, {\"in_degree\": 1347, \"count\": 3, \"label\": \"count\"}, {\"in_degree\": 1348, \"count\": 3, \"label\": \"count\"}, {\"in_degree\": 1349, \"count\": 2, \"label\": \"count\"}, {\"in_degree\": 1350, \"count\": 3, \"label\": \"count\"}, {\"in_degree\": 1351, \"count\": 2, \"label\": \"count\"}, {\"in_degree\": 1352, \"count\": 3, \"label\": \"count\"}, {\"in_degree\": 1353, \"count\": 2, \"label\": \"count\"}, {\"in_degree\": 1354, \"count\": 2, \"label\": \"count\"}, {\"in_degree\": 1355, \"count\": 1, \"label\": \"count\"}, {\"in_degree\": 1356, \"count\": 6, \"label\": \"count\"}, {\"in_degree\": 1357, \"count\": 1, \"label\": \"count\"}, {\"in_degree\": 1358, \"count\": 4, \"label\": \"count\"}, {\"in_degree\": 1359, \"count\": 2, \"label\": \"count\"}, {\"in_degree\": 1360, \"count\": 3, \"label\": \"count\"}, {\"in_degree\": 1361, \"count\": 3, \"label\": \"count\"}, {\"in_degree\": 1363, \"count\": 4, \"label\": \"count\"}, {\"in_degree\": 1364, \"count\": 2, \"label\": \"count\"}, {\"in_degree\": 1365, \"count\": 5, \"label\": \"count\"}, {\"in_degree\": 1366, \"count\": 3, \"label\": \"count\"}, {\"in_degree\": 1367, \"count\": 1, \"label\": \"count\"}, {\"in_degree\": 1368, \"count\": 2, \"label\": \"count\"}, {\"in_degree\": 1369, \"count\": 4, \"label\": \"count\"}, {\"in_degree\": 1370, \"count\": 3, \"label\": \"count\"}, {\"in_degree\": 1371, \"count\": 2, \"label\": \"count\"}, {\"in_degree\": 1372, \"count\": 1, \"label\": \"count\"}, {\"in_degree\": 1374, \"count\": 5, \"label\": \"count\"}, {\"in_degree\": 1376, \"count\": 2, \"label\": \"count\"}, {\"in_degree\": 1377, \"count\": 1, \"label\": \"count\"}, {\"in_degree\": 1378, \"count\": 1, \"label\": \"count\"}, {\"in_degree\": 1379, \"count\": 2, \"label\": \"count\"}, {\"in_degree\": 1380, \"count\": 1, \"label\": \"count\"}, {\"in_degree\": 1381, \"count\": 1, \"label\": \"count\"}, {\"in_degree\": 1382, \"count\": 1, \"label\": \"count\"}, {\"in_degree\": 1383, \"count\": 4, \"label\": \"count\"}, {\"in_degree\": 1384, \"count\": 3, \"label\": \"count\"}, {\"in_degree\": 1385, \"count\": 5, \"label\": \"count\"}, {\"in_degree\": 1386, \"count\": 2, \"label\": \"count\"}, {\"in_degree\": 1387, \"count\": 3, \"label\": \"count\"}, {\"in_degree\": 1389, \"count\": 1, \"label\": \"count\"}, {\"in_degree\": 1390, \"count\": 3, \"label\": \"count\"}, {\"in_degree\": 1391, \"count\": 4, \"label\": \"count\"}, {\"in_degree\": 1393, \"count\": 2, \"label\": \"count\"}, {\"in_degree\": 1394, \"count\": 3, \"label\": \"count\"}, {\"in_degree\": 1395, \"count\": 2, \"label\": \"count\"}, {\"in_degree\": 1396, \"count\": 1, \"label\": \"count\"}, {\"in_degree\": 1397, \"count\": 1, \"label\": \"count\"}, {\"in_degree\": 1398, \"count\": 1, \"label\": \"count\"}, {\"in_degree\": 1399, \"count\": 4, \"label\": \"count\"}, {\"in_degree\": 1400, \"count\": 1, \"label\": \"count\"}, {\"in_degree\": 1401, \"count\": 2, \"label\": \"count\"}, {\"in_degree\": 1402, \"count\": 5, \"label\": \"count\"}, {\"in_degree\": 1403, \"count\": 2, \"label\": \"count\"}, {\"in_degree\": 1404, \"count\": 1, \"label\": \"count\"}, {\"in_degree\": 1405, \"count\": 3, \"label\": \"count\"}, {\"in_degree\": 1406, \"count\": 2, \"label\": \"count\"}, {\"in_degree\": 1409, \"count\": 1, \"label\": \"count\"}, {\"in_degree\": 1410, \"count\": 2, \"label\": \"count\"}, {\"in_degree\": 1411, \"count\": 5, \"label\": \"count\"}, {\"in_degree\": 1412, \"count\": 2, \"label\": \"count\"}, {\"in_degree\": 1413, \"count\": 4, \"label\": \"count\"}, {\"in_degree\": 1415, \"count\": 2, \"label\": \"count\"}, {\"in_degree\": 1416, \"count\": 2, \"label\": \"count\"}, {\"in_degree\": 1417, \"count\": 4, \"label\": \"count\"}, {\"in_degree\": 1418, \"count\": 1, \"label\": \"count\"}, {\"in_degree\": 1419, \"count\": 1, \"label\": \"count\"}, {\"in_degree\": 1420, \"count\": 1, \"label\": \"count\"}, {\"in_degree\": 1421, \"count\": 2, \"label\": \"count\"}, {\"in_degree\": 1422, \"count\": 1, \"label\": \"count\"}, {\"in_degree\": 1423, \"count\": 1, \"label\": \"count\"}, {\"in_degree\": 1424, \"count\": 1, \"label\": \"count\"}, {\"in_degree\": 1426, \"count\": 4, \"label\": \"count\"}, {\"in_degree\": 1427, \"count\": 3, \"label\": \"count\"}, {\"in_degree\": 1428, \"count\": 1, \"label\": \"count\"}, {\"in_degree\": 1429, \"count\": 1, \"label\": \"count\"}, {\"in_degree\": 1430, \"count\": 3, \"label\": \"count\"}, {\"in_degree\": 1431, \"count\": 2, \"label\": \"count\"}, {\"in_degree\": 1432, \"count\": 3, \"label\": \"count\"}, {\"in_degree\": 1433, \"count\": 1, \"label\": \"count\"}, {\"in_degree\": 1434, \"count\": 3, \"label\": \"count\"}, {\"in_degree\": 1435, \"count\": 3, \"label\": \"count\"}, {\"in_degree\": 1436, \"count\": 1, \"label\": \"count\"}, {\"in_degree\": 1438, \"count\": 3, \"label\": \"count\"}, {\"in_degree\": 1439, \"count\": 1, \"label\": \"count\"}, {\"in_degree\": 1440, \"count\": 2, \"label\": \"count\"}, {\"in_degree\": 1441, \"count\": 4, \"label\": \"count\"}, {\"in_degree\": 1443, \"count\": 5, \"label\": \"count\"}, {\"in_degree\": 1444, \"count\": 3, \"label\": \"count\"}, {\"in_degree\": 1445, \"count\": 1, \"label\": \"count\"}, {\"in_degree\": 1446, \"count\": 4, \"label\": \"count\"}, {\"in_degree\": 1447, \"count\": 3, \"label\": \"count\"}, {\"in_degree\": 1449, \"count\": 3, \"label\": \"count\"}, {\"in_degree\": 1450, \"count\": 3, \"label\": \"count\"}, {\"in_degree\": 1451, \"count\": 3, \"label\": \"count\"}, {\"in_degree\": 1453, \"count\": 2, \"label\": \"count\"}, {\"in_degree\": 1454, \"count\": 3, \"label\": \"count\"}, {\"in_degree\": 1457, \"count\": 2, \"label\": \"count\"}, {\"in_degree\": 1458, \"count\": 2, \"label\": \"count\"}, {\"in_degree\": 1459, \"count\": 2, \"label\": \"count\"}, {\"in_degree\": 1460, \"count\": 2, \"label\": \"count\"}, {\"in_degree\": 1461, \"count\": 1, \"label\": \"count\"}, {\"in_degree\": 1463, \"count\": 3, \"label\": \"count\"}, {\"in_degree\": 1464, \"count\": 5, \"label\": \"count\"}, {\"in_degree\": 1465, \"count\": 2, \"label\": \"count\"}, {\"in_degree\": 1466, \"count\": 1, \"label\": \"count\"}, {\"in_degree\": 1467, \"count\": 1, \"label\": \"count\"}, {\"in_degree\": 1468, \"count\": 1, \"label\": \"count\"}, {\"in_degree\": 1469, \"count\": 5, \"label\": \"count\"}, {\"in_degree\": 1471, \"count\": 3, \"label\": \"count\"}, {\"in_degree\": 1473, \"count\": 2, \"label\": \"count\"}, {\"in_degree\": 1474, \"count\": 2, \"label\": \"count\"}, {\"in_degree\": 1475, \"count\": 1, \"label\": \"count\"}, {\"in_degree\": 1476, \"count\": 1, \"label\": \"count\"}, {\"in_degree\": 1477, \"count\": 1, \"label\": \"count\"}, {\"in_degree\": 1478, \"count\": 2, \"label\": \"count\"}, {\"in_degree\": 1481, \"count\": 1, \"label\": \"count\"}, {\"in_degree\": 1482, \"count\": 4, \"label\": \"count\"}, {\"in_degree\": 1483, \"count\": 1, \"label\": \"count\"}, {\"in_degree\": 1484, \"count\": 3, \"label\": \"count\"}, {\"in_degree\": 1485, \"count\": 2, \"label\": \"count\"}, {\"in_degree\": 1486, \"count\": 1, \"label\": \"count\"}, {\"in_degree\": 1487, \"count\": 4, \"label\": \"count\"}, {\"in_degree\": 1488, \"count\": 1, \"label\": \"count\"}, {\"in_degree\": 1489, \"count\": 2, \"label\": \"count\"}, {\"in_degree\": 1491, \"count\": 1, \"label\": \"count\"}, {\"in_degree\": 1492, \"count\": 2, \"label\": \"count\"}, {\"in_degree\": 1493, \"count\": 2, \"label\": \"count\"}, {\"in_degree\": 1495, \"count\": 2, \"label\": \"count\"}, {\"in_degree\": 1496, \"count\": 1, \"label\": \"count\"}, {\"in_degree\": 1497, \"count\": 4, \"label\": \"count\"}, {\"in_degree\": 1498, \"count\": 3, \"label\": \"count\"}, {\"in_degree\": 1499, \"count\": 2, \"label\": \"count\"}, {\"in_degree\": 1500, \"count\": 1, \"label\": \"count\"}, {\"in_degree\": 1501, \"count\": 3, \"label\": \"count\"}, {\"in_degree\": 1502, \"count\": 2, \"label\": \"count\"}, {\"in_degree\": 1503, \"count\": 4, \"label\": \"count\"}, {\"in_degree\": 1504, \"count\": 3, \"label\": \"count\"}, {\"in_degree\": 1505, \"count\": 1, \"label\": \"count\"}, {\"in_degree\": 1507, \"count\": 4, \"label\": \"count\"}, {\"in_degree\": 1508, \"count\": 3, \"label\": \"count\"}, {\"in_degree\": 1509, \"count\": 4, \"label\": \"count\"}, {\"in_degree\": 1512, \"count\": 3, \"label\": \"count\"}, {\"in_degree\": 1513, \"count\": 1, \"label\": \"count\"}, {\"in_degree\": 1514, \"count\": 1, \"label\": \"count\"}, {\"in_degree\": 1517, \"count\": 4, \"label\": \"count\"}, {\"in_degree\": 1518, \"count\": 3, \"label\": \"count\"}, {\"in_degree\": 1519, \"count\": 1, \"label\": \"count\"}, {\"in_degree\": 1520, \"count\": 2, \"label\": \"count\"}, {\"in_degree\": 1521, \"count\": 1, \"label\": \"count\"}, {\"in_degree\": 1522, \"count\": 1, \"label\": \"count\"}, {\"in_degree\": 1523, \"count\": 4, \"label\": \"count\"}, {\"in_degree\": 1524, \"count\": 2, \"label\": \"count\"}, {\"in_degree\": 1525, \"count\": 2, \"label\": \"count\"}, {\"in_degree\": 1526, \"count\": 1, \"label\": \"count\"}, {\"in_degree\": 1528, \"count\": 2, \"label\": \"count\"}, {\"in_degree\": 1529, \"count\": 2, \"label\": \"count\"}, {\"in_degree\": 1530, \"count\": 1, \"label\": \"count\"}, {\"in_degree\": 1532, \"count\": 1, \"label\": \"count\"}, {\"in_degree\": 1533, \"count\": 1, \"label\": \"count\"}, {\"in_degree\": 1534, \"count\": 2, \"label\": \"count\"}, {\"in_degree\": 1536, \"count\": 1, \"label\": \"count\"}, {\"in_degree\": 1537, \"count\": 3, \"label\": \"count\"}, {\"in_degree\": 1538, \"count\": 2, \"label\": \"count\"}, {\"in_degree\": 1539, \"count\": 4, \"label\": \"count\"}, {\"in_degree\": 1540, \"count\": 1, \"label\": \"count\"}, {\"in_degree\": 1542, \"count\": 3, \"label\": \"count\"}, {\"in_degree\": 1543, \"count\": 1, \"label\": \"count\"}, {\"in_degree\": 1544, \"count\": 1, \"label\": \"count\"}, {\"in_degree\": 1545, \"count\": 1, \"label\": \"count\"}, {\"in_degree\": 1546, \"count\": 1, \"label\": \"count\"}, {\"in_degree\": 1547, \"count\": 1, \"label\": \"count\"}, {\"in_degree\": 1548, \"count\": 1, \"label\": \"count\"}, {\"in_degree\": 1549, \"count\": 4, \"label\": \"count\"}, {\"in_degree\": 1550, \"count\": 4, \"label\": \"count\"}, {\"in_degree\": 1551, \"count\": 1, \"label\": \"count\"}, {\"in_degree\": 1552, \"count\": 2, \"label\": \"count\"}, {\"in_degree\": 1553, \"count\": 2, \"label\": \"count\"}, {\"in_degree\": 1554, \"count\": 1, \"label\": \"count\"}, {\"in_degree\": 1555, \"count\": 4, \"label\": \"count\"}, {\"in_degree\": 1556, \"count\": 3, \"label\": \"count\"}, {\"in_degree\": 1557, \"count\": 1, \"label\": \"count\"}, {\"in_degree\": 1559, \"count\": 2, \"label\": \"count\"}, {\"in_degree\": 1560, \"count\": 3, \"label\": \"count\"}, {\"in_degree\": 1562, \"count\": 4, \"label\": \"count\"}, {\"in_degree\": 1563, \"count\": 1, \"label\": \"count\"}, {\"in_degree\": 1564, \"count\": 4, \"label\": \"count\"}, {\"in_degree\": 1565, \"count\": 1, \"label\": \"count\"}, {\"in_degree\": 1566, \"count\": 1, \"label\": \"count\"}, {\"in_degree\": 1568, \"count\": 3, \"label\": \"count\"}, {\"in_degree\": 1569, \"count\": 1, \"label\": \"count\"}, {\"in_degree\": 1570, \"count\": 2, \"label\": \"count\"}, {\"in_degree\": 1571, \"count\": 1, \"label\": \"count\"}, {\"in_degree\": 1572, \"count\": 5, \"label\": \"count\"}, {\"in_degree\": 1573, \"count\": 3, \"label\": \"count\"}, {\"in_degree\": 1574, \"count\": 1, \"label\": \"count\"}, {\"in_degree\": 1575, \"count\": 1, \"label\": \"count\"}, {\"in_degree\": 1576, \"count\": 1, \"label\": \"count\"}, {\"in_degree\": 1577, \"count\": 3, \"label\": \"count\"}, {\"in_degree\": 1579, \"count\": 2, \"label\": \"count\"}, {\"in_degree\": 1581, \"count\": 3, \"label\": \"count\"}, {\"in_degree\": 1584, \"count\": 2, \"label\": \"count\"}, {\"in_degree\": 1585, \"count\": 2, \"label\": \"count\"}, {\"in_degree\": 1586, \"count\": 3, \"label\": \"count\"}, {\"in_degree\": 1587, \"count\": 5, \"label\": \"count\"}, {\"in_degree\": 1589, \"count\": 1, \"label\": \"count\"}, {\"in_degree\": 1590, \"count\": 1, \"label\": \"count\"}, {\"in_degree\": 1591, \"count\": 1, \"label\": \"count\"}, {\"in_degree\": 1592, \"count\": 1, \"label\": \"count\"}, {\"in_degree\": 1595, \"count\": 1, \"label\": \"count\"}, {\"in_degree\": 1597, \"count\": 2, \"label\": \"count\"}, {\"in_degree\": 1598, \"count\": 2, \"label\": \"count\"}, {\"in_degree\": 1600, \"count\": 3, \"label\": \"count\"}, {\"in_degree\": 1601, \"count\": 3, \"label\": \"count\"}, {\"in_degree\": 1602, \"count\": 2, \"label\": \"count\"}, {\"in_degree\": 1603, \"count\": 2, \"label\": \"count\"}, {\"in_degree\": 1604, \"count\": 1, \"label\": \"count\"}, {\"in_degree\": 1605, \"count\": 2, \"label\": \"count\"}, {\"in_degree\": 1607, \"count\": 2, \"label\": \"count\"}, {\"in_degree\": 1608, \"count\": 1, \"label\": \"count\"}, {\"in_degree\": 1609, \"count\": 1, \"label\": \"count\"}, {\"in_degree\": 1611, \"count\": 1, \"label\": \"count\"}, {\"in_degree\": 1612, \"count\": 4, \"label\": \"count\"}, {\"in_degree\": 1613, \"count\": 4, \"label\": \"count\"}, {\"in_degree\": 1614, \"count\": 3, \"label\": \"count\"}, {\"in_degree\": 1615, \"count\": 3, \"label\": \"count\"}, {\"in_degree\": 1616, \"count\": 2, \"label\": \"count\"}, {\"in_degree\": 1618, \"count\": 1, \"label\": \"count\"}, {\"in_degree\": 1620, \"count\": 4, \"label\": \"count\"}, {\"in_degree\": 1622, \"count\": 2, \"label\": \"count\"}, {\"in_degree\": 1623, \"count\": 3, \"label\": \"count\"}, {\"in_degree\": 1624, \"count\": 1, \"label\": \"count\"}, {\"in_degree\": 1625, \"count\": 3, \"label\": \"count\"}, {\"in_degree\": 1626, \"count\": 2, \"label\": \"count\"}, {\"in_degree\": 1627, \"count\": 2, \"label\": \"count\"}, {\"in_degree\": 1628, \"count\": 1, \"label\": \"count\"}, {\"in_degree\": 1629, \"count\": 1, \"label\": \"count\"}, {\"in_degree\": 1630, \"count\": 1, \"label\": \"count\"}, {\"in_degree\": 1631, \"count\": 1, \"label\": \"count\"}, {\"in_degree\": 1632, \"count\": 1, \"label\": \"count\"}, {\"in_degree\": 1633, \"count\": 3, \"label\": \"count\"}, {\"in_degree\": 1634, \"count\": 1, \"label\": \"count\"}, {\"in_degree\": 1635, \"count\": 3, \"label\": \"count\"}, {\"in_degree\": 1637, \"count\": 2, \"label\": \"count\"}, {\"in_degree\": 1638, \"count\": 1, \"label\": \"count\"}, {\"in_degree\": 1640, \"count\": 3, \"label\": \"count\"}, {\"in_degree\": 1641, \"count\": 2, \"label\": \"count\"}, {\"in_degree\": 1643, \"count\": 2, \"label\": \"count\"}, {\"in_degree\": 1644, \"count\": 3, \"label\": \"count\"}, {\"in_degree\": 1645, \"count\": 1, \"label\": \"count\"}, {\"in_degree\": 1646, \"count\": 2, \"label\": \"count\"}, {\"in_degree\": 1647, \"count\": 1, \"label\": \"count\"}, {\"in_degree\": 1648, \"count\": 1, \"label\": \"count\"}, {\"in_degree\": 1649, \"count\": 1, \"label\": \"count\"}, {\"in_degree\": 1651, \"count\": 2, \"label\": \"count\"}, {\"in_degree\": 1652, \"count\": 2, \"label\": \"count\"}, {\"in_degree\": 1653, \"count\": 1, \"label\": \"count\"}, {\"in_degree\": 1654, \"count\": 1, \"label\": \"count\"}, {\"in_degree\": 1655, \"count\": 1, \"label\": \"count\"}, {\"in_degree\": 1656, \"count\": 2, \"label\": \"count\"}, {\"in_degree\": 1658, \"count\": 6, \"label\": \"count\"}, {\"in_degree\": 1659, \"count\": 1, \"label\": \"count\"}, {\"in_degree\": 1661, \"count\": 2, \"label\": \"count\"}, {\"in_degree\": 1662, \"count\": 3, \"label\": \"count\"}, {\"in_degree\": 1663, \"count\": 4, \"label\": \"count\"}, {\"in_degree\": 1664, \"count\": 1, \"label\": \"count\"}, {\"in_degree\": 1665, \"count\": 2, \"label\": \"count\"}, {\"in_degree\": 1668, \"count\": 3, \"label\": \"count\"}, {\"in_degree\": 1671, \"count\": 1, \"label\": \"count\"}, {\"in_degree\": 1674, \"count\": 2, \"label\": \"count\"}, {\"in_degree\": 1676, \"count\": 1, \"label\": \"count\"}, {\"in_degree\": 1677, \"count\": 1, \"label\": \"count\"}, {\"in_degree\": 1678, \"count\": 1, \"label\": \"count\"}, {\"in_degree\": 1682, \"count\": 1, \"label\": \"count\"}, {\"in_degree\": 1683, \"count\": 2, \"label\": \"count\"}, {\"in_degree\": 1684, \"count\": 2, \"label\": \"count\"}, {\"in_degree\": 1685, \"count\": 3, \"label\": \"count\"}, {\"in_degree\": 1687, \"count\": 1, \"label\": \"count\"}, {\"in_degree\": 1688, \"count\": 2, \"label\": \"count\"}, {\"in_degree\": 1690, \"count\": 2, \"label\": \"count\"}, {\"in_degree\": 1691, \"count\": 2, \"label\": \"count\"}, {\"in_degree\": 1692, \"count\": 1, \"label\": \"count\"}, {\"in_degree\": 1693, \"count\": 1, \"label\": \"count\"}, {\"in_degree\": 1694, \"count\": 2, \"label\": \"count\"}, {\"in_degree\": 1695, \"count\": 1, \"label\": \"count\"}, {\"in_degree\": 1699, \"count\": 3, \"label\": \"count\"}, {\"in_degree\": 1700, \"count\": 1, \"label\": \"count\"}, {\"in_degree\": 1701, \"count\": 2, \"label\": \"count\"}, {\"in_degree\": 1702, \"count\": 1, \"label\": \"count\"}, {\"in_degree\": 1706, \"count\": 2, \"label\": \"count\"}, {\"in_degree\": 1707, \"count\": 2, \"label\": \"count\"}, {\"in_degree\": 1708, \"count\": 2, \"label\": \"count\"}, {\"in_degree\": 1709, \"count\": 1, \"label\": \"count\"}, {\"in_degree\": 1710, \"count\": 3, \"label\": \"count\"}, {\"in_degree\": 1712, \"count\": 2, \"label\": \"count\"}, {\"in_degree\": 1715, \"count\": 4, \"label\": \"count\"}, {\"in_degree\": 1716, \"count\": 1, \"label\": \"count\"}, {\"in_degree\": 1717, \"count\": 1, \"label\": \"count\"}, {\"in_degree\": 1719, \"count\": 3, \"label\": \"count\"}, {\"in_degree\": 1723, \"count\": 1, \"label\": \"count\"}, {\"in_degree\": 1724, \"count\": 3, \"label\": \"count\"}, {\"in_degree\": 1725, \"count\": 1, \"label\": \"count\"}, {\"in_degree\": 1726, \"count\": 2, \"label\": \"count\"}, {\"in_degree\": 1727, \"count\": 2, \"label\": \"count\"}, {\"in_degree\": 1728, \"count\": 1, \"label\": \"count\"}, {\"in_degree\": 1730, \"count\": 3, \"label\": \"count\"}, {\"in_degree\": 1732, \"count\": 4, \"label\": \"count\"}, {\"in_degree\": 1733, \"count\": 1, \"label\": \"count\"}, {\"in_degree\": 1735, \"count\": 2, \"label\": \"count\"}, {\"in_degree\": 1736, \"count\": 7, \"label\": \"count\"}, {\"in_degree\": 1737, \"count\": 1, \"label\": \"count\"}, {\"in_degree\": 1739, \"count\": 2, \"label\": \"count\"}, {\"in_degree\": 1740, \"count\": 1, \"label\": \"count\"}, {\"in_degree\": 1741, \"count\": 1, \"label\": \"count\"}, {\"in_degree\": 1742, \"count\": 3, \"label\": \"count\"}, {\"in_degree\": 1743, \"count\": 1, \"label\": \"count\"}, {\"in_degree\": 1746, \"count\": 3, \"label\": \"count\"}, {\"in_degree\": 1748, \"count\": 1, \"label\": \"count\"}, {\"in_degree\": 1749, \"count\": 3, \"label\": \"count\"}, {\"in_degree\": 1750, \"count\": 2, \"label\": \"count\"}, {\"in_degree\": 1751, \"count\": 2, \"label\": \"count\"}, {\"in_degree\": 1753, \"count\": 1, \"label\": \"count\"}, {\"in_degree\": 1754, \"count\": 3, \"label\": \"count\"}, {\"in_degree\": 1755, \"count\": 2, \"label\": \"count\"}, {\"in_degree\": 1757, \"count\": 2, \"label\": \"count\"}, {\"in_degree\": 1758, \"count\": 3, \"label\": \"count\"}, {\"in_degree\": 1759, \"count\": 4, \"label\": \"count\"}, {\"in_degree\": 1760, \"count\": 1, \"label\": \"count\"}, {\"in_degree\": 1761, \"count\": 1, \"label\": \"count\"}, {\"in_degree\": 1762, \"count\": 4, \"label\": \"count\"}, {\"in_degree\": 1763, \"count\": 2, \"label\": \"count\"}, {\"in_degree\": 1765, \"count\": 2, \"label\": \"count\"}, {\"in_degree\": 1766, \"count\": 1, \"label\": \"count\"}, {\"in_degree\": 1767, \"count\": 2, \"label\": \"count\"}, {\"in_degree\": 1768, \"count\": 1, \"label\": \"count\"}, {\"in_degree\": 1769, \"count\": 1, \"label\": \"count\"}, {\"in_degree\": 1771, \"count\": 1, \"label\": \"count\"}, {\"in_degree\": 1774, \"count\": 1, \"label\": \"count\"}, {\"in_degree\": 1776, \"count\": 1, \"label\": \"count\"}, {\"in_degree\": 1777, \"count\": 2, \"label\": \"count\"}, {\"in_degree\": 1778, \"count\": 1, \"label\": \"count\"}, {\"in_degree\": 1779, \"count\": 2, \"label\": \"count\"}, {\"in_degree\": 1780, \"count\": 1, \"label\": \"count\"}, {\"in_degree\": 1781, \"count\": 1, \"label\": \"count\"}, {\"in_degree\": 1782, \"count\": 1, \"label\": \"count\"}, {\"in_degree\": 1783, \"count\": 1, \"label\": \"count\"}, {\"in_degree\": 1784, \"count\": 1, \"label\": \"count\"}, {\"in_degree\": 1785, \"count\": 1, \"label\": \"count\"}, {\"in_degree\": 1786, \"count\": 1, \"label\": \"count\"}, {\"in_degree\": 1787, \"count\": 2, \"label\": \"count\"}, {\"in_degree\": 1788, \"count\": 1, \"label\": \"count\"}, {\"in_degree\": 1789, \"count\": 3, \"label\": \"count\"}, {\"in_degree\": 1790, \"count\": 1, \"label\": \"count\"}, {\"in_degree\": 1791, \"count\": 3, \"label\": \"count\"}, {\"in_degree\": 1792, \"count\": 1, \"label\": \"count\"}, {\"in_degree\": 1793, \"count\": 2, \"label\": \"count\"}, {\"in_degree\": 1794, \"count\": 1, \"label\": \"count\"}, {\"in_degree\": 1795, \"count\": 3, \"label\": \"count\"}, {\"in_degree\": 1797, \"count\": 4, \"label\": \"count\"}, {\"in_degree\": 1801, \"count\": 1, \"label\": \"count\"}, {\"in_degree\": 1802, \"count\": 5, \"label\": \"count\"}, {\"in_degree\": 1803, \"count\": 1, \"label\": \"count\"}, {\"in_degree\": 1804, \"count\": 2, \"label\": \"count\"}, {\"in_degree\": 1805, \"count\": 3, \"label\": \"count\"}, {\"in_degree\": 1806, \"count\": 2, \"label\": \"count\"}, {\"in_degree\": 1807, \"count\": 1, \"label\": \"count\"}, {\"in_degree\": 1808, \"count\": 1, \"label\": \"count\"}, {\"in_degree\": 1809, \"count\": 1, \"label\": \"count\"}, {\"in_degree\": 1810, \"count\": 1, \"label\": \"count\"}, {\"in_degree\": 1811, \"count\": 1, \"label\": \"count\"}, {\"in_degree\": 1812, \"count\": 1, \"label\": \"count\"}, {\"in_degree\": 1813, \"count\": 2, \"label\": \"count\"}, {\"in_degree\": 1817, \"count\": 3, \"label\": \"count\"}, {\"in_degree\": 1818, \"count\": 1, \"label\": \"count\"}, {\"in_degree\": 1819, \"count\": 4, \"label\": \"count\"}, {\"in_degree\": 1820, \"count\": 2, \"label\": \"count\"}, {\"in_degree\": 1821, \"count\": 1, \"label\": \"count\"}, {\"in_degree\": 1822, \"count\": 1, \"label\": \"count\"}, {\"in_degree\": 1824, \"count\": 2, \"label\": \"count\"}, {\"in_degree\": 1826, \"count\": 1, \"label\": \"count\"}, {\"in_degree\": 1827, \"count\": 1, \"label\": \"count\"}, {\"in_degree\": 1828, \"count\": 1, \"label\": \"count\"}, {\"in_degree\": 1829, \"count\": 1, \"label\": \"count\"}, {\"in_degree\": 1830, \"count\": 3, \"label\": \"count\"}, {\"in_degree\": 1831, \"count\": 4, \"label\": \"count\"}, {\"in_degree\": 1832, \"count\": 3, \"label\": \"count\"}, {\"in_degree\": 1833, \"count\": 4, \"label\": \"count\"}, {\"in_degree\": 1835, \"count\": 2, \"label\": \"count\"}, {\"in_degree\": 1836, \"count\": 2, \"label\": \"count\"}, {\"in_degree\": 1837, \"count\": 2, \"label\": \"count\"}, {\"in_degree\": 1838, \"count\": 2, \"label\": \"count\"}, {\"in_degree\": 1839, \"count\": 2, \"label\": \"count\"}, {\"in_degree\": 1840, \"count\": 1, \"label\": \"count\"}, {\"in_degree\": 1841, \"count\": 2, \"label\": \"count\"}, {\"in_degree\": 1844, \"count\": 1, \"label\": \"count\"}, {\"in_degree\": 1845, \"count\": 1, \"label\": \"count\"}, {\"in_degree\": 1847, \"count\": 1, \"label\": \"count\"}, {\"in_degree\": 1848, \"count\": 3, \"label\": \"count\"}, {\"in_degree\": 1849, \"count\": 1, \"label\": \"count\"}, {\"in_degree\": 1850, \"count\": 1, \"label\": \"count\"}, {\"in_degree\": 1851, \"count\": 2, \"label\": \"count\"}, {\"in_degree\": 1852, \"count\": 2, \"label\": \"count\"}, {\"in_degree\": 1853, \"count\": 1, \"label\": \"count\"}, {\"in_degree\": 1854, \"count\": 1, \"label\": \"count\"}, {\"in_degree\": 1856, \"count\": 1, \"label\": \"count\"}, {\"in_degree\": 1857, \"count\": 1, \"label\": \"count\"}, {\"in_degree\": 1858, \"count\": 1, \"label\": \"count\"}, {\"in_degree\": 1860, \"count\": 1, \"label\": \"count\"}, {\"in_degree\": 1861, \"count\": 1, \"label\": \"count\"}, {\"in_degree\": 1862, \"count\": 1, \"label\": \"count\"}, {\"in_degree\": 1863, \"count\": 3, \"label\": \"count\"}, {\"in_degree\": 1866, \"count\": 2, \"label\": \"count\"}, {\"in_degree\": 1868, \"count\": 3, \"label\": \"count\"}, {\"in_degree\": 1869, \"count\": 2, \"label\": \"count\"}, {\"in_degree\": 1870, \"count\": 2, \"label\": \"count\"}, {\"in_degree\": 1872, \"count\": 1, \"label\": \"count\"}, {\"in_degree\": 1875, \"count\": 1, \"label\": \"count\"}, {\"in_degree\": 1876, \"count\": 1, \"label\": \"count\"}, {\"in_degree\": 1878, \"count\": 2, \"label\": \"count\"}, {\"in_degree\": 1879, \"count\": 3, \"label\": \"count\"}, {\"in_degree\": 1881, \"count\": 1, \"label\": \"count\"}, {\"in_degree\": 1882, \"count\": 3, \"label\": \"count\"}, {\"in_degree\": 1884, \"count\": 1, \"label\": \"count\"}, {\"in_degree\": 1885, \"count\": 3, \"label\": \"count\"}, {\"in_degree\": 1886, \"count\": 3, \"label\": \"count\"}, {\"in_degree\": 1887, \"count\": 1, \"label\": \"count\"}, {\"in_degree\": 1888, \"count\": 2, \"label\": \"count\"}, {\"in_degree\": 1889, \"count\": 1, \"label\": \"count\"}, {\"in_degree\": 1890, \"count\": 2, \"label\": \"count\"}, {\"in_degree\": 1891, \"count\": 2, \"label\": \"count\"}, {\"in_degree\": 1893, \"count\": 2, \"label\": \"count\"}, {\"in_degree\": 1895, \"count\": 3, \"label\": \"count\"}, {\"in_degree\": 1896, \"count\": 2, \"label\": \"count\"}, {\"in_degree\": 1897, \"count\": 2, \"label\": \"count\"}, {\"in_degree\": 1898, \"count\": 3, \"label\": \"count\"}, {\"in_degree\": 1901, \"count\": 1, \"label\": \"count\"}, {\"in_degree\": 1902, \"count\": 3, \"label\": \"count\"}, {\"in_degree\": 1903, \"count\": 1, \"label\": \"count\"}, {\"in_degree\": 1904, \"count\": 3, \"label\": \"count\"}, {\"in_degree\": 1908, \"count\": 2, \"label\": \"count\"}, {\"in_degree\": 1909, \"count\": 2, \"label\": \"count\"}, {\"in_degree\": 1910, \"count\": 1, \"label\": \"count\"}, {\"in_degree\": 1911, \"count\": 1, \"label\": \"count\"}, {\"in_degree\": 1913, \"count\": 1, \"label\": \"count\"}, {\"in_degree\": 1914, \"count\": 1, \"label\": \"count\"}, {\"in_degree\": 1915, \"count\": 1, \"label\": \"count\"}, {\"in_degree\": 1917, \"count\": 1, \"label\": \"count\"}, {\"in_degree\": 1918, \"count\": 1, \"label\": \"count\"}, {\"in_degree\": 1919, \"count\": 1, \"label\": \"count\"}, {\"in_degree\": 1920, \"count\": 2, \"label\": \"count\"}, {\"in_degree\": 1921, \"count\": 1, \"label\": \"count\"}, {\"in_degree\": 1925, \"count\": 2, \"label\": \"count\"}, {\"in_degree\": 1926, \"count\": 3, \"label\": \"count\"}, {\"in_degree\": 1927, \"count\": 1, \"label\": \"count\"}, {\"in_degree\": 1928, \"count\": 4, \"label\": \"count\"}, {\"in_degree\": 1929, \"count\": 1, \"label\": \"count\"}, {\"in_degree\": 1930, \"count\": 3, \"label\": \"count\"}, {\"in_degree\": 1931, \"count\": 3, \"label\": \"count\"}, {\"in_degree\": 1936, \"count\": 2, \"label\": \"count\"}, {\"in_degree\": 1937, \"count\": 1, \"label\": \"count\"}, {\"in_degree\": 1938, \"count\": 2, \"label\": \"count\"}, {\"in_degree\": 1939, \"count\": 2, \"label\": \"count\"}, {\"in_degree\": 1941, \"count\": 1, \"label\": \"count\"}, {\"in_degree\": 1942, \"count\": 2, \"label\": \"count\"}, {\"in_degree\": 1943, \"count\": 2, \"label\": \"count\"}, {\"in_degree\": 1944, \"count\": 1, \"label\": \"count\"}, {\"in_degree\": 1945, \"count\": 1, \"label\": \"count\"}, {\"in_degree\": 1946, \"count\": 1, \"label\": \"count\"}, {\"in_degree\": 1947, \"count\": 1, \"label\": \"count\"}, {\"in_degree\": 1949, \"count\": 1, \"label\": \"count\"}, {\"in_degree\": 1950, \"count\": 1, \"label\": \"count\"}, {\"in_degree\": 1951, \"count\": 2, \"label\": \"count\"}, {\"in_degree\": 1953, \"count\": 2, \"label\": \"count\"}, {\"in_degree\": 1955, \"count\": 1, \"label\": \"count\"}, {\"in_degree\": 1956, \"count\": 2, \"label\": \"count\"}, {\"in_degree\": 1957, \"count\": 2, \"label\": \"count\"}, {\"in_degree\": 1959, \"count\": 1, \"label\": \"count\"}, {\"in_degree\": 1960, \"count\": 2, \"label\": \"count\"}, {\"in_degree\": 1963, \"count\": 1, \"label\": \"count\"}, {\"in_degree\": 1964, \"count\": 1, \"label\": \"count\"}, {\"in_degree\": 1965, \"count\": 1, \"label\": \"count\"}, {\"in_degree\": 1966, \"count\": 1, \"label\": \"count\"}, {\"in_degree\": 1967, \"count\": 3, \"label\": \"count\"}, {\"in_degree\": 1968, \"count\": 2, \"label\": \"count\"}, {\"in_degree\": 1969, \"count\": 2, \"label\": \"count\"}, {\"in_degree\": 1971, \"count\": 1, \"label\": \"count\"}, {\"in_degree\": 1974, \"count\": 3, \"label\": \"count\"}, {\"in_degree\": 1975, \"count\": 1, \"label\": \"count\"}, {\"in_degree\": 1976, \"count\": 1, \"label\": \"count\"}, {\"in_degree\": 1978, \"count\": 1, \"label\": \"count\"}, {\"in_degree\": 1979, \"count\": 1, \"label\": \"count\"}, {\"in_degree\": 1983, \"count\": 3, \"label\": \"count\"}, {\"in_degree\": 1985, \"count\": 1, \"label\": \"count\"}, {\"in_degree\": 1987, \"count\": 1, \"label\": \"count\"}, {\"in_degree\": 1989, \"count\": 2, \"label\": \"count\"}, {\"in_degree\": 1990, \"count\": 3, \"label\": \"count\"}, {\"in_degree\": 1992, \"count\": 3, \"label\": \"count\"}, {\"in_degree\": 1994, \"count\": 1, \"label\": \"count\"}, {\"in_degree\": 1995, \"count\": 3, \"label\": \"count\"}, {\"in_degree\": 1997, \"count\": 1, \"label\": \"count\"}, {\"in_degree\": 1999, \"count\": 1, \"label\": \"count\"}, {\"in_degree\": 2000, \"count\": 1, \"label\": \"count\"}, {\"in_degree\": 2004, \"count\": 2, \"label\": \"count\"}, {\"in_degree\": 2006, \"count\": 1, \"label\": \"count\"}, {\"in_degree\": 2007, \"count\": 1, \"label\": \"count\"}, {\"in_degree\": 2009, \"count\": 1, \"label\": \"count\"}, {\"in_degree\": 2011, \"count\": 1, \"label\": \"count\"}, {\"in_degree\": 2012, \"count\": 1, \"label\": \"count\"}, {\"in_degree\": 2013, \"count\": 1, \"label\": \"count\"}, {\"in_degree\": 2014, \"count\": 1, \"label\": \"count\"}, {\"in_degree\": 2015, \"count\": 2, \"label\": \"count\"}, {\"in_degree\": 2016, \"count\": 1, \"label\": \"count\"}, {\"in_degree\": 2017, \"count\": 2, \"label\": \"count\"}, {\"in_degree\": 2018, \"count\": 1, \"label\": \"count\"}, {\"in_degree\": 2019, \"count\": 1, \"label\": \"count\"}, {\"in_degree\": 2020, \"count\": 3, \"label\": \"count\"}, {\"in_degree\": 2021, \"count\": 2, \"label\": \"count\"}, {\"in_degree\": 2022, \"count\": 1, \"label\": \"count\"}, {\"in_degree\": 2023, \"count\": 1, \"label\": \"count\"}, {\"in_degree\": 2024, \"count\": 1, \"label\": \"count\"}, {\"in_degree\": 2025, \"count\": 2, \"label\": \"count\"}, {\"in_degree\": 2027, \"count\": 1, \"label\": \"count\"}, {\"in_degree\": 2028, \"count\": 2, \"label\": \"count\"}, {\"in_degree\": 2030, \"count\": 1, \"label\": \"count\"}, {\"in_degree\": 2031, \"count\": 3, \"label\": \"count\"}, {\"in_degree\": 2033, \"count\": 2, \"label\": \"count\"}, {\"in_degree\": 2035, \"count\": 1, \"label\": \"count\"}, {\"in_degree\": 2036, \"count\": 2, \"label\": \"count\"}, {\"in_degree\": 2037, \"count\": 1, \"label\": \"count\"}, {\"in_degree\": 2038, \"count\": 2, \"label\": \"count\"}, {\"in_degree\": 2040, \"count\": 1, \"label\": \"count\"}, {\"in_degree\": 2043, \"count\": 3, \"label\": \"count\"}, {\"in_degree\": 2044, \"count\": 4, \"label\": \"count\"}, {\"in_degree\": 2046, \"count\": 1, \"label\": \"count\"}, {\"in_degree\": 2047, \"count\": 1, \"label\": \"count\"}, {\"in_degree\": 2049, \"count\": 2, \"label\": \"count\"}, {\"in_degree\": 2050, \"count\": 1, \"label\": \"count\"}, {\"in_degree\": 2051, \"count\": 4, \"label\": \"count\"}, {\"in_degree\": 2053, \"count\": 2, \"label\": \"count\"}, {\"in_degree\": 2054, \"count\": 3, \"label\": \"count\"}, {\"in_degree\": 2055, \"count\": 1, \"label\": \"count\"}, {\"in_degree\": 2056, \"count\": 1, \"label\": \"count\"}, {\"in_degree\": 2059, \"count\": 1, \"label\": \"count\"}, {\"in_degree\": 2060, \"count\": 1, \"label\": \"count\"}, {\"in_degree\": 2061, \"count\": 3, \"label\": \"count\"}, {\"in_degree\": 2062, \"count\": 1, \"label\": \"count\"}, {\"in_degree\": 2063, \"count\": 1, \"label\": \"count\"}, {\"in_degree\": 2064, \"count\": 2, \"label\": \"count\"}, {\"in_degree\": 2065, \"count\": 2, \"label\": \"count\"}, {\"in_degree\": 2066, \"count\": 1, \"label\": \"count\"}, {\"in_degree\": 2068, \"count\": 3, \"label\": \"count\"}, {\"in_degree\": 2069, \"count\": 1, \"label\": \"count\"}, {\"in_degree\": 2070, \"count\": 2, \"label\": \"count\"}, {\"in_degree\": 2071, \"count\": 2, \"label\": \"count\"}, {\"in_degree\": 2073, \"count\": 1, \"label\": \"count\"}, {\"in_degree\": 2074, \"count\": 1, \"label\": \"count\"}, {\"in_degree\": 2075, \"count\": 2, \"label\": \"count\"}, {\"in_degree\": 2076, \"count\": 2, \"label\": \"count\"}, {\"in_degree\": 2078, \"count\": 1, \"label\": \"count\"}, {\"in_degree\": 2080, \"count\": 2, \"label\": \"count\"}, {\"in_degree\": 2082, \"count\": 1, \"label\": \"count\"}, {\"in_degree\": 2083, \"count\": 1, \"label\": \"count\"}, {\"in_degree\": 2084, \"count\": 2, \"label\": \"count\"}, {\"in_degree\": 2085, \"count\": 1, \"label\": \"count\"}, {\"in_degree\": 2087, \"count\": 2, \"label\": \"count\"}, {\"in_degree\": 2088, \"count\": 1, \"label\": \"count\"}, {\"in_degree\": 2091, \"count\": 2, \"label\": \"count\"}, {\"in_degree\": 2092, \"count\": 1, \"label\": \"count\"}, {\"in_degree\": 2093, \"count\": 3, \"label\": \"count\"}, {\"in_degree\": 2095, \"count\": 1, \"label\": \"count\"}, {\"in_degree\": 2096, \"count\": 1, \"label\": \"count\"}, {\"in_degree\": 2098, \"count\": 2, \"label\": \"count\"}, {\"in_degree\": 2099, \"count\": 3, \"label\": \"count\"}, {\"in_degree\": 2100, \"count\": 2, \"label\": \"count\"}, {\"in_degree\": 2104, \"count\": 1, \"label\": \"count\"}, {\"in_degree\": 2106, \"count\": 2, \"label\": \"count\"}, {\"in_degree\": 2108, \"count\": 3, \"label\": \"count\"}, {\"in_degree\": 2109, \"count\": 1, \"label\": \"count\"}, {\"in_degree\": 2111, \"count\": 1, \"label\": \"count\"}, {\"in_degree\": 2114, \"count\": 1, \"label\": \"count\"}, {\"in_degree\": 2117, \"count\": 4, \"label\": \"count\"}, {\"in_degree\": 2119, \"count\": 1, \"label\": \"count\"}, {\"in_degree\": 2122, \"count\": 1, \"label\": \"count\"}, {\"in_degree\": 2124, \"count\": 1, \"label\": \"count\"}, {\"in_degree\": 2126, \"count\": 1, \"label\": \"count\"}, {\"in_degree\": 2128, \"count\": 5, \"label\": \"count\"}, {\"in_degree\": 2129, \"count\": 1, \"label\": \"count\"}, {\"in_degree\": 2130, \"count\": 1, \"label\": \"count\"}, {\"in_degree\": 2131, \"count\": 1, \"label\": \"count\"}, {\"in_degree\": 2136, \"count\": 1, \"label\": \"count\"}, {\"in_degree\": 2137, \"count\": 1, \"label\": \"count\"}, {\"in_degree\": 2138, \"count\": 2, \"label\": \"count\"}, {\"in_degree\": 2139, \"count\": 1, \"label\": \"count\"}, {\"in_degree\": 2142, \"count\": 3, \"label\": \"count\"}, {\"in_degree\": 2143, \"count\": 2, \"label\": \"count\"}, {\"in_degree\": 2144, \"count\": 1, \"label\": \"count\"}, {\"in_degree\": 2145, \"count\": 1, \"label\": \"count\"}, {\"in_degree\": 2146, \"count\": 1, \"label\": \"count\"}, {\"in_degree\": 2147, \"count\": 2, \"label\": \"count\"}, {\"in_degree\": 2149, \"count\": 2, \"label\": \"count\"}, {\"in_degree\": 2151, \"count\": 2, \"label\": \"count\"}, {\"in_degree\": 2153, \"count\": 2, \"label\": \"count\"}, {\"in_degree\": 2154, \"count\": 1, \"label\": \"count\"}, {\"in_degree\": 2155, \"count\": 1, \"label\": \"count\"}, {\"in_degree\": 2156, \"count\": 1, \"label\": \"count\"}, {\"in_degree\": 2158, \"count\": 1, \"label\": \"count\"}, {\"in_degree\": 2160, \"count\": 1, \"label\": \"count\"}, {\"in_degree\": 2161, \"count\": 1, \"label\": \"count\"}, {\"in_degree\": 2162, \"count\": 1, \"label\": \"count\"}, {\"in_degree\": 2163, \"count\": 3, \"label\": \"count\"}, {\"in_degree\": 2164, \"count\": 1, \"label\": \"count\"}, {\"in_degree\": 2166, \"count\": 2, \"label\": \"count\"}, {\"in_degree\": 2167, \"count\": 3, \"label\": \"count\"}, {\"in_degree\": 2168, \"count\": 2, \"label\": \"count\"}, {\"in_degree\": 2170, \"count\": 3, \"label\": \"count\"}, {\"in_degree\": 2172, \"count\": 1, \"label\": \"count\"}, {\"in_degree\": 2174, \"count\": 2, \"label\": \"count\"}, {\"in_degree\": 2175, \"count\": 1, \"label\": \"count\"}, {\"in_degree\": 2177, \"count\": 2, \"label\": \"count\"}, {\"in_degree\": 2181, \"count\": 2, \"label\": \"count\"}, {\"in_degree\": 2185, \"count\": 3, \"label\": \"count\"}, {\"in_degree\": 2189, \"count\": 3, \"label\": \"count\"}, {\"in_degree\": 2190, \"count\": 2, \"label\": \"count\"}, {\"in_degree\": 2194, \"count\": 1, \"label\": \"count\"}, {\"in_degree\": 2195, \"count\": 1, \"label\": \"count\"}, {\"in_degree\": 2196, \"count\": 2, \"label\": \"count\"}, {\"in_degree\": 2200, \"count\": 1, \"label\": \"count\"}, {\"in_degree\": 2201, \"count\": 1, \"label\": \"count\"}, {\"in_degree\": 2203, \"count\": 2, \"label\": \"count\"}, {\"in_degree\": 2208, \"count\": 1, \"label\": \"count\"}, {\"in_degree\": 2209, \"count\": 3, \"label\": \"count\"}, {\"in_degree\": 2210, \"count\": 2, \"label\": \"count\"}, {\"in_degree\": 2213, \"count\": 2, \"label\": \"count\"}, {\"in_degree\": 2216, \"count\": 1, \"label\": \"count\"}, {\"in_degree\": 2219, \"count\": 1, \"label\": \"count\"}, {\"in_degree\": 2222, \"count\": 2, \"label\": \"count\"}, {\"in_degree\": 2226, \"count\": 1, \"label\": \"count\"}, {\"in_degree\": 2228, \"count\": 1, \"label\": \"count\"}, {\"in_degree\": 2229, \"count\": 1, \"label\": \"count\"}, {\"in_degree\": 2233, \"count\": 1, \"label\": \"count\"}, {\"in_degree\": 2234, \"count\": 1, \"label\": \"count\"}, {\"in_degree\": 2236, \"count\": 1, \"label\": \"count\"}, {\"in_degree\": 2238, \"count\": 1, \"label\": \"count\"}, {\"in_degree\": 2240, \"count\": 1, \"label\": \"count\"}, {\"in_degree\": 2247, \"count\": 2, \"label\": \"count\"}, {\"in_degree\": 2248, \"count\": 1, \"label\": \"count\"}, {\"in_degree\": 2249, \"count\": 1, \"label\": \"count\"}, {\"in_degree\": 2251, \"count\": 1, \"label\": \"count\"}, {\"in_degree\": 2255, \"count\": 3, \"label\": \"count\"}, {\"in_degree\": 2256, \"count\": 2, \"label\": \"count\"}, {\"in_degree\": 2257, \"count\": 2, \"label\": \"count\"}, {\"in_degree\": 2258, \"count\": 1, \"label\": \"count\"}, {\"in_degree\": 2259, \"count\": 2, \"label\": \"count\"}, {\"in_degree\": 2264, \"count\": 2, \"label\": \"count\"}, {\"in_degree\": 2266, \"count\": 4, \"label\": \"count\"}, {\"in_degree\": 2268, \"count\": 2, \"label\": \"count\"}, {\"in_degree\": 2269, \"count\": 1, \"label\": \"count\"}, {\"in_degree\": 2270, \"count\": 1, \"label\": \"count\"}, {\"in_degree\": 2271, \"count\": 1, \"label\": \"count\"}, {\"in_degree\": 2272, \"count\": 1, \"label\": \"count\"}, {\"in_degree\": 2274, \"count\": 1, \"label\": \"count\"}, {\"in_degree\": 2275, \"count\": 1, \"label\": \"count\"}, {\"in_degree\": 2278, \"count\": 2, \"label\": \"count\"}, {\"in_degree\": 2280, \"count\": 1, \"label\": \"count\"}, {\"in_degree\": 2282, \"count\": 1, \"label\": \"count\"}, {\"in_degree\": 2283, \"count\": 1, \"label\": \"count\"}, {\"in_degree\": 2284, \"count\": 1, \"label\": \"count\"}, {\"in_degree\": 2285, \"count\": 4, \"label\": \"count\"}, {\"in_degree\": 2286, \"count\": 1, \"label\": \"count\"}, {\"in_degree\": 2287, \"count\": 3, \"label\": \"count\"}, {\"in_degree\": 2290, \"count\": 2, \"label\": \"count\"}, {\"in_degree\": 2294, \"count\": 2, \"label\": \"count\"}, {\"in_degree\": 2296, \"count\": 1, \"label\": \"count\"}, {\"in_degree\": 2298, \"count\": 1, \"label\": \"count\"}, {\"in_degree\": 2301, \"count\": 1, \"label\": \"count\"}, {\"in_degree\": 2305, \"count\": 1, \"label\": \"count\"}, {\"in_degree\": 2306, \"count\": 1, \"label\": \"count\"}, {\"in_degree\": 2307, \"count\": 1, \"label\": \"count\"}, {\"in_degree\": 2310, \"count\": 1, \"label\": \"count\"}, {\"in_degree\": 2311, \"count\": 1, \"label\": \"count\"}, {\"in_degree\": 2312, \"count\": 2, \"label\": \"count\"}, {\"in_degree\": 2313, \"count\": 1, \"label\": \"count\"}, {\"in_degree\": 2314, \"count\": 1, \"label\": \"count\"}, {\"in_degree\": 2315, \"count\": 1, \"label\": \"count\"}, {\"in_degree\": 2319, \"count\": 1, \"label\": \"count\"}, {\"in_degree\": 2320, \"count\": 1, \"label\": \"count\"}, {\"in_degree\": 2321, \"count\": 1, \"label\": \"count\"}, {\"in_degree\": 2322, \"count\": 1, \"label\": \"count\"}, {\"in_degree\": 2323, \"count\": 2, \"label\": \"count\"}, {\"in_degree\": 2326, \"count\": 1, \"label\": \"count\"}, {\"in_degree\": 2328, \"count\": 1, \"label\": \"count\"}, {\"in_degree\": 2329, \"count\": 1, \"label\": \"count\"}, {\"in_degree\": 2331, \"count\": 3, \"label\": \"count\"}, {\"in_degree\": 2334, \"count\": 3, \"label\": \"count\"}, {\"in_degree\": 2335, \"count\": 1, \"label\": \"count\"}, {\"in_degree\": 2336, \"count\": 1, \"label\": \"count\"}, {\"in_degree\": 2337, \"count\": 1, \"label\": \"count\"}, {\"in_degree\": 2338, \"count\": 2, \"label\": \"count\"}, {\"in_degree\": 2341, \"count\": 2, \"label\": \"count\"}, {\"in_degree\": 2342, \"count\": 1, \"label\": \"count\"}, {\"in_degree\": 2343, \"count\": 1, \"label\": \"count\"}, {\"in_degree\": 2344, \"count\": 1, \"label\": \"count\"}, {\"in_degree\": 2346, \"count\": 1, \"label\": \"count\"}, {\"in_degree\": 2347, \"count\": 1, \"label\": \"count\"}, {\"in_degree\": 2348, \"count\": 1, \"label\": \"count\"}, {\"in_degree\": 2349, \"count\": 1, \"label\": \"count\"}, {\"in_degree\": 2351, \"count\": 2, \"label\": \"count\"}, {\"in_degree\": 2352, \"count\": 1, \"label\": \"count\"}, {\"in_degree\": 2354, \"count\": 2, \"label\": \"count\"}, {\"in_degree\": 2355, \"count\": 1, \"label\": \"count\"}, {\"in_degree\": 2356, \"count\": 1, \"label\": \"count\"}, {\"in_degree\": 2357, \"count\": 1, \"label\": \"count\"}, {\"in_degree\": 2359, \"count\": 1, \"label\": \"count\"}, {\"in_degree\": 2361, \"count\": 1, \"label\": \"count\"}, {\"in_degree\": 2363, \"count\": 1, \"label\": \"count\"}, {\"in_degree\": 2365, \"count\": 1, \"label\": \"count\"}, {\"in_degree\": 2368, \"count\": 3, \"label\": \"count\"}, {\"in_degree\": 2369, \"count\": 1, \"label\": \"count\"}, {\"in_degree\": 2372, \"count\": 2, \"label\": \"count\"}, {\"in_degree\": 2373, \"count\": 2, \"label\": \"count\"}, {\"in_degree\": 2375, \"count\": 1, \"label\": \"count\"}, {\"in_degree\": 2379, \"count\": 1, \"label\": \"count\"}, {\"in_degree\": 2380, \"count\": 1, \"label\": \"count\"}, {\"in_degree\": 2381, \"count\": 1, \"label\": \"count\"}, {\"in_degree\": 2387, \"count\": 1, \"label\": \"count\"}, {\"in_degree\": 2389, \"count\": 1, \"label\": \"count\"}, {\"in_degree\": 2390, \"count\": 1, \"label\": \"count\"}, {\"in_degree\": 2391, \"count\": 1, \"label\": \"count\"}, {\"in_degree\": 2392, \"count\": 3, \"label\": \"count\"}, {\"in_degree\": 2393, \"count\": 1, \"label\": \"count\"}, {\"in_degree\": 2395, \"count\": 2, \"label\": \"count\"}, {\"in_degree\": 2397, \"count\": 1, \"label\": \"count\"}, {\"in_degree\": 2399, \"count\": 1, \"label\": \"count\"}, {\"in_degree\": 2400, \"count\": 4, \"label\": \"count\"}, {\"in_degree\": 2403, \"count\": 2, \"label\": \"count\"}, {\"in_degree\": 2404, \"count\": 1, \"label\": \"count\"}, {\"in_degree\": 2405, \"count\": 1, \"label\": \"count\"}, {\"in_degree\": 2407, \"count\": 2, \"label\": \"count\"}, {\"in_degree\": 2408, \"count\": 1, \"label\": \"count\"}, {\"in_degree\": 2410, \"count\": 2, \"label\": \"count\"}, {\"in_degree\": 2415, \"count\": 1, \"label\": \"count\"}, {\"in_degree\": 2417, \"count\": 2, \"label\": \"count\"}, {\"in_degree\": 2418, \"count\": 1, \"label\": \"count\"}, {\"in_degree\": 2419, \"count\": 2, \"label\": \"count\"}, {\"in_degree\": 2421, \"count\": 1, \"label\": \"count\"}, {\"in_degree\": 2422, \"count\": 1, \"label\": \"count\"}, {\"in_degree\": 2423, \"count\": 1, \"label\": \"count\"}, {\"in_degree\": 2425, \"count\": 2, \"label\": \"count\"}, {\"in_degree\": 2427, \"count\": 1, \"label\": \"count\"}, {\"in_degree\": 2428, \"count\": 2, \"label\": \"count\"}, {\"in_degree\": 2429, \"count\": 2, \"label\": \"count\"}, {\"in_degree\": 2430, \"count\": 2, \"label\": \"count\"}, {\"in_degree\": 2433, \"count\": 2, \"label\": \"count\"}, {\"in_degree\": 2434, \"count\": 1, \"label\": \"count\"}, {\"in_degree\": 2438, \"count\": 1, \"label\": \"count\"}, {\"in_degree\": 2439, \"count\": 3, \"label\": \"count\"}, {\"in_degree\": 2442, \"count\": 1, \"label\": \"count\"}, {\"in_degree\": 2444, \"count\": 1, \"label\": \"count\"}, {\"in_degree\": 2446, \"count\": 1, \"label\": \"count\"}, {\"in_degree\": 2448, \"count\": 1, \"label\": \"count\"}, {\"in_degree\": 2449, \"count\": 1, \"label\": \"count\"}, {\"in_degree\": 2450, \"count\": 1, \"label\": \"count\"}, {\"in_degree\": 2452, \"count\": 1, \"label\": \"count\"}, {\"in_degree\": 2459, \"count\": 1, \"label\": \"count\"}, {\"in_degree\": 2460, \"count\": 1, \"label\": \"count\"}, {\"in_degree\": 2462, \"count\": 1, \"label\": \"count\"}, {\"in_degree\": 2463, \"count\": 1, \"label\": \"count\"}, {\"in_degree\": 2464, \"count\": 1, \"label\": \"count\"}, {\"in_degree\": 2465, \"count\": 1, \"label\": \"count\"}, {\"in_degree\": 2469, \"count\": 1, \"label\": \"count\"}, {\"in_degree\": 2470, \"count\": 1, \"label\": \"count\"}, {\"in_degree\": 2471, \"count\": 1, \"label\": \"count\"}, {\"in_degree\": 2475, \"count\": 1, \"label\": \"count\"}, {\"in_degree\": 2477, \"count\": 1, \"label\": \"count\"}, {\"in_degree\": 2478, \"count\": 1, \"label\": \"count\"}, {\"in_degree\": 2482, \"count\": 2, \"label\": \"count\"}, {\"in_degree\": 2483, \"count\": 2, \"label\": \"count\"}, {\"in_degree\": 2487, \"count\": 2, \"label\": \"count\"}, {\"in_degree\": 2488, \"count\": 1, \"label\": \"count\"}, {\"in_degree\": 2490, \"count\": 2, \"label\": \"count\"}, {\"in_degree\": 2491, \"count\": 1, \"label\": \"count\"}, {\"in_degree\": 2492, \"count\": 1, \"label\": \"count\"}, {\"in_degree\": 2496, \"count\": 3, \"label\": \"count\"}, {\"in_degree\": 2498, \"count\": 2, \"label\": \"count\"}, {\"in_degree\": 2500, \"count\": 2, \"label\": \"count\"}, {\"in_degree\": 2501, \"count\": 2, \"label\": \"count\"}, {\"in_degree\": 2502, \"count\": 1, \"label\": \"count\"}, {\"in_degree\": 2503, \"count\": 2, \"label\": \"count\"}, {\"in_degree\": 2504, \"count\": 1, \"label\": \"count\"}, {\"in_degree\": 2505, \"count\": 2, \"label\": \"count\"}, {\"in_degree\": 2506, \"count\": 2, \"label\": \"count\"}, {\"in_degree\": 2507, \"count\": 1, \"label\": \"count\"}, {\"in_degree\": 2509, \"count\": 2, \"label\": \"count\"}, {\"in_degree\": 2510, \"count\": 2, \"label\": \"count\"}, {\"in_degree\": 2511, \"count\": 1, \"label\": \"count\"}, {\"in_degree\": 2512, \"count\": 1, \"label\": \"count\"}, {\"in_degree\": 2513, \"count\": 1, \"label\": \"count\"}, {\"in_degree\": 2520, \"count\": 1, \"label\": \"count\"}, {\"in_degree\": 2521, \"count\": 1, \"label\": \"count\"}, {\"in_degree\": 2522, \"count\": 2, \"label\": \"count\"}, {\"in_degree\": 2527, \"count\": 1, \"label\": \"count\"}, {\"in_degree\": 2529, \"count\": 1, \"label\": \"count\"}, {\"in_degree\": 2531, \"count\": 3, \"label\": \"count\"}, {\"in_degree\": 2533, \"count\": 2, \"label\": \"count\"}, {\"in_degree\": 2535, \"count\": 2, \"label\": \"count\"}, {\"in_degree\": 2536, \"count\": 2, \"label\": \"count\"}, {\"in_degree\": 2537, \"count\": 1, \"label\": \"count\"}, {\"in_degree\": 2538, \"count\": 1, \"label\": \"count\"}, {\"in_degree\": 2542, \"count\": 1, \"label\": \"count\"}, {\"in_degree\": 2543, \"count\": 1, \"label\": \"count\"}, {\"in_degree\": 2546, \"count\": 1, \"label\": \"count\"}, {\"in_degree\": 2547, \"count\": 1, \"label\": \"count\"}, {\"in_degree\": 2548, \"count\": 2, \"label\": \"count\"}, {\"in_degree\": 2549, \"count\": 1, \"label\": \"count\"}, {\"in_degree\": 2555, \"count\": 1, \"label\": \"count\"}, {\"in_degree\": 2556, \"count\": 1, \"label\": \"count\"}, {\"in_degree\": 2557, \"count\": 1, \"label\": \"count\"}, {\"in_degree\": 2558, \"count\": 1, \"label\": \"count\"}, {\"in_degree\": 2559, \"count\": 1, \"label\": \"count\"}, {\"in_degree\": 2563, \"count\": 1, \"label\": \"count\"}, {\"in_degree\": 2564, \"count\": 2, \"label\": \"count\"}, {\"in_degree\": 2565, \"count\": 1, \"label\": \"count\"}, {\"in_degree\": 2568, \"count\": 1, \"label\": \"count\"}, {\"in_degree\": 2570, \"count\": 1, \"label\": \"count\"}, {\"in_degree\": 2573, \"count\": 2, \"label\": \"count\"}, {\"in_degree\": 2574, \"count\": 1, \"label\": \"count\"}, {\"in_degree\": 2575, \"count\": 1, \"label\": \"count\"}, {\"in_degree\": 2576, \"count\": 1, \"label\": \"count\"}, {\"in_degree\": 2580, \"count\": 1, \"label\": \"count\"}, {\"in_degree\": 2581, \"count\": 2, \"label\": \"count\"}, {\"in_degree\": 2582, \"count\": 2, \"label\": \"count\"}, {\"in_degree\": 2583, \"count\": 2, \"label\": \"count\"}, {\"in_degree\": 2585, \"count\": 2, \"label\": \"count\"}, {\"in_degree\": 2586, \"count\": 1, \"label\": \"count\"}, {\"in_degree\": 2587, \"count\": 3, \"label\": \"count\"}, {\"in_degree\": 2588, \"count\": 3, \"label\": \"count\"}, {\"in_degree\": 2589, \"count\": 1, \"label\": \"count\"}, {\"in_degree\": 2590, \"count\": 1, \"label\": \"count\"}, {\"in_degree\": 2591, \"count\": 1, \"label\": \"count\"}, {\"in_degree\": 2593, \"count\": 1, \"label\": \"count\"}, {\"in_degree\": 2595, \"count\": 1, \"label\": \"count\"}, {\"in_degree\": 2596, \"count\": 1, \"label\": \"count\"}, {\"in_degree\": 2597, \"count\": 1, \"label\": \"count\"}, {\"in_degree\": 2599, \"count\": 1, \"label\": \"count\"}, {\"in_degree\": 2600, \"count\": 2, \"label\": \"count\"}, {\"in_degree\": 2601, \"count\": 1, \"label\": \"count\"}, {\"in_degree\": 2602, \"count\": 1, \"label\": \"count\"}, {\"in_degree\": 2603, \"count\": 2, \"label\": \"count\"}, {\"in_degree\": 2604, \"count\": 4, \"label\": \"count\"}, {\"in_degree\": 2608, \"count\": 1, \"label\": \"count\"}, {\"in_degree\": 2609, \"count\": 3, \"label\": \"count\"}, {\"in_degree\": 2610, \"count\": 1, \"label\": \"count\"}, {\"in_degree\": 2612, \"count\": 3, \"label\": \"count\"}, {\"in_degree\": 2613, \"count\": 1, \"label\": \"count\"}, {\"in_degree\": 2615, \"count\": 1, \"label\": \"count\"}, {\"in_degree\": 2616, \"count\": 2, \"label\": \"count\"}, {\"in_degree\": 2617, \"count\": 1, \"label\": \"count\"}, {\"in_degree\": 2619, \"count\": 1, \"label\": \"count\"}, {\"in_degree\": 2625, \"count\": 3, \"label\": \"count\"}, {\"in_degree\": 2627, \"count\": 1, \"label\": \"count\"}, {\"in_degree\": 2629, \"count\": 1, \"label\": \"count\"}, {\"in_degree\": 2632, \"count\": 1, \"label\": \"count\"}, {\"in_degree\": 2633, \"count\": 1, \"label\": \"count\"}, {\"in_degree\": 2635, \"count\": 1, \"label\": \"count\"}, {\"in_degree\": 2636, \"count\": 1, \"label\": \"count\"}, {\"in_degree\": 2637, \"count\": 1, \"label\": \"count\"}, {\"in_degree\": 2638, \"count\": 2, \"label\": \"count\"}, {\"in_degree\": 2639, \"count\": 1, \"label\": \"count\"}, {\"in_degree\": 2646, \"count\": 2, \"label\": \"count\"}, {\"in_degree\": 2647, \"count\": 1, \"label\": \"count\"}, {\"in_degree\": 2648, \"count\": 1, \"label\": \"count\"}, {\"in_degree\": 2649, \"count\": 4, \"label\": \"count\"}, {\"in_degree\": 2650, \"count\": 1, \"label\": \"count\"}, {\"in_degree\": 2651, \"count\": 2, \"label\": \"count\"}, {\"in_degree\": 2653, \"count\": 2, \"label\": \"count\"}, {\"in_degree\": 2658, \"count\": 2, \"label\": \"count\"}, {\"in_degree\": 2659, \"count\": 1, \"label\": \"count\"}, {\"in_degree\": 2660, \"count\": 1, \"label\": \"count\"}, {\"in_degree\": 2662, \"count\": 2, \"label\": \"count\"}, {\"in_degree\": 2666, \"count\": 1, \"label\": \"count\"}, {\"in_degree\": 2668, \"count\": 1, \"label\": \"count\"}, {\"in_degree\": 2669, \"count\": 2, \"label\": \"count\"}, {\"in_degree\": 2672, \"count\": 2, \"label\": \"count\"}, {\"in_degree\": 2674, \"count\": 1, \"label\": \"count\"}, {\"in_degree\": 2676, \"count\": 1, \"label\": \"count\"}, {\"in_degree\": 2678, \"count\": 2, \"label\": \"count\"}, {\"in_degree\": 2680, \"count\": 1, \"label\": \"count\"}, {\"in_degree\": 2681, \"count\": 1, \"label\": \"count\"}, {\"in_degree\": 2684, \"count\": 1, \"label\": \"count\"}, {\"in_degree\": 2687, \"count\": 1, \"label\": \"count\"}, {\"in_degree\": 2689, \"count\": 1, \"label\": \"count\"}, {\"in_degree\": 2692, \"count\": 1, \"label\": \"count\"}, {\"in_degree\": 2694, \"count\": 1, \"label\": \"count\"}, {\"in_degree\": 2695, \"count\": 2, \"label\": \"count\"}, {\"in_degree\": 2698, \"count\": 1, \"label\": \"count\"}, {\"in_degree\": 2699, \"count\": 1, \"label\": \"count\"}, {\"in_degree\": 2700, \"count\": 1, \"label\": \"count\"}, {\"in_degree\": 2703, \"count\": 1, \"label\": \"count\"}, {\"in_degree\": 2704, \"count\": 1, \"label\": \"count\"}, {\"in_degree\": 2708, \"count\": 1, \"label\": \"count\"}, {\"in_degree\": 2712, \"count\": 1, \"label\": \"count\"}, {\"in_degree\": 2713, \"count\": 4, \"label\": \"count\"}, {\"in_degree\": 2714, \"count\": 1, \"label\": \"count\"}, {\"in_degree\": 2716, \"count\": 1, \"label\": \"count\"}, {\"in_degree\": 2722, \"count\": 1, \"label\": \"count\"}, {\"in_degree\": 2723, \"count\": 1, \"label\": \"count\"}, {\"in_degree\": 2725, \"count\": 1, \"label\": \"count\"}, {\"in_degree\": 2727, \"count\": 1, \"label\": \"count\"}, {\"in_degree\": 2728, \"count\": 1, \"label\": \"count\"}, {\"in_degree\": 2731, \"count\": 1, \"label\": \"count\"}, {\"in_degree\": 2732, \"count\": 1, \"label\": \"count\"}, {\"in_degree\": 2734, \"count\": 1, \"label\": \"count\"}, {\"in_degree\": 2736, \"count\": 1, \"label\": \"count\"}, {\"in_degree\": 2739, \"count\": 1, \"label\": \"count\"}, {\"in_degree\": 2740, \"count\": 2, \"label\": \"count\"}, {\"in_degree\": 2742, \"count\": 2, \"label\": \"count\"}, {\"in_degree\": 2746, \"count\": 1, \"label\": \"count\"}, {\"in_degree\": 2747, \"count\": 1, \"label\": \"count\"}, {\"in_degree\": 2749, \"count\": 1, \"label\": \"count\"}, {\"in_degree\": 2759, \"count\": 1, \"label\": \"count\"}, {\"in_degree\": 2761, \"count\": 1, \"label\": \"count\"}, {\"in_degree\": 2762, \"count\": 1, \"label\": \"count\"}, {\"in_degree\": 2763, \"count\": 1, \"label\": \"count\"}, {\"in_degree\": 2764, \"count\": 2, \"label\": \"count\"}, {\"in_degree\": 2765, \"count\": 2, \"label\": \"count\"}, {\"in_degree\": 2767, \"count\": 1, \"label\": \"count\"}, {\"in_degree\": 2768, \"count\": 2, \"label\": \"count\"}, {\"in_degree\": 2769, \"count\": 1, \"label\": \"count\"}, {\"in_degree\": 2770, \"count\": 2, \"label\": \"count\"}, {\"in_degree\": 2771, \"count\": 1, \"label\": \"count\"}, {\"in_degree\": 2780, \"count\": 1, \"label\": \"count\"}, {\"in_degree\": 2781, \"count\": 1, \"label\": \"count\"}, {\"in_degree\": 2785, \"count\": 1, \"label\": \"count\"}, {\"in_degree\": 2786, \"count\": 1, \"label\": \"count\"}, {\"in_degree\": 2792, \"count\": 1, \"label\": \"count\"}, {\"in_degree\": 2795, \"count\": 1, \"label\": \"count\"}, {\"in_degree\": 2797, \"count\": 1, \"label\": \"count\"}, {\"in_degree\": 2799, \"count\": 2, \"label\": \"count\"}, {\"in_degree\": 2802, \"count\": 1, \"label\": \"count\"}, {\"in_degree\": 2804, \"count\": 1, \"label\": \"count\"}, {\"in_degree\": 2809, \"count\": 1, \"label\": \"count\"}, {\"in_degree\": 2811, \"count\": 1, \"label\": \"count\"}, {\"in_degree\": 2813, \"count\": 1, \"label\": \"count\"}, {\"in_degree\": 2815, \"count\": 1, \"label\": \"count\"}, {\"in_degree\": 2819, \"count\": 1, \"label\": \"count\"}, {\"in_degree\": 2820, \"count\": 3, \"label\": \"count\"}, {\"in_degree\": 2821, \"count\": 2, \"label\": \"count\"}, {\"in_degree\": 2823, \"count\": 1, \"label\": \"count\"}, {\"in_degree\": 2824, \"count\": 1, \"label\": \"count\"}, {\"in_degree\": 2829, \"count\": 1, \"label\": \"count\"}, {\"in_degree\": 2832, \"count\": 1, \"label\": \"count\"}, {\"in_degree\": 2834, \"count\": 2, \"label\": \"count\"}, {\"in_degree\": 2835, \"count\": 1, \"label\": \"count\"}, {\"in_degree\": 2837, \"count\": 1, \"label\": \"count\"}, {\"in_degree\": 2839, \"count\": 1, \"label\": \"count\"}, {\"in_degree\": 2842, \"count\": 1, \"label\": \"count\"}, {\"in_degree\": 2843, \"count\": 1, \"label\": \"count\"}, {\"in_degree\": 2844, \"count\": 2, \"label\": \"count\"}, {\"in_degree\": 2845, \"count\": 1, \"label\": \"count\"}, {\"in_degree\": 2846, \"count\": 1, \"label\": \"count\"}, {\"in_degree\": 2848, \"count\": 1, \"label\": \"count\"}, {\"in_degree\": 2856, \"count\": 2, \"label\": \"count\"}, {\"in_degree\": 2857, \"count\": 1, \"label\": \"count\"}, {\"in_degree\": 2858, \"count\": 1, \"label\": \"count\"}, {\"in_degree\": 2861, \"count\": 1, \"label\": \"count\"}, {\"in_degree\": 2864, \"count\": 2, \"label\": \"count\"}, {\"in_degree\": 2865, \"count\": 1, \"label\": \"count\"}, {\"in_degree\": 2873, \"count\": 1, \"label\": \"count\"}, {\"in_degree\": 2876, \"count\": 2, \"label\": \"count\"}, {\"in_degree\": 2879, \"count\": 1, \"label\": \"count\"}, {\"in_degree\": 2882, \"count\": 1, \"label\": \"count\"}, {\"in_degree\": 2883, \"count\": 1, \"label\": \"count\"}, {\"in_degree\": 2884, \"count\": 1, \"label\": \"count\"}, {\"in_degree\": 2889, \"count\": 1, \"label\": \"count\"}, {\"in_degree\": 2893, \"count\": 1, \"label\": \"count\"}, {\"in_degree\": 2894, \"count\": 1, \"label\": \"count\"}, {\"in_degree\": 2895, \"count\": 1, \"label\": \"count\"}, {\"in_degree\": 2896, \"count\": 1, \"label\": \"count\"}, {\"in_degree\": 2897, \"count\": 1, \"label\": \"count\"}, {\"in_degree\": 2898, \"count\": 1, \"label\": \"count\"}, {\"in_degree\": 2900, \"count\": 1, \"label\": \"count\"}, {\"in_degree\": 2903, \"count\": 1, \"label\": \"count\"}, {\"in_degree\": 2905, \"count\": 1, \"label\": \"count\"}, {\"in_degree\": 2907, \"count\": 2, \"label\": \"count\"}, {\"in_degree\": 2911, \"count\": 1, \"label\": \"count\"}, {\"in_degree\": 2916, \"count\": 1, \"label\": \"count\"}, {\"in_degree\": 2917, \"count\": 2, \"label\": \"count\"}, {\"in_degree\": 2918, \"count\": 1, \"label\": \"count\"}, {\"in_degree\": 2920, \"count\": 2, \"label\": \"count\"}, {\"in_degree\": 2923, \"count\": 2, \"label\": \"count\"}, {\"in_degree\": 2925, \"count\": 1, \"label\": \"count\"}, {\"in_degree\": 2927, \"count\": 1, \"label\": \"count\"}, {\"in_degree\": 2928, \"count\": 1, \"label\": \"count\"}, {\"in_degree\": 2932, \"count\": 2, \"label\": \"count\"}, {\"in_degree\": 2933, \"count\": 1, \"label\": \"count\"}, {\"in_degree\": 2935, \"count\": 2, \"label\": \"count\"}, {\"in_degree\": 2936, \"count\": 2, \"label\": \"count\"}, {\"in_degree\": 2939, \"count\": 2, \"label\": \"count\"}, {\"in_degree\": 2941, \"count\": 1, \"label\": \"count\"}, {\"in_degree\": 2943, \"count\": 1, \"label\": \"count\"}, {\"in_degree\": 2944, \"count\": 1, \"label\": \"count\"}, {\"in_degree\": 2950, \"count\": 1, \"label\": \"count\"}, {\"in_degree\": 2951, \"count\": 1, \"label\": \"count\"}, {\"in_degree\": 2952, \"count\": 1, \"label\": \"count\"}, {\"in_degree\": 2955, \"count\": 2, \"label\": \"count\"}, {\"in_degree\": 2956, \"count\": 2, \"label\": \"count\"}, {\"in_degree\": 2957, \"count\": 2, \"label\": \"count\"}, {\"in_degree\": 2961, \"count\": 1, \"label\": \"count\"}, {\"in_degree\": 2962, \"count\": 1, \"label\": \"count\"}, {\"in_degree\": 2965, \"count\": 1, \"label\": \"count\"}, {\"in_degree\": 2966, \"count\": 1, \"label\": \"count\"}, {\"in_degree\": 2977, \"count\": 1, \"label\": \"count\"}, {\"in_degree\": 2978, \"count\": 1, \"label\": \"count\"}, {\"in_degree\": 2979, \"count\": 2, \"label\": \"count\"}, {\"in_degree\": 2981, \"count\": 2, \"label\": \"count\"}, {\"in_degree\": 2982, \"count\": 3, \"label\": \"count\"}, {\"in_degree\": 2987, \"count\": 2, \"label\": \"count\"}, {\"in_degree\": 2988, \"count\": 1, \"label\": \"count\"}, {\"in_degree\": 2991, \"count\": 1, \"label\": \"count\"}, {\"in_degree\": 2994, \"count\": 2, \"label\": \"count\"}, {\"in_degree\": 2995, \"count\": 1, \"label\": \"count\"}, {\"in_degree\": 2997, \"count\": 3, \"label\": \"count\"}, {\"in_degree\": 3001, \"count\": 1, \"label\": \"count\"}, {\"in_degree\": 3002, \"count\": 2, \"label\": \"count\"}, {\"in_degree\": 3004, \"count\": 1, \"label\": \"count\"}, {\"in_degree\": 3005, \"count\": 1, \"label\": \"count\"}, {\"in_degree\": 3006, \"count\": 1, \"label\": \"count\"}, {\"in_degree\": 3008, \"count\": 1, \"label\": \"count\"}, {\"in_degree\": 3009, \"count\": 1, \"label\": \"count\"}, {\"in_degree\": 3012, \"count\": 2, \"label\": \"count\"}, {\"in_degree\": 3016, \"count\": 1, \"label\": \"count\"}, {\"in_degree\": 3017, \"count\": 1, \"label\": \"count\"}, {\"in_degree\": 3019, \"count\": 1, \"label\": \"count\"}, {\"in_degree\": 3022, \"count\": 2, \"label\": \"count\"}, {\"in_degree\": 3023, \"count\": 1, \"label\": \"count\"}, {\"in_degree\": 3026, \"count\": 1, \"label\": \"count\"}, {\"in_degree\": 3027, \"count\": 1, \"label\": \"count\"}, {\"in_degree\": 3028, \"count\": 1, \"label\": \"count\"}, {\"in_degree\": 3031, \"count\": 1, \"label\": \"count\"}, {\"in_degree\": 3034, \"count\": 1, \"label\": \"count\"}, {\"in_degree\": 3035, \"count\": 1, \"label\": \"count\"}, {\"in_degree\": 3039, \"count\": 3, \"label\": \"count\"}, {\"in_degree\": 3040, \"count\": 1, \"label\": \"count\"}, {\"in_degree\": 3041, \"count\": 1, \"label\": \"count\"}, {\"in_degree\": 3042, \"count\": 1, \"label\": \"count\"}, {\"in_degree\": 3045, \"count\": 1, \"label\": \"count\"}, {\"in_degree\": 3048, \"count\": 1, \"label\": \"count\"}, {\"in_degree\": 3050, \"count\": 1, \"label\": \"count\"}, {\"in_degree\": 3054, \"count\": 1, \"label\": \"count\"}, {\"in_degree\": 3056, \"count\": 1, \"label\": \"count\"}, {\"in_degree\": 3057, \"count\": 2, \"label\": \"count\"}, {\"in_degree\": 3062, \"count\": 1, \"label\": \"count\"}, {\"in_degree\": 3064, \"count\": 1, \"label\": \"count\"}, {\"in_degree\": 3065, \"count\": 1, \"label\": \"count\"}, {\"in_degree\": 3066, \"count\": 1, \"label\": \"count\"}, {\"in_degree\": 3067, \"count\": 1, \"label\": \"count\"}, {\"in_degree\": 3073, \"count\": 1, \"label\": \"count\"}, {\"in_degree\": 3074, \"count\": 1, \"label\": \"count\"}, {\"in_degree\": 3075, \"count\": 1, \"label\": \"count\"}, {\"in_degree\": 3079, \"count\": 1, \"label\": \"count\"}, {\"in_degree\": 3084, \"count\": 1, \"label\": \"count\"}, {\"in_degree\": 3085, \"count\": 1, \"label\": \"count\"}, {\"in_degree\": 3086, \"count\": 1, \"label\": \"count\"}, {\"in_degree\": 3091, \"count\": 2, \"label\": \"count\"}, {\"in_degree\": 3092, \"count\": 1, \"label\": \"count\"}, {\"in_degree\": 3093, \"count\": 1, \"label\": \"count\"}, {\"in_degree\": 3098, \"count\": 1, \"label\": \"count\"}, {\"in_degree\": 3099, \"count\": 2, \"label\": \"count\"}, {\"in_degree\": 3100, \"count\": 1, \"label\": \"count\"}, {\"in_degree\": 3106, \"count\": 1, \"label\": \"count\"}, {\"in_degree\": 3110, \"count\": 1, \"label\": \"count\"}, {\"in_degree\": 3112, \"count\": 1, \"label\": \"count\"}, {\"in_degree\": 3114, \"count\": 2, \"label\": \"count\"}, {\"in_degree\": 3116, \"count\": 1, \"label\": \"count\"}, {\"in_degree\": 3122, \"count\": 1, \"label\": \"count\"}, {\"in_degree\": 3123, \"count\": 1, \"label\": \"count\"}, {\"in_degree\": 3124, \"count\": 1, \"label\": \"count\"}, {\"in_degree\": 3125, \"count\": 1, \"label\": \"count\"}, {\"in_degree\": 3126, \"count\": 1, \"label\": \"count\"}, {\"in_degree\": 3130, \"count\": 2, \"label\": \"count\"}, {\"in_degree\": 3133, \"count\": 1, \"label\": \"count\"}, {\"in_degree\": 3134, \"count\": 2, \"label\": \"count\"}, {\"in_degree\": 3137, \"count\": 1, \"label\": \"count\"}, {\"in_degree\": 3144, \"count\": 2, \"label\": \"count\"}, {\"in_degree\": 3145, \"count\": 1, \"label\": \"count\"}, {\"in_degree\": 3147, \"count\": 1, \"label\": \"count\"}, {\"in_degree\": 3156, \"count\": 1, \"label\": \"count\"}, {\"in_degree\": 3157, \"count\": 1, \"label\": \"count\"}, {\"in_degree\": 3160, \"count\": 1, \"label\": \"count\"}, {\"in_degree\": 3165, \"count\": 2, \"label\": \"count\"}, {\"in_degree\": 3166, \"count\": 2, \"label\": \"count\"}, {\"in_degree\": 3168, \"count\": 1, \"label\": \"count\"}, {\"in_degree\": 3170, \"count\": 1, \"label\": \"count\"}, {\"in_degree\": 3173, \"count\": 1, \"label\": \"count\"}, {\"in_degree\": 3175, \"count\": 2, \"label\": \"count\"}, {\"in_degree\": 3177, \"count\": 1, \"label\": \"count\"}, {\"in_degree\": 3179, \"count\": 1, \"label\": \"count\"}, {\"in_degree\": 3188, \"count\": 1, \"label\": \"count\"}, {\"in_degree\": 3193, \"count\": 1, \"label\": \"count\"}, {\"in_degree\": 3195, \"count\": 1, \"label\": \"count\"}, {\"in_degree\": 3196, \"count\": 1, \"label\": \"count\"}, {\"in_degree\": 3197, \"count\": 2, \"label\": \"count\"}, {\"in_degree\": 3201, \"count\": 1, \"label\": \"count\"}, {\"in_degree\": 3204, \"count\": 1, \"label\": \"count\"}, {\"in_degree\": 3205, \"count\": 1, \"label\": \"count\"}, {\"in_degree\": 3206, \"count\": 1, \"label\": \"count\"}, {\"in_degree\": 3208, \"count\": 1, \"label\": \"count\"}, {\"in_degree\": 3209, \"count\": 3, \"label\": \"count\"}, {\"in_degree\": 3210, \"count\": 2, \"label\": \"count\"}, {\"in_degree\": 3211, \"count\": 2, \"label\": \"count\"}, {\"in_degree\": 3214, \"count\": 2, \"label\": \"count\"}, {\"in_degree\": 3216, \"count\": 1, \"label\": \"count\"}, {\"in_degree\": 3232, \"count\": 1, \"label\": \"count\"}, {\"in_degree\": 3234, \"count\": 2, \"label\": \"count\"}, {\"in_degree\": 3245, \"count\": 1, \"label\": \"count\"}, {\"in_degree\": 3246, \"count\": 1, \"label\": \"count\"}, {\"in_degree\": 3250, \"count\": 2, \"label\": \"count\"}, {\"in_degree\": 3251, \"count\": 1, \"label\": \"count\"}, {\"in_degree\": 3254, \"count\": 1, \"label\": \"count\"}, {\"in_degree\": 3255, \"count\": 1, \"label\": \"count\"}, {\"in_degree\": 3269, \"count\": 1, \"label\": \"count\"}, {\"in_degree\": 3273, \"count\": 2, \"label\": \"count\"}, {\"in_degree\": 3276, \"count\": 1, \"label\": \"count\"}, {\"in_degree\": 3278, \"count\": 1, \"label\": \"count\"}, {\"in_degree\": 3281, \"count\": 1, \"label\": \"count\"}, {\"in_degree\": 3284, \"count\": 1, \"label\": \"count\"}, {\"in_degree\": 3285, \"count\": 1, \"label\": \"count\"}, {\"in_degree\": 3288, \"count\": 1, \"label\": \"count\"}, {\"in_degree\": 3291, \"count\": 2, \"label\": \"count\"}, {\"in_degree\": 3293, \"count\": 1, \"label\": \"count\"}, {\"in_degree\": 3296, \"count\": 1, \"label\": \"count\"}, {\"in_degree\": 3297, \"count\": 1, \"label\": \"count\"}, {\"in_degree\": 3301, \"count\": 1, \"label\": \"count\"}, {\"in_degree\": 3302, \"count\": 1, \"label\": \"count\"}, {\"in_degree\": 3308, \"count\": 2, \"label\": \"count\"}, {\"in_degree\": 3310, \"count\": 1, \"label\": \"count\"}, {\"in_degree\": 3311, \"count\": 2, \"label\": \"count\"}, {\"in_degree\": 3312, \"count\": 2, \"label\": \"count\"}, {\"in_degree\": 3316, \"count\": 2, \"label\": \"count\"}, {\"in_degree\": 3325, \"count\": 1, \"label\": \"count\"}, {\"in_degree\": 3329, \"count\": 1, \"label\": \"count\"}, {\"in_degree\": 3331, \"count\": 1, \"label\": \"count\"}, {\"in_degree\": 3334, \"count\": 1, \"label\": \"count\"}, {\"in_degree\": 3346, \"count\": 2, \"label\": \"count\"}, {\"in_degree\": 3347, \"count\": 2, \"label\": \"count\"}, {\"in_degree\": 3348, \"count\": 2, \"label\": \"count\"}, {\"in_degree\": 3353, \"count\": 1, \"label\": \"count\"}, {\"in_degree\": 3354, \"count\": 1, \"label\": \"count\"}, {\"in_degree\": 3355, \"count\": 1, \"label\": \"count\"}, {\"in_degree\": 3360, \"count\": 2, \"label\": \"count\"}, {\"in_degree\": 3361, \"count\": 1, \"label\": \"count\"}, {\"in_degree\": 3362, \"count\": 1, \"label\": \"count\"}, {\"in_degree\": 3363, \"count\": 1, \"label\": \"count\"}, {\"in_degree\": 3369, \"count\": 2, \"label\": \"count\"}, {\"in_degree\": 3374, \"count\": 1, \"label\": \"count\"}, {\"in_degree\": 3376, \"count\": 2, \"label\": \"count\"}, {\"in_degree\": 3379, \"count\": 1, \"label\": \"count\"}, {\"in_degree\": 3381, \"count\": 1, \"label\": \"count\"}, {\"in_degree\": 3384, \"count\": 1, \"label\": \"count\"}, {\"in_degree\": 3388, \"count\": 1, \"label\": \"count\"}, {\"in_degree\": 3393, \"count\": 2, \"label\": \"count\"}, {\"in_degree\": 3394, \"count\": 1, \"label\": \"count\"}, {\"in_degree\": 3395, \"count\": 2, \"label\": \"count\"}, {\"in_degree\": 3397, \"count\": 2, \"label\": \"count\"}, {\"in_degree\": 3407, \"count\": 2, \"label\": \"count\"}, {\"in_degree\": 3411, \"count\": 1, \"label\": \"count\"}, {\"in_degree\": 3413, \"count\": 1, \"label\": \"count\"}, {\"in_degree\": 3415, \"count\": 2, \"label\": \"count\"}, {\"in_degree\": 3416, \"count\": 1, \"label\": \"count\"}, {\"in_degree\": 3419, \"count\": 1, \"label\": \"count\"}, {\"in_degree\": 3420, \"count\": 1, \"label\": \"count\"}, {\"in_degree\": 3423, \"count\": 1, \"label\": \"count\"}, {\"in_degree\": 3427, \"count\": 1, \"label\": \"count\"}, {\"in_degree\": 3428, \"count\": 1, \"label\": \"count\"}, {\"in_degree\": 3435, \"count\": 1, \"label\": \"count\"}, {\"in_degree\": 3438, \"count\": 1, \"label\": \"count\"}, {\"in_degree\": 3439, \"count\": 1, \"label\": \"count\"}, {\"in_degree\": 3441, \"count\": 1, \"label\": \"count\"}, {\"in_degree\": 3442, \"count\": 1, \"label\": \"count\"}, {\"in_degree\": 3443, \"count\": 1, \"label\": \"count\"}, {\"in_degree\": 3457, \"count\": 1, \"label\": \"count\"}, {\"in_degree\": 3460, \"count\": 1, \"label\": \"count\"}, {\"in_degree\": 3464, \"count\": 1, \"label\": \"count\"}, {\"in_degree\": 3466, \"count\": 1, \"label\": \"count\"}, {\"in_degree\": 3468, \"count\": 1, \"label\": \"count\"}, {\"in_degree\": 3472, \"count\": 2, \"label\": \"count\"}, {\"in_degree\": 3474, \"count\": 1, \"label\": \"count\"}, {\"in_degree\": 3477, \"count\": 2, \"label\": \"count\"}, {\"in_degree\": 3478, \"count\": 1, \"label\": \"count\"}, {\"in_degree\": 3480, \"count\": 2, \"label\": \"count\"}, {\"in_degree\": 3481, \"count\": 1, \"label\": \"count\"}, {\"in_degree\": 3484, \"count\": 1, \"label\": \"count\"}, {\"in_degree\": 3486, \"count\": 1, \"label\": \"count\"}, {\"in_degree\": 3488, \"count\": 1, \"label\": \"count\"}, {\"in_degree\": 3490, \"count\": 1, \"label\": \"count\"}, {\"in_degree\": 3492, \"count\": 1, \"label\": \"count\"}, {\"in_degree\": 3494, \"count\": 1, \"label\": \"count\"}, {\"in_degree\": 3497, \"count\": 1, \"label\": \"count\"}, {\"in_degree\": 3504, \"count\": 1, \"label\": \"count\"}, {\"in_degree\": 3507, \"count\": 2, \"label\": \"count\"}, {\"in_degree\": 3512, \"count\": 1, \"label\": \"count\"}, {\"in_degree\": 3514, \"count\": 3, \"label\": \"count\"}, {\"in_degree\": 3516, \"count\": 1, \"label\": \"count\"}, {\"in_degree\": 3517, \"count\": 1, \"label\": \"count\"}, {\"in_degree\": 3518, \"count\": 1, \"label\": \"count\"}, {\"in_degree\": 3522, \"count\": 2, \"label\": \"count\"}, {\"in_degree\": 3525, \"count\": 1, \"label\": \"count\"}, {\"in_degree\": 3529, \"count\": 1, \"label\": \"count\"}, {\"in_degree\": 3533, \"count\": 2, \"label\": \"count\"}, {\"in_degree\": 3538, \"count\": 2, \"label\": \"count\"}, {\"in_degree\": 3539, \"count\": 2, \"label\": \"count\"}, {\"in_degree\": 3547, \"count\": 1, \"label\": \"count\"}, {\"in_degree\": 3553, \"count\": 1, \"label\": \"count\"}, {\"in_degree\": 3555, \"count\": 1, \"label\": \"count\"}, {\"in_degree\": 3560, \"count\": 1, \"label\": \"count\"}, {\"in_degree\": 3562, \"count\": 2, \"label\": \"count\"}, {\"in_degree\": 3563, \"count\": 1, \"label\": \"count\"}, {\"in_degree\": 3567, \"count\": 1, \"label\": \"count\"}, {\"in_degree\": 3568, \"count\": 1, \"label\": \"count\"}, {\"in_degree\": 3570, \"count\": 1, \"label\": \"count\"}, {\"in_degree\": 3573, \"count\": 1, \"label\": \"count\"}, {\"in_degree\": 3574, \"count\": 1, \"label\": \"count\"}, {\"in_degree\": 3575, \"count\": 1, \"label\": \"count\"}, {\"in_degree\": 3577, \"count\": 1, \"label\": \"count\"}, {\"in_degree\": 3579, \"count\": 1, \"label\": \"count\"}, {\"in_degree\": 3580, \"count\": 1, \"label\": \"count\"}, {\"in_degree\": 3582, \"count\": 2, \"label\": \"count\"}, {\"in_degree\": 3585, \"count\": 1, \"label\": \"count\"}, {\"in_degree\": 3588, \"count\": 2, \"label\": \"count\"}, {\"in_degree\": 3590, \"count\": 1, \"label\": \"count\"}, {\"in_degree\": 3595, \"count\": 1, \"label\": \"count\"}, {\"in_degree\": 3602, \"count\": 1, \"label\": \"count\"}, {\"in_degree\": 3605, \"count\": 1, \"label\": \"count\"}, {\"in_degree\": 3606, \"count\": 1, \"label\": \"count\"}, {\"in_degree\": 3607, \"count\": 1, \"label\": \"count\"}, {\"in_degree\": 3613, \"count\": 1, \"label\": \"count\"}, {\"in_degree\": 3618, \"count\": 1, \"label\": \"count\"}, {\"in_degree\": 3619, \"count\": 1, \"label\": \"count\"}, {\"in_degree\": 3623, \"count\": 1, \"label\": \"count\"}, {\"in_degree\": 3625, \"count\": 1, \"label\": \"count\"}, {\"in_degree\": 3627, \"count\": 1, \"label\": \"count\"}, {\"in_degree\": 3628, \"count\": 1, \"label\": \"count\"}, {\"in_degree\": 3631, \"count\": 1, \"label\": \"count\"}, {\"in_degree\": 3638, \"count\": 1, \"label\": \"count\"}, {\"in_degree\": 3641, \"count\": 1, \"label\": \"count\"}, {\"in_degree\": 3648, \"count\": 1, \"label\": \"count\"}, {\"in_degree\": 3650, \"count\": 1, \"label\": \"count\"}, {\"in_degree\": 3651, \"count\": 1, \"label\": \"count\"}, {\"in_degree\": 3652, \"count\": 2, \"label\": \"count\"}, {\"in_degree\": 3654, \"count\": 1, \"label\": \"count\"}, {\"in_degree\": 3658, \"count\": 1, \"label\": \"count\"}, {\"in_degree\": 3666, \"count\": 1, \"label\": \"count\"}, {\"in_degree\": 3668, \"count\": 1, \"label\": \"count\"}, {\"in_degree\": 3669, \"count\": 1, \"label\": \"count\"}, {\"in_degree\": 3673, \"count\": 2, \"label\": \"count\"}, {\"in_degree\": 3675, \"count\": 1, \"label\": \"count\"}, {\"in_degree\": 3678, \"count\": 1, \"label\": \"count\"}, {\"in_degree\": 3685, \"count\": 1, \"label\": \"count\"}, {\"in_degree\": 3687, \"count\": 1, \"label\": \"count\"}, {\"in_degree\": 3688, \"count\": 1, \"label\": \"count\"}, {\"in_degree\": 3691, \"count\": 1, \"label\": \"count\"}, {\"in_degree\": 3692, \"count\": 2, \"label\": \"count\"}, {\"in_degree\": 3694, \"count\": 2, \"label\": \"count\"}, {\"in_degree\": 3695, \"count\": 1, \"label\": \"count\"}, {\"in_degree\": 3698, \"count\": 1, \"label\": \"count\"}, {\"in_degree\": 3704, \"count\": 1, \"label\": \"count\"}, {\"in_degree\": 3708, \"count\": 1, \"label\": \"count\"}, {\"in_degree\": 3719, \"count\": 2, \"label\": \"count\"}, {\"in_degree\": 3722, \"count\": 1, \"label\": \"count\"}, {\"in_degree\": 3724, \"count\": 1, \"label\": \"count\"}, {\"in_degree\": 3725, \"count\": 1, \"label\": \"count\"}, {\"in_degree\": 3726, \"count\": 1, \"label\": \"count\"}, {\"in_degree\": 3728, \"count\": 1, \"label\": \"count\"}, {\"in_degree\": 3730, \"count\": 1, \"label\": \"count\"}, {\"in_degree\": 3735, \"count\": 1, \"label\": \"count\"}, {\"in_degree\": 3737, \"count\": 1, \"label\": \"count\"}, {\"in_degree\": 3739, \"count\": 1, \"label\": \"count\"}, {\"in_degree\": 3740, \"count\": 1, \"label\": \"count\"}, {\"in_degree\": 3741, \"count\": 1, \"label\": \"count\"}, {\"in_degree\": 3744, \"count\": 1, \"label\": \"count\"}, {\"in_degree\": 3745, \"count\": 1, \"label\": \"count\"}, {\"in_degree\": 3746, \"count\": 1, \"label\": \"count\"}, {\"in_degree\": 3749, \"count\": 1, \"label\": \"count\"}, {\"in_degree\": 3751, \"count\": 2, \"label\": \"count\"}, {\"in_degree\": 3753, \"count\": 1, \"label\": \"count\"}, {\"in_degree\": 3757, \"count\": 1, \"label\": \"count\"}, {\"in_degree\": 3760, \"count\": 1, \"label\": \"count\"}, {\"in_degree\": 3761, \"count\": 1, \"label\": \"count\"}, {\"in_degree\": 3763, \"count\": 2, \"label\": \"count\"}, {\"in_degree\": 3764, \"count\": 2, \"label\": \"count\"}, {\"in_degree\": 3765, \"count\": 1, \"label\": \"count\"}, {\"in_degree\": 3768, \"count\": 1, \"label\": \"count\"}, {\"in_degree\": 3772, \"count\": 1, \"label\": \"count\"}, {\"in_degree\": 3777, \"count\": 2, \"label\": \"count\"}, {\"in_degree\": 3780, \"count\": 1, \"label\": \"count\"}, {\"in_degree\": 3782, \"count\": 1, \"label\": \"count\"}, {\"in_degree\": 3784, \"count\": 1, \"label\": \"count\"}, {\"in_degree\": 3786, \"count\": 1, \"label\": \"count\"}, {\"in_degree\": 3787, \"count\": 1, \"label\": \"count\"}, {\"in_degree\": 3790, \"count\": 2, \"label\": \"count\"}, {\"in_degree\": 3791, \"count\": 1, \"label\": \"count\"}, {\"in_degree\": 3795, \"count\": 1, \"label\": \"count\"}, {\"in_degree\": 3796, \"count\": 1, \"label\": \"count\"}, {\"in_degree\": 3798, \"count\": 1, \"label\": \"count\"}, {\"in_degree\": 3804, \"count\": 1, \"label\": \"count\"}, {\"in_degree\": 3807, \"count\": 1, \"label\": \"count\"}, {\"in_degree\": 3808, \"count\": 1, \"label\": \"count\"}, {\"in_degree\": 3814, \"count\": 1, \"label\": \"count\"}, {\"in_degree\": 3819, \"count\": 1, \"label\": \"count\"}, {\"in_degree\": 3823, \"count\": 1, \"label\": \"count\"}, {\"in_degree\": 3828, \"count\": 1, \"label\": \"count\"}, {\"in_degree\": 3830, \"count\": 1, \"label\": \"count\"}, {\"in_degree\": 3837, \"count\": 1, \"label\": \"count\"}, {\"in_degree\": 3840, \"count\": 1, \"label\": \"count\"}, {\"in_degree\": 3843, \"count\": 1, \"label\": \"count\"}, {\"in_degree\": 3844, \"count\": 2, \"label\": \"count\"}, {\"in_degree\": 3845, \"count\": 1, \"label\": \"count\"}, {\"in_degree\": 3858, \"count\": 3, \"label\": \"count\"}, {\"in_degree\": 3862, \"count\": 1, \"label\": \"count\"}, {\"in_degree\": 3865, \"count\": 1, \"label\": \"count\"}, {\"in_degree\": 3869, \"count\": 1, \"label\": \"count\"}, {\"in_degree\": 3871, \"count\": 1, \"label\": \"count\"}, {\"in_degree\": 3873, \"count\": 1, \"label\": \"count\"}, {\"in_degree\": 3874, \"count\": 1, \"label\": \"count\"}, {\"in_degree\": 3875, \"count\": 2, \"label\": \"count\"}, {\"in_degree\": 3877, \"count\": 2, \"label\": \"count\"}, {\"in_degree\": 3879, \"count\": 1, \"label\": \"count\"}, {\"in_degree\": 3880, \"count\": 1, \"label\": \"count\"}, {\"in_degree\": 3883, \"count\": 1, \"label\": \"count\"}, {\"in_degree\": 3885, \"count\": 3, \"label\": \"count\"}, {\"in_degree\": 3886, \"count\": 1, \"label\": \"count\"}, {\"in_degree\": 3887, \"count\": 1, \"label\": \"count\"}, {\"in_degree\": 3890, \"count\": 1, \"label\": \"count\"}, {\"in_degree\": 3891, \"count\": 1, \"label\": \"count\"}, {\"in_degree\": 3892, \"count\": 3, \"label\": \"count\"}, {\"in_degree\": 3893, \"count\": 2, \"label\": \"count\"}, {\"in_degree\": 3896, \"count\": 1, \"label\": \"count\"}, {\"in_degree\": 3898, \"count\": 1, \"label\": \"count\"}, {\"in_degree\": 3906, \"count\": 1, \"label\": \"count\"}, {\"in_degree\": 3907, \"count\": 1, \"label\": \"count\"}, {\"in_degree\": 3912, \"count\": 1, \"label\": \"count\"}, {\"in_degree\": 3914, \"count\": 1, \"label\": \"count\"}, {\"in_degree\": 3917, \"count\": 1, \"label\": \"count\"}, {\"in_degree\": 3918, \"count\": 1, \"label\": \"count\"}, {\"in_degree\": 3928, \"count\": 1, \"label\": \"count\"}, {\"in_degree\": 3934, \"count\": 1, \"label\": \"count\"}, {\"in_degree\": 3935, \"count\": 1, \"label\": \"count\"}, {\"in_degree\": 3940, \"count\": 1, \"label\": \"count\"}, {\"in_degree\": 3943, \"count\": 1, \"label\": \"count\"}, {\"in_degree\": 3948, \"count\": 1, \"label\": \"count\"}, {\"in_degree\": 3950, \"count\": 1, \"label\": \"count\"}, {\"in_degree\": 3957, \"count\": 1, \"label\": \"count\"}, {\"in_degree\": 3958, \"count\": 1, \"label\": \"count\"}, {\"in_degree\": 3960, \"count\": 1, \"label\": \"count\"}, {\"in_degree\": 3962, \"count\": 1, \"label\": \"count\"}, {\"in_degree\": 3965, \"count\": 1, \"label\": \"count\"}, {\"in_degree\": 3966, \"count\": 1, \"label\": \"count\"}, {\"in_degree\": 3967, \"count\": 2, \"label\": \"count\"}, {\"in_degree\": 3970, \"count\": 1, \"label\": \"count\"}, {\"in_degree\": 3975, \"count\": 1, \"label\": \"count\"}, {\"in_degree\": 3981, \"count\": 2, \"label\": \"count\"}, {\"in_degree\": 3983, \"count\": 1, \"label\": \"count\"}, {\"in_degree\": 3993, \"count\": 1, \"label\": \"count\"}, {\"in_degree\": 3996, \"count\": 1, \"label\": \"count\"}, {\"in_degree\": 4000, \"count\": 1, \"label\": \"count\"}, {\"in_degree\": 4003, \"count\": 1, \"label\": \"count\"}, {\"in_degree\": 4013, \"count\": 1, \"label\": \"count\"}, {\"in_degree\": 4014, \"count\": 1, \"label\": \"count\"}, {\"in_degree\": 4022, \"count\": 2, \"label\": \"count\"}, {\"in_degree\": 4026, \"count\": 1, \"label\": \"count\"}, {\"in_degree\": 4042, \"count\": 1, \"label\": \"count\"}, {\"in_degree\": 4045, \"count\": 1, \"label\": \"count\"}, {\"in_degree\": 4057, \"count\": 1, \"label\": \"count\"}, {\"in_degree\": 4058, \"count\": 1, \"label\": \"count\"}, {\"in_degree\": 4068, \"count\": 2, \"label\": \"count\"}, {\"in_degree\": 4076, \"count\": 1, \"label\": \"count\"}, {\"in_degree\": 4077, \"count\": 1, \"label\": \"count\"}, {\"in_degree\": 4082, \"count\": 1, \"label\": \"count\"}, {\"in_degree\": 4084, \"count\": 1, \"label\": \"count\"}, {\"in_degree\": 4088, \"count\": 1, \"label\": \"count\"}, {\"in_degree\": 4091, \"count\": 1, \"label\": \"count\"}, {\"in_degree\": 4092, \"count\": 2, \"label\": \"count\"}, {\"in_degree\": 4097, \"count\": 1, \"label\": \"count\"}, {\"in_degree\": 4100, \"count\": 2, \"label\": \"count\"}, {\"in_degree\": 4104, \"count\": 1, \"label\": \"count\"}, {\"in_degree\": 4115, \"count\": 1, \"label\": \"count\"}, {\"in_degree\": 4131, \"count\": 2, \"label\": \"count\"}, {\"in_degree\": 4139, \"count\": 1, \"label\": \"count\"}, {\"in_degree\": 4140, \"count\": 1, \"label\": \"count\"}, {\"in_degree\": 4148, \"count\": 1, \"label\": \"count\"}, {\"in_degree\": 4149, \"count\": 1, \"label\": \"count\"}, {\"in_degree\": 4152, \"count\": 2, \"label\": \"count\"}, {\"in_degree\": 4162, \"count\": 3, \"label\": \"count\"}, {\"in_degree\": 4177, \"count\": 2, \"label\": \"count\"}, {\"in_degree\": 4179, \"count\": 1, \"label\": \"count\"}, {\"in_degree\": 4181, \"count\": 1, \"label\": \"count\"}, {\"in_degree\": 4191, \"count\": 1, \"label\": \"count\"}, {\"in_degree\": 4199, \"count\": 1, \"label\": \"count\"}, {\"in_degree\": 4200, \"count\": 1, \"label\": \"count\"}, {\"in_degree\": 4208, \"count\": 1, \"label\": \"count\"}, {\"in_degree\": 4209, \"count\": 1, \"label\": \"count\"}, {\"in_degree\": 4215, \"count\": 1, \"label\": \"count\"}, {\"in_degree\": 4218, \"count\": 1, \"label\": \"count\"}, {\"in_degree\": 4221, \"count\": 1, \"label\": \"count\"}, {\"in_degree\": 4227, \"count\": 1, \"label\": \"count\"}, {\"in_degree\": 4229, \"count\": 1, \"label\": \"count\"}, {\"in_degree\": 4233, \"count\": 1, \"label\": \"count\"}, {\"in_degree\": 4237, \"count\": 1, \"label\": \"count\"}, {\"in_degree\": 4238, \"count\": 1, \"label\": \"count\"}, {\"in_degree\": 4241, \"count\": 1, \"label\": \"count\"}, {\"in_degree\": 4249, \"count\": 1, \"label\": \"count\"}, {\"in_degree\": 4252, \"count\": 1, \"label\": \"count\"}, {\"in_degree\": 4253, \"count\": 1, \"label\": \"count\"}, {\"in_degree\": 4272, \"count\": 1, \"label\": \"count\"}, {\"in_degree\": 4277, \"count\": 1, \"label\": \"count\"}, {\"in_degree\": 4281, \"count\": 2, \"label\": \"count\"}, {\"in_degree\": 4288, \"count\": 1, \"label\": \"count\"}, {\"in_degree\": 4293, \"count\": 1, \"label\": \"count\"}, {\"in_degree\": 4294, \"count\": 1, \"label\": \"count\"}, {\"in_degree\": 4298, \"count\": 2, \"label\": \"count\"}, {\"in_degree\": 4299, \"count\": 1, \"label\": \"count\"}, {\"in_degree\": 4306, \"count\": 2, \"label\": \"count\"}, {\"in_degree\": 4308, \"count\": 1, \"label\": \"count\"}, {\"in_degree\": 4318, \"count\": 1, \"label\": \"count\"}, {\"in_degree\": 4319, \"count\": 1, \"label\": \"count\"}, {\"in_degree\": 4321, \"count\": 2, \"label\": \"count\"}, {\"in_degree\": 4324, \"count\": 1, \"label\": \"count\"}, {\"in_degree\": 4329, \"count\": 1, \"label\": \"count\"}, {\"in_degree\": 4335, \"count\": 1, \"label\": \"count\"}, {\"in_degree\": 4341, \"count\": 1, \"label\": \"count\"}, {\"in_degree\": 4347, \"count\": 1, \"label\": \"count\"}, {\"in_degree\": 4352, \"count\": 1, \"label\": \"count\"}, {\"in_degree\": 4353, \"count\": 1, \"label\": \"count\"}, {\"in_degree\": 4370, \"count\": 1, \"label\": \"count\"}, {\"in_degree\": 4383, \"count\": 1, \"label\": \"count\"}, {\"in_degree\": 4384, \"count\": 2, \"label\": \"count\"}, {\"in_degree\": 4390, \"count\": 2, \"label\": \"count\"}, {\"in_degree\": 4391, \"count\": 1, \"label\": \"count\"}, {\"in_degree\": 4398, \"count\": 1, \"label\": \"count\"}, {\"in_degree\": 4401, \"count\": 2, \"label\": \"count\"}, {\"in_degree\": 4405, \"count\": 1, \"label\": \"count\"}, {\"in_degree\": 4408, \"count\": 1, \"label\": \"count\"}, {\"in_degree\": 4412, \"count\": 1, \"label\": \"count\"}, {\"in_degree\": 4421, \"count\": 1, \"label\": \"count\"}, {\"in_degree\": 4424, \"count\": 1, \"label\": \"count\"}, {\"in_degree\": 4428, \"count\": 2, \"label\": \"count\"}, {\"in_degree\": 4439, \"count\": 3, \"label\": \"count\"}, {\"in_degree\": 4446, \"count\": 1, \"label\": \"count\"}, {\"in_degree\": 4447, \"count\": 1, \"label\": \"count\"}, {\"in_degree\": 4452, \"count\": 1, \"label\": \"count\"}, {\"in_degree\": 4458, \"count\": 1, \"label\": \"count\"}, {\"in_degree\": 4459, \"count\": 1, \"label\": \"count\"}, {\"in_degree\": 4461, \"count\": 2, \"label\": \"count\"}, {\"in_degree\": 4469, \"count\": 1, \"label\": \"count\"}, {\"in_degree\": 4474, \"count\": 1, \"label\": \"count\"}, {\"in_degree\": 4476, \"count\": 1, \"label\": \"count\"}, {\"in_degree\": 4479, \"count\": 1, \"label\": \"count\"}, {\"in_degree\": 4480, \"count\": 1, \"label\": \"count\"}, {\"in_degree\": 4484, \"count\": 1, \"label\": \"count\"}, {\"in_degree\": 4486, \"count\": 1, \"label\": \"count\"}, {\"in_degree\": 4489, \"count\": 1, \"label\": \"count\"}, {\"in_degree\": 4490, \"count\": 1, \"label\": \"count\"}, {\"in_degree\": 4492, \"count\": 1, \"label\": \"count\"}, {\"in_degree\": 4493, \"count\": 1, \"label\": \"count\"}, {\"in_degree\": 4497, \"count\": 1, \"label\": \"count\"}, {\"in_degree\": 4504, \"count\": 1, \"label\": \"count\"}, {\"in_degree\": 4505, \"count\": 1, \"label\": \"count\"}, {\"in_degree\": 4510, \"count\": 1, \"label\": \"count\"}, {\"in_degree\": 4531, \"count\": 1, \"label\": \"count\"}, {\"in_degree\": 4540, \"count\": 1, \"label\": \"count\"}, {\"in_degree\": 4553, \"count\": 1, \"label\": \"count\"}, {\"in_degree\": 4558, \"count\": 1, \"label\": \"count\"}, {\"in_degree\": 4574, \"count\": 1, \"label\": \"count\"}, {\"in_degree\": 4576, \"count\": 1, \"label\": \"count\"}, {\"in_degree\": 4578, \"count\": 1, \"label\": \"count\"}, {\"in_degree\": 4583, \"count\": 1, \"label\": \"count\"}, {\"in_degree\": 4588, \"count\": 1, \"label\": \"count\"}, {\"in_degree\": 4589, \"count\": 1, \"label\": \"count\"}, {\"in_degree\": 4602, \"count\": 1, \"label\": \"count\"}, {\"in_degree\": 4606, \"count\": 1, \"label\": \"count\"}, {\"in_degree\": 4613, \"count\": 1, \"label\": \"count\"}, {\"in_degree\": 4626, \"count\": 1, \"label\": \"count\"}, {\"in_degree\": 4637, \"count\": 1, \"label\": \"count\"}, {\"in_degree\": 4640, \"count\": 1, \"label\": \"count\"}, {\"in_degree\": 4645, \"count\": 1, \"label\": \"count\"}, {\"in_degree\": 4657, \"count\": 1, \"label\": \"count\"}, {\"in_degree\": 4659, \"count\": 1, \"label\": \"count\"}, {\"in_degree\": 4660, \"count\": 1, \"label\": \"count\"}, {\"in_degree\": 4664, \"count\": 1, \"label\": \"count\"}, {\"in_degree\": 4667, \"count\": 1, \"label\": \"count\"}, {\"in_degree\": 4671, \"count\": 1, \"label\": \"count\"}, {\"in_degree\": 4677, \"count\": 1, \"label\": \"count\"}, {\"in_degree\": 4679, \"count\": 1, \"label\": \"count\"}, {\"in_degree\": 4687, \"count\": 1, \"label\": \"count\"}, {\"in_degree\": 4701, \"count\": 1, \"label\": \"count\"}, {\"in_degree\": 4702, \"count\": 1, \"label\": \"count\"}, {\"in_degree\": 4703, \"count\": 1, \"label\": \"count\"}, {\"in_degree\": 4704, \"count\": 1, \"label\": \"count\"}, {\"in_degree\": 4717, \"count\": 1, \"label\": \"count\"}, {\"in_degree\": 4721, \"count\": 1, \"label\": \"count\"}, {\"in_degree\": 4728, \"count\": 1, \"label\": \"count\"}, {\"in_degree\": 4731, \"count\": 1, \"label\": \"count\"}, {\"in_degree\": 4733, \"count\": 1, \"label\": \"count\"}, {\"in_degree\": 4739, \"count\": 2, \"label\": \"count\"}, {\"in_degree\": 4741, \"count\": 1, \"label\": \"count\"}, {\"in_degree\": 4748, \"count\": 1, \"label\": \"count\"}, {\"in_degree\": 4753, \"count\": 2, \"label\": \"count\"}, {\"in_degree\": 4759, \"count\": 1, \"label\": \"count\"}, {\"in_degree\": 4769, \"count\": 1, \"label\": \"count\"}, {\"in_degree\": 4772, \"count\": 1, \"label\": \"count\"}, {\"in_degree\": 4773, \"count\": 1, \"label\": \"count\"}, {\"in_degree\": 4775, \"count\": 1, \"label\": \"count\"}, {\"in_degree\": 4787, \"count\": 1, \"label\": \"count\"}, {\"in_degree\": 4788, \"count\": 1, \"label\": \"count\"}, {\"in_degree\": 4796, \"count\": 1, \"label\": \"count\"}, {\"in_degree\": 4811, \"count\": 2, \"label\": \"count\"}, {\"in_degree\": 4825, \"count\": 2, \"label\": \"count\"}, {\"in_degree\": 4832, \"count\": 1, \"label\": \"count\"}, {\"in_degree\": 4833, \"count\": 1, \"label\": \"count\"}, {\"in_degree\": 4835, \"count\": 1, \"label\": \"count\"}, {\"in_degree\": 4837, \"count\": 1, \"label\": \"count\"}, {\"in_degree\": 4838, \"count\": 1, \"label\": \"count\"}, {\"in_degree\": 4841, \"count\": 1, \"label\": \"count\"}, {\"in_degree\": 4842, \"count\": 1, \"label\": \"count\"}, {\"in_degree\": 4849, \"count\": 1, \"label\": \"count\"}, {\"in_degree\": 4862, \"count\": 1, \"label\": \"count\"}, {\"in_degree\": 4864, \"count\": 1, \"label\": \"count\"}, {\"in_degree\": 4868, \"count\": 2, \"label\": \"count\"}, {\"in_degree\": 4874, \"count\": 1, \"label\": \"count\"}, {\"in_degree\": 4881, \"count\": 1, \"label\": \"count\"}, {\"in_degree\": 4884, \"count\": 1, \"label\": \"count\"}, {\"in_degree\": 4886, \"count\": 1, \"label\": \"count\"}, {\"in_degree\": 4896, \"count\": 1, \"label\": \"count\"}, {\"in_degree\": 4900, \"count\": 1, \"label\": \"count\"}, {\"in_degree\": 4905, \"count\": 1, \"label\": \"count\"}, {\"in_degree\": 4909, \"count\": 1, \"label\": \"count\"}, {\"in_degree\": 4910, \"count\": 1, \"label\": \"count\"}, {\"in_degree\": 4912, \"count\": 1, \"label\": \"count\"}, {\"in_degree\": 4926, \"count\": 2, \"label\": \"count\"}, {\"in_degree\": 4933, \"count\": 1, \"label\": \"count\"}, {\"in_degree\": 4938, \"count\": 1, \"label\": \"count\"}, {\"in_degree\": 4942, \"count\": 1, \"label\": \"count\"}, {\"in_degree\": 4943, \"count\": 1, \"label\": \"count\"}, {\"in_degree\": 4945, \"count\": 1, \"label\": \"count\"}, {\"in_degree\": 4946, \"count\": 1, \"label\": \"count\"}, {\"in_degree\": 4950, \"count\": 1, \"label\": \"count\"}, {\"in_degree\": 4958, \"count\": 1, \"label\": \"count\"}, {\"in_degree\": 4960, \"count\": 1, \"label\": \"count\"}, {\"in_degree\": 4978, \"count\": 1, \"label\": \"count\"}, {\"in_degree\": 4979, \"count\": 1, \"label\": \"count\"}, {\"in_degree\": 4987, \"count\": 1, \"label\": \"count\"}, {\"in_degree\": 4995, \"count\": 1, \"label\": \"count\"}, {\"in_degree\": 5001, \"count\": 1, \"label\": \"count\"}, {\"in_degree\": 5005, \"count\": 1, \"label\": \"count\"}, {\"in_degree\": 5025, \"count\": 1, \"label\": \"count\"}, {\"in_degree\": 5026, \"count\": 1, \"label\": \"count\"}, {\"in_degree\": 5035, \"count\": 1, \"label\": \"count\"}, {\"in_degree\": 5036, \"count\": 1, \"label\": \"count\"}, {\"in_degree\": 5042, \"count\": 1, \"label\": \"count\"}, {\"in_degree\": 5043, \"count\": 1, \"label\": \"count\"}, {\"in_degree\": 5053, \"count\": 1, \"label\": \"count\"}, {\"in_degree\": 5054, \"count\": 1, \"label\": \"count\"}, {\"in_degree\": 5061, \"count\": 1, \"label\": \"count\"}, {\"in_degree\": 5075, \"count\": 1, \"label\": \"count\"}, {\"in_degree\": 5083, \"count\": 1, \"label\": \"count\"}, {\"in_degree\": 5085, \"count\": 1, \"label\": \"count\"}, {\"in_degree\": 5088, \"count\": 1, \"label\": \"count\"}, {\"in_degree\": 5102, \"count\": 1, \"label\": \"count\"}, {\"in_degree\": 5113, \"count\": 2, \"label\": \"count\"}, {\"in_degree\": 5122, \"count\": 1, \"label\": \"count\"}, {\"in_degree\": 5124, \"count\": 2, \"label\": \"count\"}, {\"in_degree\": 5131, \"count\": 2, \"label\": \"count\"}, {\"in_degree\": 5137, \"count\": 1, \"label\": \"count\"}, {\"in_degree\": 5142, \"count\": 1, \"label\": \"count\"}, {\"in_degree\": 5143, \"count\": 1, \"label\": \"count\"}, {\"in_degree\": 5147, \"count\": 1, \"label\": \"count\"}, {\"in_degree\": 5160, \"count\": 1, \"label\": \"count\"}, {\"in_degree\": 5169, \"count\": 1, \"label\": \"count\"}, {\"in_degree\": 5173, \"count\": 1, \"label\": \"count\"}, {\"in_degree\": 5177, \"count\": 1, \"label\": \"count\"}, {\"in_degree\": 5179, \"count\": 1, \"label\": \"count\"}, {\"in_degree\": 5180, \"count\": 1, \"label\": \"count\"}, {\"in_degree\": 5181, \"count\": 1, \"label\": \"count\"}, {\"in_degree\": 5188, \"count\": 1, \"label\": \"count\"}, {\"in_degree\": 5198, \"count\": 1, \"label\": \"count\"}, {\"in_degree\": 5200, \"count\": 1, \"label\": \"count\"}, {\"in_degree\": 5216, \"count\": 1, \"label\": \"count\"}, {\"in_degree\": 5223, \"count\": 1, \"label\": \"count\"}, {\"in_degree\": 5235, \"count\": 1, \"label\": \"count\"}, {\"in_degree\": 5236, \"count\": 1, \"label\": \"count\"}, {\"in_degree\": 5255, \"count\": 2, \"label\": \"count\"}, {\"in_degree\": 5269, \"count\": 2, \"label\": \"count\"}, {\"in_degree\": 5296, \"count\": 1, \"label\": \"count\"}, {\"in_degree\": 5326, \"count\": 1, \"label\": \"count\"}, {\"in_degree\": 5348, \"count\": 1, \"label\": \"count\"}, {\"in_degree\": 5349, \"count\": 1, \"label\": \"count\"}, {\"in_degree\": 5350, \"count\": 1, \"label\": \"count\"}, {\"in_degree\": 5359, \"count\": 1, \"label\": \"count\"}, {\"in_degree\": 5376, \"count\": 1, \"label\": \"count\"}, {\"in_degree\": 5380, \"count\": 1, \"label\": \"count\"}, {\"in_degree\": 5387, \"count\": 1, \"label\": \"count\"}, {\"in_degree\": 5396, \"count\": 1, \"label\": \"count\"}, {\"in_degree\": 5410, \"count\": 1, \"label\": \"count\"}, {\"in_degree\": 5418, \"count\": 1, \"label\": \"count\"}, {\"in_degree\": 5421, \"count\": 1, \"label\": \"count\"}, {\"in_degree\": 5425, \"count\": 1, \"label\": \"count\"}, {\"in_degree\": 5433, \"count\": 1, \"label\": \"count\"}, {\"in_degree\": 5435, \"count\": 1, \"label\": \"count\"}, {\"in_degree\": 5453, \"count\": 1, \"label\": \"count\"}, {\"in_degree\": 5456, \"count\": 1, \"label\": \"count\"}, {\"in_degree\": 5459, \"count\": 1, \"label\": \"count\"}, {\"in_degree\": 5465, \"count\": 1, \"label\": \"count\"}, {\"in_degree\": 5474, \"count\": 1, \"label\": \"count\"}, {\"in_degree\": 5477, \"count\": 1, \"label\": \"count\"}, {\"in_degree\": 5510, \"count\": 1, \"label\": \"count\"}, {\"in_degree\": 5518, \"count\": 1, \"label\": \"count\"}, {\"in_degree\": 5519, \"count\": 1, \"label\": \"count\"}, {\"in_degree\": 5520, \"count\": 1, \"label\": \"count\"}, {\"in_degree\": 5521, \"count\": 1, \"label\": \"count\"}, {\"in_degree\": 5529, \"count\": 1, \"label\": \"count\"}, {\"in_degree\": 5548, \"count\": 2, \"label\": \"count\"}, {\"in_degree\": 5555, \"count\": 1, \"label\": \"count\"}, {\"in_degree\": 5557, \"count\": 1, \"label\": \"count\"}, {\"in_degree\": 5559, \"count\": 1, \"label\": \"count\"}, {\"in_degree\": 5561, \"count\": 1, \"label\": \"count\"}, {\"in_degree\": 5564, \"count\": 1, \"label\": \"count\"}, {\"in_degree\": 5568, \"count\": 1, \"label\": \"count\"}, {\"in_degree\": 5577, \"count\": 1, \"label\": \"count\"}, {\"in_degree\": 5578, \"count\": 1, \"label\": \"count\"}, {\"in_degree\": 5581, \"count\": 1, \"label\": \"count\"}, {\"in_degree\": 5584, \"count\": 1, \"label\": \"count\"}, {\"in_degree\": 5587, \"count\": 1, \"label\": \"count\"}, {\"in_degree\": 5594, \"count\": 1, \"label\": \"count\"}, {\"in_degree\": 5597, \"count\": 1, \"label\": \"count\"}, {\"in_degree\": 5605, \"count\": 1, \"label\": \"count\"}, {\"in_degree\": 5609, \"count\": 1, \"label\": \"count\"}, {\"in_degree\": 5622, \"count\": 1, \"label\": \"count\"}, {\"in_degree\": 5629, \"count\": 1, \"label\": \"count\"}, {\"in_degree\": 5632, \"count\": 1, \"label\": \"count\"}, {\"in_degree\": 5633, \"count\": 1, \"label\": \"count\"}, {\"in_degree\": 5634, \"count\": 1, \"label\": \"count\"}, {\"in_degree\": 5645, \"count\": 2, \"label\": \"count\"}, {\"in_degree\": 5654, \"count\": 1, \"label\": \"count\"}, {\"in_degree\": 5660, \"count\": 1, \"label\": \"count\"}, {\"in_degree\": 5662, \"count\": 1, \"label\": \"count\"}, {\"in_degree\": 5676, \"count\": 1, \"label\": \"count\"}, {\"in_degree\": 5678, \"count\": 1, \"label\": \"count\"}, {\"in_degree\": 5679, \"count\": 1, \"label\": \"count\"}, {\"in_degree\": 5683, \"count\": 1, \"label\": \"count\"}, {\"in_degree\": 5688, \"count\": 1, \"label\": \"count\"}, {\"in_degree\": 5694, \"count\": 1, \"label\": \"count\"}, {\"in_degree\": 5703, \"count\": 1, \"label\": \"count\"}, {\"in_degree\": 5728, \"count\": 1, \"label\": \"count\"}, {\"in_degree\": 5738, \"count\": 1, \"label\": \"count\"}, {\"in_degree\": 5742, \"count\": 1, \"label\": \"count\"}, {\"in_degree\": 5753, \"count\": 1, \"label\": \"count\"}, {\"in_degree\": 5766, \"count\": 1, \"label\": \"count\"}, {\"in_degree\": 5777, \"count\": 1, \"label\": \"count\"}, {\"in_degree\": 5780, \"count\": 1, \"label\": \"count\"}, {\"in_degree\": 5797, \"count\": 1, \"label\": \"count\"}, {\"in_degree\": 5807, \"count\": 1, \"label\": \"count\"}, {\"in_degree\": 5811, \"count\": 1, \"label\": \"count\"}, {\"in_degree\": 5816, \"count\": 1, \"label\": \"count\"}, {\"in_degree\": 5818, \"count\": 1, \"label\": \"count\"}, {\"in_degree\": 5827, \"count\": 2, \"label\": \"count\"}, {\"in_degree\": 5829, \"count\": 1, \"label\": \"count\"}, {\"in_degree\": 5834, \"count\": 1, \"label\": \"count\"}, {\"in_degree\": 5836, \"count\": 1, \"label\": \"count\"}, {\"in_degree\": 5838, \"count\": 1, \"label\": \"count\"}, {\"in_degree\": 5849, \"count\": 1, \"label\": \"count\"}, {\"in_degree\": 5855, \"count\": 1, \"label\": \"count\"}, {\"in_degree\": 5859, \"count\": 1, \"label\": \"count\"}, {\"in_degree\": 5867, \"count\": 1, \"label\": \"count\"}, {\"in_degree\": 5873, \"count\": 1, \"label\": \"count\"}, {\"in_degree\": 5874, \"count\": 1, \"label\": \"count\"}, {\"in_degree\": 5885, \"count\": 1, \"label\": \"count\"}, {\"in_degree\": 5890, \"count\": 1, \"label\": \"count\"}, {\"in_degree\": 5891, \"count\": 1, \"label\": \"count\"}, {\"in_degree\": 5896, \"count\": 1, \"label\": \"count\"}, {\"in_degree\": 5898, \"count\": 1, \"label\": \"count\"}, {\"in_degree\": 5935, \"count\": 1, \"label\": \"count\"}, {\"in_degree\": 5946, \"count\": 1, \"label\": \"count\"}, {\"in_degree\": 5948, \"count\": 1, \"label\": \"count\"}, {\"in_degree\": 5953, \"count\": 1, \"label\": \"count\"}, {\"in_degree\": 5958, \"count\": 1, \"label\": \"count\"}, {\"in_degree\": 5981, \"count\": 1, \"label\": \"count\"}, {\"in_degree\": 5985, \"count\": 1, \"label\": \"count\"}, {\"in_degree\": 6000, \"count\": 1, \"label\": \"count\"}, {\"in_degree\": 6018, \"count\": 1, \"label\": \"count\"}, {\"in_degree\": 6019, \"count\": 1, \"label\": \"count\"}, {\"in_degree\": 6022, \"count\": 1, \"label\": \"count\"}, {\"in_degree\": 6025, \"count\": 1, \"label\": \"count\"}, {\"in_degree\": 6033, \"count\": 2, \"label\": \"count\"}, {\"in_degree\": 6043, \"count\": 1, \"label\": \"count\"}, {\"in_degree\": 6053, \"count\": 1, \"label\": \"count\"}, {\"in_degree\": 6056, \"count\": 1, \"label\": \"count\"}, {\"in_degree\": 6067, \"count\": 1, \"label\": \"count\"}, {\"in_degree\": 6074, \"count\": 1, \"label\": \"count\"}, {\"in_degree\": 6076, \"count\": 1, \"label\": \"count\"}, {\"in_degree\": 6084, \"count\": 1, \"label\": \"count\"}, {\"in_degree\": 6086, \"count\": 1, \"label\": \"count\"}, {\"in_degree\": 6108, \"count\": 1, \"label\": \"count\"}, {\"in_degree\": 6109, \"count\": 1, \"label\": \"count\"}, {\"in_degree\": 6110, \"count\": 1, \"label\": \"count\"}, {\"in_degree\": 6126, \"count\": 1, \"label\": \"count\"}, {\"in_degree\": 6129, \"count\": 1, \"label\": \"count\"}, {\"in_degree\": 6131, \"count\": 1, \"label\": \"count\"}, {\"in_degree\": 6132, \"count\": 1, \"label\": \"count\"}, {\"in_degree\": 6144, \"count\": 1, \"label\": \"count\"}, {\"in_degree\": 6169, \"count\": 1, \"label\": \"count\"}, {\"in_degree\": 6175, \"count\": 1, \"label\": \"count\"}, {\"in_degree\": 6177, \"count\": 1, \"label\": \"count\"}, {\"in_degree\": 6180, \"count\": 1, \"label\": \"count\"}, {\"in_degree\": 6189, \"count\": 1, \"label\": \"count\"}, {\"in_degree\": 6200, \"count\": 1, \"label\": \"count\"}, {\"in_degree\": 6206, \"count\": 1, \"label\": \"count\"}, {\"in_degree\": 6211, \"count\": 1, \"label\": \"count\"}, {\"in_degree\": 6212, \"count\": 1, \"label\": \"count\"}, {\"in_degree\": 6224, \"count\": 1, \"label\": \"count\"}, {\"in_degree\": 6233, \"count\": 1, \"label\": \"count\"}, {\"in_degree\": 6264, \"count\": 2, \"label\": \"count\"}, {\"in_degree\": 6268, \"count\": 1, \"label\": \"count\"}, {\"in_degree\": 6301, \"count\": 1, \"label\": \"count\"}, {\"in_degree\": 6304, \"count\": 1, \"label\": \"count\"}, {\"in_degree\": 6305, \"count\": 1, \"label\": \"count\"}, {\"in_degree\": 6315, \"count\": 1, \"label\": \"count\"}, {\"in_degree\": 6321, \"count\": 1, \"label\": \"count\"}, {\"in_degree\": 6323, \"count\": 1, \"label\": \"count\"}, {\"in_degree\": 6330, \"count\": 1, \"label\": \"count\"}, {\"in_degree\": 6335, \"count\": 1, \"label\": \"count\"}, {\"in_degree\": 6373, \"count\": 1, \"label\": \"count\"}, {\"in_degree\": 6391, \"count\": 1, \"label\": \"count\"}, {\"in_degree\": 6393, \"count\": 1, \"label\": \"count\"}, {\"in_degree\": 6395, \"count\": 1, \"label\": \"count\"}, {\"in_degree\": 6397, \"count\": 1, \"label\": \"count\"}, {\"in_degree\": 6403, \"count\": 1, \"label\": \"count\"}, {\"in_degree\": 6406, \"count\": 1, \"label\": \"count\"}, {\"in_degree\": 6409, \"count\": 1, \"label\": \"count\"}, {\"in_degree\": 6415, \"count\": 1, \"label\": \"count\"}, {\"in_degree\": 6420, \"count\": 1, \"label\": \"count\"}, {\"in_degree\": 6423, \"count\": 1, \"label\": \"count\"}, {\"in_degree\": 6436, \"count\": 1, \"label\": \"count\"}, {\"in_degree\": 6438, \"count\": 1, \"label\": \"count\"}, {\"in_degree\": 6448, \"count\": 1, \"label\": \"count\"}, {\"in_degree\": 6480, \"count\": 1, \"label\": \"count\"}, {\"in_degree\": 6482, \"count\": 1, \"label\": \"count\"}, {\"in_degree\": 6489, \"count\": 1, \"label\": \"count\"}, {\"in_degree\": 6496, \"count\": 1, \"label\": \"count\"}, {\"in_degree\": 6507, \"count\": 1, \"label\": \"count\"}, {\"in_degree\": 6524, \"count\": 1, \"label\": \"count\"}, {\"in_degree\": 6555, \"count\": 1, \"label\": \"count\"}, {\"in_degree\": 6561, \"count\": 1, \"label\": \"count\"}, {\"in_degree\": 6565, \"count\": 1, \"label\": \"count\"}, {\"in_degree\": 6589, \"count\": 1, \"label\": \"count\"}, {\"in_degree\": 6593, \"count\": 1, \"label\": \"count\"}, {\"in_degree\": 6621, \"count\": 1, \"label\": \"count\"}, {\"in_degree\": 6623, \"count\": 1, \"label\": \"count\"}, {\"in_degree\": 6634, \"count\": 1, \"label\": \"count\"}, {\"in_degree\": 6651, \"count\": 1, \"label\": \"count\"}, {\"in_degree\": 6653, \"count\": 1, \"label\": \"count\"}, {\"in_degree\": 6662, \"count\": 1, \"label\": \"count\"}, {\"in_degree\": 6669, \"count\": 1, \"label\": \"count\"}, {\"in_degree\": 6690, \"count\": 1, \"label\": \"count\"}, {\"in_degree\": 6752, \"count\": 1, \"label\": \"count\"}, {\"in_degree\": 6756, \"count\": 1, \"label\": \"count\"}, {\"in_degree\": 6762, \"count\": 1, \"label\": \"count\"}, {\"in_degree\": 6805, \"count\": 1, \"label\": \"count\"}, {\"in_degree\": 6806, \"count\": 1, \"label\": \"count\"}, {\"in_degree\": 6824, \"count\": 1, \"label\": \"count\"}, {\"in_degree\": 6825, \"count\": 1, \"label\": \"count\"}, {\"in_degree\": 6831, \"count\": 1, \"label\": \"count\"}, {\"in_degree\": 6841, \"count\": 2, \"label\": \"count\"}, {\"in_degree\": 6848, \"count\": 1, \"label\": \"count\"}, {\"in_degree\": 6873, \"count\": 1, \"label\": \"count\"}, {\"in_degree\": 6882, \"count\": 1, \"label\": \"count\"}, {\"in_degree\": 6889, \"count\": 1, \"label\": \"count\"}, {\"in_degree\": 6898, \"count\": 1, \"label\": \"count\"}, {\"in_degree\": 6936, \"count\": 1, \"label\": \"count\"}, {\"in_degree\": 6962, \"count\": 1, \"label\": \"count\"}, {\"in_degree\": 6963, \"count\": 2, \"label\": \"count\"}, {\"in_degree\": 6987, \"count\": 1, \"label\": \"count\"}, {\"in_degree\": 6994, \"count\": 1, \"label\": \"count\"}, {\"in_degree\": 7002, \"count\": 1, \"label\": \"count\"}, {\"in_degree\": 7009, \"count\": 1, \"label\": \"count\"}, {\"in_degree\": 7013, \"count\": 1, \"label\": \"count\"}, {\"in_degree\": 7038, \"count\": 1, \"label\": \"count\"}, {\"in_degree\": 7039, \"count\": 1, \"label\": \"count\"}, {\"in_degree\": 7043, \"count\": 2, \"label\": \"count\"}, {\"in_degree\": 7045, \"count\": 1, \"label\": \"count\"}, {\"in_degree\": 7050, \"count\": 1, \"label\": \"count\"}, {\"in_degree\": 7054, \"count\": 1, \"label\": \"count\"}, {\"in_degree\": 7077, \"count\": 1, \"label\": \"count\"}, {\"in_degree\": 7094, \"count\": 1, \"label\": \"count\"}, {\"in_degree\": 7118, \"count\": 1, \"label\": \"count\"}, {\"in_degree\": 7138, \"count\": 1, \"label\": \"count\"}, {\"in_degree\": 7149, \"count\": 1, \"label\": \"count\"}, {\"in_degree\": 7155, \"count\": 1, \"label\": \"count\"}, {\"in_degree\": 7178, \"count\": 1, \"label\": \"count\"}, {\"in_degree\": 7188, \"count\": 1, \"label\": \"count\"}, {\"in_degree\": 7198, \"count\": 1, \"label\": \"count\"}, {\"in_degree\": 7204, \"count\": 1, \"label\": \"count\"}, {\"in_degree\": 7225, \"count\": 1, \"label\": \"count\"}, {\"in_degree\": 7230, \"count\": 1, \"label\": \"count\"}, {\"in_degree\": 7236, \"count\": 1, \"label\": \"count\"}, {\"in_degree\": 7239, \"count\": 1, \"label\": \"count\"}, {\"in_degree\": 7260, \"count\": 1, \"label\": \"count\"}, {\"in_degree\": 7262, \"count\": 1, \"label\": \"count\"}, {\"in_degree\": 7285, \"count\": 1, \"label\": \"count\"}, {\"in_degree\": 7302, \"count\": 1, \"label\": \"count\"}, {\"in_degree\": 7317, \"count\": 1, \"label\": \"count\"}, {\"in_degree\": 7319, \"count\": 1, \"label\": \"count\"}, {\"in_degree\": 7324, \"count\": 1, \"label\": \"count\"}, {\"in_degree\": 7339, \"count\": 1, \"label\": \"count\"}, {\"in_degree\": 7340, \"count\": 1, \"label\": \"count\"}, {\"in_degree\": 7344, \"count\": 1, \"label\": \"count\"}, {\"in_degree\": 7355, \"count\": 1, \"label\": \"count\"}, {\"in_degree\": 7358, \"count\": 1, \"label\": \"count\"}, {\"in_degree\": 7360, \"count\": 1, \"label\": \"count\"}, {\"in_degree\": 7390, \"count\": 2, \"label\": \"count\"}, {\"in_degree\": 7396, \"count\": 1, \"label\": \"count\"}, {\"in_degree\": 7406, \"count\": 1, \"label\": \"count\"}, {\"in_degree\": 7412, \"count\": 1, \"label\": \"count\"}, {\"in_degree\": 7415, \"count\": 1, \"label\": \"count\"}, {\"in_degree\": 7444, \"count\": 1, \"label\": \"count\"}, {\"in_degree\": 7465, \"count\": 1, \"label\": \"count\"}, {\"in_degree\": 7469, \"count\": 1, \"label\": \"count\"}, {\"in_degree\": 7473, \"count\": 1, \"label\": \"count\"}, {\"in_degree\": 7488, \"count\": 1, \"label\": \"count\"}, {\"in_degree\": 7496, \"count\": 1, \"label\": \"count\"}, {\"in_degree\": 7505, \"count\": 1, \"label\": \"count\"}, {\"in_degree\": 7510, \"count\": 1, \"label\": \"count\"}, {\"in_degree\": 7516, \"count\": 1, \"label\": \"count\"}, {\"in_degree\": 7519, \"count\": 1, \"label\": \"count\"}, {\"in_degree\": 7520, \"count\": 1, \"label\": \"count\"}, {\"in_degree\": 7531, \"count\": 1, \"label\": \"count\"}, {\"in_degree\": 7533, \"count\": 1, \"label\": \"count\"}, {\"in_degree\": 7551, \"count\": 1, \"label\": \"count\"}, {\"in_degree\": 7560, \"count\": 1, \"label\": \"count\"}, {\"in_degree\": 7563, \"count\": 2, \"label\": \"count\"}, {\"in_degree\": 7577, \"count\": 1, \"label\": \"count\"}, {\"in_degree\": 7581, \"count\": 1, \"label\": \"count\"}, {\"in_degree\": 7583, \"count\": 1, \"label\": \"count\"}, {\"in_degree\": 7585, \"count\": 1, \"label\": \"count\"}, {\"in_degree\": 7611, \"count\": 1, \"label\": \"count\"}, {\"in_degree\": 7619, \"count\": 1, \"label\": \"count\"}, {\"in_degree\": 7623, \"count\": 1, \"label\": \"count\"}, {\"in_degree\": 7633, \"count\": 1, \"label\": \"count\"}, {\"in_degree\": 7660, \"count\": 1, \"label\": \"count\"}, {\"in_degree\": 7671, \"count\": 1, \"label\": \"count\"}, {\"in_degree\": 7692, \"count\": 1, \"label\": \"count\"}, {\"in_degree\": 7700, \"count\": 1, \"label\": \"count\"}, {\"in_degree\": 7712, \"count\": 1, \"label\": \"count\"}, {\"in_degree\": 7716, \"count\": 1, \"label\": \"count\"}, {\"in_degree\": 7746, \"count\": 1, \"label\": \"count\"}, {\"in_degree\": 7755, \"count\": 1, \"label\": \"count\"}, {\"in_degree\": 7759, \"count\": 1, \"label\": \"count\"}, {\"in_degree\": 7772, \"count\": 1, \"label\": \"count\"}, {\"in_degree\": 7779, \"count\": 1, \"label\": \"count\"}, {\"in_degree\": 7780, \"count\": 1, \"label\": \"count\"}, {\"in_degree\": 7795, \"count\": 1, \"label\": \"count\"}, {\"in_degree\": 7800, \"count\": 1, \"label\": \"count\"}, {\"in_degree\": 7801, \"count\": 1, \"label\": \"count\"}, {\"in_degree\": 7808, \"count\": 1, \"label\": \"count\"}, {\"in_degree\": 7811, \"count\": 1, \"label\": \"count\"}, {\"in_degree\": 7812, \"count\": 1, \"label\": \"count\"}, {\"in_degree\": 7814, \"count\": 1, \"label\": \"count\"}, {\"in_degree\": 7825, \"count\": 1, \"label\": \"count\"}, {\"in_degree\": 7829, \"count\": 1, \"label\": \"count\"}, {\"in_degree\": 7839, \"count\": 1, \"label\": \"count\"}, {\"in_degree\": 7860, \"count\": 1, \"label\": \"count\"}, {\"in_degree\": 7879, \"count\": 1, \"label\": \"count\"}, {\"in_degree\": 7895, \"count\": 1, \"label\": \"count\"}, {\"in_degree\": 7906, \"count\": 1, \"label\": \"count\"}, {\"in_degree\": 7920, \"count\": 1, \"label\": \"count\"}, {\"in_degree\": 7929, \"count\": 1, \"label\": \"count\"}, {\"in_degree\": 7950, \"count\": 1, \"label\": \"count\"}, {\"in_degree\": 7958, \"count\": 1, \"label\": \"count\"}, {\"in_degree\": 7982, \"count\": 1, \"label\": \"count\"}, {\"in_degree\": 8010, \"count\": 1, \"label\": \"count\"}, {\"in_degree\": 8023, \"count\": 1, \"label\": \"count\"}, {\"in_degree\": 8048, \"count\": 1, \"label\": \"count\"}, {\"in_degree\": 8065, \"count\": 1, \"label\": \"count\"}, {\"in_degree\": 8081, \"count\": 1, \"label\": \"count\"}, {\"in_degree\": 8087, \"count\": 1, \"label\": \"count\"}, {\"in_degree\": 8090, \"count\": 1, \"label\": \"count\"}, {\"in_degree\": 8112, \"count\": 1, \"label\": \"count\"}, {\"in_degree\": 8120, \"count\": 1, \"label\": \"count\"}, {\"in_degree\": 8121, \"count\": 1, \"label\": \"count\"}, {\"in_degree\": 8127, \"count\": 1, \"label\": \"count\"}, {\"in_degree\": 8143, \"count\": 1, \"label\": \"count\"}, {\"in_degree\": 8144, \"count\": 1, \"label\": \"count\"}, {\"in_degree\": 8153, \"count\": 1, \"label\": \"count\"}, {\"in_degree\": 8160, \"count\": 1, \"label\": \"count\"}, {\"in_degree\": 8203, \"count\": 1, \"label\": \"count\"}, {\"in_degree\": 8209, \"count\": 1, \"label\": \"count\"}, {\"in_degree\": 8230, \"count\": 1, \"label\": \"count\"}, {\"in_degree\": 8237, \"count\": 1, \"label\": \"count\"}, {\"in_degree\": 8238, \"count\": 1, \"label\": \"count\"}, {\"in_degree\": 8258, \"count\": 1, \"label\": \"count\"}, {\"in_degree\": 8259, \"count\": 1, \"label\": \"count\"}, {\"in_degree\": 8265, \"count\": 1, \"label\": \"count\"}, {\"in_degree\": 8268, \"count\": 1, \"label\": \"count\"}, {\"in_degree\": 8270, \"count\": 1, \"label\": \"count\"}, {\"in_degree\": 8290, \"count\": 1, \"label\": \"count\"}, {\"in_degree\": 8300, \"count\": 1, \"label\": \"count\"}, {\"in_degree\": 8301, \"count\": 1, \"label\": \"count\"}, {\"in_degree\": 8302, \"count\": 1, \"label\": \"count\"}, {\"in_degree\": 8308, \"count\": 1, \"label\": \"count\"}, {\"in_degree\": 8328, \"count\": 1, \"label\": \"count\"}, {\"in_degree\": 8337, \"count\": 1, \"label\": \"count\"}, {\"in_degree\": 8338, \"count\": 1, \"label\": \"count\"}, {\"in_degree\": 8349, \"count\": 1, \"label\": \"count\"}, {\"in_degree\": 8353, \"count\": 1, \"label\": \"count\"}, {\"in_degree\": 8368, \"count\": 1, \"label\": \"count\"}, {\"in_degree\": 8393, \"count\": 1, \"label\": \"count\"}, {\"in_degree\": 8399, \"count\": 1, \"label\": \"count\"}, {\"in_degree\": 8404, \"count\": 1, \"label\": \"count\"}, {\"in_degree\": 8405, \"count\": 1, \"label\": \"count\"}, {\"in_degree\": 8441, \"count\": 1, \"label\": \"count\"}, {\"in_degree\": 8500, \"count\": 1, \"label\": \"count\"}, {\"in_degree\": 8504, \"count\": 1, \"label\": \"count\"}, {\"in_degree\": 8514, \"count\": 1, \"label\": \"count\"}, {\"in_degree\": 8515, \"count\": 1, \"label\": \"count\"}, {\"in_degree\": 8526, \"count\": 1, \"label\": \"count\"}, {\"in_degree\": 8528, \"count\": 1, \"label\": \"count\"}, {\"in_degree\": 8541, \"count\": 1, \"label\": \"count\"}, {\"in_degree\": 8558, \"count\": 1, \"label\": \"count\"}, {\"in_degree\": 8571, \"count\": 1, \"label\": \"count\"}, {\"in_degree\": 8586, \"count\": 1, \"label\": \"count\"}, {\"in_degree\": 8597, \"count\": 1, \"label\": \"count\"}, {\"in_degree\": 8599, \"count\": 1, \"label\": \"count\"}, {\"in_degree\": 8618, \"count\": 1, \"label\": \"count\"}, {\"in_degree\": 8622, \"count\": 1, \"label\": \"count\"}, {\"in_degree\": 8649, \"count\": 1, \"label\": \"count\"}, {\"in_degree\": 8672, \"count\": 1, \"label\": \"count\"}, {\"in_degree\": 8674, \"count\": 1, \"label\": \"count\"}, {\"in_degree\": 8690, \"count\": 1, \"label\": \"count\"}, {\"in_degree\": 8697, \"count\": 1, \"label\": \"count\"}, {\"in_degree\": 8699, \"count\": 1, \"label\": \"count\"}, {\"in_degree\": 8722, \"count\": 1, \"label\": \"count\"}, {\"in_degree\": 8767, \"count\": 1, \"label\": \"count\"}, {\"in_degree\": 8788, \"count\": 1, \"label\": \"count\"}, {\"in_degree\": 8791, \"count\": 1, \"label\": \"count\"}, {\"in_degree\": 8802, \"count\": 1, \"label\": \"count\"}, {\"in_degree\": 8807, \"count\": 1, \"label\": \"count\"}, {\"in_degree\": 8812, \"count\": 1, \"label\": \"count\"}, {\"in_degree\": 8830, \"count\": 2, \"label\": \"count\"}, {\"in_degree\": 8832, \"count\": 1, \"label\": \"count\"}, {\"in_degree\": 8836, \"count\": 1, \"label\": \"count\"}, {\"in_degree\": 8856, \"count\": 1, \"label\": \"count\"}, {\"in_degree\": 8867, \"count\": 1, \"label\": \"count\"}, {\"in_degree\": 8870, \"count\": 1, \"label\": \"count\"}, {\"in_degree\": 8903, \"count\": 1, \"label\": \"count\"}, {\"in_degree\": 8907, \"count\": 1, \"label\": \"count\"}, {\"in_degree\": 8911, \"count\": 1, \"label\": \"count\"}, {\"in_degree\": 8960, \"count\": 1, \"label\": \"count\"}, {\"in_degree\": 8964, \"count\": 1, \"label\": \"count\"}, {\"in_degree\": 8979, \"count\": 1, \"label\": \"count\"}, {\"in_degree\": 8981, \"count\": 1, \"label\": \"count\"}, {\"in_degree\": 8991, \"count\": 1, \"label\": \"count\"}, {\"in_degree\": 9009, \"count\": 1, \"label\": \"count\"}, {\"in_degree\": 9068, \"count\": 1, \"label\": \"count\"}, {\"in_degree\": 9074, \"count\": 1, \"label\": \"count\"}, {\"in_degree\": 9078, \"count\": 1, \"label\": \"count\"}, {\"in_degree\": 9098, \"count\": 2, \"label\": \"count\"}, {\"in_degree\": 9108, \"count\": 1, \"label\": \"count\"}, {\"in_degree\": 9111, \"count\": 1, \"label\": \"count\"}, {\"in_degree\": 9132, \"count\": 1, \"label\": \"count\"}, {\"in_degree\": 9146, \"count\": 1, \"label\": \"count\"}, {\"in_degree\": 9159, \"count\": 1, \"label\": \"count\"}, {\"in_degree\": 9174, \"count\": 1, \"label\": \"count\"}, {\"in_degree\": 9189, \"count\": 1, \"label\": \"count\"}, {\"in_degree\": 9200, \"count\": 1, \"label\": \"count\"}, {\"in_degree\": 9202, \"count\": 1, \"label\": \"count\"}, {\"in_degree\": 9204, \"count\": 1, \"label\": \"count\"}, {\"in_degree\": 9211, \"count\": 1, \"label\": \"count\"}, {\"in_degree\": 9216, \"count\": 2, \"label\": \"count\"}, {\"in_degree\": 9258, \"count\": 1, \"label\": \"count\"}, {\"in_degree\": 9274, \"count\": 1, \"label\": \"count\"}, {\"in_degree\": 9275, \"count\": 1, \"label\": \"count\"}, {\"in_degree\": 9285, \"count\": 1, \"label\": \"count\"}, {\"in_degree\": 9298, \"count\": 1, \"label\": \"count\"}, {\"in_degree\": 9299, \"count\": 1, \"label\": \"count\"}, {\"in_degree\": 9323, \"count\": 1, \"label\": \"count\"}, {\"in_degree\": 9325, \"count\": 1, \"label\": \"count\"}, {\"in_degree\": 9329, \"count\": 1, \"label\": \"count\"}, {\"in_degree\": 9351, \"count\": 1, \"label\": \"count\"}, {\"in_degree\": 9375, \"count\": 1, \"label\": \"count\"}, {\"in_degree\": 9380, \"count\": 1, \"label\": \"count\"}, {\"in_degree\": 9411, \"count\": 1, \"label\": \"count\"}, {\"in_degree\": 9417, \"count\": 1, \"label\": \"count\"}, {\"in_degree\": 9432, \"count\": 1, \"label\": \"count\"}, {\"in_degree\": 9449, \"count\": 1, \"label\": \"count\"}, {\"in_degree\": 9526, \"count\": 1, \"label\": \"count\"}, {\"in_degree\": 9533, \"count\": 1, \"label\": \"count\"}, {\"in_degree\": 9560, \"count\": 1, \"label\": \"count\"}, {\"in_degree\": 9563, \"count\": 1, \"label\": \"count\"}, {\"in_degree\": 9589, \"count\": 1, \"label\": \"count\"}, {\"in_degree\": 9630, \"count\": 1, \"label\": \"count\"}, {\"in_degree\": 9635, \"count\": 1, \"label\": \"count\"}, {\"in_degree\": 9651, \"count\": 1, \"label\": \"count\"}, {\"in_degree\": 9677, \"count\": 1, \"label\": \"count\"}, {\"in_degree\": 9691, \"count\": 1, \"label\": \"count\"}, {\"in_degree\": 9723, \"count\": 1, \"label\": \"count\"}, {\"in_degree\": 9737, \"count\": 1, \"label\": \"count\"}, {\"in_degree\": 9759, \"count\": 1, \"label\": \"count\"}, {\"in_degree\": 9761, \"count\": 1, \"label\": \"count\"}, {\"in_degree\": 9763, \"count\": 1, \"label\": \"count\"}, {\"in_degree\": 9771, \"count\": 1, \"label\": \"count\"}, {\"in_degree\": 9821, \"count\": 1, \"label\": \"count\"}, {\"in_degree\": 9844, \"count\": 1, \"label\": \"count\"}, {\"in_degree\": 9845, \"count\": 1, \"label\": \"count\"}, {\"in_degree\": 9857, \"count\": 1, \"label\": \"count\"}, {\"in_degree\": 9867, \"count\": 1, \"label\": \"count\"}, {\"in_degree\": 9884, \"count\": 1, \"label\": \"count\"}, {\"in_degree\": 9918, \"count\": 1, \"label\": \"count\"}, {\"in_degree\": 9927, \"count\": 1, \"label\": \"count\"}, {\"in_degree\": 9939, \"count\": 1, \"label\": \"count\"}, {\"in_degree\": 9983, \"count\": 1, \"label\": \"count\"}, {\"in_degree\": 9999, \"count\": 1, \"label\": \"count\"}, {\"in_degree\": 10000, \"count\": 1, \"label\": \"count\"}, {\"in_degree\": 10027, \"count\": 1, \"label\": \"count\"}, {\"in_degree\": 10030, \"count\": 1, \"label\": \"count\"}, {\"in_degree\": 10035, \"count\": 1, \"label\": \"count\"}, {\"in_degree\": 10059, \"count\": 1, \"label\": \"count\"}, {\"in_degree\": 10081, \"count\": 1, \"label\": \"count\"}, {\"in_degree\": 10091, \"count\": 1, \"label\": \"count\"}, {\"in_degree\": 10095, \"count\": 1, \"label\": \"count\"}, {\"in_degree\": 10116, \"count\": 1, \"label\": \"count\"}, {\"in_degree\": 10125, \"count\": 1, \"label\": \"count\"}, {\"in_degree\": 10156, \"count\": 1, \"label\": \"count\"}, {\"in_degree\": 10161, \"count\": 1, \"label\": \"count\"}, {\"in_degree\": 10229, \"count\": 2, \"label\": \"count\"}, {\"in_degree\": 10231, \"count\": 2, \"label\": \"count\"}, {\"in_degree\": 10235, \"count\": 1, \"label\": \"count\"}, {\"in_degree\": 10250, \"count\": 1, \"label\": \"count\"}, {\"in_degree\": 10259, \"count\": 1, \"label\": \"count\"}, {\"in_degree\": 10280, \"count\": 1, \"label\": \"count\"}, {\"in_degree\": 10311, \"count\": 1, \"label\": \"count\"}, {\"in_degree\": 10350, \"count\": 1, \"label\": \"count\"}, {\"in_degree\": 10353, \"count\": 1, \"label\": \"count\"}, {\"in_degree\": 10363, \"count\": 2, \"label\": \"count\"}, {\"in_degree\": 10367, \"count\": 1, \"label\": \"count\"}, {\"in_degree\": 10409, \"count\": 1, \"label\": \"count\"}, {\"in_degree\": 10431, \"count\": 1, \"label\": \"count\"}, {\"in_degree\": 10464, \"count\": 1, \"label\": \"count\"}, {\"in_degree\": 10466, \"count\": 1, \"label\": \"count\"}, {\"in_degree\": 10468, \"count\": 1, \"label\": \"count\"}, {\"in_degree\": 10479, \"count\": 1, \"label\": \"count\"}, {\"in_degree\": 10497, \"count\": 1, \"label\": \"count\"}, {\"in_degree\": 10511, \"count\": 1, \"label\": \"count\"}, {\"in_degree\": 10514, \"count\": 1, \"label\": \"count\"}, {\"in_degree\": 10518, \"count\": 1, \"label\": \"count\"}, {\"in_degree\": 10521, \"count\": 1, \"label\": \"count\"}, {\"in_degree\": 10549, \"count\": 1, \"label\": \"count\"}, {\"in_degree\": 10564, \"count\": 1, \"label\": \"count\"}, {\"in_degree\": 10572, \"count\": 1, \"label\": \"count\"}, {\"in_degree\": 10582, \"count\": 1, \"label\": \"count\"}, {\"in_degree\": 10584, \"count\": 1, \"label\": \"count\"}, {\"in_degree\": 10611, \"count\": 1, \"label\": \"count\"}, {\"in_degree\": 10649, \"count\": 1, \"label\": \"count\"}, {\"in_degree\": 10670, \"count\": 1, \"label\": \"count\"}, {\"in_degree\": 10671, \"count\": 1, \"label\": \"count\"}, {\"in_degree\": 10679, \"count\": 1, \"label\": \"count\"}, {\"in_degree\": 10693, \"count\": 1, \"label\": \"count\"}, {\"in_degree\": 10698, \"count\": 1, \"label\": \"count\"}, {\"in_degree\": 10700, \"count\": 1, \"label\": \"count\"}, {\"in_degree\": 10713, \"count\": 1, \"label\": \"count\"}, {\"in_degree\": 10767, \"count\": 2, \"label\": \"count\"}, {\"in_degree\": 10780, \"count\": 1, \"label\": \"count\"}, {\"in_degree\": 10809, \"count\": 1, \"label\": \"count\"}, {\"in_degree\": 10823, \"count\": 1, \"label\": \"count\"}, {\"in_degree\": 10834, \"count\": 1, \"label\": \"count\"}, {\"in_degree\": 10861, \"count\": 1, \"label\": \"count\"}, {\"in_degree\": 10866, \"count\": 1, \"label\": \"count\"}, {\"in_degree\": 10889, \"count\": 1, \"label\": \"count\"}, {\"in_degree\": 10914, \"count\": 1, \"label\": \"count\"}, {\"in_degree\": 10924, \"count\": 1, \"label\": \"count\"}, {\"in_degree\": 10936, \"count\": 1, \"label\": \"count\"}, {\"in_degree\": 10940, \"count\": 1, \"label\": \"count\"}, {\"in_degree\": 10947, \"count\": 1, \"label\": \"count\"}, {\"in_degree\": 10962, \"count\": 1, \"label\": \"count\"}, {\"in_degree\": 10967, \"count\": 1, \"label\": \"count\"}, {\"in_degree\": 11017, \"count\": 1, \"label\": \"count\"}, {\"in_degree\": 11023, \"count\": 1, \"label\": \"count\"}, {\"in_degree\": 11050, \"count\": 1, \"label\": \"count\"}, {\"in_degree\": 11053, \"count\": 1, \"label\": \"count\"}, {\"in_degree\": 11120, \"count\": 1, \"label\": \"count\"}, {\"in_degree\": 11127, \"count\": 1, \"label\": \"count\"}, {\"in_degree\": 11164, \"count\": 1, \"label\": \"count\"}, {\"in_degree\": 11210, \"count\": 1, \"label\": \"count\"}, {\"in_degree\": 11217, \"count\": 1, \"label\": \"count\"}, {\"in_degree\": 11269, \"count\": 1, \"label\": \"count\"}, {\"in_degree\": 11284, \"count\": 1, \"label\": \"count\"}, {\"in_degree\": 11292, \"count\": 1, \"label\": \"count\"}, {\"in_degree\": 11309, \"count\": 1, \"label\": \"count\"}, {\"in_degree\": 11320, \"count\": 1, \"label\": \"count\"}, {\"in_degree\": 11325, \"count\": 1, \"label\": \"count\"}, {\"in_degree\": 11328, \"count\": 1, \"label\": \"count\"}, {\"in_degree\": 11329, \"count\": 1, \"label\": \"count\"}, {\"in_degree\": 11346, \"count\": 1, \"label\": \"count\"}, {\"in_degree\": 11370, \"count\": 1, \"label\": \"count\"}, {\"in_degree\": 11391, \"count\": 1, \"label\": \"count\"}, {\"in_degree\": 11413, \"count\": 1, \"label\": \"count\"}, {\"in_degree\": 11474, \"count\": 1, \"label\": \"count\"}, {\"in_degree\": 11481, \"count\": 1, \"label\": \"count\"}, {\"in_degree\": 11506, \"count\": 1, \"label\": \"count\"}, {\"in_degree\": 11514, \"count\": 1, \"label\": \"count\"}, {\"in_degree\": 11521, \"count\": 1, \"label\": \"count\"}, {\"in_degree\": 11529, \"count\": 1, \"label\": \"count\"}, {\"in_degree\": 11533, \"count\": 1, \"label\": \"count\"}, {\"in_degree\": 11570, \"count\": 1, \"label\": \"count\"}, {\"in_degree\": 11571, \"count\": 1, \"label\": \"count\"}, {\"in_degree\": 11597, \"count\": 1, \"label\": \"count\"}, {\"in_degree\": 11610, \"count\": 1, \"label\": \"count\"}, {\"in_degree\": 11616, \"count\": 1, \"label\": \"count\"}, {\"in_degree\": 11653, \"count\": 1, \"label\": \"count\"}, {\"in_degree\": 11701, \"count\": 1, \"label\": \"count\"}, {\"in_degree\": 11760, \"count\": 1, \"label\": \"count\"}, {\"in_degree\": 11781, \"count\": 1, \"label\": \"count\"}, {\"in_degree\": 11788, \"count\": 1, \"label\": \"count\"}, {\"in_degree\": 11789, \"count\": 1, \"label\": \"count\"}, {\"in_degree\": 11791, \"count\": 1, \"label\": \"count\"}, {\"in_degree\": 11797, \"count\": 1, \"label\": \"count\"}, {\"in_degree\": 11814, \"count\": 1, \"label\": \"count\"}, {\"in_degree\": 11821, \"count\": 1, \"label\": \"count\"}, {\"in_degree\": 11827, \"count\": 1, \"label\": \"count\"}, {\"in_degree\": 11838, \"count\": 1, \"label\": \"count\"}, {\"in_degree\": 11845, \"count\": 1, \"label\": \"count\"}, {\"in_degree\": 11855, \"count\": 2, \"label\": \"count\"}, {\"in_degree\": 11865, \"count\": 1, \"label\": \"count\"}, {\"in_degree\": 11881, \"count\": 1, \"label\": \"count\"}, {\"in_degree\": 11896, \"count\": 1, \"label\": \"count\"}, {\"in_degree\": 11897, \"count\": 1, \"label\": \"count\"}, {\"in_degree\": 11905, \"count\": 1, \"label\": \"count\"}, {\"in_degree\": 11915, \"count\": 1, \"label\": \"count\"}, {\"in_degree\": 11993, \"count\": 1, \"label\": \"count\"}, {\"in_degree\": 12001, \"count\": 1, \"label\": \"count\"}, {\"in_degree\": 12044, \"count\": 1, \"label\": \"count\"}, {\"in_degree\": 12092, \"count\": 1, \"label\": \"count\"}, {\"in_degree\": 12133, \"count\": 1, \"label\": \"count\"}, {\"in_degree\": 12137, \"count\": 1, \"label\": \"count\"}, {\"in_degree\": 12147, \"count\": 1, \"label\": \"count\"}, {\"in_degree\": 12165, \"count\": 1, \"label\": \"count\"}, {\"in_degree\": 12202, \"count\": 1, \"label\": \"count\"}, {\"in_degree\": 12231, \"count\": 1, \"label\": \"count\"}, {\"in_degree\": 12282, \"count\": 1, \"label\": \"count\"}, {\"in_degree\": 12360, \"count\": 2, \"label\": \"count\"}, {\"in_degree\": 12372, \"count\": 2, \"label\": \"count\"}, {\"in_degree\": 12378, \"count\": 1, \"label\": \"count\"}, {\"in_degree\": 12382, \"count\": 1, \"label\": \"count\"}, {\"in_degree\": 12422, \"count\": 1, \"label\": \"count\"}, {\"in_degree\": 12432, \"count\": 1, \"label\": \"count\"}, {\"in_degree\": 12447, \"count\": 1, \"label\": \"count\"}, {\"in_degree\": 12457, \"count\": 1, \"label\": \"count\"}, {\"in_degree\": 12478, \"count\": 1, \"label\": \"count\"}, {\"in_degree\": 12480, \"count\": 1, \"label\": \"count\"}, {\"in_degree\": 12526, \"count\": 1, \"label\": \"count\"}, {\"in_degree\": 12547, \"count\": 1, \"label\": \"count\"}, {\"in_degree\": 12549, \"count\": 1, \"label\": \"count\"}, {\"in_degree\": 12572, \"count\": 1, \"label\": \"count\"}, {\"in_degree\": 12590, \"count\": 1, \"label\": \"count\"}, {\"in_degree\": 12606, \"count\": 1, \"label\": \"count\"}, {\"in_degree\": 12608, \"count\": 1, \"label\": \"count\"}, {\"in_degree\": 12636, \"count\": 1, \"label\": \"count\"}, {\"in_degree\": 12717, \"count\": 1, \"label\": \"count\"}, {\"in_degree\": 12766, \"count\": 1, \"label\": \"count\"}, {\"in_degree\": 12772, \"count\": 1, \"label\": \"count\"}, {\"in_degree\": 12786, \"count\": 1, \"label\": \"count\"}, {\"in_degree\": 12928, \"count\": 1, \"label\": \"count\"}, {\"in_degree\": 13030, \"count\": 1, \"label\": \"count\"}, {\"in_degree\": 13044, \"count\": 1, \"label\": \"count\"}, {\"in_degree\": 13050, \"count\": 1, \"label\": \"count\"}, {\"in_degree\": 13070, \"count\": 1, \"label\": \"count\"}, {\"in_degree\": 13121, \"count\": 1, \"label\": \"count\"}, {\"in_degree\": 13314, \"count\": 1, \"label\": \"count\"}, {\"in_degree\": 13318, \"count\": 1, \"label\": \"count\"}, {\"in_degree\": 13425, \"count\": 1, \"label\": \"count\"}, {\"in_degree\": 13436, \"count\": 1, \"label\": \"count\"}, {\"in_degree\": 13507, \"count\": 1, \"label\": \"count\"}, {\"in_degree\": 13538, \"count\": 1, \"label\": \"count\"}, {\"in_degree\": 13587, \"count\": 1, \"label\": \"count\"}, {\"in_degree\": 13601, \"count\": 1, \"label\": \"count\"}, {\"in_degree\": 13617, \"count\": 1, \"label\": \"count\"}, {\"in_degree\": 13628, \"count\": 1, \"label\": \"count\"}, {\"in_degree\": 13636, \"count\": 1, \"label\": \"count\"}, {\"in_degree\": 13649, \"count\": 1, \"label\": \"count\"}, {\"in_degree\": 13654, \"count\": 1, \"label\": \"count\"}, {\"in_degree\": 13704, \"count\": 1, \"label\": \"count\"}, {\"in_degree\": 13721, \"count\": 1, \"label\": \"count\"}, {\"in_degree\": 13746, \"count\": 1, \"label\": \"count\"}, {\"in_degree\": 13758, \"count\": 1, \"label\": \"count\"}, {\"in_degree\": 13831, \"count\": 1, \"label\": \"count\"}, {\"in_degree\": 13862, \"count\": 1, \"label\": \"count\"}, {\"in_degree\": 13915, \"count\": 1, \"label\": \"count\"}, {\"in_degree\": 13927, \"count\": 1, \"label\": \"count\"}, {\"in_degree\": 13930, \"count\": 1, \"label\": \"count\"}, {\"in_degree\": 13944, \"count\": 1, \"label\": \"count\"}, {\"in_degree\": 13961, \"count\": 1, \"label\": \"count\"}, {\"in_degree\": 13973, \"count\": 1, \"label\": \"count\"}, {\"in_degree\": 13984, \"count\": 1, \"label\": \"count\"}, {\"in_degree\": 14001, \"count\": 1, \"label\": \"count\"}, {\"in_degree\": 14033, \"count\": 1, \"label\": \"count\"}, {\"in_degree\": 14052, \"count\": 1, \"label\": \"count\"}, {\"in_degree\": 14096, \"count\": 1, \"label\": \"count\"}, {\"in_degree\": 14104, \"count\": 1, \"label\": \"count\"}, {\"in_degree\": 14105, \"count\": 1, \"label\": \"count\"}, {\"in_degree\": 14111, \"count\": 1, \"label\": \"count\"}, {\"in_degree\": 14131, \"count\": 1, \"label\": \"count\"}, {\"in_degree\": 14142, \"count\": 1, \"label\": \"count\"}, {\"in_degree\": 14230, \"count\": 1, \"label\": \"count\"}, {\"in_degree\": 14273, \"count\": 1, \"label\": \"count\"}, {\"in_degree\": 14277, \"count\": 1, \"label\": \"count\"}, {\"in_degree\": 14339, \"count\": 1, \"label\": \"count\"}, {\"in_degree\": 14366, \"count\": 1, \"label\": \"count\"}, {\"in_degree\": 14405, \"count\": 1, \"label\": \"count\"}, {\"in_degree\": 14415, \"count\": 1, \"label\": \"count\"}, {\"in_degree\": 14486, \"count\": 1, \"label\": \"count\"}, {\"in_degree\": 14487, \"count\": 1, \"label\": \"count\"}, {\"in_degree\": 14493, \"count\": 1, \"label\": \"count\"}, {\"in_degree\": 14501, \"count\": 1, \"label\": \"count\"}, {\"in_degree\": 14547, \"count\": 1, \"label\": \"count\"}, {\"in_degree\": 14597, \"count\": 1, \"label\": \"count\"}, {\"in_degree\": 14618, \"count\": 1, \"label\": \"count\"}, {\"in_degree\": 14651, \"count\": 1, \"label\": \"count\"}, {\"in_degree\": 14681, \"count\": 1, \"label\": \"count\"}, {\"in_degree\": 14762, \"count\": 1, \"label\": \"count\"}, {\"in_degree\": 14773, \"count\": 1, \"label\": \"count\"}, {\"in_degree\": 14779, \"count\": 1, \"label\": \"count\"}, {\"in_degree\": 14786, \"count\": 2, \"label\": \"count\"}, {\"in_degree\": 14837, \"count\": 1, \"label\": \"count\"}, {\"in_degree\": 14931, \"count\": 1, \"label\": \"count\"}, {\"in_degree\": 15024, \"count\": 1, \"label\": \"count\"}, {\"in_degree\": 15041, \"count\": 1, \"label\": \"count\"}, {\"in_degree\": 15049, \"count\": 1, \"label\": \"count\"}, {\"in_degree\": 15113, \"count\": 1, \"label\": \"count\"}, {\"in_degree\": 15220, \"count\": 1, \"label\": \"count\"}, {\"in_degree\": 15242, \"count\": 1, \"label\": \"count\"}, {\"in_degree\": 15247, \"count\": 1, \"label\": \"count\"}, {\"in_degree\": 15258, \"count\": 1, \"label\": \"count\"}, {\"in_degree\": 15353, \"count\": 1, \"label\": \"count\"}, {\"in_degree\": 15364, \"count\": 1, \"label\": \"count\"}, {\"in_degree\": 15383, \"count\": 1, \"label\": \"count\"}, {\"in_degree\": 15423, \"count\": 1, \"label\": \"count\"}, {\"in_degree\": 15518, \"count\": 1, \"label\": \"count\"}, {\"in_degree\": 15535, \"count\": 1, \"label\": \"count\"}, {\"in_degree\": 15631, \"count\": 1, \"label\": \"count\"}, {\"in_degree\": 15665, \"count\": 1, \"label\": \"count\"}, {\"in_degree\": 15721, \"count\": 1, \"label\": \"count\"}, {\"in_degree\": 15908, \"count\": 1, \"label\": \"count\"}, {\"in_degree\": 15975, \"count\": 1, \"label\": \"count\"}, {\"in_degree\": 15993, \"count\": 1, \"label\": \"count\"}, {\"in_degree\": 16068, \"count\": 1, \"label\": \"count\"}, {\"in_degree\": 16085, \"count\": 1, \"label\": \"count\"}, {\"in_degree\": 16094, \"count\": 1, \"label\": \"count\"}, {\"in_degree\": 16153, \"count\": 1, \"label\": \"count\"}, {\"in_degree\": 16156, \"count\": 1, \"label\": \"count\"}, {\"in_degree\": 16176, \"count\": 1, \"label\": \"count\"}, {\"in_degree\": 16180, \"count\": 1, \"label\": \"count\"}, {\"in_degree\": 16182, \"count\": 1, \"label\": \"count\"}, {\"in_degree\": 16192, \"count\": 1, \"label\": \"count\"}, {\"in_degree\": 16199, \"count\": 1, \"label\": \"count\"}, {\"in_degree\": 16205, \"count\": 1, \"label\": \"count\"}, {\"in_degree\": 16304, \"count\": 1, \"label\": \"count\"}, {\"in_degree\": 16344, \"count\": 1, \"label\": \"count\"}, {\"in_degree\": 16392, \"count\": 1, \"label\": \"count\"}, {\"in_degree\": 16432, \"count\": 1, \"label\": \"count\"}, {\"in_degree\": 16445, \"count\": 1, \"label\": \"count\"}, {\"in_degree\": 16456, \"count\": 1, \"label\": \"count\"}, {\"in_degree\": 16489, \"count\": 1, \"label\": \"count\"}, {\"in_degree\": 16529, \"count\": 1, \"label\": \"count\"}, {\"in_degree\": 16566, \"count\": 1, \"label\": \"count\"}, {\"in_degree\": 16594, \"count\": 1, \"label\": \"count\"}, {\"in_degree\": 16598, \"count\": 1, \"label\": \"count\"}, {\"in_degree\": 16615, \"count\": 1, \"label\": \"count\"}, {\"in_degree\": 16623, \"count\": 1, \"label\": \"count\"}, {\"in_degree\": 16669, \"count\": 1, \"label\": \"count\"}, {\"in_degree\": 16741, \"count\": 1, \"label\": \"count\"}, {\"in_degree\": 16786, \"count\": 1, \"label\": \"count\"}, {\"in_degree\": 16869, \"count\": 1, \"label\": \"count\"}, {\"in_degree\": 16953, \"count\": 1, \"label\": \"count\"}, {\"in_degree\": 16956, \"count\": 1, \"label\": \"count\"}, {\"in_degree\": 16959, \"count\": 1, \"label\": \"count\"}, {\"in_degree\": 16987, \"count\": 1, \"label\": \"count\"}, {\"in_degree\": 16994, \"count\": 1, \"label\": \"count\"}, {\"in_degree\": 17095, \"count\": 1, \"label\": \"count\"}, {\"in_degree\": 17101, \"count\": 1, \"label\": \"count\"}, {\"in_degree\": 17102, \"count\": 1, \"label\": \"count\"}, {\"in_degree\": 17106, \"count\": 1, \"label\": \"count\"}, {\"in_degree\": 17151, \"count\": 1, \"label\": \"count\"}, {\"in_degree\": 17183, \"count\": 1, \"label\": \"count\"}, {\"in_degree\": 17253, \"count\": 1, \"label\": \"count\"}, {\"in_degree\": 17274, \"count\": 1, \"label\": \"count\"}, {\"in_degree\": 17307, \"count\": 1, \"label\": \"count\"}, {\"in_degree\": 17330, \"count\": 1, \"label\": \"count\"}, {\"in_degree\": 17406, \"count\": 1, \"label\": \"count\"}, {\"in_degree\": 17431, \"count\": 1, \"label\": \"count\"}, {\"in_degree\": 17560, \"count\": 1, \"label\": \"count\"}, {\"in_degree\": 17662, \"count\": 1, \"label\": \"count\"}, {\"in_degree\": 17756, \"count\": 1, \"label\": \"count\"}, {\"in_degree\": 17770, \"count\": 1, \"label\": \"count\"}, {\"in_degree\": 17842, \"count\": 1, \"label\": \"count\"}, {\"in_degree\": 17915, \"count\": 1, \"label\": \"count\"}, {\"in_degree\": 17971, \"count\": 1, \"label\": \"count\"}, {\"in_degree\": 18009, \"count\": 1, \"label\": \"count\"}, {\"in_degree\": 18019, \"count\": 1, \"label\": \"count\"}, {\"in_degree\": 18054, \"count\": 1, \"label\": \"count\"}, {\"in_degree\": 18063, \"count\": 1, \"label\": \"count\"}, {\"in_degree\": 18074, \"count\": 1, \"label\": \"count\"}, {\"in_degree\": 18198, \"count\": 1, \"label\": \"count\"}, {\"in_degree\": 18234, \"count\": 1, \"label\": \"count\"}, {\"in_degree\": 18299, \"count\": 1, \"label\": \"count\"}, {\"in_degree\": 18309, \"count\": 1, \"label\": \"count\"}, {\"in_degree\": 18314, \"count\": 1, \"label\": \"count\"}, {\"in_degree\": 18332, \"count\": 1, \"label\": \"count\"}, {\"in_degree\": 18381, \"count\": 1, \"label\": \"count\"}, {\"in_degree\": 18423, \"count\": 1, \"label\": \"count\"}, {\"in_degree\": 18433, \"count\": 1, \"label\": \"count\"}, {\"in_degree\": 18468, \"count\": 1, \"label\": \"count\"}, {\"in_degree\": 18496, \"count\": 1, \"label\": \"count\"}, {\"in_degree\": 18502, \"count\": 1, \"label\": \"count\"}, {\"in_degree\": 18666, \"count\": 1, \"label\": \"count\"}, {\"in_degree\": 18667, \"count\": 1, \"label\": \"count\"}, {\"in_degree\": 18807, \"count\": 1, \"label\": \"count\"}, {\"in_degree\": 18885, \"count\": 1, \"label\": \"count\"}, {\"in_degree\": 18890, \"count\": 1, \"label\": \"count\"}, {\"in_degree\": 19021, \"count\": 1, \"label\": \"count\"}, {\"in_degree\": 19044, \"count\": 1, \"label\": \"count\"}, {\"in_degree\": 19094, \"count\": 1, \"label\": \"count\"}, {\"in_degree\": 19208, \"count\": 1, \"label\": \"count\"}, {\"in_degree\": 19294, \"count\": 1, \"label\": \"count\"}, {\"in_degree\": 19353, \"count\": 1, \"label\": \"count\"}, {\"in_degree\": 19422, \"count\": 1, \"label\": \"count\"}, {\"in_degree\": 19451, \"count\": 1, \"label\": \"count\"}, {\"in_degree\": 19463, \"count\": 1, \"label\": \"count\"}, {\"in_degree\": 19478, \"count\": 1, \"label\": \"count\"}, {\"in_degree\": 19614, \"count\": 1, \"label\": \"count\"}, {\"in_degree\": 19773, \"count\": 1, \"label\": \"count\"}, {\"in_degree\": 19822, \"count\": 1, \"label\": \"count\"}, {\"in_degree\": 19931, \"count\": 1, \"label\": \"count\"}, {\"in_degree\": 19932, \"count\": 1, \"label\": \"count\"}, {\"in_degree\": 19955, \"count\": 1, \"label\": \"count\"}, {\"in_degree\": 19968, \"count\": 1, \"label\": \"count\"}, {\"in_degree\": 19986, \"count\": 1, \"label\": \"count\"}, {\"in_degree\": 20039, \"count\": 1, \"label\": \"count\"}, {\"in_degree\": 20044, \"count\": 1, \"label\": \"count\"}, {\"in_degree\": 20127, \"count\": 1, \"label\": \"count\"}, {\"in_degree\": 20158, \"count\": 1, \"label\": \"count\"}, {\"in_degree\": 20367, \"count\": 1, \"label\": \"count\"}, {\"in_degree\": 20368, \"count\": 1, \"label\": \"count\"}, {\"in_degree\": 20382, \"count\": 1, \"label\": \"count\"}, {\"in_degree\": 20427, \"count\": 1, \"label\": \"count\"}, {\"in_degree\": 20464, \"count\": 1, \"label\": \"count\"}, {\"in_degree\": 20480, \"count\": 1, \"label\": \"count\"}, {\"in_degree\": 20483, \"count\": 1, \"label\": \"count\"}, {\"in_degree\": 20490, \"count\": 1, \"label\": \"count\"}, {\"in_degree\": 20660, \"count\": 1, \"label\": \"count\"}, {\"in_degree\": 20676, \"count\": 1, \"label\": \"count\"}, {\"in_degree\": 20813, \"count\": 1, \"label\": \"count\"}, {\"in_degree\": 20834, \"count\": 1, \"label\": \"count\"}, {\"in_degree\": 20839, \"count\": 1, \"label\": \"count\"}, {\"in_degree\": 20856, \"count\": 1, \"label\": \"count\"}, {\"in_degree\": 20980, \"count\": 1, \"label\": \"count\"}, {\"in_degree\": 20988, \"count\": 1, \"label\": \"count\"}, {\"in_degree\": 21036, \"count\": 1, \"label\": \"count\"}, {\"in_degree\": 21166, \"count\": 1, \"label\": \"count\"}, {\"in_degree\": 21181, \"count\": 1, \"label\": \"count\"}, {\"in_degree\": 21199, \"count\": 1, \"label\": \"count\"}, {\"in_degree\": 21232, \"count\": 1, \"label\": \"count\"}, {\"in_degree\": 21260, \"count\": 1, \"label\": \"count\"}, {\"in_degree\": 21374, \"count\": 1, \"label\": \"count\"}, {\"in_degree\": 21464, \"count\": 1, \"label\": \"count\"}, {\"in_degree\": 21546, \"count\": 1, \"label\": \"count\"}, {\"in_degree\": 21618, \"count\": 1, \"label\": \"count\"}, {\"in_degree\": 21644, \"count\": 1, \"label\": \"count\"}, {\"in_degree\": 21765, \"count\": 1, \"label\": \"count\"}, {\"in_degree\": 21772, \"count\": 1, \"label\": \"count\"}, {\"in_degree\": 21778, \"count\": 1, \"label\": \"count\"}, {\"in_degree\": 21809, \"count\": 1, \"label\": \"count\"}, {\"in_degree\": 21835, \"count\": 1, \"label\": \"count\"}, {\"in_degree\": 21893, \"count\": 1, \"label\": \"count\"}, {\"in_degree\": 21912, \"count\": 1, \"label\": \"count\"}, {\"in_degree\": 21956, \"count\": 1, \"label\": \"count\"}, {\"in_degree\": 22035, \"count\": 1, \"label\": \"count\"}, {\"in_degree\": 22050, \"count\": 1, \"label\": \"count\"}, {\"in_degree\": 22122, \"count\": 1, \"label\": \"count\"}, {\"in_degree\": 22227, \"count\": 1, \"label\": \"count\"}, {\"in_degree\": 22230, \"count\": 1, \"label\": \"count\"}, {\"in_degree\": 22246, \"count\": 1, \"label\": \"count\"}, {\"in_degree\": 22263, \"count\": 1, \"label\": \"count\"}, {\"in_degree\": 22304, \"count\": 1, \"label\": \"count\"}, {\"in_degree\": 22308, \"count\": 1, \"label\": \"count\"}, {\"in_degree\": 22528, \"count\": 1, \"label\": \"count\"}, {\"in_degree\": 22614, \"count\": 1, \"label\": \"count\"}, {\"in_degree\": 22617, \"count\": 1, \"label\": \"count\"}, {\"in_degree\": 22623, \"count\": 1, \"label\": \"count\"}, {\"in_degree\": 22787, \"count\": 1, \"label\": \"count\"}, {\"in_degree\": 22853, \"count\": 1, \"label\": \"count\"}, {\"in_degree\": 22912, \"count\": 1, \"label\": \"count\"}, {\"in_degree\": 22916, \"count\": 1, \"label\": \"count\"}, {\"in_degree\": 22996, \"count\": 1, \"label\": \"count\"}, {\"in_degree\": 23102, \"count\": 1, \"label\": \"count\"}, {\"in_degree\": 23188, \"count\": 1, \"label\": \"count\"}, {\"in_degree\": 23312, \"count\": 1, \"label\": \"count\"}, {\"in_degree\": 23351, \"count\": 1, \"label\": \"count\"}, {\"in_degree\": 23354, \"count\": 1, \"label\": \"count\"}, {\"in_degree\": 23373, \"count\": 1, \"label\": \"count\"}, {\"in_degree\": 23391, \"count\": 1, \"label\": \"count\"}, {\"in_degree\": 23474, \"count\": 1, \"label\": \"count\"}, {\"in_degree\": 23499, \"count\": 1, \"label\": \"count\"}, {\"in_degree\": 23631, \"count\": 1, \"label\": \"count\"}, {\"in_degree\": 23677, \"count\": 1, \"label\": \"count\"}, {\"in_degree\": 23747, \"count\": 1, \"label\": \"count\"}, {\"in_degree\": 23750, \"count\": 1, \"label\": \"count\"}, {\"in_degree\": 23820, \"count\": 1, \"label\": \"count\"}, {\"in_degree\": 23965, \"count\": 1, \"label\": \"count\"}, {\"in_degree\": 24002, \"count\": 1, \"label\": \"count\"}, {\"in_degree\": 24158, \"count\": 1, \"label\": \"count\"}, {\"in_degree\": 24168, \"count\": 1, \"label\": \"count\"}, {\"in_degree\": 24183, \"count\": 1, \"label\": \"count\"}, {\"in_degree\": 24349, \"count\": 1, \"label\": \"count\"}, {\"in_degree\": 24372, \"count\": 1, \"label\": \"count\"}, {\"in_degree\": 24465, \"count\": 1, \"label\": \"count\"}, {\"in_degree\": 24536, \"count\": 1, \"label\": \"count\"}, {\"in_degree\": 24649, \"count\": 1, \"label\": \"count\"}, {\"in_degree\": 24697, \"count\": 1, \"label\": \"count\"}, {\"in_degree\": 24784, \"count\": 1, \"label\": \"count\"}, {\"in_degree\": 24797, \"count\": 1, \"label\": \"count\"}, {\"in_degree\": 24835, \"count\": 1, \"label\": \"count\"}, {\"in_degree\": 24883, \"count\": 1, \"label\": \"count\"}, {\"in_degree\": 24960, \"count\": 1, \"label\": \"count\"}, {\"in_degree\": 25104, \"count\": 1, \"label\": \"count\"}, {\"in_degree\": 25111, \"count\": 1, \"label\": \"count\"}, {\"in_degree\": 25181, \"count\": 1, \"label\": \"count\"}, {\"in_degree\": 25229, \"count\": 1, \"label\": \"count\"}, {\"in_degree\": 25411, \"count\": 1, \"label\": \"count\"}, {\"in_degree\": 25544, \"count\": 1, \"label\": \"count\"}, {\"in_degree\": 25788, \"count\": 1, \"label\": \"count\"}, {\"in_degree\": 25804, \"count\": 1, \"label\": \"count\"}, {\"in_degree\": 25846, \"count\": 1, \"label\": \"count\"}, {\"in_degree\": 25918, \"count\": 1, \"label\": \"count\"}, {\"in_degree\": 25956, \"count\": 1, \"label\": \"count\"}, {\"in_degree\": 25993, \"count\": 1, \"label\": \"count\"}, {\"in_degree\": 26189, \"count\": 1, \"label\": \"count\"}, {\"in_degree\": 26338, \"count\": 1, \"label\": \"count\"}, {\"in_degree\": 26341, \"count\": 1, \"label\": \"count\"}, {\"in_degree\": 26356, \"count\": 1, \"label\": \"count\"}, {\"in_degree\": 26374, \"count\": 1, \"label\": \"count\"}, {\"in_degree\": 26422, \"count\": 1, \"label\": \"count\"}, {\"in_degree\": 26469, \"count\": 1, \"label\": \"count\"}, {\"in_degree\": 26491, \"count\": 1, \"label\": \"count\"}, {\"in_degree\": 26498, \"count\": 1, \"label\": \"count\"}, {\"in_degree\": 26610, \"count\": 1, \"label\": \"count\"}, {\"in_degree\": 26724, \"count\": 1, \"label\": \"count\"}, {\"in_degree\": 26810, \"count\": 1, \"label\": \"count\"}, {\"in_degree\": 26871, \"count\": 1, \"label\": \"count\"}, {\"in_degree\": 26889, \"count\": 1, \"label\": \"count\"}, {\"in_degree\": 26985, \"count\": 1, \"label\": \"count\"}, {\"in_degree\": 27021, \"count\": 1, \"label\": \"count\"}, {\"in_degree\": 27166, \"count\": 1, \"label\": \"count\"}, {\"in_degree\": 27304, \"count\": 1, \"label\": \"count\"}, {\"in_degree\": 27314, \"count\": 1, \"label\": \"count\"}, {\"in_degree\": 27354, \"count\": 1, \"label\": \"count\"}, {\"in_degree\": 27387, \"count\": 1, \"label\": \"count\"}, {\"in_degree\": 27414, \"count\": 1, \"label\": \"count\"}, {\"in_degree\": 27415, \"count\": 1, \"label\": \"count\"}, {\"in_degree\": 27431, \"count\": 1, \"label\": \"count\"}, {\"in_degree\": 27448, \"count\": 2, \"label\": \"count\"}, {\"in_degree\": 27465, \"count\": 1, \"label\": \"count\"}, {\"in_degree\": 27510, \"count\": 1, \"label\": \"count\"}, {\"in_degree\": 27525, \"count\": 1, \"label\": \"count\"}, {\"in_degree\": 27549, \"count\": 1, \"label\": \"count\"}, {\"in_degree\": 27695, \"count\": 1, \"label\": \"count\"}, {\"in_degree\": 27834, \"count\": 1, \"label\": \"count\"}, {\"in_degree\": 27949, \"count\": 1, \"label\": \"count\"}, {\"in_degree\": 28097, \"count\": 1, \"label\": \"count\"}, {\"in_degree\": 28100, \"count\": 1, \"label\": \"count\"}, {\"in_degree\": 28150, \"count\": 1, \"label\": \"count\"}, {\"in_degree\": 28271, \"count\": 1, \"label\": \"count\"}, {\"in_degree\": 28332, \"count\": 1, \"label\": \"count\"}, {\"in_degree\": 28347, \"count\": 1, \"label\": \"count\"}, {\"in_degree\": 28488, \"count\": 1, \"label\": \"count\"}, {\"in_degree\": 28564, \"count\": 1, \"label\": \"count\"}, {\"in_degree\": 28691, \"count\": 1, \"label\": \"count\"}, {\"in_degree\": 28827, \"count\": 1, \"label\": \"count\"}, {\"in_degree\": 29024, \"count\": 1, \"label\": \"count\"}, {\"in_degree\": 29135, \"count\": 1, \"label\": \"count\"}, {\"in_degree\": 29284, \"count\": 1, \"label\": \"count\"}, {\"in_degree\": 29322, \"count\": 1, \"label\": \"count\"}, {\"in_degree\": 29342, \"count\": 1, \"label\": \"count\"}, {\"in_degree\": 29799, \"count\": 1, \"label\": \"count\"}, {\"in_degree\": 29809, \"count\": 1, \"label\": \"count\"}, {\"in_degree\": 29810, \"count\": 1, \"label\": \"count\"}, {\"in_degree\": 30114, \"count\": 1, \"label\": \"count\"}, {\"in_degree\": 30322, \"count\": 1, \"label\": \"count\"}, {\"in_degree\": 30388, \"count\": 1, \"label\": \"count\"}, {\"in_degree\": 30504, \"count\": 1, \"label\": \"count\"}, {\"in_degree\": 30609, \"count\": 1, \"label\": \"count\"}, {\"in_degree\": 30866, \"count\": 1, \"label\": \"count\"}, {\"in_degree\": 30913, \"count\": 1, \"label\": \"count\"}, {\"in_degree\": 31007, \"count\": 1, \"label\": \"count\"}, {\"in_degree\": 31300, \"count\": 1, \"label\": \"count\"}, {\"in_degree\": 31562, \"count\": 1, \"label\": \"count\"}, {\"in_degree\": 31617, \"count\": 1, \"label\": \"count\"}, {\"in_degree\": 31714, \"count\": 1, \"label\": \"count\"}, {\"in_degree\": 31815, \"count\": 1, \"label\": \"count\"}, {\"in_degree\": 31866, \"count\": 1, \"label\": \"count\"}, {\"in_degree\": 31911, \"count\": 1, \"label\": \"count\"}, {\"in_degree\": 31942, \"count\": 1, \"label\": \"count\"}, {\"in_degree\": 32080, \"count\": 1, \"label\": \"count\"}, {\"in_degree\": 32284, \"count\": 1, \"label\": \"count\"}, {\"in_degree\": 32304, \"count\": 1, \"label\": \"count\"}, {\"in_degree\": 32410, \"count\": 1, \"label\": \"count\"}, {\"in_degree\": 32571, \"count\": 1, \"label\": \"count\"}, {\"in_degree\": 32804, \"count\": 1, \"label\": \"count\"}, {\"in_degree\": 32960, \"count\": 1, \"label\": \"count\"}, {\"in_degree\": 33063, \"count\": 1, \"label\": \"count\"}, {\"in_degree\": 33150, \"count\": 1, \"label\": \"count\"}, {\"in_degree\": 33335, \"count\": 1, \"label\": \"count\"}, {\"in_degree\": 33422, \"count\": 1, \"label\": \"count\"}, {\"in_degree\": 33429, \"count\": 1, \"label\": \"count\"}, {\"in_degree\": 33524, \"count\": 1, \"label\": \"count\"}, {\"in_degree\": 33560, \"count\": 1, \"label\": \"count\"}, {\"in_degree\": 33700, \"count\": 1, \"label\": \"count\"}, {\"in_degree\": 33961, \"count\": 1, \"label\": \"count\"}, {\"in_degree\": 33962, \"count\": 1, \"label\": \"count\"}, {\"in_degree\": 34386, \"count\": 1, \"label\": \"count\"}, {\"in_degree\": 34396, \"count\": 1, \"label\": \"count\"}, {\"in_degree\": 34589, \"count\": 1, \"label\": \"count\"}, {\"in_degree\": 35189, \"count\": 1, \"label\": \"count\"}, {\"in_degree\": 35280, \"count\": 1, \"label\": \"count\"}, {\"in_degree\": 35350, \"count\": 1, \"label\": \"count\"}, {\"in_degree\": 35625, \"count\": 1, \"label\": \"count\"}, {\"in_degree\": 35683, \"count\": 1, \"label\": \"count\"}, {\"in_degree\": 35692, \"count\": 1, \"label\": \"count\"}, {\"in_degree\": 35712, \"count\": 1, \"label\": \"count\"}, {\"in_degree\": 35775, \"count\": 1, \"label\": \"count\"}, {\"in_degree\": 35834, \"count\": 1, \"label\": \"count\"}, {\"in_degree\": 36074, \"count\": 1, \"label\": \"count\"}, {\"in_degree\": 36472, \"count\": 1, \"label\": \"count\"}, {\"in_degree\": 36721, \"count\": 1, \"label\": \"count\"}, {\"in_degree\": 36776, \"count\": 1, \"label\": \"count\"}, {\"in_degree\": 36840, \"count\": 1, \"label\": \"count\"}, {\"in_degree\": 36912, \"count\": 1, \"label\": \"count\"}, {\"in_degree\": 37646, \"count\": 1, \"label\": \"count\"}, {\"in_degree\": 37717, \"count\": 1, \"label\": \"count\"}, {\"in_degree\": 37782, \"count\": 1, \"label\": \"count\"}, {\"in_degree\": 37796, \"count\": 1, \"label\": \"count\"}, {\"in_degree\": 37930, \"count\": 1, \"label\": \"count\"}, {\"in_degree\": 38038, \"count\": 1, \"label\": \"count\"}, {\"in_degree\": 38889, \"count\": 1, \"label\": \"count\"}, {\"in_degree\": 38989, \"count\": 1, \"label\": \"count\"}, {\"in_degree\": 39240, \"count\": 1, \"label\": \"count\"}, {\"in_degree\": 39432, \"count\": 1, \"label\": \"count\"}, {\"in_degree\": 40017, \"count\": 1, \"label\": \"count\"}, {\"in_degree\": 40266, \"count\": 1, \"label\": \"count\"}, {\"in_degree\": 40631, \"count\": 1, \"label\": \"count\"}, {\"in_degree\": 40727, \"count\": 1, \"label\": \"count\"}, {\"in_degree\": 41693, \"count\": 1, \"label\": \"count\"}, {\"in_degree\": 42372, \"count\": 1, \"label\": \"count\"}, {\"in_degree\": 42437, \"count\": 1, \"label\": \"count\"}, {\"in_degree\": 43080, \"count\": 1, \"label\": \"count\"}, {\"in_degree\": 43432, \"count\": 1, \"label\": \"count\"}, {\"in_degree\": 43487, \"count\": 1, \"label\": \"count\"}, {\"in_degree\": 43522, \"count\": 1, \"label\": \"count\"}, {\"in_degree\": 43657, \"count\": 1, \"label\": \"count\"}, {\"in_degree\": 43723, \"count\": 1, \"label\": \"count\"}, {\"in_degree\": 44040, \"count\": 1, \"label\": \"count\"}, {\"in_degree\": 44139, \"count\": 1, \"label\": \"count\"}, {\"in_degree\": 44210, \"count\": 1, \"label\": \"count\"}, {\"in_degree\": 44288, \"count\": 1, \"label\": \"count\"}, {\"in_degree\": 44362, \"count\": 1, \"label\": \"count\"}, {\"in_degree\": 44596, \"count\": 1, \"label\": \"count\"}, {\"in_degree\": 45108, \"count\": 1, \"label\": \"count\"}, {\"in_degree\": 45167, \"count\": 1, \"label\": \"count\"}, {\"in_degree\": 45287, \"count\": 1, \"label\": \"count\"}, {\"in_degree\": 45467, \"count\": 1, \"label\": \"count\"}, {\"in_degree\": 45521, \"count\": 1, \"label\": \"count\"}, {\"in_degree\": 45818, \"count\": 1, \"label\": \"count\"}, {\"in_degree\": 45854, \"count\": 1, \"label\": \"count\"}, {\"in_degree\": 46047, \"count\": 1, \"label\": \"count\"}, {\"in_degree\": 46452, \"count\": 1, \"label\": \"count\"}, {\"in_degree\": 47309, \"count\": 1, \"label\": \"count\"}, {\"in_degree\": 47399, \"count\": 1, \"label\": \"count\"}, {\"in_degree\": 47410, \"count\": 1, \"label\": \"count\"}, {\"in_degree\": 47614, \"count\": 1, \"label\": \"count\"}, {\"in_degree\": 47624, \"count\": 1, \"label\": \"count\"}, {\"in_degree\": 47938, \"count\": 1, \"label\": \"count\"}, {\"in_degree\": 47942, \"count\": 1, \"label\": \"count\"}, {\"in_degree\": 47948, \"count\": 1, \"label\": \"count\"}, {\"in_degree\": 48072, \"count\": 1, \"label\": \"count\"}, {\"in_degree\": 48188, \"count\": 1, \"label\": \"count\"}, {\"in_degree\": 48199, \"count\": 1, \"label\": \"count\"}, {\"in_degree\": 48555, \"count\": 1, \"label\": \"count\"}, {\"in_degree\": 48775, \"count\": 1, \"label\": \"count\"}, {\"in_degree\": 49288, \"count\": 1, \"label\": \"count\"}, {\"in_degree\": 49289, \"count\": 1, \"label\": \"count\"}, {\"in_degree\": 49444, \"count\": 1, \"label\": \"count\"}, {\"in_degree\": 51155, \"count\": 1, \"label\": \"count\"}, {\"in_degree\": 51668, \"count\": 1, \"label\": \"count\"}, {\"in_degree\": 51821, \"count\": 1, \"label\": \"count\"}, {\"in_degree\": 51959, \"count\": 1, \"label\": \"count\"}, {\"in_degree\": 52674, \"count\": 1, \"label\": \"count\"}, {\"in_degree\": 52740, \"count\": 1, \"label\": \"count\"}, {\"in_degree\": 53423, \"count\": 1, \"label\": \"count\"}, {\"in_degree\": 54207, \"count\": 1, \"label\": \"count\"}, {\"in_degree\": 54308, \"count\": 1, \"label\": \"count\"}, {\"in_degree\": 54379, \"count\": 1, \"label\": \"count\"}, {\"in_degree\": 54412, \"count\": 1, \"label\": \"count\"}, {\"in_degree\": 54446, \"count\": 1, \"label\": \"count\"}, {\"in_degree\": 55349, \"count\": 1, \"label\": \"count\"}, {\"in_degree\": 56092, \"count\": 1, \"label\": \"count\"}, {\"in_degree\": 56413, \"count\": 1, \"label\": \"count\"}, {\"in_degree\": 57510, \"count\": 1, \"label\": \"count\"}, {\"in_degree\": 58802, \"count\": 1, \"label\": \"count\"}, {\"in_degree\": 60119, \"count\": 1, \"label\": \"count\"}, {\"in_degree\": 60358, \"count\": 1, \"label\": \"count\"}, {\"in_degree\": 60481, \"count\": 1, \"label\": \"count\"}, {\"in_degree\": 61189, \"count\": 1, \"label\": \"count\"}, {\"in_degree\": 61200, \"count\": 1, \"label\": \"count\"}, {\"in_degree\": 61736, \"count\": 1, \"label\": \"count\"}, {\"in_degree\": 61861, \"count\": 1, \"label\": \"count\"}, {\"in_degree\": 62765, \"count\": 1, \"label\": \"count\"}, {\"in_degree\": 62787, \"count\": 1, \"label\": \"count\"}, {\"in_degree\": 63052, \"count\": 1, \"label\": \"count\"}, {\"in_degree\": 63388, \"count\": 1, \"label\": \"count\"}, {\"in_degree\": 63953, \"count\": 1, \"label\": \"count\"}, {\"in_degree\": 64267, \"count\": 1, \"label\": \"count\"}, {\"in_degree\": 64292, \"count\": 1, \"label\": \"count\"}, {\"in_degree\": 64384, \"count\": 1, \"label\": \"count\"}, {\"in_degree\": 64992, \"count\": 1, \"label\": \"count\"}, {\"in_degree\": 65900, \"count\": 1, \"label\": \"count\"}, {\"in_degree\": 65960, \"count\": 1, \"label\": \"count\"}, {\"in_degree\": 65993, \"count\": 1, \"label\": \"count\"}, {\"in_degree\": 66663, \"count\": 1, \"label\": \"count\"}, {\"in_degree\": 66824, \"count\": 1, \"label\": \"count\"}, {\"in_degree\": 67176, \"count\": 1, \"label\": \"count\"}, {\"in_degree\": 67216, \"count\": 1, \"label\": \"count\"}, {\"in_degree\": 67494, \"count\": 1, \"label\": \"count\"}, {\"in_degree\": 67971, \"count\": 1, \"label\": \"count\"}, {\"in_degree\": 68640, \"count\": 1, \"label\": \"count\"}, {\"in_degree\": 68874, \"count\": 1, \"label\": \"count\"}, {\"in_degree\": 69147, \"count\": 1, \"label\": \"count\"}, {\"in_degree\": 69195, \"count\": 1, \"label\": \"count\"}, {\"in_degree\": 69441, \"count\": 1, \"label\": \"count\"}, {\"in_degree\": 70388, \"count\": 1, \"label\": \"count\"}, {\"in_degree\": 72253, \"count\": 1, \"label\": \"count\"}, {\"in_degree\": 72514, \"count\": 1, \"label\": \"count\"}, {\"in_degree\": 72968, \"count\": 1, \"label\": \"count\"}, {\"in_degree\": 73037, \"count\": 1, \"label\": \"count\"}, {\"in_degree\": 73704, \"count\": 1, \"label\": \"count\"}, {\"in_degree\": 73950, \"count\": 1, \"label\": \"count\"}, {\"in_degree\": 74771, \"count\": 1, \"label\": \"count\"}, {\"in_degree\": 75694, \"count\": 1, \"label\": \"count\"}, {\"in_degree\": 76142, \"count\": 1, \"label\": \"count\"}, {\"in_degree\": 76580, \"count\": 1, \"label\": \"count\"}, {\"in_degree\": 76605, \"count\": 1, \"label\": \"count\"}, {\"in_degree\": 76655, \"count\": 1, \"label\": \"count\"}, {\"in_degree\": 76771, \"count\": 1, \"label\": \"count\"}, {\"in_degree\": 78222, \"count\": 1, \"label\": \"count\"}, {\"in_degree\": 78883, \"count\": 1, \"label\": \"count\"}, {\"in_degree\": 81617, \"count\": 1, \"label\": \"count\"}, {\"in_degree\": 82232, \"count\": 1, \"label\": \"count\"}, {\"in_degree\": 82414, \"count\": 1, \"label\": \"count\"}, {\"in_degree\": 82613, \"count\": 1, \"label\": \"count\"}, {\"in_degree\": 82775, \"count\": 1, \"label\": \"count\"}, {\"in_degree\": 85836, \"count\": 1, \"label\": \"count\"}, {\"in_degree\": 85969, \"count\": 1, \"label\": \"count\"}, {\"in_degree\": 85988, \"count\": 1, \"label\": \"count\"}, {\"in_degree\": 87062, \"count\": 1, \"label\": \"count\"}, {\"in_degree\": 87162, \"count\": 1, \"label\": \"count\"}, {\"in_degree\": 88265, \"count\": 1, \"label\": \"count\"}, {\"in_degree\": 90537, \"count\": 1, \"label\": \"count\"}, {\"in_degree\": 90914, \"count\": 1, \"label\": \"count\"}, {\"in_degree\": 91531, \"count\": 1, \"label\": \"count\"}, {\"in_degree\": 93542, \"count\": 1, \"label\": \"count\"}, {\"in_degree\": 94718, \"count\": 1, \"label\": \"count\"}, {\"in_degree\": 96678, \"count\": 1, \"label\": \"count\"}, {\"in_degree\": 96827, \"count\": 1, \"label\": \"count\"}, {\"in_degree\": 97021, \"count\": 1, \"label\": \"count\"}, {\"in_degree\": 97327, \"count\": 1, \"label\": \"count\"}, {\"in_degree\": 98350, \"count\": 1, \"label\": \"count\"}, {\"in_degree\": 98718, \"count\": 1, \"label\": \"count\"}, {\"in_degree\": 99166, \"count\": 1, \"label\": \"count\"}, {\"in_degree\": 99440, \"count\": 1, \"label\": \"count\"}, {\"in_degree\": 99909, \"count\": 1, \"label\": \"count\"}, {\"in_degree\": 104225, \"count\": 1, \"label\": \"count\"}, {\"in_degree\": 104578, \"count\": 1, \"label\": \"count\"}, {\"in_degree\": 107401, \"count\": 1, \"label\": \"count\"}, {\"in_degree\": 107403, \"count\": 1, \"label\": \"count\"}, {\"in_degree\": 107573, \"count\": 1, \"label\": \"count\"}, {\"in_degree\": 109555, \"count\": 1, \"label\": \"count\"}, {\"in_degree\": 110516, \"count\": 1, \"label\": \"count\"}, {\"in_degree\": 111571, \"count\": 1, \"label\": \"count\"}, {\"in_degree\": 114535, \"count\": 1, \"label\": \"count\"}, {\"in_degree\": 114747, \"count\": 1, \"label\": \"count\"}, {\"in_degree\": 115021, \"count\": 1, \"label\": \"count\"}, {\"in_degree\": 115935, \"count\": 1, \"label\": \"count\"}, {\"in_degree\": 116077, \"count\": 1, \"label\": \"count\"}, {\"in_degree\": 116763, \"count\": 1, \"label\": \"count\"}, {\"in_degree\": 117455, \"count\": 1, \"label\": \"count\"}, {\"in_degree\": 117840, \"count\": 1, \"label\": \"count\"}, {\"in_degree\": 118888, \"count\": 1, \"label\": \"count\"}, {\"in_degree\": 118943, \"count\": 1, \"label\": \"count\"}, {\"in_degree\": 121469, \"count\": 1, \"label\": \"count\"}, {\"in_degree\": 123531, \"count\": 1, \"label\": \"count\"}, {\"in_degree\": 124050, \"count\": 1, \"label\": \"count\"}, {\"in_degree\": 125065, \"count\": 1, \"label\": \"count\"}, {\"in_degree\": 125183, \"count\": 1, \"label\": \"count\"}, {\"in_degree\": 126531, \"count\": 1, \"label\": \"count\"}, {\"in_degree\": 127574, \"count\": 1, \"label\": \"count\"}, {\"in_degree\": 127592, \"count\": 1, \"label\": \"count\"}, {\"in_degree\": 128810, \"count\": 1, \"label\": \"count\"}, {\"in_degree\": 129435, \"count\": 1, \"label\": \"count\"}, {\"in_degree\": 130690, \"count\": 1, \"label\": \"count\"}, {\"in_degree\": 130740, \"count\": 1, \"label\": \"count\"}, {\"in_degree\": 132353, \"count\": 1, \"label\": \"count\"}, {\"in_degree\": 132431, \"count\": 1, \"label\": \"count\"}, {\"in_degree\": 134427, \"count\": 1, \"label\": \"count\"}, {\"in_degree\": 135760, \"count\": 1, \"label\": \"count\"}, {\"in_degree\": 136703, \"count\": 1, \"label\": \"count\"}, {\"in_degree\": 141500, \"count\": 1, \"label\": \"count\"}, {\"in_degree\": 144592, \"count\": 1, \"label\": \"count\"}, {\"in_degree\": 144973, \"count\": 1, \"label\": \"count\"}, {\"in_degree\": 146107, \"count\": 1, \"label\": \"count\"}, {\"in_degree\": 148483, \"count\": 1, \"label\": \"count\"}, {\"in_degree\": 149363, \"count\": 1, \"label\": \"count\"}, {\"in_degree\": 150418, \"count\": 1, \"label\": \"count\"}, {\"in_degree\": 151326, \"count\": 1, \"label\": \"count\"}, {\"in_degree\": 152033, \"count\": 1, \"label\": \"count\"}, {\"in_degree\": 154440, \"count\": 1, \"label\": \"count\"}, {\"in_degree\": 157385, \"count\": 1, \"label\": \"count\"}, {\"in_degree\": 158379, \"count\": 1, \"label\": \"count\"}, {\"in_degree\": 163209, \"count\": 1, \"label\": \"count\"}, {\"in_degree\": 167086, \"count\": 1, \"label\": \"count\"}, {\"in_degree\": 168335, \"count\": 1, \"label\": \"count\"}, {\"in_degree\": 171004, \"count\": 1, \"label\": \"count\"}, {\"in_degree\": 173777, \"count\": 1, \"label\": \"count\"}, {\"in_degree\": 174462, \"count\": 1, \"label\": \"count\"}, {\"in_degree\": 176547, \"count\": 1, \"label\": \"count\"}, {\"in_degree\": 180224, \"count\": 1, \"label\": \"count\"}, {\"in_degree\": 180861, \"count\": 1, \"label\": \"count\"}, {\"in_degree\": 182931, \"count\": 1, \"label\": \"count\"}, {\"in_degree\": 183320, \"count\": 1, \"label\": \"count\"}, {\"in_degree\": 184523, \"count\": 1, \"label\": \"count\"}, {\"in_degree\": 187601, \"count\": 1, \"label\": \"count\"}, {\"in_degree\": 189425, \"count\": 1, \"label\": \"count\"}, {\"in_degree\": 195683, \"count\": 1, \"label\": \"count\"}, {\"in_degree\": 204922, \"count\": 1, \"label\": \"count\"}, {\"in_degree\": 218293, \"count\": 1, \"label\": \"count\"}, {\"in_degree\": 220986, \"count\": 1, \"label\": \"count\"}, {\"in_degree\": 231900, \"count\": 1, \"label\": \"count\"}, {\"in_degree\": 236889, \"count\": 1, \"label\": \"count\"}, {\"in_degree\": 239719, \"count\": 1, \"label\": \"count\"}, {\"in_degree\": 239912, \"count\": 1, \"label\": \"count\"}, {\"in_degree\": 242689, \"count\": 1, \"label\": \"count\"}, {\"in_degree\": 249118, \"count\": 1, \"label\": \"count\"}, {\"in_degree\": 255002, \"count\": 1, \"label\": \"count\"}, {\"in_degree\": 257626, \"count\": 1, \"label\": \"count\"}, {\"in_degree\": 266853, \"count\": 1, \"label\": \"count\"}, {\"in_degree\": 276146, \"count\": 1, \"label\": \"count\"}, {\"in_degree\": 284853, \"count\": 1, \"label\": \"count\"}, {\"in_degree\": 288435, \"count\": 1, \"label\": \"count\"}, {\"in_degree\": 297174, \"count\": 1, \"label\": \"count\"}, {\"in_degree\": 297444, \"count\": 1, \"label\": \"count\"}, {\"in_degree\": 316307, \"count\": 1, \"label\": \"count\"}, {\"in_degree\": 320460, \"count\": 1, \"label\": \"count\"}, {\"in_degree\": 327562, \"count\": 1, \"label\": \"count\"}, {\"in_degree\": 330926, \"count\": 1, \"label\": \"count\"}, {\"in_degree\": 331732, \"count\": 1, \"label\": \"count\"}, {\"in_degree\": 351121, \"count\": 1, \"label\": \"count\"}, {\"in_degree\": 354112, \"count\": 1, \"label\": \"count\"}, {\"in_degree\": 381267, \"count\": 1, \"label\": \"count\"}, {\"in_degree\": 381315, \"count\": 1, \"label\": \"count\"}, {\"in_degree\": 391366, \"count\": 1, \"label\": \"count\"}, {\"in_degree\": 403476, \"count\": 1, \"label\": \"count\"}, {\"in_degree\": 405108, \"count\": 1, \"label\": \"count\"}, {\"in_degree\": 438085, \"count\": 1, \"label\": \"count\"}, {\"in_degree\": 461418, \"count\": 1, \"label\": \"count\"}, {\"in_degree\": 488981, \"count\": 1, \"label\": \"count\"}, {\"in_degree\": 502848, \"count\": 1, \"label\": \"count\"}, {\"in_degree\": 504758, \"count\": 1, \"label\": \"count\"}, {\"in_degree\": 514823, \"count\": 1, \"label\": \"count\"}, {\"in_degree\": 833799, \"count\": 1, \"label\": \"count\"}, {\"in_degree\": 873177, \"count\": 1, \"label\": \"count\"}, {\"in_degree\": 947514, \"count\": 1, \"label\": \"count\"}, {\"in_degree\": 1049555, \"count\": 1, \"label\": \"count\"}, {\"in_degree\": 1202423, \"count\": 1, \"label\": \"count\"}, {\"in_degree\": 1328878, \"count\": 1, \"label\": \"count\"}, {\"in_degree\": 1645973, \"count\": 1, \"label\": \"count\"}, {\"in_degree\": 1747242, \"count\": 1, \"label\": \"count\"}, {\"in_degree\": 2100975, \"count\": 1, \"label\": \"count\"}, {\"in_degree\": 2373982, \"count\": 1, \"label\": \"count\"}, {\"in_degree\": 2821705, \"count\": 1, \"label\": \"count\"}, {\"in_degree\": 3296274, \"count\": 1, \"label\": \"count\"}, {\"in_degree\": 4057629, \"count\": 1, \"label\": \"count\"}, {\"in_degree\": 7999216, \"count\": 1, \"label\": \"count\"}]}}, {\"mode\": \"vega-lite\"});\n",
       "</script>"
      ],
      "text/plain": [
       "alt.Chart(...)"
      ]
     },
     "execution_count": 30,
     "metadata": {},
     "output_type": "execute_result"
    }
   ],
   "source": [
    "data = pd.read_csv(\n",
    "    os.environ[\"OUT\"] + \"/statistics.in_degree.distribution.tsv\", sep=\"\\t\"\n",
    ")\n",
    "\n",
    "alt.Chart(data).mark_circle(size=60).encode(\n",
    "    x=alt.X(\"in_degree\", scale=alt.Scale(type=\"log\")),\n",
    "    y=alt.Y(\"count\", scale=alt.Scale(type=\"log\"), title=\"count of nodes\"),\n",
    "    tooltip=[\"in_degree\", \"count\"],\n",
    ").interactive().properties(title=\"Distribution of In Degree\")"
   ]
  },
  {
   "cell_type": "code",
   "execution_count": 31,
   "id": "898b95fe",
   "metadata": {
    "papermill": {
     "duration": null,
     "end_time": null,
     "exception": null,
     "start_time": null,
     "status": "completed"
    },
    "tags": []
   },
   "outputs": [
    {
     "data": {
      "text/html": [
       "\n",
       "<div id=\"altair-viz-3c949a5772284f9b8911548153b3fe94\"></div>\n",
       "<script type=\"text/javascript\">\n",
       "  (function(spec, embedOpt){\n",
       "    let outputDiv = document.currentScript.previousElementSibling;\n",
       "    if (outputDiv.id !== \"altair-viz-3c949a5772284f9b8911548153b3fe94\") {\n",
       "      outputDiv = document.getElementById(\"altair-viz-3c949a5772284f9b8911548153b3fe94\");\n",
       "    }\n",
       "    const paths = {\n",
       "      \"vega\": \"https://cdn.jsdelivr.net/npm//vega@5?noext\",\n",
       "      \"vega-lib\": \"https://cdn.jsdelivr.net/npm//vega-lib?noext\",\n",
       "      \"vega-lite\": \"https://cdn.jsdelivr.net/npm//vega-lite@4.8.1?noext\",\n",
       "      \"vega-embed\": \"https://cdn.jsdelivr.net/npm//vega-embed@6?noext\",\n",
       "    };\n",
       "\n",
       "    function loadScript(lib) {\n",
       "      return new Promise(function(resolve, reject) {\n",
       "        var s = document.createElement('script');\n",
       "        s.src = paths[lib];\n",
       "        s.async = true;\n",
       "        s.onload = () => resolve(paths[lib]);\n",
       "        s.onerror = () => reject(`Error loading script: ${paths[lib]}`);\n",
       "        document.getElementsByTagName(\"head\")[0].appendChild(s);\n",
       "      });\n",
       "    }\n",
       "\n",
       "    function showError(err) {\n",
       "      outputDiv.innerHTML = `<div class=\"error\" style=\"color:red;\">${err}</div>`;\n",
       "      throw err;\n",
       "    }\n",
       "\n",
       "    function displayChart(vegaEmbed) {\n",
       "      vegaEmbed(outputDiv, spec, embedOpt)\n",
       "        .catch(err => showError(`Javascript Error: ${err.message}<br>This usually means there's a typo in your chart specification. See the javascript console for the full traceback.`));\n",
       "    }\n",
       "\n",
       "    if(typeof define === \"function\" && define.amd) {\n",
       "      requirejs.config({paths});\n",
       "      require([\"vega-embed\"], displayChart, err => showError(`Error loading script: ${err.message}`));\n",
       "    } else if (typeof vegaEmbed === \"function\") {\n",
       "      displayChart(vegaEmbed);\n",
       "    } else {\n",
       "      loadScript(\"vega\")\n",
       "        .then(() => loadScript(\"vega-lite\"))\n",
       "        .then(() => loadScript(\"vega-embed\"))\n",
       "        .catch(showError)\n",
       "        .then(() => displayChart(vegaEmbed));\n",
       "    }\n",
       "  })({\"config\": {\"view\": {\"continuousWidth\": 400, \"continuousHeight\": 300}}, \"data\": {\"name\": \"data-6f2698116f3ed3941da3c1397b10f533\"}, \"mark\": {\"type\": \"circle\", \"size\": 60}, \"encoding\": {\"tooltip\": [{\"type\": \"quantitative\", \"field\": \"out_degree\"}, {\"type\": \"quantitative\", \"field\": \"count\"}], \"x\": {\"type\": \"quantitative\", \"field\": \"out_degree\", \"scale\": {\"type\": \"log\"}}, \"y\": {\"type\": \"quantitative\", \"field\": \"count\", \"scale\": {\"type\": \"log\"}, \"title\": \"count of nodes\"}}, \"selection\": {\"selector002\": {\"type\": \"interval\", \"bind\": \"scales\", \"encodings\": [\"x\", \"y\"]}}, \"title\": \"Distribution of Out Degree\", \"$schema\": \"https://vega.github.io/schema/vega-lite/v4.8.1.json\", \"datasets\": {\"data-6f2698116f3ed3941da3c1397b10f533\": [{\"out_degree\": 1, \"count\": 5886154, \"label\": \"count\"}, {\"out_degree\": 2, \"count\": 981162, \"label\": \"count\"}, {\"out_degree\": 3, \"count\": 1960354, \"label\": \"count\"}, {\"out_degree\": 4, \"count\": 1714690, \"label\": \"count\"}, {\"out_degree\": 5, \"count\": 2293449, \"label\": \"count\"}, {\"out_degree\": 6, \"count\": 2288286, \"label\": \"count\"}, {\"out_degree\": 7, \"count\": 2755738, \"label\": \"count\"}, {\"out_degree\": 8, \"count\": 1740508, \"label\": \"count\"}, {\"out_degree\": 9, \"count\": 1966222, \"label\": \"count\"}, {\"out_degree\": 10, \"count\": 1623336, \"label\": \"count\"}, {\"out_degree\": 11, \"count\": 996820, \"label\": \"count\"}, {\"out_degree\": 12, \"count\": 1041701, \"label\": \"count\"}, {\"out_degree\": 13, \"count\": 972393, \"label\": \"count\"}, {\"out_degree\": 14, \"count\": 624840, \"label\": \"count\"}, {\"out_degree\": 15, \"count\": 510118, \"label\": \"count\"}, {\"out_degree\": 16, \"count\": 406714, \"label\": \"count\"}, {\"out_degree\": 17, \"count\": 405889, \"label\": \"count\"}, {\"out_degree\": 18, \"count\": 407651, \"label\": \"count\"}, {\"out_degree\": 19, \"count\": 487736, \"label\": \"count\"}, {\"out_degree\": 20, \"count\": 726919, \"label\": \"count\"}, {\"out_degree\": 21, \"count\": 959454, \"label\": \"count\"}, {\"out_degree\": 22, \"count\": 367011, \"label\": \"count\"}, {\"out_degree\": 23, \"count\": 176950, \"label\": \"count\"}, {\"out_degree\": 24, \"count\": 182258, \"label\": \"count\"}, {\"out_degree\": 25, \"count\": 158910, \"label\": \"count\"}, {\"out_degree\": 26, \"count\": 160526, \"label\": \"count\"}, {\"out_degree\": 27, \"count\": 182543, \"label\": \"count\"}, {\"out_degree\": 28, \"count\": 126551, \"label\": \"count\"}, {\"out_degree\": 29, \"count\": 96968, \"label\": \"count\"}, {\"out_degree\": 30, \"count\": 76597, \"label\": \"count\"}, {\"out_degree\": 31, \"count\": 67925, \"label\": \"count\"}, {\"out_degree\": 32, \"count\": 58110, \"label\": \"count\"}, {\"out_degree\": 33, \"count\": 62757, \"label\": \"count\"}, {\"out_degree\": 34, \"count\": 85139, \"label\": \"count\"}, {\"out_degree\": 35, \"count\": 40541, \"label\": \"count\"}, {\"out_degree\": 36, \"count\": 25538, \"label\": \"count\"}, {\"out_degree\": 37, \"count\": 21953, \"label\": \"count\"}, {\"out_degree\": 38, \"count\": 17314, \"label\": \"count\"}, {\"out_degree\": 39, \"count\": 13795, \"label\": \"count\"}, {\"out_degree\": 40, \"count\": 12099, \"label\": \"count\"}, {\"out_degree\": 41, \"count\": 10461, \"label\": \"count\"}, {\"out_degree\": 42, \"count\": 9701, \"label\": \"count\"}, {\"out_degree\": 43, \"count\": 8765, \"label\": \"count\"}, {\"out_degree\": 44, \"count\": 7746, \"label\": \"count\"}, {\"out_degree\": 45, \"count\": 7514, \"label\": \"count\"}, {\"out_degree\": 46, \"count\": 6576, \"label\": \"count\"}, {\"out_degree\": 47, \"count\": 6211, \"label\": \"count\"}, {\"out_degree\": 48, \"count\": 5848, \"label\": \"count\"}, {\"out_degree\": 49, \"count\": 5169, \"label\": \"count\"}, {\"out_degree\": 50, \"count\": 5040, \"label\": \"count\"}, {\"out_degree\": 51, \"count\": 4464, \"label\": \"count\"}, {\"out_degree\": 52, \"count\": 4279, \"label\": \"count\"}, {\"out_degree\": 53, \"count\": 3833, \"label\": \"count\"}, {\"out_degree\": 54, \"count\": 3298, \"label\": \"count\"}, {\"out_degree\": 55, \"count\": 3124, \"label\": \"count\"}, {\"out_degree\": 56, \"count\": 3080, \"label\": \"count\"}, {\"out_degree\": 57, \"count\": 2667, \"label\": \"count\"}, {\"out_degree\": 58, \"count\": 2509, \"label\": \"count\"}, {\"out_degree\": 59, \"count\": 2276, \"label\": \"count\"}, {\"out_degree\": 60, \"count\": 2242, \"label\": \"count\"}, {\"out_degree\": 61, \"count\": 1955, \"label\": \"count\"}, {\"out_degree\": 62, \"count\": 1979, \"label\": \"count\"}, {\"out_degree\": 63, \"count\": 1932, \"label\": \"count\"}, {\"out_degree\": 64, \"count\": 1691, \"label\": \"count\"}, {\"out_degree\": 65, \"count\": 1703, \"label\": \"count\"}, {\"out_degree\": 66, \"count\": 1564, \"label\": \"count\"}, {\"out_degree\": 67, \"count\": 1345, \"label\": \"count\"}, {\"out_degree\": 68, \"count\": 1362, \"label\": \"count\"}, {\"out_degree\": 69, \"count\": 1253, \"label\": \"count\"}, {\"out_degree\": 70, \"count\": 1314, \"label\": \"count\"}, {\"out_degree\": 71, \"count\": 1278, \"label\": \"count\"}, {\"out_degree\": 72, \"count\": 1016, \"label\": \"count\"}, {\"out_degree\": 73, \"count\": 978, \"label\": \"count\"}, {\"out_degree\": 74, \"count\": 925, \"label\": \"count\"}, {\"out_degree\": 75, \"count\": 990, \"label\": \"count\"}, {\"out_degree\": 76, \"count\": 883, \"label\": \"count\"}, {\"out_degree\": 77, \"count\": 1100, \"label\": \"count\"}, {\"out_degree\": 78, \"count\": 908, \"label\": \"count\"}, {\"out_degree\": 79, \"count\": 863, \"label\": \"count\"}, {\"out_degree\": 80, \"count\": 697, \"label\": \"count\"}, {\"out_degree\": 81, \"count\": 826, \"label\": \"count\"}, {\"out_degree\": 82, \"count\": 774, \"label\": \"count\"}, {\"out_degree\": 83, \"count\": 613, \"label\": \"count\"}, {\"out_degree\": 84, \"count\": 592, \"label\": \"count\"}, {\"out_degree\": 85, \"count\": 760, \"label\": \"count\"}, {\"out_degree\": 86, \"count\": 576, \"label\": \"count\"}, {\"out_degree\": 87, \"count\": 574, \"label\": \"count\"}, {\"out_degree\": 88, \"count\": 598, \"label\": \"count\"}, {\"out_degree\": 89, \"count\": 433, \"label\": \"count\"}, {\"out_degree\": 90, \"count\": 502, \"label\": \"count\"}, {\"out_degree\": 91, \"count\": 449, \"label\": \"count\"}, {\"out_degree\": 92, \"count\": 412, \"label\": \"count\"}, {\"out_degree\": 93, \"count\": 364, \"label\": \"count\"}, {\"out_degree\": 94, \"count\": 454, \"label\": \"count\"}, {\"out_degree\": 95, \"count\": 382, \"label\": \"count\"}, {\"out_degree\": 96, \"count\": 354, \"label\": \"count\"}, {\"out_degree\": 97, \"count\": 382, \"label\": \"count\"}, {\"out_degree\": 98, \"count\": 306, \"label\": \"count\"}, {\"out_degree\": 99, \"count\": 262, \"label\": \"count\"}, {\"out_degree\": 100, \"count\": 349, \"label\": \"count\"}, {\"out_degree\": 101, \"count\": 357, \"label\": \"count\"}, {\"out_degree\": 102, \"count\": 224, \"label\": \"count\"}, {\"out_degree\": 103, \"count\": 206, \"label\": \"count\"}, {\"out_degree\": 104, \"count\": 434, \"label\": \"count\"}, {\"out_degree\": 105, \"count\": 207, \"label\": \"count\"}, {\"out_degree\": 106, \"count\": 395, \"label\": \"count\"}, {\"out_degree\": 107, \"count\": 179, \"label\": \"count\"}, {\"out_degree\": 108, \"count\": 299, \"label\": \"count\"}, {\"out_degree\": 109, \"count\": 179, \"label\": \"count\"}, {\"out_degree\": 110, \"count\": 178, \"label\": \"count\"}, {\"out_degree\": 111, \"count\": 159, \"label\": \"count\"}, {\"out_degree\": 112, \"count\": 255, \"label\": \"count\"}, {\"out_degree\": 113, \"count\": 367, \"label\": \"count\"}, {\"out_degree\": 114, \"count\": 162, \"label\": \"count\"}, {\"out_degree\": 115, \"count\": 150, \"label\": \"count\"}, {\"out_degree\": 116, \"count\": 148, \"label\": \"count\"}, {\"out_degree\": 117, \"count\": 138, \"label\": \"count\"}, {\"out_degree\": 118, \"count\": 145, \"label\": \"count\"}, {\"out_degree\": 119, \"count\": 240, \"label\": \"count\"}, {\"out_degree\": 120, \"count\": 253, \"label\": \"count\"}, {\"out_degree\": 121, \"count\": 122, \"label\": \"count\"}, {\"out_degree\": 122, \"count\": 120, \"label\": \"count\"}, {\"out_degree\": 123, \"count\": 236, \"label\": \"count\"}, {\"out_degree\": 124, \"count\": 111, \"label\": \"count\"}, {\"out_degree\": 125, \"count\": 130, \"label\": \"count\"}, {\"out_degree\": 126, \"count\": 104, \"label\": \"count\"}, {\"out_degree\": 127, \"count\": 97, \"label\": \"count\"}, {\"out_degree\": 128, \"count\": 197, \"label\": \"count\"}, {\"out_degree\": 129, \"count\": 96, \"label\": \"count\"}, {\"out_degree\": 130, \"count\": 204, \"label\": \"count\"}, {\"out_degree\": 131, \"count\": 217, \"label\": \"count\"}, {\"out_degree\": 132, \"count\": 197, \"label\": \"count\"}, {\"out_degree\": 133, \"count\": 224, \"label\": \"count\"}, {\"out_degree\": 134, \"count\": 208, \"label\": \"count\"}, {\"out_degree\": 135, \"count\": 207, \"label\": \"count\"}, {\"out_degree\": 136, \"count\": 58, \"label\": \"count\"}, {\"out_degree\": 137, \"count\": 74, \"label\": \"count\"}, {\"out_degree\": 138, \"count\": 197, \"label\": \"count\"}, {\"out_degree\": 139, \"count\": 80, \"label\": \"count\"}, {\"out_degree\": 140, \"count\": 72, \"label\": \"count\"}, {\"out_degree\": 141, \"count\": 68, \"label\": \"count\"}, {\"out_degree\": 142, \"count\": 87, \"label\": \"count\"}, {\"out_degree\": 143, \"count\": 48, \"label\": \"count\"}, {\"out_degree\": 144, \"count\": 60, \"label\": \"count\"}, {\"out_degree\": 145, \"count\": 200, \"label\": \"count\"}, {\"out_degree\": 146, \"count\": 54, \"label\": \"count\"}, {\"out_degree\": 147, \"count\": 48, \"label\": \"count\"}, {\"out_degree\": 148, \"count\": 57, \"label\": \"count\"}, {\"out_degree\": 149, \"count\": 192, \"label\": \"count\"}, {\"out_degree\": 150, \"count\": 208, \"label\": \"count\"}, {\"out_degree\": 151, \"count\": 59, \"label\": \"count\"}, {\"out_degree\": 152, \"count\": 57, \"label\": \"count\"}, {\"out_degree\": 153, \"count\": 59, \"label\": \"count\"}, {\"out_degree\": 154, \"count\": 53, \"label\": \"count\"}, {\"out_degree\": 155, \"count\": 50, \"label\": \"count\"}, {\"out_degree\": 156, \"count\": 45, \"label\": \"count\"}, {\"out_degree\": 157, \"count\": 45, \"label\": \"count\"}, {\"out_degree\": 158, \"count\": 45, \"label\": \"count\"}, {\"out_degree\": 159, \"count\": 40, \"label\": \"count\"}, {\"out_degree\": 160, \"count\": 36, \"label\": \"count\"}, {\"out_degree\": 161, \"count\": 293, \"label\": \"count\"}, {\"out_degree\": 162, \"count\": 65, \"label\": \"count\"}, {\"out_degree\": 163, \"count\": 30, \"label\": \"count\"}, {\"out_degree\": 164, \"count\": 44, \"label\": \"count\"}, {\"out_degree\": 165, \"count\": 54, \"label\": \"count\"}, {\"out_degree\": 166, \"count\": 45, \"label\": \"count\"}, {\"out_degree\": 167, \"count\": 50, \"label\": \"count\"}, {\"out_degree\": 168, \"count\": 37, \"label\": \"count\"}, {\"out_degree\": 169, \"count\": 33, \"label\": \"count\"}, {\"out_degree\": 170, \"count\": 31, \"label\": \"count\"}, {\"out_degree\": 171, \"count\": 182, \"label\": \"count\"}, {\"out_degree\": 172, \"count\": 38, \"label\": \"count\"}, {\"out_degree\": 173, \"count\": 46, \"label\": \"count\"}, {\"out_degree\": 174, \"count\": 30, \"label\": \"count\"}, {\"out_degree\": 175, \"count\": 33, \"label\": \"count\"}, {\"out_degree\": 176, \"count\": 187, \"label\": \"count\"}, {\"out_degree\": 177, \"count\": 29, \"label\": \"count\"}, {\"out_degree\": 178, \"count\": 24, \"label\": \"count\"}, {\"out_degree\": 179, \"count\": 31, \"label\": \"count\"}, {\"out_degree\": 180, \"count\": 199, \"label\": \"count\"}, {\"out_degree\": 181, \"count\": 24, \"label\": \"count\"}, {\"out_degree\": 182, \"count\": 24, \"label\": \"count\"}, {\"out_degree\": 183, \"count\": 24, \"label\": \"count\"}, {\"out_degree\": 184, \"count\": 29, \"label\": \"count\"}, {\"out_degree\": 185, \"count\": 17, \"label\": \"count\"}, {\"out_degree\": 186, \"count\": 27, \"label\": \"count\"}, {\"out_degree\": 187, \"count\": 19, \"label\": \"count\"}, {\"out_degree\": 188, \"count\": 18, \"label\": \"count\"}, {\"out_degree\": 189, \"count\": 23, \"label\": \"count\"}, {\"out_degree\": 190, \"count\": 205, \"label\": \"count\"}, {\"out_degree\": 191, \"count\": 18, \"label\": \"count\"}, {\"out_degree\": 192, \"count\": 39, \"label\": \"count\"}, {\"out_degree\": 193, \"count\": 26, \"label\": \"count\"}, {\"out_degree\": 194, \"count\": 15, \"label\": \"count\"}, {\"out_degree\": 195, \"count\": 12, \"label\": \"count\"}, {\"out_degree\": 196, \"count\": 16, \"label\": \"count\"}, {\"out_degree\": 197, \"count\": 22, \"label\": \"count\"}, {\"out_degree\": 198, \"count\": 21, \"label\": \"count\"}, {\"out_degree\": 199, \"count\": 18, \"label\": \"count\"}, {\"out_degree\": 200, \"count\": 18, \"label\": \"count\"}, {\"out_degree\": 201, \"count\": 24, \"label\": \"count\"}, {\"out_degree\": 202, \"count\": 13, \"label\": \"count\"}, {\"out_degree\": 203, \"count\": 13, \"label\": \"count\"}, {\"out_degree\": 204, \"count\": 19, \"label\": \"count\"}, {\"out_degree\": 205, \"count\": 209, \"label\": \"count\"}, {\"out_degree\": 206, \"count\": 15, \"label\": \"count\"}, {\"out_degree\": 207, \"count\": 208, \"label\": \"count\"}, {\"out_degree\": 208, \"count\": 15, \"label\": \"count\"}, {\"out_degree\": 209, \"count\": 17, \"label\": \"count\"}, {\"out_degree\": 210, \"count\": 12, \"label\": \"count\"}, {\"out_degree\": 211, \"count\": 18, \"label\": \"count\"}, {\"out_degree\": 212, \"count\": 10, \"label\": \"count\"}, {\"out_degree\": 213, \"count\": 211, \"label\": \"count\"}, {\"out_degree\": 214, \"count\": 19, \"label\": \"count\"}, {\"out_degree\": 215, \"count\": 17, \"label\": \"count\"}, {\"out_degree\": 216, \"count\": 225, \"label\": \"count\"}, {\"out_degree\": 217, \"count\": 21, \"label\": \"count\"}, {\"out_degree\": 218, \"count\": 14, \"label\": \"count\"}, {\"out_degree\": 219, \"count\": 17, \"label\": \"count\"}, {\"out_degree\": 220, \"count\": 220, \"label\": \"count\"}, {\"out_degree\": 221, \"count\": 14, \"label\": \"count\"}, {\"out_degree\": 222, \"count\": 16, \"label\": \"count\"}, {\"out_degree\": 223, \"count\": 19, \"label\": \"count\"}, {\"out_degree\": 224, \"count\": 21, \"label\": \"count\"}, {\"out_degree\": 225, \"count\": 9, \"label\": \"count\"}, {\"out_degree\": 226, \"count\": 11, \"label\": \"count\"}, {\"out_degree\": 227, \"count\": 16, \"label\": \"count\"}, {\"out_degree\": 228, \"count\": 8, \"label\": \"count\"}, {\"out_degree\": 229, \"count\": 12, \"label\": \"count\"}, {\"out_degree\": 230, \"count\": 12, \"label\": \"count\"}, {\"out_degree\": 231, \"count\": 17, \"label\": \"count\"}, {\"out_degree\": 232, \"count\": 14, \"label\": \"count\"}, {\"out_degree\": 233, \"count\": 20, \"label\": \"count\"}, {\"out_degree\": 234, \"count\": 11, \"label\": \"count\"}, {\"out_degree\": 235, \"count\": 10, \"label\": \"count\"}, {\"out_degree\": 236, \"count\": 238, \"label\": \"count\"}, {\"out_degree\": 237, \"count\": 15, \"label\": \"count\"}, {\"out_degree\": 238, \"count\": 12, \"label\": \"count\"}, {\"out_degree\": 239, \"count\": 12, \"label\": \"count\"}, {\"out_degree\": 240, \"count\": 12, \"label\": \"count\"}, {\"out_degree\": 241, \"count\": 12, \"label\": \"count\"}, {\"out_degree\": 242, \"count\": 13, \"label\": \"count\"}, {\"out_degree\": 243, \"count\": 10, \"label\": \"count\"}, {\"out_degree\": 244, \"count\": 7, \"label\": \"count\"}, {\"out_degree\": 245, \"count\": 472, \"label\": \"count\"}, {\"out_degree\": 246, \"count\": 12, \"label\": \"count\"}, {\"out_degree\": 247, \"count\": 7, \"label\": \"count\"}, {\"out_degree\": 248, \"count\": 4, \"label\": \"count\"}, {\"out_degree\": 249, \"count\": 20, \"label\": \"count\"}, {\"out_degree\": 250, \"count\": 14, \"label\": \"count\"}, {\"out_degree\": 251, \"count\": 7, \"label\": \"count\"}, {\"out_degree\": 252, \"count\": 6, \"label\": \"count\"}, {\"out_degree\": 253, \"count\": 9, \"label\": \"count\"}, {\"out_degree\": 254, \"count\": 5, \"label\": \"count\"}, {\"out_degree\": 255, \"count\": 16, \"label\": \"count\"}, {\"out_degree\": 256, \"count\": 5, \"label\": \"count\"}, {\"out_degree\": 257, \"count\": 11, \"label\": \"count\"}, {\"out_degree\": 258, \"count\": 11, \"label\": \"count\"}, {\"out_degree\": 259, \"count\": 6, \"label\": \"count\"}, {\"out_degree\": 260, \"count\": 8, \"label\": \"count\"}, {\"out_degree\": 261, \"count\": 6, \"label\": \"count\"}, {\"out_degree\": 262, \"count\": 10, \"label\": \"count\"}, {\"out_degree\": 263, \"count\": 12, \"label\": \"count\"}, {\"out_degree\": 264, \"count\": 6, \"label\": \"count\"}, {\"out_degree\": 265, \"count\": 9, \"label\": \"count\"}, {\"out_degree\": 266, \"count\": 7, \"label\": \"count\"}, {\"out_degree\": 267, \"count\": 14, \"label\": \"count\"}, {\"out_degree\": 268, \"count\": 10, \"label\": \"count\"}, {\"out_degree\": 269, \"count\": 12, \"label\": \"count\"}, {\"out_degree\": 270, \"count\": 11, \"label\": \"count\"}, {\"out_degree\": 271, \"count\": 7, \"label\": \"count\"}, {\"out_degree\": 272, \"count\": 4, \"label\": \"count\"}, {\"out_degree\": 273, \"count\": 9, \"label\": \"count\"}, {\"out_degree\": 274, \"count\": 11, \"label\": \"count\"}, {\"out_degree\": 275, \"count\": 10, \"label\": \"count\"}, {\"out_degree\": 276, \"count\": 10, \"label\": \"count\"}, {\"out_degree\": 277, \"count\": 12, \"label\": \"count\"}, {\"out_degree\": 278, \"count\": 10, \"label\": \"count\"}, {\"out_degree\": 279, \"count\": 8, \"label\": \"count\"}, {\"out_degree\": 280, \"count\": 6, \"label\": \"count\"}, {\"out_degree\": 281, \"count\": 12, \"label\": \"count\"}, {\"out_degree\": 282, \"count\": 28, \"label\": \"count\"}, {\"out_degree\": 283, \"count\": 12, \"label\": \"count\"}, {\"out_degree\": 284, \"count\": 14, \"label\": \"count\"}, {\"out_degree\": 285, \"count\": 3, \"label\": \"count\"}, {\"out_degree\": 286, \"count\": 253, \"label\": \"count\"}, {\"out_degree\": 287, \"count\": 287, \"label\": \"count\"}, {\"out_degree\": 288, \"count\": 16, \"label\": \"count\"}, {\"out_degree\": 289, \"count\": 4, \"label\": \"count\"}, {\"out_degree\": 290, \"count\": 291, \"label\": \"count\"}, {\"out_degree\": 291, \"count\": 291, \"label\": \"count\"}, {\"out_degree\": 292, \"count\": 19, \"label\": \"count\"}, {\"out_degree\": 293, \"count\": 33, \"label\": \"count\"}, {\"out_degree\": 294, \"count\": 18, \"label\": \"count\"}, {\"out_degree\": 295, \"count\": 13, \"label\": \"count\"}, {\"out_degree\": 296, \"count\": 12, \"label\": \"count\"}, {\"out_degree\": 297, \"count\": 14, \"label\": \"count\"}, {\"out_degree\": 298, \"count\": 11, \"label\": \"count\"}, {\"out_degree\": 299, \"count\": 13, \"label\": \"count\"}, {\"out_degree\": 300, \"count\": 7, \"label\": \"count\"}, {\"out_degree\": 301, \"count\": 10, \"label\": \"count\"}, {\"out_degree\": 302, \"count\": 4, \"label\": \"count\"}, {\"out_degree\": 303, \"count\": 300, \"label\": \"count\"}, {\"out_degree\": 304, \"count\": 10, \"label\": \"count\"}, {\"out_degree\": 305, \"count\": 12, \"label\": \"count\"}, {\"out_degree\": 306, \"count\": 304, \"label\": \"count\"}, {\"out_degree\": 307, \"count\": 6, \"label\": \"count\"}, {\"out_degree\": 308, \"count\": 4, \"label\": \"count\"}, {\"out_degree\": 309, \"count\": 304, \"label\": \"count\"}, {\"out_degree\": 310, \"count\": 10, \"label\": \"count\"}, {\"out_degree\": 311, \"count\": 1, \"label\": \"count\"}, {\"out_degree\": 312, \"count\": 2, \"label\": \"count\"}, {\"out_degree\": 313, \"count\": 6, \"label\": \"count\"}, {\"out_degree\": 314, \"count\": 4, \"label\": \"count\"}, {\"out_degree\": 315, \"count\": 7, \"label\": \"count\"}, {\"out_degree\": 316, \"count\": 2, \"label\": \"count\"}, {\"out_degree\": 317, \"count\": 8, \"label\": \"count\"}, {\"out_degree\": 318, \"count\": 6, \"label\": \"count\"}, {\"out_degree\": 319, \"count\": 3, \"label\": \"count\"}, {\"out_degree\": 320, \"count\": 251, \"label\": \"count\"}, {\"out_degree\": 321, \"count\": 5, \"label\": \"count\"}, {\"out_degree\": 322, \"count\": 2, \"label\": \"count\"}, {\"out_degree\": 323, \"count\": 3, \"label\": \"count\"}, {\"out_degree\": 324, \"count\": 3, \"label\": \"count\"}, {\"out_degree\": 325, \"count\": 5, \"label\": \"count\"}, {\"out_degree\": 326, \"count\": 1, \"label\": \"count\"}, {\"out_degree\": 327, \"count\": 5, \"label\": \"count\"}, {\"out_degree\": 328, \"count\": 5, \"label\": \"count\"}, {\"out_degree\": 329, \"count\": 4, \"label\": \"count\"}, {\"out_degree\": 330, \"count\": 1, \"label\": \"count\"}, {\"out_degree\": 332, \"count\": 5, \"label\": \"count\"}, {\"out_degree\": 333, \"count\": 4, \"label\": \"count\"}, {\"out_degree\": 334, \"count\": 6, \"label\": \"count\"}, {\"out_degree\": 335, \"count\": 335, \"label\": \"count\"}, {\"out_degree\": 336, \"count\": 4, \"label\": \"count\"}, {\"out_degree\": 337, \"count\": 6, \"label\": \"count\"}, {\"out_degree\": 338, \"count\": 7, \"label\": \"count\"}, {\"out_degree\": 339, \"count\": 63, \"label\": \"count\"}, {\"out_degree\": 340, \"count\": 4, \"label\": \"count\"}, {\"out_degree\": 341, \"count\": 2, \"label\": \"count\"}, {\"out_degree\": 342, \"count\": 4, \"label\": \"count\"}, {\"out_degree\": 343, \"count\": 5, \"label\": \"count\"}, {\"out_degree\": 344, \"count\": 339, \"label\": \"count\"}, {\"out_degree\": 345, \"count\": 6, \"label\": \"count\"}, {\"out_degree\": 346, \"count\": 4, \"label\": \"count\"}, {\"out_degree\": 347, \"count\": 4, \"label\": \"count\"}, {\"out_degree\": 348, \"count\": 4, \"label\": \"count\"}, {\"out_degree\": 349, \"count\": 2, \"label\": \"count\"}, {\"out_degree\": 350, \"count\": 4, \"label\": \"count\"}, {\"out_degree\": 351, \"count\": 4, \"label\": \"count\"}, {\"out_degree\": 352, \"count\": 2, \"label\": \"count\"}, {\"out_degree\": 353, \"count\": 3, \"label\": \"count\"}, {\"out_degree\": 354, \"count\": 5, \"label\": \"count\"}, {\"out_degree\": 355, \"count\": 5, \"label\": \"count\"}, {\"out_degree\": 356, \"count\": 5, \"label\": \"count\"}, {\"out_degree\": 357, \"count\": 3, \"label\": \"count\"}, {\"out_degree\": 358, \"count\": 4, \"label\": \"count\"}, {\"out_degree\": 359, \"count\": 1, \"label\": \"count\"}, {\"out_degree\": 360, \"count\": 4, \"label\": \"count\"}, {\"out_degree\": 361, \"count\": 2, \"label\": \"count\"}, {\"out_degree\": 362, \"count\": 2, \"label\": \"count\"}, {\"out_degree\": 363, \"count\": 2, \"label\": \"count\"}, {\"out_degree\": 364, \"count\": 3, \"label\": \"count\"}, {\"out_degree\": 365, \"count\": 1, \"label\": \"count\"}, {\"out_degree\": 367, \"count\": 2, \"label\": \"count\"}, {\"out_degree\": 368, \"count\": 1, \"label\": \"count\"}, {\"out_degree\": 369, \"count\": 4, \"label\": \"count\"}, {\"out_degree\": 370, \"count\": 3, \"label\": \"count\"}, {\"out_degree\": 371, \"count\": 7, \"label\": \"count\"}, {\"out_degree\": 372, \"count\": 3, \"label\": \"count\"}, {\"out_degree\": 373, \"count\": 7, \"label\": \"count\"}, {\"out_degree\": 375, \"count\": 2, \"label\": \"count\"}, {\"out_degree\": 376, \"count\": 2, \"label\": \"count\"}, {\"out_degree\": 377, \"count\": 4, \"label\": \"count\"}, {\"out_degree\": 378, \"count\": 3, \"label\": \"count\"}, {\"out_degree\": 379, \"count\": 3, \"label\": \"count\"}, {\"out_degree\": 380, \"count\": 1, \"label\": \"count\"}, {\"out_degree\": 381, \"count\": 4, \"label\": \"count\"}, {\"out_degree\": 382, \"count\": 3, \"label\": \"count\"}, {\"out_degree\": 383, \"count\": 6, \"label\": \"count\"}, {\"out_degree\": 384, \"count\": 4, \"label\": \"count\"}, {\"out_degree\": 385, \"count\": 3, \"label\": \"count\"}, {\"out_degree\": 386, \"count\": 4, \"label\": \"count\"}, {\"out_degree\": 387, \"count\": 3, \"label\": \"count\"}, {\"out_degree\": 388, \"count\": 5, \"label\": \"count\"}, {\"out_degree\": 389, \"count\": 3, \"label\": \"count\"}, {\"out_degree\": 390, \"count\": 2, \"label\": \"count\"}, {\"out_degree\": 391, \"count\": 2, \"label\": \"count\"}, {\"out_degree\": 392, \"count\": 1, \"label\": \"count\"}, {\"out_degree\": 393, \"count\": 3, \"label\": \"count\"}, {\"out_degree\": 394, \"count\": 2, \"label\": \"count\"}, {\"out_degree\": 395, \"count\": 4, \"label\": \"count\"}, {\"out_degree\": 396, \"count\": 3, \"label\": \"count\"}, {\"out_degree\": 397, \"count\": 1, \"label\": \"count\"}, {\"out_degree\": 398, \"count\": 1, \"label\": \"count\"}, {\"out_degree\": 399, \"count\": 1, \"label\": \"count\"}, {\"out_degree\": 400, \"count\": 2, \"label\": \"count\"}, {\"out_degree\": 401, \"count\": 3, \"label\": \"count\"}, {\"out_degree\": 402, \"count\": 4, \"label\": \"count\"}, {\"out_degree\": 403, \"count\": 1, \"label\": \"count\"}, {\"out_degree\": 404, \"count\": 1, \"label\": \"count\"}, {\"out_degree\": 405, \"count\": 4, \"label\": \"count\"}, {\"out_degree\": 406, \"count\": 4, \"label\": \"count\"}, {\"out_degree\": 407, \"count\": 7, \"label\": \"count\"}, {\"out_degree\": 408, \"count\": 1, \"label\": \"count\"}, {\"out_degree\": 409, \"count\": 2, \"label\": \"count\"}, {\"out_degree\": 410, \"count\": 1, \"label\": \"count\"}, {\"out_degree\": 411, \"count\": 2, \"label\": \"count\"}, {\"out_degree\": 412, \"count\": 3, \"label\": \"count\"}, {\"out_degree\": 413, \"count\": 2, \"label\": \"count\"}, {\"out_degree\": 414, \"count\": 2, \"label\": \"count\"}, {\"out_degree\": 415, \"count\": 1, \"label\": \"count\"}, {\"out_degree\": 416, \"count\": 1, \"label\": \"count\"}, {\"out_degree\": 417, \"count\": 2, \"label\": \"count\"}, {\"out_degree\": 418, \"count\": 411, \"label\": \"count\"}, {\"out_degree\": 419, \"count\": 2, \"label\": \"count\"}, {\"out_degree\": 422, \"count\": 4, \"label\": \"count\"}, {\"out_degree\": 423, \"count\": 2, \"label\": \"count\"}, {\"out_degree\": 425, \"count\": 3, \"label\": \"count\"}, {\"out_degree\": 426, \"count\": 4, \"label\": \"count\"}, {\"out_degree\": 427, \"count\": 3, \"label\": \"count\"}, {\"out_degree\": 428, \"count\": 4, \"label\": \"count\"}, {\"out_degree\": 429, \"count\": 1, \"label\": \"count\"}, {\"out_degree\": 430, \"count\": 2, \"label\": \"count\"}, {\"out_degree\": 431, \"count\": 6, \"label\": \"count\"}, {\"out_degree\": 433, \"count\": 1, \"label\": \"count\"}, {\"out_degree\": 434, \"count\": 1, \"label\": \"count\"}, {\"out_degree\": 435, \"count\": 1, \"label\": \"count\"}, {\"out_degree\": 436, \"count\": 1, \"label\": \"count\"}, {\"out_degree\": 437, \"count\": 4, \"label\": \"count\"}, {\"out_degree\": 438, \"count\": 3, \"label\": \"count\"}, {\"out_degree\": 439, \"count\": 2, \"label\": \"count\"}, {\"out_degree\": 440, \"count\": 3, \"label\": \"count\"}, {\"out_degree\": 441, \"count\": 2, \"label\": \"count\"}, {\"out_degree\": 442, \"count\": 1, \"label\": \"count\"}, {\"out_degree\": 443, \"count\": 3, \"label\": \"count\"}, {\"out_degree\": 446, \"count\": 1, \"label\": \"count\"}, {\"out_degree\": 447, \"count\": 1, \"label\": \"count\"}, {\"out_degree\": 448, \"count\": 1, \"label\": \"count\"}, {\"out_degree\": 449, \"count\": 2, \"label\": \"count\"}, {\"out_degree\": 450, \"count\": 2, \"label\": \"count\"}, {\"out_degree\": 451, \"count\": 1, \"label\": \"count\"}, {\"out_degree\": 452, \"count\": 1, \"label\": \"count\"}, {\"out_degree\": 453, \"count\": 5, \"label\": \"count\"}, {\"out_degree\": 454, \"count\": 3, \"label\": \"count\"}, {\"out_degree\": 456, \"count\": 2, \"label\": \"count\"}, {\"out_degree\": 457, \"count\": 1, \"label\": \"count\"}, {\"out_degree\": 459, \"count\": 2, \"label\": \"count\"}, {\"out_degree\": 460, \"count\": 4, \"label\": \"count\"}, {\"out_degree\": 461, \"count\": 3, \"label\": \"count\"}, {\"out_degree\": 462, \"count\": 2, \"label\": \"count\"}, {\"out_degree\": 463, \"count\": 1, \"label\": \"count\"}, {\"out_degree\": 464, \"count\": 1, \"label\": \"count\"}, {\"out_degree\": 467, \"count\": 1, \"label\": \"count\"}, {\"out_degree\": 468, \"count\": 2, \"label\": \"count\"}, {\"out_degree\": 469, \"count\": 2, \"label\": \"count\"}, {\"out_degree\": 470, \"count\": 1, \"label\": \"count\"}, {\"out_degree\": 471, \"count\": 3, \"label\": \"count\"}, {\"out_degree\": 472, \"count\": 2, \"label\": \"count\"}, {\"out_degree\": 474, \"count\": 3, \"label\": \"count\"}, {\"out_degree\": 475, \"count\": 2, \"label\": \"count\"}, {\"out_degree\": 477, \"count\": 4, \"label\": \"count\"}, {\"out_degree\": 481, \"count\": 1, \"label\": \"count\"}, {\"out_degree\": 482, \"count\": 1, \"label\": \"count\"}, {\"out_degree\": 483, \"count\": 1, \"label\": \"count\"}, {\"out_degree\": 485, \"count\": 1, \"label\": \"count\"}, {\"out_degree\": 486, \"count\": 1, \"label\": \"count\"}, {\"out_degree\": 487, \"count\": 1, \"label\": \"count\"}, {\"out_degree\": 488, \"count\": 4, \"label\": \"count\"}, {\"out_degree\": 489, \"count\": 2, \"label\": \"count\"}, {\"out_degree\": 490, \"count\": 3, \"label\": \"count\"}, {\"out_degree\": 491, \"count\": 1, \"label\": \"count\"}, {\"out_degree\": 492, \"count\": 2, \"label\": \"count\"}, {\"out_degree\": 493, \"count\": 1, \"label\": \"count\"}, {\"out_degree\": 494, \"count\": 2, \"label\": \"count\"}, {\"out_degree\": 495, \"count\": 3, \"label\": \"count\"}, {\"out_degree\": 496, \"count\": 3, \"label\": \"count\"}, {\"out_degree\": 497, \"count\": 1, \"label\": \"count\"}, {\"out_degree\": 498, \"count\": 2, \"label\": \"count\"}, {\"out_degree\": 499, \"count\": 3, \"label\": \"count\"}, {\"out_degree\": 500, \"count\": 1, \"label\": \"count\"}, {\"out_degree\": 501, \"count\": 2, \"label\": \"count\"}, {\"out_degree\": 502, \"count\": 4, \"label\": \"count\"}, {\"out_degree\": 503, \"count\": 1, \"label\": \"count\"}, {\"out_degree\": 504, \"count\": 1, \"label\": \"count\"}, {\"out_degree\": 505, \"count\": 1, \"label\": \"count\"}, {\"out_degree\": 506, \"count\": 5, \"label\": \"count\"}, {\"out_degree\": 507, \"count\": 1, \"label\": \"count\"}, {\"out_degree\": 509, \"count\": 2, \"label\": \"count\"}, {\"out_degree\": 511, \"count\": 2, \"label\": \"count\"}, {\"out_degree\": 512, \"count\": 1, \"label\": \"count\"}, {\"out_degree\": 513, \"count\": 1, \"label\": \"count\"}, {\"out_degree\": 515, \"count\": 1, \"label\": \"count\"}, {\"out_degree\": 518, \"count\": 1, \"label\": \"count\"}, {\"out_degree\": 519, \"count\": 2, \"label\": \"count\"}, {\"out_degree\": 520, \"count\": 1, \"label\": \"count\"}, {\"out_degree\": 521, \"count\": 2, \"label\": \"count\"}, {\"out_degree\": 524, \"count\": 1, \"label\": \"count\"}, {\"out_degree\": 525, \"count\": 1, \"label\": \"count\"}, {\"out_degree\": 528, \"count\": 3, \"label\": \"count\"}, {\"out_degree\": 530, \"count\": 2, \"label\": \"count\"}, {\"out_degree\": 532, \"count\": 2, \"label\": \"count\"}, {\"out_degree\": 533, \"count\": 2, \"label\": \"count\"}, {\"out_degree\": 534, \"count\": 3, \"label\": \"count\"}, {\"out_degree\": 535, \"count\": 1, \"label\": \"count\"}, {\"out_degree\": 537, \"count\": 1, \"label\": \"count\"}, {\"out_degree\": 538, \"count\": 2, \"label\": \"count\"}, {\"out_degree\": 539, \"count\": 1, \"label\": \"count\"}, {\"out_degree\": 542, \"count\": 1, \"label\": \"count\"}, {\"out_degree\": 543, \"count\": 1, \"label\": \"count\"}, {\"out_degree\": 544, \"count\": 4, \"label\": \"count\"}, {\"out_degree\": 546, \"count\": 2, \"label\": \"count\"}, {\"out_degree\": 548, \"count\": 2, \"label\": \"count\"}, {\"out_degree\": 550, \"count\": 542, \"label\": \"count\"}, {\"out_degree\": 553, \"count\": 1, \"label\": \"count\"}, {\"out_degree\": 554, \"count\": 1, \"label\": \"count\"}, {\"out_degree\": 556, \"count\": 1, \"label\": \"count\"}, {\"out_degree\": 557, \"count\": 1, \"label\": \"count\"}, {\"out_degree\": 559, \"count\": 1, \"label\": \"count\"}, {\"out_degree\": 560, \"count\": 2, \"label\": \"count\"}, {\"out_degree\": 561, \"count\": 4, \"label\": \"count\"}, {\"out_degree\": 562, \"count\": 1, \"label\": \"count\"}, {\"out_degree\": 565, \"count\": 1, \"label\": \"count\"}, {\"out_degree\": 566, \"count\": 2, \"label\": \"count\"}, {\"out_degree\": 567, \"count\": 2, \"label\": \"count\"}, {\"out_degree\": 569, \"count\": 1, \"label\": \"count\"}, {\"out_degree\": 571, \"count\": 1, \"label\": \"count\"}, {\"out_degree\": 572, \"count\": 2, \"label\": \"count\"}, {\"out_degree\": 574, \"count\": 1, \"label\": \"count\"}, {\"out_degree\": 576, \"count\": 1, \"label\": \"count\"}, {\"out_degree\": 577, \"count\": 2, \"label\": \"count\"}, {\"out_degree\": 582, \"count\": 1, \"label\": \"count\"}, {\"out_degree\": 583, \"count\": 1, \"label\": \"count\"}, {\"out_degree\": 586, \"count\": 2, \"label\": \"count\"}, {\"out_degree\": 590, \"count\": 1, \"label\": \"count\"}, {\"out_degree\": 594, \"count\": 1, \"label\": \"count\"}, {\"out_degree\": 598, \"count\": 1, \"label\": \"count\"}, {\"out_degree\": 600, \"count\": 1, \"label\": \"count\"}, {\"out_degree\": 604, \"count\": 1, \"label\": \"count\"}, {\"out_degree\": 605, \"count\": 1, \"label\": \"count\"}, {\"out_degree\": 608, \"count\": 2, \"label\": \"count\"}, {\"out_degree\": 609, \"count\": 2, \"label\": \"count\"}, {\"out_degree\": 614, \"count\": 3, \"label\": \"count\"}, {\"out_degree\": 616, \"count\": 2, \"label\": \"count\"}, {\"out_degree\": 617, \"count\": 2, \"label\": \"count\"}, {\"out_degree\": 618, \"count\": 1, \"label\": \"count\"}, {\"out_degree\": 619, \"count\": 1, \"label\": \"count\"}, {\"out_degree\": 620, \"count\": 1, \"label\": \"count\"}, {\"out_degree\": 621, \"count\": 1, \"label\": \"count\"}, {\"out_degree\": 625, \"count\": 2, \"label\": \"count\"}, {\"out_degree\": 627, \"count\": 1, \"label\": \"count\"}, {\"out_degree\": 629, \"count\": 1, \"label\": \"count\"}, {\"out_degree\": 632, \"count\": 1, \"label\": \"count\"}, {\"out_degree\": 633, \"count\": 1, \"label\": \"count\"}, {\"out_degree\": 635, \"count\": 1, \"label\": \"count\"}, {\"out_degree\": 636, \"count\": 1, \"label\": \"count\"}, {\"out_degree\": 640, \"count\": 2, \"label\": \"count\"}, {\"out_degree\": 641, \"count\": 1, \"label\": \"count\"}, {\"out_degree\": 642, \"count\": 1, \"label\": \"count\"}, {\"out_degree\": 643, \"count\": 1, \"label\": \"count\"}, {\"out_degree\": 645, \"count\": 1, \"label\": \"count\"}, {\"out_degree\": 647, \"count\": 1, \"label\": \"count\"}, {\"out_degree\": 648, \"count\": 5, \"label\": \"count\"}, {\"out_degree\": 651, \"count\": 1, \"label\": \"count\"}, {\"out_degree\": 653, \"count\": 1, \"label\": \"count\"}, {\"out_degree\": 655, \"count\": 1, \"label\": \"count\"}, {\"out_degree\": 660, \"count\": 1, \"label\": \"count\"}, {\"out_degree\": 661, \"count\": 1, \"label\": \"count\"}, {\"out_degree\": 664, \"count\": 1, \"label\": \"count\"}, {\"out_degree\": 670, \"count\": 1, \"label\": \"count\"}, {\"out_degree\": 676, \"count\": 1, \"label\": \"count\"}, {\"out_degree\": 678, \"count\": 1, \"label\": \"count\"}, {\"out_degree\": 682, \"count\": 2, \"label\": \"count\"}, {\"out_degree\": 683, \"count\": 1, \"label\": \"count\"}, {\"out_degree\": 687, \"count\": 1, \"label\": \"count\"}, {\"out_degree\": 688, \"count\": 1, \"label\": \"count\"}, {\"out_degree\": 690, \"count\": 2, \"label\": \"count\"}, {\"out_degree\": 692, \"count\": 2, \"label\": \"count\"}, {\"out_degree\": 694, \"count\": 1, \"label\": \"count\"}, {\"out_degree\": 695, \"count\": 1, \"label\": \"count\"}, {\"out_degree\": 700, \"count\": 1, \"label\": \"count\"}, {\"out_degree\": 703, \"count\": 1, \"label\": \"count\"}, {\"out_degree\": 704, \"count\": 1, \"label\": \"count\"}, {\"out_degree\": 705, \"count\": 1, \"label\": \"count\"}, {\"out_degree\": 707, \"count\": 1, \"label\": \"count\"}, {\"out_degree\": 709, \"count\": 1, \"label\": \"count\"}, {\"out_degree\": 711, \"count\": 1, \"label\": \"count\"}, {\"out_degree\": 712, \"count\": 1, \"label\": \"count\"}, {\"out_degree\": 714, \"count\": 1, \"label\": \"count\"}, {\"out_degree\": 718, \"count\": 2, \"label\": \"count\"}, {\"out_degree\": 719, \"count\": 2, \"label\": \"count\"}, {\"out_degree\": 723, \"count\": 1, \"label\": \"count\"}, {\"out_degree\": 726, \"count\": 1, \"label\": \"count\"}, {\"out_degree\": 731, \"count\": 1, \"label\": \"count\"}, {\"out_degree\": 734, \"count\": 2, \"label\": \"count\"}, {\"out_degree\": 742, \"count\": 1, \"label\": \"count\"}, {\"out_degree\": 744, \"count\": 1, \"label\": \"count\"}, {\"out_degree\": 746, \"count\": 1, \"label\": \"count\"}, {\"out_degree\": 748, \"count\": 1, \"label\": \"count\"}, {\"out_degree\": 751, \"count\": 1, \"label\": \"count\"}, {\"out_degree\": 753, \"count\": 1, \"label\": \"count\"}, {\"out_degree\": 756, \"count\": 1, \"label\": \"count\"}, {\"out_degree\": 767, \"count\": 1, \"label\": \"count\"}, {\"out_degree\": 769, \"count\": 1, \"label\": \"count\"}, {\"out_degree\": 772, \"count\": 2, \"label\": \"count\"}, {\"out_degree\": 780, \"count\": 1, \"label\": \"count\"}, {\"out_degree\": 783, \"count\": 1, \"label\": \"count\"}, {\"out_degree\": 791, \"count\": 1, \"label\": \"count\"}, {\"out_degree\": 804, \"count\": 2, \"label\": \"count\"}, {\"out_degree\": 805, \"count\": 1, \"label\": \"count\"}, {\"out_degree\": 808, \"count\": 1, \"label\": \"count\"}, {\"out_degree\": 811, \"count\": 1, \"label\": \"count\"}, {\"out_degree\": 813, \"count\": 1, \"label\": \"count\"}, {\"out_degree\": 815, \"count\": 1, \"label\": \"count\"}, {\"out_degree\": 823, \"count\": 1, \"label\": \"count\"}, {\"out_degree\": 825, \"count\": 1, \"label\": \"count\"}, {\"out_degree\": 830, \"count\": 1, \"label\": \"count\"}, {\"out_degree\": 837, \"count\": 1, \"label\": \"count\"}, {\"out_degree\": 838, \"count\": 1, \"label\": \"count\"}, {\"out_degree\": 857, \"count\": 1, \"label\": \"count\"}, {\"out_degree\": 859, \"count\": 1, \"label\": \"count\"}, {\"out_degree\": 862, \"count\": 1, \"label\": \"count\"}, {\"out_degree\": 864, \"count\": 1, \"label\": \"count\"}, {\"out_degree\": 868, \"count\": 1, \"label\": \"count\"}, {\"out_degree\": 875, \"count\": 1, \"label\": \"count\"}, {\"out_degree\": 876, \"count\": 1, \"label\": \"count\"}, {\"out_degree\": 878, \"count\": 1, \"label\": \"count\"}, {\"out_degree\": 881, \"count\": 1, \"label\": \"count\"}, {\"out_degree\": 882, \"count\": 1, \"label\": \"count\"}, {\"out_degree\": 883, \"count\": 1, \"label\": \"count\"}, {\"out_degree\": 884, \"count\": 1, \"label\": \"count\"}, {\"out_degree\": 890, \"count\": 1, \"label\": \"count\"}, {\"out_degree\": 892, \"count\": 1, \"label\": \"count\"}, {\"out_degree\": 898, \"count\": 1, \"label\": \"count\"}, {\"out_degree\": 900, \"count\": 1, \"label\": \"count\"}, {\"out_degree\": 901, \"count\": 1, \"label\": \"count\"}, {\"out_degree\": 909, \"count\": 1, \"label\": \"count\"}, {\"out_degree\": 912, \"count\": 1, \"label\": \"count\"}, {\"out_degree\": 915, \"count\": 1, \"label\": \"count\"}, {\"out_degree\": 924, \"count\": 1, \"label\": \"count\"}, {\"out_degree\": 935, \"count\": 1, \"label\": \"count\"}, {\"out_degree\": 949, \"count\": 1, \"label\": \"count\"}, {\"out_degree\": 952, \"count\": 1, \"label\": \"count\"}, {\"out_degree\": 957, \"count\": 2, \"label\": \"count\"}, {\"out_degree\": 968, \"count\": 1, \"label\": \"count\"}, {\"out_degree\": 970, \"count\": 1, \"label\": \"count\"}, {\"out_degree\": 989, \"count\": 1, \"label\": \"count\"}, {\"out_degree\": 993, \"count\": 2, \"label\": \"count\"}, {\"out_degree\": 1001, \"count\": 5, \"label\": \"count\"}, {\"out_degree\": 1012, \"count\": 1, \"label\": \"count\"}, {\"out_degree\": 1020, \"count\": 1, \"label\": \"count\"}, {\"out_degree\": 1021, \"count\": 1, \"label\": \"count\"}, {\"out_degree\": 1045, \"count\": 1, \"label\": \"count\"}, {\"out_degree\": 1068, \"count\": 1, \"label\": \"count\"}, {\"out_degree\": 1096, \"count\": 1, \"label\": \"count\"}, {\"out_degree\": 1108, \"count\": 1, \"label\": \"count\"}, {\"out_degree\": 1121, \"count\": 1, \"label\": \"count\"}, {\"out_degree\": 1123, \"count\": 1, \"label\": \"count\"}, {\"out_degree\": 1125, \"count\": 1, \"label\": \"count\"}, {\"out_degree\": 1152, \"count\": 1, \"label\": \"count\"}, {\"out_degree\": 1154, \"count\": 1, \"label\": \"count\"}, {\"out_degree\": 1157, \"count\": 1, \"label\": \"count\"}, {\"out_degree\": 1166, \"count\": 1, \"label\": \"count\"}, {\"out_degree\": 1193, \"count\": 1, \"label\": \"count\"}, {\"out_degree\": 1196, \"count\": 1, \"label\": \"count\"}, {\"out_degree\": 1199, \"count\": 1, \"label\": \"count\"}, {\"out_degree\": 1200, \"count\": 1, \"label\": \"count\"}, {\"out_degree\": 1244, \"count\": 1, \"label\": \"count\"}, {\"out_degree\": 1276, \"count\": 1, \"label\": \"count\"}, {\"out_degree\": 1291, \"count\": 1, \"label\": \"count\"}, {\"out_degree\": 1293, \"count\": 1, \"label\": \"count\"}, {\"out_degree\": 1352, \"count\": 1, \"label\": \"count\"}, {\"out_degree\": 1357, \"count\": 2, \"label\": \"count\"}, {\"out_degree\": 1388, \"count\": 1, \"label\": \"count\"}, {\"out_degree\": 1394, \"count\": 1, \"label\": \"count\"}, {\"out_degree\": 1402, \"count\": 1, \"label\": \"count\"}, {\"out_degree\": 1418, \"count\": 1, \"label\": \"count\"}, {\"out_degree\": 1439, \"count\": 1, \"label\": \"count\"}, {\"out_degree\": 1440, \"count\": 1, \"label\": \"count\"}, {\"out_degree\": 1467, \"count\": 1, \"label\": \"count\"}, {\"out_degree\": 1539, \"count\": 1, \"label\": \"count\"}, {\"out_degree\": 1593, \"count\": 1, \"label\": \"count\"}, {\"out_degree\": 1987, \"count\": 1, \"label\": \"count\"}, {\"out_degree\": 1991, \"count\": 1, \"label\": \"count\"}, {\"out_degree\": 2072, \"count\": 1, \"label\": \"count\"}, {\"out_degree\": 2988, \"count\": 1, \"label\": \"count\"}, {\"out_degree\": 5350, \"count\": 1, \"label\": \"count\"}]}}, {\"mode\": \"vega-lite\"});\n",
       "</script>"
      ],
      "text/plain": [
       "alt.Chart(...)"
      ]
     },
     "execution_count": 31,
     "metadata": {},
     "output_type": "execute_result"
    }
   ],
   "source": [
    "data = pd.read_csv(\n",
    "    os.environ[\"OUT\"] + \"/statistics.out_degree.distribution.tsv\", sep=\"\\t\"\n",
    ")\n",
    "\n",
    "alt.Chart(data).mark_circle(size=60).encode(\n",
    "    x=alt.X(\"out_degree\", scale=alt.Scale(type=\"log\")),\n",
    "    y=alt.Y(\"count\", scale=alt.Scale(type=\"log\"), title=\"count of nodes\"),\n",
    "    tooltip=[\"out_degree\", \"count\"],\n",
    ").interactive().properties(title=\"Distribution of Out Degree\")"
   ]
  },
  {
   "cell_type": "markdown",
   "id": "2526daa8",
   "metadata": {
    "papermill": {
     "duration": null,
     "end_time": null,
     "exception": null,
     "start_time": null,
     "status": "completed"
    },
    "tags": []
   },
   "source": [
    "## Summary of results"
   ]
  },
  {
   "cell_type": "code",
   "execution_count": 32,
   "id": "b2163226",
   "metadata": {
    "papermill": {
     "duration": null,
     "end_time": null,
     "exception": null,
     "start_time": null,
     "status": "completed"
    },
    "tags": []
   },
   "outputs": [
    {
     "name": "stdout",
     "output_type": "stream",
     "text": [
      "-rw-r--r-- 1 hrathod div22  84M Apr 19 10:07 /data/hrathod/output/subset/novartis/useful_files/aliases.en.tsv.gz\r\n",
      "-rw-r--r-- 1 hrathod div22 6.8G Apr 20 03:42 /data/hrathod/output/subset/novartis/useful_files/derived.isastar.tsv.gz\r\n",
      "-rw-r--r-- 1 hrathod div22 108M Apr 19 15:49 /data/hrathod/output/subset/novartis/useful_files/derived.isa.tsv.gz\r\n",
      "-rw-r--r-- 1 hrathod div22 478M Apr 19 14:45 /data/hrathod/output/subset/novartis/useful_files/derived.P279star.tsv.gz\r\n",
      "-rw-r--r-- 1 hrathod div22  36M Apr 19 10:20 /data/hrathod/output/subset/novartis/useful_files/derived.P279.tsv.gz\r\n",
      "-rw-r--r-- 1 hrathod div22 6.8G Apr 20 10:15 /data/hrathod/output/subset/novartis/useful_files/derived.P31P279star.tsv.gz\r\n",
      "-rw-r--r-- 1 hrathod div22 395M Apr 19 10:19 /data/hrathod/output/subset/novartis/useful_files/derived.P31.tsv.gz\r\n",
      "-rw-r--r-- 1 hrathod div22 160M Apr 19 10:11 /data/hrathod/output/subset/novartis/useful_files/descriptions.en.tsv.gz\r\n",
      "-rw-r--r-- 1 hrathod div22 358M Apr 19 10:06 /data/hrathod/output/subset/novartis/useful_files/labels.en.tsv.gz\r\n",
      "-rw-r--r-- 1 hrathod div22 183M Apr 21 20:41 /data/hrathod/output/subset/novartis/useful_files/metadata.in_degree.tsv.gz\r\n",
      "-rw-r--r-- 1 hrathod div22 211M Apr 20 12:07 /data/hrathod/output/subset/novartis/useful_files/metadata.out_degree.tsv.gz\r\n",
      "-rw-r--r-- 1 hrathod div22 812M Apr 20 11:08 /data/hrathod/output/subset/novartis/useful_files/metadata.pagerank.directed.tsv.gz\r\n",
      "-rw-r--r-- 1 hrathod div22 905M Apr 20 11:51 /data/hrathod/output/subset/novartis/useful_files/metadata.pagerank.undirected.tsv.gz\r\n",
      "-rw-r--r-- 1 hrathod div22  54K Apr 21 20:42 /data/hrathod/output/subset/novartis/useful_files/statistics.in_degree.distribution.tsv\r\n",
      "-rw-r--r-- 1 hrathod div22 8.6K Apr 21 20:43 /data/hrathod/output/subset/novartis/useful_files/statistics.out_degree.distribution.tsv\r\n"
     ]
    }
   ],
   "source": [
    "!ls -lh $OUT/*"
   ]
  },
  {
   "cell_type": "markdown",
   "id": "a2530bb0",
   "metadata": {
    "papermill": {
     "duration": null,
     "end_time": null,
     "exception": null,
     "start_time": null,
     "status": "completed"
    },
    "tags": []
   },
   "source": [
    "Highest page rank"
   ]
  },
  {
   "cell_type": "code",
   "execution_count": 25,
   "id": "2541807d",
   "metadata": {
    "papermill": {
     "duration": null,
     "end_time": null,
     "exception": null,
     "start_time": null,
     "status": "completed"
    },
    "scrolled": true,
    "tags": []
   },
   "outputs": [
    {
     "name": "stdout",
     "output_type": "stream",
     "text": [
      "[2021-04-22 19:37:20 sqlstore]: IMPORT graph directly into table graph_16 from /data/hrathod/output/subset/novartis/useful_files/metadata.pagerank.undirected.tsv.gz ...\n",
      "[2021-04-22 19:40:29 query]: SQL Translation:\n",
      "---------------------------------------------\n",
      "  SELECT DISTINCT graph_16_c1.\"node1\", graph_9_c2.\"node2\" \"_aLias.label\", graph_16_c1.\"node2\" \"_aLias.undirected_page_rank\"\n",
      "     FROM graph_16 AS graph_16_c1, graph_9 AS graph_9_c2\n",
      "     WHERE graph_16_c1.\"label\"=?\n",
      "     AND graph_9_c2.\"label\"=?\n",
      "     AND graph_16_c1.\"node1\"=graph_9_c2.\"node1\"\n",
      "     ORDER BY graph_16_c1.\"node2\" DESC\n",
      "     LIMIT ?\n",
      "  PARAS: ['undirected_pagerank', 'label', 10]\n",
      "---------------------------------------------\n",
      "[2021-04-22 19:40:29 sqlstore]: CREATE INDEX on table graph_16 column node1 ...\n",
      "[2021-04-22 19:41:48 sqlstore]: ANALYZE INDEX on table graph_16 column node1 ...\n",
      "[2021-04-22 19:41:55 sqlstore]: CREATE INDEX on table graph_16 column label ...\n",
      "[2021-04-22 19:43:34 sqlstore]: ANALYZE INDEX on table graph_16 column label ...\n",
      "node1\tlabel\tundirected_page_rank\n",
      "Q27593211\t'hsa-miR-3198'@en\t9.999947631949789e-08\n",
      "Q96970794\t'dispersed gene family protein 1 (DGF-1, pseudogene), putative'@en\t9.999879844009658e-09\n",
      "Q3490262\t'AA tree'@en\t9.999876709704571e-09\n",
      "Q6458886\t'LK201'@en\t9.999853474473092e-09\n",
      "Q24772317\t'TasA anchoring/assembly protein'@en\t9.999808502716973e-09\n",
      "Q17088566\t'Social determinants of health in Mexico'@en\t9.99980748064005e-09\n",
      "Q3312821\t'Antheia'@en\t9.99979603999018e-09\n",
      "Q64640207\t'An International Survey on Hypoglycaemia Among Insulin-treated Patients With Diabetes'@en\t9.999785125229698e-08\n",
      "Q65383822\t'Efficacy an Safety of Volinanserin on Sleep Maintenance Insomnia With a Sub-study on Stable Type II Diabetes Mellitus'@en\t9.999776953854199e-08\n",
      "Q33885785\t'Cross Slip'@en\t9.999723543484236e-09\n"
     ]
    }
   ],
   "source": [
    "if compute_pagerank:\n",
    "    !$kypher -i $OUT/metadata.pagerank.undirected.tsv.gz -i \"$LABELS\" \\\n",
    "    --match 'pagerank: (n1)-[:undirected_pagerank]->(page_rank), label: (n1)-[:label]->(label)' \\\n",
    "    --return 'distinct n1, label as label, page_rank as undirected_page_rank' \\\n",
    "    --order-by 'page_rank desc' \\\n",
    "    --limit 10 "
   ]
  },
  {
   "cell_type": "code",
   "execution_count": 34,
   "id": "92b7ee54",
   "metadata": {
    "papermill": {
     "duration": null,
     "end_time": null,
     "exception": null,
     "start_time": null,
     "status": "completed"
    },
    "tags": []
   },
   "outputs": [
    {
     "name": "stdout",
     "output_type": "stream",
     "text": [
      "-rw-r--r-- 1 hrathod div22 376402061 Apr 19 00:51 /data/hrathod/output/subset/novartis/parts/labels.en.tsv.gz\r\n"
     ]
    }
   ],
   "source": [
    "!ls -l $LABELS"
   ]
  },
  {
   "cell_type": "code",
   "execution_count": null,
   "id": "e4eb7de3",
   "metadata": {
    "papermill": {
     "duration": null,
     "end_time": null,
     "exception": null,
     "start_time": null,
     "status": "completed"
    },
    "tags": []
   },
   "outputs": [],
   "source": []
  }
 ],
 "metadata": {
  "kernelspec": {
   "display_name": "Python 3",
   "language": "python",
   "name": "python3"
  },
  "language_info": {
   "codemirror_mode": {
    "name": "ipython",
    "version": 3
   },
   "file_extension": ".py",
   "mimetype": "text/x-python",
   "name": "python",
   "nbconvert_exporter": "python",
   "pygments_lexer": "ipython3",
   "version": "3.8.5"
  },
  "papermill": {
   "default_parameters": {},
   "duration": 10.458681,
   "end_time": "2021-04-19T05:29:18.867640",
   "environment_variables": {},
   "exception": null,
   "input_path": "/data/hrathod/final_data/kgtk/use-cases/Wikidata Useful Files.ipynb",
   "output_path": "/data/hrathod/output/subset/temp.novartis/Wikidata Useful Files Out.ipynb",
   "parameters": {
    "cache_path": "/data/hrathod/output/subset/novartis/temp.useful_files",
    "compute_pagerank": true,
    "delete_database": false,
    "languages": "en",
    "output_folder": "useful_files",
    "output_path": "/data/hrathod/output/subset/novartis",
    "temp_folder": "temp.useful_files",
    "wiki_root_folder": "/data/hrathod/output/subset/novartis/parts/"
   },
   "start_time": "2021-04-19T05:29:08.408959",
   "version": "2.3.3"
  }
 },
 "nbformat": 4,
 "nbformat_minor": 5
}

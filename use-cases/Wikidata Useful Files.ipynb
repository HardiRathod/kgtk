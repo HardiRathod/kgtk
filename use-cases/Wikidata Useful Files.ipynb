{
 "cells": [
  {
   "cell_type": "markdown",
   "id": "afc18a27",
   "metadata": {
    "papermill": {
     "duration": 0.096509,
     "end_time": "2021-04-08T20:38:14.676190",
     "exception": false,
     "start_time": "2021-04-08T20:38:14.579681",
     "status": "completed"
    },
    "tags": []
   },
   "source": [
    "# Generating Useful Wikidata Files\n",
    "\n",
    "This notebook generates files that contain derived data that is useful in many applications. The input to the notebook is the full Wikidata or a subset of Wikidata. It also works for arbutrary KGs as long as they follow the representation requirements of Wikidata:\n",
    "\n",
    "- the *instance of* relation is represented using the `P31` property\n",
    "- the *subclass of* relation is represented using the `P279` property\n",
    "- all properties declare a datatype, and the data types must be one of the datatypes in Wikidata.\n",
    "\n",
    "Inputs:\n",
    "\n",
    "- `claims_file`: contains all statements, which consist of edges `node1/label/node2` where `label` is a property in Wikidata (e.g., sitelinks, labels, aliases and description are not in the claims file.\n",
    "- `item_file`: the subset of the `claims_file` consistin of edges for property of data type `wikibase-item`\n",
    "- `label_file`, `alias_file` and `description_file` containing labels, aliases and descriptions. It is assume that these files contain the labels, aliases and descriptions of all nodes appearing in the claims file. Users may provide these files for specific languages only.\n",
    "\n",
    "Outputs:\n",
    "\n",
    "- **Instance of (P31):** `derived.P31.tsv.gz` contains all the `instance of (P31)` edges present in the claims file.\n",
    "- **Subclass of (P279):** `derived.P279.tsv.gz` contains all the `subclass of (P279)` edges present in the claims file.\n",
    "- **Is A (isa):** `derived.isa.tsv.gz` contains edges `node`isa/node2` where either `node1/P31/node2` or `node1/P279/node2`\n",
    "- **Closure of subclass of (P279star):** `derived.P279star.tsv.gz` contains edges `node1/P279star/node2` where `node2` is reachable from `node1` via zero or more hops using the `P279` property. Note that for example, `Q44/P279star/Q44`. An example when this file is useful is when you want to find all the instance of a class, including instances of subclasses of the given class.\n",
    "- **In/out degrees:** `metadata.out_degree.tsv.gz` contains the out degree of every node, and `metadata.in_degree.tsv.gz` contains the in degree of every node.\n",
    "- **Pagerank:** outputs page rank on the directed graph in `metadata.pagerank.directed.tsv.gz` and page rank of the directed graph in `metadata.pagerank.undirected.tsv.gz`."
   ]
  },
  {
   "cell_type": "markdown",
   "id": "7886095c",
   "metadata": {
    "papermill": {
     "duration": 0.055319,
     "end_time": "2021-04-08T20:38:14.798062",
     "exception": false,
     "start_time": "2021-04-08T20:38:14.742743",
     "status": "completed"
    },
    "tags": []
   },
   "source": [
    "### Batch Invocation\n",
    "Example batch command. The second argument is a notebook where the output will be stored. You can load it to see progress.\n",
    "\n",
    "```\n",
    "papermill Wikidata\\ Useful\\ Files.ipynb useful-files.out.ipynb \\\n",
    "-p claims_file /Volumes/GoogleDrive/Shared\\ drives/KGTK-public-graphs/wikidata-20200803-v4/all.tsv.gz \\\n",
    "-p label_file /Volumes/GoogleDrive/Shared\\ drives/KGTK-public-graphs/wikidata-20200803-v4/part.label.en.tsv.gz \\\n",
    "-p item_file /Volumes/GoogleDrive/Shared\\ drives/KGTK-public-graphs/wikidata-20200803-v4/part.wikibase-item.tsv.gz \\\n",
    "-p property_item_file = /Volumes/GoogleDrive/Shared\\ drives/KGTK-public-graphs/wikidata-20200803-v4/part.property.wikibase-item.tsv.gz \\\n",
    "-p output_path <local folder> \\\n",
    "-p output_folder useful_files_v4 \\\n",
    "-p temp_folder temp.useful_files_v4 \\\n",
    "-p delete_database no \n",
    "-p languages es,ru,zh-cn\n",
    "```"
   ]
  },
  {
   "cell_type": "code",
   "execution_count": 1,
   "id": "24a2fb4d",
   "metadata": {
    "execution": {
     "iopub.execute_input": "2021-04-08T20:38:14.916144Z",
     "iopub.status.busy": "2021-04-08T20:38:14.915608Z",
     "iopub.status.idle": "2021-04-08T20:38:14.919925Z",
     "shell.execute_reply": "2021-04-08T20:38:14.919417Z"
    },
    "papermill": {
     "duration": 0.068015,
     "end_time": "2021-04-08T20:38:14.920081",
     "exception": false,
     "start_time": "2021-04-08T20:38:14.852066",
     "status": "completed"
    },
    "tags": [
     "parameters"
    ]
   },
   "outputs": [],
   "source": [
    "# Parameters\n",
    "\n",
    "# Folder on local machine where to create the output and temporary folders\n",
    "output_path = \"/data/amandeep/wikidata-20210215\"\n",
    "\n",
    "# The names of the output and temporary folders\n",
    "output_folder = \"useful_wikidata_files\"\n",
    "temp_folder = \"temp.useful_wikidata_files\"\n",
    "\n",
    "# The location of input files\n",
    "wiki_root_folder = \"/data/amandeep/wikidata-20210215/\"\n",
    "claims_file = \"claims.tsv.gz\"\n",
    "label_file = \"labels.en.tsv.gz\"\n",
    "alias_file = \"aliases.en.tsv.gz\"\n",
    "description_file = \"descriptions.en.tsv.gz\"\n",
    "item_file = \"claims.wikibase-item.tsv.gz\"\n",
    "\n",
    "label_all = \"labels.tsv.gz\"\n",
    "alias_all = \"aliases.tsv.gz\"\n",
    "description_all = \"descriptions.tsv.gz\"\n",
    "\n",
    "# Location of the cache database for kypher\n",
    "cache_path = \"/data/amandeep/wikidata-20210215/temp.useful_wikidata_files\"\n",
    "\n",
    "# Whether to delete the cache database\n",
    "delete_database = False\n",
    "\n",
    "# Whether to compute pagerank as it may not run on the laptop\n",
    "compute_pagerank = True\n",
    "languages = 'ru,es,zh-cn,de,it,nl,pl,fr,pt,sv'"
   ]
  },
  {
   "cell_type": "code",
   "execution_count": 2,
   "id": "51dfb687",
   "metadata": {
    "execution": {
     "iopub.execute_input": "2021-04-08T20:38:15.034323Z",
     "iopub.status.busy": "2021-04-08T20:38:15.033789Z",
     "iopub.status.idle": "2021-04-08T20:38:15.037460Z",
     "shell.execute_reply": "2021-04-08T20:38:15.036950Z"
    },
    "papermill": {
     "duration": 0.062979,
     "end_time": "2021-04-08T20:38:15.037582",
     "exception": false,
     "start_time": "2021-04-08T20:38:14.974603",
     "status": "completed"
    },
    "tags": [
     "injected-parameters"
    ]
   },
   "outputs": [],
   "source": [
    "# Parameters\n",
    "output_path = \"/nas/home/hrathod/output/for_novartis/novartis\"\n",
    "output_folder = \"useful_files\"\n",
    "temp_folder = \"temp.useful_files\"\n",
    "wiki_root_folder = \"/nas/home/hrathod/output/for_novartis/novartis/parts/\"\n",
    "cache_path = \"/nas/home/hrathod/output/for_novartis/novartis/temp.useful_files\"\n",
    "languages = \"en\"\n",
    "compute_pagerank = True\n",
    "delete_database = False\n"
   ]
  },
  {
   "cell_type": "code",
   "execution_count": 3,
   "id": "fcdd5d89",
   "metadata": {
    "execution": {
     "iopub.execute_input": "2021-04-08T20:38:15.150248Z",
     "iopub.status.busy": "2021-04-08T20:38:15.149737Z",
     "iopub.status.idle": "2021-04-08T20:38:15.153027Z",
     "shell.execute_reply": "2021-04-08T20:38:15.153442Z"
    },
    "papermill": {
     "duration": 0.062156,
     "end_time": "2021-04-08T20:38:15.153586",
     "exception": false,
     "start_time": "2021-04-08T20:38:15.091430",
     "status": "completed"
    },
    "tags": []
   },
   "outputs": [],
   "source": [
    "languages = languages.split(',')"
   ]
  },
  {
   "cell_type": "code",
   "execution_count": 4,
   "id": "8f21be6d",
   "metadata": {
    "execution": {
     "iopub.execute_input": "2021-04-08T20:38:15.266344Z",
     "iopub.status.busy": "2021-04-08T20:38:15.265836Z",
     "iopub.status.idle": "2021-04-08T20:38:17.145216Z",
     "shell.execute_reply": "2021-04-08T20:38:17.146225Z"
    },
    "papermill": {
     "duration": 1.939629,
     "end_time": "2021-04-08T20:38:17.146625",
     "exception": false,
     "start_time": "2021-04-08T20:38:15.206996",
     "status": "completed"
    },
    "tags": []
   },
   "outputs": [],
   "source": [
    "import io\n",
    "import os\n",
    "import subprocess\n",
    "import sys\n",
    "\n",
    "import numpy as np\n",
    "import pandas as pd\n",
    "\n",
    "import altair as alt"
   ]
  },
  {
   "cell_type": "markdown",
   "id": "5245e99b",
   "metadata": {
    "papermill": {
     "duration": 0.065445,
     "end_time": "2021-04-08T20:38:17.310109",
     "exception": false,
     "start_time": "2021-04-08T20:38:17.244664",
     "status": "completed"
    },
    "tags": []
   },
   "source": [
    "## Set up environment and folders to store the files\n",
    "\n",
    "- `OUT` folder where the output files go\n",
    "- `TEMP` folder to keep temporary files , including the database\n",
    "- `kgtk` shortcut to invoke the kgtk software\n",
    "- `kypher` shortcut to invoke `kgtk query with the cache database\n",
    "- `CLAIMS` the `all.tsv` file of wikidata that contains all edges except label/alias/description\n",
    "- `LABELS` the file with the English labels\n",
    "- `ITEMS` the wikibase-item file (currently does not include node1 that are properties so for now we need the net file\n",
    "- `STORE` location of the cache file"
   ]
  },
  {
   "cell_type": "code",
   "execution_count": 5,
   "id": "d5ce9c9b",
   "metadata": {
    "execution": {
     "iopub.execute_input": "2021-04-08T20:38:17.431308Z",
     "iopub.status.busy": "2021-04-08T20:38:17.430778Z",
     "iopub.status.idle": "2021-04-08T20:38:17.434384Z",
     "shell.execute_reply": "2021-04-08T20:38:17.433883Z"
    },
    "papermill": {
     "duration": 0.070015,
     "end_time": "2021-04-08T20:38:17.434513",
     "exception": false,
     "start_time": "2021-04-08T20:38:17.364498",
     "status": "completed"
    },
    "tags": []
   },
   "outputs": [],
   "source": [
    "if cache_path:\n",
    "    os.environ['STORE'] = \"{}/wikidata.sqlite3.db\".format(cache_path)\n",
    "else:\n",
    "    os.environ['STORE'] = \"{}/{}/wikidata.sqlite3.db\".format(output_path, temp_folder)\n",
    "os.environ['OUT'] = \"{}/{}\".format(output_path, output_folder)\n",
    "os.environ['TEMP'] = \"{}/{}\".format(output_path, temp_folder)\n",
    "os.environ['kgtk'] = \"kgtk\"\n",
    "os.environ['kgtk'] = \"kgtk --debug\"\n",
    "os.environ['kypher'] = \"kgtk --debug query --graph-cache \" + os.environ['STORE']\n",
    "os.environ['CLAIMS'] = wiki_root_folder + claims_file\n",
    "os.environ['LABELS'] = wiki_root_folder + label_file\n",
    "os.environ['ALIASES'] = wiki_root_folder + alias_file\n",
    "os.environ['DESCRIPTIONS'] = wiki_root_folder + description_file\n",
    "os.environ['ITEMS'] = wiki_root_folder + item_file"
   ]
  },
  {
   "cell_type": "markdown",
   "id": "39c8a0cd",
   "metadata": {
    "papermill": {
     "duration": 0.053289,
     "end_time": "2021-04-08T20:38:17.541907",
     "exception": false,
     "start_time": "2021-04-08T20:38:17.488618",
     "status": "completed"
    },
    "tags": []
   },
   "source": [
    "Echo the variables to see if they are all set correctly"
   ]
  },
  {
   "cell_type": "code",
   "execution_count": 6,
   "id": "70b4d76e",
   "metadata": {
    "execution": {
     "iopub.execute_input": "2021-04-08T20:38:17.690080Z",
     "iopub.status.busy": "2021-04-08T20:38:17.684349Z",
     "iopub.status.idle": "2021-04-08T20:38:19.244781Z",
     "shell.execute_reply": "2021-04-08T20:38:19.245764Z"
    },
    "papermill": {
     "duration": 1.649869,
     "end_time": "2021-04-08T20:38:19.246163",
     "exception": false,
     "start_time": "2021-04-08T20:38:17.596294",
     "status": "completed"
    },
    "tags": []
   },
   "outputs": [
    {
     "name": "stdout",
     "output_type": "stream",
     "text": [
      "/nas/home/hrathod/output/for_novartis/novartis/useful_files\n",
      "/nas/home/hrathod/output/for_novartis/novartis/temp.useful_files\n",
      "kgtk --debug\n",
      "kgtk --debug query --graph-cache /nas/home/hrathod/output/for_novartis/novartis/temp.useful_files/wikidata.sqlite3.db\n",
      "/nas/home/hrathod/output/for_novartis/novartis/parts/claims.tsv.gz\n",
      "/nas/home/hrathod/output/for_novartis/novartis/parts/labels.en.tsv.gz\n",
      "/nas/home/hrathod/output/for_novartis/novartis/parts/aliases.en.tsv.gz\n",
      "/nas/home/hrathod/output/for_novartis/novartis/parts/labels.en.tsv.gz\n",
      "/nas/home/hrathod/output/for_novartis/novartis/parts/descriptions.en.tsv.gz\n",
      "/nas/home/hrathod/output/for_novartis/novartis/temp.useful_files/wikidata.sqlite3.db\n"
     ]
    }
   ],
   "source": [
    "!echo $OUT\n",
    "!echo $TEMP\n",
    "!echo $kgtk\n",
    "!echo $kypher\n",
    "!echo $CLAIMS\n",
    "!echo $LABELS\n",
    "!echo $ALIASES\n",
    "!echo $LABELS\n",
    "!echo $DESCRIPTIONS\n",
    "!echo $STORE\n",
    "!alias col=\"column -t -s $'\\t' \""
   ]
  },
  {
   "cell_type": "markdown",
   "id": "faa9dded",
   "metadata": {
    "papermill": {
     "duration": 0.068418,
     "end_time": "2021-04-08T20:38:19.439092",
     "exception": false,
     "start_time": "2021-04-08T20:38:19.370674",
     "status": "completed"
    },
    "tags": []
   },
   "source": [
    "Go to the output directory and create the subfolders for the output files and the temporary files"
   ]
  },
  {
   "cell_type": "code",
   "execution_count": 7,
   "id": "0eba7981",
   "metadata": {
    "execution": {
     "iopub.execute_input": "2021-04-08T20:38:19.620078Z",
     "iopub.status.busy": "2021-04-08T20:38:19.619178Z",
     "iopub.status.idle": "2021-04-08T20:38:19.664382Z",
     "shell.execute_reply": "2021-04-08T20:38:19.665356Z"
    },
    "papermill": {
     "duration": 0.156739,
     "end_time": "2021-04-08T20:38:19.665722",
     "exception": false,
     "start_time": "2021-04-08T20:38:19.508983",
     "status": "completed"
    },
    "tags": []
   },
   "outputs": [
    {
     "name": "stdout",
     "output_type": "stream",
     "text": [
      "/nas/home/hrathod/output/for_novartis/novartis\n"
     ]
    }
   ],
   "source": [
    "cd $output_path"
   ]
  },
  {
   "cell_type": "code",
   "execution_count": 8,
   "id": "95589dbd",
   "metadata": {
    "execution": {
     "iopub.execute_input": "2021-04-08T20:38:19.834844Z",
     "iopub.status.busy": "2021-04-08T20:38:19.834344Z",
     "iopub.status.idle": "2021-04-08T20:38:20.176559Z",
     "shell.execute_reply": "2021-04-08T20:38:20.175508Z"
    },
    "papermill": {
     "duration": 0.413619,
     "end_time": "2021-04-08T20:38:20.176886",
     "exception": false,
     "start_time": "2021-04-08T20:38:19.763267",
     "status": "completed"
    },
    "tags": []
   },
   "outputs": [],
   "source": [
    "!mkdir -p $OUT\n",
    "!mkdir -p $TEMP"
   ]
  },
  {
   "cell_type": "markdown",
   "id": "dc695829",
   "metadata": {
    "papermill": {
     "duration": 0.067938,
     "end_time": "2021-04-08T20:38:20.356333",
     "exception": false,
     "start_time": "2021-04-08T20:38:20.288395",
     "status": "completed"
    },
    "tags": []
   },
   "source": [
    "Clean up the output and temp folders before we start"
   ]
  },
  {
   "cell_type": "code",
   "execution_count": 9,
   "id": "ccddc92b",
   "metadata": {
    "execution": {
     "iopub.execute_input": "2021-04-08T20:38:20.489801Z",
     "iopub.status.busy": "2021-04-08T20:38:20.489304Z",
     "iopub.status.idle": "2021-04-08T20:38:20.493249Z",
     "shell.execute_reply": "2021-04-08T20:38:20.492732Z"
    },
    "papermill": {
     "duration": 0.079903,
     "end_time": "2021-04-08T20:38:20.493377",
     "exception": false,
     "start_time": "2021-04-08T20:38:20.413474",
     "status": "completed"
    },
    "tags": []
   },
   "outputs": [],
   "source": [
    "# !rm $OUT/*.tsv $OUT/*.tsv.gz\n",
    "# !rm $TEMP/*.tsv $TEMP/*.tsv.gz"
   ]
  },
  {
   "cell_type": "code",
   "execution_count": 10,
   "id": "65feaa81",
   "metadata": {
    "execution": {
     "iopub.execute_input": "2021-04-08T20:38:20.615149Z",
     "iopub.status.busy": "2021-04-08T20:38:20.614639Z",
     "iopub.status.idle": "2021-04-08T20:38:20.617741Z",
     "shell.execute_reply": "2021-04-08T20:38:20.618180Z"
    },
    "papermill": {
     "duration": 0.067531,
     "end_time": "2021-04-08T20:38:20.618332",
     "exception": false,
     "start_time": "2021-04-08T20:38:20.550801",
     "status": "completed"
    },
    "tags": []
   },
   "outputs": [],
   "source": [
    "if delete_database:\n",
    "    print(\"Deleteddatabase\") \n",
    "    !rm $STORE"
   ]
  },
  {
   "cell_type": "code",
   "execution_count": 8,
   "id": "bf8d2a93",
   "metadata": {
    "execution": {
     "iopub.execute_input": "2021-04-08T20:38:20.796928Z",
     "iopub.status.busy": "2021-04-08T20:38:20.794578Z",
     "iopub.status.idle": "2021-04-08T20:38:22.030537Z",
     "shell.execute_reply": "2021-04-08T20:38:22.029478Z"
    },
    "papermill": {
     "duration": 1.312906,
     "end_time": "2021-04-08T20:38:22.030868",
     "exception": false,
     "start_time": "2021-04-08T20:38:20.717962",
     "status": "completed"
    },
    "tags": []
   },
   "outputs": [
    {
     "name": "stdout",
     "output_type": "stream",
     "text": [
      "total 14773863\n",
      "-rw-r--r-- 1 hrathod div22   89935660 Apr  8 13:47 aliases.en.tsv.gz\n",
      "-rw-r--r-- 1 hrathod div22 7760608762 Apr  9 01:57 derived.isastar.tsv.gz\n",
      "-rw-r--r-- 1 hrathod div22  117261297 Apr  8 16:54 derived.isa.tsv.gz\n",
      "-rw-r--r-- 1 hrathod div22  500270514 Apr  8 16:06 derived.P279star.tsv.gz\n",
      "-rw-r--r-- 1 hrathod div22   37632946 Apr  8 13:59 derived.P279.tsv.gz\n",
      "-rw-r--r-- 1 hrathod div22 7833861139 Apr  9 19:37 derived.P31P279star.tsv.gz\n",
      "-rw-r--r-- 1 hrathod div22  429838311 Apr  8 13:56 derived.P31.tsv.gz\n",
      "-rw-r--r-- 1 hrathod div22  174388582 Apr  8 13:50 descriptions.en.tsv.gz\n",
      "-rw-r--r-- 1 hrathod div22  389162815 Apr  8 13:46 labels.en.tsv.gz\n",
      "-rw-r--r-- 1 hrathod div22   37158445 Apr 10 07:28 metadata.in_degree.tsv.gz\n",
      "-rw-r--r-- 1 hrathod div22  229821867 Apr 10 01:58 metadata.out_degree.tsv.gz\n",
      "-rw-r--r-- 1 hrathod div22  882646108 Apr  9 23:09 metadata.pagerank.directed.tsv.gz\n",
      "-rw-r--r-- 1 hrathod div22  984042006 Apr 10 01:23 metadata.pagerank.undirected.tsv.gz\n",
      "-rw-r--r-- 1 hrathod div22      54256 Apr 10 07:29 statistics.in_degree.distribution.tsv\n",
      "-rw-r--r-- 1 hrathod div22       8784 Apr 10 07:35 statistics.out_degree.distribution.tsv\n",
      "derived.isastar_1.tsv.gz\t\t  P279.roots.1.tsv.gz\n",
      "derived.P31P279star.gz\t\t\t  P279.roots.2.tsv.gz\n",
      "isa.1.tsv.gz\t\t\t\t  P279.roots.tsv\n",
      "metadata.in_degree.tsv.gz\t\t  P279star.1.tsv.gz\n",
      "metadata.out_degree.tsv.gz\t\t  P279star.2.tsv.gz\n",
      "metadata.pagerank.directed.summary.txt\t  P279star.3.tsv.gz\n",
      "metadata.pagerank.undirected.summary.txt  P31.n2.tsv.gz\n",
      "P279.n1.tsv.gz\t\t\t\t  wikidata.sqlite3.db\n",
      "P279.reachable.tsv.gz\n",
      "-rw-r--r-- 1 hrathod div22 6192684492 Apr  8 04:06 /nas/home/hrathod/output/for_novartis/novartis/parts/claims.tsv.gz\n",
      "-rw-r--r-- 1 hrathod div22 390663548 Apr  8 04:30 /nas/home/hrathod/output/for_novartis/novartis/parts/labels.en.tsv.gz\n",
      "-rw-r--r-- 1 hrathod div22 90469543 Apr  8 04:19 /nas/home/hrathod/output/for_novartis/novartis/parts/aliases.en.tsv.gz\n",
      "-rw-r--r-- 1 hrathod div22 390663548 Apr  8 04:30 /nas/home/hrathod/output/for_novartis/novartis/parts/labels.en.tsv.gz\n",
      "-rw-r--r-- 1 hrathod div22 175243748 Apr  8 04:25 /nas/home/hrathod/output/for_novartis/novartis/parts/descriptions.en.tsv.gz\n",
      "/nas/home/hrathod/output/for_novartis/novartis/temp.useful_files/wikidata.sqlite3.db\n"
     ]
    }
   ],
   "source": [
    "!ls -l $OUT\n",
    "!ls $TEMP\n",
    "!ls -l \"$CLAIMS\"\n",
    "!ls -l \"$LABELS\"\n",
    "!ls -l \"$ALIASES\"\n",
    "!ls -l \"$LABELS\"\n",
    "!ls -l \"$DESCRIPTIONS\"\n",
    "!ls $STORE"
   ]
  },
  {
   "cell_type": "code",
   "execution_count": 12,
   "id": "d695b829",
   "metadata": {
    "execution": {
     "iopub.execute_input": "2021-04-08T20:38:22.236475Z",
     "iopub.status.busy": "2021-04-08T20:38:22.235752Z",
     "iopub.status.idle": "2021-04-08T20:38:22.407970Z",
     "shell.execute_reply": "2021-04-08T20:38:22.407011Z"
    },
    "papermill": {
     "duration": 0.242093,
     "end_time": "2021-04-08T20:38:22.408269",
     "exception": false,
     "start_time": "2021-04-08T20:38:22.166176",
     "status": "completed"
    },
    "tags": []
   },
   "outputs": [
    {
     "name": "stdout",
     "output_type": "stream",
     "text": [
      "id\tnode1\tlabel\tnode2\tnode2;wikidatatype\trank\r\n",
      "P10-P1628-32b85d-7927ece6-0\tP10\tP1628\t\"http://www.w3.org/2006/vcard/ns#Video\" url\tnormal\r\n",
      "P10-P1628-acf60d-b8950832-0\tP10\tP1628\t\"https://schema.org/video\"\turl\tnormal\r\n",
      "P10-P1629-Q34508-bcc39400-0\tP10\tP1629\tQ34508\twikibase-item\tnormal\r\n",
      "P10-P1659-P1651-c4068028-0\tP10\tP1659\tP1651\twikibase-property\tnormal\r\n",
      "P10-P1659-P18-5e4b9c4f-0\tP10\tP1659\tP18\twikibase-property\tnormal\r\n",
      "\r\n",
      "gzip: P10-P1659-P4238-d21d1ac0-0\tP10\tP1659\tP4238\twikibase-property\tnormal\r\n",
      "stdout: Broken pipe\r\n",
      "P10-P1659-P51-86aca4c5-0\tP10\tP1659\tP51\twikibase-property\tnormal\r\n",
      "P10-P1855-Q15075950-7eff6d65-0\tP10\tP1855\tQ15075950\twikibase-item\tnormal\r\n",
      "P10-P1855-Q4504-a69d2c73-0\tP10\tP1855\tQ4504\twikibase-item\tnormal\r\n"
     ]
    }
   ],
   "source": [
    "!zcat < \"$CLAIMS\" | head | col"
   ]
  },
  {
   "cell_type": "markdown",
   "id": "89722a97",
   "metadata": {
    "papermill": {
     "duration": 0.06561,
     "end_time": "2021-04-08T20:38:22.602349",
     "exception": false,
     "start_time": "2021-04-08T20:38:22.536739",
     "status": "completed"
    },
    "tags": []
   },
   "source": [
    "### Preview the input files"
   ]
  },
  {
   "cell_type": "markdown",
   "id": "da7c6b12",
   "metadata": {
    "papermill": {
     "duration": 0.060868,
     "end_time": "2021-04-08T20:38:22.739723",
     "exception": false,
     "start_time": "2021-04-08T20:38:22.678855",
     "status": "completed"
    },
    "tags": []
   },
   "source": [
    "It is always a good practice to peek a the files to make sure the column headings are what we expect"
   ]
  },
  {
   "cell_type": "code",
   "execution_count": 13,
   "id": "99250e70",
   "metadata": {
    "execution": {
     "iopub.execute_input": "2021-04-08T20:38:22.918147Z",
     "iopub.status.busy": "2021-04-08T20:38:22.916247Z",
     "iopub.status.idle": "2021-04-08T20:38:26.863514Z",
     "shell.execute_reply": "2021-04-08T20:38:26.864481Z"
    },
    "papermill": {
     "duration": 4.063307,
     "end_time": "2021-04-08T20:38:26.864839",
     "exception": false,
     "start_time": "2021-04-08T20:38:22.801532",
     "status": "completed"
    },
    "tags": []
   },
   "outputs": [
    {
     "name": "stdout",
     "output_type": "stream",
     "text": [
      "[2021-04-08 13:38:26 query]: SQL Translation:\n",
      "---------------------------------------------\n",
      "  SELECT *\n",
      "     FROM graph_1 AS graph_1_c1\n",
      "     LIMIT ?\n",
      "  PARAS: [10]\n",
      "---------------------------------------------\n",
      "id\tnode1\tlabel\tnode2\tnode2;wikidatatype\trank\n",
      "P10-P1628-32b85d-7927ece6-0\tP10\tP1628\t\"http://www.w3.org/2006/vcard/ns#Video\" url\tnormal\n",
      "P10-P1628-acf60d-b8950832-0\tP10\tP1628\t\"https://schema.org/video\"\turl\tnormal\n",
      "P10-P1629-Q34508-bcc39400-0\tP10\tP1629\tQ34508\twikibase-item\tnormal\n",
      "P10-P1659-P1651-c4068028-0\tP10\tP1659\tP1651\twikibase-property\tnormal\n",
      "P10-P1659-P18-5e4b9c4f-0\tP10\tP1659\tP18\twikibase-property\tnormal\n",
      "P10-P1659-P4238-d21d1ac0-0\tP10\tP1659\tP4238\twikibase-property\tnormal\n",
      "P10-P1659-P51-86aca4c5-0\tP10\tP1659\tP51\twikibase-property\tnormal\n",
      "P10-P1855-Q15075950-7eff6d65-0\tP10\tP1855\tQ15075950\twikibase-item\tnormal\n",
      "P10-P1855-Q4504-a69d2c73-0\tP10\tP1855\tQ4504\twikibase-item\tnormal\n",
      "P10-P1855-Q69063653-c8cdb04c-0\tP10\tP1855\tQ69063653\twikibase-item\tnormal\n"
     ]
    }
   ],
   "source": [
    "!$kypher -i \"$CLAIMS\" --limit 10 | col "
   ]
  },
  {
   "cell_type": "markdown",
   "id": "f1a86cc9",
   "metadata": {
    "papermill": {
     "duration": 0.08008,
     "end_time": "2021-04-08T20:38:27.043058",
     "exception": false,
     "start_time": "2021-04-08T20:38:26.962978",
     "status": "completed"
    },
    "tags": []
   },
   "source": [
    "Force creation of the index on the label column"
   ]
  },
  {
   "cell_type": "code",
   "execution_count": 14,
   "id": "1bef96f5",
   "metadata": {
    "execution": {
     "iopub.execute_input": "2021-04-08T20:38:27.182876Z",
     "iopub.status.busy": "2021-04-08T20:38:27.182126Z",
     "iopub.status.idle": "2021-04-08T20:38:29.602663Z",
     "shell.execute_reply": "2021-04-08T20:38:29.601411Z"
    },
    "papermill": {
     "duration": 2.49581,
     "end_time": "2021-04-08T20:38:29.602993",
     "exception": false,
     "start_time": "2021-04-08T20:38:27.107183",
     "status": "completed"
    },
    "tags": []
   },
   "outputs": [
    {
     "name": "stdout",
     "output_type": "stream",
     "text": [
      "[2021-04-08 13:38:29 query]: SQL Translation:\n",
      "---------------------------------------------\n",
      "  SELECT *\n",
      "     FROM graph_1 AS graph_1_c1\n",
      "     WHERE graph_1_c1.\"label\"=?\n",
      "     LIMIT ?\n",
      "  PARAS: ['P31', 5]\n",
      "---------------------------------------------\n",
      "id                              node1  label  node2      node2;wikidatatype  rank\n",
      "P10-P31-Q18610173-85ef4d24-0    P10    P31    Q18610173  wikibase-item       normal\n",
      "P1000-P31-Q18608871-093affb5-0  P1000  P31    Q18608871  wikibase-item       normal\n",
      "P1001-P31-Q15720608-deeedec9-0  P1001  P31    Q15720608  wikibase-item       normal\n",
      "P1001-P31-Q22984026-8beb0cfe-0  P1001  P31    Q22984026  wikibase-item       normal\n",
      "P1001-P31-Q22997934-1e5b1a96-0  P1001  P31    Q22997934  wikibase-item       normal\n"
     ]
    }
   ],
   "source": [
    "!$kypher -i \"$CLAIMS\" -o - \\\n",
    "--match '(i)-[:P31]->(c)' \\\n",
    "--limit 5 \\\n",
    "| column -t -s $'\\t' "
   ]
  },
  {
   "cell_type": "markdown",
   "id": "811ef8a0",
   "metadata": {
    "papermill": {
     "duration": 0.067864,
     "end_time": "2021-04-08T20:38:29.779986",
     "exception": false,
     "start_time": "2021-04-08T20:38:29.712122",
     "status": "completed"
    },
    "tags": []
   },
   "source": [
    "Force creation of the index on the node2 column"
   ]
  },
  {
   "cell_type": "code",
   "execution_count": 15,
   "id": "b58b302f",
   "metadata": {
    "execution": {
     "iopub.execute_input": "2021-04-08T20:38:29.928483Z",
     "iopub.status.busy": "2021-04-08T20:38:29.927937Z",
     "iopub.status.idle": "2021-04-08T20:38:32.412885Z",
     "shell.execute_reply": "2021-04-08T20:38:32.413860Z"
    },
    "papermill": {
     "duration": 2.565604,
     "end_time": "2021-04-08T20:38:32.414256",
     "exception": false,
     "start_time": "2021-04-08T20:38:29.848652",
     "status": "completed"
    },
    "tags": []
   },
   "outputs": [
    {
     "name": "stdout",
     "output_type": "stream",
     "text": [
      "[2021-04-08 13:38:31 query]: SQL Translation:\n",
      "---------------------------------------------\n",
      "  SELECT *\n",
      "     FROM graph_1 AS graph_1_c1\n",
      "     WHERE graph_1_c1.\"node2\"=?\n",
      "     LIMIT ?\n",
      "  PARAS: ['Q5', 5]\n",
      "---------------------------------------------\n",
      "id                         node1  label  node2  node2;wikidatatype  rank\n",
      "P1424-P1855-Q5-47bdcd17-0  P1424  P1855  Q5     wikibase-item       normal\n",
      "P1552-P1855-Q5-53b667e4-0  P1552  P1855  Q5     wikibase-item       normal\n",
      "P1963-P1855-Q5-1ba43aca-0  P1963  P1855  Q5     wikibase-item       normal\n",
      "P3055-P1629-Q5-fb63cfeb-0  P3055  P1629  Q5     wikibase-item       normal\n",
      "P5869-P1855-Q5-3a19317f-0  P5869  P1855  Q5     wikibase-item       normal\n"
     ]
    }
   ],
   "source": [
    "!$kypher -i \"$CLAIMS\" -o - \\\n",
    "--match '(i)-[r]->(:Q5)' \\\n",
    "--limit 5 \\\n",
    "| column -t -s $'\\t' "
   ]
  },
  {
   "cell_type": "markdown",
   "id": "368322e9",
   "metadata": {
    "papermill": {
     "duration": 0.071605,
     "end_time": "2021-04-08T20:38:32.594277",
     "exception": false,
     "start_time": "2021-04-08T20:38:32.522672",
     "status": "completed"
    },
    "tags": []
   },
   "source": [
    "### Count the number of edges"
   ]
  },
  {
   "cell_type": "markdown",
   "id": "373537fe",
   "metadata": {
    "papermill": {
     "duration": 0.083977,
     "end_time": "2021-04-08T20:38:32.775054",
     "exception": false,
     "start_time": "2021-04-08T20:38:32.691077",
     "status": "completed"
    },
    "tags": []
   },
   "source": [
    "Counting takes a long time"
   ]
  },
  {
   "cell_type": "code",
   "execution_count": 16,
   "id": "91cbe8d4",
   "metadata": {
    "execution": {
     "iopub.execute_input": "2021-04-08T20:38:32.912488Z",
     "iopub.status.busy": "2021-04-08T20:38:32.911968Z",
     "iopub.status.idle": "2021-04-08T20:40:50.413473Z",
     "shell.execute_reply": "2021-04-08T20:40:50.412148Z"
    },
    "papermill": {
     "duration": 137.574773,
     "end_time": "2021-04-08T20:40:50.413797",
     "exception": false,
     "start_time": "2021-04-08T20:38:32.839024",
     "status": "completed"
    },
    "tags": []
   },
   "outputs": [
    {
     "name": "stdout",
     "output_type": "stream",
     "text": [
      "[2021-04-08 13:38:35 query]: SQL Translation:\n",
      "---------------------------------------------\n",
      "  SELECT count(graph_1_c1.\"id\") \"_aLias.count\"\n",
      "     FROM graph_1 AS graph_1_c1\n",
      "     LIMIT ?\n",
      "  PARAS: [10]\n",
      "---------------------------------------------\n",
      "count\n",
      "293898368\n"
     ]
    }
   ],
   "source": [
    "!$kypher -i \"$CLAIMS\" \\\n",
    "--match '()-[r]->()' \\\n",
    "--return 'count(r) as count' \\\n",
    "--limit 10"
   ]
  },
  {
   "cell_type": "markdown",
   "id": "8c8539fe",
   "metadata": {
    "papermill": {
     "duration": 0.091548,
     "end_time": "2021-04-08T20:40:50.621881",
     "exception": false,
     "start_time": "2021-04-08T20:40:50.530333",
     "status": "completed"
    },
    "tags": []
   },
   "source": [
    "### Get labels, aliases and descriptions for other languages"
   ]
  },
  {
   "cell_type": "code",
   "execution_count": 17,
   "id": "36d409c4",
   "metadata": {
    "execution": {
     "iopub.execute_input": "2021-04-08T20:40:50.825917Z",
     "iopub.status.busy": "2021-04-08T20:40:50.822265Z",
     "iopub.status.idle": "2021-04-08T20:46:07.208782Z",
     "shell.execute_reply": "2021-04-08T20:46:07.207671Z"
    },
    "papermill": {
     "duration": 316.493871,
     "end_time": "2021-04-08T20:46:07.209132",
     "exception": false,
     "start_time": "2021-04-08T20:40:50.715261",
     "status": "completed"
    },
    "tags": []
   },
   "outputs": [
    {
     "name": "stdout",
     "output_type": "stream",
     "text": [
      "[2021-04-08 13:40:57 query]: SQL Translation:\r\n",
      "---------------------------------------------\r\n",
      "  SELECT graph_2_c1.\"node1\", graph_2_c1.\"label\", graph_2_c1.\"node2\", graph_2_c1.\"id\"\r\n",
      "     FROM graph_2 AS graph_2_c1\r\n",
      "     WHERE graph_2_c1.\"label\"=?\r\n",
      "     AND (kgtk_lqstring_lang_suffix(graph_2_c1.\"node2\") = ?)\r\n",
      "  PARAS: ['label', 'en']\r\n",
      "---------------------------------------------\r\n"
     ]
    }
   ],
   "source": [
    "for lang in languages:\n",
    "    cmd = f\"kgtk --debug query --graph-cache {os.environ['STORE']} -i {wiki_root_folder}{label_all} -o {output_path}/{output_folder}/labels.{lang}.tsv.gz --match '(n1)-[l:label]->(n2)' --where 'n2.kgtk_lqstring_lang_suffix = \\\"{lang}\\\"' --return 'n1, l.label, n2, l.id' \"\n",
    "    !{cmd}"
   ]
  },
  {
   "cell_type": "code",
   "execution_count": 18,
   "id": "50368f3c",
   "metadata": {
    "execution": {
     "iopub.execute_input": "2021-04-08T20:46:07.480184Z",
     "iopub.status.busy": "2021-04-08T20:46:07.479419Z",
     "iopub.status.idle": "2021-04-08T20:47:18.089911Z",
     "shell.execute_reply": "2021-04-08T20:47:18.088660Z"
    },
    "papermill": {
     "duration": 70.744016,
     "end_time": "2021-04-08T20:47:18.090242",
     "exception": false,
     "start_time": "2021-04-08T20:46:07.346226",
     "status": "completed"
    },
    "tags": []
   },
   "outputs": [
    {
     "name": "stdout",
     "output_type": "stream",
     "text": [
      "[2021-04-08 13:46:10 query]: SQL Translation:\r\n",
      "---------------------------------------------\r\n",
      "  SELECT graph_3_c1.\"node1\", graph_3_c1.\"label\", graph_3_c1.\"node2\", graph_3_c1.\"id\"\r\n",
      "     FROM graph_3 AS graph_3_c1\r\n",
      "     WHERE graph_3_c1.\"label\"=?\r\n",
      "     AND (kgtk_lqstring_lang_suffix(graph_3_c1.\"node2\") = ?)\r\n",
      "  PARAS: ['alias', 'en']\r\n",
      "---------------------------------------------\r\n"
     ]
    }
   ],
   "source": [
    "for lang in languages:\n",
    "    cmd = f\"kgtk --debug query --graph-cache {os.environ['STORE']} -i {wiki_root_folder}{alias_all} -o {output_path}/{output_folder}/aliases.{lang}.tsv.gz --match '(n1)-[l:alias]->(n2)' --where 'n2.kgtk_lqstring_lang_suffix = \\\"{lang}\\\"' --return 'n1, l.label, n2, l.id' \"\n",
    "    !{cmd}"
   ]
  },
  {
   "cell_type": "code",
   "execution_count": 19,
   "id": "edda5426",
   "metadata": {
    "execution": {
     "iopub.execute_input": "2021-04-08T20:47:18.305036Z",
     "iopub.status.busy": "2021-04-08T20:47:18.303843Z",
     "iopub.status.idle": "2021-04-08T20:50:08.898822Z",
     "shell.execute_reply": "2021-04-08T20:50:08.899842Z"
    },
    "papermill": {
     "duration": 170.699121,
     "end_time": "2021-04-08T20:50:08.900253",
     "exception": false,
     "start_time": "2021-04-08T20:47:18.201132",
     "status": "completed"
    },
    "tags": []
   },
   "outputs": [
    {
     "name": "stdout",
     "output_type": "stream",
     "text": [
      "[2021-04-08 13:47:21 query]: SQL Translation:\r\n",
      "---------------------------------------------\r\n",
      "  SELECT graph_4_c1.\"node1\", graph_4_c1.\"label\", graph_4_c1.\"node2\", graph_4_c1.\"id\"\r\n",
      "     FROM graph_4 AS graph_4_c1\r\n",
      "     WHERE graph_4_c1.\"label\"=?\r\n",
      "     AND (kgtk_lqstring_lang_suffix(graph_4_c1.\"node2\") = ?)\r\n",
      "  PARAS: ['description', 'en']\r\n",
      "---------------------------------------------\r\n"
     ]
    }
   ],
   "source": [
    "for lang in languages:\n",
    "    cmd = f\"kgtk --debug query --graph-cache {os.environ['STORE']} -i {wiki_root_folder}{description_all} -o {output_path}/{output_folder}/descriptions.{lang}.tsv.gz --match '(n1)-[l:description]->(n2)' --where 'n2.kgtk_lqstring_lang_suffix = \\\"{lang}\\\"' --return 'n1, l.label, n2, l.id' \"\n",
    "    !{cmd}"
   ]
  },
  {
   "cell_type": "markdown",
   "id": "ed7b4afd",
   "metadata": {
    "papermill": {
     "duration": 0.069,
     "end_time": "2021-04-08T20:50:09.080611",
     "exception": false,
     "start_time": "2021-04-08T20:50:09.011611",
     "status": "completed"
    },
    "tags": []
   },
   "source": [
    "### Create the P31 and P279 files"
   ]
  },
  {
   "cell_type": "markdown",
   "id": "aa2af81b",
   "metadata": {
    "papermill": {
     "duration": 0.063833,
     "end_time": "2021-04-08T20:50:09.208679",
     "exception": false,
     "start_time": "2021-04-08T20:50:09.144846",
     "status": "completed"
    },
    "tags": []
   },
   "source": [
    "Create the `P31` file"
   ]
  },
  {
   "cell_type": "code",
   "execution_count": 20,
   "id": "3ea50b4d",
   "metadata": {
    "execution": {
     "iopub.execute_input": "2021-04-08T20:50:09.350781Z",
     "iopub.status.busy": "2021-04-08T20:50:09.346271Z",
     "iopub.status.idle": "2021-04-08T20:56:51.245195Z",
     "shell.execute_reply": "2021-04-08T20:56:51.246127Z"
    },
    "papermill": {
     "duration": 401.973287,
     "end_time": "2021-04-08T20:56:51.246495",
     "exception": false,
     "start_time": "2021-04-08T20:50:09.273208",
     "status": "completed"
    },
    "tags": []
   },
   "outputs": [
    {
     "name": "stdout",
     "output_type": "stream",
     "text": [
      "[2021-04-08 13:50:11 query]: SQL Translation:\r\n",
      "---------------------------------------------\r\n",
      "  SELECT graph_1_c1.\"id\", graph_1_c1.\"node1\", graph_1_c1.\"label\", graph_1_c1.\"node2\"\r\n",
      "     FROM graph_1 AS graph_1_c1\r\n",
      "     WHERE graph_1_c1.\"label\"=?\r\n",
      "  PARAS: ['P31']\r\n",
      "---------------------------------------------\r\n"
     ]
    }
   ],
   "source": [
    "!$kypher -i \"$CLAIMS\" -o $OUT/derived.P31.tsv.gz \\\n",
    "--match '(n1)-[l:P31]->(n2)' \\\n",
    "--return 'l, n1, l.label, n2' "
   ]
  },
  {
   "cell_type": "markdown",
   "id": "919d3405",
   "metadata": {
    "papermill": {
     "duration": 0.14052,
     "end_time": "2021-04-08T20:56:51.494660",
     "exception": false,
     "start_time": "2021-04-08T20:56:51.354140",
     "status": "completed"
    },
    "tags": []
   },
   "source": [
    "Create the P279 file"
   ]
  },
  {
   "cell_type": "code",
   "execution_count": 21,
   "id": "8a736a6c",
   "metadata": {
    "execution": {
     "iopub.execute_input": "2021-04-08T20:56:51.635132Z",
     "iopub.status.busy": "2021-04-08T20:56:51.634616Z",
     "iopub.status.idle": "2021-04-08T20:56:51.780481Z",
     "shell.execute_reply": "2021-04-08T20:56:51.779436Z"
    },
    "papermill": {
     "duration": 0.219875,
     "end_time": "2021-04-08T20:56:51.780805",
     "exception": false,
     "start_time": "2021-04-08T20:56:51.560930",
     "status": "completed"
    },
    "tags": []
   },
   "outputs": [
    {
     "name": "stdout",
     "output_type": "stream",
     "text": [
      "/bin/bash: gzcat: command not found\r\n",
      "\r\n"
     ]
    }
   ],
   "source": [
    "!gzcat $OUT/derived.P31.tsv.gz | head | col"
   ]
  },
  {
   "cell_type": "code",
   "execution_count": 22,
   "id": "7398593c",
   "metadata": {
    "execution": {
     "iopub.execute_input": "2021-04-08T20:56:51.970317Z",
     "iopub.status.busy": "2021-04-08T20:56:51.969790Z",
     "iopub.status.idle": "2021-04-08T20:59:46.198398Z",
     "shell.execute_reply": "2021-04-08T20:59:46.197208Z"
    },
    "papermill": {
     "duration": 174.30653,
     "end_time": "2021-04-08T20:59:46.198739",
     "exception": false,
     "start_time": "2021-04-08T20:56:51.892209",
     "status": "completed"
    },
    "tags": []
   },
   "outputs": [
    {
     "name": "stdout",
     "output_type": "stream",
     "text": [
      "[2021-04-08 13:56:56 query]: SQL Translation:\r\n",
      "---------------------------------------------\r\n",
      "  SELECT graph_1_c1.\"id\", graph_1_c1.\"node1\", graph_1_c1.\"label\", graph_1_c1.\"node2\"\r\n",
      "     FROM graph_1 AS graph_1_c1\r\n",
      "     WHERE graph_1_c1.\"label\"=?\r\n",
      "  PARAS: ['P279']\r\n",
      "---------------------------------------------\r\n"
     ]
    }
   ],
   "source": [
    "!$kypher -i \"$CLAIMS\" -o $OUT/derived.P279.tsv.gz \\\n",
    "    --match '(n1)-[l:P279]->(n2)' \\\n",
    "    --return 'l, n1, l.label, n2' "
   ]
  },
  {
   "cell_type": "markdown",
   "id": "9c38fddc",
   "metadata": {
    "papermill": {
     "duration": 0.07025,
     "end_time": "2021-04-08T20:59:46.381870",
     "exception": false,
     "start_time": "2021-04-08T20:59:46.311620",
     "status": "completed"
    },
    "tags": []
   },
   "source": [
    "### Create the file that contains all nodes reachable via P279 starting from a node2 in P31 or a node1 in P279"
   ]
  },
  {
   "cell_type": "markdown",
   "id": "79a93828",
   "metadata": {
    "papermill": {
     "duration": 0.065532,
     "end_time": "2021-04-08T20:59:46.513317",
     "exception": false,
     "start_time": "2021-04-08T20:59:46.447785",
     "status": "completed"
    },
    "tags": []
   },
   "source": [
    "First compute the roots"
   ]
  },
  {
   "cell_type": "code",
   "execution_count": 23,
   "id": "f96a849f",
   "metadata": {
    "execution": {
     "iopub.execute_input": "2021-04-08T20:59:46.663628Z",
     "iopub.status.busy": "2021-04-08T20:59:46.663122Z",
     "iopub.status.idle": "2021-04-08T21:01:20.216931Z",
     "shell.execute_reply": "2021-04-08T21:01:20.215819Z"
    },
    "papermill": {
     "duration": 93.637987,
     "end_time": "2021-04-08T21:01:20.217271",
     "exception": false,
     "start_time": "2021-04-08T20:59:46.579284",
     "status": "completed"
    },
    "tags": []
   },
   "outputs": [
    {
     "name": "stdout",
     "output_type": "stream",
     "text": [
      "[2021-04-08 13:59:49 sqlstore]: DROP graph data table graph_5 from /nas/home/hrathod/output/for_novartis/novartis/useful_files/derived.P279.tsv.gz\n",
      "[2021-04-08 13:59:52 sqlstore]: IMPORT graph directly into table graph_9 from /nas/home/hrathod/output/for_novartis/novartis/useful_files/derived.P279.tsv.gz ...\n",
      "[2021-04-08 13:59:56 query]: SQL Translation:\n",
      "---------------------------------------------\n",
      "  SELECT graph_9_c1.\"node1\" \"_aLias.id\"\n",
      "     FROM graph_9 AS graph_9_c1\n",
      "  PARAS: []\n",
      "---------------------------------------------\n"
     ]
    }
   ],
   "source": [
    "!$kypher -i $OUT/derived.P279.tsv.gz -o $TEMP/P279.n1.tsv.gz \\\n",
    "--match '(n1)-[l]->()' \\\n",
    "--return 'n1 as id' "
   ]
  },
  {
   "cell_type": "code",
   "execution_count": 24,
   "id": "257464f7",
   "metadata": {
    "execution": {
     "iopub.execute_input": "2021-04-08T21:01:20.434926Z",
     "iopub.status.busy": "2021-04-08T21:01:20.430747Z",
     "iopub.status.idle": "2021-04-08T21:13:29.417539Z",
     "shell.execute_reply": "2021-04-08T21:13:29.416445Z"
    },
    "papermill": {
     "duration": 729.085862,
     "end_time": "2021-04-08T21:13:29.417872",
     "exception": false,
     "start_time": "2021-04-08T21:01:20.332010",
     "status": "completed"
    },
    "tags": []
   },
   "outputs": [
    {
     "name": "stdout",
     "output_type": "stream",
     "text": [
      "[2021-04-08 14:01:22 sqlstore]: DROP graph data table graph_6 from /nas/home/hrathod/output/for_novartis/novartis/useful_files/derived.P31.tsv.gz\n",
      "[2021-04-08 14:01:43 sqlstore]: IMPORT graph directly into table graph_10 from /nas/home/hrathod/output/for_novartis/novartis/useful_files/derived.P31.tsv.gz ...\n",
      "[2021-04-08 14:02:29 query]: SQL Translation:\n",
      "---------------------------------------------\n",
      "  SELECT graph_10_c1.\"node2\" \"_aLias.id\"\n",
      "     FROM graph_10 AS graph_10_c1\n",
      "  PARAS: []\n",
      "---------------------------------------------\n"
     ]
    }
   ],
   "source": [
    "!$kypher -i $OUT/derived.P31.tsv.gz -o $TEMP/P31.n2.tsv.gz \\\n",
    "--match '()-[l]->(n2)' \\\n",
    "--return 'n2 as id' "
   ]
  },
  {
   "cell_type": "code",
   "execution_count": 25,
   "id": "0dd52928",
   "metadata": {
    "execution": {
     "iopub.execute_input": "2021-04-08T21:13:29.618710Z",
     "iopub.status.busy": "2021-04-08T21:13:29.618203Z",
     "iopub.status.idle": "2021-04-08T21:16:03.210066Z",
     "shell.execute_reply": "2021-04-08T21:16:03.209046Z"
    },
    "papermill": {
     "duration": 153.677706,
     "end_time": "2021-04-08T21:16:03.210378",
     "exception": false,
     "start_time": "2021-04-08T21:13:29.532672",
     "status": "completed"
    },
    "tags": []
   },
   "outputs": [],
   "source": [
    "!$kgtk cat --mode NONE -i $TEMP/P31.n2.tsv.gz $TEMP/P279.n1.tsv.gz \\\n",
    "| gzip > $TEMP/P279.roots.1.tsv.gz"
   ]
  },
  {
   "cell_type": "code",
   "execution_count": 26,
   "id": "5320f0c9",
   "metadata": {
    "execution": {
     "iopub.execute_input": "2021-04-08T21:16:03.484459Z",
     "iopub.status.busy": "2021-04-08T21:16:03.483817Z",
     "iopub.status.idle": "2021-04-08T21:16:28.058344Z",
     "shell.execute_reply": "2021-04-08T21:16:28.057107Z"
    },
    "papermill": {
     "duration": 24.694013,
     "end_time": "2021-04-08T21:16:28.058674",
     "exception": false,
     "start_time": "2021-04-08T21:16:03.364661",
     "status": "completed"
    },
    "tags": []
   },
   "outputs": [],
   "source": [
    "!$kgtk sort2 --mode NONE --column id -i $TEMP/P279.roots.1.tsv.gz \\\n",
    "| gzip > $TEMP/P279.roots.2.tsv.gz"
   ]
  },
  {
   "cell_type": "markdown",
   "id": "b184b964",
   "metadata": {
    "papermill": {
     "duration": 0.073186,
     "end_time": "2021-04-08T21:16:28.245298",
     "exception": false,
     "start_time": "2021-04-08T21:16:28.172112",
     "status": "completed"
    },
    "tags": []
   },
   "source": [
    "We have lots of duplicates"
   ]
  },
  {
   "cell_type": "code",
   "execution_count": 27,
   "id": "01210bae",
   "metadata": {
    "execution": {
     "iopub.execute_input": "2021-04-08T21:16:28.388706Z",
     "iopub.status.busy": "2021-04-08T21:16:28.388204Z",
     "iopub.status.idle": "2021-04-08T21:16:28.525722Z",
     "shell.execute_reply": "2021-04-08T21:16:28.526149Z"
    },
    "papermill": {
     "duration": 0.212633,
     "end_time": "2021-04-08T21:16:28.526318",
     "exception": false,
     "start_time": "2021-04-08T21:16:28.313685",
     "status": "completed"
    },
    "tags": []
   },
   "outputs": [
    {
     "name": "stdout",
     "output_type": "stream",
     "text": [
      "id\r\n",
      "Q100000030\r\n",
      "Q1000017\r\n",
      "Q1000032\r\n",
      "Q1000032\r\n",
      "Q1000039\r\n",
      "Q100004761\r\n",
      "Q100004761\r\n",
      "Q100004761\r\n",
      "Q1000064\r\n",
      "\r\n",
      "gzip: stdout: Broken pipe\r\n"
     ]
    }
   ],
   "source": [
    "!zcat < $TEMP/P279.roots.2.tsv.gz | head"
   ]
  },
  {
   "cell_type": "code",
   "execution_count": 28,
   "id": "d20f2ca8",
   "metadata": {
    "execution": {
     "iopub.execute_input": "2021-04-08T21:16:28.679856Z",
     "iopub.status.busy": "2021-04-08T21:16:28.678996Z",
     "iopub.status.idle": "2021-04-08T21:19:09.391274Z",
     "shell.execute_reply": "2021-04-08T21:19:09.392308Z"
    },
    "papermill": {
     "duration": 160.793506,
     "end_time": "2021-04-08T21:19:09.392713",
     "exception": false,
     "start_time": "2021-04-08T21:16:28.599207",
     "status": "completed"
    },
    "tags": []
   },
   "outputs": [],
   "source": [
    "!$kgtk compact -i $TEMP/P279.roots.2.tsv.gz --mode NONE \\\n",
    "    --presorted \\\n",
    "    --columns id \\\n",
    "    -o $TEMP/P279.roots.tsv"
   ]
  },
  {
   "cell_type": "markdown",
   "id": "9e0ef169",
   "metadata": {
    "papermill": {
     "duration": 0.077526,
     "end_time": "2021-04-08T21:19:09.588288",
     "exception": false,
     "start_time": "2021-04-08T21:19:09.510762",
     "status": "completed"
    },
    "tags": []
   },
   "source": [
    "Now we can invoke the reachable-nodes command"
   ]
  },
  {
   "cell_type": "code",
   "execution_count": 29,
   "id": "d2b0c00c",
   "metadata": {
    "execution": {
     "iopub.execute_input": "2021-04-08T21:19:09.737515Z",
     "iopub.status.busy": "2021-04-08T21:19:09.736998Z",
     "iopub.status.idle": "2021-04-08T21:47:12.161932Z",
     "shell.execute_reply": "2021-04-08T21:47:12.163195Z"
    },
    "papermill": {
     "duration": 1682.507093,
     "end_time": "2021-04-08T21:47:12.163795",
     "exception": false,
     "start_time": "2021-04-08T21:19:09.656702",
     "status": "completed"
    },
    "tags": []
   },
   "outputs": [],
   "source": [
    "!$kgtk reachable-nodes \\\n",
    "    --rootfile $TEMP/P279.roots.tsv \\\n",
    "    --selflink \\\n",
    "    -i $OUT/derived.P279.tsv.gz \\\n",
    "| gzip > $TEMP/P279.reachable.tsv.gz"
   ]
  },
  {
   "cell_type": "code",
   "execution_count": 30,
   "id": "2878eba0",
   "metadata": {
    "execution": {
     "iopub.execute_input": "2021-04-08T21:47:12.602446Z",
     "iopub.status.busy": "2021-04-08T21:47:12.601295Z",
     "iopub.status.idle": "2021-04-08T21:47:12.944834Z",
     "shell.execute_reply": "2021-04-08T21:47:12.943787Z"
    },
    "papermill": {
     "duration": 0.484304,
     "end_time": "2021-04-08T21:47:12.945169",
     "exception": false,
     "start_time": "2021-04-08T21:47:12.460865",
     "status": "completed"
    },
    "tags": []
   },
   "outputs": [
    {
     "name": "stdout",
     "output_type": "stream",
     "text": [
      "node1\tlabel\tnode2\r\n",
      "Q100000030\treachable\tQ100000030\r\n",
      "Q100000030\treachable\tQ14748\r\n",
      "Q100000030\treachable\tQ14745\r\n",
      "Q100000030\treachable\tQ1357761\r\n",
      "Q100000030\treachable\tQ223557\r\n",
      "\r\n",
      "gzip: Q100000030\treachable\tQ4406616\r\n",
      "Q100000030\treachable\tQ488383\r\n",
      "stdout: Broken pipe\r\n",
      "Q100000030\treachable\tQ35120\r\n",
      "Q100000030\treachable\tQ2424752\r\n"
     ]
    }
   ],
   "source": [
    "!zcat < $TEMP/P279.reachable.tsv.gz | head | col"
   ]
  },
  {
   "cell_type": "markdown",
   "id": "7400fcfc",
   "metadata": {
    "papermill": {
     "duration": 0.080473,
     "end_time": "2021-04-08T21:47:13.155691",
     "exception": false,
     "start_time": "2021-04-08T21:47:13.075218",
     "status": "completed"
    },
    "tags": []
   },
   "source": [
    "The reachable-nodes command produces edges labeled `reachable`, so we need one command to rename them."
   ]
  },
  {
   "cell_type": "code",
   "execution_count": 31,
   "id": "f51a0f35",
   "metadata": {
    "execution": {
     "iopub.execute_input": "2021-04-08T21:47:13.313364Z",
     "iopub.status.busy": "2021-04-08T21:47:13.312844Z",
     "iopub.status.idle": "2021-04-08T22:02:06.654287Z",
     "shell.execute_reply": "2021-04-08T22:02:06.653072Z"
    },
    "papermill": {
     "duration": 893.423305,
     "end_time": "2021-04-08T22:02:06.654578",
     "exception": false,
     "start_time": "2021-04-08T21:47:13.231273",
     "status": "completed"
    },
    "tags": []
   },
   "outputs": [
    {
     "name": "stdout",
     "output_type": "stream",
     "text": [
      "[2021-04-08 14:47:20 sqlstore]: IMPORT graph directly into table graph_11 from /nas/home/hrathod/output/for_novartis/novartis/temp.useful_files/P279.reachable.tsv.gz ...\n",
      "[2021-04-08 14:48:36 query]: SQL Translation:\n",
      "---------------------------------------------\n",
      "  SELECT graph_11_c1.\"node1\", ? \"_aLias.label\", graph_11_c1.\"node2\" \"_aLias.node2\"\n",
      "     FROM graph_11 AS graph_11_c1\n",
      "  PARAS: ['P279star']\n",
      "---------------------------------------------\n"
     ]
    }
   ],
   "source": [
    "!$kypher -i $TEMP/P279.reachable.tsv.gz -o $TEMP/P279star.1.tsv.gz \\\n",
    "--match '(n1)-[]->(n2)' \\\n",
    "--return 'n1, \"P279star\" as label, n2 as node2' "
   ]
  },
  {
   "cell_type": "markdown",
   "id": "e9adbcdc",
   "metadata": {
    "papermill": {
     "duration": 0.078543,
     "end_time": "2021-04-08T22:02:06.844040",
     "exception": false,
     "start_time": "2021-04-08T22:02:06.765497",
     "status": "completed"
    },
    "tags": []
   },
   "source": [
    "Now we can concatenate these files to produce the final output"
   ]
  },
  {
   "cell_type": "code",
   "execution_count": 32,
   "id": "6c4a24ff",
   "metadata": {
    "execution": {
     "iopub.execute_input": "2021-04-08T22:02:07.038422Z",
     "iopub.status.busy": "2021-04-08T22:02:07.037361Z",
     "iopub.status.idle": "2021-04-08T22:05:34.721715Z",
     "shell.execute_reply": "2021-04-08T22:05:34.720911Z"
    },
    "papermill": {
     "duration": 207.798216,
     "end_time": "2021-04-08T22:05:34.721950",
     "exception": false,
     "start_time": "2021-04-08T22:02:06.923734",
     "status": "completed"
    },
    "tags": []
   },
   "outputs": [],
   "source": [
    "!$kgtk sort2 -i $TEMP/P279star.1.tsv.gz -o $TEMP/P279star.2.tsv.gz"
   ]
  },
  {
   "cell_type": "markdown",
   "id": "73d5f47e",
   "metadata": {
    "papermill": {
     "duration": 0.084088,
     "end_time": "2021-04-08T22:05:34.940800",
     "exception": false,
     "start_time": "2021-04-08T22:05:34.856712",
     "status": "completed"
    },
    "tags": []
   },
   "source": [
    "Make sure there are no duplicates"
   ]
  },
  {
   "cell_type": "code",
   "execution_count": 33,
   "id": "aef88533",
   "metadata": {
    "execution": {
     "iopub.execute_input": "2021-04-08T22:05:35.103670Z",
     "iopub.status.busy": "2021-04-08T22:05:35.103100Z",
     "iopub.status.idle": "2021-04-08T22:37:44.737001Z",
     "shell.execute_reply": "2021-04-08T22:37:44.735920Z"
    },
    "papermill": {
     "duration": 1929.72482,
     "end_time": "2021-04-08T22:37:44.737391",
     "exception": false,
     "start_time": "2021-04-08T22:05:35.012571",
     "status": "completed"
    },
    "tags": []
   },
   "outputs": [],
   "source": [
    "!$kgtk compact --presorted -i $TEMP/P279star.2.tsv.gz -o $TEMP/P279star.3.tsv.gz"
   ]
  },
  {
   "cell_type": "markdown",
   "id": "e4441530",
   "metadata": {
    "papermill": {
     "duration": 0.126844,
     "end_time": "2021-04-08T22:37:45.058641",
     "exception": false,
     "start_time": "2021-04-08T22:37:44.931797",
     "status": "completed"
    },
    "tags": []
   },
   "source": [
    "Add ids"
   ]
  },
  {
   "cell_type": "code",
   "execution_count": 34,
   "id": "b4ac11ab",
   "metadata": {
    "execution": {
     "iopub.execute_input": "2021-04-08T22:37:45.269548Z",
     "iopub.status.busy": "2021-04-08T22:37:45.268927Z",
     "iopub.status.idle": "2021-04-08T23:06:53.198198Z",
     "shell.execute_reply": "2021-04-08T23:06:53.199091Z"
    },
    "papermill": {
     "duration": 1748.019844,
     "end_time": "2021-04-08T23:06:53.199344",
     "exception": false,
     "start_time": "2021-04-08T22:37:45.179500",
     "status": "completed"
    },
    "tags": []
   },
   "outputs": [],
   "source": [
    "!$kgtk add-id --id-style node1-label-node2-num -i $TEMP/P279star.3.tsv.gz -o $OUT/derived.P279star.tsv.gz"
   ]
  },
  {
   "cell_type": "code",
   "execution_count": 35,
   "id": "a6b227c9",
   "metadata": {
    "execution": {
     "iopub.execute_input": "2021-04-08T23:06:53.396725Z",
     "iopub.status.busy": "2021-04-08T23:06:53.396175Z",
     "iopub.status.idle": "2021-04-08T23:06:53.557328Z",
     "shell.execute_reply": "2021-04-08T23:06:53.558421Z"
    },
    "papermill": {
     "duration": 0.246587,
     "end_time": "2021-04-08T23:06:53.558820",
     "exception": false,
     "start_time": "2021-04-08T23:06:53.312233",
     "status": "completed"
    },
    "tags": []
   },
   "outputs": [
    {
     "name": "stdout",
     "output_type": "stream",
     "text": [
      "\r\n",
      "gzip: node1\tlabel\tnode2\tid\r\n",
      "Q100000030\tP279star\tQ100000030\tQ100000030-P279star-Q100000030-0000\r\n",
      "stdout: Broken pipe\r\n",
      "Q100000030\tP279star\tQ1357761\tQ100000030-P279star-Q1357761-0000\r\n",
      "Q100000030\tP279star\tQ14745\tQ100000030-P279star-Q14745-0000\r\n",
      "Q100000030\tP279star\tQ14748\tQ100000030-P279star-Q14748-0000\r\n",
      "Q100000030\tP279star\tQ15401930\tQ100000030-P279star-Q15401930-0000\r\n",
      "Q100000030\tP279star\tQ15621286\tQ100000030-P279star-Q15621286-0000\r\n",
      "Q100000030\tP279star\tQ16686448\tQ100000030-P279star-Q16686448-0000\r\n",
      "Q100000030\tP279star\tQ17537576\tQ100000030-P279star-Q17537576-0000\r\n",
      "Q100000030\tP279star\tQ223557 Q100000030-P279star-Q223557-0000\r\n"
     ]
    }
   ],
   "source": [
    "!zcat < $OUT/derived.P279star.tsv.gz | head | col"
   ]
  },
  {
   "cell_type": "markdown",
   "id": "28626678",
   "metadata": {
    "papermill": {
     "duration": 0.074573,
     "end_time": "2021-04-08T23:06:53.753964",
     "exception": false,
     "start_time": "2021-04-08T23:06:53.679391",
     "status": "completed"
    },
    "tags": []
   },
   "source": [
    "This is how we would do the typical `?item P31/P279* ?class` in Kypher. \n",
    "The example shows how to get all the counts of instances of subclasses of city (Q515)."
   ]
  },
  {
   "cell_type": "code",
   "execution_count": 36,
   "id": "800227dd",
   "metadata": {
    "execution": {
     "iopub.execute_input": "2021-04-08T23:06:53.991717Z",
     "iopub.status.busy": "2021-04-08T23:06:53.990991Z",
     "iopub.status.idle": "2021-04-08T23:28:57.418304Z",
     "shell.execute_reply": "2021-04-08T23:28:57.418962Z"
    },
    "papermill": {
     "duration": 1323.534122,
     "end_time": "2021-04-08T23:28:57.419259",
     "exception": false,
     "start_time": "2021-04-08T23:06:53.885137",
     "status": "completed"
    },
    "tags": []
   },
   "outputs": [
    {
     "name": "stdout",
     "output_type": "stream",
     "text": [
      "[2021-04-08 16:06:57 sqlstore]: IMPORT graph directly into table graph_12 from /nas/home/hrathod/output/for_novartis/novartis/useful_files/derived.P279star.tsv.gz ...\n",
      "[2021-04-08 16:09:31 sqlstore]: IMPORT graph directly into table graph_13 from /nas/home/hrathod/output/for_novartis/novartis/parts/labels.en.tsv.gz ...\n",
      "[2021-04-08 16:10:35 query]: SQL Translation:\n",
      "---------------------------------------------\n",
      "  SELECT DISTINCT graph_10_c1.\"node2\" \"_aLias.class\", count(graph_10_c1.\"node2\") \"_aLias.count\", graph_13_c4.\"node2\" \"_aLias.class name\", graph_13_c3.\"node1\" \"_aLias.instance\", graph_13_c3.\"node2\" \"_aLias.label\"\n",
      "     FROM graph_10 AS graph_10_c1, graph_12 AS graph_12_c2, graph_13 AS graph_13_c3, graph_13 AS graph_13_c4\n",
      "     WHERE graph_10_c1.\"label\"=?\n",
      "     AND graph_12_c2.\"node2\"=?\n",
      "     AND graph_13_c3.\"label\"=?\n",
      "     AND graph_13_c4.\"label\"=?\n",
      "     AND graph_10_c1.\"node1\"=graph_13_c3.\"node1\"\n",
      "     AND graph_10_c1.\"node2\"=graph_12_c2.\"node1\"\n",
      "     AND graph_12_c2.\"node1\"=graph_13_c4.\"node1\"\n",
      "     GROUP BY \"_aLias.class\"\n",
      "     ORDER BY count(graph_10_c1.\"node2\") DESC, graph_10_c1.\"node2\" ASC, graph_13_c3.\"node1\" ASC\n",
      "     LIMIT ?\n",
      "  PARAS: ['P31', 'Q515', 'label', 'label', 10]\n",
      "---------------------------------------------\n",
      "[2021-04-08 16:10:35 sqlstore]: CREATE INDEX on table graph_10 column node1 ...\n",
      "[2021-04-08 16:18:04 sqlstore]: ANALYZE INDEX on table graph_10 column node1 ...\n",
      "[2021-04-08 16:18:09 sqlstore]: CREATE INDEX on table graph_13 column node1 ...\n",
      "[2021-04-08 16:18:28 sqlstore]: ANALYZE INDEX on table graph_13 column node1 ...\n",
      "[2021-04-08 16:18:32 sqlstore]: CREATE INDEX on table graph_12 column node1 ...\n",
      "[2021-04-08 16:19:25 sqlstore]: ANALYZE INDEX on table graph_12 column node1 ...\n",
      "[2021-04-08 16:19:34 sqlstore]: CREATE INDEX on table graph_10 column label ...\n",
      "[2021-04-08 16:25:49 sqlstore]: ANALYZE INDEX on table graph_10 column label ...\n",
      "[2021-04-08 16:25:52 sqlstore]: CREATE INDEX on table graph_10 column node2 ...\n",
      "[2021-04-08 16:26:23 sqlstore]: ANALYZE INDEX on table graph_10 column node2 ...\n",
      "[2021-04-08 16:26:26 sqlstore]: CREATE INDEX on table graph_13 column label ...\n",
      "[2021-04-08 16:26:46 sqlstore]: ANALYZE INDEX on table graph_13 column label ...\n",
      "[2021-04-08 16:26:49 sqlstore]: CREATE INDEX on table graph_12 column node2 ...\n",
      "[2021-04-08 16:28:46 sqlstore]: ANALYZE INDEX on table graph_12 column node2 ...\n",
      "class\tcount\tclass name\tinstance\tlabel\n"
     ]
    }
   ],
   "source": [
    "!$kypher -i $OUT/derived.P31.tsv.gz -i $OUT/derived.P279star.tsv.gz -i \"$LABELS\" \\\n",
    "--match 'P31: (n1)-[:P31]->(c), P279star: (c)-[]->(:Q515), label: (n1)-[:label]->(label), label: (c)-[:label]->(c_label)' \\\n",
    "--return 'distinct c as class, count(c) as count, c_label as `class name`, n1 as instance, label as `label`' \\\n",
    "--order-by 'count(c) desc, c, n1' \\\n",
    "--limit 10 \\\n",
    "| col"
   ]
  },
  {
   "cell_type": "markdown",
   "id": "47f1c5d1",
   "metadata": {
    "papermill": {
     "duration": 0.082502,
     "end_time": "2021-04-08T23:28:57.617995",
     "exception": false,
     "start_time": "2021-04-08T23:28:57.535493",
     "status": "completed"
    },
    "tags": []
   },
   "source": [
    "Illustrate that it is indeed `P279*`"
   ]
  },
  {
   "cell_type": "code",
   "execution_count": 37,
   "id": "9f17fe4c",
   "metadata": {
    "execution": {
     "iopub.execute_input": "2021-04-08T23:28:57.861415Z",
     "iopub.status.busy": "2021-04-08T23:28:57.856278Z",
     "iopub.status.idle": "2021-04-08T23:29:02.539132Z",
     "shell.execute_reply": "2021-04-08T23:29:02.538235Z"
    },
    "papermill": {
     "duration": 4.794057,
     "end_time": "2021-04-08T23:29:02.539393",
     "exception": false,
     "start_time": "2021-04-08T23:28:57.745336",
     "status": "completed"
    },
    "tags": []
   },
   "outputs": [
    {
     "name": "stdout",
     "output_type": "stream",
     "text": [
      "[2021-04-08 16:29:02 query]: SQL Translation:\n",
      "---------------------------------------------\n",
      "  SELECT DISTINCT graph_13_c4.\"node1\" \"_aLias.class\", graph_13_c4.\"node2\" \"_aLias.class name\", graph_10_c1.\"node1\" \"_aLias.instance\", graph_13_c3.\"node2\" \"_aLias.label\"\n",
      "     FROM graph_10 AS graph_10_c1, graph_12 AS graph_12_c2, graph_13 AS graph_13_c3, graph_13 AS graph_13_c4\n",
      "     WHERE graph_10_c1.\"label\"=?\n",
      "     AND graph_12_c2.\"node2\"=?\n",
      "     AND graph_13_c3.\"label\"=?\n",
      "     AND graph_13_c4.\"label\"=?\n",
      "     AND graph_10_c1.\"node1\"=graph_13_c3.\"node1\"\n",
      "     AND graph_10_c1.\"node2\"=graph_12_c2.\"node1\"\n",
      "     AND graph_12_c2.\"node1\"=graph_13_c4.\"node1\"\n",
      "     ORDER BY graph_13_c4.\"node1\" ASC, graph_10_c1.\"node1\" ASC\n",
      "     LIMIT ?\n",
      "  PARAS: ['P31', 'Q63440326', 'label', 'label', 10]\n",
      "---------------------------------------------\n",
      "class\tclass name\tinstance\tlabel\n"
     ]
    }
   ],
   "source": [
    "!$kypher -i $OUT/derived.P31.tsv.gz -i $OUT/derived.P279star.tsv.gz -i \"$LABELS\" \\\n",
    "--match 'P31: (n1)-[:P31]->(c), P279star: (c)-[]->(:Q63440326), label: (n1)-[:label]->(label), label: (c)-[:label]->(c_label)' \\\n",
    "--return 'distinct c as class, c_label as `class name`, n1 as instance, label as `label`' \\\n",
    "--order-by 'c, n1' \\\n",
    "--limit 10 \\\n",
    "| col "
   ]
  },
  {
   "cell_type": "markdown",
   "id": "9dbb4326",
   "metadata": {
    "papermill": {
     "duration": 0.096336,
     "end_time": "2021-04-08T23:29:02.770171",
     "exception": false,
     "start_time": "2021-04-08T23:29:02.673835",
     "status": "completed"
    },
    "tags": []
   },
   "source": [
    "Test that `P279star` is indeed star"
   ]
  },
  {
   "cell_type": "code",
   "execution_count": 38,
   "id": "76379199",
   "metadata": {
    "execution": {
     "iopub.execute_input": "2021-04-08T23:29:03.015082Z",
     "iopub.status.busy": "2021-04-08T23:29:03.011365Z",
     "iopub.status.idle": "2021-04-08T23:30:04.837001Z",
     "shell.execute_reply": "2021-04-08T23:30:04.837582Z"
    },
    "papermill": {
     "duration": 61.972898,
     "end_time": "2021-04-08T23:30:04.837833",
     "exception": false,
     "start_time": "2021-04-08T23:29:02.864935",
     "status": "completed"
    },
    "tags": []
   },
   "outputs": [
    {
     "name": "stdout",
     "output_type": "stream",
     "text": [
      "[2021-04-08 16:29:05 query]: SQL Translation:\n",
      "---------------------------------------------\n",
      "  SELECT *\n",
      "     FROM graph_12 AS graph_12_c1\n",
      "     WHERE graph_12_c1.\"label\"=?\n",
      "     AND graph_12_c1.\"node1\"=?\n",
      "     AND graph_12_c1.\"node2\"=?\n",
      "  PARAS: ['P279star', 'Q44', 'Q44']\n",
      "---------------------------------------------\n",
      "[2021-04-08 16:29:05 sqlstore]: CREATE INDEX on table graph_12 column label ...\n",
      "[2021-04-08 16:29:54 sqlstore]: ANALYZE INDEX on table graph_12 column label ...\n",
      "node1\tlabel\tnode2\tid\n",
      "Q44\tP279star\tQ44\tQ44-P279star-Q44-0000\n"
     ]
    }
   ],
   "source": [
    "!$kypher -i $OUT/derived.P279star.tsv.gz \\\n",
    "--match '(n1:Q44)-[:P279star]->(n2:Q44)'"
   ]
  },
  {
   "cell_type": "markdown",
   "id": "a48e80f6",
   "metadata": {
    "papermill": {
     "duration": 0.065457,
     "end_time": "2021-04-08T23:30:05.012781",
     "exception": false,
     "start_time": "2021-04-08T23:30:04.947324",
     "status": "completed"
    },
    "tags": []
   },
   "source": [
    "### Create a file to do generalized Is-A queries\n",
    "The idea is that `(n1)-[:isa]->(n2)` when `(n1)-[:P31]->(n2)` or `(n1)-[:P279]->(n2)`\n",
    "\n",
    "We do this by concatenating the files and renaming the relation"
   ]
  },
  {
   "cell_type": "code",
   "execution_count": 39,
   "id": "c60945d6",
   "metadata": {
    "execution": {
     "iopub.execute_input": "2021-04-08T23:30:05.187289Z",
     "iopub.status.busy": "2021-04-08T23:30:05.183545Z",
     "iopub.status.idle": "2021-04-08T23:41:27.381534Z",
     "shell.execute_reply": "2021-04-08T23:41:27.382762Z"
    },
    "papermill": {
     "duration": 682.303568,
     "end_time": "2021-04-08T23:41:27.383286",
     "exception": false,
     "start_time": "2021-04-08T23:30:05.079718",
     "status": "completed"
    },
    "tags": []
   },
   "outputs": [],
   "source": [
    "!$kgtk cat -i $OUT/derived.P31.tsv.gz $OUT/derived.P279.tsv.gz \\\n",
    "-o $TEMP/isa.1.tsv.gz"
   ]
  },
  {
   "cell_type": "code",
   "execution_count": 40,
   "id": "fd4c207e",
   "metadata": {
    "execution": {
     "iopub.execute_input": "2021-04-08T23:41:27.688872Z",
     "iopub.status.busy": "2021-04-08T23:41:27.688320Z",
     "iopub.status.idle": "2021-04-08T23:54:36.692840Z",
     "shell.execute_reply": "2021-04-08T23:54:36.693274Z"
    },
    "papermill": {
     "duration": 789.13194,
     "end_time": "2021-04-08T23:54:36.693477",
     "exception": false,
     "start_time": "2021-04-08T23:41:27.561537",
     "status": "completed"
    },
    "tags": []
   },
   "outputs": [
    {
     "name": "stdout",
     "output_type": "stream",
     "text": [
      "[2021-04-08 16:41:29 sqlstore]: DROP graph data table graph_7 from /nas/home/hrathod/output/for_novartis/novartis/temp.useful_files/isa.1.tsv.gz\n",
      "[2021-04-08 16:41:49 sqlstore]: IMPORT graph directly into table graph_14 from /nas/home/hrathod/output/for_novartis/novartis/temp.useful_files/isa.1.tsv.gz ...\n",
      "[2021-04-08 16:43:06 query]: SQL Translation:\n",
      "---------------------------------------------\n",
      "  SELECT graph_14_c1.\"node1\", ? \"_aLias.label\", graph_14_c1.\"node2\"\n",
      "     FROM graph_14 AS graph_14_c1\n",
      "  PARAS: ['isa']\n",
      "---------------------------------------------\n"
     ]
    }
   ],
   "source": [
    "!$kypher -i $TEMP/isa.1.tsv.gz -o $OUT/derived.isa.tsv.gz \\\n",
    "--match '(n1)-[]->(n2)' \\\n",
    "--return 'n1, \"isa\" as label, n2' "
   ]
  },
  {
   "cell_type": "markdown",
   "id": "fa927cf6",
   "metadata": {
    "papermill": {
     "duration": 0.11879,
     "end_time": "2021-04-08T23:54:36.906767",
     "exception": false,
     "start_time": "2021-04-08T23:54:36.787977",
     "status": "completed"
    },
    "tags": []
   },
   "source": [
    "Example of how to use the `isa` relation"
   ]
  },
  {
   "cell_type": "code",
   "execution_count": 41,
   "id": "624f2b12",
   "metadata": {
    "execution": {
     "iopub.execute_input": "2021-04-08T23:54:37.145645Z",
     "iopub.status.busy": "2021-04-08T23:54:37.144402Z",
     "iopub.status.idle": "2021-04-08T23:59:53.533457Z",
     "shell.execute_reply": "2021-04-08T23:59:53.532601Z"
    },
    "papermill": {
     "duration": 316.538801,
     "end_time": "2021-04-08T23:59:53.533710",
     "exception": false,
     "start_time": "2021-04-08T23:54:36.994909",
     "status": "completed"
    },
    "tags": []
   },
   "outputs": [
    {
     "name": "stdout",
     "output_type": "stream",
     "text": [
      "[2021-04-08 16:54:44 sqlstore]: DROP graph data table graph_8 from /nas/home/hrathod/output/for_novartis/novartis/useful_files/derived.isa.tsv.gz\n",
      "[2021-04-08 16:54:53 sqlstore]: IMPORT graph directly into table graph_15 from /nas/home/hrathod/output/for_novartis/novartis/useful_files/derived.isa.tsv.gz ...\n",
      "[2021-04-08 16:55:40 query]: SQL Translation:\n",
      "---------------------------------------------\n",
      "  SELECT DISTINCT graph_15_c1.\"node1\", graph_15_c1.\"label\", ? \"_aLias.node2\", graph_13_c3.\"node2\" \"_aLias.n1_label\"\n",
      "     FROM graph_12 AS graph_12_c2, graph_13 AS graph_13_c3, graph_15 AS graph_15_c1\n",
      "     WHERE graph_12_c2.\"node2\"=?\n",
      "     AND graph_13_c3.\"label\"=?\n",
      "     AND graph_15_c1.\"label\"=?\n",
      "     AND graph_12_c2.\"node1\"=graph_15_c1.\"node2\"\n",
      "     AND graph_13_c3.\"node1\"=graph_15_c1.\"node1\"\n",
      "     LIMIT ?\n",
      "  PARAS: ['Q44', 'Q44', 'label', 'isa', 10]\n",
      "---------------------------------------------\n",
      "[2021-04-08 16:55:40 sqlstore]: CREATE INDEX on table graph_15 column node2 ...\n",
      "[2021-04-08 16:58:58 sqlstore]: ANALYZE INDEX on table graph_15 column node2 ...\n",
      "[2021-04-08 16:59:02 sqlstore]: CREATE INDEX on table graph_15 column label ...\n",
      "[2021-04-08 16:59:20 sqlstore]: ANALYZE INDEX on table graph_15 column label ...\n",
      "[2021-04-08 16:59:24 sqlstore]: CREATE INDEX on table graph_15 column node1 ...\n",
      "[2021-04-08 16:59:46 sqlstore]: ANALYZE INDEX on table graph_15 column node1 ...\n",
      "node1\tlabel\tnode2\tn1_label\n",
      "Q103351397\tisa\tQ44\t'Milkshake India Pale Ale'@en\n",
      "Q15875298\tisa\tQ44\t'Floreffe'@en\n",
      "Q1917255\tisa\tQ44\t'St-Idesbald'@en\n",
      "Q2004062\tisa\tQ44\t'Sancti Adalberti'@en\n",
      "Q2006077\tisa\tQ44\t'Abbaye de Bonne-Espérance'@en\n",
      "Q2272636\tisa\tQ44\t'Ename beer'@en\n",
      "Q2290730\tisa\tQ44\t'Ter Dolen (beer)'@en\n",
      "Q3625571\tisa\tQ44\t'Herkenrode Tripel'@en\n",
      "Q505815 isa\tQ44\t'Trappist beer'@en\n",
      "Q747216 isa\tQ44\t'Bornem'@en\n"
     ]
    }
   ],
   "source": [
    "!$kypher -i $OUT/derived.isa.tsv.gz -i $OUT/derived.P279star.tsv.gz -i \"$LABELS\" -o - \\\n",
    "--match 'isa: (n1)-[l:isa]->(c), P279star: (c)-[]->(:Q44), label: (n1)-[:label]->(label)' \\\n",
    "--return 'distinct n1, l.label, \"Q44\" as node2, label as n1_label' \\\n",
    "--limit 10 \\\n",
    "| col"
   ]
  },
  {
   "cell_type": "markdown",
   "id": "5fbb9691",
   "metadata": {
    "papermill": {
     "duration": 0.087192,
     "end_time": "2021-04-08T23:59:53.723313",
     "exception": false,
     "start_time": "2021-04-08T23:59:53.636121",
     "status": "completed"
    },
    "tags": []
   },
   "source": [
    "### Create files with `isa/P279* and P31/P279*` \n",
    "This file is useful to find all nodes that are below a q-node via P279 or isa.\n",
    "\n",
    "> These files are very large and take many hours to compute"
   ]
  },
  {
   "cell_type": "code",
   "execution_count": 9,
   "id": "bb76ce05",
   "metadata": {
    "execution": {
     "iopub.execute_input": "2021-04-08T23:59:53.906139Z",
     "iopub.status.busy": "2021-04-08T23:59:53.905452Z",
     "iopub.status.idle": "2021-04-08T23:59:53.908239Z",
     "shell.execute_reply": "2021-04-08T23:59:53.907571Z"
    },
    "papermill": {
     "duration": 0.100391,
     "end_time": "2021-04-08T23:59:53.908454",
     "exception": false,
     "start_time": "2021-04-08T23:59:53.808063",
     "status": "completed"
    },
    "tags": []
   },
   "outputs": [],
   "source": [
    "os.environ['P279STAR'] = f\"{os.environ['OUT']}/derived.P279star.tsv.gz\"\n",
    "os.environ['ISA'] = f\"{os.environ['OUT']}/derived.isa.tsv.gz\""
   ]
  },
  {
   "cell_type": "code",
   "execution_count": 10,
   "id": "a8f1203d",
   "metadata": {
    "execution": {
     "iopub.execute_input": "2021-04-08T23:59:54.167006Z",
     "iopub.status.busy": "2021-04-08T23:59:54.166408Z",
     "iopub.status.idle": "2021-04-08T23:59:54.721243Z",
     "shell.execute_reply": "2021-04-08T23:59:54.722830Z"
    },
    "papermill": {
     "duration": 0.683532,
     "end_time": "2021-04-08T23:59:54.723473",
     "exception": false,
     "start_time": "2021-04-08T23:59:54.039941",
     "status": "completed"
    },
    "tags": []
   },
   "outputs": [
    {
     "name": "stdout",
     "output_type": "stream",
     "text": [
      "-rw-r--r-- 1 hrathod div22 6192684492 Apr  8 04:06 /nas/home/hrathod/output/for_novartis/novartis/parts/claims.tsv.gz\n",
      "-rw-r--r-- 1 hrathod div22 500270514 Apr  8 16:06 /nas/home/hrathod/output/for_novartis/novartis/useful_files/derived.P279star.tsv.gz\n",
      "-rw-r--r-- 1 hrathod div22 117261297 Apr  8 16:54 /nas/home/hrathod/output/for_novartis/novartis/useful_files/derived.isa.tsv.gz\n"
     ]
    }
   ],
   "source": [
    "!ls -l $CLAIMS\n",
    "!ls -l $P279STAR\n",
    "!ls -l $ISA"
   ]
  },
  {
   "cell_type": "code",
   "execution_count": 44,
   "id": "a2eaf181",
   "metadata": {
    "execution": {
     "iopub.execute_input": "2021-04-08T23:59:55.016642Z",
     "iopub.status.busy": "2021-04-08T23:59:55.015674Z",
     "iopub.status.idle": "2021-04-09T04:28:18.851132Z",
     "shell.execute_reply": "2021-04-09T04:28:18.852074Z"
    },
    "papermill": {
     "duration": 16103.982941,
     "end_time": "2021-04-09T04:28:18.852471",
     "exception": false,
     "start_time": "2021-04-08T23:59:54.869530",
     "status": "completed"
    },
    "tags": []
   },
   "outputs": [
    {
     "name": "stdout",
     "output_type": "stream",
     "text": [
      "[2021-04-08 17:00:00 query]: SQL Translation:\r\n",
      "---------------------------------------------\r\n",
      "  SELECT DISTINCT graph_15_c1.\"node1\" \"_aLias.node1\", ? \"_aLias.label\", graph_12_c2.\"node2\" \"_aLias.node2\"\r\n",
      "     FROM graph_12 AS graph_12_c2, graph_15 AS graph_15_c1\r\n",
      "     WHERE graph_12_c2.\"node1\"=graph_15_c1.\"node2\"\r\n",
      "  PARAS: ['isa_star']\r\n",
      "---------------------------------------------\r\n"
     ]
    }
   ],
   "source": [
    "!$kypher -i \"$P279STAR\" -i \"$ISA\"  \\\n",
    "--match '\\\n",
    "  isa: (n1)-[]->(n2), \\\n",
    "  P279star: (n2)-[]->(n3)' \\\n",
    "--return 'distinct n1 as node1, \"isa_star\" as label, n3 as node2' \\\n",
    "-o \"$TEMP\"/derived.isastar_1.tsv.gz"
   ]
  },
  {
   "cell_type": "markdown",
   "id": "343e58c2",
   "metadata": {
    "papermill": {
     "duration": 0.081646,
     "end_time": "2021-04-09T04:28:19.070157",
     "exception": false,
     "start_time": "2021-04-09T04:28:18.988511",
     "status": "completed"
    },
    "tags": []
   },
   "source": [
    "Now add ids and sort it"
   ]
  },
  {
   "cell_type": "code",
   "execution_count": 45,
   "id": "5f7f6881",
   "metadata": {
    "execution": {
     "iopub.execute_input": "2021-04-09T04:28:19.251916Z",
     "iopub.status.busy": "2021-04-09T04:28:19.247667Z",
     "iopub.status.idle": "2021-04-09T08:57:38.978734Z",
     "shell.execute_reply": "2021-04-09T08:57:38.931087Z"
    },
    "papermill": {
     "duration": 16159.827712,
     "end_time": "2021-04-09T08:57:38.979562",
     "exception": false,
     "start_time": "2021-04-09T04:28:19.151850",
     "status": "completed"
    },
    "tags": []
   },
   "outputs": [],
   "source": [
    "!$kgtk add-id --id-style wikidata -i \"$TEMP\"/derived.isastar_1.tsv.gz \\\n",
    "/ sort2 -o \"$OUT\"/derived.isastar.tsv.gz"
   ]
  },
  {
   "cell_type": "markdown",
   "id": "40ed28de",
   "metadata": {
    "papermill": {
     "duration": 0.10421,
     "end_time": "2021-04-09T08:57:39.279314",
     "exception": false,
     "start_time": "2021-04-09T08:57:39.175104",
     "status": "completed"
    },
    "tags": []
   },
   "source": [
    "It is very big"
   ]
  },
  {
   "cell_type": "code",
   "execution_count": 46,
   "id": "084d6ac6",
   "metadata": {
    "execution": {
     "iopub.execute_input": "2021-04-09T08:57:39.655873Z",
     "iopub.status.busy": "2021-04-09T08:57:39.516422Z",
     "iopub.status.idle": "2021-04-09T09:09:46.823131Z",
     "shell.execute_reply": "2021-04-09T09:09:46.824211Z"
    },
    "papermill": {
     "duration": 727.464316,
     "end_time": "2021-04-09T09:09:46.824706",
     "exception": false,
     "start_time": "2021-04-09T08:57:39.360390",
     "status": "completed"
    },
    "tags": []
   },
   "outputs": [
    {
     "name": "stdout",
     "output_type": "stream",
     "text": [
      "1205919877 4823679508 66737179355\r\n"
     ]
    }
   ],
   "source": [
    "!zcat < \"$OUT\"/derived.isastar.tsv.gz | wc"
   ]
  },
  {
   "cell_type": "markdown",
   "id": "a255865a",
   "metadata": {
    "papermill": {
     "duration": 0.126471,
     "end_time": "2021-04-09T09:09:47.111541",
     "exception": false,
     "start_time": "2021-04-09T09:09:46.985070",
     "status": "completed"
    },
    "tags": []
   },
   "source": [
    "Also calculate the same file by for P31/P279*"
   ]
  },
  {
   "cell_type": "code",
   "execution_count": 20,
   "id": "97edb0a3",
   "metadata": {},
   "outputs": [
    {
     "name": "stdout",
     "output_type": "stream",
     "text": [
      "/nas/home/hrathod/output/for_novartis/novartis/useful_files/derived.P279star.tsv.gz\r\n"
     ]
    }
   ],
   "source": [
    "!echo $P279STAR"
   ]
  },
  {
   "cell_type": "code",
   "execution_count": 21,
   "id": "ca3c1377",
   "metadata": {
    "papermill": {
     "duration": null,
     "end_time": null,
     "exception": false,
     "start_time": "2021-04-09T09:09:47.198619",
     "status": "running"
    },
    "tags": []
   },
   "outputs": [
    {
     "name": "stdout",
     "output_type": "stream",
     "text": [
      "[2021-04-09 09:43:32 query]: SQL Translation:\r\n",
      "---------------------------------------------\r\n",
      "  SELECT DISTINCT graph_1_c1.\"node1\" \"_aLias.node1\", ? \"_aLias.label\", graph_12_c2.\"node2\" \"_aLias.node2\"\r\n",
      "     FROM graph_1 AS graph_1_c1, graph_12 AS graph_12_c2\r\n",
      "     WHERE graph_1_c1.\"label\"=?\r\n",
      "     AND graph_12_c2.\"node1\"=graph_1_c1.\"node2\"\r\n",
      "  PARAS: ['P31P279star', 'P31']\r\n",
      "---------------------------------------------\r\n"
     ]
    }
   ],
   "source": [
    "!$kypher -i \"$CLAIMS\" -i \"$P279STAR\" \\\n",
    "--match '\\\n",
    "  claims: (n1)-[:P31]->(n2), \\\n",
    "  P279star: (n2)-[]->(n3)' \\\n",
    "--return 'distinct n1 as node1, \"P31P279star\" as label, n3 as node2' \\\n",
    "-o \"$TEMP\"/derived.P31P279star.gz"
   ]
  },
  {
   "cell_type": "markdown",
   "id": "a04f4b9b",
   "metadata": {
    "papermill": {
     "duration": null,
     "end_time": null,
     "exception": null,
     "start_time": null,
     "status": "pending"
    },
    "tags": []
   },
   "source": [
    "Add ids and sort it"
   ]
  },
  {
   "cell_type": "code",
   "execution_count": 22,
   "id": "9456e507",
   "metadata": {
    "papermill": {
     "duration": null,
     "end_time": null,
     "exception": null,
     "start_time": null,
     "status": "pending"
    },
    "tags": []
   },
   "outputs": [],
   "source": [
    "!$kgtk add-id --id-style wikidata -i \"$TEMP\"/derived.P31P279star.gz \\\n",
    "/ sort2 -o \"$OUT\"/derived.P31P279star.tsv.gz"
   ]
  },
  {
   "cell_type": "markdown",
   "id": "a6ebb96a",
   "metadata": {
    "papermill": {
     "duration": null,
     "end_time": null,
     "exception": null,
     "start_time": null,
     "status": "pending"
    },
    "tags": []
   },
   "source": [
    "It is also very big"
   ]
  },
  {
   "cell_type": "code",
   "execution_count": 23,
   "id": "affb4a7d",
   "metadata": {
    "papermill": {
     "duration": null,
     "end_time": null,
     "exception": null,
     "start_time": null,
     "status": "pending"
    },
    "tags": []
   },
   "outputs": [
    {
     "name": "stdout",
     "output_type": "stream",
     "text": [
      "1189725419 4758901676 72980964319\r\n"
     ]
    }
   ],
   "source": [
    "!zcat < \"$OUT\"/derived.P31P279star.tsv.gz | wc"
   ]
  },
  {
   "cell_type": "markdown",
   "id": "214136fd",
   "metadata": {
    "papermill": {
     "duration": null,
     "end_time": null,
     "exception": null,
     "start_time": null,
     "status": "pending"
    },
    "tags": []
   },
   "source": [
    "## Compute pagerank"
   ]
  },
  {
   "cell_type": "markdown",
   "id": "299cfc1d",
   "metadata": {
    "papermill": {
     "duration": null,
     "end_time": null,
     "exception": null,
     "start_time": null,
     "status": "pending"
    },
    "tags": []
   },
   "source": [
    "Now compute pagerank. These commands will exceed 16GB memory for graphs containing over 25 million nodes."
   ]
  },
  {
   "cell_type": "code",
   "execution_count": 24,
   "id": "8e0a8668",
   "metadata": {
    "papermill": {
     "duration": null,
     "end_time": null,
     "exception": null,
     "start_time": null,
     "status": "pending"
    },
    "tags": []
   },
   "outputs": [
    {
     "name": "stdout",
     "output_type": "stream",
     "text": [
      "Matplotlib is building the font cache; this may take a moment.\r\n"
     ]
    }
   ],
   "source": [
    "if compute_pagerank:\n",
    "    !$kgtk graph-statistics -i \"$ITEMS\" -o $OUT/metadata.pagerank.directed.tsv.gz \\\n",
    "    --page-rank-property directed_pagerank \\\n",
    "    --pagerank --statistics-only \\\n",
    "    --log $TEMP/metadata.pagerank.directed.summary.txt "
   ]
  },
  {
   "cell_type": "code",
   "execution_count": 25,
   "id": "5713344f",
   "metadata": {
    "papermill": {
     "duration": null,
     "end_time": null,
     "exception": null,
     "start_time": null,
     "status": "pending"
    },
    "tags": []
   },
   "outputs": [
    {
     "name": "stdout",
     "output_type": "stream",
     "text": [
      "graph loaded! It has 33937298 nodes and 110441933 edges\r\n",
      "\r\n",
      "###Top relations:\r\n",
      "P31\t33987360\r\n",
      "P6259\t7999222\r\n",
      "P59\t7350483\r\n",
      "P17\t5023882\r\n",
      "P684\t4314512\r\n",
      "P361\t3219107\r\n",
      "P703\t3061100\r\n",
      "P279\t2926455\r\n",
      "P171\t2901200\r\n",
      "P105\t2892790\r\n",
      "\r\n",
      "###PageRank\r\n",
      "Max pageranks\r\n",
      "3081\tQ4167836\t0.035786\r\n",
      "81738\tQ1264450\t0.011216\r\n",
      "341462\tQ35252665\t0.009717\r\n",
      "1906\tQ11266439\t0.008379\r\n",
      "587934\tQ17442446\t0.008315\r\n"
     ]
    }
   ],
   "source": [
    "if compute_pagerank:\n",
    "    !cat $TEMP/metadata.pagerank.directed.summary.txt"
   ]
  },
  {
   "cell_type": "code",
   "execution_count": 26,
   "id": "651d2248",
   "metadata": {
    "papermill": {
     "duration": null,
     "end_time": null,
     "exception": null,
     "start_time": null,
     "status": "pending"
    },
    "tags": []
   },
   "outputs": [],
   "source": [
    "if compute_pagerank:\n",
    "    !$kgtk graph-statistics -i \"$ITEMS\" -o $OUT/metadata.pagerank.undirected.tsv.gz \\\n",
    "    --page-rank-property undirected_pagerank \\\n",
    "    --pagerank --statistics-only --undirected \\\n",
    "    --log $TEMP/metadata.pagerank.undirected.summary.txt "
   ]
  },
  {
   "cell_type": "code",
   "execution_count": 27,
   "id": "78b20cac",
   "metadata": {
    "papermill": {
     "duration": null,
     "end_time": null,
     "exception": null,
     "start_time": null,
     "status": "pending"
    },
    "tags": []
   },
   "outputs": [
    {
     "name": "stdout",
     "output_type": "stream",
     "text": [
      "graph loaded! It has 33937298 nodes and 110441933 edges\r\n",
      "\r\n",
      "###Top relations:\r\n",
      "P31\t33987360\r\n",
      "P6259\t7999222\r\n",
      "P59\t7350483\r\n",
      "P17\t5023882\r\n",
      "P684\t4314512\r\n",
      "P361\t3219107\r\n",
      "P703\t3061100\r\n",
      "P279\t2926455\r\n",
      "P171\t2901200\r\n",
      "P105\t2892790\r\n",
      "\r\n",
      "###PageRank\r\n",
      "Max pageranks\r\n",
      "3081\tQ4167836\t0.039628\r\n",
      "81738\tQ1264450\t0.036635\r\n",
      "7291\tQ4167410\t0.015681\r\n",
      "13948\tQ523\t0.015324\r\n",
      "6740\tQ11173\t0.012707\r\n"
     ]
    }
   ],
   "source": [
    "if compute_pagerank:\n",
    "    !cat $TEMP/metadata.pagerank.undirected.summary.txt "
   ]
  },
  {
   "cell_type": "markdown",
   "id": "ef765631",
   "metadata": {
    "papermill": {
     "duration": null,
     "end_time": null,
     "exception": null,
     "start_time": null,
     "status": "pending"
    },
    "tags": []
   },
   "source": [
    "## Compute Degrees"
   ]
  },
  {
   "cell_type": "markdown",
   "id": "ffe1bd8d",
   "metadata": {
    "papermill": {
     "duration": null,
     "end_time": null,
     "exception": null,
     "start_time": null,
     "status": "pending"
    },
    "tags": []
   },
   "source": [
    "Kypher can compute the out degree by counting the node2s for each node1"
   ]
  },
  {
   "cell_type": "code",
   "execution_count": 28,
   "id": "f2d64712",
   "metadata": {
    "papermill": {
     "duration": null,
     "end_time": null,
     "exception": null,
     "start_time": null,
     "status": "pending"
    },
    "tags": []
   },
   "outputs": [
    {
     "name": "stdout",
     "output_type": "stream",
     "text": [
      "[2021-04-10 01:26:55 query]: SQL Translation:\r\n",
      "---------------------------------------------\r\n",
      "  SELECT DISTINCT graph_1_c1.\"node1\" \"_aLias.node1\", count(DISTINCT graph_1_c1.\"id\") \"_aLias.node2\", ? \"_aLias.label\"\r\n",
      "     FROM graph_1 AS graph_1_c1\r\n",
      "     GROUP BY \"_aLias.node1\"\r\n",
      "  PARAS: ['out_degree']\r\n",
      "---------------------------------------------\r\n"
     ]
    }
   ],
   "source": [
    "!$kypher -i \"$CLAIMS\" -o $TEMP/metadata.out_degree.tsv.gz \\\n",
    "--match '(n1)-[l]->()' \\\n",
    "--return 'distinct n1 as node1, count(distinct l) as node2, \"out_degree\" as label' "
   ]
  },
  {
   "cell_type": "code",
   "execution_count": 29,
   "id": "27bf9987",
   "metadata": {
    "papermill": {
     "duration": null,
     "end_time": null,
     "exception": null,
     "start_time": null,
     "status": "pending"
    },
    "tags": []
   },
   "outputs": [],
   "source": [
    "!$kgtk add-id --id-style wikidata -i $TEMP/metadata.out_degree.tsv.gz \\\n",
    "/ sort2 -o $OUT/metadata.out_degree.tsv.gz"
   ]
  },
  {
   "cell_type": "markdown",
   "id": "8b0fe212",
   "metadata": {
    "papermill": {
     "duration": null,
     "end_time": null,
     "exception": null,
     "start_time": null,
     "status": "pending"
    },
    "tags": []
   },
   "source": [
    "To count the in-degree we only care when the node2 is a wikibase-item"
   ]
  },
  {
   "cell_type": "code",
   "execution_count": 30,
   "id": "957d363c",
   "metadata": {
    "papermill": {
     "duration": null,
     "end_time": null,
     "exception": null,
     "start_time": null,
     "status": "pending"
    },
    "tags": []
   },
   "outputs": [
    {
     "name": "stdout",
     "output_type": "stream",
     "text": [
      "[2021-04-10 01:58:42 query]: SQL Translation:\r\n",
      "---------------------------------------------\r\n",
      "  SELECT DISTINCT graph_1_c1.\"node2\" \"_aLias.node1\", count(DISTINCT graph_1_c1.\"id\") \"_aLias.node2\", ? \"_aLias.label\"\r\n",
      "     FROM graph_1 AS graph_1_c1\r\n",
      "     WHERE graph_1_c1.\"node2;wikidatatype\"=?\r\n",
      "     GROUP BY \"_aLias.node1\"\r\n",
      "     ORDER BY graph_1_c1.\"node2\" ASC\r\n",
      "  PARAS: ['in_degree', 'wikibase-item']\r\n",
      "---------------------------------------------\r\n"
     ]
    }
   ],
   "source": [
    "# BUG in kypher, sometimes the following command will not work, as in we'll see multilple rows for a Qnode, which is\n",
    "# fixable by deleting cache\n",
    "!$kypher -i \"$CLAIMS\" -o $TEMP/metadata.in_degree.tsv.gz \\\n",
    "--match '()-[l]->(n2 {`wikidatatype`:\"wikibase-item\"})' \\\n",
    "--return 'distinct n2 as node1, count(distinct l) as node2, \"in_degree\" as label' \\\n",
    "--order-by 'n2'"
   ]
  },
  {
   "cell_type": "code",
   "execution_count": 31,
   "id": "96778f18",
   "metadata": {
    "papermill": {
     "duration": null,
     "end_time": null,
     "exception": null,
     "start_time": null,
     "status": "pending"
    },
    "tags": []
   },
   "outputs": [],
   "source": [
    "# rename columns before adding ids, KGTK will complain\n",
    "# df = pd.read_csv('{}/metadata.in_degree.tsv.gz'.format(os.environ['TEMP']), sep='\\t')\n",
    "# df = df.rename(columns={\"node2\": \"node1\"})\n",
    "# df = df.rename(columns={'count(DISTINCT graph_1_c1.\"id\")': \"node2\"})\n",
    "# df.to_csv('{}/metadata.in_degree.1.tsv.gz'.format(os.environ['TEMP']), sep='\\t', index=False)"
   ]
  },
  {
   "cell_type": "code",
   "execution_count": 32,
   "id": "a23d2e90",
   "metadata": {
    "papermill": {
     "duration": null,
     "end_time": null,
     "exception": null,
     "start_time": null,
     "status": "pending"
    },
    "tags": []
   },
   "outputs": [],
   "source": [
    "!$kgtk add-id --id-style wikidata -i $TEMP/metadata.in_degree.tsv.gz \\\n",
    "/ sort2 -o $OUT/metadata.in_degree.tsv.gz"
   ]
  },
  {
   "cell_type": "code",
   "execution_count": 33,
   "id": "10b4d327",
   "metadata": {
    "papermill": {
     "duration": null,
     "end_time": null,
     "exception": null,
     "start_time": null,
     "status": "pending"
    },
    "tags": []
   },
   "outputs": [
    {
     "name": "stdout",
     "output_type": "stream",
     "text": [
      "\r\n",
      "gzip: node1\tnode2\tlabel\tid\r\n",
      "stdout: Broken pipe\r\n",
      "Q1\t74\tin_degree\tQ1-in_degree-eb624d\r\n",
      "Q1000\t2124\tin_degree\tQ1000-in_degree-70e8d5\r\n",
      "Q10000002\t1\tin_degree\tQ10000002-in_degree-6b86b2\r\n",
      "Q100000040\t1\tin_degree\tQ100000040-in_degree-6b86b2\r\n",
      "Q100000143\t12\tin_degree\tQ100000143-in_degree-6b51d4\r\n",
      "Q10000019\t1\tin_degree\tQ10000019-in_degree-6b86b2\r\n",
      "Q100000259\t1\tin_degree\tQ100000259-in_degree-6b86b2\r\n",
      "Q100000265\t2\tin_degree\tQ100000265-in_degree-d4735e\r\n",
      "Q100000271\t1\tin_degree\tQ100000271-in_degree-6b86b2\r\n"
     ]
    }
   ],
   "source": [
    "!zcat < $OUT/metadata.in_degree.tsv.gz | head | col"
   ]
  },
  {
   "cell_type": "markdown",
   "id": "5b8fe205",
   "metadata": {
    "papermill": {
     "duration": null,
     "end_time": null,
     "exception": null,
     "start_time": null,
     "status": "pending"
    },
    "tags": []
   },
   "source": [
    "Calculate the distribution so we can make a nice chart"
   ]
  },
  {
   "cell_type": "code",
   "execution_count": 34,
   "id": "dfa5666d",
   "metadata": {
    "papermill": {
     "duration": null,
     "end_time": null,
     "exception": null,
     "start_time": null,
     "status": "pending"
    },
    "tags": []
   },
   "outputs": [
    {
     "name": "stdout",
     "output_type": "stream",
     "text": [
      "[2021-04-10 07:28:48 sqlstore]: IMPORT graph directly into table graph_16 from /nas/home/hrathod/output/for_novartis/novartis/useful_files/metadata.in_degree.tsv.gz ...\n",
      "[2021-04-10 07:29:08 query]: SQL Translation:\n",
      "---------------------------------------------\n",
      "  SELECT DISTINCT graph_16_c1.\"node2\" \"_aLias.in_degree\", count(DISTINCT graph_16_c1.\"node1\") \"_aLias.count\", ? \"_aLias.label\"\n",
      "     FROM graph_16 AS graph_16_c1\n",
      "     GROUP BY \"_aLias.in_degree\"\n",
      "     ORDER BY CAST(graph_16_c1.\"node2\" AS integer) ASC\n",
      "  PARAS: ['count']\n",
      "---------------------------------------------\n"
     ]
    }
   ],
   "source": [
    "!$kypher -i $OUT/metadata.in_degree.tsv.gz -o $OUT/statistics.in_degree.distribution.tsv \\\n",
    "--match '(n1)-[]->(n2)' \\\n",
    "--return 'distinct n2 as in_degree, count(distinct n1) as count, \"count\" as label' \\\n",
    "--order-by 'cast(n2, integer)' "
   ]
  },
  {
   "cell_type": "code",
   "execution_count": 35,
   "id": "9a04ed03",
   "metadata": {
    "papermill": {
     "duration": null,
     "end_time": null,
     "exception": null,
     "start_time": null,
     "status": "pending"
    },
    "tags": []
   },
   "outputs": [
    {
     "name": "stdout",
     "output_type": "stream",
     "text": [
      "in_degree\tcount\tlabel\r\n",
      "1\t3834601 count\r\n",
      "2\t797912\tcount\r\n",
      "3\t379657\tcount\r\n",
      "4\t143176\tcount\r\n",
      "5\t93515\tcount\r\n",
      "6\t64805\tcount\r\n",
      "7\t57950\tcount\r\n",
      "8\t35678\tcount\r\n",
      "9\t28832\tcount\r\n"
     ]
    }
   ],
   "source": [
    "!head $OUT/statistics.in_degree.distribution.tsv | col"
   ]
  },
  {
   "cell_type": "code",
   "execution_count": 11,
   "id": "9153a548",
   "metadata": {
    "papermill": {
     "duration": null,
     "end_time": null,
     "exception": null,
     "start_time": null,
     "status": "pending"
    },
    "tags": []
   },
   "outputs": [
    {
     "name": "stdout",
     "output_type": "stream",
     "text": [
      "[2021-04-10 13:11:07 query]: SQL Translation:\r\n",
      "---------------------------------------------\r\n",
      "  SELECT DISTINCT graph_17_c1.\"node2\" \"_aLias.out_degree\", count(DISTINCT graph_17_c1.\"node1\") \"_aLias.count\", ? \"_aLias.label\"\r\n",
      "     FROM graph_17 AS graph_17_c1\r\n",
      "     GROUP BY \"_aLias.out_degree\"\r\n",
      "     ORDER BY CAST(graph_17_c1.\"node2\" AS integer) ASC\r\n",
      "  PARAS: ['count']\r\n",
      "---------------------------------------------\r\n"
     ]
    }
   ],
   "source": [
    "!$kypher -i $OUT/metadata.out_degree.tsv.gz -o $OUT/statistics.out_degree.distribution.tsv \\\n",
    "--match '(n1)-[]->(n2)' \\\n",
    "--return 'distinct n2 as out_degree, count(distinct n1) as count, \"count\" as label' \\\n",
    "--order-by 'cast(n2, integer)' "
   ]
  },
  {
   "cell_type": "markdown",
   "id": "e2bc97c7",
   "metadata": {
    "papermill": {
     "duration": null,
     "end_time": null,
     "exception": null,
     "start_time": null,
     "status": "pending"
    },
    "tags": []
   },
   "source": [
    "Draw some charts"
   ]
  },
  {
   "cell_type": "code",
   "execution_count": 12,
   "id": "342e3f44",
   "metadata": {
    "papermill": {
     "duration": null,
     "end_time": null,
     "exception": null,
     "start_time": null,
     "status": "pending"
    },
    "tags": []
   },
   "outputs": [
    {
     "data": {
      "text/html": [
       "\n",
       "<div id=\"altair-viz-c13a1072659e4061b0ca5563466fa2c5\"></div>\n",
       "<script type=\"text/javascript\">\n",
       "  (function(spec, embedOpt){\n",
       "    let outputDiv = document.currentScript.previousElementSibling;\n",
       "    if (outputDiv.id !== \"altair-viz-c13a1072659e4061b0ca5563466fa2c5\") {\n",
       "      outputDiv = document.getElementById(\"altair-viz-c13a1072659e4061b0ca5563466fa2c5\");\n",
       "    }\n",
       "    const paths = {\n",
       "      \"vega\": \"https://cdn.jsdelivr.net/npm//vega@5?noext\",\n",
       "      \"vega-lib\": \"https://cdn.jsdelivr.net/npm//vega-lib?noext\",\n",
       "      \"vega-lite\": \"https://cdn.jsdelivr.net/npm//vega-lite@4.8.1?noext\",\n",
       "      \"vega-embed\": \"https://cdn.jsdelivr.net/npm//vega-embed@6?noext\",\n",
       "    };\n",
       "\n",
       "    function loadScript(lib) {\n",
       "      return new Promise(function(resolve, reject) {\n",
       "        var s = document.createElement('script');\n",
       "        s.src = paths[lib];\n",
       "        s.async = true;\n",
       "        s.onload = () => resolve(paths[lib]);\n",
       "        s.onerror = () => reject(`Error loading script: ${paths[lib]}`);\n",
       "        document.getElementsByTagName(\"head\")[0].appendChild(s);\n",
       "      });\n",
       "    }\n",
       "\n",
       "    function showError(err) {\n",
       "      outputDiv.innerHTML = `<div class=\"error\" style=\"color:red;\">${err}</div>`;\n",
       "      throw err;\n",
       "    }\n",
       "\n",
       "    function displayChart(vegaEmbed) {\n",
       "      vegaEmbed(outputDiv, spec, embedOpt)\n",
       "        .catch(err => showError(`Javascript Error: ${err.message}<br>This usually means there's a typo in your chart specification. See the javascript console for the full traceback.`));\n",
       "    }\n",
       "\n",
       "    if(typeof define === \"function\" && define.amd) {\n",
       "      requirejs.config({paths});\n",
       "      require([\"vega-embed\"], displayChart, err => showError(`Error loading script: ${err.message}`));\n",
       "    } else if (typeof vegaEmbed === \"function\") {\n",
       "      displayChart(vegaEmbed);\n",
       "    } else {\n",
       "      loadScript(\"vega\")\n",
       "        .then(() => loadScript(\"vega-lite\"))\n",
       "        .then(() => loadScript(\"vega-embed\"))\n",
       "        .catch(showError)\n",
       "        .then(() => displayChart(vegaEmbed));\n",
       "    }\n",
       "  })({\"config\": {\"view\": {\"continuousWidth\": 400, \"continuousHeight\": 300}}, \"data\": {\"name\": \"data-41c14adeb9bbd71b56737f785a714043\"}, \"mark\": {\"type\": \"circle\", \"size\": 60}, \"encoding\": {\"tooltip\": [{\"type\": \"quantitative\", \"field\": \"in_degree\"}, {\"type\": \"quantitative\", \"field\": \"count\"}], \"x\": {\"type\": \"quantitative\", \"field\": \"in_degree\", \"scale\": {\"type\": \"log\"}}, \"y\": {\"type\": \"quantitative\", \"field\": \"count\", \"scale\": {\"type\": \"log\"}, \"title\": \"count of nodes\"}}, \"selection\": {\"selector001\": {\"type\": \"interval\", \"bind\": \"scales\", \"encodings\": [\"x\", \"y\"]}}, \"title\": \"Distribution of In Degree\", \"$schema\": \"https://vega.github.io/schema/vega-lite/v4.8.1.json\", \"datasets\": {\"data-41c14adeb9bbd71b56737f785a714043\": [{\"in_degree\": 1, \"count\": 3834601, \"label\": \"count\"}, {\"in_degree\": 2, \"count\": 797912, \"label\": \"count\"}, {\"in_degree\": 3, \"count\": 379657, \"label\": \"count\"}, {\"in_degree\": 4, \"count\": 143176, \"label\": \"count\"}, {\"in_degree\": 5, \"count\": 93515, \"label\": \"count\"}, {\"in_degree\": 6, \"count\": 64805, \"label\": \"count\"}, {\"in_degree\": 7, \"count\": 57950, \"label\": \"count\"}, {\"in_degree\": 8, \"count\": 35678, \"label\": \"count\"}, {\"in_degree\": 9, \"count\": 28832, \"label\": \"count\"}, {\"in_degree\": 10, \"count\": 34443, \"label\": \"count\"}, {\"in_degree\": 11, \"count\": 94300, \"label\": \"count\"}, {\"in_degree\": 12, \"count\": 27271, \"label\": \"count\"}, {\"in_degree\": 13, \"count\": 16640, \"label\": \"count\"}, {\"in_degree\": 14, \"count\": 13515, \"label\": \"count\"}, {\"in_degree\": 15, \"count\": 11125, \"label\": \"count\"}, {\"in_degree\": 16, \"count\": 10298, \"label\": \"count\"}, {\"in_degree\": 17, \"count\": 8927, \"label\": \"count\"}, {\"in_degree\": 18, \"count\": 8169, \"label\": \"count\"}, {\"in_degree\": 19, \"count\": 7518, \"label\": \"count\"}, {\"in_degree\": 20, \"count\": 6905, \"label\": \"count\"}, {\"in_degree\": 21, \"count\": 6242, \"label\": \"count\"}, {\"in_degree\": 22, \"count\": 5650, \"label\": \"count\"}, {\"in_degree\": 23, \"count\": 5305, \"label\": \"count\"}, {\"in_degree\": 24, \"count\": 4953, \"label\": \"count\"}, {\"in_degree\": 25, \"count\": 4588, \"label\": \"count\"}, {\"in_degree\": 26, \"count\": 4104, \"label\": \"count\"}, {\"in_degree\": 27, \"count\": 4013, \"label\": \"count\"}, {\"in_degree\": 28, \"count\": 3751, \"label\": \"count\"}, {\"in_degree\": 29, \"count\": 3429, \"label\": \"count\"}, {\"in_degree\": 30, \"count\": 4196, \"label\": \"count\"}, {\"in_degree\": 31, \"count\": 4977, \"label\": \"count\"}, {\"in_degree\": 32, \"count\": 3287, \"label\": \"count\"}, {\"in_degree\": 33, \"count\": 3168, \"label\": \"count\"}, {\"in_degree\": 34, \"count\": 3356, \"label\": \"count\"}, {\"in_degree\": 35, \"count\": 2946, \"label\": \"count\"}, {\"in_degree\": 36, \"count\": 2411, \"label\": \"count\"}, {\"in_degree\": 37, \"count\": 2499, \"label\": \"count\"}, {\"in_degree\": 38, \"count\": 2228, \"label\": \"count\"}, {\"in_degree\": 39, \"count\": 1890, \"label\": \"count\"}, {\"in_degree\": 40, \"count\": 2084, \"label\": \"count\"}, {\"in_degree\": 41, \"count\": 1810, \"label\": \"count\"}, {\"in_degree\": 42, \"count\": 1952, \"label\": \"count\"}, {\"in_degree\": 43, \"count\": 1680, \"label\": \"count\"}, {\"in_degree\": 44, \"count\": 1838, \"label\": \"count\"}, {\"in_degree\": 45, \"count\": 1661, \"label\": \"count\"}, {\"in_degree\": 46, \"count\": 1527, \"label\": \"count\"}, {\"in_degree\": 47, \"count\": 1418, \"label\": \"count\"}, {\"in_degree\": 48, \"count\": 1545, \"label\": \"count\"}, {\"in_degree\": 49, \"count\": 1542, \"label\": \"count\"}, {\"in_degree\": 50, \"count\": 1289, \"label\": \"count\"}, {\"in_degree\": 51, \"count\": 1303, \"label\": \"count\"}, {\"in_degree\": 52, \"count\": 1115, \"label\": \"count\"}, {\"in_degree\": 53, \"count\": 1106, \"label\": \"count\"}, {\"in_degree\": 54, \"count\": 1151, \"label\": \"count\"}, {\"in_degree\": 55, \"count\": 1176, \"label\": \"count\"}, {\"in_degree\": 56, \"count\": 1012, \"label\": \"count\"}, {\"in_degree\": 57, \"count\": 1140, \"label\": \"count\"}, {\"in_degree\": 58, \"count\": 1027, \"label\": \"count\"}, {\"in_degree\": 59, \"count\": 916, \"label\": \"count\"}, {\"in_degree\": 60, \"count\": 956, \"label\": \"count\"}, {\"in_degree\": 61, \"count\": 895, \"label\": \"count\"}, {\"in_degree\": 62, \"count\": 939, \"label\": \"count\"}, {\"in_degree\": 63, \"count\": 964, \"label\": \"count\"}, {\"in_degree\": 64, \"count\": 849, \"label\": \"count\"}, {\"in_degree\": 65, \"count\": 844, \"label\": \"count\"}, {\"in_degree\": 66, \"count\": 761, \"label\": \"count\"}, {\"in_degree\": 67, \"count\": 803, \"label\": \"count\"}, {\"in_degree\": 68, \"count\": 715, \"label\": \"count\"}, {\"in_degree\": 69, \"count\": 946, \"label\": \"count\"}, {\"in_degree\": 70, \"count\": 820, \"label\": \"count\"}, {\"in_degree\": 71, \"count\": 811, \"label\": \"count\"}, {\"in_degree\": 72, \"count\": 610, \"label\": \"count\"}, {\"in_degree\": 73, \"count\": 732, \"label\": \"count\"}, {\"in_degree\": 74, \"count\": 722, \"label\": \"count\"}, {\"in_degree\": 75, \"count\": 596, \"label\": \"count\"}, {\"in_degree\": 76, \"count\": 591, \"label\": \"count\"}, {\"in_degree\": 77, \"count\": 754, \"label\": \"count\"}, {\"in_degree\": 78, \"count\": 590, \"label\": \"count\"}, {\"in_degree\": 79, \"count\": 576, \"label\": \"count\"}, {\"in_degree\": 80, \"count\": 619, \"label\": \"count\"}, {\"in_degree\": 81, \"count\": 477, \"label\": \"count\"}, {\"in_degree\": 82, \"count\": 591, \"label\": \"count\"}, {\"in_degree\": 83, \"count\": 537, \"label\": \"count\"}, {\"in_degree\": 84, \"count\": 447, \"label\": \"count\"}, {\"in_degree\": 85, \"count\": 435, \"label\": \"count\"}, {\"in_degree\": 86, \"count\": 532, \"label\": \"count\"}, {\"in_degree\": 87, \"count\": 434, \"label\": \"count\"}, {\"in_degree\": 88, \"count\": 479, \"label\": \"count\"}, {\"in_degree\": 89, \"count\": 415, \"label\": \"count\"}, {\"in_degree\": 90, \"count\": 387, \"label\": \"count\"}, {\"in_degree\": 91, \"count\": 411, \"label\": \"count\"}, {\"in_degree\": 92, \"count\": 483, \"label\": \"count\"}, {\"in_degree\": 93, \"count\": 445, \"label\": \"count\"}, {\"in_degree\": 94, \"count\": 389, \"label\": \"count\"}, {\"in_degree\": 95, \"count\": 348, \"label\": \"count\"}, {\"in_degree\": 96, \"count\": 563, \"label\": \"count\"}, {\"in_degree\": 97, \"count\": 331, \"label\": \"count\"}, {\"in_degree\": 98, \"count\": 550, \"label\": \"count\"}, {\"in_degree\": 99, \"count\": 338, \"label\": \"count\"}, {\"in_degree\": 100, \"count\": 430, \"label\": \"count\"}, {\"in_degree\": 101, \"count\": 381, \"label\": \"count\"}, {\"in_degree\": 102, \"count\": 307, \"label\": \"count\"}, {\"in_degree\": 103, \"count\": 307, \"label\": \"count\"}, {\"in_degree\": 104, \"count\": 422, \"label\": \"count\"}, {\"in_degree\": 105, \"count\": 505, \"label\": \"count\"}, {\"in_degree\": 106, \"count\": 314, \"label\": \"count\"}, {\"in_degree\": 107, \"count\": 288, \"label\": \"count\"}, {\"in_degree\": 108, \"count\": 320, \"label\": \"count\"}, {\"in_degree\": 109, \"count\": 302, \"label\": \"count\"}, {\"in_degree\": 110, \"count\": 282, \"label\": \"count\"}, {\"in_degree\": 111, \"count\": 408, \"label\": \"count\"}, {\"in_degree\": 112, \"count\": 412, \"label\": \"count\"}, {\"in_degree\": 113, \"count\": 262, \"label\": \"count\"}, {\"in_degree\": 114, \"count\": 284, \"label\": \"count\"}, {\"in_degree\": 115, \"count\": 376, \"label\": \"count\"}, {\"in_degree\": 116, \"count\": 250, \"label\": \"count\"}, {\"in_degree\": 117, \"count\": 259, \"label\": \"count\"}, {\"in_degree\": 118, \"count\": 278, \"label\": \"count\"}, {\"in_degree\": 119, \"count\": 251, \"label\": \"count\"}, {\"in_degree\": 120, \"count\": 390, \"label\": \"count\"}, {\"in_degree\": 121, \"count\": 250, \"label\": \"count\"}, {\"in_degree\": 122, \"count\": 358, \"label\": \"count\"}, {\"in_degree\": 123, \"count\": 361, \"label\": \"count\"}, {\"in_degree\": 124, \"count\": 339, \"label\": \"count\"}, {\"in_degree\": 125, \"count\": 357, \"label\": \"count\"}, {\"in_degree\": 126, \"count\": 327, \"label\": \"count\"}, {\"in_degree\": 127, \"count\": 361, \"label\": \"count\"}, {\"in_degree\": 128, \"count\": 234, \"label\": \"count\"}, {\"in_degree\": 129, \"count\": 221, \"label\": \"count\"}, {\"in_degree\": 130, \"count\": 350, \"label\": \"count\"}, {\"in_degree\": 131, \"count\": 206, \"label\": \"count\"}, {\"in_degree\": 132, \"count\": 201, \"label\": \"count\"}, {\"in_degree\": 133, \"count\": 204, \"label\": \"count\"}, {\"in_degree\": 134, \"count\": 201, \"label\": \"count\"}, {\"in_degree\": 135, \"count\": 172, \"label\": \"count\"}, {\"in_degree\": 136, \"count\": 206, \"label\": \"count\"}, {\"in_degree\": 137, \"count\": 307, \"label\": \"count\"}, {\"in_degree\": 138, \"count\": 165, \"label\": \"count\"}, {\"in_degree\": 139, \"count\": 160, \"label\": \"count\"}, {\"in_degree\": 140, \"count\": 174, \"label\": \"count\"}, {\"in_degree\": 141, \"count\": 306, \"label\": \"count\"}, {\"in_degree\": 142, \"count\": 296, \"label\": \"count\"}, {\"in_degree\": 143, \"count\": 168, \"label\": \"count\"}, {\"in_degree\": 144, \"count\": 145, \"label\": \"count\"}, {\"in_degree\": 145, \"count\": 144, \"label\": \"count\"}, {\"in_degree\": 146, \"count\": 165, \"label\": \"count\"}, {\"in_degree\": 147, \"count\": 139, \"label\": \"count\"}, {\"in_degree\": 148, \"count\": 173, \"label\": \"count\"}, {\"in_degree\": 149, \"count\": 155, \"label\": \"count\"}, {\"in_degree\": 150, \"count\": 155, \"label\": \"count\"}, {\"in_degree\": 151, \"count\": 136, \"label\": \"count\"}, {\"in_degree\": 152, \"count\": 139, \"label\": \"count\"}, {\"in_degree\": 153, \"count\": 448, \"label\": \"count\"}, {\"in_degree\": 154, \"count\": 134, \"label\": \"count\"}, {\"in_degree\": 155, \"count\": 133, \"label\": \"count\"}, {\"in_degree\": 156, \"count\": 149, \"label\": \"count\"}, {\"in_degree\": 157, \"count\": 121, \"label\": \"count\"}, {\"in_degree\": 158, \"count\": 137, \"label\": \"count\"}, {\"in_degree\": 159, \"count\": 125, \"label\": \"count\"}, {\"in_degree\": 160, \"count\": 142, \"label\": \"count\"}, {\"in_degree\": 161, \"count\": 140, \"label\": \"count\"}, {\"in_degree\": 162, \"count\": 134, \"label\": \"count\"}, {\"in_degree\": 163, \"count\": 255, \"label\": \"count\"}, {\"in_degree\": 164, \"count\": 150, \"label\": \"count\"}, {\"in_degree\": 165, \"count\": 127, \"label\": \"count\"}, {\"in_degree\": 166, \"count\": 105, \"label\": \"count\"}, {\"in_degree\": 167, \"count\": 137, \"label\": \"count\"}, {\"in_degree\": 168, \"count\": 271, \"label\": \"count\"}, {\"in_degree\": 169, \"count\": 131, \"label\": \"count\"}, {\"in_degree\": 170, \"count\": 113, \"label\": \"count\"}, {\"in_degree\": 171, \"count\": 118, \"label\": \"count\"}, {\"in_degree\": 172, \"count\": 266, \"label\": \"count\"}, {\"in_degree\": 173, \"count\": 83, \"label\": \"count\"}, {\"in_degree\": 174, \"count\": 75, \"label\": \"count\"}, {\"in_degree\": 175, \"count\": 118, \"label\": \"count\"}, {\"in_degree\": 176, \"count\": 109, \"label\": \"count\"}, {\"in_degree\": 177, \"count\": 108, \"label\": \"count\"}, {\"in_degree\": 178, \"count\": 100, \"label\": \"count\"}, {\"in_degree\": 179, \"count\": 112, \"label\": \"count\"}, {\"in_degree\": 180, \"count\": 95, \"label\": \"count\"}, {\"in_degree\": 181, \"count\": 106, \"label\": \"count\"}, {\"in_degree\": 182, \"count\": 281, \"label\": \"count\"}, {\"in_degree\": 183, \"count\": 121, \"label\": \"count\"}, {\"in_degree\": 184, \"count\": 97, \"label\": \"count\"}, {\"in_degree\": 185, \"count\": 102, \"label\": \"count\"}, {\"in_degree\": 186, \"count\": 95, \"label\": \"count\"}, {\"in_degree\": 187, \"count\": 99, \"label\": \"count\"}, {\"in_degree\": 188, \"count\": 111, \"label\": \"count\"}, {\"in_degree\": 189, \"count\": 80, \"label\": \"count\"}, {\"in_degree\": 190, \"count\": 94, \"label\": \"count\"}, {\"in_degree\": 191, \"count\": 84, \"label\": \"count\"}, {\"in_degree\": 192, \"count\": 100, \"label\": \"count\"}, {\"in_degree\": 193, \"count\": 66, \"label\": \"count\"}, {\"in_degree\": 194, \"count\": 83, \"label\": \"count\"}, {\"in_degree\": 195, \"count\": 85, \"label\": \"count\"}, {\"in_degree\": 196, \"count\": 85, \"label\": \"count\"}, {\"in_degree\": 197, \"count\": 269, \"label\": \"count\"}, {\"in_degree\": 198, \"count\": 84, \"label\": \"count\"}, {\"in_degree\": 199, \"count\": 270, \"label\": \"count\"}, {\"in_degree\": 200, \"count\": 65, \"label\": \"count\"}, {\"in_degree\": 201, \"count\": 75, \"label\": \"count\"}, {\"in_degree\": 202, \"count\": 70, \"label\": \"count\"}, {\"in_degree\": 203, \"count\": 98, \"label\": \"count\"}, {\"in_degree\": 204, \"count\": 76, \"label\": \"count\"}, {\"in_degree\": 205, \"count\": 267, \"label\": \"count\"}, {\"in_degree\": 206, \"count\": 84, \"label\": \"count\"}, {\"in_degree\": 207, \"count\": 66, \"label\": \"count\"}, {\"in_degree\": 208, \"count\": 277, \"label\": \"count\"}, {\"in_degree\": 209, \"count\": 71, \"label\": \"count\"}, {\"in_degree\": 210, \"count\": 73, \"label\": \"count\"}, {\"in_degree\": 211, \"count\": 71, \"label\": \"count\"}, {\"in_degree\": 212, \"count\": 292, \"label\": \"count\"}, {\"in_degree\": 213, \"count\": 77, \"label\": \"count\"}, {\"in_degree\": 214, \"count\": 71, \"label\": \"count\"}, {\"in_degree\": 215, \"count\": 55, \"label\": \"count\"}, {\"in_degree\": 216, \"count\": 59, \"label\": \"count\"}, {\"in_degree\": 217, \"count\": 82, \"label\": \"count\"}, {\"in_degree\": 218, \"count\": 64, \"label\": \"count\"}, {\"in_degree\": 219, \"count\": 67, \"label\": \"count\"}, {\"in_degree\": 220, \"count\": 73, \"label\": \"count\"}, {\"in_degree\": 221, \"count\": 67, \"label\": \"count\"}, {\"in_degree\": 222, \"count\": 63, \"label\": \"count\"}, {\"in_degree\": 223, \"count\": 63, \"label\": \"count\"}, {\"in_degree\": 224, \"count\": 61, \"label\": \"count\"}, {\"in_degree\": 225, \"count\": 75, \"label\": \"count\"}, {\"in_degree\": 226, \"count\": 64, \"label\": \"count\"}, {\"in_degree\": 227, \"count\": 55, \"label\": \"count\"}, {\"in_degree\": 228, \"count\": 295, \"label\": \"count\"}, {\"in_degree\": 229, \"count\": 60, \"label\": \"count\"}, {\"in_degree\": 230, \"count\": 68, \"label\": \"count\"}, {\"in_degree\": 231, \"count\": 60, \"label\": \"count\"}, {\"in_degree\": 232, \"count\": 51, \"label\": \"count\"}, {\"in_degree\": 233, \"count\": 52, \"label\": \"count\"}, {\"in_degree\": 234, \"count\": 60, \"label\": \"count\"}, {\"in_degree\": 235, \"count\": 56, \"label\": \"count\"}, {\"in_degree\": 236, \"count\": 52, \"label\": \"count\"}, {\"in_degree\": 237, \"count\": 520, \"label\": \"count\"}, {\"in_degree\": 238, \"count\": 57, \"label\": \"count\"}, {\"in_degree\": 239, \"count\": 65, \"label\": \"count\"}, {\"in_degree\": 240, \"count\": 57, \"label\": \"count\"}, {\"in_degree\": 241, \"count\": 67, \"label\": \"count\"}, {\"in_degree\": 242, \"count\": 63, \"label\": \"count\"}, {\"in_degree\": 243, \"count\": 53, \"label\": \"count\"}, {\"in_degree\": 244, \"count\": 51, \"label\": \"count\"}, {\"in_degree\": 245, \"count\": 60, \"label\": \"count\"}, {\"in_degree\": 246, \"count\": 57, \"label\": \"count\"}, {\"in_degree\": 247, \"count\": 56, \"label\": \"count\"}, {\"in_degree\": 248, \"count\": 56, \"label\": \"count\"}, {\"in_degree\": 249, \"count\": 50, \"label\": \"count\"}, {\"in_degree\": 250, \"count\": 43, \"label\": \"count\"}, {\"in_degree\": 251, \"count\": 62, \"label\": \"count\"}, {\"in_degree\": 252, \"count\": 54, \"label\": \"count\"}, {\"in_degree\": 253, \"count\": 44, \"label\": \"count\"}, {\"in_degree\": 254, \"count\": 57, \"label\": \"count\"}, {\"in_degree\": 255, \"count\": 33, \"label\": \"count\"}, {\"in_degree\": 256, \"count\": 45, \"label\": \"count\"}, {\"in_degree\": 257, \"count\": 43, \"label\": \"count\"}, {\"in_degree\": 258, \"count\": 47, \"label\": \"count\"}, {\"in_degree\": 259, \"count\": 53, \"label\": \"count\"}, {\"in_degree\": 260, \"count\": 50, \"label\": \"count\"}, {\"in_degree\": 261, \"count\": 58, \"label\": \"count\"}, {\"in_degree\": 262, \"count\": 53, \"label\": \"count\"}, {\"in_degree\": 263, \"count\": 58, \"label\": \"count\"}, {\"in_degree\": 264, \"count\": 56, \"label\": \"count\"}, {\"in_degree\": 265, \"count\": 41, \"label\": \"count\"}, {\"in_degree\": 266, \"count\": 42, \"label\": \"count\"}, {\"in_degree\": 267, \"count\": 34, \"label\": \"count\"}, {\"in_degree\": 268, \"count\": 44, \"label\": \"count\"}, {\"in_degree\": 269, \"count\": 48, \"label\": \"count\"}, {\"in_degree\": 270, \"count\": 39, \"label\": \"count\"}, {\"in_degree\": 271, \"count\": 39, \"label\": \"count\"}, {\"in_degree\": 272, \"count\": 45, \"label\": \"count\"}, {\"in_degree\": 273, \"count\": 45, \"label\": \"count\"}, {\"in_degree\": 274, \"count\": 53, \"label\": \"count\"}, {\"in_degree\": 275, \"count\": 34, \"label\": \"count\"}, {\"in_degree\": 276, \"count\": 50, \"label\": \"count\"}, {\"in_degree\": 277, \"count\": 38, \"label\": \"count\"}, {\"in_degree\": 278, \"count\": 286, \"label\": \"count\"}, {\"in_degree\": 279, \"count\": 336, \"label\": \"count\"}, {\"in_degree\": 280, \"count\": 51, \"label\": \"count\"}, {\"in_degree\": 281, \"count\": 46, \"label\": \"count\"}, {\"in_degree\": 282, \"count\": 321, \"label\": \"count\"}, {\"in_degree\": 283, \"count\": 328, \"label\": \"count\"}, {\"in_degree\": 284, \"count\": 34, \"label\": \"count\"}, {\"in_degree\": 285, \"count\": 34, \"label\": \"count\"}, {\"in_degree\": 286, \"count\": 42, \"label\": \"count\"}, {\"in_degree\": 287, \"count\": 36, \"label\": \"count\"}, {\"in_degree\": 288, \"count\": 34, \"label\": \"count\"}, {\"in_degree\": 289, \"count\": 39, \"label\": \"count\"}, {\"in_degree\": 290, \"count\": 41, \"label\": \"count\"}, {\"in_degree\": 291, \"count\": 35, \"label\": \"count\"}, {\"in_degree\": 292, \"count\": 37, \"label\": \"count\"}, {\"in_degree\": 293, \"count\": 43, \"label\": \"count\"}, {\"in_degree\": 294, \"count\": 34, \"label\": \"count\"}, {\"in_degree\": 295, \"count\": 339, \"label\": \"count\"}, {\"in_degree\": 296, \"count\": 32, \"label\": \"count\"}, {\"in_degree\": 297, \"count\": 44, \"label\": \"count\"}, {\"in_degree\": 298, \"count\": 338, \"label\": \"count\"}, {\"in_degree\": 299, \"count\": 40, \"label\": \"count\"}, {\"in_degree\": 300, \"count\": 38, \"label\": \"count\"}, {\"in_degree\": 301, \"count\": 339, \"label\": \"count\"}, {\"in_degree\": 302, \"count\": 42, \"label\": \"count\"}, {\"in_degree\": 303, \"count\": 41, \"label\": \"count\"}, {\"in_degree\": 304, \"count\": 33, \"label\": \"count\"}, {\"in_degree\": 305, \"count\": 33, \"label\": \"count\"}, {\"in_degree\": 306, \"count\": 41, \"label\": \"count\"}, {\"in_degree\": 307, \"count\": 57, \"label\": \"count\"}, {\"in_degree\": 308, \"count\": 41, \"label\": \"count\"}, {\"in_degree\": 309, \"count\": 23, \"label\": \"count\"}, {\"in_degree\": 310, \"count\": 37, \"label\": \"count\"}, {\"in_degree\": 311, \"count\": 26, \"label\": \"count\"}, {\"in_degree\": 312, \"count\": 283, \"label\": \"count\"}, {\"in_degree\": 313, \"count\": 37, \"label\": \"count\"}, {\"in_degree\": 314, \"count\": 39, \"label\": \"count\"}, {\"in_degree\": 315, \"count\": 39, \"label\": \"count\"}, {\"in_degree\": 316, \"count\": 31, \"label\": \"count\"}, {\"in_degree\": 317, \"count\": 35, \"label\": \"count\"}, {\"in_degree\": 318, \"count\": 25, \"label\": \"count\"}, {\"in_degree\": 319, \"count\": 40, \"label\": \"count\"}, {\"in_degree\": 320, \"count\": 27, \"label\": \"count\"}, {\"in_degree\": 321, \"count\": 32, \"label\": \"count\"}, {\"in_degree\": 322, \"count\": 36, \"label\": \"count\"}, {\"in_degree\": 323, \"count\": 43, \"label\": \"count\"}, {\"in_degree\": 324, \"count\": 32, \"label\": \"count\"}, {\"in_degree\": 325, \"count\": 40, \"label\": \"count\"}, {\"in_degree\": 326, \"count\": 29, \"label\": \"count\"}, {\"in_degree\": 327, \"count\": 365, \"label\": \"count\"}, {\"in_degree\": 328, \"count\": 32, \"label\": \"count\"}, {\"in_degree\": 329, \"count\": 37, \"label\": \"count\"}, {\"in_degree\": 330, \"count\": 26, \"label\": \"count\"}, {\"in_degree\": 331, \"count\": 99, \"label\": \"count\"}, {\"in_degree\": 332, \"count\": 40, \"label\": \"count\"}, {\"in_degree\": 333, \"count\": 28, \"label\": \"count\"}, {\"in_degree\": 334, \"count\": 35, \"label\": \"count\"}, {\"in_degree\": 335, \"count\": 39, \"label\": \"count\"}, {\"in_degree\": 336, \"count\": 364, \"label\": \"count\"}, {\"in_degree\": 337, \"count\": 29, \"label\": \"count\"}, {\"in_degree\": 338, \"count\": 31, \"label\": \"count\"}, {\"in_degree\": 339, \"count\": 34, \"label\": \"count\"}, {\"in_degree\": 340, \"count\": 25, \"label\": \"count\"}, {\"in_degree\": 341, \"count\": 22, \"label\": \"count\"}, {\"in_degree\": 342, \"count\": 31, \"label\": \"count\"}, {\"in_degree\": 343, \"count\": 38, \"label\": \"count\"}, {\"in_degree\": 344, \"count\": 26, \"label\": \"count\"}, {\"in_degree\": 345, \"count\": 33, \"label\": \"count\"}, {\"in_degree\": 346, \"count\": 41, \"label\": \"count\"}, {\"in_degree\": 347, \"count\": 32, \"label\": \"count\"}, {\"in_degree\": 348, \"count\": 32, \"label\": \"count\"}, {\"in_degree\": 349, \"count\": 13, \"label\": \"count\"}, {\"in_degree\": 350, \"count\": 27, \"label\": \"count\"}, {\"in_degree\": 351, \"count\": 18, \"label\": \"count\"}, {\"in_degree\": 352, \"count\": 22, \"label\": \"count\"}, {\"in_degree\": 353, \"count\": 25, \"label\": \"count\"}, {\"in_degree\": 354, \"count\": 31, \"label\": \"count\"}, {\"in_degree\": 355, \"count\": 30, \"label\": \"count\"}, {\"in_degree\": 356, \"count\": 25, \"label\": \"count\"}, {\"in_degree\": 357, \"count\": 27, \"label\": \"count\"}, {\"in_degree\": 358, \"count\": 21, \"label\": \"count\"}, {\"in_degree\": 359, \"count\": 32, \"label\": \"count\"}, {\"in_degree\": 360, \"count\": 27, \"label\": \"count\"}, {\"in_degree\": 361, \"count\": 22, \"label\": \"count\"}, {\"in_degree\": 362, \"count\": 24, \"label\": \"count\"}, {\"in_degree\": 363, \"count\": 20, \"label\": \"count\"}, {\"in_degree\": 364, \"count\": 25, \"label\": \"count\"}, {\"in_degree\": 365, \"count\": 26, \"label\": \"count\"}, {\"in_degree\": 366, \"count\": 26, \"label\": \"count\"}, {\"in_degree\": 367, \"count\": 24, \"label\": \"count\"}, {\"in_degree\": 368, \"count\": 27, \"label\": \"count\"}, {\"in_degree\": 369, \"count\": 22, \"label\": \"count\"}, {\"in_degree\": 370, \"count\": 35, \"label\": \"count\"}, {\"in_degree\": 371, \"count\": 23, \"label\": \"count\"}, {\"in_degree\": 372, \"count\": 20, \"label\": \"count\"}, {\"in_degree\": 373, \"count\": 24, \"label\": \"count\"}, {\"in_degree\": 374, \"count\": 27, \"label\": \"count\"}, {\"in_degree\": 375, \"count\": 24, \"label\": \"count\"}, {\"in_degree\": 376, \"count\": 23, \"label\": \"count\"}, {\"in_degree\": 377, \"count\": 25, \"label\": \"count\"}, {\"in_degree\": 378, \"count\": 20, \"label\": \"count\"}, {\"in_degree\": 379, \"count\": 24, \"label\": \"count\"}, {\"in_degree\": 380, \"count\": 18, \"label\": \"count\"}, {\"in_degree\": 381, \"count\": 25, \"label\": \"count\"}, {\"in_degree\": 382, \"count\": 25, \"label\": \"count\"}, {\"in_degree\": 383, \"count\": 24, \"label\": \"count\"}, {\"in_degree\": 384, \"count\": 27, \"label\": \"count\"}, {\"in_degree\": 385, \"count\": 24, \"label\": \"count\"}, {\"in_degree\": 386, \"count\": 17, \"label\": \"count\"}, {\"in_degree\": 387, \"count\": 19, \"label\": \"count\"}, {\"in_degree\": 388, \"count\": 14, \"label\": \"count\"}, {\"in_degree\": 389, \"count\": 17, \"label\": \"count\"}, {\"in_degree\": 390, \"count\": 14, \"label\": \"count\"}, {\"in_degree\": 391, \"count\": 25, \"label\": \"count\"}, {\"in_degree\": 392, \"count\": 21, \"label\": \"count\"}, {\"in_degree\": 393, \"count\": 18, \"label\": \"count\"}, {\"in_degree\": 394, \"count\": 16, \"label\": \"count\"}, {\"in_degree\": 395, \"count\": 25, \"label\": \"count\"}, {\"in_degree\": 396, \"count\": 17, \"label\": \"count\"}, {\"in_degree\": 397, \"count\": 21, \"label\": \"count\"}, {\"in_degree\": 398, \"count\": 22, \"label\": \"count\"}, {\"in_degree\": 399, \"count\": 16, \"label\": \"count\"}, {\"in_degree\": 400, \"count\": 26, \"label\": \"count\"}, {\"in_degree\": 401, \"count\": 21, \"label\": \"count\"}, {\"in_degree\": 402, \"count\": 31, \"label\": \"count\"}, {\"in_degree\": 403, \"count\": 15, \"label\": \"count\"}, {\"in_degree\": 404, \"count\": 15, \"label\": \"count\"}, {\"in_degree\": 405, \"count\": 16, \"label\": \"count\"}, {\"in_degree\": 406, \"count\": 19, \"label\": \"count\"}, {\"in_degree\": 407, \"count\": 19, \"label\": \"count\"}, {\"in_degree\": 408, \"count\": 28, \"label\": \"count\"}, {\"in_degree\": 409, \"count\": 23, \"label\": \"count\"}, {\"in_degree\": 410, \"count\": 434, \"label\": \"count\"}, {\"in_degree\": 411, \"count\": 20, \"label\": \"count\"}, {\"in_degree\": 412, \"count\": 18, \"label\": \"count\"}, {\"in_degree\": 413, \"count\": 20, \"label\": \"count\"}, {\"in_degree\": 414, \"count\": 35, \"label\": \"count\"}, {\"in_degree\": 415, \"count\": 17, \"label\": \"count\"}, {\"in_degree\": 416, \"count\": 19, \"label\": \"count\"}, {\"in_degree\": 417, \"count\": 22, \"label\": \"count\"}, {\"in_degree\": 418, \"count\": 18, \"label\": \"count\"}, {\"in_degree\": 419, \"count\": 15, \"label\": \"count\"}, {\"in_degree\": 420, \"count\": 21, \"label\": \"count\"}, {\"in_degree\": 421, \"count\": 16, \"label\": \"count\"}, {\"in_degree\": 422, \"count\": 22, \"label\": \"count\"}, {\"in_degree\": 423, \"count\": 21, \"label\": \"count\"}, {\"in_degree\": 424, \"count\": 30, \"label\": \"count\"}, {\"in_degree\": 425, \"count\": 22, \"label\": \"count\"}, {\"in_degree\": 426, \"count\": 17, \"label\": \"count\"}, {\"in_degree\": 427, \"count\": 21, \"label\": \"count\"}, {\"in_degree\": 428, \"count\": 18, \"label\": \"count\"}, {\"in_degree\": 429, \"count\": 19, \"label\": \"count\"}, {\"in_degree\": 430, \"count\": 18, \"label\": \"count\"}, {\"in_degree\": 431, \"count\": 13, \"label\": \"count\"}, {\"in_degree\": 432, \"count\": 17, \"label\": \"count\"}, {\"in_degree\": 433, \"count\": 22, \"label\": \"count\"}, {\"in_degree\": 434, \"count\": 30, \"label\": \"count\"}, {\"in_degree\": 435, \"count\": 24, \"label\": \"count\"}, {\"in_degree\": 436, \"count\": 15, \"label\": \"count\"}, {\"in_degree\": 437, \"count\": 11, \"label\": \"count\"}, {\"in_degree\": 438, \"count\": 18, \"label\": \"count\"}, {\"in_degree\": 439, \"count\": 12, \"label\": \"count\"}, {\"in_degree\": 440, \"count\": 19, \"label\": \"count\"}, {\"in_degree\": 441, \"count\": 19, \"label\": \"count\"}, {\"in_degree\": 442, \"count\": 18, \"label\": \"count\"}, {\"in_degree\": 443, \"count\": 16, \"label\": \"count\"}, {\"in_degree\": 444, \"count\": 17, \"label\": \"count\"}, {\"in_degree\": 445, \"count\": 25, \"label\": \"count\"}, {\"in_degree\": 446, \"count\": 17, \"label\": \"count\"}, {\"in_degree\": 447, \"count\": 25, \"label\": \"count\"}, {\"in_degree\": 448, \"count\": 21, \"label\": \"count\"}, {\"in_degree\": 449, \"count\": 24, \"label\": \"count\"}, {\"in_degree\": 450, \"count\": 16, \"label\": \"count\"}, {\"in_degree\": 451, \"count\": 23, \"label\": \"count\"}, {\"in_degree\": 452, \"count\": 26, \"label\": \"count\"}, {\"in_degree\": 453, \"count\": 5, \"label\": \"count\"}, {\"in_degree\": 454, \"count\": 13, \"label\": \"count\"}, {\"in_degree\": 455, \"count\": 18, \"label\": \"count\"}, {\"in_degree\": 456, \"count\": 13, \"label\": \"count\"}, {\"in_degree\": 457, \"count\": 9, \"label\": \"count\"}, {\"in_degree\": 458, \"count\": 14, \"label\": \"count\"}, {\"in_degree\": 459, \"count\": 15, \"label\": \"count\"}, {\"in_degree\": 460, \"count\": 21, \"label\": \"count\"}, {\"in_degree\": 461, \"count\": 15, \"label\": \"count\"}, {\"in_degree\": 462, \"count\": 15, \"label\": \"count\"}, {\"in_degree\": 463, \"count\": 14, \"label\": \"count\"}, {\"in_degree\": 464, \"count\": 13, \"label\": \"count\"}, {\"in_degree\": 465, \"count\": 17, \"label\": \"count\"}, {\"in_degree\": 466, \"count\": 9, \"label\": \"count\"}, {\"in_degree\": 467, \"count\": 24, \"label\": \"count\"}, {\"in_degree\": 468, \"count\": 16, \"label\": \"count\"}, {\"in_degree\": 469, \"count\": 8, \"label\": \"count\"}, {\"in_degree\": 470, \"count\": 19, \"label\": \"count\"}, {\"in_degree\": 471, \"count\": 16, \"label\": \"count\"}, {\"in_degree\": 472, \"count\": 21, \"label\": \"count\"}, {\"in_degree\": 473, \"count\": 5, \"label\": \"count\"}, {\"in_degree\": 474, \"count\": 13, \"label\": \"count\"}, {\"in_degree\": 475, \"count\": 16, \"label\": \"count\"}, {\"in_degree\": 476, \"count\": 16, \"label\": \"count\"}, {\"in_degree\": 477, \"count\": 16, \"label\": \"count\"}, {\"in_degree\": 478, \"count\": 10, \"label\": \"count\"}, {\"in_degree\": 479, \"count\": 16, \"label\": \"count\"}, {\"in_degree\": 480, \"count\": 14, \"label\": \"count\"}, {\"in_degree\": 481, \"count\": 16, \"label\": \"count\"}, {\"in_degree\": 482, \"count\": 13, \"label\": \"count\"}, {\"in_degree\": 483, \"count\": 10, \"label\": \"count\"}, {\"in_degree\": 484, \"count\": 10, \"label\": \"count\"}, {\"in_degree\": 485, \"count\": 14, \"label\": \"count\"}, {\"in_degree\": 486, \"count\": 10, \"label\": \"count\"}, {\"in_degree\": 487, \"count\": 19, \"label\": \"count\"}, {\"in_degree\": 488, \"count\": 15, \"label\": \"count\"}, {\"in_degree\": 489, \"count\": 10, \"label\": \"count\"}, {\"in_degree\": 490, \"count\": 7, \"label\": \"count\"}, {\"in_degree\": 491, \"count\": 12, \"label\": \"count\"}, {\"in_degree\": 492, \"count\": 11, \"label\": \"count\"}, {\"in_degree\": 493, \"count\": 12, \"label\": \"count\"}, {\"in_degree\": 494, \"count\": 5, \"label\": \"count\"}, {\"in_degree\": 495, \"count\": 17, \"label\": \"count\"}, {\"in_degree\": 496, \"count\": 10, \"label\": \"count\"}, {\"in_degree\": 497, \"count\": 13, \"label\": \"count\"}, {\"in_degree\": 498, \"count\": 6, \"label\": \"count\"}, {\"in_degree\": 499, \"count\": 17, \"label\": \"count\"}, {\"in_degree\": 500, \"count\": 16, \"label\": \"count\"}, {\"in_degree\": 501, \"count\": 16, \"label\": \"count\"}, {\"in_degree\": 502, \"count\": 10, \"label\": \"count\"}, {\"in_degree\": 503, \"count\": 12, \"label\": \"count\"}, {\"in_degree\": 504, \"count\": 15, \"label\": \"count\"}, {\"in_degree\": 505, \"count\": 12, \"label\": \"count\"}, {\"in_degree\": 506, \"count\": 11, \"label\": \"count\"}, {\"in_degree\": 507, \"count\": 9, \"label\": \"count\"}, {\"in_degree\": 508, \"count\": 8, \"label\": \"count\"}, {\"in_degree\": 509, \"count\": 15, \"label\": \"count\"}, {\"in_degree\": 510, \"count\": 14, \"label\": \"count\"}, {\"in_degree\": 511, \"count\": 17, \"label\": \"count\"}, {\"in_degree\": 512, \"count\": 13, \"label\": \"count\"}, {\"in_degree\": 513, \"count\": 13, \"label\": \"count\"}, {\"in_degree\": 514, \"count\": 8, \"label\": \"count\"}, {\"in_degree\": 515, \"count\": 21, \"label\": \"count\"}, {\"in_degree\": 516, \"count\": 15, \"label\": \"count\"}, {\"in_degree\": 517, \"count\": 15, \"label\": \"count\"}, {\"in_degree\": 518, \"count\": 16, \"label\": \"count\"}, {\"in_degree\": 519, \"count\": 12, \"label\": \"count\"}, {\"in_degree\": 520, \"count\": 12, \"label\": \"count\"}, {\"in_degree\": 521, \"count\": 14, \"label\": \"count\"}, {\"in_degree\": 522, \"count\": 9, \"label\": \"count\"}, {\"in_degree\": 523, \"count\": 18, \"label\": \"count\"}, {\"in_degree\": 524, \"count\": 12, \"label\": \"count\"}, {\"in_degree\": 525, \"count\": 15, \"label\": \"count\"}, {\"in_degree\": 526, \"count\": 10, \"label\": \"count\"}, {\"in_degree\": 527, \"count\": 12, \"label\": \"count\"}, {\"in_degree\": 528, \"count\": 10, \"label\": \"count\"}, {\"in_degree\": 529, \"count\": 14, \"label\": \"count\"}, {\"in_degree\": 530, \"count\": 10, \"label\": \"count\"}, {\"in_degree\": 531, \"count\": 17, \"label\": \"count\"}, {\"in_degree\": 532, \"count\": 26, \"label\": \"count\"}, {\"in_degree\": 533, \"count\": 27, \"label\": \"count\"}, {\"in_degree\": 534, \"count\": 30, \"label\": \"count\"}, {\"in_degree\": 535, \"count\": 32, \"label\": \"count\"}, {\"in_degree\": 536, \"count\": 34, \"label\": \"count\"}, {\"in_degree\": 537, \"count\": 46, \"label\": \"count\"}, {\"in_degree\": 538, \"count\": 43, \"label\": \"count\"}, {\"in_degree\": 539, \"count\": 35, \"label\": \"count\"}, {\"in_degree\": 540, \"count\": 46, \"label\": \"count\"}, {\"in_degree\": 541, \"count\": 42, \"label\": \"count\"}, {\"in_degree\": 542, \"count\": 572, \"label\": \"count\"}, {\"in_degree\": 543, \"count\": 32, \"label\": \"count\"}, {\"in_degree\": 544, \"count\": 26, \"label\": \"count\"}, {\"in_degree\": 545, \"count\": 16, \"label\": \"count\"}, {\"in_degree\": 546, \"count\": 11, \"label\": \"count\"}, {\"in_degree\": 547, \"count\": 15, \"label\": \"count\"}, {\"in_degree\": 548, \"count\": 17, \"label\": \"count\"}, {\"in_degree\": 549, \"count\": 18, \"label\": \"count\"}, {\"in_degree\": 550, \"count\": 18, \"label\": \"count\"}, {\"in_degree\": 551, \"count\": 13, \"label\": \"count\"}, {\"in_degree\": 552, \"count\": 18, \"label\": \"count\"}, {\"in_degree\": 553, \"count\": 9, \"label\": \"count\"}, {\"in_degree\": 554, \"count\": 11, \"label\": \"count\"}, {\"in_degree\": 555, \"count\": 11, \"label\": \"count\"}, {\"in_degree\": 556, \"count\": 20, \"label\": \"count\"}, {\"in_degree\": 557, \"count\": 10, \"label\": \"count\"}, {\"in_degree\": 558, \"count\": 10, \"label\": \"count\"}, {\"in_degree\": 559, \"count\": 17, \"label\": \"count\"}, {\"in_degree\": 560, \"count\": 12, \"label\": \"count\"}, {\"in_degree\": 561, \"count\": 14, \"label\": \"count\"}, {\"in_degree\": 562, \"count\": 7, \"label\": \"count\"}, {\"in_degree\": 563, \"count\": 10, \"label\": \"count\"}, {\"in_degree\": 564, \"count\": 7, \"label\": \"count\"}, {\"in_degree\": 565, \"count\": 8, \"label\": \"count\"}, {\"in_degree\": 566, \"count\": 8, \"label\": \"count\"}, {\"in_degree\": 567, \"count\": 11, \"label\": \"count\"}, {\"in_degree\": 568, \"count\": 9, \"label\": \"count\"}, {\"in_degree\": 569, \"count\": 8, \"label\": \"count\"}, {\"in_degree\": 570, \"count\": 8, \"label\": \"count\"}, {\"in_degree\": 571, \"count\": 11, \"label\": \"count\"}, {\"in_degree\": 572, \"count\": 13, \"label\": \"count\"}, {\"in_degree\": 573, \"count\": 9, \"label\": \"count\"}, {\"in_degree\": 574, \"count\": 11, \"label\": \"count\"}, {\"in_degree\": 575, \"count\": 14, \"label\": \"count\"}, {\"in_degree\": 576, \"count\": 10, \"label\": \"count\"}, {\"in_degree\": 577, \"count\": 5, \"label\": \"count\"}, {\"in_degree\": 578, \"count\": 13, \"label\": \"count\"}, {\"in_degree\": 579, \"count\": 12, \"label\": \"count\"}, {\"in_degree\": 580, \"count\": 10, \"label\": \"count\"}, {\"in_degree\": 581, \"count\": 11, \"label\": \"count\"}, {\"in_degree\": 582, \"count\": 5, \"label\": \"count\"}, {\"in_degree\": 583, \"count\": 8, \"label\": \"count\"}, {\"in_degree\": 584, \"count\": 12, \"label\": \"count\"}, {\"in_degree\": 585, \"count\": 12, \"label\": \"count\"}, {\"in_degree\": 586, \"count\": 13, \"label\": \"count\"}, {\"in_degree\": 587, \"count\": 9, \"label\": \"count\"}, {\"in_degree\": 588, \"count\": 5, \"label\": \"count\"}, {\"in_degree\": 589, \"count\": 8, \"label\": \"count\"}, {\"in_degree\": 590, \"count\": 5, \"label\": \"count\"}, {\"in_degree\": 591, \"count\": 17, \"label\": \"count\"}, {\"in_degree\": 592, \"count\": 11, \"label\": \"count\"}, {\"in_degree\": 593, \"count\": 8, \"label\": \"count\"}, {\"in_degree\": 594, \"count\": 9, \"label\": \"count\"}, {\"in_degree\": 595, \"count\": 11, \"label\": \"count\"}, {\"in_degree\": 596, \"count\": 7, \"label\": \"count\"}, {\"in_degree\": 597, \"count\": 5, \"label\": \"count\"}, {\"in_degree\": 598, \"count\": 14, \"label\": \"count\"}, {\"in_degree\": 599, \"count\": 8, \"label\": \"count\"}, {\"in_degree\": 600, \"count\": 10, \"label\": \"count\"}, {\"in_degree\": 601, \"count\": 3, \"label\": \"count\"}, {\"in_degree\": 602, \"count\": 15, \"label\": \"count\"}, {\"in_degree\": 603, \"count\": 18, \"label\": \"count\"}, {\"in_degree\": 604, \"count\": 8, \"label\": \"count\"}, {\"in_degree\": 605, \"count\": 10, \"label\": \"count\"}, {\"in_degree\": 606, \"count\": 7, \"label\": \"count\"}, {\"in_degree\": 607, \"count\": 8, \"label\": \"count\"}, {\"in_degree\": 608, \"count\": 7, \"label\": \"count\"}, {\"in_degree\": 609, \"count\": 6, \"label\": \"count\"}, {\"in_degree\": 610, \"count\": 7, \"label\": \"count\"}, {\"in_degree\": 611, \"count\": 7, \"label\": \"count\"}, {\"in_degree\": 612, \"count\": 9, \"label\": \"count\"}, {\"in_degree\": 613, \"count\": 9, \"label\": \"count\"}, {\"in_degree\": 614, \"count\": 6, \"label\": \"count\"}, {\"in_degree\": 615, \"count\": 8, \"label\": \"count\"}, {\"in_degree\": 616, \"count\": 9, \"label\": \"count\"}, {\"in_degree\": 617, \"count\": 8, \"label\": \"count\"}, {\"in_degree\": 618, \"count\": 9, \"label\": \"count\"}, {\"in_degree\": 619, \"count\": 4, \"label\": \"count\"}, {\"in_degree\": 620, \"count\": 12, \"label\": \"count\"}, {\"in_degree\": 621, \"count\": 10, \"label\": \"count\"}, {\"in_degree\": 622, \"count\": 14, \"label\": \"count\"}, {\"in_degree\": 623, \"count\": 10, \"label\": \"count\"}, {\"in_degree\": 624, \"count\": 7, \"label\": \"count\"}, {\"in_degree\": 625, \"count\": 6, \"label\": \"count\"}, {\"in_degree\": 626, \"count\": 4, \"label\": \"count\"}, {\"in_degree\": 627, \"count\": 11, \"label\": \"count\"}, {\"in_degree\": 628, \"count\": 9, \"label\": \"count\"}, {\"in_degree\": 629, \"count\": 7, \"label\": \"count\"}, {\"in_degree\": 630, \"count\": 15, \"label\": \"count\"}, {\"in_degree\": 631, \"count\": 7, \"label\": \"count\"}, {\"in_degree\": 632, \"count\": 8, \"label\": \"count\"}, {\"in_degree\": 633, \"count\": 10, \"label\": \"count\"}, {\"in_degree\": 634, \"count\": 9, \"label\": \"count\"}, {\"in_degree\": 635, \"count\": 4, \"label\": \"count\"}, {\"in_degree\": 636, \"count\": 4, \"label\": \"count\"}, {\"in_degree\": 637, \"count\": 9, \"label\": \"count\"}, {\"in_degree\": 638, \"count\": 3, \"label\": \"count\"}, {\"in_degree\": 639, \"count\": 9, \"label\": \"count\"}, {\"in_degree\": 640, \"count\": 9, \"label\": \"count\"}, {\"in_degree\": 641, \"count\": 7, \"label\": \"count\"}, {\"in_degree\": 642, \"count\": 12, \"label\": \"count\"}, {\"in_degree\": 643, \"count\": 10, \"label\": \"count\"}, {\"in_degree\": 644, \"count\": 8, \"label\": \"count\"}, {\"in_degree\": 645, \"count\": 7, \"label\": \"count\"}, {\"in_degree\": 646, \"count\": 8, \"label\": \"count\"}, {\"in_degree\": 647, \"count\": 8, \"label\": \"count\"}, {\"in_degree\": 648, \"count\": 8, \"label\": \"count\"}, {\"in_degree\": 649, \"count\": 14, \"label\": \"count\"}, {\"in_degree\": 650, \"count\": 9, \"label\": \"count\"}, {\"in_degree\": 651, \"count\": 8, \"label\": \"count\"}, {\"in_degree\": 652, \"count\": 5, \"label\": \"count\"}, {\"in_degree\": 653, \"count\": 7, \"label\": \"count\"}, {\"in_degree\": 654, \"count\": 10, \"label\": \"count\"}, {\"in_degree\": 655, \"count\": 7, \"label\": \"count\"}, {\"in_degree\": 656, \"count\": 9, \"label\": \"count\"}, {\"in_degree\": 657, \"count\": 6, \"label\": \"count\"}, {\"in_degree\": 658, \"count\": 5, \"label\": \"count\"}, {\"in_degree\": 659, \"count\": 13, \"label\": \"count\"}, {\"in_degree\": 660, \"count\": 10, \"label\": \"count\"}, {\"in_degree\": 661, \"count\": 7, \"label\": \"count\"}, {\"in_degree\": 662, \"count\": 7, \"label\": \"count\"}, {\"in_degree\": 663, \"count\": 7, \"label\": \"count\"}, {\"in_degree\": 664, \"count\": 7, \"label\": \"count\"}, {\"in_degree\": 665, \"count\": 4, \"label\": \"count\"}, {\"in_degree\": 666, \"count\": 8, \"label\": \"count\"}, {\"in_degree\": 667, \"count\": 8, \"label\": \"count\"}, {\"in_degree\": 668, \"count\": 6, \"label\": \"count\"}, {\"in_degree\": 669, \"count\": 6, \"label\": \"count\"}, {\"in_degree\": 670, \"count\": 7, \"label\": \"count\"}, {\"in_degree\": 671, \"count\": 7, \"label\": \"count\"}, {\"in_degree\": 672, \"count\": 7, \"label\": \"count\"}, {\"in_degree\": 673, \"count\": 11, \"label\": \"count\"}, {\"in_degree\": 674, \"count\": 9, \"label\": \"count\"}, {\"in_degree\": 675, \"count\": 8, \"label\": \"count\"}, {\"in_degree\": 676, \"count\": 12, \"label\": \"count\"}, {\"in_degree\": 677, \"count\": 5, \"label\": \"count\"}, {\"in_degree\": 678, \"count\": 9, \"label\": \"count\"}, {\"in_degree\": 679, \"count\": 6, \"label\": \"count\"}, {\"in_degree\": 680, \"count\": 10, \"label\": \"count\"}, {\"in_degree\": 681, \"count\": 12, \"label\": \"count\"}, {\"in_degree\": 682, \"count\": 7, \"label\": \"count\"}, {\"in_degree\": 683, \"count\": 9, \"label\": \"count\"}, {\"in_degree\": 684, \"count\": 10, \"label\": \"count\"}, {\"in_degree\": 685, \"count\": 7, \"label\": \"count\"}, {\"in_degree\": 686, \"count\": 7, \"label\": \"count\"}, {\"in_degree\": 687, \"count\": 8, \"label\": \"count\"}, {\"in_degree\": 688, \"count\": 11, \"label\": \"count\"}, {\"in_degree\": 689, \"count\": 6, \"label\": \"count\"}, {\"in_degree\": 690, \"count\": 9, \"label\": \"count\"}, {\"in_degree\": 691, \"count\": 6, \"label\": \"count\"}, {\"in_degree\": 692, \"count\": 10, \"label\": \"count\"}, {\"in_degree\": 693, \"count\": 12, \"label\": \"count\"}, {\"in_degree\": 694, \"count\": 5, \"label\": \"count\"}, {\"in_degree\": 695, \"count\": 10, \"label\": \"count\"}, {\"in_degree\": 696, \"count\": 8, \"label\": \"count\"}, {\"in_degree\": 697, \"count\": 7, \"label\": \"count\"}, {\"in_degree\": 698, \"count\": 7, \"label\": \"count\"}, {\"in_degree\": 699, \"count\": 14, \"label\": \"count\"}, {\"in_degree\": 700, \"count\": 9, \"label\": \"count\"}, {\"in_degree\": 701, \"count\": 7, \"label\": \"count\"}, {\"in_degree\": 702, \"count\": 5, \"label\": \"count\"}, {\"in_degree\": 703, \"count\": 7, \"label\": \"count\"}, {\"in_degree\": 704, \"count\": 6, \"label\": \"count\"}, {\"in_degree\": 705, \"count\": 7, \"label\": \"count\"}, {\"in_degree\": 706, \"count\": 9, \"label\": \"count\"}, {\"in_degree\": 707, \"count\": 5, \"label\": \"count\"}, {\"in_degree\": 708, \"count\": 6, \"label\": \"count\"}, {\"in_degree\": 709, \"count\": 6, \"label\": \"count\"}, {\"in_degree\": 710, \"count\": 6, \"label\": \"count\"}, {\"in_degree\": 711, \"count\": 4, \"label\": \"count\"}, {\"in_degree\": 712, \"count\": 12, \"label\": \"count\"}, {\"in_degree\": 713, \"count\": 5, \"label\": \"count\"}, {\"in_degree\": 714, \"count\": 8, \"label\": \"count\"}, {\"in_degree\": 715, \"count\": 6, \"label\": \"count\"}, {\"in_degree\": 716, \"count\": 5, \"label\": \"count\"}, {\"in_degree\": 717, \"count\": 6, \"label\": \"count\"}, {\"in_degree\": 718, \"count\": 3, \"label\": \"count\"}, {\"in_degree\": 719, \"count\": 10, \"label\": \"count\"}, {\"in_degree\": 720, \"count\": 6, \"label\": \"count\"}, {\"in_degree\": 721, \"count\": 6, \"label\": \"count\"}, {\"in_degree\": 722, \"count\": 4, \"label\": \"count\"}, {\"in_degree\": 723, \"count\": 7, \"label\": \"count\"}, {\"in_degree\": 724, \"count\": 2, \"label\": \"count\"}, {\"in_degree\": 725, \"count\": 4, \"label\": \"count\"}, {\"in_degree\": 726, \"count\": 5, \"label\": \"count\"}, {\"in_degree\": 727, \"count\": 10, \"label\": \"count\"}, {\"in_degree\": 728, \"count\": 7, \"label\": \"count\"}, {\"in_degree\": 729, \"count\": 7, \"label\": \"count\"}, {\"in_degree\": 730, \"count\": 12, \"label\": \"count\"}, {\"in_degree\": 731, \"count\": 6, \"label\": \"count\"}, {\"in_degree\": 732, \"count\": 8, \"label\": \"count\"}, {\"in_degree\": 733, \"count\": 7, \"label\": \"count\"}, {\"in_degree\": 734, \"count\": 7, \"label\": \"count\"}, {\"in_degree\": 735, \"count\": 8, \"label\": \"count\"}, {\"in_degree\": 736, \"count\": 6, \"label\": \"count\"}, {\"in_degree\": 737, \"count\": 9, \"label\": \"count\"}, {\"in_degree\": 738, \"count\": 9, \"label\": \"count\"}, {\"in_degree\": 739, \"count\": 9, \"label\": \"count\"}, {\"in_degree\": 740, \"count\": 9, \"label\": \"count\"}, {\"in_degree\": 741, \"count\": 7, \"label\": \"count\"}, {\"in_degree\": 742, \"count\": 6, \"label\": \"count\"}, {\"in_degree\": 743, \"count\": 8, \"label\": \"count\"}, {\"in_degree\": 744, \"count\": 8, \"label\": \"count\"}, {\"in_degree\": 745, \"count\": 10, \"label\": \"count\"}, {\"in_degree\": 746, \"count\": 4, \"label\": \"count\"}, {\"in_degree\": 747, \"count\": 4, \"label\": \"count\"}, {\"in_degree\": 748, \"count\": 3, \"label\": \"count\"}, {\"in_degree\": 749, \"count\": 7, \"label\": \"count\"}, {\"in_degree\": 750, \"count\": 7, \"label\": \"count\"}, {\"in_degree\": 751, \"count\": 5, \"label\": \"count\"}, {\"in_degree\": 752, \"count\": 4, \"label\": \"count\"}, {\"in_degree\": 753, \"count\": 7, \"label\": \"count\"}, {\"in_degree\": 754, \"count\": 6, \"label\": \"count\"}, {\"in_degree\": 755, \"count\": 8, \"label\": \"count\"}, {\"in_degree\": 756, \"count\": 7, \"label\": \"count\"}, {\"in_degree\": 757, \"count\": 4, \"label\": \"count\"}, {\"in_degree\": 758, \"count\": 5, \"label\": \"count\"}, {\"in_degree\": 759, \"count\": 8, \"label\": \"count\"}, {\"in_degree\": 760, \"count\": 7, \"label\": \"count\"}, {\"in_degree\": 761, \"count\": 10, \"label\": \"count\"}, {\"in_degree\": 762, \"count\": 10, \"label\": \"count\"}, {\"in_degree\": 763, \"count\": 7, \"label\": \"count\"}, {\"in_degree\": 764, \"count\": 4, \"label\": \"count\"}, {\"in_degree\": 765, \"count\": 7, \"label\": \"count\"}, {\"in_degree\": 766, \"count\": 6, \"label\": \"count\"}, {\"in_degree\": 767, \"count\": 9, \"label\": \"count\"}, {\"in_degree\": 768, \"count\": 6, \"label\": \"count\"}, {\"in_degree\": 769, \"count\": 7, \"label\": \"count\"}, {\"in_degree\": 770, \"count\": 10, \"label\": \"count\"}, {\"in_degree\": 771, \"count\": 3, \"label\": \"count\"}, {\"in_degree\": 772, \"count\": 4, \"label\": \"count\"}, {\"in_degree\": 773, \"count\": 7, \"label\": \"count\"}, {\"in_degree\": 774, \"count\": 7, \"label\": \"count\"}, {\"in_degree\": 775, \"count\": 4, \"label\": \"count\"}, {\"in_degree\": 776, \"count\": 9, \"label\": \"count\"}, {\"in_degree\": 777, \"count\": 6, \"label\": \"count\"}, {\"in_degree\": 778, \"count\": 6, \"label\": \"count\"}, {\"in_degree\": 779, \"count\": 9, \"label\": \"count\"}, {\"in_degree\": 780, \"count\": 6, \"label\": \"count\"}, {\"in_degree\": 781, \"count\": 3, \"label\": \"count\"}, {\"in_degree\": 782, \"count\": 5, \"label\": \"count\"}, {\"in_degree\": 783, \"count\": 4, \"label\": \"count\"}, {\"in_degree\": 784, \"count\": 9, \"label\": \"count\"}, {\"in_degree\": 785, \"count\": 8, \"label\": \"count\"}, {\"in_degree\": 786, \"count\": 5, \"label\": \"count\"}, {\"in_degree\": 787, \"count\": 9, \"label\": \"count\"}, {\"in_degree\": 788, \"count\": 2, \"label\": \"count\"}, {\"in_degree\": 789, \"count\": 10, \"label\": \"count\"}, {\"in_degree\": 790, \"count\": 7, \"label\": \"count\"}, {\"in_degree\": 791, \"count\": 4, \"label\": \"count\"}, {\"in_degree\": 792, \"count\": 5, \"label\": \"count\"}, {\"in_degree\": 793, \"count\": 6, \"label\": \"count\"}, {\"in_degree\": 794, \"count\": 7, \"label\": \"count\"}, {\"in_degree\": 795, \"count\": 4, \"label\": \"count\"}, {\"in_degree\": 796, \"count\": 4, \"label\": \"count\"}, {\"in_degree\": 797, \"count\": 7, \"label\": \"count\"}, {\"in_degree\": 798, \"count\": 4, \"label\": \"count\"}, {\"in_degree\": 799, \"count\": 11, \"label\": \"count\"}, {\"in_degree\": 800, \"count\": 2, \"label\": \"count\"}, {\"in_degree\": 801, \"count\": 3, \"label\": \"count\"}, {\"in_degree\": 802, \"count\": 4, \"label\": \"count\"}, {\"in_degree\": 803, \"count\": 8, \"label\": \"count\"}, {\"in_degree\": 804, \"count\": 6, \"label\": \"count\"}, {\"in_degree\": 805, \"count\": 9, \"label\": \"count\"}, {\"in_degree\": 807, \"count\": 8, \"label\": \"count\"}, {\"in_degree\": 808, \"count\": 4, \"label\": \"count\"}, {\"in_degree\": 809, \"count\": 3, \"label\": \"count\"}, {\"in_degree\": 810, \"count\": 8, \"label\": \"count\"}, {\"in_degree\": 811, \"count\": 7, \"label\": \"count\"}, {\"in_degree\": 812, \"count\": 7, \"label\": \"count\"}, {\"in_degree\": 813, \"count\": 4, \"label\": \"count\"}, {\"in_degree\": 814, \"count\": 4, \"label\": \"count\"}, {\"in_degree\": 815, \"count\": 8, \"label\": \"count\"}, {\"in_degree\": 816, \"count\": 6, \"label\": \"count\"}, {\"in_degree\": 817, \"count\": 7, \"label\": \"count\"}, {\"in_degree\": 818, \"count\": 1, \"label\": \"count\"}, {\"in_degree\": 819, \"count\": 5, \"label\": \"count\"}, {\"in_degree\": 820, \"count\": 3, \"label\": \"count\"}, {\"in_degree\": 821, \"count\": 9, \"label\": \"count\"}, {\"in_degree\": 822, \"count\": 6, \"label\": \"count\"}, {\"in_degree\": 823, \"count\": 9, \"label\": \"count\"}, {\"in_degree\": 824, \"count\": 3, \"label\": \"count\"}, {\"in_degree\": 825, \"count\": 4, \"label\": \"count\"}, {\"in_degree\": 826, \"count\": 5, \"label\": \"count\"}, {\"in_degree\": 827, \"count\": 7, \"label\": \"count\"}, {\"in_degree\": 828, \"count\": 4, \"label\": \"count\"}, {\"in_degree\": 829, \"count\": 4, \"label\": \"count\"}, {\"in_degree\": 830, \"count\": 2, \"label\": \"count\"}, {\"in_degree\": 831, \"count\": 7, \"label\": \"count\"}, {\"in_degree\": 832, \"count\": 9, \"label\": \"count\"}, {\"in_degree\": 833, \"count\": 5, \"label\": \"count\"}, {\"in_degree\": 834, \"count\": 4, \"label\": \"count\"}, {\"in_degree\": 835, \"count\": 4, \"label\": \"count\"}, {\"in_degree\": 836, \"count\": 4, \"label\": \"count\"}, {\"in_degree\": 837, \"count\": 4, \"label\": \"count\"}, {\"in_degree\": 838, \"count\": 6, \"label\": \"count\"}, {\"in_degree\": 839, \"count\": 6, \"label\": \"count\"}, {\"in_degree\": 840, \"count\": 3, \"label\": \"count\"}, {\"in_degree\": 841, \"count\": 6, \"label\": \"count\"}, {\"in_degree\": 842, \"count\": 5, \"label\": \"count\"}, {\"in_degree\": 843, \"count\": 5, \"label\": \"count\"}, {\"in_degree\": 844, \"count\": 10, \"label\": \"count\"}, {\"in_degree\": 845, \"count\": 8, \"label\": \"count\"}, {\"in_degree\": 846, \"count\": 4, \"label\": \"count\"}, {\"in_degree\": 847, \"count\": 6, \"label\": \"count\"}, {\"in_degree\": 848, \"count\": 6, \"label\": \"count\"}, {\"in_degree\": 849, \"count\": 5, \"label\": \"count\"}, {\"in_degree\": 850, \"count\": 5, \"label\": \"count\"}, {\"in_degree\": 851, \"count\": 5, \"label\": \"count\"}, {\"in_degree\": 852, \"count\": 2, \"label\": \"count\"}, {\"in_degree\": 853, \"count\": 3, \"label\": \"count\"}, {\"in_degree\": 854, \"count\": 4, \"label\": \"count\"}, {\"in_degree\": 855, \"count\": 5, \"label\": \"count\"}, {\"in_degree\": 856, \"count\": 2, \"label\": \"count\"}, {\"in_degree\": 857, \"count\": 4, \"label\": \"count\"}, {\"in_degree\": 858, \"count\": 4, \"label\": \"count\"}, {\"in_degree\": 859, \"count\": 8, \"label\": \"count\"}, {\"in_degree\": 860, \"count\": 3, \"label\": \"count\"}, {\"in_degree\": 861, \"count\": 6, \"label\": \"count\"}, {\"in_degree\": 862, \"count\": 7, \"label\": \"count\"}, {\"in_degree\": 863, \"count\": 3, \"label\": \"count\"}, {\"in_degree\": 864, \"count\": 9, \"label\": \"count\"}, {\"in_degree\": 865, \"count\": 3, \"label\": \"count\"}, {\"in_degree\": 866, \"count\": 4, \"label\": \"count\"}, {\"in_degree\": 867, \"count\": 6, \"label\": \"count\"}, {\"in_degree\": 868, \"count\": 5, \"label\": \"count\"}, {\"in_degree\": 869, \"count\": 6, \"label\": \"count\"}, {\"in_degree\": 870, \"count\": 3, \"label\": \"count\"}, {\"in_degree\": 871, \"count\": 6, \"label\": \"count\"}, {\"in_degree\": 872, \"count\": 4, \"label\": \"count\"}, {\"in_degree\": 873, \"count\": 4, \"label\": \"count\"}, {\"in_degree\": 874, \"count\": 4, \"label\": \"count\"}, {\"in_degree\": 875, \"count\": 5, \"label\": \"count\"}, {\"in_degree\": 876, \"count\": 4, \"label\": \"count\"}, {\"in_degree\": 877, \"count\": 3, \"label\": \"count\"}, {\"in_degree\": 878, \"count\": 7, \"label\": \"count\"}, {\"in_degree\": 879, \"count\": 5, \"label\": \"count\"}, {\"in_degree\": 880, \"count\": 3, \"label\": \"count\"}, {\"in_degree\": 881, \"count\": 6, \"label\": \"count\"}, {\"in_degree\": 882, \"count\": 2, \"label\": \"count\"}, {\"in_degree\": 883, \"count\": 5, \"label\": \"count\"}, {\"in_degree\": 884, \"count\": 5, \"label\": \"count\"}, {\"in_degree\": 885, \"count\": 3, \"label\": \"count\"}, {\"in_degree\": 886, \"count\": 5, \"label\": \"count\"}, {\"in_degree\": 887, \"count\": 5, \"label\": \"count\"}, {\"in_degree\": 888, \"count\": 5, \"label\": \"count\"}, {\"in_degree\": 889, \"count\": 2, \"label\": \"count\"}, {\"in_degree\": 890, \"count\": 4, \"label\": \"count\"}, {\"in_degree\": 891, \"count\": 4, \"label\": \"count\"}, {\"in_degree\": 892, \"count\": 4, \"label\": \"count\"}, {\"in_degree\": 893, \"count\": 6, \"label\": \"count\"}, {\"in_degree\": 895, \"count\": 4, \"label\": \"count\"}, {\"in_degree\": 896, \"count\": 4, \"label\": \"count\"}, {\"in_degree\": 897, \"count\": 3, \"label\": \"count\"}, {\"in_degree\": 898, \"count\": 8, \"label\": \"count\"}, {\"in_degree\": 899, \"count\": 1, \"label\": \"count\"}, {\"in_degree\": 900, \"count\": 7, \"label\": \"count\"}, {\"in_degree\": 901, \"count\": 14, \"label\": \"count\"}, {\"in_degree\": 902, \"count\": 3, \"label\": \"count\"}, {\"in_degree\": 903, \"count\": 1, \"label\": \"count\"}, {\"in_degree\": 904, \"count\": 10, \"label\": \"count\"}, {\"in_degree\": 905, \"count\": 4, \"label\": \"count\"}, {\"in_degree\": 906, \"count\": 3, \"label\": \"count\"}, {\"in_degree\": 907, \"count\": 3, \"label\": \"count\"}, {\"in_degree\": 908, \"count\": 5, \"label\": \"count\"}, {\"in_degree\": 909, \"count\": 4, \"label\": \"count\"}, {\"in_degree\": 910, \"count\": 4, \"label\": \"count\"}, {\"in_degree\": 911, \"count\": 4, \"label\": \"count\"}, {\"in_degree\": 912, \"count\": 7, \"label\": \"count\"}, {\"in_degree\": 913, \"count\": 3, \"label\": \"count\"}, {\"in_degree\": 914, \"count\": 4, \"label\": \"count\"}, {\"in_degree\": 915, \"count\": 1, \"label\": \"count\"}, {\"in_degree\": 916, \"count\": 6, \"label\": \"count\"}, {\"in_degree\": 917, \"count\": 3, \"label\": \"count\"}, {\"in_degree\": 918, \"count\": 4, \"label\": \"count\"}, {\"in_degree\": 919, \"count\": 4, \"label\": \"count\"}, {\"in_degree\": 920, \"count\": 3, \"label\": \"count\"}, {\"in_degree\": 921, \"count\": 5, \"label\": \"count\"}, {\"in_degree\": 922, \"count\": 3, \"label\": \"count\"}, {\"in_degree\": 923, \"count\": 5, \"label\": \"count\"}, {\"in_degree\": 924, \"count\": 7, \"label\": \"count\"}, {\"in_degree\": 925, \"count\": 7, \"label\": \"count\"}, {\"in_degree\": 926, \"count\": 3, \"label\": \"count\"}, {\"in_degree\": 927, \"count\": 4, \"label\": \"count\"}, {\"in_degree\": 928, \"count\": 5, \"label\": \"count\"}, {\"in_degree\": 929, \"count\": 6, \"label\": \"count\"}, {\"in_degree\": 930, \"count\": 5, \"label\": \"count\"}, {\"in_degree\": 931, \"count\": 5, \"label\": \"count\"}, {\"in_degree\": 932, \"count\": 1, \"label\": \"count\"}, {\"in_degree\": 933, \"count\": 3, \"label\": \"count\"}, {\"in_degree\": 934, \"count\": 4, \"label\": \"count\"}, {\"in_degree\": 935, \"count\": 5, \"label\": \"count\"}, {\"in_degree\": 936, \"count\": 6, \"label\": \"count\"}, {\"in_degree\": 938, \"count\": 6, \"label\": \"count\"}, {\"in_degree\": 939, \"count\": 5, \"label\": \"count\"}, {\"in_degree\": 940, \"count\": 4, \"label\": \"count\"}, {\"in_degree\": 941, \"count\": 6, \"label\": \"count\"}, {\"in_degree\": 942, \"count\": 5, \"label\": \"count\"}, {\"in_degree\": 943, \"count\": 6, \"label\": \"count\"}, {\"in_degree\": 944, \"count\": 3, \"label\": \"count\"}, {\"in_degree\": 945, \"count\": 3, \"label\": \"count\"}, {\"in_degree\": 946, \"count\": 3, \"label\": \"count\"}, {\"in_degree\": 947, \"count\": 4, \"label\": \"count\"}, {\"in_degree\": 948, \"count\": 5, \"label\": \"count\"}, {\"in_degree\": 949, \"count\": 3, \"label\": \"count\"}, {\"in_degree\": 950, \"count\": 3, \"label\": \"count\"}, {\"in_degree\": 951, \"count\": 3, \"label\": \"count\"}, {\"in_degree\": 952, \"count\": 3, \"label\": \"count\"}, {\"in_degree\": 953, \"count\": 7, \"label\": \"count\"}, {\"in_degree\": 954, \"count\": 5, \"label\": \"count\"}, {\"in_degree\": 955, \"count\": 4, \"label\": \"count\"}, {\"in_degree\": 956, \"count\": 2, \"label\": \"count\"}, {\"in_degree\": 957, \"count\": 4, \"label\": \"count\"}, {\"in_degree\": 958, \"count\": 5, \"label\": \"count\"}, {\"in_degree\": 959, \"count\": 3, \"label\": \"count\"}, {\"in_degree\": 960, \"count\": 2, \"label\": \"count\"}, {\"in_degree\": 961, \"count\": 1, \"label\": \"count\"}, {\"in_degree\": 962, \"count\": 4, \"label\": \"count\"}, {\"in_degree\": 963, \"count\": 4, \"label\": \"count\"}, {\"in_degree\": 964, \"count\": 4, \"label\": \"count\"}, {\"in_degree\": 965, \"count\": 6, \"label\": \"count\"}, {\"in_degree\": 966, \"count\": 4, \"label\": \"count\"}, {\"in_degree\": 967, \"count\": 6, \"label\": \"count\"}, {\"in_degree\": 968, \"count\": 11, \"label\": \"count\"}, {\"in_degree\": 969, \"count\": 6, \"label\": \"count\"}, {\"in_degree\": 970, \"count\": 6, \"label\": \"count\"}, {\"in_degree\": 971, \"count\": 3, \"label\": \"count\"}, {\"in_degree\": 972, \"count\": 5, \"label\": \"count\"}, {\"in_degree\": 973, \"count\": 4, \"label\": \"count\"}, {\"in_degree\": 974, \"count\": 3, \"label\": \"count\"}, {\"in_degree\": 975, \"count\": 5, \"label\": \"count\"}, {\"in_degree\": 976, \"count\": 4, \"label\": \"count\"}, {\"in_degree\": 977, \"count\": 3, \"label\": \"count\"}, {\"in_degree\": 978, \"count\": 1, \"label\": \"count\"}, {\"in_degree\": 979, \"count\": 4, \"label\": \"count\"}, {\"in_degree\": 980, \"count\": 3, \"label\": \"count\"}, {\"in_degree\": 981, \"count\": 3, \"label\": \"count\"}, {\"in_degree\": 982, \"count\": 5, \"label\": \"count\"}, {\"in_degree\": 983, \"count\": 4, \"label\": \"count\"}, {\"in_degree\": 984, \"count\": 6, \"label\": \"count\"}, {\"in_degree\": 985, \"count\": 6, \"label\": \"count\"}, {\"in_degree\": 986, \"count\": 2, \"label\": \"count\"}, {\"in_degree\": 987, \"count\": 6, \"label\": \"count\"}, {\"in_degree\": 988, \"count\": 5, \"label\": \"count\"}, {\"in_degree\": 989, \"count\": 5, \"label\": \"count\"}, {\"in_degree\": 990, \"count\": 4, \"label\": \"count\"}, {\"in_degree\": 991, \"count\": 4, \"label\": \"count\"}, {\"in_degree\": 993, \"count\": 2, \"label\": \"count\"}, {\"in_degree\": 994, \"count\": 3, \"label\": \"count\"}, {\"in_degree\": 995, \"count\": 4, \"label\": \"count\"}, {\"in_degree\": 996, \"count\": 9, \"label\": \"count\"}, {\"in_degree\": 997, \"count\": 6, \"label\": \"count\"}, {\"in_degree\": 998, \"count\": 5, \"label\": \"count\"}, {\"in_degree\": 999, \"count\": 7, \"label\": \"count\"}, {\"in_degree\": 1000, \"count\": 2, \"label\": \"count\"}, {\"in_degree\": 1001, \"count\": 3, \"label\": \"count\"}, {\"in_degree\": 1002, \"count\": 2, \"label\": \"count\"}, {\"in_degree\": 1003, \"count\": 5, \"label\": \"count\"}, {\"in_degree\": 1004, \"count\": 4, \"label\": \"count\"}, {\"in_degree\": 1005, \"count\": 5, \"label\": \"count\"}, {\"in_degree\": 1006, \"count\": 7, \"label\": \"count\"}, {\"in_degree\": 1007, \"count\": 7, \"label\": \"count\"}, {\"in_degree\": 1008, \"count\": 6, \"label\": \"count\"}, {\"in_degree\": 1009, \"count\": 5, \"label\": \"count\"}, {\"in_degree\": 1010, \"count\": 2, \"label\": \"count\"}, {\"in_degree\": 1011, \"count\": 3, \"label\": \"count\"}, {\"in_degree\": 1012, \"count\": 4, \"label\": \"count\"}, {\"in_degree\": 1013, \"count\": 2, \"label\": \"count\"}, {\"in_degree\": 1014, \"count\": 3, \"label\": \"count\"}, {\"in_degree\": 1015, \"count\": 2, \"label\": \"count\"}, {\"in_degree\": 1016, \"count\": 4, \"label\": \"count\"}, {\"in_degree\": 1017, \"count\": 4, \"label\": \"count\"}, {\"in_degree\": 1018, \"count\": 2, \"label\": \"count\"}, {\"in_degree\": 1019, \"count\": 3, \"label\": \"count\"}, {\"in_degree\": 1020, \"count\": 7, \"label\": \"count\"}, {\"in_degree\": 1021, \"count\": 1, \"label\": \"count\"}, {\"in_degree\": 1022, \"count\": 7, \"label\": \"count\"}, {\"in_degree\": 1023, \"count\": 2, \"label\": \"count\"}, {\"in_degree\": 1024, \"count\": 2, \"label\": \"count\"}, {\"in_degree\": 1025, \"count\": 4, \"label\": \"count\"}, {\"in_degree\": 1026, \"count\": 3, \"label\": \"count\"}, {\"in_degree\": 1027, \"count\": 8, \"label\": \"count\"}, {\"in_degree\": 1028, \"count\": 4, \"label\": \"count\"}, {\"in_degree\": 1029, \"count\": 2, \"label\": \"count\"}, {\"in_degree\": 1030, \"count\": 5, \"label\": \"count\"}, {\"in_degree\": 1031, \"count\": 5, \"label\": \"count\"}, {\"in_degree\": 1032, \"count\": 4, \"label\": \"count\"}, {\"in_degree\": 1033, \"count\": 9, \"label\": \"count\"}, {\"in_degree\": 1034, \"count\": 3, \"label\": \"count\"}, {\"in_degree\": 1035, \"count\": 3, \"label\": \"count\"}, {\"in_degree\": 1036, \"count\": 7, \"label\": \"count\"}, {\"in_degree\": 1037, \"count\": 8, \"label\": \"count\"}, {\"in_degree\": 1038, \"count\": 2, \"label\": \"count\"}, {\"in_degree\": 1039, \"count\": 3, \"label\": \"count\"}, {\"in_degree\": 1040, \"count\": 5, \"label\": \"count\"}, {\"in_degree\": 1041, \"count\": 5, \"label\": \"count\"}, {\"in_degree\": 1042, \"count\": 7, \"label\": \"count\"}, {\"in_degree\": 1043, \"count\": 3, \"label\": \"count\"}, {\"in_degree\": 1044, \"count\": 6, \"label\": \"count\"}, {\"in_degree\": 1045, \"count\": 1, \"label\": \"count\"}, {\"in_degree\": 1046, \"count\": 7, \"label\": \"count\"}, {\"in_degree\": 1047, \"count\": 4, \"label\": \"count\"}, {\"in_degree\": 1048, \"count\": 3, \"label\": \"count\"}, {\"in_degree\": 1049, \"count\": 4, \"label\": \"count\"}, {\"in_degree\": 1050, \"count\": 1, \"label\": \"count\"}, {\"in_degree\": 1051, \"count\": 3, \"label\": \"count\"}, {\"in_degree\": 1052, \"count\": 3, \"label\": \"count\"}, {\"in_degree\": 1053, \"count\": 2, \"label\": \"count\"}, {\"in_degree\": 1054, \"count\": 3, \"label\": \"count\"}, {\"in_degree\": 1055, \"count\": 3, \"label\": \"count\"}, {\"in_degree\": 1056, \"count\": 2, \"label\": \"count\"}, {\"in_degree\": 1057, \"count\": 4, \"label\": \"count\"}, {\"in_degree\": 1058, \"count\": 2, \"label\": \"count\"}, {\"in_degree\": 1059, \"count\": 1, \"label\": \"count\"}, {\"in_degree\": 1061, \"count\": 1, \"label\": \"count\"}, {\"in_degree\": 1062, \"count\": 6, \"label\": \"count\"}, {\"in_degree\": 1063, \"count\": 5, \"label\": \"count\"}, {\"in_degree\": 1064, \"count\": 6, \"label\": \"count\"}, {\"in_degree\": 1065, \"count\": 2, \"label\": \"count\"}, {\"in_degree\": 1066, \"count\": 5, \"label\": \"count\"}, {\"in_degree\": 1067, \"count\": 3, \"label\": \"count\"}, {\"in_degree\": 1068, \"count\": 1, \"label\": \"count\"}, {\"in_degree\": 1069, \"count\": 4, \"label\": \"count\"}, {\"in_degree\": 1070, \"count\": 5, \"label\": \"count\"}, {\"in_degree\": 1071, \"count\": 5, \"label\": \"count\"}, {\"in_degree\": 1072, \"count\": 4, \"label\": \"count\"}, {\"in_degree\": 1073, \"count\": 4, \"label\": \"count\"}, {\"in_degree\": 1075, \"count\": 1, \"label\": \"count\"}, {\"in_degree\": 1076, \"count\": 2, \"label\": \"count\"}, {\"in_degree\": 1077, \"count\": 3, \"label\": \"count\"}, {\"in_degree\": 1078, \"count\": 4, \"label\": \"count\"}, {\"in_degree\": 1079, \"count\": 4, \"label\": \"count\"}, {\"in_degree\": 1080, \"count\": 6, \"label\": \"count\"}, {\"in_degree\": 1081, \"count\": 3, \"label\": \"count\"}, {\"in_degree\": 1082, \"count\": 5, \"label\": \"count\"}, {\"in_degree\": 1083, \"count\": 3, \"label\": \"count\"}, {\"in_degree\": 1084, \"count\": 4, \"label\": \"count\"}, {\"in_degree\": 1085, \"count\": 2, \"label\": \"count\"}, {\"in_degree\": 1086, \"count\": 3, \"label\": \"count\"}, {\"in_degree\": 1087, \"count\": 6, \"label\": \"count\"}, {\"in_degree\": 1088, \"count\": 3, \"label\": \"count\"}, {\"in_degree\": 1089, \"count\": 4, \"label\": \"count\"}, {\"in_degree\": 1090, \"count\": 2, \"label\": \"count\"}, {\"in_degree\": 1091, \"count\": 3, \"label\": \"count\"}, {\"in_degree\": 1093, \"count\": 2, \"label\": \"count\"}, {\"in_degree\": 1094, \"count\": 4, \"label\": \"count\"}, {\"in_degree\": 1095, \"count\": 3, \"label\": \"count\"}, {\"in_degree\": 1096, \"count\": 1, \"label\": \"count\"}, {\"in_degree\": 1097, \"count\": 4, \"label\": \"count\"}, {\"in_degree\": 1098, \"count\": 2, \"label\": \"count\"}, {\"in_degree\": 1099, \"count\": 2, \"label\": \"count\"}, {\"in_degree\": 1100, \"count\": 6, \"label\": \"count\"}, {\"in_degree\": 1101, \"count\": 4, \"label\": \"count\"}, {\"in_degree\": 1102, \"count\": 3, \"label\": \"count\"}, {\"in_degree\": 1103, \"count\": 4, \"label\": \"count\"}, {\"in_degree\": 1104, \"count\": 2, \"label\": \"count\"}, {\"in_degree\": 1105, \"count\": 3, \"label\": \"count\"}, {\"in_degree\": 1106, \"count\": 2, \"label\": \"count\"}, {\"in_degree\": 1107, \"count\": 4, \"label\": \"count\"}, {\"in_degree\": 1108, \"count\": 2, \"label\": \"count\"}, {\"in_degree\": 1109, \"count\": 3, \"label\": \"count\"}, {\"in_degree\": 1110, \"count\": 3, \"label\": \"count\"}, {\"in_degree\": 1111, \"count\": 2, \"label\": \"count\"}, {\"in_degree\": 1112, \"count\": 3, \"label\": \"count\"}, {\"in_degree\": 1113, \"count\": 4, \"label\": \"count\"}, {\"in_degree\": 1114, \"count\": 2, \"label\": \"count\"}, {\"in_degree\": 1115, \"count\": 2, \"label\": \"count\"}, {\"in_degree\": 1116, \"count\": 2, \"label\": \"count\"}, {\"in_degree\": 1117, \"count\": 5, \"label\": \"count\"}, {\"in_degree\": 1118, \"count\": 6, \"label\": \"count\"}, {\"in_degree\": 1119, \"count\": 10, \"label\": \"count\"}, {\"in_degree\": 1120, \"count\": 3, \"label\": \"count\"}, {\"in_degree\": 1122, \"count\": 6, \"label\": \"count\"}, {\"in_degree\": 1123, \"count\": 4, \"label\": \"count\"}, {\"in_degree\": 1124, \"count\": 2, \"label\": \"count\"}, {\"in_degree\": 1125, \"count\": 1, \"label\": \"count\"}, {\"in_degree\": 1126, \"count\": 3, \"label\": \"count\"}, {\"in_degree\": 1127, \"count\": 3, \"label\": \"count\"}, {\"in_degree\": 1128, \"count\": 7, \"label\": \"count\"}, {\"in_degree\": 1129, \"count\": 3, \"label\": \"count\"}, {\"in_degree\": 1130, \"count\": 2, \"label\": \"count\"}, {\"in_degree\": 1131, \"count\": 3, \"label\": \"count\"}, {\"in_degree\": 1132, \"count\": 3, \"label\": \"count\"}, {\"in_degree\": 1133, \"count\": 3, \"label\": \"count\"}, {\"in_degree\": 1134, \"count\": 1, \"label\": \"count\"}, {\"in_degree\": 1135, \"count\": 3, \"label\": \"count\"}, {\"in_degree\": 1136, \"count\": 3, \"label\": \"count\"}, {\"in_degree\": 1137, \"count\": 2, \"label\": \"count\"}, {\"in_degree\": 1138, \"count\": 3, \"label\": \"count\"}, {\"in_degree\": 1139, \"count\": 6, \"label\": \"count\"}, {\"in_degree\": 1140, \"count\": 2, \"label\": \"count\"}, {\"in_degree\": 1141, \"count\": 3, \"label\": \"count\"}, {\"in_degree\": 1142, \"count\": 3, \"label\": \"count\"}, {\"in_degree\": 1143, \"count\": 6, \"label\": \"count\"}, {\"in_degree\": 1144, \"count\": 1, \"label\": \"count\"}, {\"in_degree\": 1145, \"count\": 5, \"label\": \"count\"}, {\"in_degree\": 1146, \"count\": 7, \"label\": \"count\"}, {\"in_degree\": 1147, \"count\": 2, \"label\": \"count\"}, {\"in_degree\": 1148, \"count\": 4, \"label\": \"count\"}, {\"in_degree\": 1149, \"count\": 3, \"label\": \"count\"}, {\"in_degree\": 1150, \"count\": 4, \"label\": \"count\"}, {\"in_degree\": 1151, \"count\": 8, \"label\": \"count\"}, {\"in_degree\": 1152, \"count\": 4, \"label\": \"count\"}, {\"in_degree\": 1153, \"count\": 3, \"label\": \"count\"}, {\"in_degree\": 1154, \"count\": 6, \"label\": \"count\"}, {\"in_degree\": 1155, \"count\": 4, \"label\": \"count\"}, {\"in_degree\": 1156, \"count\": 2, \"label\": \"count\"}, {\"in_degree\": 1157, \"count\": 2, \"label\": \"count\"}, {\"in_degree\": 1158, \"count\": 4, \"label\": \"count\"}, {\"in_degree\": 1159, \"count\": 1, \"label\": \"count\"}, {\"in_degree\": 1160, \"count\": 2, \"label\": \"count\"}, {\"in_degree\": 1161, \"count\": 4, \"label\": \"count\"}, {\"in_degree\": 1162, \"count\": 4, \"label\": \"count\"}, {\"in_degree\": 1163, \"count\": 1, \"label\": \"count\"}, {\"in_degree\": 1165, \"count\": 1, \"label\": \"count\"}, {\"in_degree\": 1166, \"count\": 4, \"label\": \"count\"}, {\"in_degree\": 1167, \"count\": 3, \"label\": \"count\"}, {\"in_degree\": 1168, \"count\": 4, \"label\": \"count\"}, {\"in_degree\": 1169, \"count\": 3, \"label\": \"count\"}, {\"in_degree\": 1170, \"count\": 2, \"label\": \"count\"}, {\"in_degree\": 1171, \"count\": 4, \"label\": \"count\"}, {\"in_degree\": 1172, \"count\": 3, \"label\": \"count\"}, {\"in_degree\": 1173, \"count\": 2, \"label\": \"count\"}, {\"in_degree\": 1174, \"count\": 4, \"label\": \"count\"}, {\"in_degree\": 1175, \"count\": 1, \"label\": \"count\"}, {\"in_degree\": 1176, \"count\": 2, \"label\": \"count\"}, {\"in_degree\": 1177, \"count\": 1, \"label\": \"count\"}, {\"in_degree\": 1178, \"count\": 4, \"label\": \"count\"}, {\"in_degree\": 1179, \"count\": 3, \"label\": \"count\"}, {\"in_degree\": 1180, \"count\": 4, \"label\": \"count\"}, {\"in_degree\": 1181, \"count\": 2, \"label\": \"count\"}, {\"in_degree\": 1182, \"count\": 4, \"label\": \"count\"}, {\"in_degree\": 1183, \"count\": 4, \"label\": \"count\"}, {\"in_degree\": 1185, \"count\": 1, \"label\": \"count\"}, {\"in_degree\": 1186, \"count\": 1, \"label\": \"count\"}, {\"in_degree\": 1187, \"count\": 4, \"label\": \"count\"}, {\"in_degree\": 1188, \"count\": 1, \"label\": \"count\"}, {\"in_degree\": 1189, \"count\": 2, \"label\": \"count\"}, {\"in_degree\": 1190, \"count\": 8, \"label\": \"count\"}, {\"in_degree\": 1191, \"count\": 4, \"label\": \"count\"}, {\"in_degree\": 1192, \"count\": 2, \"label\": \"count\"}, {\"in_degree\": 1193, \"count\": 2, \"label\": \"count\"}, {\"in_degree\": 1194, \"count\": 4, \"label\": \"count\"}, {\"in_degree\": 1195, \"count\": 4, \"label\": \"count\"}, {\"in_degree\": 1196, \"count\": 1, \"label\": \"count\"}, {\"in_degree\": 1197, \"count\": 1, \"label\": \"count\"}, {\"in_degree\": 1198, \"count\": 3, \"label\": \"count\"}, {\"in_degree\": 1199, \"count\": 3, \"label\": \"count\"}, {\"in_degree\": 1200, \"count\": 2, \"label\": \"count\"}, {\"in_degree\": 1201, \"count\": 3, \"label\": \"count\"}, {\"in_degree\": 1202, \"count\": 1, \"label\": \"count\"}, {\"in_degree\": 1203, \"count\": 2, \"label\": \"count\"}, {\"in_degree\": 1204, \"count\": 6, \"label\": \"count\"}, {\"in_degree\": 1205, \"count\": 3, \"label\": \"count\"}, {\"in_degree\": 1206, \"count\": 3, \"label\": \"count\"}, {\"in_degree\": 1207, \"count\": 3, \"label\": \"count\"}, {\"in_degree\": 1208, \"count\": 2, \"label\": \"count\"}, {\"in_degree\": 1209, \"count\": 2, \"label\": \"count\"}, {\"in_degree\": 1210, \"count\": 2, \"label\": \"count\"}, {\"in_degree\": 1211, \"count\": 3, \"label\": \"count\"}, {\"in_degree\": 1212, \"count\": 2, \"label\": \"count\"}, {\"in_degree\": 1213, \"count\": 1, \"label\": \"count\"}, {\"in_degree\": 1214, \"count\": 3, \"label\": \"count\"}, {\"in_degree\": 1215, \"count\": 3, \"label\": \"count\"}, {\"in_degree\": 1216, \"count\": 2, \"label\": \"count\"}, {\"in_degree\": 1217, \"count\": 3, \"label\": \"count\"}, {\"in_degree\": 1218, \"count\": 4, \"label\": \"count\"}, {\"in_degree\": 1219, \"count\": 3, \"label\": \"count\"}, {\"in_degree\": 1220, \"count\": 2, \"label\": \"count\"}, {\"in_degree\": 1222, \"count\": 3, \"label\": \"count\"}, {\"in_degree\": 1223, \"count\": 1, \"label\": \"count\"}, {\"in_degree\": 1224, \"count\": 2, \"label\": \"count\"}, {\"in_degree\": 1225, \"count\": 3, \"label\": \"count\"}, {\"in_degree\": 1226, \"count\": 1, \"label\": \"count\"}, {\"in_degree\": 1227, \"count\": 1, \"label\": \"count\"}, {\"in_degree\": 1228, \"count\": 6, \"label\": \"count\"}, {\"in_degree\": 1229, \"count\": 3, \"label\": \"count\"}, {\"in_degree\": 1230, \"count\": 2, \"label\": \"count\"}, {\"in_degree\": 1231, \"count\": 2, \"label\": \"count\"}, {\"in_degree\": 1232, \"count\": 3, \"label\": \"count\"}, {\"in_degree\": 1234, \"count\": 1, \"label\": \"count\"}, {\"in_degree\": 1235, \"count\": 2, \"label\": \"count\"}, {\"in_degree\": 1237, \"count\": 2, \"label\": \"count\"}, {\"in_degree\": 1238, \"count\": 2, \"label\": \"count\"}, {\"in_degree\": 1239, \"count\": 3, \"label\": \"count\"}, {\"in_degree\": 1240, \"count\": 1, \"label\": \"count\"}, {\"in_degree\": 1241, \"count\": 3, \"label\": \"count\"}, {\"in_degree\": 1242, \"count\": 1, \"label\": \"count\"}, {\"in_degree\": 1243, \"count\": 4, \"label\": \"count\"}, {\"in_degree\": 1244, \"count\": 2, \"label\": \"count\"}, {\"in_degree\": 1245, \"count\": 3, \"label\": \"count\"}, {\"in_degree\": 1246, \"count\": 4, \"label\": \"count\"}, {\"in_degree\": 1248, \"count\": 1, \"label\": \"count\"}, {\"in_degree\": 1249, \"count\": 3, \"label\": \"count\"}, {\"in_degree\": 1250, \"count\": 5, \"label\": \"count\"}, {\"in_degree\": 1251, \"count\": 3, \"label\": \"count\"}, {\"in_degree\": 1252, \"count\": 5, \"label\": \"count\"}, {\"in_degree\": 1253, \"count\": 4, \"label\": \"count\"}, {\"in_degree\": 1254, \"count\": 3, \"label\": \"count\"}, {\"in_degree\": 1255, \"count\": 2, \"label\": \"count\"}, {\"in_degree\": 1256, \"count\": 3, \"label\": \"count\"}, {\"in_degree\": 1257, \"count\": 3, \"label\": \"count\"}, {\"in_degree\": 1259, \"count\": 6, \"label\": \"count\"}, {\"in_degree\": 1260, \"count\": 4, \"label\": \"count\"}, {\"in_degree\": 1261, \"count\": 3, \"label\": \"count\"}, {\"in_degree\": 1262, \"count\": 3, \"label\": \"count\"}, {\"in_degree\": 1263, \"count\": 1, \"label\": \"count\"}, {\"in_degree\": 1264, \"count\": 1, \"label\": \"count\"}, {\"in_degree\": 1265, \"count\": 4, \"label\": \"count\"}, {\"in_degree\": 1266, \"count\": 2, \"label\": \"count\"}, {\"in_degree\": 1268, \"count\": 4, \"label\": \"count\"}, {\"in_degree\": 1269, \"count\": 2, \"label\": \"count\"}, {\"in_degree\": 1270, \"count\": 5, \"label\": \"count\"}, {\"in_degree\": 1271, \"count\": 3, \"label\": \"count\"}, {\"in_degree\": 1272, \"count\": 3, \"label\": \"count\"}, {\"in_degree\": 1273, \"count\": 2, \"label\": \"count\"}, {\"in_degree\": 1274, \"count\": 4, \"label\": \"count\"}, {\"in_degree\": 1275, \"count\": 2, \"label\": \"count\"}, {\"in_degree\": 1276, \"count\": 1, \"label\": \"count\"}, {\"in_degree\": 1277, \"count\": 4, \"label\": \"count\"}, {\"in_degree\": 1278, \"count\": 1, \"label\": \"count\"}, {\"in_degree\": 1279, \"count\": 5, \"label\": \"count\"}, {\"in_degree\": 1280, \"count\": 4, \"label\": \"count\"}, {\"in_degree\": 1281, \"count\": 2, \"label\": \"count\"}, {\"in_degree\": 1282, \"count\": 4, \"label\": \"count\"}, {\"in_degree\": 1283, \"count\": 1, \"label\": \"count\"}, {\"in_degree\": 1284, \"count\": 3, \"label\": \"count\"}, {\"in_degree\": 1285, \"count\": 4, \"label\": \"count\"}, {\"in_degree\": 1286, \"count\": 4, \"label\": \"count\"}, {\"in_degree\": 1287, \"count\": 1, \"label\": \"count\"}, {\"in_degree\": 1288, \"count\": 2, \"label\": \"count\"}, {\"in_degree\": 1289, \"count\": 1, \"label\": \"count\"}, {\"in_degree\": 1290, \"count\": 2, \"label\": \"count\"}, {\"in_degree\": 1291, \"count\": 3, \"label\": \"count\"}, {\"in_degree\": 1292, \"count\": 3, \"label\": \"count\"}, {\"in_degree\": 1293, \"count\": 2, \"label\": \"count\"}, {\"in_degree\": 1294, \"count\": 1, \"label\": \"count\"}, {\"in_degree\": 1295, \"count\": 2, \"label\": \"count\"}, {\"in_degree\": 1297, \"count\": 2, \"label\": \"count\"}, {\"in_degree\": 1298, \"count\": 3, \"label\": \"count\"}, {\"in_degree\": 1299, \"count\": 3, \"label\": \"count\"}, {\"in_degree\": 1300, \"count\": 1, \"label\": \"count\"}, {\"in_degree\": 1301, \"count\": 3, \"label\": \"count\"}, {\"in_degree\": 1302, \"count\": 5, \"label\": \"count\"}, {\"in_degree\": 1303, \"count\": 6, \"label\": \"count\"}, {\"in_degree\": 1305, \"count\": 2, \"label\": \"count\"}, {\"in_degree\": 1306, \"count\": 3, \"label\": \"count\"}, {\"in_degree\": 1307, \"count\": 2, \"label\": \"count\"}, {\"in_degree\": 1308, \"count\": 2, \"label\": \"count\"}, {\"in_degree\": 1309, \"count\": 2, \"label\": \"count\"}, {\"in_degree\": 1310, \"count\": 1, \"label\": \"count\"}, {\"in_degree\": 1311, \"count\": 2, \"label\": \"count\"}, {\"in_degree\": 1312, \"count\": 6, \"label\": \"count\"}, {\"in_degree\": 1313, \"count\": 1, \"label\": \"count\"}, {\"in_degree\": 1314, \"count\": 2, \"label\": \"count\"}, {\"in_degree\": 1315, \"count\": 4, \"label\": \"count\"}, {\"in_degree\": 1316, \"count\": 2, \"label\": \"count\"}, {\"in_degree\": 1317, \"count\": 3, \"label\": \"count\"}, {\"in_degree\": 1318, \"count\": 2, \"label\": \"count\"}, {\"in_degree\": 1319, \"count\": 3, \"label\": \"count\"}, {\"in_degree\": 1320, \"count\": 3, \"label\": \"count\"}, {\"in_degree\": 1322, \"count\": 3, \"label\": \"count\"}, {\"in_degree\": 1323, \"count\": 3, \"label\": \"count\"}, {\"in_degree\": 1324, \"count\": 2, \"label\": \"count\"}, {\"in_degree\": 1325, \"count\": 2, \"label\": \"count\"}, {\"in_degree\": 1326, \"count\": 2, \"label\": \"count\"}, {\"in_degree\": 1327, \"count\": 2, \"label\": \"count\"}, {\"in_degree\": 1328, \"count\": 2, \"label\": \"count\"}, {\"in_degree\": 1329, \"count\": 3, \"label\": \"count\"}, {\"in_degree\": 1330, \"count\": 1, \"label\": \"count\"}, {\"in_degree\": 1331, \"count\": 4, \"label\": \"count\"}, {\"in_degree\": 1332, \"count\": 2, \"label\": \"count\"}, {\"in_degree\": 1333, \"count\": 3, \"label\": \"count\"}, {\"in_degree\": 1334, \"count\": 1, \"label\": \"count\"}, {\"in_degree\": 1335, \"count\": 3, \"label\": \"count\"}, {\"in_degree\": 1336, \"count\": 2, \"label\": \"count\"}, {\"in_degree\": 1337, \"count\": 1, \"label\": \"count\"}, {\"in_degree\": 1338, \"count\": 1, \"label\": \"count\"}, {\"in_degree\": 1339, \"count\": 1, \"label\": \"count\"}, {\"in_degree\": 1340, \"count\": 4, \"label\": \"count\"}, {\"in_degree\": 1341, \"count\": 2, \"label\": \"count\"}, {\"in_degree\": 1342, \"count\": 1, \"label\": \"count\"}, {\"in_degree\": 1343, \"count\": 1, \"label\": \"count\"}, {\"in_degree\": 1344, \"count\": 1, \"label\": \"count\"}, {\"in_degree\": 1345, \"count\": 1, \"label\": \"count\"}, {\"in_degree\": 1346, \"count\": 2, \"label\": \"count\"}, {\"in_degree\": 1347, \"count\": 4, \"label\": \"count\"}, {\"in_degree\": 1348, \"count\": 3, \"label\": \"count\"}, {\"in_degree\": 1349, \"count\": 3, \"label\": \"count\"}, {\"in_degree\": 1350, \"count\": 4, \"label\": \"count\"}, {\"in_degree\": 1351, \"count\": 1, \"label\": \"count\"}, {\"in_degree\": 1352, \"count\": 4, \"label\": \"count\"}, {\"in_degree\": 1353, \"count\": 1, \"label\": \"count\"}, {\"in_degree\": 1354, \"count\": 3, \"label\": \"count\"}, {\"in_degree\": 1356, \"count\": 5, \"label\": \"count\"}, {\"in_degree\": 1357, \"count\": 2, \"label\": \"count\"}, {\"in_degree\": 1358, \"count\": 3, \"label\": \"count\"}, {\"in_degree\": 1359, \"count\": 2, \"label\": \"count\"}, {\"in_degree\": 1360, \"count\": 3, \"label\": \"count\"}, {\"in_degree\": 1361, \"count\": 4, \"label\": \"count\"}, {\"in_degree\": 1362, \"count\": 2, \"label\": \"count\"}, {\"in_degree\": 1363, \"count\": 2, \"label\": \"count\"}, {\"in_degree\": 1364, \"count\": 1, \"label\": \"count\"}, {\"in_degree\": 1365, \"count\": 7, \"label\": \"count\"}, {\"in_degree\": 1366, \"count\": 2, \"label\": \"count\"}, {\"in_degree\": 1367, \"count\": 2, \"label\": \"count\"}, {\"in_degree\": 1368, \"count\": 3, \"label\": \"count\"}, {\"in_degree\": 1369, \"count\": 3, \"label\": \"count\"}, {\"in_degree\": 1370, \"count\": 2, \"label\": \"count\"}, {\"in_degree\": 1371, \"count\": 1, \"label\": \"count\"}, {\"in_degree\": 1372, \"count\": 2, \"label\": \"count\"}, {\"in_degree\": 1373, \"count\": 1, \"label\": \"count\"}, {\"in_degree\": 1374, \"count\": 3, \"label\": \"count\"}, {\"in_degree\": 1375, \"count\": 2, \"label\": \"count\"}, {\"in_degree\": 1376, \"count\": 2, \"label\": \"count\"}, {\"in_degree\": 1377, \"count\": 1, \"label\": \"count\"}, {\"in_degree\": 1378, \"count\": 1, \"label\": \"count\"}, {\"in_degree\": 1379, \"count\": 2, \"label\": \"count\"}, {\"in_degree\": 1380, \"count\": 1, \"label\": \"count\"}, {\"in_degree\": 1381, \"count\": 2, \"label\": \"count\"}, {\"in_degree\": 1382, \"count\": 2, \"label\": \"count\"}, {\"in_degree\": 1383, \"count\": 4, \"label\": \"count\"}, {\"in_degree\": 1384, \"count\": 2, \"label\": \"count\"}, {\"in_degree\": 1385, \"count\": 4, \"label\": \"count\"}, {\"in_degree\": 1386, \"count\": 1, \"label\": \"count\"}, {\"in_degree\": 1387, \"count\": 3, \"label\": \"count\"}, {\"in_degree\": 1388, \"count\": 1, \"label\": \"count\"}, {\"in_degree\": 1389, \"count\": 2, \"label\": \"count\"}, {\"in_degree\": 1390, \"count\": 2, \"label\": \"count\"}, {\"in_degree\": 1391, \"count\": 4, \"label\": \"count\"}, {\"in_degree\": 1393, \"count\": 3, \"label\": \"count\"}, {\"in_degree\": 1394, \"count\": 4, \"label\": \"count\"}, {\"in_degree\": 1396, \"count\": 1, \"label\": \"count\"}, {\"in_degree\": 1397, \"count\": 2, \"label\": \"count\"}, {\"in_degree\": 1398, \"count\": 1, \"label\": \"count\"}, {\"in_degree\": 1399, \"count\": 4, \"label\": \"count\"}, {\"in_degree\": 1400, \"count\": 1, \"label\": \"count\"}, {\"in_degree\": 1401, \"count\": 3, \"label\": \"count\"}, {\"in_degree\": 1402, \"count\": 3, \"label\": \"count\"}, {\"in_degree\": 1403, \"count\": 2, \"label\": \"count\"}, {\"in_degree\": 1405, \"count\": 2, \"label\": \"count\"}, {\"in_degree\": 1406, \"count\": 4, \"label\": \"count\"}, {\"in_degree\": 1409, \"count\": 1, \"label\": \"count\"}, {\"in_degree\": 1410, \"count\": 2, \"label\": \"count\"}, {\"in_degree\": 1411, \"count\": 4, \"label\": \"count\"}, {\"in_degree\": 1412, \"count\": 1, \"label\": \"count\"}, {\"in_degree\": 1413, \"count\": 2, \"label\": \"count\"}, {\"in_degree\": 1414, \"count\": 1, \"label\": \"count\"}, {\"in_degree\": 1416, \"count\": 3, \"label\": \"count\"}, {\"in_degree\": 1417, \"count\": 3, \"label\": \"count\"}, {\"in_degree\": 1419, \"count\": 2, \"label\": \"count\"}, {\"in_degree\": 1420, \"count\": 3, \"label\": \"count\"}, {\"in_degree\": 1421, \"count\": 2, \"label\": \"count\"}, {\"in_degree\": 1422, \"count\": 1, \"label\": \"count\"}, {\"in_degree\": 1423, \"count\": 1, \"label\": \"count\"}, {\"in_degree\": 1424, \"count\": 1, \"label\": \"count\"}, {\"in_degree\": 1425, \"count\": 1, \"label\": \"count\"}, {\"in_degree\": 1426, \"count\": 5, \"label\": \"count\"}, {\"in_degree\": 1427, \"count\": 2, \"label\": \"count\"}, {\"in_degree\": 1428, \"count\": 1, \"label\": \"count\"}, {\"in_degree\": 1429, \"count\": 1, \"label\": \"count\"}, {\"in_degree\": 1430, \"count\": 4, \"label\": \"count\"}, {\"in_degree\": 1431, \"count\": 2, \"label\": \"count\"}, {\"in_degree\": 1432, \"count\": 3, \"label\": \"count\"}, {\"in_degree\": 1433, \"count\": 2, \"label\": \"count\"}, {\"in_degree\": 1434, \"count\": 4, \"label\": \"count\"}, {\"in_degree\": 1435, \"count\": 1, \"label\": \"count\"}, {\"in_degree\": 1437, \"count\": 3, \"label\": \"count\"}, {\"in_degree\": 1438, \"count\": 3, \"label\": \"count\"}, {\"in_degree\": 1440, \"count\": 2, \"label\": \"count\"}, {\"in_degree\": 1441, \"count\": 2, \"label\": \"count\"}, {\"in_degree\": 1442, \"count\": 2, \"label\": \"count\"}, {\"in_degree\": 1443, \"count\": 4, \"label\": \"count\"}, {\"in_degree\": 1444, \"count\": 2, \"label\": \"count\"}, {\"in_degree\": 1445, \"count\": 1, \"label\": \"count\"}, {\"in_degree\": 1446, \"count\": 3, \"label\": \"count\"}, {\"in_degree\": 1447, \"count\": 3, \"label\": \"count\"}, {\"in_degree\": 1448, \"count\": 1, \"label\": \"count\"}, {\"in_degree\": 1449, \"count\": 6, \"label\": \"count\"}, {\"in_degree\": 1450, \"count\": 5, \"label\": \"count\"}, {\"in_degree\": 1451, \"count\": 2, \"label\": \"count\"}, {\"in_degree\": 1453, \"count\": 3, \"label\": \"count\"}, {\"in_degree\": 1454, \"count\": 1, \"label\": \"count\"}, {\"in_degree\": 1456, \"count\": 2, \"label\": \"count\"}, {\"in_degree\": 1459, \"count\": 2, \"label\": \"count\"}, {\"in_degree\": 1460, \"count\": 2, \"label\": \"count\"}, {\"in_degree\": 1461, \"count\": 1, \"label\": \"count\"}, {\"in_degree\": 1462, \"count\": 2, \"label\": \"count\"}, {\"in_degree\": 1463, \"count\": 2, \"label\": \"count\"}, {\"in_degree\": 1464, \"count\": 1, \"label\": \"count\"}, {\"in_degree\": 1465, \"count\": 2, \"label\": \"count\"}, {\"in_degree\": 1466, \"count\": 3, \"label\": \"count\"}, {\"in_degree\": 1468, \"count\": 3, \"label\": \"count\"}, {\"in_degree\": 1469, \"count\": 1, \"label\": \"count\"}, {\"in_degree\": 1470, \"count\": 2, \"label\": \"count\"}, {\"in_degree\": 1471, \"count\": 3, \"label\": \"count\"}, {\"in_degree\": 1472, \"count\": 2, \"label\": \"count\"}, {\"in_degree\": 1473, \"count\": 1, \"label\": \"count\"}, {\"in_degree\": 1477, \"count\": 1, \"label\": \"count\"}, {\"in_degree\": 1478, \"count\": 3, \"label\": \"count\"}, {\"in_degree\": 1479, \"count\": 1, \"label\": \"count\"}, {\"in_degree\": 1482, \"count\": 3, \"label\": \"count\"}, {\"in_degree\": 1484, \"count\": 2, \"label\": \"count\"}, {\"in_degree\": 1485, \"count\": 2, \"label\": \"count\"}, {\"in_degree\": 1487, \"count\": 3, \"label\": \"count\"}, {\"in_degree\": 1488, \"count\": 3, \"label\": \"count\"}, {\"in_degree\": 1491, \"count\": 3, \"label\": \"count\"}, {\"in_degree\": 1493, \"count\": 1, \"label\": \"count\"}, {\"in_degree\": 1494, \"count\": 2, \"label\": \"count\"}, {\"in_degree\": 1495, \"count\": 1, \"label\": \"count\"}, {\"in_degree\": 1496, \"count\": 1, \"label\": \"count\"}, {\"in_degree\": 1497, \"count\": 1, \"label\": \"count\"}, {\"in_degree\": 1498, \"count\": 5, \"label\": \"count\"}, {\"in_degree\": 1499, \"count\": 3, \"label\": \"count\"}, {\"in_degree\": 1500, \"count\": 1, \"label\": \"count\"}, {\"in_degree\": 1501, \"count\": 1, \"label\": \"count\"}, {\"in_degree\": 1502, \"count\": 4, \"label\": \"count\"}, {\"in_degree\": 1503, \"count\": 5, \"label\": \"count\"}, {\"in_degree\": 1504, \"count\": 1, \"label\": \"count\"}, {\"in_degree\": 1505, \"count\": 4, \"label\": \"count\"}, {\"in_degree\": 1506, \"count\": 2, \"label\": \"count\"}, {\"in_degree\": 1507, \"count\": 1, \"label\": \"count\"}, {\"in_degree\": 1508, \"count\": 2, \"label\": \"count\"}, {\"in_degree\": 1509, \"count\": 1, \"label\": \"count\"}, {\"in_degree\": 1510, \"count\": 2, \"label\": \"count\"}, {\"in_degree\": 1511, \"count\": 1, \"label\": \"count\"}, {\"in_degree\": 1512, \"count\": 3, \"label\": \"count\"}, {\"in_degree\": 1513, \"count\": 1, \"label\": \"count\"}, {\"in_degree\": 1514, \"count\": 1, \"label\": \"count\"}, {\"in_degree\": 1516, \"count\": 1, \"label\": \"count\"}, {\"in_degree\": 1517, \"count\": 4, \"label\": \"count\"}, {\"in_degree\": 1518, \"count\": 2, \"label\": \"count\"}, {\"in_degree\": 1519, \"count\": 1, \"label\": \"count\"}, {\"in_degree\": 1520, \"count\": 3, \"label\": \"count\"}, {\"in_degree\": 1521, \"count\": 4, \"label\": \"count\"}, {\"in_degree\": 1523, \"count\": 4, \"label\": \"count\"}, {\"in_degree\": 1524, \"count\": 3, \"label\": \"count\"}, {\"in_degree\": 1525, \"count\": 1, \"label\": \"count\"}, {\"in_degree\": 1527, \"count\": 1, \"label\": \"count\"}, {\"in_degree\": 1528, \"count\": 2, \"label\": \"count\"}, {\"in_degree\": 1529, \"count\": 1, \"label\": \"count\"}, {\"in_degree\": 1530, \"count\": 3, \"label\": \"count\"}, {\"in_degree\": 1533, \"count\": 1, \"label\": \"count\"}, {\"in_degree\": 1534, \"count\": 3, \"label\": \"count\"}, {\"in_degree\": 1536, \"count\": 1, \"label\": \"count\"}, {\"in_degree\": 1537, \"count\": 3, \"label\": \"count\"}, {\"in_degree\": 1538, \"count\": 2, \"label\": \"count\"}, {\"in_degree\": 1539, \"count\": 2, \"label\": \"count\"}, {\"in_degree\": 1542, \"count\": 1, \"label\": \"count\"}, {\"in_degree\": 1543, \"count\": 2, \"label\": \"count\"}, {\"in_degree\": 1544, \"count\": 1, \"label\": \"count\"}, {\"in_degree\": 1545, \"count\": 1, \"label\": \"count\"}, {\"in_degree\": 1546, \"count\": 1, \"label\": \"count\"}, {\"in_degree\": 1547, \"count\": 2, \"label\": \"count\"}, {\"in_degree\": 1548, \"count\": 2, \"label\": \"count\"}, {\"in_degree\": 1549, \"count\": 1, \"label\": \"count\"}, {\"in_degree\": 1550, \"count\": 4, \"label\": \"count\"}, {\"in_degree\": 1551, \"count\": 2, \"label\": \"count\"}, {\"in_degree\": 1552, \"count\": 2, \"label\": \"count\"}, {\"in_degree\": 1553, \"count\": 1, \"label\": \"count\"}, {\"in_degree\": 1554, \"count\": 1, \"label\": \"count\"}, {\"in_degree\": 1555, \"count\": 3, \"label\": \"count\"}, {\"in_degree\": 1556, \"count\": 2, \"label\": \"count\"}, {\"in_degree\": 1557, \"count\": 3, \"label\": \"count\"}, {\"in_degree\": 1558, \"count\": 2, \"label\": \"count\"}, {\"in_degree\": 1559, \"count\": 1, \"label\": \"count\"}, {\"in_degree\": 1560, \"count\": 2, \"label\": \"count\"}, {\"in_degree\": 1561, \"count\": 1, \"label\": \"count\"}, {\"in_degree\": 1562, \"count\": 2, \"label\": \"count\"}, {\"in_degree\": 1563, \"count\": 2, \"label\": \"count\"}, {\"in_degree\": 1564, \"count\": 4, \"label\": \"count\"}, {\"in_degree\": 1565, \"count\": 1, \"label\": \"count\"}, {\"in_degree\": 1568, \"count\": 2, \"label\": \"count\"}, {\"in_degree\": 1569, \"count\": 3, \"label\": \"count\"}, {\"in_degree\": 1570, \"count\": 2, \"label\": \"count\"}, {\"in_degree\": 1571, \"count\": 1, \"label\": \"count\"}, {\"in_degree\": 1572, \"count\": 4, \"label\": \"count\"}, {\"in_degree\": 1573, \"count\": 6, \"label\": \"count\"}, {\"in_degree\": 1574, \"count\": 1, \"label\": \"count\"}, {\"in_degree\": 1575, \"count\": 1, \"label\": \"count\"}, {\"in_degree\": 1576, \"count\": 1, \"label\": \"count\"}, {\"in_degree\": 1577, \"count\": 2, \"label\": \"count\"}, {\"in_degree\": 1579, \"count\": 2, \"label\": \"count\"}, {\"in_degree\": 1580, \"count\": 1, \"label\": \"count\"}, {\"in_degree\": 1581, \"count\": 3, \"label\": \"count\"}, {\"in_degree\": 1582, \"count\": 1, \"label\": \"count\"}, {\"in_degree\": 1583, \"count\": 1, \"label\": \"count\"}, {\"in_degree\": 1584, \"count\": 1, \"label\": \"count\"}, {\"in_degree\": 1585, \"count\": 2, \"label\": \"count\"}, {\"in_degree\": 1586, \"count\": 1, \"label\": \"count\"}, {\"in_degree\": 1587, \"count\": 4, \"label\": \"count\"}, {\"in_degree\": 1589, \"count\": 1, \"label\": \"count\"}, {\"in_degree\": 1591, \"count\": 4, \"label\": \"count\"}, {\"in_degree\": 1592, \"count\": 1, \"label\": \"count\"}, {\"in_degree\": 1595, \"count\": 1, \"label\": \"count\"}, {\"in_degree\": 1596, \"count\": 1, \"label\": \"count\"}, {\"in_degree\": 1597, \"count\": 1, \"label\": \"count\"}, {\"in_degree\": 1598, \"count\": 1, \"label\": \"count\"}, {\"in_degree\": 1601, \"count\": 2, \"label\": \"count\"}, {\"in_degree\": 1602, \"count\": 2, \"label\": \"count\"}, {\"in_degree\": 1603, \"count\": 3, \"label\": \"count\"}, {\"in_degree\": 1605, \"count\": 2, \"label\": \"count\"}, {\"in_degree\": 1607, \"count\": 3, \"label\": \"count\"}, {\"in_degree\": 1608, \"count\": 2, \"label\": \"count\"}, {\"in_degree\": 1609, \"count\": 2, \"label\": \"count\"}, {\"in_degree\": 1611, \"count\": 3, \"label\": \"count\"}, {\"in_degree\": 1612, \"count\": 2, \"label\": \"count\"}, {\"in_degree\": 1613, \"count\": 3, \"label\": \"count\"}, {\"in_degree\": 1614, \"count\": 4, \"label\": \"count\"}, {\"in_degree\": 1615, \"count\": 3, \"label\": \"count\"}, {\"in_degree\": 1616, \"count\": 3, \"label\": \"count\"}, {\"in_degree\": 1617, \"count\": 3, \"label\": \"count\"}, {\"in_degree\": 1618, \"count\": 1, \"label\": \"count\"}, {\"in_degree\": 1619, \"count\": 1, \"label\": \"count\"}, {\"in_degree\": 1620, \"count\": 3, \"label\": \"count\"}, {\"in_degree\": 1621, \"count\": 1, \"label\": \"count\"}, {\"in_degree\": 1623, \"count\": 1, \"label\": \"count\"}, {\"in_degree\": 1626, \"count\": 3, \"label\": \"count\"}, {\"in_degree\": 1627, \"count\": 2, \"label\": \"count\"}, {\"in_degree\": 1629, \"count\": 1, \"label\": \"count\"}, {\"in_degree\": 1630, \"count\": 3, \"label\": \"count\"}, {\"in_degree\": 1631, \"count\": 2, \"label\": \"count\"}, {\"in_degree\": 1632, \"count\": 2, \"label\": \"count\"}, {\"in_degree\": 1633, \"count\": 2, \"label\": \"count\"}, {\"in_degree\": 1634, \"count\": 2, \"label\": \"count\"}, {\"in_degree\": 1635, \"count\": 1, \"label\": \"count\"}, {\"in_degree\": 1637, \"count\": 1, \"label\": \"count\"}, {\"in_degree\": 1640, \"count\": 3, \"label\": \"count\"}, {\"in_degree\": 1641, \"count\": 3, \"label\": \"count\"}, {\"in_degree\": 1642, \"count\": 1, \"label\": \"count\"}, {\"in_degree\": 1643, \"count\": 1, \"label\": \"count\"}, {\"in_degree\": 1644, \"count\": 3, \"label\": \"count\"}, {\"in_degree\": 1645, \"count\": 1, \"label\": \"count\"}, {\"in_degree\": 1646, \"count\": 2, \"label\": \"count\"}, {\"in_degree\": 1647, \"count\": 1, \"label\": \"count\"}, {\"in_degree\": 1648, \"count\": 2, \"label\": \"count\"}, {\"in_degree\": 1650, \"count\": 1, \"label\": \"count\"}, {\"in_degree\": 1651, \"count\": 2, \"label\": \"count\"}, {\"in_degree\": 1652, \"count\": 4, \"label\": \"count\"}, {\"in_degree\": 1653, \"count\": 1, \"label\": \"count\"}, {\"in_degree\": 1654, \"count\": 1, \"label\": \"count\"}, {\"in_degree\": 1655, \"count\": 1, \"label\": \"count\"}, {\"in_degree\": 1656, \"count\": 2, \"label\": \"count\"}, {\"in_degree\": 1658, \"count\": 5, \"label\": \"count\"}, {\"in_degree\": 1659, \"count\": 1, \"label\": \"count\"}, {\"in_degree\": 1661, \"count\": 2, \"label\": \"count\"}, {\"in_degree\": 1663, \"count\": 2, \"label\": \"count\"}, {\"in_degree\": 1664, \"count\": 1, \"label\": \"count\"}, {\"in_degree\": 1665, \"count\": 1, \"label\": \"count\"}, {\"in_degree\": 1666, \"count\": 1, \"label\": \"count\"}, {\"in_degree\": 1668, \"count\": 3, \"label\": \"count\"}, {\"in_degree\": 1674, \"count\": 2, \"label\": \"count\"}, {\"in_degree\": 1676, \"count\": 3, \"label\": \"count\"}, {\"in_degree\": 1677, \"count\": 1, \"label\": \"count\"}, {\"in_degree\": 1678, \"count\": 2, \"label\": \"count\"}, {\"in_degree\": 1679, \"count\": 2, \"label\": \"count\"}, {\"in_degree\": 1682, \"count\": 1, \"label\": \"count\"}, {\"in_degree\": 1683, \"count\": 3, \"label\": \"count\"}, {\"in_degree\": 1684, \"count\": 2, \"label\": \"count\"}, {\"in_degree\": 1685, \"count\": 1, \"label\": \"count\"}, {\"in_degree\": 1687, \"count\": 1, \"label\": \"count\"}, {\"in_degree\": 1688, \"count\": 1, \"label\": \"count\"}, {\"in_degree\": 1690, \"count\": 1, \"label\": \"count\"}, {\"in_degree\": 1691, \"count\": 4, \"label\": \"count\"}, {\"in_degree\": 1692, \"count\": 1, \"label\": \"count\"}, {\"in_degree\": 1693, \"count\": 2, \"label\": \"count\"}, {\"in_degree\": 1695, \"count\": 1, \"label\": \"count\"}, {\"in_degree\": 1699, \"count\": 2, \"label\": \"count\"}, {\"in_degree\": 1701, \"count\": 1, \"label\": \"count\"}, {\"in_degree\": 1702, \"count\": 3, \"label\": \"count\"}, {\"in_degree\": 1706, \"count\": 2, \"label\": \"count\"}, {\"in_degree\": 1707, \"count\": 1, \"label\": \"count\"}, {\"in_degree\": 1708, \"count\": 2, \"label\": \"count\"}, {\"in_degree\": 1709, \"count\": 3, \"label\": \"count\"}, {\"in_degree\": 1710, \"count\": 3, \"label\": \"count\"}, {\"in_degree\": 1711, \"count\": 1, \"label\": \"count\"}, {\"in_degree\": 1712, \"count\": 3, \"label\": \"count\"}, {\"in_degree\": 1713, \"count\": 2, \"label\": \"count\"}, {\"in_degree\": 1714, \"count\": 1, \"label\": \"count\"}, {\"in_degree\": 1715, \"count\": 3, \"label\": \"count\"}, {\"in_degree\": 1716, \"count\": 2, \"label\": \"count\"}, {\"in_degree\": 1717, \"count\": 2, \"label\": \"count\"}, {\"in_degree\": 1719, \"count\": 3, \"label\": \"count\"}, {\"in_degree\": 1723, \"count\": 2, \"label\": \"count\"}, {\"in_degree\": 1724, \"count\": 5, \"label\": \"count\"}, {\"in_degree\": 1725, \"count\": 2, \"label\": \"count\"}, {\"in_degree\": 1726, \"count\": 1, \"label\": \"count\"}, {\"in_degree\": 1727, \"count\": 3, \"label\": \"count\"}, {\"in_degree\": 1728, \"count\": 1, \"label\": \"count\"}, {\"in_degree\": 1730, \"count\": 2, \"label\": \"count\"}, {\"in_degree\": 1731, \"count\": 3, \"label\": \"count\"}, {\"in_degree\": 1732, \"count\": 3, \"label\": \"count\"}, {\"in_degree\": 1733, \"count\": 1, \"label\": \"count\"}, {\"in_degree\": 1734, \"count\": 1, \"label\": \"count\"}, {\"in_degree\": 1736, \"count\": 4, \"label\": \"count\"}, {\"in_degree\": 1737, \"count\": 1, \"label\": \"count\"}, {\"in_degree\": 1738, \"count\": 1, \"label\": \"count\"}, {\"in_degree\": 1739, \"count\": 2, \"label\": \"count\"}, {\"in_degree\": 1740, \"count\": 1, \"label\": \"count\"}, {\"in_degree\": 1741, \"count\": 1, \"label\": \"count\"}, {\"in_degree\": 1742, \"count\": 2, \"label\": \"count\"}, {\"in_degree\": 1743, \"count\": 1, \"label\": \"count\"}, {\"in_degree\": 1744, \"count\": 2, \"label\": \"count\"}, {\"in_degree\": 1746, \"count\": 1, \"label\": \"count\"}, {\"in_degree\": 1747, \"count\": 1, \"label\": \"count\"}, {\"in_degree\": 1748, \"count\": 2, \"label\": \"count\"}, {\"in_degree\": 1749, \"count\": 3, \"label\": \"count\"}, {\"in_degree\": 1750, \"count\": 1, \"label\": \"count\"}, {\"in_degree\": 1751, \"count\": 1, \"label\": \"count\"}, {\"in_degree\": 1754, \"count\": 3, \"label\": \"count\"}, {\"in_degree\": 1755, \"count\": 2, \"label\": \"count\"}, {\"in_degree\": 1757, \"count\": 1, \"label\": \"count\"}, {\"in_degree\": 1758, \"count\": 1, \"label\": \"count\"}, {\"in_degree\": 1759, \"count\": 2, \"label\": \"count\"}, {\"in_degree\": 1760, \"count\": 2, \"label\": \"count\"}, {\"in_degree\": 1762, \"count\": 1, \"label\": \"count\"}, {\"in_degree\": 1763, \"count\": 3, \"label\": \"count\"}, {\"in_degree\": 1765, \"count\": 3, \"label\": \"count\"}, {\"in_degree\": 1766, \"count\": 1, \"label\": \"count\"}, {\"in_degree\": 1768, \"count\": 3, \"label\": \"count\"}, {\"in_degree\": 1769, \"count\": 1, \"label\": \"count\"}, {\"in_degree\": 1774, \"count\": 2, \"label\": \"count\"}, {\"in_degree\": 1777, \"count\": 1, \"label\": \"count\"}, {\"in_degree\": 1779, \"count\": 2, \"label\": \"count\"}, {\"in_degree\": 1781, \"count\": 1, \"label\": \"count\"}, {\"in_degree\": 1782, \"count\": 3, \"label\": \"count\"}, {\"in_degree\": 1783, \"count\": 1, \"label\": \"count\"}, {\"in_degree\": 1784, \"count\": 1, \"label\": \"count\"}, {\"in_degree\": 1786, \"count\": 1, \"label\": \"count\"}, {\"in_degree\": 1787, \"count\": 1, \"label\": \"count\"}, {\"in_degree\": 1788, \"count\": 3, \"label\": \"count\"}, {\"in_degree\": 1789, \"count\": 2, \"label\": \"count\"}, {\"in_degree\": 1791, \"count\": 1, \"label\": \"count\"}, {\"in_degree\": 1792, \"count\": 2, \"label\": \"count\"}, {\"in_degree\": 1793, \"count\": 2, \"label\": \"count\"}, {\"in_degree\": 1794, \"count\": 4, \"label\": \"count\"}, {\"in_degree\": 1795, \"count\": 3, \"label\": \"count\"}, {\"in_degree\": 1797, \"count\": 3, \"label\": \"count\"}, {\"in_degree\": 1798, \"count\": 2, \"label\": \"count\"}, {\"in_degree\": 1802, \"count\": 2, \"label\": \"count\"}, {\"in_degree\": 1804, \"count\": 3, \"label\": \"count\"}, {\"in_degree\": 1805, \"count\": 3, \"label\": \"count\"}, {\"in_degree\": 1806, \"count\": 2, \"label\": \"count\"}, {\"in_degree\": 1807, \"count\": 2, \"label\": \"count\"}, {\"in_degree\": 1808, \"count\": 3, \"label\": \"count\"}, {\"in_degree\": 1809, \"count\": 1, \"label\": \"count\"}, {\"in_degree\": 1810, \"count\": 2, \"label\": \"count\"}, {\"in_degree\": 1813, \"count\": 2, \"label\": \"count\"}, {\"in_degree\": 1815, \"count\": 1, \"label\": \"count\"}, {\"in_degree\": 1816, \"count\": 2, \"label\": \"count\"}, {\"in_degree\": 1817, \"count\": 2, \"label\": \"count\"}, {\"in_degree\": 1818, \"count\": 1, \"label\": \"count\"}, {\"in_degree\": 1819, \"count\": 5, \"label\": \"count\"}, {\"in_degree\": 1820, \"count\": 3, \"label\": \"count\"}, {\"in_degree\": 1821, \"count\": 1, \"label\": \"count\"}, {\"in_degree\": 1822, \"count\": 2, \"label\": \"count\"}, {\"in_degree\": 1826, \"count\": 1, \"label\": \"count\"}, {\"in_degree\": 1827, \"count\": 3, \"label\": \"count\"}, {\"in_degree\": 1828, \"count\": 2, \"label\": \"count\"}, {\"in_degree\": 1829, \"count\": 2, \"label\": \"count\"}, {\"in_degree\": 1830, \"count\": 1, \"label\": \"count\"}, {\"in_degree\": 1831, \"count\": 3, \"label\": \"count\"}, {\"in_degree\": 1832, \"count\": 4, \"label\": \"count\"}, {\"in_degree\": 1833, \"count\": 4, \"label\": \"count\"}, {\"in_degree\": 1834, \"count\": 1, \"label\": \"count\"}, {\"in_degree\": 1835, \"count\": 1, \"label\": \"count\"}, {\"in_degree\": 1837, \"count\": 1, \"label\": \"count\"}, {\"in_degree\": 1838, \"count\": 3, \"label\": \"count\"}, {\"in_degree\": 1839, \"count\": 1, \"label\": \"count\"}, {\"in_degree\": 1840, \"count\": 1, \"label\": \"count\"}, {\"in_degree\": 1841, \"count\": 1, \"label\": \"count\"}, {\"in_degree\": 1842, \"count\": 1, \"label\": \"count\"}, {\"in_degree\": 1843, \"count\": 2, \"label\": \"count\"}, {\"in_degree\": 1844, \"count\": 2, \"label\": \"count\"}, {\"in_degree\": 1846, \"count\": 1, \"label\": \"count\"}, {\"in_degree\": 1847, \"count\": 1, \"label\": \"count\"}, {\"in_degree\": 1848, \"count\": 2, \"label\": \"count\"}, {\"in_degree\": 1849, \"count\": 1, \"label\": \"count\"}, {\"in_degree\": 1850, \"count\": 1, \"label\": \"count\"}, {\"in_degree\": 1851, \"count\": 2, \"label\": \"count\"}, {\"in_degree\": 1852, \"count\": 2, \"label\": \"count\"}, {\"in_degree\": 1853, \"count\": 1, \"label\": \"count\"}, {\"in_degree\": 1854, \"count\": 1, \"label\": \"count\"}, {\"in_degree\": 1855, \"count\": 1, \"label\": \"count\"}, {\"in_degree\": 1857, \"count\": 1, \"label\": \"count\"}, {\"in_degree\": 1860, \"count\": 3, \"label\": \"count\"}, {\"in_degree\": 1861, \"count\": 1, \"label\": \"count\"}, {\"in_degree\": 1862, \"count\": 3, \"label\": \"count\"}, {\"in_degree\": 1863, \"count\": 3, \"label\": \"count\"}, {\"in_degree\": 1865, \"count\": 1, \"label\": \"count\"}, {\"in_degree\": 1867, \"count\": 1, \"label\": \"count\"}, {\"in_degree\": 1868, \"count\": 3, \"label\": \"count\"}, {\"in_degree\": 1869, \"count\": 2, \"label\": \"count\"}, {\"in_degree\": 1870, \"count\": 1, \"label\": \"count\"}, {\"in_degree\": 1871, \"count\": 1, \"label\": \"count\"}, {\"in_degree\": 1872, \"count\": 2, \"label\": \"count\"}, {\"in_degree\": 1873, \"count\": 1, \"label\": \"count\"}, {\"in_degree\": 1874, \"count\": 1, \"label\": \"count\"}, {\"in_degree\": 1877, \"count\": 1, \"label\": \"count\"}, {\"in_degree\": 1878, \"count\": 1, \"label\": \"count\"}, {\"in_degree\": 1879, \"count\": 1, \"label\": \"count\"}, {\"in_degree\": 1880, \"count\": 1, \"label\": \"count\"}, {\"in_degree\": 1881, \"count\": 1, \"label\": \"count\"}, {\"in_degree\": 1882, \"count\": 3, \"label\": \"count\"}, {\"in_degree\": 1883, \"count\": 1, \"label\": \"count\"}, {\"in_degree\": 1885, \"count\": 2, \"label\": \"count\"}, {\"in_degree\": 1886, \"count\": 4, \"label\": \"count\"}, {\"in_degree\": 1887, \"count\": 2, \"label\": \"count\"}, {\"in_degree\": 1888, \"count\": 3, \"label\": \"count\"}, {\"in_degree\": 1889, \"count\": 1, \"label\": \"count\"}, {\"in_degree\": 1890, \"count\": 1, \"label\": \"count\"}, {\"in_degree\": 1891, \"count\": 2, \"label\": \"count\"}, {\"in_degree\": 1892, \"count\": 1, \"label\": \"count\"}, {\"in_degree\": 1893, \"count\": 3, \"label\": \"count\"}, {\"in_degree\": 1895, \"count\": 2, \"label\": \"count\"}, {\"in_degree\": 1896, \"count\": 1, \"label\": \"count\"}, {\"in_degree\": 1898, \"count\": 3, \"label\": \"count\"}, {\"in_degree\": 1900, \"count\": 1, \"label\": \"count\"}, {\"in_degree\": 1901, \"count\": 1, \"label\": \"count\"}, {\"in_degree\": 1902, \"count\": 1, \"label\": \"count\"}, {\"in_degree\": 1903, \"count\": 1, \"label\": \"count\"}, {\"in_degree\": 1904, \"count\": 3, \"label\": \"count\"}, {\"in_degree\": 1905, \"count\": 1, \"label\": \"count\"}, {\"in_degree\": 1906, \"count\": 1, \"label\": \"count\"}, {\"in_degree\": 1907, \"count\": 1, \"label\": \"count\"}, {\"in_degree\": 1908, \"count\": 1, \"label\": \"count\"}, {\"in_degree\": 1909, \"count\": 3, \"label\": \"count\"}, {\"in_degree\": 1913, \"count\": 2, \"label\": \"count\"}, {\"in_degree\": 1915, \"count\": 3, \"label\": \"count\"}, {\"in_degree\": 1916, \"count\": 1, \"label\": \"count\"}, {\"in_degree\": 1918, \"count\": 1, \"label\": \"count\"}, {\"in_degree\": 1919, \"count\": 2, \"label\": \"count\"}, {\"in_degree\": 1920, \"count\": 2, \"label\": \"count\"}, {\"in_degree\": 1921, \"count\": 2, \"label\": \"count\"}, {\"in_degree\": 1922, \"count\": 1, \"label\": \"count\"}, {\"in_degree\": 1925, \"count\": 2, \"label\": \"count\"}, {\"in_degree\": 1926, \"count\": 2, \"label\": \"count\"}, {\"in_degree\": 1928, \"count\": 2, \"label\": \"count\"}, {\"in_degree\": 1929, \"count\": 1, \"label\": \"count\"}, {\"in_degree\": 1930, \"count\": 3, \"label\": \"count\"}, {\"in_degree\": 1931, \"count\": 1, \"label\": \"count\"}, {\"in_degree\": 1934, \"count\": 2, \"label\": \"count\"}, {\"in_degree\": 1935, \"count\": 1, \"label\": \"count\"}, {\"in_degree\": 1936, \"count\": 1, \"label\": \"count\"}, {\"in_degree\": 1937, \"count\": 1, \"label\": \"count\"}, {\"in_degree\": 1938, \"count\": 1, \"label\": \"count\"}, {\"in_degree\": 1939, \"count\": 1, \"label\": \"count\"}, {\"in_degree\": 1942, \"count\": 3, \"label\": \"count\"}, {\"in_degree\": 1943, \"count\": 2, \"label\": \"count\"}, {\"in_degree\": 1944, \"count\": 1, \"label\": \"count\"}, {\"in_degree\": 1945, \"count\": 1, \"label\": \"count\"}, {\"in_degree\": 1946, \"count\": 2, \"label\": \"count\"}, {\"in_degree\": 1948, \"count\": 1, \"label\": \"count\"}, {\"in_degree\": 1949, \"count\": 1, \"label\": \"count\"}, {\"in_degree\": 1950, \"count\": 1, \"label\": \"count\"}, {\"in_degree\": 1953, \"count\": 2, \"label\": \"count\"}, {\"in_degree\": 1954, \"count\": 1, \"label\": \"count\"}, {\"in_degree\": 1955, \"count\": 3, \"label\": \"count\"}, {\"in_degree\": 1956, \"count\": 1, \"label\": \"count\"}, {\"in_degree\": 1958, \"count\": 1, \"label\": \"count\"}, {\"in_degree\": 1959, \"count\": 5, \"label\": \"count\"}, {\"in_degree\": 1960, \"count\": 1, \"label\": \"count\"}, {\"in_degree\": 1965, \"count\": 1, \"label\": \"count\"}, {\"in_degree\": 1967, \"count\": 4, \"label\": \"count\"}, {\"in_degree\": 1968, \"count\": 1, \"label\": \"count\"}, {\"in_degree\": 1969, \"count\": 1, \"label\": \"count\"}, {\"in_degree\": 1970, \"count\": 2, \"label\": \"count\"}, {\"in_degree\": 1971, \"count\": 1, \"label\": \"count\"}, {\"in_degree\": 1974, \"count\": 2, \"label\": \"count\"}, {\"in_degree\": 1976, \"count\": 1, \"label\": \"count\"}, {\"in_degree\": 1977, \"count\": 1, \"label\": \"count\"}, {\"in_degree\": 1981, \"count\": 1, \"label\": \"count\"}, {\"in_degree\": 1982, \"count\": 1, \"label\": \"count\"}, {\"in_degree\": 1985, \"count\": 1, \"label\": \"count\"}, {\"in_degree\": 1986, \"count\": 2, \"label\": \"count\"}, {\"in_degree\": 1987, \"count\": 1, \"label\": \"count\"}, {\"in_degree\": 1988, \"count\": 1, \"label\": \"count\"}, {\"in_degree\": 1989, \"count\": 1, \"label\": \"count\"}, {\"in_degree\": 1990, \"count\": 1, \"label\": \"count\"}, {\"in_degree\": 1992, \"count\": 2, \"label\": \"count\"}, {\"in_degree\": 1993, \"count\": 1, \"label\": \"count\"}, {\"in_degree\": 1994, \"count\": 2, \"label\": \"count\"}, {\"in_degree\": 1995, \"count\": 2, \"label\": \"count\"}, {\"in_degree\": 1996, \"count\": 1, \"label\": \"count\"}, {\"in_degree\": 1997, \"count\": 1, \"label\": \"count\"}, {\"in_degree\": 1999, \"count\": 1, \"label\": \"count\"}, {\"in_degree\": 2002, \"count\": 1, \"label\": \"count\"}, {\"in_degree\": 2003, \"count\": 1, \"label\": \"count\"}, {\"in_degree\": 2004, \"count\": 1, \"label\": \"count\"}, {\"in_degree\": 2006, \"count\": 1, \"label\": \"count\"}, {\"in_degree\": 2009, \"count\": 1, \"label\": \"count\"}, {\"in_degree\": 2011, \"count\": 1, \"label\": \"count\"}, {\"in_degree\": 2012, \"count\": 2, \"label\": \"count\"}, {\"in_degree\": 2013, \"count\": 1, \"label\": \"count\"}, {\"in_degree\": 2015, \"count\": 1, \"label\": \"count\"}, {\"in_degree\": 2016, \"count\": 1, \"label\": \"count\"}, {\"in_degree\": 2017, \"count\": 2, \"label\": \"count\"}, {\"in_degree\": 2018, \"count\": 1, \"label\": \"count\"}, {\"in_degree\": 2019, \"count\": 2, \"label\": \"count\"}, {\"in_degree\": 2020, \"count\": 2, \"label\": \"count\"}, {\"in_degree\": 2021, \"count\": 4, \"label\": \"count\"}, {\"in_degree\": 2022, \"count\": 2, \"label\": \"count\"}, {\"in_degree\": 2024, \"count\": 2, \"label\": \"count\"}, {\"in_degree\": 2026, \"count\": 1, \"label\": \"count\"}, {\"in_degree\": 2028, \"count\": 1, \"label\": \"count\"}, {\"in_degree\": 2031, \"count\": 3, \"label\": \"count\"}, {\"in_degree\": 2035, \"count\": 1, \"label\": \"count\"}, {\"in_degree\": 2036, \"count\": 1, \"label\": \"count\"}, {\"in_degree\": 2037, \"count\": 1, \"label\": \"count\"}, {\"in_degree\": 2038, \"count\": 2, \"label\": \"count\"}, {\"in_degree\": 2041, \"count\": 1, \"label\": \"count\"}, {\"in_degree\": 2042, \"count\": 1, \"label\": \"count\"}, {\"in_degree\": 2043, \"count\": 4, \"label\": \"count\"}, {\"in_degree\": 2044, \"count\": 2, \"label\": \"count\"}, {\"in_degree\": 2046, \"count\": 1, \"label\": \"count\"}, {\"in_degree\": 2049, \"count\": 1, \"label\": \"count\"}, {\"in_degree\": 2050, \"count\": 1, \"label\": \"count\"}, {\"in_degree\": 2051, \"count\": 3, \"label\": \"count\"}, {\"in_degree\": 2053, \"count\": 3, \"label\": \"count\"}, {\"in_degree\": 2055, \"count\": 2, \"label\": \"count\"}, {\"in_degree\": 2059, \"count\": 2, \"label\": \"count\"}, {\"in_degree\": 2060, \"count\": 2, \"label\": \"count\"}, {\"in_degree\": 2061, \"count\": 1, \"label\": \"count\"}, {\"in_degree\": 2062, \"count\": 3, \"label\": \"count\"}, {\"in_degree\": 2064, \"count\": 1, \"label\": \"count\"}, {\"in_degree\": 2065, \"count\": 1, \"label\": \"count\"}, {\"in_degree\": 2066, \"count\": 1, \"label\": \"count\"}, {\"in_degree\": 2067, \"count\": 1, \"label\": \"count\"}, {\"in_degree\": 2068, \"count\": 1, \"label\": \"count\"}, {\"in_degree\": 2069, \"count\": 3, \"label\": \"count\"}, {\"in_degree\": 2070, \"count\": 1, \"label\": \"count\"}, {\"in_degree\": 2073, \"count\": 2, \"label\": \"count\"}, {\"in_degree\": 2074, \"count\": 1, \"label\": \"count\"}, {\"in_degree\": 2075, \"count\": 1, \"label\": \"count\"}, {\"in_degree\": 2077, \"count\": 1, \"label\": \"count\"}, {\"in_degree\": 2078, \"count\": 1, \"label\": \"count\"}, {\"in_degree\": 2080, \"count\": 1, \"label\": \"count\"}, {\"in_degree\": 2084, \"count\": 2, \"label\": \"count\"}, {\"in_degree\": 2085, \"count\": 2, \"label\": \"count\"}, {\"in_degree\": 2086, \"count\": 1, \"label\": \"count\"}, {\"in_degree\": 2087, \"count\": 1, \"label\": \"count\"}, {\"in_degree\": 2088, \"count\": 1, \"label\": \"count\"}, {\"in_degree\": 2089, \"count\": 1, \"label\": \"count\"}, {\"in_degree\": 2092, \"count\": 1, \"label\": \"count\"}, {\"in_degree\": 2093, \"count\": 4, \"label\": \"count\"}, {\"in_degree\": 2098, \"count\": 1, \"label\": \"count\"}, {\"in_degree\": 2099, \"count\": 3, \"label\": \"count\"}, {\"in_degree\": 2100, \"count\": 1, \"label\": \"count\"}, {\"in_degree\": 2102, \"count\": 1, \"label\": \"count\"}, {\"in_degree\": 2104, \"count\": 1, \"label\": \"count\"}, {\"in_degree\": 2106, \"count\": 2, \"label\": \"count\"}, {\"in_degree\": 2108, \"count\": 2, \"label\": \"count\"}, {\"in_degree\": 2109, \"count\": 1, \"label\": \"count\"}, {\"in_degree\": 2112, \"count\": 2, \"label\": \"count\"}, {\"in_degree\": 2117, \"count\": 3, \"label\": \"count\"}, {\"in_degree\": 2119, \"count\": 1, \"label\": \"count\"}, {\"in_degree\": 2122, \"count\": 2, \"label\": \"count\"}, {\"in_degree\": 2124, \"count\": 2, \"label\": \"count\"}, {\"in_degree\": 2126, \"count\": 2, \"label\": \"count\"}, {\"in_degree\": 2128, \"count\": 1, \"label\": \"count\"}, {\"in_degree\": 2129, \"count\": 3, \"label\": \"count\"}, {\"in_degree\": 2130, \"count\": 1, \"label\": \"count\"}, {\"in_degree\": 2131, \"count\": 3, \"label\": \"count\"}, {\"in_degree\": 2132, \"count\": 1, \"label\": \"count\"}, {\"in_degree\": 2136, \"count\": 1, \"label\": \"count\"}, {\"in_degree\": 2137, \"count\": 3, \"label\": \"count\"}, {\"in_degree\": 2138, \"count\": 1, \"label\": \"count\"}, {\"in_degree\": 2139, \"count\": 4, \"label\": \"count\"}, {\"in_degree\": 2140, \"count\": 1, \"label\": \"count\"}, {\"in_degree\": 2141, \"count\": 1, \"label\": \"count\"}, {\"in_degree\": 2142, \"count\": 2, \"label\": \"count\"}, {\"in_degree\": 2143, \"count\": 2, \"label\": \"count\"}, {\"in_degree\": 2144, \"count\": 1, \"label\": \"count\"}, {\"in_degree\": 2146, \"count\": 2, \"label\": \"count\"}, {\"in_degree\": 2147, \"count\": 2, \"label\": \"count\"}, {\"in_degree\": 2149, \"count\": 3, \"label\": \"count\"}, {\"in_degree\": 2151, \"count\": 2, \"label\": \"count\"}, {\"in_degree\": 2154, \"count\": 1, \"label\": \"count\"}, {\"in_degree\": 2156, \"count\": 1, \"label\": \"count\"}, {\"in_degree\": 2160, \"count\": 1, \"label\": \"count\"}, {\"in_degree\": 2161, \"count\": 2, \"label\": \"count\"}, {\"in_degree\": 2162, \"count\": 2, \"label\": \"count\"}, {\"in_degree\": 2163, \"count\": 1, \"label\": \"count\"}, {\"in_degree\": 2164, \"count\": 2, \"label\": \"count\"}, {\"in_degree\": 2165, \"count\": 2, \"label\": \"count\"}, {\"in_degree\": 2166, \"count\": 2, \"label\": \"count\"}, {\"in_degree\": 2167, \"count\": 1, \"label\": \"count\"}, {\"in_degree\": 2168, \"count\": 1, \"label\": \"count\"}, {\"in_degree\": 2169, \"count\": 1, \"label\": \"count\"}, {\"in_degree\": 2170, \"count\": 4, \"label\": \"count\"}, {\"in_degree\": 2172, \"count\": 2, \"label\": \"count\"}, {\"in_degree\": 2174, \"count\": 1, \"label\": \"count\"}, {\"in_degree\": 2175, \"count\": 3, \"label\": \"count\"}, {\"in_degree\": 2178, \"count\": 1, \"label\": \"count\"}, {\"in_degree\": 2181, \"count\": 1, \"label\": \"count\"}, {\"in_degree\": 2186, \"count\": 1, \"label\": \"count\"}, {\"in_degree\": 2189, \"count\": 2, \"label\": \"count\"}, {\"in_degree\": 2191, \"count\": 1, \"label\": \"count\"}, {\"in_degree\": 2194, \"count\": 1, \"label\": \"count\"}, {\"in_degree\": 2195, \"count\": 1, \"label\": \"count\"}, {\"in_degree\": 2196, \"count\": 2, \"label\": \"count\"}, {\"in_degree\": 2198, \"count\": 1, \"label\": \"count\"}, {\"in_degree\": 2201, \"count\": 2, \"label\": \"count\"}, {\"in_degree\": 2202, \"count\": 2, \"label\": \"count\"}, {\"in_degree\": 2203, \"count\": 1, \"label\": \"count\"}, {\"in_degree\": 2204, \"count\": 1, \"label\": \"count\"}, {\"in_degree\": 2205, \"count\": 1, \"label\": \"count\"}, {\"in_degree\": 2208, \"count\": 1, \"label\": \"count\"}, {\"in_degree\": 2209, \"count\": 1, \"label\": \"count\"}, {\"in_degree\": 2211, \"count\": 2, \"label\": \"count\"}, {\"in_degree\": 2213, \"count\": 1, \"label\": \"count\"}, {\"in_degree\": 2219, \"count\": 1, \"label\": \"count\"}, {\"in_degree\": 2221, \"count\": 4, \"label\": \"count\"}, {\"in_degree\": 2222, \"count\": 1, \"label\": \"count\"}, {\"in_degree\": 2223, \"count\": 1, \"label\": \"count\"}, {\"in_degree\": 2224, \"count\": 2, \"label\": \"count\"}, {\"in_degree\": 2226, \"count\": 1, \"label\": \"count\"}, {\"in_degree\": 2228, \"count\": 1, \"label\": \"count\"}, {\"in_degree\": 2232, \"count\": 1, \"label\": \"count\"}, {\"in_degree\": 2233, \"count\": 1, \"label\": \"count\"}, {\"in_degree\": 2235, \"count\": 1, \"label\": \"count\"}, {\"in_degree\": 2236, \"count\": 1, \"label\": \"count\"}, {\"in_degree\": 2239, \"count\": 1, \"label\": \"count\"}, {\"in_degree\": 2240, \"count\": 1, \"label\": \"count\"}, {\"in_degree\": 2241, \"count\": 1, \"label\": \"count\"}, {\"in_degree\": 2242, \"count\": 1, \"label\": \"count\"}, {\"in_degree\": 2243, \"count\": 2, \"label\": \"count\"}, {\"in_degree\": 2245, \"count\": 2, \"label\": \"count\"}, {\"in_degree\": 2247, \"count\": 2, \"label\": \"count\"}, {\"in_degree\": 2248, \"count\": 1, \"label\": \"count\"}, {\"in_degree\": 2249, \"count\": 2, \"label\": \"count\"}, {\"in_degree\": 2254, \"count\": 1, \"label\": \"count\"}, {\"in_degree\": 2255, \"count\": 2, \"label\": \"count\"}, {\"in_degree\": 2256, \"count\": 2, \"label\": \"count\"}, {\"in_degree\": 2257, \"count\": 1, \"label\": \"count\"}, {\"in_degree\": 2259, \"count\": 2, \"label\": \"count\"}, {\"in_degree\": 2260, \"count\": 1, \"label\": \"count\"}, {\"in_degree\": 2266, \"count\": 2, \"label\": \"count\"}, {\"in_degree\": 2267, \"count\": 1, \"label\": \"count\"}, {\"in_degree\": 2270, \"count\": 2, \"label\": \"count\"}, {\"in_degree\": 2271, \"count\": 2, \"label\": \"count\"}, {\"in_degree\": 2272, \"count\": 1, \"label\": \"count\"}, {\"in_degree\": 2273, \"count\": 1, \"label\": \"count\"}, {\"in_degree\": 2275, \"count\": 1, \"label\": \"count\"}, {\"in_degree\": 2276, \"count\": 1, \"label\": \"count\"}, {\"in_degree\": 2278, \"count\": 2, \"label\": \"count\"}, {\"in_degree\": 2279, \"count\": 2, \"label\": \"count\"}, {\"in_degree\": 2280, \"count\": 1, \"label\": \"count\"}, {\"in_degree\": 2282, \"count\": 1, \"label\": \"count\"}, {\"in_degree\": 2284, \"count\": 1, \"label\": \"count\"}, {\"in_degree\": 2285, \"count\": 3, \"label\": \"count\"}, {\"in_degree\": 2286, \"count\": 1, \"label\": \"count\"}, {\"in_degree\": 2287, \"count\": 1, \"label\": \"count\"}, {\"in_degree\": 2289, \"count\": 1, \"label\": \"count\"}, {\"in_degree\": 2290, \"count\": 1, \"label\": \"count\"}, {\"in_degree\": 2291, \"count\": 1, \"label\": \"count\"}, {\"in_degree\": 2293, \"count\": 1, \"label\": \"count\"}, {\"in_degree\": 2294, \"count\": 2, \"label\": \"count\"}, {\"in_degree\": 2298, \"count\": 2, \"label\": \"count\"}, {\"in_degree\": 2299, \"count\": 1, \"label\": \"count\"}, {\"in_degree\": 2304, \"count\": 1, \"label\": \"count\"}, {\"in_degree\": 2305, \"count\": 2, \"label\": \"count\"}, {\"in_degree\": 2306, \"count\": 3, \"label\": \"count\"}, {\"in_degree\": 2307, \"count\": 2, \"label\": \"count\"}, {\"in_degree\": 2310, \"count\": 1, \"label\": \"count\"}, {\"in_degree\": 2311, \"count\": 2, \"label\": \"count\"}, {\"in_degree\": 2312, \"count\": 1, \"label\": \"count\"}, {\"in_degree\": 2313, \"count\": 1, \"label\": \"count\"}, {\"in_degree\": 2315, \"count\": 1, \"label\": \"count\"}, {\"in_degree\": 2319, \"count\": 1, \"label\": \"count\"}, {\"in_degree\": 2320, \"count\": 1, \"label\": \"count\"}, {\"in_degree\": 2321, \"count\": 2, \"label\": \"count\"}, {\"in_degree\": 2322, \"count\": 2, \"label\": \"count\"}, {\"in_degree\": 2323, \"count\": 1, \"label\": \"count\"}, {\"in_degree\": 2324, \"count\": 1, \"label\": \"count\"}, {\"in_degree\": 2326, \"count\": 1, \"label\": \"count\"}, {\"in_degree\": 2329, \"count\": 1, \"label\": \"count\"}, {\"in_degree\": 2331, \"count\": 2, \"label\": \"count\"}, {\"in_degree\": 2332, \"count\": 1, \"label\": \"count\"}, {\"in_degree\": 2333, \"count\": 1, \"label\": \"count\"}, {\"in_degree\": 2334, \"count\": 2, \"label\": \"count\"}, {\"in_degree\": 2336, \"count\": 1, \"label\": \"count\"}, {\"in_degree\": 2341, \"count\": 3, \"label\": \"count\"}, {\"in_degree\": 2343, \"count\": 1, \"label\": \"count\"}, {\"in_degree\": 2344, \"count\": 1, \"label\": \"count\"}, {\"in_degree\": 2346, \"count\": 4, \"label\": \"count\"}, {\"in_degree\": 2347, \"count\": 3, \"label\": \"count\"}, {\"in_degree\": 2352, \"count\": 1, \"label\": \"count\"}, {\"in_degree\": 2354, \"count\": 1, \"label\": \"count\"}, {\"in_degree\": 2356, \"count\": 2, \"label\": \"count\"}, {\"in_degree\": 2358, \"count\": 1, \"label\": \"count\"}, {\"in_degree\": 2359, \"count\": 1, \"label\": \"count\"}, {\"in_degree\": 2362, \"count\": 1, \"label\": \"count\"}, {\"in_degree\": 2364, \"count\": 1, \"label\": \"count\"}, {\"in_degree\": 2365, \"count\": 2, \"label\": \"count\"}, {\"in_degree\": 2366, \"count\": 1, \"label\": \"count\"}, {\"in_degree\": 2367, \"count\": 1, \"label\": \"count\"}, {\"in_degree\": 2368, \"count\": 1, \"label\": \"count\"}, {\"in_degree\": 2370, \"count\": 1, \"label\": \"count\"}, {\"in_degree\": 2372, \"count\": 4, \"label\": \"count\"}, {\"in_degree\": 2373, \"count\": 2, \"label\": \"count\"}, {\"in_degree\": 2374, \"count\": 1, \"label\": \"count\"}, {\"in_degree\": 2375, \"count\": 1, \"label\": \"count\"}, {\"in_degree\": 2380, \"count\": 2, \"label\": \"count\"}, {\"in_degree\": 2381, \"count\": 2, \"label\": \"count\"}, {\"in_degree\": 2387, \"count\": 2, \"label\": \"count\"}, {\"in_degree\": 2389, \"count\": 2, \"label\": \"count\"}, {\"in_degree\": 2390, \"count\": 2, \"label\": \"count\"}, {\"in_degree\": 2392, \"count\": 2, \"label\": \"count\"}, {\"in_degree\": 2393, \"count\": 1, \"label\": \"count\"}, {\"in_degree\": 2395, \"count\": 3, \"label\": \"count\"}, {\"in_degree\": 2396, \"count\": 1, \"label\": \"count\"}, {\"in_degree\": 2399, \"count\": 2, \"label\": \"count\"}, {\"in_degree\": 2400, \"count\": 2, \"label\": \"count\"}, {\"in_degree\": 2401, \"count\": 1, \"label\": \"count\"}, {\"in_degree\": 2402, \"count\": 2, \"label\": \"count\"}, {\"in_degree\": 2403, \"count\": 3, \"label\": \"count\"}, {\"in_degree\": 2404, \"count\": 1, \"label\": \"count\"}, {\"in_degree\": 2407, \"count\": 2, \"label\": \"count\"}, {\"in_degree\": 2408, \"count\": 1, \"label\": \"count\"}, {\"in_degree\": 2410, \"count\": 1, \"label\": \"count\"}, {\"in_degree\": 2414, \"count\": 1, \"label\": \"count\"}, {\"in_degree\": 2418, \"count\": 1, \"label\": \"count\"}, {\"in_degree\": 2421, \"count\": 1, \"label\": \"count\"}, {\"in_degree\": 2422, \"count\": 1, \"label\": \"count\"}, {\"in_degree\": 2425, \"count\": 3, \"label\": \"count\"}, {\"in_degree\": 2427, \"count\": 2, \"label\": \"count\"}, {\"in_degree\": 2428, \"count\": 1, \"label\": \"count\"}, {\"in_degree\": 2429, \"count\": 2, \"label\": \"count\"}, {\"in_degree\": 2430, \"count\": 1, \"label\": \"count\"}, {\"in_degree\": 2432, \"count\": 2, \"label\": \"count\"}, {\"in_degree\": 2434, \"count\": 1, \"label\": \"count\"}, {\"in_degree\": 2438, \"count\": 1, \"label\": \"count\"}, {\"in_degree\": 2439, \"count\": 1, \"label\": \"count\"}, {\"in_degree\": 2442, \"count\": 1, \"label\": \"count\"}, {\"in_degree\": 2445, \"count\": 1, \"label\": \"count\"}, {\"in_degree\": 2449, \"count\": 1, \"label\": \"count\"}, {\"in_degree\": 2450, \"count\": 1, \"label\": \"count\"}, {\"in_degree\": 2451, \"count\": 1, \"label\": \"count\"}, {\"in_degree\": 2452, \"count\": 1, \"label\": \"count\"}, {\"in_degree\": 2455, \"count\": 1, \"label\": \"count\"}, {\"in_degree\": 2457, \"count\": 1, \"label\": \"count\"}, {\"in_degree\": 2458, \"count\": 1, \"label\": \"count\"}, {\"in_degree\": 2462, \"count\": 1, \"label\": \"count\"}, {\"in_degree\": 2465, \"count\": 1, \"label\": \"count\"}, {\"in_degree\": 2467, \"count\": 1, \"label\": \"count\"}, {\"in_degree\": 2469, \"count\": 1, \"label\": \"count\"}, {\"in_degree\": 2470, \"count\": 1, \"label\": \"count\"}, {\"in_degree\": 2475, \"count\": 1, \"label\": \"count\"}, {\"in_degree\": 2477, \"count\": 1, \"label\": \"count\"}, {\"in_degree\": 2480, \"count\": 1, \"label\": \"count\"}, {\"in_degree\": 2482, \"count\": 1, \"label\": \"count\"}, {\"in_degree\": 2484, \"count\": 1, \"label\": \"count\"}, {\"in_degree\": 2487, \"count\": 1, \"label\": \"count\"}, {\"in_degree\": 2488, \"count\": 2, \"label\": \"count\"}, {\"in_degree\": 2491, \"count\": 1, \"label\": \"count\"}, {\"in_degree\": 2493, \"count\": 1, \"label\": \"count\"}, {\"in_degree\": 2494, \"count\": 1, \"label\": \"count\"}, {\"in_degree\": 2495, \"count\": 1, \"label\": \"count\"}, {\"in_degree\": 2498, \"count\": 1, \"label\": \"count\"}, {\"in_degree\": 2500, \"count\": 2, \"label\": \"count\"}, {\"in_degree\": 2501, \"count\": 2, \"label\": \"count\"}, {\"in_degree\": 2502, \"count\": 2, \"label\": \"count\"}, {\"in_degree\": 2503, \"count\": 1, \"label\": \"count\"}, {\"in_degree\": 2505, \"count\": 1, \"label\": \"count\"}, {\"in_degree\": 2506, \"count\": 2, \"label\": \"count\"}, {\"in_degree\": 2507, \"count\": 1, \"label\": \"count\"}, {\"in_degree\": 2508, \"count\": 1, \"label\": \"count\"}, {\"in_degree\": 2510, \"count\": 1, \"label\": \"count\"}, {\"in_degree\": 2511, \"count\": 1, \"label\": \"count\"}, {\"in_degree\": 2512, \"count\": 1, \"label\": \"count\"}, {\"in_degree\": 2513, \"count\": 2, \"label\": \"count\"}, {\"in_degree\": 2518, \"count\": 1, \"label\": \"count\"}, {\"in_degree\": 2520, \"count\": 1, \"label\": \"count\"}, {\"in_degree\": 2522, \"count\": 2, \"label\": \"count\"}, {\"in_degree\": 2527, \"count\": 1, \"label\": \"count\"}, {\"in_degree\": 2529, \"count\": 2, \"label\": \"count\"}, {\"in_degree\": 2531, \"count\": 2, \"label\": \"count\"}, {\"in_degree\": 2532, \"count\": 1, \"label\": \"count\"}, {\"in_degree\": 2533, \"count\": 1, \"label\": \"count\"}, {\"in_degree\": 2534, \"count\": 2, \"label\": \"count\"}, {\"in_degree\": 2535, \"count\": 2, \"label\": \"count\"}, {\"in_degree\": 2536, \"count\": 2, \"label\": \"count\"}, {\"in_degree\": 2538, \"count\": 2, \"label\": \"count\"}, {\"in_degree\": 2539, \"count\": 1, \"label\": \"count\"}, {\"in_degree\": 2540, \"count\": 1, \"label\": \"count\"}, {\"in_degree\": 2541, \"count\": 1, \"label\": \"count\"}, {\"in_degree\": 2542, \"count\": 1, \"label\": \"count\"}, {\"in_degree\": 2543, \"count\": 1, \"label\": \"count\"}, {\"in_degree\": 2544, \"count\": 1, \"label\": \"count\"}, {\"in_degree\": 2546, \"count\": 1, \"label\": \"count\"}, {\"in_degree\": 2548, \"count\": 2, \"label\": \"count\"}, {\"in_degree\": 2549, \"count\": 1, \"label\": \"count\"}, {\"in_degree\": 2551, \"count\": 1, \"label\": \"count\"}, {\"in_degree\": 2554, \"count\": 1, \"label\": \"count\"}, {\"in_degree\": 2558, \"count\": 2, \"label\": \"count\"}, {\"in_degree\": 2559, \"count\": 2, \"label\": \"count\"}, {\"in_degree\": 2562, \"count\": 1, \"label\": \"count\"}, {\"in_degree\": 2564, \"count\": 1, \"label\": \"count\"}, {\"in_degree\": 2566, \"count\": 1, \"label\": \"count\"}, {\"in_degree\": 2567, \"count\": 1, \"label\": \"count\"}, {\"in_degree\": 2569, \"count\": 2, \"label\": \"count\"}, {\"in_degree\": 2570, \"count\": 1, \"label\": \"count\"}, {\"in_degree\": 2572, \"count\": 1, \"label\": \"count\"}, {\"in_degree\": 2577, \"count\": 1, \"label\": \"count\"}, {\"in_degree\": 2581, \"count\": 2, \"label\": \"count\"}, {\"in_degree\": 2582, \"count\": 1, \"label\": \"count\"}, {\"in_degree\": 2583, \"count\": 3, \"label\": \"count\"}, {\"in_degree\": 2585, \"count\": 3, \"label\": \"count\"}, {\"in_degree\": 2586, \"count\": 1, \"label\": \"count\"}, {\"in_degree\": 2587, \"count\": 1, \"label\": \"count\"}, {\"in_degree\": 2588, \"count\": 1, \"label\": \"count\"}, {\"in_degree\": 2589, \"count\": 1, \"label\": \"count\"}, {\"in_degree\": 2592, \"count\": 2, \"label\": \"count\"}, {\"in_degree\": 2593, \"count\": 1, \"label\": \"count\"}, {\"in_degree\": 2595, \"count\": 1, \"label\": \"count\"}, {\"in_degree\": 2596, \"count\": 1, \"label\": \"count\"}, {\"in_degree\": 2597, \"count\": 1, \"label\": \"count\"}, {\"in_degree\": 2598, \"count\": 1, \"label\": \"count\"}, {\"in_degree\": 2599, \"count\": 1, \"label\": \"count\"}, {\"in_degree\": 2600, \"count\": 1, \"label\": \"count\"}, {\"in_degree\": 2601, \"count\": 1, \"label\": \"count\"}, {\"in_degree\": 2602, \"count\": 1, \"label\": \"count\"}, {\"in_degree\": 2603, \"count\": 2, \"label\": \"count\"}, {\"in_degree\": 2604, \"count\": 2, \"label\": \"count\"}, {\"in_degree\": 2605, \"count\": 1, \"label\": \"count\"}, {\"in_degree\": 2606, \"count\": 2, \"label\": \"count\"}, {\"in_degree\": 2609, \"count\": 1, \"label\": \"count\"}, {\"in_degree\": 2610, \"count\": 1, \"label\": \"count\"}, {\"in_degree\": 2612, \"count\": 3, \"label\": \"count\"}, {\"in_degree\": 2615, \"count\": 4, \"label\": \"count\"}, {\"in_degree\": 2616, \"count\": 2, \"label\": \"count\"}, {\"in_degree\": 2618, \"count\": 1, \"label\": \"count\"}, {\"in_degree\": 2621, \"count\": 1, \"label\": \"count\"}, {\"in_degree\": 2622, \"count\": 1, \"label\": \"count\"}, {\"in_degree\": 2624, \"count\": 1, \"label\": \"count\"}, {\"in_degree\": 2625, \"count\": 3, \"label\": \"count\"}, {\"in_degree\": 2626, \"count\": 1, \"label\": \"count\"}, {\"in_degree\": 2627, \"count\": 1, \"label\": \"count\"}, {\"in_degree\": 2629, \"count\": 1, \"label\": \"count\"}, {\"in_degree\": 2632, \"count\": 1, \"label\": \"count\"}, {\"in_degree\": 2636, \"count\": 1, \"label\": \"count\"}, {\"in_degree\": 2638, \"count\": 1, \"label\": \"count\"}, {\"in_degree\": 2639, \"count\": 1, \"label\": \"count\"}, {\"in_degree\": 2640, \"count\": 1, \"label\": \"count\"}, {\"in_degree\": 2642, \"count\": 1, \"label\": \"count\"}, {\"in_degree\": 2644, \"count\": 1, \"label\": \"count\"}, {\"in_degree\": 2646, \"count\": 1, \"label\": \"count\"}, {\"in_degree\": 2647, \"count\": 1, \"label\": \"count\"}, {\"in_degree\": 2649, \"count\": 4, \"label\": \"count\"}, {\"in_degree\": 2651, \"count\": 2, \"label\": \"count\"}, {\"in_degree\": 2653, \"count\": 1, \"label\": \"count\"}, {\"in_degree\": 2654, \"count\": 2, \"label\": \"count\"}, {\"in_degree\": 2656, \"count\": 1, \"label\": \"count\"}, {\"in_degree\": 2658, \"count\": 3, \"label\": \"count\"}, {\"in_degree\": 2659, \"count\": 2, \"label\": \"count\"}, {\"in_degree\": 2660, \"count\": 2, \"label\": \"count\"}, {\"in_degree\": 2662, \"count\": 1, \"label\": \"count\"}, {\"in_degree\": 2666, \"count\": 1, \"label\": \"count\"}, {\"in_degree\": 2668, \"count\": 1, \"label\": \"count\"}, {\"in_degree\": 2669, \"count\": 3, \"label\": \"count\"}, {\"in_degree\": 2676, \"count\": 1, \"label\": \"count\"}, {\"in_degree\": 2678, \"count\": 1, \"label\": \"count\"}, {\"in_degree\": 2679, \"count\": 1, \"label\": \"count\"}, {\"in_degree\": 2680, \"count\": 1, \"label\": \"count\"}, {\"in_degree\": 2681, \"count\": 2, \"label\": \"count\"}, {\"in_degree\": 2684, \"count\": 1, \"label\": \"count\"}, {\"in_degree\": 2689, \"count\": 3, \"label\": \"count\"}, {\"in_degree\": 2690, \"count\": 1, \"label\": \"count\"}, {\"in_degree\": 2693, \"count\": 1, \"label\": \"count\"}, {\"in_degree\": 2699, \"count\": 1, \"label\": \"count\"}, {\"in_degree\": 2704, \"count\": 2, \"label\": \"count\"}, {\"in_degree\": 2708, \"count\": 1, \"label\": \"count\"}, {\"in_degree\": 2709, \"count\": 1, \"label\": \"count\"}, {\"in_degree\": 2711, \"count\": 1, \"label\": \"count\"}, {\"in_degree\": 2712, \"count\": 1, \"label\": \"count\"}, {\"in_degree\": 2714, \"count\": 1, \"label\": \"count\"}, {\"in_degree\": 2722, \"count\": 1, \"label\": \"count\"}, {\"in_degree\": 2723, \"count\": 1, \"label\": \"count\"}, {\"in_degree\": 2724, \"count\": 1, \"label\": \"count\"}, {\"in_degree\": 2725, \"count\": 1, \"label\": \"count\"}, {\"in_degree\": 2727, \"count\": 2, \"label\": \"count\"}, {\"in_degree\": 2728, \"count\": 2, \"label\": \"count\"}, {\"in_degree\": 2731, \"count\": 1, \"label\": \"count\"}, {\"in_degree\": 2732, \"count\": 1, \"label\": \"count\"}, {\"in_degree\": 2735, \"count\": 1, \"label\": \"count\"}, {\"in_degree\": 2736, \"count\": 1, \"label\": \"count\"}, {\"in_degree\": 2737, \"count\": 1, \"label\": \"count\"}, {\"in_degree\": 2738, \"count\": 3, \"label\": \"count\"}, {\"in_degree\": 2739, \"count\": 1, \"label\": \"count\"}, {\"in_degree\": 2740, \"count\": 1, \"label\": \"count\"}, {\"in_degree\": 2742, \"count\": 1, \"label\": \"count\"}, {\"in_degree\": 2743, \"count\": 2, \"label\": \"count\"}, {\"in_degree\": 2747, \"count\": 1, \"label\": \"count\"}, {\"in_degree\": 2748, \"count\": 1, \"label\": \"count\"}, {\"in_degree\": 2749, \"count\": 1, \"label\": \"count\"}, {\"in_degree\": 2752, \"count\": 1, \"label\": \"count\"}, {\"in_degree\": 2760, \"count\": 1, \"label\": \"count\"}, {\"in_degree\": 2761, \"count\": 1, \"label\": \"count\"}, {\"in_degree\": 2762, \"count\": 2, \"label\": \"count\"}, {\"in_degree\": 2763, \"count\": 1, \"label\": \"count\"}, {\"in_degree\": 2764, \"count\": 2, \"label\": \"count\"}, {\"in_degree\": 2765, \"count\": 2, \"label\": \"count\"}, {\"in_degree\": 2768, \"count\": 3, \"label\": \"count\"}, {\"in_degree\": 2769, \"count\": 1, \"label\": \"count\"}, {\"in_degree\": 2774, \"count\": 2, \"label\": \"count\"}, {\"in_degree\": 2776, \"count\": 1, \"label\": \"count\"}, {\"in_degree\": 2781, \"count\": 1, \"label\": \"count\"}, {\"in_degree\": 2785, \"count\": 1, \"label\": \"count\"}, {\"in_degree\": 2786, \"count\": 1, \"label\": \"count\"}, {\"in_degree\": 2788, \"count\": 1, \"label\": \"count\"}, {\"in_degree\": 2794, \"count\": 1, \"label\": \"count\"}, {\"in_degree\": 2795, \"count\": 2, \"label\": \"count\"}, {\"in_degree\": 2798, \"count\": 2, \"label\": \"count\"}, {\"in_degree\": 2799, \"count\": 1, \"label\": \"count\"}, {\"in_degree\": 2803, \"count\": 2, \"label\": \"count\"}, {\"in_degree\": 2805, \"count\": 1, \"label\": \"count\"}, {\"in_degree\": 2809, \"count\": 1, \"label\": \"count\"}, {\"in_degree\": 2811, \"count\": 1, \"label\": \"count\"}, {\"in_degree\": 2813, \"count\": 1, \"label\": \"count\"}, {\"in_degree\": 2814, \"count\": 1, \"label\": \"count\"}, {\"in_degree\": 2817, \"count\": 1, \"label\": \"count\"}, {\"in_degree\": 2818, \"count\": 1, \"label\": \"count\"}, {\"in_degree\": 2819, \"count\": 1, \"label\": \"count\"}, {\"in_degree\": 2820, \"count\": 2, \"label\": \"count\"}, {\"in_degree\": 2821, \"count\": 1, \"label\": \"count\"}, {\"in_degree\": 2822, \"count\": 1, \"label\": \"count\"}, {\"in_degree\": 2823, \"count\": 3, \"label\": \"count\"}, {\"in_degree\": 2824, \"count\": 1, \"label\": \"count\"}, {\"in_degree\": 2825, \"count\": 1, \"label\": \"count\"}, {\"in_degree\": 2826, \"count\": 1, \"label\": \"count\"}, {\"in_degree\": 2834, \"count\": 2, \"label\": \"count\"}, {\"in_degree\": 2844, \"count\": 1, \"label\": \"count\"}, {\"in_degree\": 2845, \"count\": 1, \"label\": \"count\"}, {\"in_degree\": 2846, \"count\": 1, \"label\": \"count\"}, {\"in_degree\": 2848, \"count\": 1, \"label\": \"count\"}, {\"in_degree\": 2855, \"count\": 1, \"label\": \"count\"}, {\"in_degree\": 2857, \"count\": 2, \"label\": \"count\"}, {\"in_degree\": 2858, \"count\": 1, \"label\": \"count\"}, {\"in_degree\": 2861, \"count\": 1, \"label\": \"count\"}, {\"in_degree\": 2868, \"count\": 1, \"label\": \"count\"}, {\"in_degree\": 2873, \"count\": 3, \"label\": \"count\"}, {\"in_degree\": 2878, \"count\": 1, \"label\": \"count\"}, {\"in_degree\": 2882, \"count\": 1, \"label\": \"count\"}, {\"in_degree\": 2884, \"count\": 1, \"label\": \"count\"}, {\"in_degree\": 2885, \"count\": 1, \"label\": \"count\"}, {\"in_degree\": 2889, \"count\": 1, \"label\": \"count\"}, {\"in_degree\": 2890, \"count\": 1, \"label\": \"count\"}, {\"in_degree\": 2893, \"count\": 1, \"label\": \"count\"}, {\"in_degree\": 2896, \"count\": 1, \"label\": \"count\"}, {\"in_degree\": 2897, \"count\": 2, \"label\": \"count\"}, {\"in_degree\": 2898, \"count\": 1, \"label\": \"count\"}, {\"in_degree\": 2900, \"count\": 1, \"label\": \"count\"}, {\"in_degree\": 2904, \"count\": 1, \"label\": \"count\"}, {\"in_degree\": 2905, \"count\": 1, \"label\": \"count\"}, {\"in_degree\": 2911, \"count\": 1, \"label\": \"count\"}, {\"in_degree\": 2916, \"count\": 1, \"label\": \"count\"}, {\"in_degree\": 2919, \"count\": 1, \"label\": \"count\"}, {\"in_degree\": 2922, \"count\": 1, \"label\": \"count\"}, {\"in_degree\": 2923, \"count\": 2, \"label\": \"count\"}, {\"in_degree\": 2925, \"count\": 1, \"label\": \"count\"}, {\"in_degree\": 2927, \"count\": 2, \"label\": \"count\"}, {\"in_degree\": 2928, \"count\": 1, \"label\": \"count\"}, {\"in_degree\": 2931, \"count\": 1, \"label\": \"count\"}, {\"in_degree\": 2932, \"count\": 2, \"label\": \"count\"}, {\"in_degree\": 2933, \"count\": 1, \"label\": \"count\"}, {\"in_degree\": 2935, \"count\": 1, \"label\": \"count\"}, {\"in_degree\": 2936, \"count\": 1, \"label\": \"count\"}, {\"in_degree\": 2937, \"count\": 1, \"label\": \"count\"}, {\"in_degree\": 2939, \"count\": 1, \"label\": \"count\"}, {\"in_degree\": 2940, \"count\": 1, \"label\": \"count\"}, {\"in_degree\": 2941, \"count\": 1, \"label\": \"count\"}, {\"in_degree\": 2943, \"count\": 2, \"label\": \"count\"}, {\"in_degree\": 2950, \"count\": 1, \"label\": \"count\"}, {\"in_degree\": 2952, \"count\": 1, \"label\": \"count\"}, {\"in_degree\": 2955, \"count\": 1, \"label\": \"count\"}, {\"in_degree\": 2956, \"count\": 1, \"label\": \"count\"}, {\"in_degree\": 2957, \"count\": 1, \"label\": \"count\"}, {\"in_degree\": 2961, \"count\": 2, \"label\": \"count\"}, {\"in_degree\": 2965, \"count\": 1, \"label\": \"count\"}, {\"in_degree\": 2966, \"count\": 1, \"label\": \"count\"}, {\"in_degree\": 2973, \"count\": 1, \"label\": \"count\"}, {\"in_degree\": 2975, \"count\": 1, \"label\": \"count\"}, {\"in_degree\": 2977, \"count\": 1, \"label\": \"count\"}, {\"in_degree\": 2978, \"count\": 1, \"label\": \"count\"}, {\"in_degree\": 2979, \"count\": 1, \"label\": \"count\"}, {\"in_degree\": 2980, \"count\": 1, \"label\": \"count\"}, {\"in_degree\": 2981, \"count\": 1, \"label\": \"count\"}, {\"in_degree\": 2982, \"count\": 6, \"label\": \"count\"}, {\"in_degree\": 2986, \"count\": 2, \"label\": \"count\"}, {\"in_degree\": 2987, \"count\": 1, \"label\": \"count\"}, {\"in_degree\": 2988, \"count\": 1, \"label\": \"count\"}, {\"in_degree\": 2990, \"count\": 1, \"label\": \"count\"}, {\"in_degree\": 2991, \"count\": 1, \"label\": \"count\"}, {\"in_degree\": 2993, \"count\": 1, \"label\": \"count\"}, {\"in_degree\": 2994, \"count\": 1, \"label\": \"count\"}, {\"in_degree\": 2995, \"count\": 1, \"label\": \"count\"}, {\"in_degree\": 2997, \"count\": 2, \"label\": \"count\"}, {\"in_degree\": 3002, \"count\": 3, \"label\": \"count\"}, {\"in_degree\": 3004, \"count\": 1, \"label\": \"count\"}, {\"in_degree\": 3008, \"count\": 2, \"label\": \"count\"}, {\"in_degree\": 3014, \"count\": 2, \"label\": \"count\"}, {\"in_degree\": 3015, \"count\": 1, \"label\": \"count\"}, {\"in_degree\": 3016, \"count\": 2, \"label\": \"count\"}, {\"in_degree\": 3017, \"count\": 2, \"label\": \"count\"}, {\"in_degree\": 3019, \"count\": 1, \"label\": \"count\"}, {\"in_degree\": 3022, \"count\": 1, \"label\": \"count\"}, {\"in_degree\": 3023, \"count\": 1, \"label\": \"count\"}, {\"in_degree\": 3028, \"count\": 1, \"label\": \"count\"}, {\"in_degree\": 3029, \"count\": 1, \"label\": \"count\"}, {\"in_degree\": 3030, \"count\": 1, \"label\": \"count\"}, {\"in_degree\": 3031, \"count\": 1, \"label\": \"count\"}, {\"in_degree\": 3032, \"count\": 1, \"label\": \"count\"}, {\"in_degree\": 3034, \"count\": 1, \"label\": \"count\"}, {\"in_degree\": 3035, \"count\": 2, \"label\": \"count\"}, {\"in_degree\": 3037, \"count\": 1, \"label\": \"count\"}, {\"in_degree\": 3039, \"count\": 2, \"label\": \"count\"}, {\"in_degree\": 3050, \"count\": 1, \"label\": \"count\"}, {\"in_degree\": 3051, \"count\": 1, \"label\": \"count\"}, {\"in_degree\": 3055, \"count\": 2, \"label\": \"count\"}, {\"in_degree\": 3056, \"count\": 1, \"label\": \"count\"}, {\"in_degree\": 3057, \"count\": 2, \"label\": \"count\"}, {\"in_degree\": 3058, \"count\": 1, \"label\": \"count\"}, {\"in_degree\": 3062, \"count\": 2, \"label\": \"count\"}, {\"in_degree\": 3064, \"count\": 1, \"label\": \"count\"}, {\"in_degree\": 3065, \"count\": 1, \"label\": \"count\"}, {\"in_degree\": 3066, \"count\": 1, \"label\": \"count\"}, {\"in_degree\": 3073, \"count\": 1, \"label\": \"count\"}, {\"in_degree\": 3074, \"count\": 1, \"label\": \"count\"}, {\"in_degree\": 3077, \"count\": 1, \"label\": \"count\"}, {\"in_degree\": 3084, \"count\": 1, \"label\": \"count\"}, {\"in_degree\": 3085, \"count\": 1, \"label\": \"count\"}, {\"in_degree\": 3089, \"count\": 1, \"label\": \"count\"}, {\"in_degree\": 3091, \"count\": 1, \"label\": \"count\"}, {\"in_degree\": 3098, \"count\": 1, \"label\": \"count\"}, {\"in_degree\": 3099, \"count\": 2, \"label\": \"count\"}, {\"in_degree\": 3100, \"count\": 1, \"label\": \"count\"}, {\"in_degree\": 3108, \"count\": 1, \"label\": \"count\"}, {\"in_degree\": 3109, \"count\": 2, \"label\": \"count\"}, {\"in_degree\": 3112, \"count\": 1, \"label\": \"count\"}, {\"in_degree\": 3114, \"count\": 3, \"label\": \"count\"}, {\"in_degree\": 3115, \"count\": 1, \"label\": \"count\"}, {\"in_degree\": 3116, \"count\": 1, \"label\": \"count\"}, {\"in_degree\": 3120, \"count\": 1, \"label\": \"count\"}, {\"in_degree\": 3122, \"count\": 1, \"label\": \"count\"}, {\"in_degree\": 3125, \"count\": 1, \"label\": \"count\"}, {\"in_degree\": 3126, \"count\": 1, \"label\": \"count\"}, {\"in_degree\": 3130, \"count\": 2, \"label\": \"count\"}, {\"in_degree\": 3132, \"count\": 2, \"label\": \"count\"}, {\"in_degree\": 3133, \"count\": 1, \"label\": \"count\"}, {\"in_degree\": 3134, \"count\": 2, \"label\": \"count\"}, {\"in_degree\": 3135, \"count\": 1, \"label\": \"count\"}, {\"in_degree\": 3137, \"count\": 1, \"label\": \"count\"}, {\"in_degree\": 3144, \"count\": 2, \"label\": \"count\"}, {\"in_degree\": 3145, \"count\": 2, \"label\": \"count\"}, {\"in_degree\": 3160, \"count\": 1, \"label\": \"count\"}, {\"in_degree\": 3162, \"count\": 1, \"label\": \"count\"}, {\"in_degree\": 3164, \"count\": 2, \"label\": \"count\"}, {\"in_degree\": 3165, \"count\": 1, \"label\": \"count\"}, {\"in_degree\": 3166, \"count\": 1, \"label\": \"count\"}, {\"in_degree\": 3167, \"count\": 1, \"label\": \"count\"}, {\"in_degree\": 3173, \"count\": 1, \"label\": \"count\"}, {\"in_degree\": 3175, \"count\": 1, \"label\": \"count\"}, {\"in_degree\": 3176, \"count\": 1, \"label\": \"count\"}, {\"in_degree\": 3177, \"count\": 1, \"label\": \"count\"}, {\"in_degree\": 3179, \"count\": 1, \"label\": \"count\"}, {\"in_degree\": 3180, \"count\": 1, \"label\": \"count\"}, {\"in_degree\": 3189, \"count\": 1, \"label\": \"count\"}, {\"in_degree\": 3193, \"count\": 1, \"label\": \"count\"}, {\"in_degree\": 3195, \"count\": 1, \"label\": \"count\"}, {\"in_degree\": 3196, \"count\": 1, \"label\": \"count\"}, {\"in_degree\": 3197, \"count\": 1, \"label\": \"count\"}, {\"in_degree\": 3201, \"count\": 1, \"label\": \"count\"}, {\"in_degree\": 3205, \"count\": 1, \"label\": \"count\"}, {\"in_degree\": 3208, \"count\": 2, \"label\": \"count\"}, {\"in_degree\": 3209, \"count\": 2, \"label\": \"count\"}, {\"in_degree\": 3210, \"count\": 1, \"label\": \"count\"}, {\"in_degree\": 3211, \"count\": 2, \"label\": \"count\"}, {\"in_degree\": 3212, \"count\": 1, \"label\": \"count\"}, {\"in_degree\": 3213, \"count\": 1, \"label\": \"count\"}, {\"in_degree\": 3214, \"count\": 2, \"label\": \"count\"}, {\"in_degree\": 3216, \"count\": 1, \"label\": \"count\"}, {\"in_degree\": 3217, \"count\": 1, \"label\": \"count\"}, {\"in_degree\": 3226, \"count\": 1, \"label\": \"count\"}, {\"in_degree\": 3232, \"count\": 1, \"label\": \"count\"}, {\"in_degree\": 3234, \"count\": 2, \"label\": \"count\"}, {\"in_degree\": 3244, \"count\": 1, \"label\": \"count\"}, {\"in_degree\": 3245, \"count\": 2, \"label\": \"count\"}, {\"in_degree\": 3246, \"count\": 1, \"label\": \"count\"}, {\"in_degree\": 3250, \"count\": 1, \"label\": \"count\"}, {\"in_degree\": 3251, \"count\": 1, \"label\": \"count\"}, {\"in_degree\": 3254, \"count\": 1, \"label\": \"count\"}, {\"in_degree\": 3262, \"count\": 1, \"label\": \"count\"}, {\"in_degree\": 3263, \"count\": 1, \"label\": \"count\"}, {\"in_degree\": 3269, \"count\": 2, \"label\": \"count\"}, {\"in_degree\": 3272, \"count\": 1, \"label\": \"count\"}, {\"in_degree\": 3274, \"count\": 1, \"label\": \"count\"}, {\"in_degree\": 3275, \"count\": 1, \"label\": \"count\"}, {\"in_degree\": 3278, \"count\": 1, \"label\": \"count\"}, {\"in_degree\": 3282, \"count\": 1, \"label\": \"count\"}, {\"in_degree\": 3283, \"count\": 1, \"label\": \"count\"}, {\"in_degree\": 3284, \"count\": 1, \"label\": \"count\"}, {\"in_degree\": 3285, \"count\": 1, \"label\": \"count\"}, {\"in_degree\": 3288, \"count\": 1, \"label\": \"count\"}, {\"in_degree\": 3291, \"count\": 1, \"label\": \"count\"}, {\"in_degree\": 3292, \"count\": 1, \"label\": \"count\"}, {\"in_degree\": 3294, \"count\": 1, \"label\": \"count\"}, {\"in_degree\": 3296, \"count\": 1, \"label\": \"count\"}, {\"in_degree\": 3301, \"count\": 1, \"label\": \"count\"}, {\"in_degree\": 3308, \"count\": 2, \"label\": \"count\"}, {\"in_degree\": 3310, \"count\": 1, \"label\": \"count\"}, {\"in_degree\": 3312, \"count\": 2, \"label\": \"count\"}, {\"in_degree\": 3316, \"count\": 2, \"label\": \"count\"}, {\"in_degree\": 3322, \"count\": 1, \"label\": \"count\"}, {\"in_degree\": 3329, \"count\": 1, \"label\": \"count\"}, {\"in_degree\": 3331, \"count\": 1, \"label\": \"count\"}, {\"in_degree\": 3345, \"count\": 1, \"label\": \"count\"}, {\"in_degree\": 3346, \"count\": 1, \"label\": \"count\"}, {\"in_degree\": 3348, \"count\": 1, \"label\": \"count\"}, {\"in_degree\": 3349, \"count\": 1, \"label\": \"count\"}, {\"in_degree\": 3357, \"count\": 2, \"label\": \"count\"}, {\"in_degree\": 3360, \"count\": 1, \"label\": \"count\"}, {\"in_degree\": 3362, \"count\": 1, \"label\": \"count\"}, {\"in_degree\": 3363, \"count\": 1, \"label\": \"count\"}, {\"in_degree\": 3365, \"count\": 1, \"label\": \"count\"}, {\"in_degree\": 3368, \"count\": 1, \"label\": \"count\"}, {\"in_degree\": 3372, \"count\": 2, \"label\": \"count\"}, {\"in_degree\": 3375, \"count\": 1, \"label\": \"count\"}, {\"in_degree\": 3376, \"count\": 1, \"label\": \"count\"}, {\"in_degree\": 3380, \"count\": 1, \"label\": \"count\"}, {\"in_degree\": 3381, \"count\": 1, \"label\": \"count\"}, {\"in_degree\": 3384, \"count\": 1, \"label\": \"count\"}, {\"in_degree\": 3393, \"count\": 1, \"label\": \"count\"}, {\"in_degree\": 3394, \"count\": 1, \"label\": \"count\"}, {\"in_degree\": 3395, \"count\": 2, \"label\": \"count\"}, {\"in_degree\": 3397, \"count\": 1, \"label\": \"count\"}, {\"in_degree\": 3401, \"count\": 1, \"label\": \"count\"}, {\"in_degree\": 3408, \"count\": 1, \"label\": \"count\"}, {\"in_degree\": 3409, \"count\": 1, \"label\": \"count\"}, {\"in_degree\": 3410, \"count\": 1, \"label\": \"count\"}, {\"in_degree\": 3413, \"count\": 1, \"label\": \"count\"}, {\"in_degree\": 3415, \"count\": 1, \"label\": \"count\"}, {\"in_degree\": 3416, \"count\": 1, \"label\": \"count\"}, {\"in_degree\": 3419, \"count\": 1, \"label\": \"count\"}, {\"in_degree\": 3433, \"count\": 1, \"label\": \"count\"}, {\"in_degree\": 3435, \"count\": 1, \"label\": \"count\"}, {\"in_degree\": 3438, \"count\": 1, \"label\": \"count\"}, {\"in_degree\": 3439, \"count\": 2, \"label\": \"count\"}, {\"in_degree\": 3441, \"count\": 1, \"label\": \"count\"}, {\"in_degree\": 3449, \"count\": 1, \"label\": \"count\"}, {\"in_degree\": 3450, \"count\": 1, \"label\": \"count\"}, {\"in_degree\": 3453, \"count\": 1, \"label\": \"count\"}, {\"in_degree\": 3459, \"count\": 1, \"label\": \"count\"}, {\"in_degree\": 3460, \"count\": 2, \"label\": \"count\"}, {\"in_degree\": 3464, \"count\": 1, \"label\": \"count\"}, {\"in_degree\": 3468, \"count\": 2, \"label\": \"count\"}, {\"in_degree\": 3471, \"count\": 1, \"label\": \"count\"}, {\"in_degree\": 3472, \"count\": 2, \"label\": \"count\"}, {\"in_degree\": 3475, \"count\": 1, \"label\": \"count\"}, {\"in_degree\": 3477, \"count\": 1, \"label\": \"count\"}, {\"in_degree\": 3480, \"count\": 1, \"label\": \"count\"}, {\"in_degree\": 3481, \"count\": 1, \"label\": \"count\"}, {\"in_degree\": 3484, \"count\": 2, \"label\": \"count\"}, {\"in_degree\": 3486, \"count\": 2, \"label\": \"count\"}, {\"in_degree\": 3487, \"count\": 1, \"label\": \"count\"}, {\"in_degree\": 3491, \"count\": 2, \"label\": \"count\"}, {\"in_degree\": 3492, \"count\": 1, \"label\": \"count\"}, {\"in_degree\": 3498, \"count\": 1, \"label\": \"count\"}, {\"in_degree\": 3507, \"count\": 1, \"label\": \"count\"}, {\"in_degree\": 3512, \"count\": 1, \"label\": \"count\"}, {\"in_degree\": 3513, \"count\": 1, \"label\": \"count\"}, {\"in_degree\": 3514, \"count\": 2, \"label\": \"count\"}, {\"in_degree\": 3516, \"count\": 1, \"label\": \"count\"}, {\"in_degree\": 3518, \"count\": 1, \"label\": \"count\"}, {\"in_degree\": 3521, \"count\": 1, \"label\": \"count\"}, {\"in_degree\": 3522, \"count\": 2, \"label\": \"count\"}, {\"in_degree\": 3523, \"count\": 1, \"label\": \"count\"}, {\"in_degree\": 3525, \"count\": 1, \"label\": \"count\"}, {\"in_degree\": 3529, \"count\": 1, \"label\": \"count\"}, {\"in_degree\": 3533, \"count\": 1, \"label\": \"count\"}, {\"in_degree\": 3535, \"count\": 1, \"label\": \"count\"}, {\"in_degree\": 3538, \"count\": 2, \"label\": \"count\"}, {\"in_degree\": 3539, \"count\": 1, \"label\": \"count\"}, {\"in_degree\": 3540, \"count\": 1, \"label\": \"count\"}, {\"in_degree\": 3548, \"count\": 1, \"label\": \"count\"}, {\"in_degree\": 3549, \"count\": 1, \"label\": \"count\"}, {\"in_degree\": 3554, \"count\": 1, \"label\": \"count\"}, {\"in_degree\": 3555, \"count\": 1, \"label\": \"count\"}, {\"in_degree\": 3560, \"count\": 1, \"label\": \"count\"}, {\"in_degree\": 3567, \"count\": 1, \"label\": \"count\"}, {\"in_degree\": 3568, \"count\": 1, \"label\": \"count\"}, {\"in_degree\": 3573, \"count\": 1, \"label\": \"count\"}, {\"in_degree\": 3574, \"count\": 1, \"label\": \"count\"}, {\"in_degree\": 3580, \"count\": 2, \"label\": \"count\"}, {\"in_degree\": 3582, \"count\": 2, \"label\": \"count\"}, {\"in_degree\": 3585, \"count\": 2, \"label\": \"count\"}, {\"in_degree\": 3588, \"count\": 1, \"label\": \"count\"}, {\"in_degree\": 3592, \"count\": 1, \"label\": \"count\"}, {\"in_degree\": 3593, \"count\": 1, \"label\": \"count\"}, {\"in_degree\": 3595, \"count\": 2, \"label\": \"count\"}, {\"in_degree\": 3602, \"count\": 1, \"label\": \"count\"}, {\"in_degree\": 3604, \"count\": 1, \"label\": \"count\"}, {\"in_degree\": 3607, \"count\": 1, \"label\": \"count\"}, {\"in_degree\": 3613, \"count\": 1, \"label\": \"count\"}, {\"in_degree\": 3618, \"count\": 2, \"label\": \"count\"}, {\"in_degree\": 3620, \"count\": 1, \"label\": \"count\"}, {\"in_degree\": 3622, \"count\": 2, \"label\": \"count\"}, {\"in_degree\": 3626, \"count\": 1, \"label\": \"count\"}, {\"in_degree\": 3629, \"count\": 2, \"label\": \"count\"}, {\"in_degree\": 3631, \"count\": 1, \"label\": \"count\"}, {\"in_degree\": 3637, \"count\": 1, \"label\": \"count\"}, {\"in_degree\": 3641, \"count\": 2, \"label\": \"count\"}, {\"in_degree\": 3648, \"count\": 1, \"label\": \"count\"}, {\"in_degree\": 3651, \"count\": 1, \"label\": \"count\"}, {\"in_degree\": 3652, \"count\": 1, \"label\": \"count\"}, {\"in_degree\": 3653, \"count\": 3, \"label\": \"count\"}, {\"in_degree\": 3654, \"count\": 1, \"label\": \"count\"}, {\"in_degree\": 3658, \"count\": 1, \"label\": \"count\"}, {\"in_degree\": 3662, \"count\": 2, \"label\": \"count\"}, {\"in_degree\": 3667, \"count\": 1, \"label\": \"count\"}, {\"in_degree\": 3668, \"count\": 1, \"label\": \"count\"}, {\"in_degree\": 3673, \"count\": 1, \"label\": \"count\"}, {\"in_degree\": 3674, \"count\": 1, \"label\": \"count\"}, {\"in_degree\": 3681, \"count\": 1, \"label\": \"count\"}, {\"in_degree\": 3682, \"count\": 1, \"label\": \"count\"}, {\"in_degree\": 3685, \"count\": 1, \"label\": \"count\"}, {\"in_degree\": 3687, \"count\": 1, \"label\": \"count\"}, {\"in_degree\": 3691, \"count\": 1, \"label\": \"count\"}, {\"in_degree\": 3692, \"count\": 1, \"label\": \"count\"}, {\"in_degree\": 3694, \"count\": 1, \"label\": \"count\"}, {\"in_degree\": 3695, \"count\": 2, \"label\": \"count\"}, {\"in_degree\": 3696, \"count\": 1, \"label\": \"count\"}, {\"in_degree\": 3701, \"count\": 1, \"label\": \"count\"}, {\"in_degree\": 3708, \"count\": 1, \"label\": \"count\"}, {\"in_degree\": 3712, \"count\": 2, \"label\": \"count\"}, {\"in_degree\": 3714, \"count\": 1, \"label\": \"count\"}, {\"in_degree\": 3715, \"count\": 1, \"label\": \"count\"}, {\"in_degree\": 3719, \"count\": 1, \"label\": \"count\"}, {\"in_degree\": 3720, \"count\": 1, \"label\": \"count\"}, {\"in_degree\": 3725, \"count\": 1, \"label\": \"count\"}, {\"in_degree\": 3726, \"count\": 2, \"label\": \"count\"}, {\"in_degree\": 3729, \"count\": 1, \"label\": \"count\"}, {\"in_degree\": 3730, \"count\": 2, \"label\": \"count\"}, {\"in_degree\": 3731, \"count\": 1, \"label\": \"count\"}, {\"in_degree\": 3737, \"count\": 1, \"label\": \"count\"}, {\"in_degree\": 3738, \"count\": 3, \"label\": \"count\"}, {\"in_degree\": 3739, \"count\": 1, \"label\": \"count\"}, {\"in_degree\": 3741, \"count\": 1, \"label\": \"count\"}, {\"in_degree\": 3746, \"count\": 1, \"label\": \"count\"}, {\"in_degree\": 3751, \"count\": 2, \"label\": \"count\"}, {\"in_degree\": 3756, \"count\": 1, \"label\": \"count\"}, {\"in_degree\": 3759, \"count\": 1, \"label\": \"count\"}, {\"in_degree\": 3761, \"count\": 1, \"label\": \"count\"}, {\"in_degree\": 3763, \"count\": 2, \"label\": \"count\"}, {\"in_degree\": 3764, \"count\": 2, \"label\": \"count\"}, {\"in_degree\": 3766, \"count\": 2, \"label\": \"count\"}, {\"in_degree\": 3772, \"count\": 1, \"label\": \"count\"}, {\"in_degree\": 3776, \"count\": 3, \"label\": \"count\"}, {\"in_degree\": 3780, \"count\": 1, \"label\": \"count\"}, {\"in_degree\": 3782, \"count\": 1, \"label\": \"count\"}, {\"in_degree\": 3784, \"count\": 1, \"label\": \"count\"}, {\"in_degree\": 3787, \"count\": 1, \"label\": \"count\"}, {\"in_degree\": 3790, \"count\": 3, \"label\": \"count\"}, {\"in_degree\": 3791, \"count\": 1, \"label\": \"count\"}, {\"in_degree\": 3795, \"count\": 1, \"label\": \"count\"}, {\"in_degree\": 3798, \"count\": 2, \"label\": \"count\"}, {\"in_degree\": 3804, \"count\": 1, \"label\": \"count\"}, {\"in_degree\": 3808, \"count\": 1, \"label\": \"count\"}, {\"in_degree\": 3814, \"count\": 1, \"label\": \"count\"}, {\"in_degree\": 3815, \"count\": 1, \"label\": \"count\"}, {\"in_degree\": 3817, \"count\": 1, \"label\": \"count\"}, {\"in_degree\": 3819, \"count\": 1, \"label\": \"count\"}, {\"in_degree\": 3820, \"count\": 1, \"label\": \"count\"}, {\"in_degree\": 3830, \"count\": 1, \"label\": \"count\"}, {\"in_degree\": 3831, \"count\": 1, \"label\": \"count\"}, {\"in_degree\": 3837, \"count\": 1, \"label\": \"count\"}, {\"in_degree\": 3840, \"count\": 1, \"label\": \"count\"}, {\"in_degree\": 3843, \"count\": 1, \"label\": \"count\"}, {\"in_degree\": 3844, \"count\": 1, \"label\": \"count\"}, {\"in_degree\": 3854, \"count\": 1, \"label\": \"count\"}, {\"in_degree\": 3856, \"count\": 1, \"label\": \"count\"}, {\"in_degree\": 3857, \"count\": 1, \"label\": \"count\"}, {\"in_degree\": 3858, \"count\": 1, \"label\": \"count\"}, {\"in_degree\": 3862, \"count\": 1, \"label\": \"count\"}, {\"in_degree\": 3865, \"count\": 1, \"label\": \"count\"}, {\"in_degree\": 3870, \"count\": 1, \"label\": \"count\"}, {\"in_degree\": 3871, \"count\": 1, \"label\": \"count\"}, {\"in_degree\": 3872, \"count\": 1, \"label\": \"count\"}, {\"in_degree\": 3873, \"count\": 1, \"label\": \"count\"}, {\"in_degree\": 3874, \"count\": 2, \"label\": \"count\"}, {\"in_degree\": 3876, \"count\": 1, \"label\": \"count\"}, {\"in_degree\": 3877, \"count\": 1, \"label\": \"count\"}, {\"in_degree\": 3879, \"count\": 1, \"label\": \"count\"}, {\"in_degree\": 3885, \"count\": 1, \"label\": \"count\"}, {\"in_degree\": 3886, \"count\": 1, \"label\": \"count\"}, {\"in_degree\": 3887, \"count\": 1, \"label\": \"count\"}, {\"in_degree\": 3888, \"count\": 1, \"label\": \"count\"}, {\"in_degree\": 3892, \"count\": 2, \"label\": \"count\"}, {\"in_degree\": 3897, \"count\": 1, \"label\": \"count\"}, {\"in_degree\": 3898, \"count\": 1, \"label\": \"count\"}, {\"in_degree\": 3899, \"count\": 1, \"label\": \"count\"}, {\"in_degree\": 3900, \"count\": 2, \"label\": \"count\"}, {\"in_degree\": 3901, \"count\": 1, \"label\": \"count\"}, {\"in_degree\": 3906, \"count\": 1, \"label\": \"count\"}, {\"in_degree\": 3911, \"count\": 1, \"label\": \"count\"}, {\"in_degree\": 3912, \"count\": 2, \"label\": \"count\"}, {\"in_degree\": 3916, \"count\": 1, \"label\": \"count\"}, {\"in_degree\": 3917, \"count\": 1, \"label\": \"count\"}, {\"in_degree\": 3918, \"count\": 1, \"label\": \"count\"}, {\"in_degree\": 3922, \"count\": 1, \"label\": \"count\"}, {\"in_degree\": 3926, \"count\": 1, \"label\": \"count\"}, {\"in_degree\": 3927, \"count\": 2, \"label\": \"count\"}, {\"in_degree\": 3929, \"count\": 1, \"label\": \"count\"}, {\"in_degree\": 3934, \"count\": 1, \"label\": \"count\"}, {\"in_degree\": 3938, \"count\": 1, \"label\": \"count\"}, {\"in_degree\": 3942, \"count\": 1, \"label\": \"count\"}, {\"in_degree\": 3943, \"count\": 1, \"label\": \"count\"}, {\"in_degree\": 3944, \"count\": 1, \"label\": \"count\"}, {\"in_degree\": 3949, \"count\": 1, \"label\": \"count\"}, {\"in_degree\": 3957, \"count\": 1, \"label\": \"count\"}, {\"in_degree\": 3958, \"count\": 1, \"label\": \"count\"}, {\"in_degree\": 3961, \"count\": 1, \"label\": \"count\"}, {\"in_degree\": 3962, \"count\": 1, \"label\": \"count\"}, {\"in_degree\": 3970, \"count\": 1, \"label\": \"count\"}, {\"in_degree\": 3972, \"count\": 1, \"label\": \"count\"}, {\"in_degree\": 3973, \"count\": 1, \"label\": \"count\"}, {\"in_degree\": 3975, \"count\": 1, \"label\": \"count\"}, {\"in_degree\": 3981, \"count\": 1, \"label\": \"count\"}, {\"in_degree\": 3983, \"count\": 1, \"label\": \"count\"}, {\"in_degree\": 3989, \"count\": 1, \"label\": \"count\"}, {\"in_degree\": 3992, \"count\": 1, \"label\": \"count\"}, {\"in_degree\": 3993, \"count\": 1, \"label\": \"count\"}, {\"in_degree\": 3999, \"count\": 1, \"label\": \"count\"}, {\"in_degree\": 4003, \"count\": 1, \"label\": \"count\"}, {\"in_degree\": 4012, \"count\": 1, \"label\": \"count\"}, {\"in_degree\": 4013, \"count\": 1, \"label\": \"count\"}, {\"in_degree\": 4014, \"count\": 1, \"label\": \"count\"}, {\"in_degree\": 4022, \"count\": 2, \"label\": \"count\"}, {\"in_degree\": 4033, \"count\": 1, \"label\": \"count\"}, {\"in_degree\": 4040, \"count\": 1, \"label\": \"count\"}, {\"in_degree\": 4041, \"count\": 1, \"label\": \"count\"}, {\"in_degree\": 4042, \"count\": 1, \"label\": \"count\"}, {\"in_degree\": 4049, \"count\": 1, \"label\": \"count\"}, {\"in_degree\": 4054, \"count\": 1, \"label\": \"count\"}, {\"in_degree\": 4060, \"count\": 1, \"label\": \"count\"}, {\"in_degree\": 4061, \"count\": 1, \"label\": \"count\"}, {\"in_degree\": 4063, \"count\": 1, \"label\": \"count\"}, {\"in_degree\": 4064, \"count\": 1, \"label\": \"count\"}, {\"in_degree\": 4066, \"count\": 1, \"label\": \"count\"}, {\"in_degree\": 4068, \"count\": 1, \"label\": \"count\"}, {\"in_degree\": 4069, \"count\": 1, \"label\": \"count\"}, {\"in_degree\": 4072, \"count\": 1, \"label\": \"count\"}, {\"in_degree\": 4076, \"count\": 1, \"label\": \"count\"}, {\"in_degree\": 4079, \"count\": 1, \"label\": \"count\"}, {\"in_degree\": 4081, \"count\": 1, \"label\": \"count\"}, {\"in_degree\": 4092, \"count\": 1, \"label\": \"count\"}, {\"in_degree\": 4097, \"count\": 1, \"label\": \"count\"}, {\"in_degree\": 4100, \"count\": 2, \"label\": \"count\"}, {\"in_degree\": 4102, \"count\": 1, \"label\": \"count\"}, {\"in_degree\": 4106, \"count\": 1, \"label\": \"count\"}, {\"in_degree\": 4110, \"count\": 1, \"label\": \"count\"}, {\"in_degree\": 4113, \"count\": 1, \"label\": \"count\"}, {\"in_degree\": 4115, \"count\": 1, \"label\": \"count\"}, {\"in_degree\": 4120, \"count\": 1, \"label\": \"count\"}, {\"in_degree\": 4126, \"count\": 1, \"label\": \"count\"}, {\"in_degree\": 4131, \"count\": 1, \"label\": \"count\"}, {\"in_degree\": 4137, \"count\": 1, \"label\": \"count\"}, {\"in_degree\": 4141, \"count\": 1, \"label\": \"count\"}, {\"in_degree\": 4142, \"count\": 1, \"label\": \"count\"}, {\"in_degree\": 4149, \"count\": 1, \"label\": \"count\"}, {\"in_degree\": 4152, \"count\": 1, \"label\": \"count\"}, {\"in_degree\": 4162, \"count\": 2, \"label\": \"count\"}, {\"in_degree\": 4164, \"count\": 1, \"label\": \"count\"}, {\"in_degree\": 4179, \"count\": 1, \"label\": \"count\"}, {\"in_degree\": 4180, \"count\": 1, \"label\": \"count\"}, {\"in_degree\": 4186, \"count\": 1, \"label\": \"count\"}, {\"in_degree\": 4188, \"count\": 1, \"label\": \"count\"}, {\"in_degree\": 4191, \"count\": 1, \"label\": \"count\"}, {\"in_degree\": 4199, \"count\": 2, \"label\": \"count\"}, {\"in_degree\": 4204, \"count\": 1, \"label\": \"count\"}, {\"in_degree\": 4207, \"count\": 1, \"label\": \"count\"}, {\"in_degree\": 4213, \"count\": 1, \"label\": \"count\"}, {\"in_degree\": 4214, \"count\": 1, \"label\": \"count\"}, {\"in_degree\": 4215, \"count\": 1, \"label\": \"count\"}, {\"in_degree\": 4229, \"count\": 1, \"label\": \"count\"}, {\"in_degree\": 4232, \"count\": 1, \"label\": \"count\"}, {\"in_degree\": 4234, \"count\": 1, \"label\": \"count\"}, {\"in_degree\": 4237, \"count\": 1, \"label\": \"count\"}, {\"in_degree\": 4238, \"count\": 1, \"label\": \"count\"}, {\"in_degree\": 4245, \"count\": 1, \"label\": \"count\"}, {\"in_degree\": 4252, \"count\": 2, \"label\": \"count\"}, {\"in_degree\": 4272, \"count\": 1, \"label\": \"count\"}, {\"in_degree\": 4281, \"count\": 1, \"label\": \"count\"}, {\"in_degree\": 4285, \"count\": 1, \"label\": \"count\"}, {\"in_degree\": 4288, \"count\": 1, \"label\": \"count\"}, {\"in_degree\": 4292, \"count\": 1, \"label\": \"count\"}, {\"in_degree\": 4299, \"count\": 1, \"label\": \"count\"}, {\"in_degree\": 4301, \"count\": 1, \"label\": \"count\"}, {\"in_degree\": 4308, \"count\": 1, \"label\": \"count\"}, {\"in_degree\": 4318, \"count\": 1, \"label\": \"count\"}, {\"in_degree\": 4320, \"count\": 1, \"label\": \"count\"}, {\"in_degree\": 4321, \"count\": 1, \"label\": \"count\"}, {\"in_degree\": 4324, \"count\": 1, \"label\": \"count\"}, {\"in_degree\": 4325, \"count\": 1, \"label\": \"count\"}, {\"in_degree\": 4329, \"count\": 1, \"label\": \"count\"}, {\"in_degree\": 4335, \"count\": 1, \"label\": \"count\"}, {\"in_degree\": 4347, \"count\": 1, \"label\": \"count\"}, {\"in_degree\": 4352, \"count\": 1, \"label\": \"count\"}, {\"in_degree\": 4353, \"count\": 1, \"label\": \"count\"}, {\"in_degree\": 4372, \"count\": 1, \"label\": \"count\"}, {\"in_degree\": 4376, \"count\": 1, \"label\": \"count\"}, {\"in_degree\": 4378, \"count\": 1, \"label\": \"count\"}, {\"in_degree\": 4380, \"count\": 1, \"label\": \"count\"}, {\"in_degree\": 4384, \"count\": 2, \"label\": \"count\"}, {\"in_degree\": 4390, \"count\": 1, \"label\": \"count\"}, {\"in_degree\": 4391, \"count\": 1, \"label\": \"count\"}, {\"in_degree\": 4393, \"count\": 1, \"label\": \"count\"}, {\"in_degree\": 4401, \"count\": 1, \"label\": \"count\"}, {\"in_degree\": 4405, \"count\": 1, \"label\": \"count\"}, {\"in_degree\": 4407, \"count\": 1, \"label\": \"count\"}, {\"in_degree\": 4408, \"count\": 1, \"label\": \"count\"}, {\"in_degree\": 4412, \"count\": 1, \"label\": \"count\"}, {\"in_degree\": 4419, \"count\": 1, \"label\": \"count\"}, {\"in_degree\": 4425, \"count\": 1, \"label\": \"count\"}, {\"in_degree\": 4427, \"count\": 2, \"label\": \"count\"}, {\"in_degree\": 4429, \"count\": 1, \"label\": \"count\"}, {\"in_degree\": 4437, \"count\": 1, \"label\": \"count\"}, {\"in_degree\": 4439, \"count\": 1, \"label\": \"count\"}, {\"in_degree\": 4447, \"count\": 1, \"label\": \"count\"}, {\"in_degree\": 4450, \"count\": 1, \"label\": \"count\"}, {\"in_degree\": 4452, \"count\": 1, \"label\": \"count\"}, {\"in_degree\": 4458, \"count\": 1, \"label\": \"count\"}, {\"in_degree\": 4459, \"count\": 1, \"label\": \"count\"}, {\"in_degree\": 4461, \"count\": 2, \"label\": \"count\"}, {\"in_degree\": 4476, \"count\": 1, \"label\": \"count\"}, {\"in_degree\": 4480, \"count\": 1, \"label\": \"count\"}, {\"in_degree\": 4483, \"count\": 1, \"label\": \"count\"}, {\"in_degree\": 4484, \"count\": 1, \"label\": \"count\"}, {\"in_degree\": 4486, \"count\": 1, \"label\": \"count\"}, {\"in_degree\": 4488, \"count\": 1, \"label\": \"count\"}, {\"in_degree\": 4489, \"count\": 1, \"label\": \"count\"}, {\"in_degree\": 4491, \"count\": 1, \"label\": \"count\"}, {\"in_degree\": 4495, \"count\": 1, \"label\": \"count\"}, {\"in_degree\": 4502, \"count\": 1, \"label\": \"count\"}, {\"in_degree\": 4504, \"count\": 2, \"label\": \"count\"}, {\"in_degree\": 4505, \"count\": 1, \"label\": \"count\"}, {\"in_degree\": 4512, \"count\": 1, \"label\": \"count\"}, {\"in_degree\": 4518, \"count\": 1, \"label\": \"count\"}, {\"in_degree\": 4525, \"count\": 1, \"label\": \"count\"}, {\"in_degree\": 4526, \"count\": 1, \"label\": \"count\"}, {\"in_degree\": 4531, \"count\": 1, \"label\": \"count\"}, {\"in_degree\": 4533, \"count\": 1, \"label\": \"count\"}, {\"in_degree\": 4540, \"count\": 1, \"label\": \"count\"}, {\"in_degree\": 4549, \"count\": 1, \"label\": \"count\"}, {\"in_degree\": 4553, \"count\": 1, \"label\": \"count\"}, {\"in_degree\": 4558, \"count\": 1, \"label\": \"count\"}, {\"in_degree\": 4569, \"count\": 1, \"label\": \"count\"}, {\"in_degree\": 4574, \"count\": 1, \"label\": \"count\"}, {\"in_degree\": 4575, \"count\": 1, \"label\": \"count\"}, {\"in_degree\": 4576, \"count\": 1, \"label\": \"count\"}, {\"in_degree\": 4578, \"count\": 1, \"label\": \"count\"}, {\"in_degree\": 4588, \"count\": 1, \"label\": \"count\"}, {\"in_degree\": 4589, \"count\": 1, \"label\": \"count\"}, {\"in_degree\": 4590, \"count\": 1, \"label\": \"count\"}, {\"in_degree\": 4597, \"count\": 1, \"label\": \"count\"}, {\"in_degree\": 4613, \"count\": 1, \"label\": \"count\"}, {\"in_degree\": 4621, \"count\": 1, \"label\": \"count\"}, {\"in_degree\": 4627, \"count\": 1, \"label\": \"count\"}, {\"in_degree\": 4631, \"count\": 2, \"label\": \"count\"}, {\"in_degree\": 4640, \"count\": 1, \"label\": \"count\"}, {\"in_degree\": 4645, \"count\": 1, \"label\": \"count\"}, {\"in_degree\": 4659, \"count\": 1, \"label\": \"count\"}, {\"in_degree\": 4664, \"count\": 1, \"label\": \"count\"}, {\"in_degree\": 4667, \"count\": 1, \"label\": \"count\"}, {\"in_degree\": 4671, \"count\": 1, \"label\": \"count\"}, {\"in_degree\": 4672, \"count\": 1, \"label\": \"count\"}, {\"in_degree\": 4685, \"count\": 1, \"label\": \"count\"}, {\"in_degree\": 4701, \"count\": 2, \"label\": \"count\"}, {\"in_degree\": 4702, \"count\": 1, \"label\": \"count\"}, {\"in_degree\": 4704, \"count\": 1, \"label\": \"count\"}, {\"in_degree\": 4709, \"count\": 1, \"label\": \"count\"}, {\"in_degree\": 4713, \"count\": 2, \"label\": \"count\"}, {\"in_degree\": 4719, \"count\": 1, \"label\": \"count\"}, {\"in_degree\": 4721, \"count\": 1, \"label\": \"count\"}, {\"in_degree\": 4731, \"count\": 1, \"label\": \"count\"}, {\"in_degree\": 4732, \"count\": 1, \"label\": \"count\"}, {\"in_degree\": 4739, \"count\": 2, \"label\": \"count\"}, {\"in_degree\": 4741, \"count\": 1, \"label\": \"count\"}, {\"in_degree\": 4743, \"count\": 1, \"label\": \"count\"}, {\"in_degree\": 4748, \"count\": 1, \"label\": \"count\"}, {\"in_degree\": 4753, \"count\": 2, \"label\": \"count\"}, {\"in_degree\": 4760, \"count\": 1, \"label\": \"count\"}, {\"in_degree\": 4769, \"count\": 1, \"label\": \"count\"}, {\"in_degree\": 4774, \"count\": 1, \"label\": \"count\"}, {\"in_degree\": 4787, \"count\": 1, \"label\": \"count\"}, {\"in_degree\": 4789, \"count\": 1, \"label\": \"count\"}, {\"in_degree\": 4798, \"count\": 1, \"label\": \"count\"}, {\"in_degree\": 4811, \"count\": 2, \"label\": \"count\"}, {\"in_degree\": 4825, \"count\": 1, \"label\": \"count\"}, {\"in_degree\": 4829, \"count\": 1, \"label\": \"count\"}, {\"in_degree\": 4833, \"count\": 1, \"label\": \"count\"}, {\"in_degree\": 4837, \"count\": 1, \"label\": \"count\"}, {\"in_degree\": 4838, \"count\": 1, \"label\": \"count\"}, {\"in_degree\": 4839, \"count\": 2, \"label\": \"count\"}, {\"in_degree\": 4841, \"count\": 1, \"label\": \"count\"}, {\"in_degree\": 4848, \"count\": 1, \"label\": \"count\"}, {\"in_degree\": 4852, \"count\": 1, \"label\": \"count\"}, {\"in_degree\": 4864, \"count\": 1, \"label\": \"count\"}, {\"in_degree\": 4866, \"count\": 1, \"label\": \"count\"}, {\"in_degree\": 4868, \"count\": 1, \"label\": \"count\"}, {\"in_degree\": 4878, \"count\": 1, \"label\": \"count\"}, {\"in_degree\": 4884, \"count\": 1, \"label\": \"count\"}, {\"in_degree\": 4900, \"count\": 1, \"label\": \"count\"}, {\"in_degree\": 4901, \"count\": 1, \"label\": \"count\"}, {\"in_degree\": 4905, \"count\": 1, \"label\": \"count\"}, {\"in_degree\": 4909, \"count\": 1, \"label\": \"count\"}, {\"in_degree\": 4910, \"count\": 1, \"label\": \"count\"}, {\"in_degree\": 4912, \"count\": 1, \"label\": \"count\"}, {\"in_degree\": 4926, \"count\": 2, \"label\": \"count\"}, {\"in_degree\": 4933, \"count\": 1, \"label\": \"count\"}, {\"in_degree\": 4943, \"count\": 1, \"label\": \"count\"}, {\"in_degree\": 4945, \"count\": 1, \"label\": \"count\"}, {\"in_degree\": 4947, \"count\": 1, \"label\": \"count\"}, {\"in_degree\": 4958, \"count\": 1, \"label\": \"count\"}, {\"in_degree\": 4960, \"count\": 2, \"label\": \"count\"}, {\"in_degree\": 4964, \"count\": 1, \"label\": \"count\"}, {\"in_degree\": 4976, \"count\": 1, \"label\": \"count\"}, {\"in_degree\": 4978, \"count\": 1, \"label\": \"count\"}, {\"in_degree\": 4993, \"count\": 1, \"label\": \"count\"}, {\"in_degree\": 4996, \"count\": 1, \"label\": \"count\"}, {\"in_degree\": 5002, \"count\": 1, \"label\": \"count\"}, {\"in_degree\": 5008, \"count\": 1, \"label\": \"count\"}, {\"in_degree\": 5015, \"count\": 1, \"label\": \"count\"}, {\"in_degree\": 5020, \"count\": 1, \"label\": \"count\"}, {\"in_degree\": 5026, \"count\": 2, \"label\": \"count\"}, {\"in_degree\": 5031, \"count\": 1, \"label\": \"count\"}, {\"in_degree\": 5033, \"count\": 1, \"label\": \"count\"}, {\"in_degree\": 5036, \"count\": 1, \"label\": \"count\"}, {\"in_degree\": 5039, \"count\": 1, \"label\": \"count\"}, {\"in_degree\": 5042, \"count\": 1, \"label\": \"count\"}, {\"in_degree\": 5052, \"count\": 2, \"label\": \"count\"}, {\"in_degree\": 5054, \"count\": 1, \"label\": \"count\"}, {\"in_degree\": 5056, \"count\": 1, \"label\": \"count\"}, {\"in_degree\": 5061, \"count\": 1, \"label\": \"count\"}, {\"in_degree\": 5071, \"count\": 1, \"label\": \"count\"}, {\"in_degree\": 5075, \"count\": 1, \"label\": \"count\"}, {\"in_degree\": 5082, \"count\": 1, \"label\": \"count\"}, {\"in_degree\": 5083, \"count\": 1, \"label\": \"count\"}, {\"in_degree\": 5099, \"count\": 1, \"label\": \"count\"}, {\"in_degree\": 5113, \"count\": 1, \"label\": \"count\"}, {\"in_degree\": 5122, \"count\": 1, \"label\": \"count\"}, {\"in_degree\": 5124, \"count\": 1, \"label\": \"count\"}, {\"in_degree\": 5128, \"count\": 1, \"label\": \"count\"}, {\"in_degree\": 5132, \"count\": 1, \"label\": \"count\"}, {\"in_degree\": 5137, \"count\": 1, \"label\": \"count\"}, {\"in_degree\": 5143, \"count\": 1, \"label\": \"count\"}, {\"in_degree\": 5147, \"count\": 1, \"label\": \"count\"}, {\"in_degree\": 5152, \"count\": 1, \"label\": \"count\"}, {\"in_degree\": 5156, \"count\": 1, \"label\": \"count\"}, {\"in_degree\": 5160, \"count\": 1, \"label\": \"count\"}, {\"in_degree\": 5168, \"count\": 1, \"label\": \"count\"}, {\"in_degree\": 5169, \"count\": 1, \"label\": \"count\"}, {\"in_degree\": 5177, \"count\": 1, \"label\": \"count\"}, {\"in_degree\": 5179, \"count\": 2, \"label\": \"count\"}, {\"in_degree\": 5181, \"count\": 1, \"label\": \"count\"}, {\"in_degree\": 5188, \"count\": 1, \"label\": \"count\"}, {\"in_degree\": 5190, \"count\": 1, \"label\": \"count\"}, {\"in_degree\": 5192, \"count\": 1, \"label\": \"count\"}, {\"in_degree\": 5216, \"count\": 1, \"label\": \"count\"}, {\"in_degree\": 5221, \"count\": 1, \"label\": \"count\"}, {\"in_degree\": 5222, \"count\": 1, \"label\": \"count\"}, {\"in_degree\": 5235, \"count\": 1, \"label\": \"count\"}, {\"in_degree\": 5236, \"count\": 1, \"label\": \"count\"}, {\"in_degree\": 5250, \"count\": 1, \"label\": \"count\"}, {\"in_degree\": 5254, \"count\": 1, \"label\": \"count\"}, {\"in_degree\": 5255, \"count\": 1, \"label\": \"count\"}, {\"in_degree\": 5266, \"count\": 1, \"label\": \"count\"}, {\"in_degree\": 5274, \"count\": 1, \"label\": \"count\"}, {\"in_degree\": 5275, \"count\": 2, \"label\": \"count\"}, {\"in_degree\": 5277, \"count\": 1, \"label\": \"count\"}, {\"in_degree\": 5279, \"count\": 1, \"label\": \"count\"}, {\"in_degree\": 5298, \"count\": 1, \"label\": \"count\"}, {\"in_degree\": 5303, \"count\": 1, \"label\": \"count\"}, {\"in_degree\": 5317, \"count\": 1, \"label\": \"count\"}, {\"in_degree\": 5326, \"count\": 1, \"label\": \"count\"}, {\"in_degree\": 5327, \"count\": 1, \"label\": \"count\"}, {\"in_degree\": 5350, \"count\": 1, \"label\": \"count\"}, {\"in_degree\": 5359, \"count\": 1, \"label\": \"count\"}, {\"in_degree\": 5363, \"count\": 1, \"label\": \"count\"}, {\"in_degree\": 5369, \"count\": 1, \"label\": \"count\"}, {\"in_degree\": 5376, \"count\": 1, \"label\": \"count\"}, {\"in_degree\": 5387, \"count\": 2, \"label\": \"count\"}, {\"in_degree\": 5391, \"count\": 1, \"label\": \"count\"}, {\"in_degree\": 5400, \"count\": 1, \"label\": \"count\"}, {\"in_degree\": 5403, \"count\": 1, \"label\": \"count\"}, {\"in_degree\": 5404, \"count\": 1, \"label\": \"count\"}, {\"in_degree\": 5416, \"count\": 1, \"label\": \"count\"}, {\"in_degree\": 5420, \"count\": 1, \"label\": \"count\"}, {\"in_degree\": 5426, \"count\": 1, \"label\": \"count\"}, {\"in_degree\": 5433, \"count\": 1, \"label\": \"count\"}, {\"in_degree\": 5440, \"count\": 1, \"label\": \"count\"}, {\"in_degree\": 5441, \"count\": 1, \"label\": \"count\"}, {\"in_degree\": 5453, \"count\": 1, \"label\": \"count\"}, {\"in_degree\": 5459, \"count\": 1, \"label\": \"count\"}, {\"in_degree\": 5465, \"count\": 1, \"label\": \"count\"}, {\"in_degree\": 5472, \"count\": 1, \"label\": \"count\"}, {\"in_degree\": 5474, \"count\": 1, \"label\": \"count\"}, {\"in_degree\": 5477, \"count\": 1, \"label\": \"count\"}, {\"in_degree\": 5493, \"count\": 1, \"label\": \"count\"}, {\"in_degree\": 5510, \"count\": 1, \"label\": \"count\"}, {\"in_degree\": 5518, \"count\": 1, \"label\": \"count\"}, {\"in_degree\": 5519, \"count\": 1, \"label\": \"count\"}, {\"in_degree\": 5520, \"count\": 1, \"label\": \"count\"}, {\"in_degree\": 5521, \"count\": 1, \"label\": \"count\"}, {\"in_degree\": 5523, \"count\": 1, \"label\": \"count\"}, {\"in_degree\": 5555, \"count\": 2, \"label\": \"count\"}, {\"in_degree\": 5560, \"count\": 1, \"label\": \"count\"}, {\"in_degree\": 5568, \"count\": 1, \"label\": \"count\"}, {\"in_degree\": 5577, \"count\": 1, \"label\": \"count\"}, {\"in_degree\": 5578, \"count\": 1, \"label\": \"count\"}, {\"in_degree\": 5581, \"count\": 1, \"label\": \"count\"}, {\"in_degree\": 5582, \"count\": 1, \"label\": \"count\"}, {\"in_degree\": 5584, \"count\": 1, \"label\": \"count\"}, {\"in_degree\": 5587, \"count\": 1, \"label\": \"count\"}, {\"in_degree\": 5589, \"count\": 1, \"label\": \"count\"}, {\"in_degree\": 5594, \"count\": 1, \"label\": \"count\"}, {\"in_degree\": 5597, \"count\": 1, \"label\": \"count\"}, {\"in_degree\": 5605, \"count\": 1, \"label\": \"count\"}, {\"in_degree\": 5617, \"count\": 1, \"label\": \"count\"}, {\"in_degree\": 5622, \"count\": 1, \"label\": \"count\"}, {\"in_degree\": 5629, \"count\": 1, \"label\": \"count\"}, {\"in_degree\": 5634, \"count\": 1, \"label\": \"count\"}, {\"in_degree\": 5636, \"count\": 1, \"label\": \"count\"}, {\"in_degree\": 5645, \"count\": 1, \"label\": \"count\"}, {\"in_degree\": 5654, \"count\": 1, \"label\": \"count\"}, {\"in_degree\": 5658, \"count\": 1, \"label\": \"count\"}, {\"in_degree\": 5672, \"count\": 1, \"label\": \"count\"}, {\"in_degree\": 5676, \"count\": 1, \"label\": \"count\"}, {\"in_degree\": 5692, \"count\": 1, \"label\": \"count\"}, {\"in_degree\": 5699, \"count\": 1, \"label\": \"count\"}, {\"in_degree\": 5703, \"count\": 1, \"label\": \"count\"}, {\"in_degree\": 5705, \"count\": 1, \"label\": \"count\"}, {\"in_degree\": 5728, \"count\": 1, \"label\": \"count\"}, {\"in_degree\": 5738, \"count\": 1, \"label\": \"count\"}, {\"in_degree\": 5742, \"count\": 1, \"label\": \"count\"}, {\"in_degree\": 5745, \"count\": 1, \"label\": \"count\"}, {\"in_degree\": 5747, \"count\": 1, \"label\": \"count\"}, {\"in_degree\": 5753, \"count\": 1, \"label\": \"count\"}, {\"in_degree\": 5764, \"count\": 1, \"label\": \"count\"}, {\"in_degree\": 5777, \"count\": 1, \"label\": \"count\"}, {\"in_degree\": 5779, \"count\": 1, \"label\": \"count\"}, {\"in_degree\": 5797, \"count\": 1, \"label\": \"count\"}, {\"in_degree\": 5800, \"count\": 1, \"label\": \"count\"}, {\"in_degree\": 5808, \"count\": 1, \"label\": \"count\"}, {\"in_degree\": 5811, \"count\": 1, \"label\": \"count\"}, {\"in_degree\": 5818, \"count\": 1, \"label\": \"count\"}, {\"in_degree\": 5827, \"count\": 2, \"label\": \"count\"}, {\"in_degree\": 5829, \"count\": 1, \"label\": \"count\"}, {\"in_degree\": 5833, \"count\": 1, \"label\": \"count\"}, {\"in_degree\": 5834, \"count\": 1, \"label\": \"count\"}, {\"in_degree\": 5836, \"count\": 1, \"label\": \"count\"}, {\"in_degree\": 5839, \"count\": 1, \"label\": \"count\"}, {\"in_degree\": 5855, \"count\": 1, \"label\": \"count\"}, {\"in_degree\": 5856, \"count\": 1, \"label\": \"count\"}, {\"in_degree\": 5859, \"count\": 1, \"label\": \"count\"}, {\"in_degree\": 5867, \"count\": 1, \"label\": \"count\"}, {\"in_degree\": 5873, \"count\": 1, \"label\": \"count\"}, {\"in_degree\": 5882, \"count\": 1, \"label\": \"count\"}, {\"in_degree\": 5885, \"count\": 1, \"label\": \"count\"}, {\"in_degree\": 5890, \"count\": 1, \"label\": \"count\"}, {\"in_degree\": 5896, \"count\": 1, \"label\": \"count\"}, {\"in_degree\": 5899, \"count\": 1, \"label\": \"count\"}, {\"in_degree\": 5901, \"count\": 1, \"label\": \"count\"}, {\"in_degree\": 5904, \"count\": 1, \"label\": \"count\"}, {\"in_degree\": 5908, \"count\": 1, \"label\": \"count\"}, {\"in_degree\": 5920, \"count\": 1, \"label\": \"count\"}, {\"in_degree\": 5945, \"count\": 1, \"label\": \"count\"}, {\"in_degree\": 5958, \"count\": 1, \"label\": \"count\"}, {\"in_degree\": 5962, \"count\": 1, \"label\": \"count\"}, {\"in_degree\": 5970, \"count\": 1, \"label\": \"count\"}, {\"in_degree\": 6003, \"count\": 1, \"label\": \"count\"}, {\"in_degree\": 6005, \"count\": 1, \"label\": \"count\"}, {\"in_degree\": 6018, \"count\": 1, \"label\": \"count\"}, {\"in_degree\": 6021, \"count\": 1, \"label\": \"count\"}, {\"in_degree\": 6022, \"count\": 1, \"label\": \"count\"}, {\"in_degree\": 6023, \"count\": 1, \"label\": \"count\"}, {\"in_degree\": 6026, \"count\": 1, \"label\": \"count\"}, {\"in_degree\": 6030, \"count\": 1, \"label\": \"count\"}, {\"in_degree\": 6035, \"count\": 1, \"label\": \"count\"}, {\"in_degree\": 6053, \"count\": 1, \"label\": \"count\"}, {\"in_degree\": 6063, \"count\": 1, \"label\": \"count\"}, {\"in_degree\": 6067, \"count\": 1, \"label\": \"count\"}, {\"in_degree\": 6075, \"count\": 1, \"label\": \"count\"}, {\"in_degree\": 6081, \"count\": 1, \"label\": \"count\"}, {\"in_degree\": 6084, \"count\": 1, \"label\": \"count\"}, {\"in_degree\": 6086, \"count\": 1, \"label\": \"count\"}, {\"in_degree\": 6098, \"count\": 1, \"label\": \"count\"}, {\"in_degree\": 6108, \"count\": 1, \"label\": \"count\"}, {\"in_degree\": 6115, \"count\": 1, \"label\": \"count\"}, {\"in_degree\": 6117, \"count\": 1, \"label\": \"count\"}, {\"in_degree\": 6124, \"count\": 1, \"label\": \"count\"}, {\"in_degree\": 6126, \"count\": 1, \"label\": \"count\"}, {\"in_degree\": 6129, \"count\": 1, \"label\": \"count\"}, {\"in_degree\": 6131, \"count\": 1, \"label\": \"count\"}, {\"in_degree\": 6140, \"count\": 1, \"label\": \"count\"}, {\"in_degree\": 6145, \"count\": 1, \"label\": \"count\"}, {\"in_degree\": 6155, \"count\": 1, \"label\": \"count\"}, {\"in_degree\": 6164, \"count\": 1, \"label\": \"count\"}, {\"in_degree\": 6165, \"count\": 1, \"label\": \"count\"}, {\"in_degree\": 6168, \"count\": 1, \"label\": \"count\"}, {\"in_degree\": 6174, \"count\": 1, \"label\": \"count\"}, {\"in_degree\": 6175, \"count\": 1, \"label\": \"count\"}, {\"in_degree\": 6177, \"count\": 1, \"label\": \"count\"}, {\"in_degree\": 6183, \"count\": 1, \"label\": \"count\"}, {\"in_degree\": 6189, \"count\": 1, \"label\": \"count\"}, {\"in_degree\": 6200, \"count\": 1, \"label\": \"count\"}, {\"in_degree\": 6211, \"count\": 1, \"label\": \"count\"}, {\"in_degree\": 6212, \"count\": 1, \"label\": \"count\"}, {\"in_degree\": 6224, \"count\": 1, \"label\": \"count\"}, {\"in_degree\": 6233, \"count\": 1, \"label\": \"count\"}, {\"in_degree\": 6256, \"count\": 1, \"label\": \"count\"}, {\"in_degree\": 6263, \"count\": 1, \"label\": \"count\"}, {\"in_degree\": 6289, \"count\": 1, \"label\": \"count\"}, {\"in_degree\": 6320, \"count\": 1, \"label\": \"count\"}, {\"in_degree\": 6324, \"count\": 1, \"label\": \"count\"}, {\"in_degree\": 6326, \"count\": 1, \"label\": \"count\"}, {\"in_degree\": 6336, \"count\": 1, \"label\": \"count\"}, {\"in_degree\": 6347, \"count\": 1, \"label\": \"count\"}, {\"in_degree\": 6363, \"count\": 1, \"label\": \"count\"}, {\"in_degree\": 6364, \"count\": 1, \"label\": \"count\"}, {\"in_degree\": 6391, \"count\": 1, \"label\": \"count\"}, {\"in_degree\": 6393, \"count\": 1, \"label\": \"count\"}, {\"in_degree\": 6397, \"count\": 1, \"label\": \"count\"}, {\"in_degree\": 6400, \"count\": 1, \"label\": \"count\"}, {\"in_degree\": 6403, \"count\": 1, \"label\": \"count\"}, {\"in_degree\": 6414, \"count\": 1, \"label\": \"count\"}, {\"in_degree\": 6415, \"count\": 1, \"label\": \"count\"}, {\"in_degree\": 6420, \"count\": 1, \"label\": \"count\"}, {\"in_degree\": 6436, \"count\": 1, \"label\": \"count\"}, {\"in_degree\": 6459, \"count\": 1, \"label\": \"count\"}, {\"in_degree\": 6474, \"count\": 1, \"label\": \"count\"}, {\"in_degree\": 6480, \"count\": 1, \"label\": \"count\"}, {\"in_degree\": 6482, \"count\": 1, \"label\": \"count\"}, {\"in_degree\": 6489, \"count\": 1, \"label\": \"count\"}, {\"in_degree\": 6496, \"count\": 1, \"label\": \"count\"}, {\"in_degree\": 6507, \"count\": 1, \"label\": \"count\"}, {\"in_degree\": 6536, \"count\": 1, \"label\": \"count\"}, {\"in_degree\": 6555, \"count\": 1, \"label\": \"count\"}, {\"in_degree\": 6562, \"count\": 1, \"label\": \"count\"}, {\"in_degree\": 6565, \"count\": 1, \"label\": \"count\"}, {\"in_degree\": 6571, \"count\": 1, \"label\": \"count\"}, {\"in_degree\": 6594, \"count\": 1, \"label\": \"count\"}, {\"in_degree\": 6596, \"count\": 1, \"label\": \"count\"}, {\"in_degree\": 6621, \"count\": 1, \"label\": \"count\"}, {\"in_degree\": 6623, \"count\": 1, \"label\": \"count\"}, {\"in_degree\": 6634, \"count\": 1, \"label\": \"count\"}, {\"in_degree\": 6651, \"count\": 1, \"label\": \"count\"}, {\"in_degree\": 6653, \"count\": 1, \"label\": \"count\"}, {\"in_degree\": 6671, \"count\": 1, \"label\": \"count\"}, {\"in_degree\": 6688, \"count\": 1, \"label\": \"count\"}, {\"in_degree\": 6690, \"count\": 1, \"label\": \"count\"}, {\"in_degree\": 6745, \"count\": 1, \"label\": \"count\"}, {\"in_degree\": 6764, \"count\": 1, \"label\": \"count\"}, {\"in_degree\": 6774, \"count\": 1, \"label\": \"count\"}, {\"in_degree\": 6794, \"count\": 1, \"label\": \"count\"}, {\"in_degree\": 6802, \"count\": 1, \"label\": \"count\"}, {\"in_degree\": 6831, \"count\": 1, \"label\": \"count\"}, {\"in_degree\": 6835, \"count\": 1, \"label\": \"count\"}, {\"in_degree\": 6841, \"count\": 1, \"label\": \"count\"}, {\"in_degree\": 6848, \"count\": 1, \"label\": \"count\"}, {\"in_degree\": 6882, \"count\": 1, \"label\": \"count\"}, {\"in_degree\": 6898, \"count\": 1, \"label\": \"count\"}, {\"in_degree\": 6915, \"count\": 1, \"label\": \"count\"}, {\"in_degree\": 6920, \"count\": 1, \"label\": \"count\"}, {\"in_degree\": 6936, \"count\": 1, \"label\": \"count\"}, {\"in_degree\": 6962, \"count\": 1, \"label\": \"count\"}, {\"in_degree\": 6982, \"count\": 1, \"label\": \"count\"}, {\"in_degree\": 6990, \"count\": 1, \"label\": \"count\"}, {\"in_degree\": 7002, \"count\": 1, \"label\": \"count\"}, {\"in_degree\": 7037, \"count\": 1, \"label\": \"count\"}, {\"in_degree\": 7038, \"count\": 1, \"label\": \"count\"}, {\"in_degree\": 7039, \"count\": 1, \"label\": \"count\"}, {\"in_degree\": 7044, \"count\": 1, \"label\": \"count\"}, {\"in_degree\": 7045, \"count\": 1, \"label\": \"count\"}, {\"in_degree\": 7050, \"count\": 1, \"label\": \"count\"}, {\"in_degree\": 7053, \"count\": 1, \"label\": \"count\"}, {\"in_degree\": 7054, \"count\": 1, \"label\": \"count\"}, {\"in_degree\": 7057, \"count\": 1, \"label\": \"count\"}, {\"in_degree\": 7080, \"count\": 1, \"label\": \"count\"}, {\"in_degree\": 7156, \"count\": 1, \"label\": \"count\"}, {\"in_degree\": 7178, \"count\": 1, \"label\": \"count\"}, {\"in_degree\": 7193, \"count\": 1, \"label\": \"count\"}, {\"in_degree\": 7198, \"count\": 1, \"label\": \"count\"}, {\"in_degree\": 7204, \"count\": 1, \"label\": \"count\"}, {\"in_degree\": 7236, \"count\": 1, \"label\": \"count\"}, {\"in_degree\": 7248, \"count\": 1, \"label\": \"count\"}, {\"in_degree\": 7260, \"count\": 1, \"label\": \"count\"}, {\"in_degree\": 7262, \"count\": 1, \"label\": \"count\"}, {\"in_degree\": 7276, \"count\": 1, \"label\": \"count\"}, {\"in_degree\": 7293, \"count\": 1, \"label\": \"count\"}, {\"in_degree\": 7310, \"count\": 1, \"label\": \"count\"}, {\"in_degree\": 7312, \"count\": 1, \"label\": \"count\"}, {\"in_degree\": 7319, \"count\": 1, \"label\": \"count\"}, {\"in_degree\": 7340, \"count\": 2, \"label\": \"count\"}, {\"in_degree\": 7374, \"count\": 1, \"label\": \"count\"}, {\"in_degree\": 7383, \"count\": 1, \"label\": \"count\"}, {\"in_degree\": 7390, \"count\": 2, \"label\": \"count\"}, {\"in_degree\": 7407, \"count\": 1, \"label\": \"count\"}, {\"in_degree\": 7412, \"count\": 1, \"label\": \"count\"}, {\"in_degree\": 7415, \"count\": 1, \"label\": \"count\"}, {\"in_degree\": 7444, \"count\": 1, \"label\": \"count\"}, {\"in_degree\": 7465, \"count\": 1, \"label\": \"count\"}, {\"in_degree\": 7483, \"count\": 1, \"label\": \"count\"}, {\"in_degree\": 7489, \"count\": 1, \"label\": \"count\"}, {\"in_degree\": 7510, \"count\": 1, \"label\": \"count\"}, {\"in_degree\": 7516, \"count\": 1, \"label\": \"count\"}, {\"in_degree\": 7518, \"count\": 1, \"label\": \"count\"}, {\"in_degree\": 7521, \"count\": 1, \"label\": \"count\"}, {\"in_degree\": 7525, \"count\": 1, \"label\": \"count\"}, {\"in_degree\": 7531, \"count\": 1, \"label\": \"count\"}, {\"in_degree\": 7533, \"count\": 1, \"label\": \"count\"}, {\"in_degree\": 7560, \"count\": 1, \"label\": \"count\"}, {\"in_degree\": 7563, \"count\": 1, \"label\": \"count\"}, {\"in_degree\": 7566, \"count\": 1, \"label\": \"count\"}, {\"in_degree\": 7569, \"count\": 1, \"label\": \"count\"}, {\"in_degree\": 7581, \"count\": 1, \"label\": \"count\"}, {\"in_degree\": 7604, \"count\": 1, \"label\": \"count\"}, {\"in_degree\": 7606, \"count\": 1, \"label\": \"count\"}, {\"in_degree\": 7611, \"count\": 1, \"label\": \"count\"}, {\"in_degree\": 7619, \"count\": 1, \"label\": \"count\"}, {\"in_degree\": 7623, \"count\": 1, \"label\": \"count\"}, {\"in_degree\": 7635, \"count\": 1, \"label\": \"count\"}, {\"in_degree\": 7671, \"count\": 1, \"label\": \"count\"}, {\"in_degree\": 7700, \"count\": 1, \"label\": \"count\"}, {\"in_degree\": 7712, \"count\": 1, \"label\": \"count\"}, {\"in_degree\": 7746, \"count\": 2, \"label\": \"count\"}, {\"in_degree\": 7759, \"count\": 1, \"label\": \"count\"}, {\"in_degree\": 7765, \"count\": 1, \"label\": \"count\"}, {\"in_degree\": 7769, \"count\": 1, \"label\": \"count\"}, {\"in_degree\": 7772, \"count\": 1, \"label\": \"count\"}, {\"in_degree\": 7779, \"count\": 1, \"label\": \"count\"}, {\"in_degree\": 7788, \"count\": 1, \"label\": \"count\"}, {\"in_degree\": 7793, \"count\": 1, \"label\": \"count\"}, {\"in_degree\": 7801, \"count\": 1, \"label\": \"count\"}, {\"in_degree\": 7808, \"count\": 1, \"label\": \"count\"}, {\"in_degree\": 7811, \"count\": 1, \"label\": \"count\"}, {\"in_degree\": 7819, \"count\": 1, \"label\": \"count\"}, {\"in_degree\": 7825, \"count\": 2, \"label\": \"count\"}, {\"in_degree\": 7830, \"count\": 1, \"label\": \"count\"}, {\"in_degree\": 7839, \"count\": 1, \"label\": \"count\"}, {\"in_degree\": 7860, \"count\": 1, \"label\": \"count\"}, {\"in_degree\": 7879, \"count\": 1, \"label\": \"count\"}, {\"in_degree\": 7895, \"count\": 1, \"label\": \"count\"}, {\"in_degree\": 7896, \"count\": 1, \"label\": \"count\"}, {\"in_degree\": 7905, \"count\": 1, \"label\": \"count\"}, {\"in_degree\": 7906, \"count\": 1, \"label\": \"count\"}, {\"in_degree\": 7920, \"count\": 1, \"label\": \"count\"}, {\"in_degree\": 7929, \"count\": 1, \"label\": \"count\"}, {\"in_degree\": 7931, \"count\": 1, \"label\": \"count\"}, {\"in_degree\": 7939, \"count\": 1, \"label\": \"count\"}, {\"in_degree\": 7957, \"count\": 1, \"label\": \"count\"}, {\"in_degree\": 7959, \"count\": 1, \"label\": \"count\"}, {\"in_degree\": 7975, \"count\": 1, \"label\": \"count\"}, {\"in_degree\": 7982, \"count\": 1, \"label\": \"count\"}, {\"in_degree\": 8010, \"count\": 1, \"label\": \"count\"}, {\"in_degree\": 8045, \"count\": 1, \"label\": \"count\"}, {\"in_degree\": 8049, \"count\": 1, \"label\": \"count\"}, {\"in_degree\": 8057, \"count\": 1, \"label\": \"count\"}, {\"in_degree\": 8065, \"count\": 1, \"label\": \"count\"}, {\"in_degree\": 8081, \"count\": 1, \"label\": \"count\"}, {\"in_degree\": 8087, \"count\": 1, \"label\": \"count\"}, {\"in_degree\": 8120, \"count\": 1, \"label\": \"count\"}, {\"in_degree\": 8127, \"count\": 1, \"label\": \"count\"}, {\"in_degree\": 8129, \"count\": 1, \"label\": \"count\"}, {\"in_degree\": 8131, \"count\": 1, \"label\": \"count\"}, {\"in_degree\": 8142, \"count\": 1, \"label\": \"count\"}, {\"in_degree\": 8143, \"count\": 1, \"label\": \"count\"}, {\"in_degree\": 8157, \"count\": 1, \"label\": \"count\"}, {\"in_degree\": 8160, \"count\": 1, \"label\": \"count\"}, {\"in_degree\": 8182, \"count\": 1, \"label\": \"count\"}, {\"in_degree\": 8209, \"count\": 1, \"label\": \"count\"}, {\"in_degree\": 8230, \"count\": 1, \"label\": \"count\"}, {\"in_degree\": 8237, \"count\": 1, \"label\": \"count\"}, {\"in_degree\": 8238, \"count\": 1, \"label\": \"count\"}, {\"in_degree\": 8258, \"count\": 1, \"label\": \"count\"}, {\"in_degree\": 8259, \"count\": 1, \"label\": \"count\"}, {\"in_degree\": 8268, \"count\": 1, \"label\": \"count\"}, {\"in_degree\": 8269, \"count\": 1, \"label\": \"count\"}, {\"in_degree\": 8273, \"count\": 1, \"label\": \"count\"}, {\"in_degree\": 8299, \"count\": 1, \"label\": \"count\"}, {\"in_degree\": 8300, \"count\": 2, \"label\": \"count\"}, {\"in_degree\": 8301, \"count\": 1, \"label\": \"count\"}, {\"in_degree\": 8302, \"count\": 1, \"label\": \"count\"}, {\"in_degree\": 8331, \"count\": 1, \"label\": \"count\"}, {\"in_degree\": 8337, \"count\": 1, \"label\": \"count\"}, {\"in_degree\": 8338, \"count\": 1, \"label\": \"count\"}, {\"in_degree\": 8345, \"count\": 1, \"label\": \"count\"}, {\"in_degree\": 8364, \"count\": 1, \"label\": \"count\"}, {\"in_degree\": 8368, \"count\": 1, \"label\": \"count\"}, {\"in_degree\": 8392, \"count\": 1, \"label\": \"count\"}, {\"in_degree\": 8404, \"count\": 1, \"label\": \"count\"}, {\"in_degree\": 8436, \"count\": 1, \"label\": \"count\"}, {\"in_degree\": 8473, \"count\": 1, \"label\": \"count\"}, {\"in_degree\": 8501, \"count\": 1, \"label\": \"count\"}, {\"in_degree\": 8514, \"count\": 1, \"label\": \"count\"}, {\"in_degree\": 8520, \"count\": 1, \"label\": \"count\"}, {\"in_degree\": 8531, \"count\": 1, \"label\": \"count\"}, {\"in_degree\": 8541, \"count\": 1, \"label\": \"count\"}, {\"in_degree\": 8558, \"count\": 1, \"label\": \"count\"}, {\"in_degree\": 8589, \"count\": 1, \"label\": \"count\"}, {\"in_degree\": 8592, \"count\": 1, \"label\": \"count\"}, {\"in_degree\": 8645, \"count\": 1, \"label\": \"count\"}, {\"in_degree\": 8676, \"count\": 1, \"label\": \"count\"}, {\"in_degree\": 8699, \"count\": 2, \"label\": \"count\"}, {\"in_degree\": 8706, \"count\": 1, \"label\": \"count\"}, {\"in_degree\": 8739, \"count\": 1, \"label\": \"count\"}, {\"in_degree\": 8766, \"count\": 1, \"label\": \"count\"}, {\"in_degree\": 8773, \"count\": 2, \"label\": \"count\"}, {\"in_degree\": 8789, \"count\": 1, \"label\": \"count\"}, {\"in_degree\": 8802, \"count\": 1, \"label\": \"count\"}, {\"in_degree\": 8812, \"count\": 1, \"label\": \"count\"}, {\"in_degree\": 8830, \"count\": 2, \"label\": \"count\"}, {\"in_degree\": 8832, \"count\": 1, \"label\": \"count\"}, {\"in_degree\": 8836, \"count\": 1, \"label\": \"count\"}, {\"in_degree\": 8867, \"count\": 1, \"label\": \"count\"}, {\"in_degree\": 8895, \"count\": 1, \"label\": \"count\"}, {\"in_degree\": 8952, \"count\": 1, \"label\": \"count\"}, {\"in_degree\": 8960, \"count\": 1, \"label\": \"count\"}, {\"in_degree\": 8964, \"count\": 1, \"label\": \"count\"}, {\"in_degree\": 8981, \"count\": 1, \"label\": \"count\"}, {\"in_degree\": 8991, \"count\": 1, \"label\": \"count\"}, {\"in_degree\": 9006, \"count\": 1, \"label\": \"count\"}, {\"in_degree\": 9009, \"count\": 1, \"label\": \"count\"}, {\"in_degree\": 9044, \"count\": 1, \"label\": \"count\"}, {\"in_degree\": 9078, \"count\": 1, \"label\": \"count\"}, {\"in_degree\": 9080, \"count\": 1, \"label\": \"count\"}, {\"in_degree\": 9082, \"count\": 1, \"label\": \"count\"}, {\"in_degree\": 9098, \"count\": 2, \"label\": \"count\"}, {\"in_degree\": 9152, \"count\": 1, \"label\": \"count\"}, {\"in_degree\": 9159, \"count\": 1, \"label\": \"count\"}, {\"in_degree\": 9167, \"count\": 1, \"label\": \"count\"}, {\"in_degree\": 9171, \"count\": 1, \"label\": \"count\"}, {\"in_degree\": 9177, \"count\": 1, \"label\": \"count\"}, {\"in_degree\": 9189, \"count\": 1, \"label\": \"count\"}, {\"in_degree\": 9200, \"count\": 1, \"label\": \"count\"}, {\"in_degree\": 9202, \"count\": 1, \"label\": \"count\"}, {\"in_degree\": 9204, \"count\": 1, \"label\": \"count\"}, {\"in_degree\": 9211, \"count\": 1, \"label\": \"count\"}, {\"in_degree\": 9215, \"count\": 1, \"label\": \"count\"}, {\"in_degree\": 9216, \"count\": 2, \"label\": \"count\"}, {\"in_degree\": 9220, \"count\": 1, \"label\": \"count\"}, {\"in_degree\": 9229, \"count\": 1, \"label\": \"count\"}, {\"in_degree\": 9258, \"count\": 1, \"label\": \"count\"}, {\"in_degree\": 9265, \"count\": 1, \"label\": \"count\"}, {\"in_degree\": 9274, \"count\": 1, \"label\": \"count\"}, {\"in_degree\": 9275, \"count\": 1, \"label\": \"count\"}, {\"in_degree\": 9299, \"count\": 1, \"label\": \"count\"}, {\"in_degree\": 9311, \"count\": 1, \"label\": \"count\"}, {\"in_degree\": 9323, \"count\": 1, \"label\": \"count\"}, {\"in_degree\": 9335, \"count\": 1, \"label\": \"count\"}, {\"in_degree\": 9342, \"count\": 1, \"label\": \"count\"}, {\"in_degree\": 9350, \"count\": 1, \"label\": \"count\"}, {\"in_degree\": 9356, \"count\": 1, \"label\": \"count\"}, {\"in_degree\": 9362, \"count\": 1, \"label\": \"count\"}, {\"in_degree\": 9384, \"count\": 1, \"label\": \"count\"}, {\"in_degree\": 9402, \"count\": 1, \"label\": \"count\"}, {\"in_degree\": 9411, \"count\": 1, \"label\": \"count\"}, {\"in_degree\": 9415, \"count\": 1, \"label\": \"count\"}, {\"in_degree\": 9419, \"count\": 1, \"label\": \"count\"}, {\"in_degree\": 9449, \"count\": 1, \"label\": \"count\"}, {\"in_degree\": 9513, \"count\": 1, \"label\": \"count\"}, {\"in_degree\": 9526, \"count\": 1, \"label\": \"count\"}, {\"in_degree\": 9539, \"count\": 2, \"label\": \"count\"}, {\"in_degree\": 9560, \"count\": 1, \"label\": \"count\"}, {\"in_degree\": 9563, \"count\": 1, \"label\": \"count\"}, {\"in_degree\": 9572, \"count\": 1, \"label\": \"count\"}, {\"in_degree\": 9589, \"count\": 1, \"label\": \"count\"}, {\"in_degree\": 9599, \"count\": 1, \"label\": \"count\"}, {\"in_degree\": 9614, \"count\": 1, \"label\": \"count\"}, {\"in_degree\": 9619, \"count\": 1, \"label\": \"count\"}, {\"in_degree\": 9630, \"count\": 1, \"label\": \"count\"}, {\"in_degree\": 9633, \"count\": 1, \"label\": \"count\"}, {\"in_degree\": 9636, \"count\": 1, \"label\": \"count\"}, {\"in_degree\": 9651, \"count\": 1, \"label\": \"count\"}, {\"in_degree\": 9676, \"count\": 1, \"label\": \"count\"}, {\"in_degree\": 9692, \"count\": 1, \"label\": \"count\"}, {\"in_degree\": 9728, \"count\": 1, \"label\": \"count\"}, {\"in_degree\": 9761, \"count\": 1, \"label\": \"count\"}, {\"in_degree\": 9764, \"count\": 1, \"label\": \"count\"}, {\"in_degree\": 9784, \"count\": 1, \"label\": \"count\"}, {\"in_degree\": 9815, \"count\": 1, \"label\": \"count\"}, {\"in_degree\": 9821, \"count\": 1, \"label\": \"count\"}, {\"in_degree\": 9860, \"count\": 1, \"label\": \"count\"}, {\"in_degree\": 9878, \"count\": 1, \"label\": \"count\"}, {\"in_degree\": 9885, \"count\": 1, \"label\": \"count\"}, {\"in_degree\": 9896, \"count\": 1, \"label\": \"count\"}, {\"in_degree\": 9918, \"count\": 1, \"label\": \"count\"}, {\"in_degree\": 9927, \"count\": 1, \"label\": \"count\"}, {\"in_degree\": 9928, \"count\": 1, \"label\": \"count\"}, {\"in_degree\": 9946, \"count\": 1, \"label\": \"count\"}, {\"in_degree\": 9983, \"count\": 1, \"label\": \"count\"}, {\"in_degree\": 10000, \"count\": 1, \"label\": \"count\"}, {\"in_degree\": 10001, \"count\": 1, \"label\": \"count\"}, {\"in_degree\": 10002, \"count\": 1, \"label\": \"count\"}, {\"in_degree\": 10030, \"count\": 1, \"label\": \"count\"}, {\"in_degree\": 10034, \"count\": 1, \"label\": \"count\"}, {\"in_degree\": 10035, \"count\": 1, \"label\": \"count\"}, {\"in_degree\": 10046, \"count\": 1, \"label\": \"count\"}, {\"in_degree\": 10082, \"count\": 2, \"label\": \"count\"}, {\"in_degree\": 10091, \"count\": 1, \"label\": \"count\"}, {\"in_degree\": 10111, \"count\": 1, \"label\": \"count\"}, {\"in_degree\": 10125, \"count\": 1, \"label\": \"count\"}, {\"in_degree\": 10145, \"count\": 1, \"label\": \"count\"}, {\"in_degree\": 10161, \"count\": 1, \"label\": \"count\"}, {\"in_degree\": 10217, \"count\": 1, \"label\": \"count\"}, {\"in_degree\": 10232, \"count\": 1, \"label\": \"count\"}, {\"in_degree\": 10235, \"count\": 1, \"label\": \"count\"}, {\"in_degree\": 10259, \"count\": 1, \"label\": \"count\"}, {\"in_degree\": 10311, \"count\": 1, \"label\": \"count\"}, {\"in_degree\": 10350, \"count\": 1, \"label\": \"count\"}, {\"in_degree\": 10353, \"count\": 1, \"label\": \"count\"}, {\"in_degree\": 10363, \"count\": 2, \"label\": \"count\"}, {\"in_degree\": 10367, \"count\": 1, \"label\": \"count\"}, {\"in_degree\": 10409, \"count\": 1, \"label\": \"count\"}, {\"in_degree\": 10431, \"count\": 1, \"label\": \"count\"}, {\"in_degree\": 10468, \"count\": 1, \"label\": \"count\"}, {\"in_degree\": 10481, \"count\": 1, \"label\": \"count\"}, {\"in_degree\": 10497, \"count\": 1, \"label\": \"count\"}, {\"in_degree\": 10508, \"count\": 1, \"label\": \"count\"}, {\"in_degree\": 10514, \"count\": 1, \"label\": \"count\"}, {\"in_degree\": 10515, \"count\": 1, \"label\": \"count\"}, {\"in_degree\": 10516, \"count\": 1, \"label\": \"count\"}, {\"in_degree\": 10518, \"count\": 1, \"label\": \"count\"}, {\"in_degree\": 10521, \"count\": 1, \"label\": \"count\"}, {\"in_degree\": 10529, \"count\": 1, \"label\": \"count\"}, {\"in_degree\": 10533, \"count\": 1, \"label\": \"count\"}, {\"in_degree\": 10536, \"count\": 1, \"label\": \"count\"}, {\"in_degree\": 10549, \"count\": 1, \"label\": \"count\"}, {\"in_degree\": 10572, \"count\": 1, \"label\": \"count\"}, {\"in_degree\": 10600, \"count\": 1, \"label\": \"count\"}, {\"in_degree\": 10611, \"count\": 1, \"label\": \"count\"}, {\"in_degree\": 10621, \"count\": 1, \"label\": \"count\"}, {\"in_degree\": 10627, \"count\": 1, \"label\": \"count\"}, {\"in_degree\": 10649, \"count\": 1, \"label\": \"count\"}, {\"in_degree\": 10669, \"count\": 1, \"label\": \"count\"}, {\"in_degree\": 10672, \"count\": 1, \"label\": \"count\"}, {\"in_degree\": 10679, \"count\": 1, \"label\": \"count\"}, {\"in_degree\": 10693, \"count\": 1, \"label\": \"count\"}, {\"in_degree\": 10698, \"count\": 1, \"label\": \"count\"}, {\"in_degree\": 10713, \"count\": 1, \"label\": \"count\"}, {\"in_degree\": 10757, \"count\": 1, \"label\": \"count\"}, {\"in_degree\": 10762, \"count\": 1, \"label\": \"count\"}, {\"in_degree\": 10767, \"count\": 1, \"label\": \"count\"}, {\"in_degree\": 10780, \"count\": 1, \"label\": \"count\"}, {\"in_degree\": 10785, \"count\": 1, \"label\": \"count\"}, {\"in_degree\": 10809, \"count\": 1, \"label\": \"count\"}, {\"in_degree\": 10831, \"count\": 1, \"label\": \"count\"}, {\"in_degree\": 10834, \"count\": 1, \"label\": \"count\"}, {\"in_degree\": 10838, \"count\": 1, \"label\": \"count\"}, {\"in_degree\": 10858, \"count\": 1, \"label\": \"count\"}, {\"in_degree\": 10861, \"count\": 1, \"label\": \"count\"}, {\"in_degree\": 10875, \"count\": 1, \"label\": \"count\"}, {\"in_degree\": 10889, \"count\": 1, \"label\": \"count\"}, {\"in_degree\": 10914, \"count\": 1, \"label\": \"count\"}, {\"in_degree\": 10924, \"count\": 1, \"label\": \"count\"}, {\"in_degree\": 10948, \"count\": 1, \"label\": \"count\"}, {\"in_degree\": 10962, \"count\": 1, \"label\": \"count\"}, {\"in_degree\": 10967, \"count\": 1, \"label\": \"count\"}, {\"in_degree\": 10995, \"count\": 1, \"label\": \"count\"}, {\"in_degree\": 11001, \"count\": 1, \"label\": \"count\"}, {\"in_degree\": 11017, \"count\": 1, \"label\": \"count\"}, {\"in_degree\": 11023, \"count\": 1, \"label\": \"count\"}, {\"in_degree\": 11050, \"count\": 1, \"label\": \"count\"}, {\"in_degree\": 11053, \"count\": 1, \"label\": \"count\"}, {\"in_degree\": 11120, \"count\": 1, \"label\": \"count\"}, {\"in_degree\": 11128, \"count\": 1, \"label\": \"count\"}, {\"in_degree\": 11164, \"count\": 1, \"label\": \"count\"}, {\"in_degree\": 11210, \"count\": 1, \"label\": \"count\"}, {\"in_degree\": 11216, \"count\": 1, \"label\": \"count\"}, {\"in_degree\": 11285, \"count\": 1, \"label\": \"count\"}, {\"in_degree\": 11286, \"count\": 1, \"label\": \"count\"}, {\"in_degree\": 11292, \"count\": 1, \"label\": \"count\"}, {\"in_degree\": 11297, \"count\": 1, \"label\": \"count\"}, {\"in_degree\": 11303, \"count\": 1, \"label\": \"count\"}, {\"in_degree\": 11320, \"count\": 1, \"label\": \"count\"}, {\"in_degree\": 11329, \"count\": 1, \"label\": \"count\"}, {\"in_degree\": 11346, \"count\": 1, \"label\": \"count\"}, {\"in_degree\": 11370, \"count\": 1, \"label\": \"count\"}, {\"in_degree\": 11391, \"count\": 1, \"label\": \"count\"}, {\"in_degree\": 11398, \"count\": 1, \"label\": \"count\"}, {\"in_degree\": 11411, \"count\": 1, \"label\": \"count\"}, {\"in_degree\": 11514, \"count\": 1, \"label\": \"count\"}, {\"in_degree\": 11521, \"count\": 1, \"label\": \"count\"}, {\"in_degree\": 11541, \"count\": 1, \"label\": \"count\"}, {\"in_degree\": 11547, \"count\": 1, \"label\": \"count\"}, {\"in_degree\": 11563, \"count\": 1, \"label\": \"count\"}, {\"in_degree\": 11578, \"count\": 1, \"label\": \"count\"}, {\"in_degree\": 11616, \"count\": 1, \"label\": \"count\"}, {\"in_degree\": 11617, \"count\": 1, \"label\": \"count\"}, {\"in_degree\": 11625, \"count\": 1, \"label\": \"count\"}, {\"in_degree\": 11695, \"count\": 1, \"label\": \"count\"}, {\"in_degree\": 11703, \"count\": 2, \"label\": \"count\"}, {\"in_degree\": 11760, \"count\": 1, \"label\": \"count\"}, {\"in_degree\": 11788, \"count\": 1, \"label\": \"count\"}, {\"in_degree\": 11791, \"count\": 1, \"label\": \"count\"}, {\"in_degree\": 11814, \"count\": 1, \"label\": \"count\"}, {\"in_degree\": 11821, \"count\": 1, \"label\": \"count\"}, {\"in_degree\": 11827, \"count\": 2, \"label\": \"count\"}, {\"in_degree\": 11845, \"count\": 1, \"label\": \"count\"}, {\"in_degree\": 11855, \"count\": 1, \"label\": \"count\"}, {\"in_degree\": 11865, \"count\": 1, \"label\": \"count\"}, {\"in_degree\": 11869, \"count\": 2, \"label\": \"count\"}, {\"in_degree\": 11896, \"count\": 1, \"label\": \"count\"}, {\"in_degree\": 11897, \"count\": 1, \"label\": \"count\"}, {\"in_degree\": 11905, \"count\": 1, \"label\": \"count\"}, {\"in_degree\": 11915, \"count\": 1, \"label\": \"count\"}, {\"in_degree\": 11917, \"count\": 1, \"label\": \"count\"}, {\"in_degree\": 12020, \"count\": 1, \"label\": \"count\"}, {\"in_degree\": 12029, \"count\": 1, \"label\": \"count\"}, {\"in_degree\": 12092, \"count\": 1, \"label\": \"count\"}, {\"in_degree\": 12114, \"count\": 1, \"label\": \"count\"}, {\"in_degree\": 12133, \"count\": 1, \"label\": \"count\"}, {\"in_degree\": 12137, \"count\": 1, \"label\": \"count\"}, {\"in_degree\": 12147, \"count\": 1, \"label\": \"count\"}, {\"in_degree\": 12165, \"count\": 1, \"label\": \"count\"}, {\"in_degree\": 12282, \"count\": 1, \"label\": \"count\"}, {\"in_degree\": 12307, \"count\": 1, \"label\": \"count\"}, {\"in_degree\": 12360, \"count\": 2, \"label\": \"count\"}, {\"in_degree\": 12372, \"count\": 1, \"label\": \"count\"}, {\"in_degree\": 12378, \"count\": 1, \"label\": \"count\"}, {\"in_degree\": 12383, \"count\": 1, \"label\": \"count\"}, {\"in_degree\": 12422, \"count\": 1, \"label\": \"count\"}, {\"in_degree\": 12433, \"count\": 1, \"label\": \"count\"}, {\"in_degree\": 12480, \"count\": 1, \"label\": \"count\"}, {\"in_degree\": 12509, \"count\": 1, \"label\": \"count\"}, {\"in_degree\": 12526, \"count\": 1, \"label\": \"count\"}, {\"in_degree\": 12539, \"count\": 1, \"label\": \"count\"}, {\"in_degree\": 12549, \"count\": 1, \"label\": \"count\"}, {\"in_degree\": 12596, \"count\": 1, \"label\": \"count\"}, {\"in_degree\": 12606, \"count\": 1, \"label\": \"count\"}, {\"in_degree\": 12608, \"count\": 1, \"label\": \"count\"}, {\"in_degree\": 12636, \"count\": 1, \"label\": \"count\"}, {\"in_degree\": 12649, \"count\": 1, \"label\": \"count\"}, {\"in_degree\": 12760, \"count\": 1, \"label\": \"count\"}, {\"in_degree\": 12850, \"count\": 1, \"label\": \"count\"}, {\"in_degree\": 12885, \"count\": 1, \"label\": \"count\"}, {\"in_degree\": 12928, \"count\": 1, \"label\": \"count\"}, {\"in_degree\": 12939, \"count\": 1, \"label\": \"count\"}, {\"in_degree\": 12944, \"count\": 1, \"label\": \"count\"}, {\"in_degree\": 12952, \"count\": 1, \"label\": \"count\"}, {\"in_degree\": 13050, \"count\": 1, \"label\": \"count\"}, {\"in_degree\": 13070, \"count\": 1, \"label\": \"count\"}, {\"in_degree\": 13122, \"count\": 1, \"label\": \"count\"}, {\"in_degree\": 13178, \"count\": 1, \"label\": \"count\"}, {\"in_degree\": 13183, \"count\": 1, \"label\": \"count\"}, {\"in_degree\": 13226, \"count\": 1, \"label\": \"count\"}, {\"in_degree\": 13284, \"count\": 1, \"label\": \"count\"}, {\"in_degree\": 13314, \"count\": 1, \"label\": \"count\"}, {\"in_degree\": 13318, \"count\": 1, \"label\": \"count\"}, {\"in_degree\": 13324, \"count\": 1, \"label\": \"count\"}, {\"in_degree\": 13396, \"count\": 1, \"label\": \"count\"}, {\"in_degree\": 13485, \"count\": 1, \"label\": \"count\"}, {\"in_degree\": 13486, \"count\": 1, \"label\": \"count\"}, {\"in_degree\": 13507, \"count\": 1, \"label\": \"count\"}, {\"in_degree\": 13538, \"count\": 1, \"label\": \"count\"}, {\"in_degree\": 13587, \"count\": 1, \"label\": \"count\"}, {\"in_degree\": 13617, \"count\": 1, \"label\": \"count\"}, {\"in_degree\": 13623, \"count\": 1, \"label\": \"count\"}, {\"in_degree\": 13636, \"count\": 1, \"label\": \"count\"}, {\"in_degree\": 13646, \"count\": 1, \"label\": \"count\"}, {\"in_degree\": 13665, \"count\": 1, \"label\": \"count\"}, {\"in_degree\": 13721, \"count\": 1, \"label\": \"count\"}, {\"in_degree\": 13746, \"count\": 1, \"label\": \"count\"}, {\"in_degree\": 13758, \"count\": 1, \"label\": \"count\"}, {\"in_degree\": 13883, \"count\": 1, \"label\": \"count\"}, {\"in_degree\": 13915, \"count\": 1, \"label\": \"count\"}, {\"in_degree\": 13918, \"count\": 1, \"label\": \"count\"}, {\"in_degree\": 13961, \"count\": 1, \"label\": \"count\"}, {\"in_degree\": 13984, \"count\": 1, \"label\": \"count\"}, {\"in_degree\": 14013, \"count\": 1, \"label\": \"count\"}, {\"in_degree\": 14052, \"count\": 1, \"label\": \"count\"}, {\"in_degree\": 14104, \"count\": 1, \"label\": \"count\"}, {\"in_degree\": 14105, \"count\": 1, \"label\": \"count\"}, {\"in_degree\": 14140, \"count\": 1, \"label\": \"count\"}, {\"in_degree\": 14150, \"count\": 1, \"label\": \"count\"}, {\"in_degree\": 14174, \"count\": 1, \"label\": \"count\"}, {\"in_degree\": 14209, \"count\": 1, \"label\": \"count\"}, {\"in_degree\": 14220, \"count\": 1, \"label\": \"count\"}, {\"in_degree\": 14230, \"count\": 1, \"label\": \"count\"}, {\"in_degree\": 14278, \"count\": 1, \"label\": \"count\"}, {\"in_degree\": 14334, \"count\": 1, \"label\": \"count\"}, {\"in_degree\": 14339, \"count\": 1, \"label\": \"count\"}, {\"in_degree\": 14375, \"count\": 1, \"label\": \"count\"}, {\"in_degree\": 14415, \"count\": 1, \"label\": \"count\"}, {\"in_degree\": 14448, \"count\": 1, \"label\": \"count\"}, {\"in_degree\": 14487, \"count\": 1, \"label\": \"count\"}, {\"in_degree\": 14503, \"count\": 1, \"label\": \"count\"}, {\"in_degree\": 14506, \"count\": 1, \"label\": \"count\"}, {\"in_degree\": 14517, \"count\": 1, \"label\": \"count\"}, {\"in_degree\": 14537, \"count\": 1, \"label\": \"count\"}, {\"in_degree\": 14547, \"count\": 1, \"label\": \"count\"}, {\"in_degree\": 14597, \"count\": 1, \"label\": \"count\"}, {\"in_degree\": 14651, \"count\": 1, \"label\": \"count\"}, {\"in_degree\": 14693, \"count\": 1, \"label\": \"count\"}, {\"in_degree\": 14729, \"count\": 1, \"label\": \"count\"}, {\"in_degree\": 14764, \"count\": 2, \"label\": \"count\"}, {\"in_degree\": 14773, \"count\": 1, \"label\": \"count\"}, {\"in_degree\": 14776, \"count\": 1, \"label\": \"count\"}, {\"in_degree\": 14779, \"count\": 1, \"label\": \"count\"}, {\"in_degree\": 14803, \"count\": 1, \"label\": \"count\"}, {\"in_degree\": 14837, \"count\": 1, \"label\": \"count\"}, {\"in_degree\": 14840, \"count\": 1, \"label\": \"count\"}, {\"in_degree\": 14941, \"count\": 1, \"label\": \"count\"}, {\"in_degree\": 14960, \"count\": 1, \"label\": \"count\"}, {\"in_degree\": 15001, \"count\": 1, \"label\": \"count\"}, {\"in_degree\": 15038, \"count\": 1, \"label\": \"count\"}, {\"in_degree\": 15041, \"count\": 1, \"label\": \"count\"}, {\"in_degree\": 15060, \"count\": 1, \"label\": \"count\"}, {\"in_degree\": 15067, \"count\": 1, \"label\": \"count\"}, {\"in_degree\": 15113, \"count\": 1, \"label\": \"count\"}, {\"in_degree\": 15230, \"count\": 1, \"label\": \"count\"}, {\"in_degree\": 15242, \"count\": 2, \"label\": \"count\"}, {\"in_degree\": 15258, \"count\": 1, \"label\": \"count\"}, {\"in_degree\": 15278, \"count\": 1, \"label\": \"count\"}, {\"in_degree\": 15352, \"count\": 1, \"label\": \"count\"}, {\"in_degree\": 15383, \"count\": 1, \"label\": \"count\"}, {\"in_degree\": 15423, \"count\": 1, \"label\": \"count\"}, {\"in_degree\": 15546, \"count\": 1, \"label\": \"count\"}, {\"in_degree\": 15556, \"count\": 1, \"label\": \"count\"}, {\"in_degree\": 15631, \"count\": 1, \"label\": \"count\"}, {\"in_degree\": 15654, \"count\": 1, \"label\": \"count\"}, {\"in_degree\": 15780, \"count\": 1, \"label\": \"count\"}, {\"in_degree\": 15806, \"count\": 1, \"label\": \"count\"}, {\"in_degree\": 15857, \"count\": 1, \"label\": \"count\"}, {\"in_degree\": 15902, \"count\": 1, \"label\": \"count\"}, {\"in_degree\": 15908, \"count\": 1, \"label\": \"count\"}, {\"in_degree\": 15975, \"count\": 1, \"label\": \"count\"}, {\"in_degree\": 15993, \"count\": 1, \"label\": \"count\"}, {\"in_degree\": 16070, \"count\": 1, \"label\": \"count\"}, {\"in_degree\": 16085, \"count\": 1, \"label\": \"count\"}, {\"in_degree\": 16094, \"count\": 1, \"label\": \"count\"}, {\"in_degree\": 16120, \"count\": 1, \"label\": \"count\"}, {\"in_degree\": 16176, \"count\": 1, \"label\": \"count\"}, {\"in_degree\": 16180, \"count\": 1, \"label\": \"count\"}, {\"in_degree\": 16183, \"count\": 1, \"label\": \"count\"}, {\"in_degree\": 16192, \"count\": 1, \"label\": \"count\"}, {\"in_degree\": 16199, \"count\": 1, \"label\": \"count\"}, {\"in_degree\": 16206, \"count\": 1, \"label\": \"count\"}, {\"in_degree\": 16231, \"count\": 1, \"label\": \"count\"}, {\"in_degree\": 16304, \"count\": 1, \"label\": \"count\"}, {\"in_degree\": 16432, \"count\": 1, \"label\": \"count\"}, {\"in_degree\": 16447, \"count\": 1, \"label\": \"count\"}, {\"in_degree\": 16457, \"count\": 1, \"label\": \"count\"}, {\"in_degree\": 16529, \"count\": 1, \"label\": \"count\"}, {\"in_degree\": 16566, \"count\": 1, \"label\": \"count\"}, {\"in_degree\": 16598, \"count\": 1, \"label\": \"count\"}, {\"in_degree\": 16615, \"count\": 1, \"label\": \"count\"}, {\"in_degree\": 16623, \"count\": 1, \"label\": \"count\"}, {\"in_degree\": 16659, \"count\": 1, \"label\": \"count\"}, {\"in_degree\": 16712, \"count\": 1, \"label\": \"count\"}, {\"in_degree\": 16741, \"count\": 1, \"label\": \"count\"}, {\"in_degree\": 16783, \"count\": 1, \"label\": \"count\"}, {\"in_degree\": 16869, \"count\": 1, \"label\": \"count\"}, {\"in_degree\": 16968, \"count\": 1, \"label\": \"count\"}, {\"in_degree\": 16995, \"count\": 1, \"label\": \"count\"}, {\"in_degree\": 17102, \"count\": 1, \"label\": \"count\"}, {\"in_degree\": 17151, \"count\": 1, \"label\": \"count\"}, {\"in_degree\": 17187, \"count\": 1, \"label\": \"count\"}, {\"in_degree\": 17200, \"count\": 1, \"label\": \"count\"}, {\"in_degree\": 17253, \"count\": 1, \"label\": \"count\"}, {\"in_degree\": 17264, \"count\": 1, \"label\": \"count\"}, {\"in_degree\": 17284, \"count\": 1, \"label\": \"count\"}, {\"in_degree\": 17307, \"count\": 1, \"label\": \"count\"}, {\"in_degree\": 17330, \"count\": 1, \"label\": \"count\"}, {\"in_degree\": 17406, \"count\": 1, \"label\": \"count\"}, {\"in_degree\": 17445, \"count\": 1, \"label\": \"count\"}, {\"in_degree\": 17480, \"count\": 1, \"label\": \"count\"}, {\"in_degree\": 17662, \"count\": 1, \"label\": \"count\"}, {\"in_degree\": 17757, \"count\": 1, \"label\": \"count\"}, {\"in_degree\": 17842, \"count\": 1, \"label\": \"count\"}, {\"in_degree\": 17915, \"count\": 1, \"label\": \"count\"}, {\"in_degree\": 18055, \"count\": 1, \"label\": \"count\"}, {\"in_degree\": 18081, \"count\": 1, \"label\": \"count\"}, {\"in_degree\": 18198, \"count\": 1, \"label\": \"count\"}, {\"in_degree\": 18293, \"count\": 1, \"label\": \"count\"}, {\"in_degree\": 18314, \"count\": 1, \"label\": \"count\"}, {\"in_degree\": 18320, \"count\": 1, \"label\": \"count\"}, {\"in_degree\": 18360, \"count\": 1, \"label\": \"count\"}, {\"in_degree\": 18423, \"count\": 1, \"label\": \"count\"}, {\"in_degree\": 18433, \"count\": 1, \"label\": \"count\"}, {\"in_degree\": 18483, \"count\": 1, \"label\": \"count\"}, {\"in_degree\": 18496, \"count\": 1, \"label\": \"count\"}, {\"in_degree\": 18504, \"count\": 1, \"label\": \"count\"}, {\"in_degree\": 18598, \"count\": 1, \"label\": \"count\"}, {\"in_degree\": 18665, \"count\": 1, \"label\": \"count\"}, {\"in_degree\": 18708, \"count\": 1, \"label\": \"count\"}, {\"in_degree\": 18748, \"count\": 1, \"label\": \"count\"}, {\"in_degree\": 18890, \"count\": 1, \"label\": \"count\"}, {\"in_degree\": 18896, \"count\": 1, \"label\": \"count\"}, {\"in_degree\": 19023, \"count\": 1, \"label\": \"count\"}, {\"in_degree\": 19073, \"count\": 1, \"label\": \"count\"}, {\"in_degree\": 19147, \"count\": 1, \"label\": \"count\"}, {\"in_degree\": 19173, \"count\": 1, \"label\": \"count\"}, {\"in_degree\": 19219, \"count\": 1, \"label\": \"count\"}, {\"in_degree\": 19251, \"count\": 1, \"label\": \"count\"}, {\"in_degree\": 19313, \"count\": 1, \"label\": \"count\"}, {\"in_degree\": 19448, \"count\": 1, \"label\": \"count\"}, {\"in_degree\": 19467, \"count\": 1, \"label\": \"count\"}, {\"in_degree\": 19478, \"count\": 1, \"label\": \"count\"}, {\"in_degree\": 19525, \"count\": 1, \"label\": \"count\"}, {\"in_degree\": 19533, \"count\": 1, \"label\": \"count\"}, {\"in_degree\": 19669, \"count\": 1, \"label\": \"count\"}, {\"in_degree\": 19780, \"count\": 1, \"label\": \"count\"}, {\"in_degree\": 19815, \"count\": 1, \"label\": \"count\"}, {\"in_degree\": 19822, \"count\": 1, \"label\": \"count\"}, {\"in_degree\": 19845, \"count\": 1, \"label\": \"count\"}, {\"in_degree\": 19925, \"count\": 1, \"label\": \"count\"}, {\"in_degree\": 19931, \"count\": 1, \"label\": \"count\"}, {\"in_degree\": 19932, \"count\": 1, \"label\": \"count\"}, {\"in_degree\": 19945, \"count\": 1, \"label\": \"count\"}, {\"in_degree\": 19970, \"count\": 1, \"label\": \"count\"}, {\"in_degree\": 19981, \"count\": 1, \"label\": \"count\"}, {\"in_degree\": 20039, \"count\": 1, \"label\": \"count\"}, {\"in_degree\": 20046, \"count\": 1, \"label\": \"count\"}, {\"in_degree\": 20158, \"count\": 1, \"label\": \"count\"}, {\"in_degree\": 20367, \"count\": 1, \"label\": \"count\"}, {\"in_degree\": 20382, \"count\": 1, \"label\": \"count\"}, {\"in_degree\": 20481, \"count\": 1, \"label\": \"count\"}, {\"in_degree\": 20482, \"count\": 1, \"label\": \"count\"}, {\"in_degree\": 20490, \"count\": 1, \"label\": \"count\"}, {\"in_degree\": 20498, \"count\": 1, \"label\": \"count\"}, {\"in_degree\": 20660, \"count\": 1, \"label\": \"count\"}, {\"in_degree\": 20692, \"count\": 1, \"label\": \"count\"}, {\"in_degree\": 20813, \"count\": 1, \"label\": \"count\"}, {\"in_degree\": 20837, \"count\": 1, \"label\": \"count\"}, {\"in_degree\": 20867, \"count\": 1, \"label\": \"count\"}, {\"in_degree\": 20989, \"count\": 1, \"label\": \"count\"}, {\"in_degree\": 21037, \"count\": 1, \"label\": \"count\"}, {\"in_degree\": 21166, \"count\": 1, \"label\": \"count\"}, {\"in_degree\": 21181, \"count\": 1, \"label\": \"count\"}, {\"in_degree\": 21231, \"count\": 1, \"label\": \"count\"}, {\"in_degree\": 21232, \"count\": 1, \"label\": \"count\"}, {\"in_degree\": 21260, \"count\": 1, \"label\": \"count\"}, {\"in_degree\": 21269, \"count\": 1, \"label\": \"count\"}, {\"in_degree\": 21374, \"count\": 1, \"label\": \"count\"}, {\"in_degree\": 21380, \"count\": 1, \"label\": \"count\"}, {\"in_degree\": 21464, \"count\": 1, \"label\": \"count\"}, {\"in_degree\": 21588, \"count\": 1, \"label\": \"count\"}, {\"in_degree\": 21638, \"count\": 1, \"label\": \"count\"}, {\"in_degree\": 21644, \"count\": 1, \"label\": \"count\"}, {\"in_degree\": 21772, \"count\": 1, \"label\": \"count\"}, {\"in_degree\": 21778, \"count\": 1, \"label\": \"count\"}, {\"in_degree\": 21809, \"count\": 1, \"label\": \"count\"}, {\"in_degree\": 21893, \"count\": 1, \"label\": \"count\"}, {\"in_degree\": 22050, \"count\": 1, \"label\": \"count\"}, {\"in_degree\": 22090, \"count\": 1, \"label\": \"count\"}, {\"in_degree\": 22227, \"count\": 1, \"label\": \"count\"}, {\"in_degree\": 22229, \"count\": 1, \"label\": \"count\"}, {\"in_degree\": 22246, \"count\": 1, \"label\": \"count\"}, {\"in_degree\": 22262, \"count\": 1, \"label\": \"count\"}, {\"in_degree\": 22269, \"count\": 1, \"label\": \"count\"}, {\"in_degree\": 22287, \"count\": 1, \"label\": \"count\"}, {\"in_degree\": 22308, \"count\": 1, \"label\": \"count\"}, {\"in_degree\": 22403, \"count\": 1, \"label\": \"count\"}, {\"in_degree\": 22528, \"count\": 1, \"label\": \"count\"}, {\"in_degree\": 22614, \"count\": 1, \"label\": \"count\"}, {\"in_degree\": 22626, \"count\": 1, \"label\": \"count\"}, {\"in_degree\": 22631, \"count\": 1, \"label\": \"count\"}, {\"in_degree\": 22658, \"count\": 1, \"label\": \"count\"}, {\"in_degree\": 22770, \"count\": 1, \"label\": \"count\"}, {\"in_degree\": 22787, \"count\": 1, \"label\": \"count\"}, {\"in_degree\": 22852, \"count\": 1, \"label\": \"count\"}, {\"in_degree\": 22856, \"count\": 1, \"label\": \"count\"}, {\"in_degree\": 22897, \"count\": 1, \"label\": \"count\"}, {\"in_degree\": 22916, \"count\": 1, \"label\": \"count\"}, {\"in_degree\": 22996, \"count\": 1, \"label\": \"count\"}, {\"in_degree\": 23186, \"count\": 1, \"label\": \"count\"}, {\"in_degree\": 23189, \"count\": 1, \"label\": \"count\"}, {\"in_degree\": 23197, \"count\": 1, \"label\": \"count\"}, {\"in_degree\": 23312, \"count\": 1, \"label\": \"count\"}, {\"in_degree\": 23351, \"count\": 1, \"label\": \"count\"}, {\"in_degree\": 23373, \"count\": 1, \"label\": \"count\"}, {\"in_degree\": 23383, \"count\": 1, \"label\": \"count\"}, {\"in_degree\": 23391, \"count\": 1, \"label\": \"count\"}, {\"in_degree\": 23403, \"count\": 1, \"label\": \"count\"}, {\"in_degree\": 23405, \"count\": 1, \"label\": \"count\"}, {\"in_degree\": 23474, \"count\": 1, \"label\": \"count\"}, {\"in_degree\": 23499, \"count\": 1, \"label\": \"count\"}, {\"in_degree\": 23514, \"count\": 1, \"label\": \"count\"}, {\"in_degree\": 23631, \"count\": 1, \"label\": \"count\"}, {\"in_degree\": 23676, \"count\": 1, \"label\": \"count\"}, {\"in_degree\": 23698, \"count\": 1, \"label\": \"count\"}, {\"in_degree\": 23745, \"count\": 1, \"label\": \"count\"}, {\"in_degree\": 23748, \"count\": 1, \"label\": \"count\"}, {\"in_degree\": 23965, \"count\": 1, \"label\": \"count\"}, {\"in_degree\": 24057, \"count\": 1, \"label\": \"count\"}, {\"in_degree\": 24169, \"count\": 1, \"label\": \"count\"}, {\"in_degree\": 24183, \"count\": 1, \"label\": \"count\"}, {\"in_degree\": 24256, \"count\": 1, \"label\": \"count\"}, {\"in_degree\": 24313, \"count\": 1, \"label\": \"count\"}, {\"in_degree\": 24449, \"count\": 1, \"label\": \"count\"}, {\"in_degree\": 24465, \"count\": 1, \"label\": \"count\"}, {\"in_degree\": 24549, \"count\": 1, \"label\": \"count\"}, {\"in_degree\": 24583, \"count\": 1, \"label\": \"count\"}, {\"in_degree\": 24701, \"count\": 1, \"label\": \"count\"}, {\"in_degree\": 24784, \"count\": 1, \"label\": \"count\"}, {\"in_degree\": 24835, \"count\": 1, \"label\": \"count\"}, {\"in_degree\": 24883, \"count\": 1, \"label\": \"count\"}, {\"in_degree\": 24960, \"count\": 1, \"label\": \"count\"}, {\"in_degree\": 25042, \"count\": 1, \"label\": \"count\"}, {\"in_degree\": 25151, \"count\": 1, \"label\": \"count\"}, {\"in_degree\": 25208, \"count\": 1, \"label\": \"count\"}, {\"in_degree\": 25411, \"count\": 1, \"label\": \"count\"}, {\"in_degree\": 25413, \"count\": 1, \"label\": \"count\"}, {\"in_degree\": 25444, \"count\": 1, \"label\": \"count\"}, {\"in_degree\": 25509, \"count\": 1, \"label\": \"count\"}, {\"in_degree\": 25763, \"count\": 1, \"label\": \"count\"}, {\"in_degree\": 25804, \"count\": 1, \"label\": \"count\"}, {\"in_degree\": 25941, \"count\": 1, \"label\": \"count\"}, {\"in_degree\": 25956, \"count\": 1, \"label\": \"count\"}, {\"in_degree\": 25993, \"count\": 1, \"label\": \"count\"}, {\"in_degree\": 26124, \"count\": 1, \"label\": \"count\"}, {\"in_degree\": 26321, \"count\": 1, \"label\": \"count\"}, {\"in_degree\": 26341, \"count\": 1, \"label\": \"count\"}, {\"in_degree\": 26422, \"count\": 1, \"label\": \"count\"}, {\"in_degree\": 26436, \"count\": 1, \"label\": \"count\"}, {\"in_degree\": 26494, \"count\": 1, \"label\": \"count\"}, {\"in_degree\": 26498, \"count\": 1, \"label\": \"count\"}, {\"in_degree\": 26615, \"count\": 1, \"label\": \"count\"}, {\"in_degree\": 26744, \"count\": 1, \"label\": \"count\"}, {\"in_degree\": 26811, \"count\": 1, \"label\": \"count\"}, {\"in_degree\": 26871, \"count\": 1, \"label\": \"count\"}, {\"in_degree\": 26889, \"count\": 1, \"label\": \"count\"}, {\"in_degree\": 26945, \"count\": 1, \"label\": \"count\"}, {\"in_degree\": 26989, \"count\": 1, \"label\": \"count\"}, {\"in_degree\": 27021, \"count\": 1, \"label\": \"count\"}, {\"in_degree\": 27030, \"count\": 1, \"label\": \"count\"}, {\"in_degree\": 27042, \"count\": 1, \"label\": \"count\"}, {\"in_degree\": 27166, \"count\": 1, \"label\": \"count\"}, {\"in_degree\": 27305, \"count\": 1, \"label\": \"count\"}, {\"in_degree\": 27314, \"count\": 1, \"label\": \"count\"}, {\"in_degree\": 27354, \"count\": 1, \"label\": \"count\"}, {\"in_degree\": 27387, \"count\": 1, \"label\": \"count\"}, {\"in_degree\": 27413, \"count\": 1, \"label\": \"count\"}, {\"in_degree\": 27431, \"count\": 1, \"label\": \"count\"}, {\"in_degree\": 27447, \"count\": 1, \"label\": \"count\"}, {\"in_degree\": 27449, \"count\": 1, \"label\": \"count\"}, {\"in_degree\": 27464, \"count\": 1, \"label\": \"count\"}, {\"in_degree\": 27509, \"count\": 1, \"label\": \"count\"}, {\"in_degree\": 27536, \"count\": 1, \"label\": \"count\"}, {\"in_degree\": 27549, \"count\": 1, \"label\": \"count\"}, {\"in_degree\": 27687, \"count\": 1, \"label\": \"count\"}, {\"in_degree\": 27802, \"count\": 1, \"label\": \"count\"}, {\"in_degree\": 27834, \"count\": 1, \"label\": \"count\"}, {\"in_degree\": 27877, \"count\": 1, \"label\": \"count\"}, {\"in_degree\": 27949, \"count\": 1, \"label\": \"count\"}, {\"in_degree\": 27986, \"count\": 1, \"label\": \"count\"}, {\"in_degree\": 28088, \"count\": 1, \"label\": \"count\"}, {\"in_degree\": 28150, \"count\": 1, \"label\": \"count\"}, {\"in_degree\": 28332, \"count\": 1, \"label\": \"count\"}, {\"in_degree\": 28340, \"count\": 1, \"label\": \"count\"}, {\"in_degree\": 28347, \"count\": 1, \"label\": \"count\"}, {\"in_degree\": 28488, \"count\": 1, \"label\": \"count\"}, {\"in_degree\": 28961, \"count\": 1, \"label\": \"count\"}, {\"in_degree\": 28971, \"count\": 1, \"label\": \"count\"}, {\"in_degree\": 29005, \"count\": 1, \"label\": \"count\"}, {\"in_degree\": 29028, \"count\": 1, \"label\": \"count\"}, {\"in_degree\": 29291, \"count\": 1, \"label\": \"count\"}, {\"in_degree\": 29322, \"count\": 1, \"label\": \"count\"}, {\"in_degree\": 29799, \"count\": 1, \"label\": \"count\"}, {\"in_degree\": 29810, \"count\": 1, \"label\": \"count\"}, {\"in_degree\": 29811, \"count\": 1, \"label\": \"count\"}, {\"in_degree\": 30297, \"count\": 1, \"label\": \"count\"}, {\"in_degree\": 30322, \"count\": 1, \"label\": \"count\"}, {\"in_degree\": 30612, \"count\": 1, \"label\": \"count\"}, {\"in_degree\": 30653, \"count\": 1, \"label\": \"count\"}, {\"in_degree\": 30695, \"count\": 1, \"label\": \"count\"}, {\"in_degree\": 30867, \"count\": 1, \"label\": \"count\"}, {\"in_degree\": 30913, \"count\": 1, \"label\": \"count\"}, {\"in_degree\": 31010, \"count\": 1, \"label\": \"count\"}, {\"in_degree\": 31251, \"count\": 1, \"label\": \"count\"}, {\"in_degree\": 31300, \"count\": 1, \"label\": \"count\"}, {\"in_degree\": 31562, \"count\": 1, \"label\": \"count\"}, {\"in_degree\": 31617, \"count\": 1, \"label\": \"count\"}, {\"in_degree\": 31653, \"count\": 1, \"label\": \"count\"}, {\"in_degree\": 31730, \"count\": 1, \"label\": \"count\"}, {\"in_degree\": 31815, \"count\": 1, \"label\": \"count\"}, {\"in_degree\": 31866, \"count\": 1, \"label\": \"count\"}, {\"in_degree\": 32138, \"count\": 1, \"label\": \"count\"}, {\"in_degree\": 32410, \"count\": 1, \"label\": \"count\"}, {\"in_degree\": 32500, \"count\": 1, \"label\": \"count\"}, {\"in_degree\": 32505, \"count\": 1, \"label\": \"count\"}, {\"in_degree\": 32571, \"count\": 1, \"label\": \"count\"}, {\"in_degree\": 32804, \"count\": 1, \"label\": \"count\"}, {\"in_degree\": 32960, \"count\": 1, \"label\": \"count\"}, {\"in_degree\": 33063, \"count\": 1, \"label\": \"count\"}, {\"in_degree\": 33158, \"count\": 1, \"label\": \"count\"}, {\"in_degree\": 33346, \"count\": 1, \"label\": \"count\"}, {\"in_degree\": 33350, \"count\": 1, \"label\": \"count\"}, {\"in_degree\": 33422, \"count\": 1, \"label\": \"count\"}, {\"in_degree\": 33429, \"count\": 1, \"label\": \"count\"}, {\"in_degree\": 33560, \"count\": 1, \"label\": \"count\"}, {\"in_degree\": 33563, \"count\": 1, \"label\": \"count\"}, {\"in_degree\": 33659, \"count\": 1, \"label\": \"count\"}, {\"in_degree\": 33700, \"count\": 1, \"label\": \"count\"}, {\"in_degree\": 34002, \"count\": 1, \"label\": \"count\"}, {\"in_degree\": 34386, \"count\": 1, \"label\": \"count\"}, {\"in_degree\": 34396, \"count\": 1, \"label\": \"count\"}, {\"in_degree\": 35187, \"count\": 1, \"label\": \"count\"}, {\"in_degree\": 35271, \"count\": 1, \"label\": \"count\"}, {\"in_degree\": 35350, \"count\": 1, \"label\": \"count\"}, {\"in_degree\": 35513, \"count\": 1, \"label\": \"count\"}, {\"in_degree\": 35537, \"count\": 1, \"label\": \"count\"}, {\"in_degree\": 35628, \"count\": 1, \"label\": \"count\"}, {\"in_degree\": 35712, \"count\": 1, \"label\": \"count\"}, {\"in_degree\": 35848, \"count\": 1, \"label\": \"count\"}, {\"in_degree\": 35997, \"count\": 1, \"label\": \"count\"}, {\"in_degree\": 36075, \"count\": 1, \"label\": \"count\"}, {\"in_degree\": 36722, \"count\": 1, \"label\": \"count\"}, {\"in_degree\": 36776, \"count\": 1, \"label\": \"count\"}, {\"in_degree\": 36840, \"count\": 1, \"label\": \"count\"}, {\"in_degree\": 37144, \"count\": 1, \"label\": \"count\"}, {\"in_degree\": 37647, \"count\": 1, \"label\": \"count\"}, {\"in_degree\": 37717, \"count\": 1, \"label\": \"count\"}, {\"in_degree\": 37964, \"count\": 1, \"label\": \"count\"}, {\"in_degree\": 38878, \"count\": 1, \"label\": \"count\"}, {\"in_degree\": 38889, \"count\": 1, \"label\": \"count\"}, {\"in_degree\": 39327, \"count\": 1, \"label\": \"count\"}, {\"in_degree\": 39451, \"count\": 1, \"label\": \"count\"}, {\"in_degree\": 40042, \"count\": 1, \"label\": \"count\"}, {\"in_degree\": 40266, \"count\": 1, \"label\": \"count\"}, {\"in_degree\": 40468, \"count\": 1, \"label\": \"count\"}, {\"in_degree\": 40479, \"count\": 1, \"label\": \"count\"}, {\"in_degree\": 40633, \"count\": 1, \"label\": \"count\"}, {\"in_degree\": 40727, \"count\": 1, \"label\": \"count\"}, {\"in_degree\": 42106, \"count\": 1, \"label\": \"count\"}, {\"in_degree\": 42164, \"count\": 1, \"label\": \"count\"}, {\"in_degree\": 42247, \"count\": 1, \"label\": \"count\"}, {\"in_degree\": 42437, \"count\": 1, \"label\": \"count\"}, {\"in_degree\": 42863, \"count\": 1, \"label\": \"count\"}, {\"in_degree\": 43522, \"count\": 1, \"label\": \"count\"}, {\"in_degree\": 43723, \"count\": 1, \"label\": \"count\"}, {\"in_degree\": 44040, \"count\": 1, \"label\": \"count\"}, {\"in_degree\": 44288, \"count\": 1, \"label\": \"count\"}, {\"in_degree\": 44366, \"count\": 1, \"label\": \"count\"}, {\"in_degree\": 44382, \"count\": 1, \"label\": \"count\"}, {\"in_degree\": 44596, \"count\": 1, \"label\": \"count\"}, {\"in_degree\": 45067, \"count\": 1, \"label\": \"count\"}, {\"in_degree\": 45287, \"count\": 1, \"label\": \"count\"}, {\"in_degree\": 45385, \"count\": 1, \"label\": \"count\"}, {\"in_degree\": 45467, \"count\": 1, \"label\": \"count\"}, {\"in_degree\": 45569, \"count\": 1, \"label\": \"count\"}, {\"in_degree\": 45854, \"count\": 1, \"label\": \"count\"}, {\"in_degree\": 45954, \"count\": 1, \"label\": \"count\"}, {\"in_degree\": 45969, \"count\": 1, \"label\": \"count\"}, {\"in_degree\": 46320, \"count\": 1, \"label\": \"count\"}, {\"in_degree\": 46452, \"count\": 1, \"label\": \"count\"}, {\"in_degree\": 46509, \"count\": 1, \"label\": \"count\"}, {\"in_degree\": 46669, \"count\": 1, \"label\": \"count\"}, {\"in_degree\": 46872, \"count\": 1, \"label\": \"count\"}, {\"in_degree\": 46874, \"count\": 1, \"label\": \"count\"}, {\"in_degree\": 47309, \"count\": 1, \"label\": \"count\"}, {\"in_degree\": 47399, \"count\": 1, \"label\": \"count\"}, {\"in_degree\": 47410, \"count\": 1, \"label\": \"count\"}, {\"in_degree\": 47614, \"count\": 1, \"label\": \"count\"}, {\"in_degree\": 47624, \"count\": 1, \"label\": \"count\"}, {\"in_degree\": 48080, \"count\": 1, \"label\": \"count\"}, {\"in_degree\": 48188, \"count\": 1, \"label\": \"count\"}, {\"in_degree\": 48555, \"count\": 1, \"label\": \"count\"}, {\"in_degree\": 48578, \"count\": 1, \"label\": \"count\"}, {\"in_degree\": 49055, \"count\": 1, \"label\": \"count\"}, {\"in_degree\": 49160, \"count\": 1, \"label\": \"count\"}, {\"in_degree\": 49288, \"count\": 1, \"label\": \"count\"}, {\"in_degree\": 49289, \"count\": 1, \"label\": \"count\"}, {\"in_degree\": 49311, \"count\": 1, \"label\": \"count\"}, {\"in_degree\": 49444, \"count\": 1, \"label\": \"count\"}, {\"in_degree\": 50103, \"count\": 1, \"label\": \"count\"}, {\"in_degree\": 50611, \"count\": 1, \"label\": \"count\"}, {\"in_degree\": 51684, \"count\": 1, \"label\": \"count\"}, {\"in_degree\": 51821, \"count\": 1, \"label\": \"count\"}, {\"in_degree\": 51933, \"count\": 1, \"label\": \"count\"}, {\"in_degree\": 51959, \"count\": 1, \"label\": \"count\"}, {\"in_degree\": 52674, \"count\": 1, \"label\": \"count\"}, {\"in_degree\": 52963, \"count\": 1, \"label\": \"count\"}, {\"in_degree\": 53074, \"count\": 1, \"label\": \"count\"}, {\"in_degree\": 53683, \"count\": 1, \"label\": \"count\"}, {\"in_degree\": 54207, \"count\": 1, \"label\": \"count\"}, {\"in_degree\": 54380, \"count\": 1, \"label\": \"count\"}, {\"in_degree\": 54412, \"count\": 1, \"label\": \"count\"}, {\"in_degree\": 54611, \"count\": 1, \"label\": \"count\"}, {\"in_degree\": 55349, \"count\": 1, \"label\": \"count\"}, {\"in_degree\": 56092, \"count\": 1, \"label\": \"count\"}, {\"in_degree\": 56111, \"count\": 1, \"label\": \"count\"}, {\"in_degree\": 58816, \"count\": 1, \"label\": \"count\"}, {\"in_degree\": 59244, \"count\": 1, \"label\": \"count\"}, {\"in_degree\": 60119, \"count\": 1, \"label\": \"count\"}, {\"in_degree\": 60481, \"count\": 1, \"label\": \"count\"}, {\"in_degree\": 61065, \"count\": 1, \"label\": \"count\"}, {\"in_degree\": 61189, \"count\": 1, \"label\": \"count\"}, {\"in_degree\": 61206, \"count\": 1, \"label\": \"count\"}, {\"in_degree\": 61736, \"count\": 1, \"label\": \"count\"}, {\"in_degree\": 61861, \"count\": 1, \"label\": \"count\"}, {\"in_degree\": 62787, \"count\": 1, \"label\": \"count\"}, {\"in_degree\": 63052, \"count\": 1, \"label\": \"count\"}, {\"in_degree\": 63668, \"count\": 1, \"label\": \"count\"}, {\"in_degree\": 63955, \"count\": 1, \"label\": \"count\"}, {\"in_degree\": 64337, \"count\": 1, \"label\": \"count\"}, {\"in_degree\": 64907, \"count\": 1, \"label\": \"count\"}, {\"in_degree\": 64993, \"count\": 1, \"label\": \"count\"}, {\"in_degree\": 65234, \"count\": 1, \"label\": \"count\"}, {\"in_degree\": 65659, \"count\": 1, \"label\": \"count\"}, {\"in_degree\": 65900, \"count\": 1, \"label\": \"count\"}, {\"in_degree\": 66201, \"count\": 1, \"label\": \"count\"}, {\"in_degree\": 66664, \"count\": 1, \"label\": \"count\"}, {\"in_degree\": 66824, \"count\": 1, \"label\": \"count\"}, {\"in_degree\": 66948, \"count\": 1, \"label\": \"count\"}, {\"in_degree\": 67227, \"count\": 1, \"label\": \"count\"}, {\"in_degree\": 67324, \"count\": 1, \"label\": \"count\"}, {\"in_degree\": 67494, \"count\": 1, \"label\": \"count\"}, {\"in_degree\": 68349, \"count\": 1, \"label\": \"count\"}, {\"in_degree\": 68384, \"count\": 1, \"label\": \"count\"}, {\"in_degree\": 68874, \"count\": 1, \"label\": \"count\"}, {\"in_degree\": 69187, \"count\": 1, \"label\": \"count\"}, {\"in_degree\": 69505, \"count\": 1, \"label\": \"count\"}, {\"in_degree\": 69652, \"count\": 1, \"label\": \"count\"}, {\"in_degree\": 71817, \"count\": 1, \"label\": \"count\"}, {\"in_degree\": 72253, \"count\": 1, \"label\": \"count\"}, {\"in_degree\": 72465, \"count\": 1, \"label\": \"count\"}, {\"in_degree\": 72514, \"count\": 1, \"label\": \"count\"}, {\"in_degree\": 73051, \"count\": 1, \"label\": \"count\"}, {\"in_degree\": 73705, \"count\": 1, \"label\": \"count\"}, {\"in_degree\": 73785, \"count\": 1, \"label\": \"count\"}, {\"in_degree\": 74632, \"count\": 1, \"label\": \"count\"}, {\"in_degree\": 74771, \"count\": 1, \"label\": \"count\"}, {\"in_degree\": 75694, \"count\": 1, \"label\": \"count\"}, {\"in_degree\": 76142, \"count\": 1, \"label\": \"count\"}, {\"in_degree\": 76655, \"count\": 1, \"label\": \"count\"}, {\"in_degree\": 76773, \"count\": 1, \"label\": \"count\"}, {\"in_degree\": 78254, \"count\": 1, \"label\": \"count\"}, {\"in_degree\": 78883, \"count\": 1, \"label\": \"count\"}, {\"in_degree\": 80874, \"count\": 1, \"label\": \"count\"}, {\"in_degree\": 81617, \"count\": 1, \"label\": \"count\"}, {\"in_degree\": 82232, \"count\": 1, \"label\": \"count\"}, {\"in_degree\": 82775, \"count\": 1, \"label\": \"count\"}, {\"in_degree\": 83342, \"count\": 1, \"label\": \"count\"}, {\"in_degree\": 83375, \"count\": 1, \"label\": \"count\"}, {\"in_degree\": 85837, \"count\": 1, \"label\": \"count\"}, {\"in_degree\": 85969, \"count\": 1, \"label\": \"count\"}, {\"in_degree\": 86611, \"count\": 1, \"label\": \"count\"}, {\"in_degree\": 87170, \"count\": 1, \"label\": \"count\"}, {\"in_degree\": 87584, \"count\": 1, \"label\": \"count\"}, {\"in_degree\": 87860, \"count\": 1, \"label\": \"count\"}, {\"in_degree\": 88267, \"count\": 1, \"label\": \"count\"}, {\"in_degree\": 90538, \"count\": 1, \"label\": \"count\"}, {\"in_degree\": 90914, \"count\": 1, \"label\": \"count\"}, {\"in_degree\": 92090, \"count\": 1, \"label\": \"count\"}, {\"in_degree\": 93542, \"count\": 1, \"label\": \"count\"}, {\"in_degree\": 94718, \"count\": 1, \"label\": \"count\"}, {\"in_degree\": 94987, \"count\": 1, \"label\": \"count\"}, {\"in_degree\": 96678, \"count\": 1, \"label\": \"count\"}, {\"in_degree\": 96827, \"count\": 1, \"label\": \"count\"}, {\"in_degree\": 97021, \"count\": 1, \"label\": \"count\"}, {\"in_degree\": 97327, \"count\": 1, \"label\": \"count\"}, {\"in_degree\": 99166, \"count\": 1, \"label\": \"count\"}, {\"in_degree\": 99909, \"count\": 1, \"label\": \"count\"}, {\"in_degree\": 101610, \"count\": 1, \"label\": \"count\"}, {\"in_degree\": 101699, \"count\": 1, \"label\": \"count\"}, {\"in_degree\": 103908, \"count\": 1, \"label\": \"count\"}, {\"in_degree\": 104227, \"count\": 1, \"label\": \"count\"}, {\"in_degree\": 107402, \"count\": 1, \"label\": \"count\"}, {\"in_degree\": 107403, \"count\": 1, \"label\": \"count\"}, {\"in_degree\": 107573, \"count\": 1, \"label\": \"count\"}, {\"in_degree\": 109152, \"count\": 1, \"label\": \"count\"}, {\"in_degree\": 109555, \"count\": 1, \"label\": \"count\"}, {\"in_degree\": 110516, \"count\": 1, \"label\": \"count\"}, {\"in_degree\": 111571, \"count\": 1, \"label\": \"count\"}, {\"in_degree\": 115021, \"count\": 1, \"label\": \"count\"}, {\"in_degree\": 115961, \"count\": 1, \"label\": \"count\"}, {\"in_degree\": 116078, \"count\": 1, \"label\": \"count\"}, {\"in_degree\": 116765, \"count\": 1, \"label\": \"count\"}, {\"in_degree\": 116799, \"count\": 1, \"label\": \"count\"}, {\"in_degree\": 117455, \"count\": 1, \"label\": \"count\"}, {\"in_degree\": 117840, \"count\": 1, \"label\": \"count\"}, {\"in_degree\": 118888, \"count\": 1, \"label\": \"count\"}, {\"in_degree\": 119592, \"count\": 1, \"label\": \"count\"}, {\"in_degree\": 121469, \"count\": 1, \"label\": \"count\"}, {\"in_degree\": 123531, \"count\": 1, \"label\": \"count\"}, {\"in_degree\": 124899, \"count\": 1, \"label\": \"count\"}, {\"in_degree\": 125065, \"count\": 1, \"label\": \"count\"}, {\"in_degree\": 125185, \"count\": 1, \"label\": \"count\"}, {\"in_degree\": 125954, \"count\": 1, \"label\": \"count\"}, {\"in_degree\": 126531, \"count\": 1, \"label\": \"count\"}, {\"in_degree\": 127592, \"count\": 1, \"label\": \"count\"}, {\"in_degree\": 128811, \"count\": 1, \"label\": \"count\"}, {\"in_degree\": 130691, \"count\": 1, \"label\": \"count\"}, {\"in_degree\": 132401, \"count\": 1, \"label\": \"count\"}, {\"in_degree\": 132446, \"count\": 1, \"label\": \"count\"}, {\"in_degree\": 134427, \"count\": 1, \"label\": \"count\"}, {\"in_degree\": 135760, \"count\": 1, \"label\": \"count\"}, {\"in_degree\": 136706, \"count\": 1, \"label\": \"count\"}, {\"in_degree\": 136799, \"count\": 1, \"label\": \"count\"}, {\"in_degree\": 138490, \"count\": 1, \"label\": \"count\"}, {\"in_degree\": 138763, \"count\": 1, \"label\": \"count\"}, {\"in_degree\": 144592, \"count\": 1, \"label\": \"count\"}, {\"in_degree\": 146105, \"count\": 1, \"label\": \"count\"}, {\"in_degree\": 149182, \"count\": 1, \"label\": \"count\"}, {\"in_degree\": 149363, \"count\": 1, \"label\": \"count\"}, {\"in_degree\": 150074, \"count\": 1, \"label\": \"count\"}, {\"in_degree\": 150855, \"count\": 1, \"label\": \"count\"}, {\"in_degree\": 151326, \"count\": 1, \"label\": \"count\"}, {\"in_degree\": 152034, \"count\": 1, \"label\": \"count\"}, {\"in_degree\": 156855, \"count\": 1, \"label\": \"count\"}, {\"in_degree\": 158462, \"count\": 1, \"label\": \"count\"}, {\"in_degree\": 163361, \"count\": 1, \"label\": \"count\"}, {\"in_degree\": 165688, \"count\": 1, \"label\": \"count\"}, {\"in_degree\": 166382, \"count\": 1, \"label\": \"count\"}, {\"in_degree\": 168339, \"count\": 1, \"label\": \"count\"}, {\"in_degree\": 172891, \"count\": 1, \"label\": \"count\"}, {\"in_degree\": 173778, \"count\": 1, \"label\": \"count\"}, {\"in_degree\": 174462, \"count\": 1, \"label\": \"count\"}, {\"in_degree\": 176547, \"count\": 1, \"label\": \"count\"}, {\"in_degree\": 180361, \"count\": 1, \"label\": \"count\"}, {\"in_degree\": 182931, \"count\": 1, \"label\": \"count\"}, {\"in_degree\": 183322, \"count\": 1, \"label\": \"count\"}, {\"in_degree\": 184524, \"count\": 1, \"label\": \"count\"}, {\"in_degree\": 187602, \"count\": 1, \"label\": \"count\"}, {\"in_degree\": 189425, \"count\": 1, \"label\": \"count\"}, {\"in_degree\": 190138, \"count\": 1, \"label\": \"count\"}, {\"in_degree\": 204923, \"count\": 1, \"label\": \"count\"}, {\"in_degree\": 209072, \"count\": 1, \"label\": \"count\"}, {\"in_degree\": 209596, \"count\": 1, \"label\": \"count\"}, {\"in_degree\": 218296, \"count\": 1, \"label\": \"count\"}, {\"in_degree\": 236905, \"count\": 1, \"label\": \"count\"}, {\"in_degree\": 239809, \"count\": 1, \"label\": \"count\"}, {\"in_degree\": 242689, \"count\": 1, \"label\": \"count\"}, {\"in_degree\": 249118, \"count\": 1, \"label\": \"count\"}, {\"in_degree\": 251185, \"count\": 1, \"label\": \"count\"}, {\"in_degree\": 254460, \"count\": 1, \"label\": \"count\"}, {\"in_degree\": 257627, \"count\": 1, \"label\": \"count\"}, {\"in_degree\": 266854, \"count\": 1, \"label\": \"count\"}, {\"in_degree\": 276146, \"count\": 1, \"label\": \"count\"}, {\"in_degree\": 284853, \"count\": 1, \"label\": \"count\"}, {\"in_degree\": 288470, \"count\": 1, \"label\": \"count\"}, {\"in_degree\": 297283, \"count\": 1, \"label\": \"count\"}, {\"in_degree\": 309264, \"count\": 1, \"label\": \"count\"}, {\"in_degree\": 318211, \"count\": 1, \"label\": \"count\"}, {\"in_degree\": 323728, \"count\": 1, \"label\": \"count\"}, {\"in_degree\": 327562, \"count\": 1, \"label\": \"count\"}, {\"in_degree\": 330926, \"count\": 1, \"label\": \"count\"}, {\"in_degree\": 331733, \"count\": 1, \"label\": \"count\"}, {\"in_degree\": 338472, \"count\": 1, \"label\": \"count\"}, {\"in_degree\": 351126, \"count\": 1, \"label\": \"count\"}, {\"in_degree\": 354113, \"count\": 1, \"label\": \"count\"}, {\"in_degree\": 388603, \"count\": 1, \"label\": \"count\"}, {\"in_degree\": 392947, \"count\": 1, \"label\": \"count\"}, {\"in_degree\": 403475, \"count\": 1, \"label\": \"count\"}, {\"in_degree\": 406364, \"count\": 1, \"label\": \"count\"}, {\"in_degree\": 444877, \"count\": 1, \"label\": \"count\"}, {\"in_degree\": 471054, \"count\": 1, \"label\": \"count\"}, {\"in_degree\": 492917, \"count\": 1, \"label\": \"count\"}, {\"in_degree\": 502848, \"count\": 1, \"label\": \"count\"}, {\"in_degree\": 504758, \"count\": 1, \"label\": \"count\"}, {\"in_degree\": 514751, \"count\": 1, \"label\": \"count\"}, {\"in_degree\": 550700, \"count\": 1, \"label\": \"count\"}, {\"in_degree\": 834241, \"count\": 1, \"label\": \"count\"}, {\"in_degree\": 900554, \"count\": 1, \"label\": \"count\"}, {\"in_degree\": 947514, \"count\": 1, \"label\": \"count\"}, {\"in_degree\": 1074876, \"count\": 1, \"label\": \"count\"}, {\"in_degree\": 1203275, \"count\": 1, \"label\": \"count\"}, {\"in_degree\": 1338940, \"count\": 1, \"label\": \"count\"}, {\"in_degree\": 1645995, \"count\": 1, \"label\": \"count\"}, {\"in_degree\": 1747300, \"count\": 1, \"label\": \"count\"}, {\"in_degree\": 2101272, \"count\": 1, \"label\": \"count\"}, {\"in_degree\": 2376871, \"count\": 1, \"label\": \"count\"}, {\"in_degree\": 2839733, \"count\": 1, \"label\": \"count\"}, {\"in_degree\": 3296844, \"count\": 1, \"label\": \"count\"}, {\"in_degree\": 4752832, \"count\": 1, \"label\": \"count\"}, {\"in_degree\": 7999217, \"count\": 1, \"label\": \"count\"}]}}, {\"mode\": \"vega-lite\"});\n",
       "</script>"
      ],
      "text/plain": [
       "alt.Chart(...)"
      ]
     },
     "execution_count": 12,
     "metadata": {},
     "output_type": "execute_result"
    }
   ],
   "source": [
    "data = pd.read_csv(\n",
    "    os.environ[\"OUT\"] + \"/statistics.in_degree.distribution.tsv\", sep=\"\\t\"\n",
    ")\n",
    "\n",
    "alt.Chart(data).mark_circle(size=60).encode(\n",
    "    x=alt.X(\"in_degree\", scale=alt.Scale(type=\"log\")),\n",
    "    y=alt.Y(\"count\", scale=alt.Scale(type=\"log\"), title=\"count of nodes\"),\n",
    "    tooltip=[\"in_degree\", \"count\"],\n",
    ").interactive().properties(title=\"Distribution of In Degree\")"
   ]
  },
  {
   "cell_type": "code",
   "execution_count": 13,
   "id": "f4c73033",
   "metadata": {
    "papermill": {
     "duration": null,
     "end_time": null,
     "exception": null,
     "start_time": null,
     "status": "pending"
    },
    "tags": []
   },
   "outputs": [
    {
     "data": {
      "text/html": [
       "\n",
       "<div id=\"altair-viz-fdc890253a604b2496321225a5487f13\"></div>\n",
       "<script type=\"text/javascript\">\n",
       "  (function(spec, embedOpt){\n",
       "    let outputDiv = document.currentScript.previousElementSibling;\n",
       "    if (outputDiv.id !== \"altair-viz-fdc890253a604b2496321225a5487f13\") {\n",
       "      outputDiv = document.getElementById(\"altair-viz-fdc890253a604b2496321225a5487f13\");\n",
       "    }\n",
       "    const paths = {\n",
       "      \"vega\": \"https://cdn.jsdelivr.net/npm//vega@5?noext\",\n",
       "      \"vega-lib\": \"https://cdn.jsdelivr.net/npm//vega-lib?noext\",\n",
       "      \"vega-lite\": \"https://cdn.jsdelivr.net/npm//vega-lite@4.8.1?noext\",\n",
       "      \"vega-embed\": \"https://cdn.jsdelivr.net/npm//vega-embed@6?noext\",\n",
       "    };\n",
       "\n",
       "    function loadScript(lib) {\n",
       "      return new Promise(function(resolve, reject) {\n",
       "        var s = document.createElement('script');\n",
       "        s.src = paths[lib];\n",
       "        s.async = true;\n",
       "        s.onload = () => resolve(paths[lib]);\n",
       "        s.onerror = () => reject(`Error loading script: ${paths[lib]}`);\n",
       "        document.getElementsByTagName(\"head\")[0].appendChild(s);\n",
       "      });\n",
       "    }\n",
       "\n",
       "    function showError(err) {\n",
       "      outputDiv.innerHTML = `<div class=\"error\" style=\"color:red;\">${err}</div>`;\n",
       "      throw err;\n",
       "    }\n",
       "\n",
       "    function displayChart(vegaEmbed) {\n",
       "      vegaEmbed(outputDiv, spec, embedOpt)\n",
       "        .catch(err => showError(`Javascript Error: ${err.message}<br>This usually means there's a typo in your chart specification. See the javascript console for the full traceback.`));\n",
       "    }\n",
       "\n",
       "    if(typeof define === \"function\" && define.amd) {\n",
       "      requirejs.config({paths});\n",
       "      require([\"vega-embed\"], displayChart, err => showError(`Error loading script: ${err.message}`));\n",
       "    } else if (typeof vegaEmbed === \"function\") {\n",
       "      displayChart(vegaEmbed);\n",
       "    } else {\n",
       "      loadScript(\"vega\")\n",
       "        .then(() => loadScript(\"vega-lite\"))\n",
       "        .then(() => loadScript(\"vega-embed\"))\n",
       "        .catch(showError)\n",
       "        .then(() => displayChart(vegaEmbed));\n",
       "    }\n",
       "  })({\"config\": {\"view\": {\"continuousWidth\": 400, \"continuousHeight\": 300}}, \"data\": {\"name\": \"data-83786977007f2ad47a51330f7b6fa987\"}, \"mark\": {\"type\": \"circle\", \"size\": 60}, \"encoding\": {\"tooltip\": [{\"type\": \"quantitative\", \"field\": \"out_degree\"}, {\"type\": \"quantitative\", \"field\": \"count\"}], \"x\": {\"type\": \"quantitative\", \"field\": \"out_degree\", \"scale\": {\"type\": \"log\"}}, \"y\": {\"type\": \"quantitative\", \"field\": \"count\", \"scale\": {\"type\": \"log\"}, \"title\": \"count of nodes\"}}, \"selection\": {\"selector002\": {\"type\": \"interval\", \"bind\": \"scales\", \"encodings\": [\"x\", \"y\"]}}, \"title\": \"Distribution of Out Degree\", \"$schema\": \"https://vega.github.io/schema/vega-lite/v4.8.1.json\", \"datasets\": {\"data-83786977007f2ad47a51330f7b6fa987\": [{\"out_degree\": 1, \"count\": 5979341, \"label\": \"count\"}, {\"out_degree\": 2, \"count\": 2490601, \"label\": \"count\"}, {\"out_degree\": 3, \"count\": 1969313, \"label\": \"count\"}, {\"out_degree\": 4, \"count\": 1774923, \"label\": \"count\"}, {\"out_degree\": 5, \"count\": 2311048, \"label\": \"count\"}, {\"out_degree\": 6, \"count\": 2243545, \"label\": \"count\"}, {\"out_degree\": 7, \"count\": 2764694, \"label\": \"count\"}, {\"out_degree\": 8, \"count\": 1746457, \"label\": \"count\"}, {\"out_degree\": 9, \"count\": 1971531, \"label\": \"count\"}, {\"out_degree\": 10, \"count\": 1634257, \"label\": \"count\"}, {\"out_degree\": 11, \"count\": 986241, \"label\": \"count\"}, {\"out_degree\": 12, \"count\": 999677, \"label\": \"count\"}, {\"out_degree\": 13, \"count\": 944201, \"label\": \"count\"}, {\"out_degree\": 14, \"count\": 609592, \"label\": \"count\"}, {\"out_degree\": 15, \"count\": 501504, \"label\": \"count\"}, {\"out_degree\": 16, \"count\": 391429, \"label\": \"count\"}, {\"out_degree\": 17, \"count\": 394578, \"label\": \"count\"}, {\"out_degree\": 18, \"count\": 404300, \"label\": \"count\"}, {\"out_degree\": 19, \"count\": 485587, \"label\": \"count\"}, {\"out_degree\": 20, \"count\": 722956, \"label\": \"count\"}, {\"out_degree\": 21, \"count\": 956770, \"label\": \"count\"}, {\"out_degree\": 22, \"count\": 365087, \"label\": \"count\"}, {\"out_degree\": 23, \"count\": 175401, \"label\": \"count\"}, {\"out_degree\": 24, \"count\": 180787, \"label\": \"count\"}, {\"out_degree\": 25, \"count\": 157162, \"label\": \"count\"}, {\"out_degree\": 26, \"count\": 159226, \"label\": \"count\"}, {\"out_degree\": 27, \"count\": 181340, \"label\": \"count\"}, {\"out_degree\": 28, \"count\": 125274, \"label\": \"count\"}, {\"out_degree\": 29, \"count\": 95828, \"label\": \"count\"}, {\"out_degree\": 30, \"count\": 75577, \"label\": \"count\"}, {\"out_degree\": 31, \"count\": 67094, \"label\": \"count\"}, {\"out_degree\": 32, \"count\": 57066, \"label\": \"count\"}, {\"out_degree\": 33, \"count\": 61983, \"label\": \"count\"}, {\"out_degree\": 34, \"count\": 84296, \"label\": \"count\"}, {\"out_degree\": 35, \"count\": 39835, \"label\": \"count\"}, {\"out_degree\": 36, \"count\": 24817, \"label\": \"count\"}, {\"out_degree\": 37, \"count\": 21220, \"label\": \"count\"}, {\"out_degree\": 38, \"count\": 16657, \"label\": \"count\"}, {\"out_degree\": 39, \"count\": 13209, \"label\": \"count\"}, {\"out_degree\": 40, \"count\": 11624, \"label\": \"count\"}, {\"out_degree\": 41, \"count\": 9976, \"label\": \"count\"}, {\"out_degree\": 42, \"count\": 9276, \"label\": \"count\"}, {\"out_degree\": 43, \"count\": 8305, \"label\": \"count\"}, {\"out_degree\": 44, \"count\": 7287, \"label\": \"count\"}, {\"out_degree\": 45, \"count\": 7083, \"label\": \"count\"}, {\"out_degree\": 46, \"count\": 6205, \"label\": \"count\"}, {\"out_degree\": 47, \"count\": 5767, \"label\": \"count\"}, {\"out_degree\": 48, \"count\": 5501, \"label\": \"count\"}, {\"out_degree\": 49, \"count\": 4857, \"label\": \"count\"}, {\"out_degree\": 50, \"count\": 4672, \"label\": \"count\"}, {\"out_degree\": 51, \"count\": 4080, \"label\": \"count\"}, {\"out_degree\": 52, \"count\": 4014, \"label\": \"count\"}, {\"out_degree\": 53, \"count\": 3409, \"label\": \"count\"}, {\"out_degree\": 54, \"count\": 3032, \"label\": \"count\"}, {\"out_degree\": 55, \"count\": 2839, \"label\": \"count\"}, {\"out_degree\": 56, \"count\": 2748, \"label\": \"count\"}, {\"out_degree\": 57, \"count\": 2557, \"label\": \"count\"}, {\"out_degree\": 58, \"count\": 2319, \"label\": \"count\"}, {\"out_degree\": 59, \"count\": 2073, \"label\": \"count\"}, {\"out_degree\": 60, \"count\": 2041, \"label\": \"count\"}, {\"out_degree\": 61, \"count\": 1765, \"label\": \"count\"}, {\"out_degree\": 62, \"count\": 1852, \"label\": \"count\"}, {\"out_degree\": 63, \"count\": 1717, \"label\": \"count\"}, {\"out_degree\": 64, \"count\": 1511, \"label\": \"count\"}, {\"out_degree\": 65, \"count\": 1608, \"label\": \"count\"}, {\"out_degree\": 66, \"count\": 1432, \"label\": \"count\"}, {\"out_degree\": 67, \"count\": 1203, \"label\": \"count\"}, {\"out_degree\": 68, \"count\": 1247, \"label\": \"count\"}, {\"out_degree\": 69, \"count\": 1131, \"label\": \"count\"}, {\"out_degree\": 70, \"count\": 1218, \"label\": \"count\"}, {\"out_degree\": 71, \"count\": 1138, \"label\": \"count\"}, {\"out_degree\": 72, \"count\": 947, \"label\": \"count\"}, {\"out_degree\": 73, \"count\": 869, \"label\": \"count\"}, {\"out_degree\": 74, \"count\": 823, \"label\": \"count\"}, {\"out_degree\": 75, \"count\": 901, \"label\": \"count\"}, {\"out_degree\": 76, \"count\": 824, \"label\": \"count\"}, {\"out_degree\": 77, \"count\": 999, \"label\": \"count\"}, {\"out_degree\": 78, \"count\": 784, \"label\": \"count\"}, {\"out_degree\": 79, \"count\": 762, \"label\": \"count\"}, {\"out_degree\": 80, \"count\": 654, \"label\": \"count\"}, {\"out_degree\": 81, \"count\": 703, \"label\": \"count\"}, {\"out_degree\": 82, \"count\": 700, \"label\": \"count\"}, {\"out_degree\": 83, \"count\": 557, \"label\": \"count\"}, {\"out_degree\": 84, \"count\": 503, \"label\": \"count\"}, {\"out_degree\": 85, \"count\": 722, \"label\": \"count\"}, {\"out_degree\": 86, \"count\": 533, \"label\": \"count\"}, {\"out_degree\": 87, \"count\": 506, \"label\": \"count\"}, {\"out_degree\": 88, \"count\": 531, \"label\": \"count\"}, {\"out_degree\": 89, \"count\": 359, \"label\": \"count\"}, {\"out_degree\": 90, \"count\": 458, \"label\": \"count\"}, {\"out_degree\": 91, \"count\": 401, \"label\": \"count\"}, {\"out_degree\": 92, \"count\": 348, \"label\": \"count\"}, {\"out_degree\": 93, \"count\": 327, \"label\": \"count\"}, {\"out_degree\": 94, \"count\": 380, \"label\": \"count\"}, {\"out_degree\": 95, \"count\": 331, \"label\": \"count\"}, {\"out_degree\": 96, \"count\": 304, \"label\": \"count\"}, {\"out_degree\": 97, \"count\": 346, \"label\": \"count\"}, {\"out_degree\": 98, \"count\": 259, \"label\": \"count\"}, {\"out_degree\": 99, \"count\": 218, \"label\": \"count\"}, {\"out_degree\": 100, \"count\": 305, \"label\": \"count\"}, {\"out_degree\": 101, \"count\": 315, \"label\": \"count\"}, {\"out_degree\": 102, \"count\": 204, \"label\": \"count\"}, {\"out_degree\": 103, \"count\": 185, \"label\": \"count\"}, {\"out_degree\": 104, \"count\": 401, \"label\": \"count\"}, {\"out_degree\": 105, \"count\": 166, \"label\": \"count\"}, {\"out_degree\": 106, \"count\": 365, \"label\": \"count\"}, {\"out_degree\": 107, \"count\": 151, \"label\": \"count\"}, {\"out_degree\": 108, \"count\": 279, \"label\": \"count\"}, {\"out_degree\": 109, \"count\": 142, \"label\": \"count\"}, {\"out_degree\": 110, \"count\": 147, \"label\": \"count\"}, {\"out_degree\": 111, \"count\": 140, \"label\": \"count\"}, {\"out_degree\": 112, \"count\": 227, \"label\": \"count\"}, {\"out_degree\": 113, \"count\": 341, \"label\": \"count\"}, {\"out_degree\": 114, \"count\": 145, \"label\": \"count\"}, {\"out_degree\": 115, \"count\": 119, \"label\": \"count\"}, {\"out_degree\": 116, \"count\": 131, \"label\": \"count\"}, {\"out_degree\": 117, \"count\": 118, \"label\": \"count\"}, {\"out_degree\": 118, \"count\": 112, \"label\": \"count\"}, {\"out_degree\": 119, \"count\": 223, \"label\": \"count\"}, {\"out_degree\": 120, \"count\": 233, \"label\": \"count\"}, {\"out_degree\": 121, \"count\": 97, \"label\": \"count\"}, {\"out_degree\": 122, \"count\": 102, \"label\": \"count\"}, {\"out_degree\": 123, \"count\": 216, \"label\": \"count\"}, {\"out_degree\": 124, \"count\": 81, \"label\": \"count\"}, {\"out_degree\": 125, \"count\": 108, \"label\": \"count\"}, {\"out_degree\": 126, \"count\": 99, \"label\": \"count\"}, {\"out_degree\": 127, \"count\": 90, \"label\": \"count\"}, {\"out_degree\": 128, \"count\": 183, \"label\": \"count\"}, {\"out_degree\": 129, \"count\": 79, \"label\": \"count\"}, {\"out_degree\": 130, \"count\": 194, \"label\": \"count\"}, {\"out_degree\": 131, \"count\": 221, \"label\": \"count\"}, {\"out_degree\": 132, \"count\": 179, \"label\": \"count\"}, {\"out_degree\": 133, \"count\": 197, \"label\": \"count\"}, {\"out_degree\": 134, \"count\": 200, \"label\": \"count\"}, {\"out_degree\": 135, \"count\": 199, \"label\": \"count\"}, {\"out_degree\": 136, \"count\": 48, \"label\": \"count\"}, {\"out_degree\": 137, \"count\": 67, \"label\": \"count\"}, {\"out_degree\": 138, \"count\": 183, \"label\": \"count\"}, {\"out_degree\": 139, \"count\": 70, \"label\": \"count\"}, {\"out_degree\": 140, \"count\": 59, \"label\": \"count\"}, {\"out_degree\": 141, \"count\": 61, \"label\": \"count\"}, {\"out_degree\": 142, \"count\": 74, \"label\": \"count\"}, {\"out_degree\": 143, \"count\": 41, \"label\": \"count\"}, {\"out_degree\": 144, \"count\": 51, \"label\": \"count\"}, {\"out_degree\": 145, \"count\": 191, \"label\": \"count\"}, {\"out_degree\": 146, \"count\": 42, \"label\": \"count\"}, {\"out_degree\": 147, \"count\": 46, \"label\": \"count\"}, {\"out_degree\": 148, \"count\": 53, \"label\": \"count\"}, {\"out_degree\": 149, \"count\": 187, \"label\": \"count\"}, {\"out_degree\": 150, \"count\": 204, \"label\": \"count\"}, {\"out_degree\": 151, \"count\": 53, \"label\": \"count\"}, {\"out_degree\": 152, \"count\": 51, \"label\": \"count\"}, {\"out_degree\": 153, \"count\": 51, \"label\": \"count\"}, {\"out_degree\": 154, \"count\": 50, \"label\": \"count\"}, {\"out_degree\": 155, \"count\": 41, \"label\": \"count\"}, {\"out_degree\": 156, \"count\": 30, \"label\": \"count\"}, {\"out_degree\": 157, \"count\": 41, \"label\": \"count\"}, {\"out_degree\": 158, \"count\": 43, \"label\": \"count\"}, {\"out_degree\": 159, \"count\": 35, \"label\": \"count\"}, {\"out_degree\": 160, \"count\": 31, \"label\": \"count\"}, {\"out_degree\": 161, \"count\": 288, \"label\": \"count\"}, {\"out_degree\": 162, \"count\": 57, \"label\": \"count\"}, {\"out_degree\": 163, \"count\": 33, \"label\": \"count\"}, {\"out_degree\": 164, \"count\": 36, \"label\": \"count\"}, {\"out_degree\": 165, \"count\": 49, \"label\": \"count\"}, {\"out_degree\": 166, \"count\": 37, \"label\": \"count\"}, {\"out_degree\": 167, \"count\": 44, \"label\": \"count\"}, {\"out_degree\": 168, \"count\": 33, \"label\": \"count\"}, {\"out_degree\": 169, \"count\": 30, \"label\": \"count\"}, {\"out_degree\": 170, \"count\": 29, \"label\": \"count\"}, {\"out_degree\": 171, \"count\": 176, \"label\": \"count\"}, {\"out_degree\": 172, \"count\": 32, \"label\": \"count\"}, {\"out_degree\": 173, \"count\": 39, \"label\": \"count\"}, {\"out_degree\": 174, \"count\": 31, \"label\": \"count\"}, {\"out_degree\": 175, \"count\": 30, \"label\": \"count\"}, {\"out_degree\": 176, \"count\": 186, \"label\": \"count\"}, {\"out_degree\": 177, \"count\": 29, \"label\": \"count\"}, {\"out_degree\": 178, \"count\": 19, \"label\": \"count\"}, {\"out_degree\": 179, \"count\": 27, \"label\": \"count\"}, {\"out_degree\": 180, \"count\": 192, \"label\": \"count\"}, {\"out_degree\": 181, \"count\": 25, \"label\": \"count\"}, {\"out_degree\": 182, \"count\": 18, \"label\": \"count\"}, {\"out_degree\": 183, \"count\": 19, \"label\": \"count\"}, {\"out_degree\": 184, \"count\": 29, \"label\": \"count\"}, {\"out_degree\": 185, \"count\": 14, \"label\": \"count\"}, {\"out_degree\": 186, \"count\": 20, \"label\": \"count\"}, {\"out_degree\": 187, \"count\": 17, \"label\": \"count\"}, {\"out_degree\": 188, \"count\": 16, \"label\": \"count\"}, {\"out_degree\": 189, \"count\": 24, \"label\": \"count\"}, {\"out_degree\": 190, \"count\": 200, \"label\": \"count\"}, {\"out_degree\": 191, \"count\": 17, \"label\": \"count\"}, {\"out_degree\": 192, \"count\": 37, \"label\": \"count\"}, {\"out_degree\": 193, \"count\": 21, \"label\": \"count\"}, {\"out_degree\": 194, \"count\": 16, \"label\": \"count\"}, {\"out_degree\": 195, \"count\": 11, \"label\": \"count\"}, {\"out_degree\": 196, \"count\": 14, \"label\": \"count\"}, {\"out_degree\": 197, \"count\": 18, \"label\": \"count\"}, {\"out_degree\": 198, \"count\": 20, \"label\": \"count\"}, {\"out_degree\": 199, \"count\": 14, \"label\": \"count\"}, {\"out_degree\": 200, \"count\": 15, \"label\": \"count\"}, {\"out_degree\": 201, \"count\": 20, \"label\": \"count\"}, {\"out_degree\": 202, \"count\": 13, \"label\": \"count\"}, {\"out_degree\": 203, \"count\": 12, \"label\": \"count\"}, {\"out_degree\": 204, \"count\": 16, \"label\": \"count\"}, {\"out_degree\": 205, \"count\": 207, \"label\": \"count\"}, {\"out_degree\": 206, \"count\": 14, \"label\": \"count\"}, {\"out_degree\": 207, \"count\": 207, \"label\": \"count\"}, {\"out_degree\": 208, \"count\": 15, \"label\": \"count\"}, {\"out_degree\": 209, \"count\": 12, \"label\": \"count\"}, {\"out_degree\": 210, \"count\": 12, \"label\": \"count\"}, {\"out_degree\": 211, \"count\": 19, \"label\": \"count\"}, {\"out_degree\": 212, \"count\": 11, \"label\": \"count\"}, {\"out_degree\": 213, \"count\": 209, \"label\": \"count\"}, {\"out_degree\": 214, \"count\": 14, \"label\": \"count\"}, {\"out_degree\": 215, \"count\": 13, \"label\": \"count\"}, {\"out_degree\": 216, \"count\": 226, \"label\": \"count\"}, {\"out_degree\": 217, \"count\": 17, \"label\": \"count\"}, {\"out_degree\": 218, \"count\": 12, \"label\": \"count\"}, {\"out_degree\": 219, \"count\": 12, \"label\": \"count\"}, {\"out_degree\": 220, \"count\": 218, \"label\": \"count\"}, {\"out_degree\": 221, \"count\": 14, \"label\": \"count\"}, {\"out_degree\": 222, \"count\": 22, \"label\": \"count\"}, {\"out_degree\": 223, \"count\": 16, \"label\": \"count\"}, {\"out_degree\": 224, \"count\": 17, \"label\": \"count\"}, {\"out_degree\": 225, \"count\": 9, \"label\": \"count\"}, {\"out_degree\": 226, \"count\": 9, \"label\": \"count\"}, {\"out_degree\": 227, \"count\": 14, \"label\": \"count\"}, {\"out_degree\": 228, \"count\": 10, \"label\": \"count\"}, {\"out_degree\": 229, \"count\": 10, \"label\": \"count\"}, {\"out_degree\": 230, \"count\": 13, \"label\": \"count\"}, {\"out_degree\": 231, \"count\": 14, \"label\": \"count\"}, {\"out_degree\": 232, \"count\": 15, \"label\": \"count\"}, {\"out_degree\": 233, \"count\": 16, \"label\": \"count\"}, {\"out_degree\": 234, \"count\": 7, \"label\": \"count\"}, {\"out_degree\": 235, \"count\": 9, \"label\": \"count\"}, {\"out_degree\": 236, \"count\": 234, \"label\": \"count\"}, {\"out_degree\": 237, \"count\": 13, \"label\": \"count\"}, {\"out_degree\": 238, \"count\": 10, \"label\": \"count\"}, {\"out_degree\": 239, \"count\": 10, \"label\": \"count\"}, {\"out_degree\": 240, \"count\": 10, \"label\": \"count\"}, {\"out_degree\": 241, \"count\": 10, \"label\": \"count\"}, {\"out_degree\": 242, \"count\": 13, \"label\": \"count\"}, {\"out_degree\": 243, \"count\": 8, \"label\": \"count\"}, {\"out_degree\": 244, \"count\": 5, \"label\": \"count\"}, {\"out_degree\": 245, \"count\": 472, \"label\": \"count\"}, {\"out_degree\": 246, \"count\": 12, \"label\": \"count\"}, {\"out_degree\": 247, \"count\": 5, \"label\": \"count\"}, {\"out_degree\": 248, \"count\": 3, \"label\": \"count\"}, {\"out_degree\": 249, \"count\": 15, \"label\": \"count\"}, {\"out_degree\": 250, \"count\": 14, \"label\": \"count\"}, {\"out_degree\": 251, \"count\": 6, \"label\": \"count\"}, {\"out_degree\": 252, \"count\": 5, \"label\": \"count\"}, {\"out_degree\": 253, \"count\": 10, \"label\": \"count\"}, {\"out_degree\": 254, \"count\": 6, \"label\": \"count\"}, {\"out_degree\": 255, \"count\": 12, \"label\": \"count\"}, {\"out_degree\": 256, \"count\": 5, \"label\": \"count\"}, {\"out_degree\": 257, \"count\": 11, \"label\": \"count\"}, {\"out_degree\": 258, \"count\": 9, \"label\": \"count\"}, {\"out_degree\": 259, \"count\": 6, \"label\": \"count\"}, {\"out_degree\": 260, \"count\": 9, \"label\": \"count\"}, {\"out_degree\": 261, \"count\": 6, \"label\": \"count\"}, {\"out_degree\": 262, \"count\": 9, \"label\": \"count\"}, {\"out_degree\": 263, \"count\": 13, \"label\": \"count\"}, {\"out_degree\": 264, \"count\": 5, \"label\": \"count\"}, {\"out_degree\": 265, \"count\": 7, \"label\": \"count\"}, {\"out_degree\": 266, \"count\": 6, \"label\": \"count\"}, {\"out_degree\": 267, \"count\": 12, \"label\": \"count\"}, {\"out_degree\": 268, \"count\": 9, \"label\": \"count\"}, {\"out_degree\": 269, \"count\": 11, \"label\": \"count\"}, {\"out_degree\": 270, \"count\": 9, \"label\": \"count\"}, {\"out_degree\": 271, \"count\": 6, \"label\": \"count\"}, {\"out_degree\": 272, \"count\": 5, \"label\": \"count\"}, {\"out_degree\": 273, \"count\": 7, \"label\": \"count\"}, {\"out_degree\": 274, \"count\": 9, \"label\": \"count\"}, {\"out_degree\": 275, \"count\": 10, \"label\": \"count\"}, {\"out_degree\": 276, \"count\": 12, \"label\": \"count\"}, {\"out_degree\": 277, \"count\": 11, \"label\": \"count\"}, {\"out_degree\": 278, \"count\": 7, \"label\": \"count\"}, {\"out_degree\": 279, \"count\": 7, \"label\": \"count\"}, {\"out_degree\": 280, \"count\": 5, \"label\": \"count\"}, {\"out_degree\": 281, \"count\": 13, \"label\": \"count\"}, {\"out_degree\": 282, \"count\": 28, \"label\": \"count\"}, {\"out_degree\": 283, \"count\": 12, \"label\": \"count\"}, {\"out_degree\": 284, \"count\": 15, \"label\": \"count\"}, {\"out_degree\": 285, \"count\": 3, \"label\": \"count\"}, {\"out_degree\": 286, \"count\": 252, \"label\": \"count\"}, {\"out_degree\": 287, \"count\": 286, \"label\": \"count\"}, {\"out_degree\": 288, \"count\": 14, \"label\": \"count\"}, {\"out_degree\": 289, \"count\": 4, \"label\": \"count\"}, {\"out_degree\": 290, \"count\": 292, \"label\": \"count\"}, {\"out_degree\": 291, \"count\": 292, \"label\": \"count\"}, {\"out_degree\": 292, \"count\": 17, \"label\": \"count\"}, {\"out_degree\": 293, \"count\": 30, \"label\": \"count\"}, {\"out_degree\": 294, \"count\": 17, \"label\": \"count\"}, {\"out_degree\": 295, \"count\": 12, \"label\": \"count\"}, {\"out_degree\": 296, \"count\": 13, \"label\": \"count\"}, {\"out_degree\": 297, \"count\": 14, \"label\": \"count\"}, {\"out_degree\": 298, \"count\": 12, \"label\": \"count\"}, {\"out_degree\": 299, \"count\": 9, \"label\": \"count\"}, {\"out_degree\": 300, \"count\": 7, \"label\": \"count\"}, {\"out_degree\": 301, \"count\": 9, \"label\": \"count\"}, {\"out_degree\": 302, \"count\": 4, \"label\": \"count\"}, {\"out_degree\": 303, \"count\": 300, \"label\": \"count\"}, {\"out_degree\": 304, \"count\": 10, \"label\": \"count\"}, {\"out_degree\": 305, \"count\": 11, \"label\": \"count\"}, {\"out_degree\": 306, \"count\": 303, \"label\": \"count\"}, {\"out_degree\": 307, \"count\": 7, \"label\": \"count\"}, {\"out_degree\": 308, \"count\": 3, \"label\": \"count\"}, {\"out_degree\": 309, \"count\": 305, \"label\": \"count\"}, {\"out_degree\": 310, \"count\": 9, \"label\": \"count\"}, {\"out_degree\": 311, \"count\": 1, \"label\": \"count\"}, {\"out_degree\": 312, \"count\": 1, \"label\": \"count\"}, {\"out_degree\": 313, \"count\": 6, \"label\": \"count\"}, {\"out_degree\": 314, \"count\": 3, \"label\": \"count\"}, {\"out_degree\": 315, \"count\": 6, \"label\": \"count\"}, {\"out_degree\": 316, \"count\": 1, \"label\": \"count\"}, {\"out_degree\": 317, \"count\": 8, \"label\": \"count\"}, {\"out_degree\": 318, \"count\": 6, \"label\": \"count\"}, {\"out_degree\": 319, \"count\": 4, \"label\": \"count\"}, {\"out_degree\": 320, \"count\": 251, \"label\": \"count\"}, {\"out_degree\": 321, \"count\": 5, \"label\": \"count\"}, {\"out_degree\": 322, \"count\": 2, \"label\": \"count\"}, {\"out_degree\": 323, \"count\": 3, \"label\": \"count\"}, {\"out_degree\": 324, \"count\": 3, \"label\": \"count\"}, {\"out_degree\": 325, \"count\": 4, \"label\": \"count\"}, {\"out_degree\": 326, \"count\": 1, \"label\": \"count\"}, {\"out_degree\": 327, \"count\": 5, \"label\": \"count\"}, {\"out_degree\": 328, \"count\": 4, \"label\": \"count\"}, {\"out_degree\": 329, \"count\": 5, \"label\": \"count\"}, {\"out_degree\": 332, \"count\": 5, \"label\": \"count\"}, {\"out_degree\": 333, \"count\": 4, \"label\": \"count\"}, {\"out_degree\": 334, \"count\": 4, \"label\": \"count\"}, {\"out_degree\": 335, \"count\": 335, \"label\": \"count\"}, {\"out_degree\": 336, \"count\": 3, \"label\": \"count\"}, {\"out_degree\": 337, \"count\": 6, \"label\": \"count\"}, {\"out_degree\": 338, \"count\": 5, \"label\": \"count\"}, {\"out_degree\": 339, \"count\": 63, \"label\": \"count\"}, {\"out_degree\": 340, \"count\": 5, \"label\": \"count\"}, {\"out_degree\": 341, \"count\": 2, \"label\": \"count\"}, {\"out_degree\": 342, \"count\": 2, \"label\": \"count\"}, {\"out_degree\": 343, \"count\": 5, \"label\": \"count\"}, {\"out_degree\": 344, \"count\": 341, \"label\": \"count\"}, {\"out_degree\": 345, \"count\": 4, \"label\": \"count\"}, {\"out_degree\": 346, \"count\": 3, \"label\": \"count\"}, {\"out_degree\": 347, \"count\": 3, \"label\": \"count\"}, {\"out_degree\": 348, \"count\": 4, \"label\": \"count\"}, {\"out_degree\": 349, \"count\": 2, \"label\": \"count\"}, {\"out_degree\": 350, \"count\": 3, \"label\": \"count\"}, {\"out_degree\": 351, \"count\": 4, \"label\": \"count\"}, {\"out_degree\": 352, \"count\": 2, \"label\": \"count\"}, {\"out_degree\": 353, \"count\": 3, \"label\": \"count\"}, {\"out_degree\": 354, \"count\": 4, \"label\": \"count\"}, {\"out_degree\": 355, \"count\": 6, \"label\": \"count\"}, {\"out_degree\": 356, \"count\": 4, \"label\": \"count\"}, {\"out_degree\": 357, \"count\": 3, \"label\": \"count\"}, {\"out_degree\": 358, \"count\": 4, \"label\": \"count\"}, {\"out_degree\": 360, \"count\": 5, \"label\": \"count\"}, {\"out_degree\": 361, \"count\": 2, \"label\": \"count\"}, {\"out_degree\": 362, \"count\": 3, \"label\": \"count\"}, {\"out_degree\": 363, \"count\": 3, \"label\": \"count\"}, {\"out_degree\": 364, \"count\": 1, \"label\": \"count\"}, {\"out_degree\": 367, \"count\": 2, \"label\": \"count\"}, {\"out_degree\": 368, \"count\": 1, \"label\": \"count\"}, {\"out_degree\": 369, \"count\": 4, \"label\": \"count\"}, {\"out_degree\": 370, \"count\": 4, \"label\": \"count\"}, {\"out_degree\": 371, \"count\": 6, \"label\": \"count\"}, {\"out_degree\": 372, \"count\": 4, \"label\": \"count\"}, {\"out_degree\": 373, \"count\": 5, \"label\": \"count\"}, {\"out_degree\": 375, \"count\": 3, \"label\": \"count\"}, {\"out_degree\": 376, \"count\": 2, \"label\": \"count\"}, {\"out_degree\": 377, \"count\": 4, \"label\": \"count\"}, {\"out_degree\": 378, \"count\": 2, \"label\": \"count\"}, {\"out_degree\": 379, \"count\": 5, \"label\": \"count\"}, {\"out_degree\": 380, \"count\": 1, \"label\": \"count\"}, {\"out_degree\": 381, \"count\": 5, \"label\": \"count\"}, {\"out_degree\": 382, \"count\": 2, \"label\": \"count\"}, {\"out_degree\": 383, \"count\": 6, \"label\": \"count\"}, {\"out_degree\": 384, \"count\": 3, \"label\": \"count\"}, {\"out_degree\": 385, \"count\": 3, \"label\": \"count\"}, {\"out_degree\": 386, \"count\": 4, \"label\": \"count\"}, {\"out_degree\": 387, \"count\": 4, \"label\": \"count\"}, {\"out_degree\": 388, \"count\": 4, \"label\": \"count\"}, {\"out_degree\": 389, \"count\": 2, \"label\": \"count\"}, {\"out_degree\": 390, \"count\": 3, \"label\": \"count\"}, {\"out_degree\": 391, \"count\": 2, \"label\": \"count\"}, {\"out_degree\": 392, \"count\": 2, \"label\": \"count\"}, {\"out_degree\": 393, \"count\": 3, \"label\": \"count\"}, {\"out_degree\": 394, \"count\": 1, \"label\": \"count\"}, {\"out_degree\": 395, \"count\": 4, \"label\": \"count\"}, {\"out_degree\": 396, \"count\": 2, \"label\": \"count\"}, {\"out_degree\": 397, \"count\": 3, \"label\": \"count\"}, {\"out_degree\": 398, \"count\": 2, \"label\": \"count\"}, {\"out_degree\": 399, \"count\": 1, \"label\": \"count\"}, {\"out_degree\": 400, \"count\": 2, \"label\": \"count\"}, {\"out_degree\": 402, \"count\": 4, \"label\": \"count\"}, {\"out_degree\": 403, \"count\": 1, \"label\": \"count\"}, {\"out_degree\": 404, \"count\": 3, \"label\": \"count\"}, {\"out_degree\": 405, \"count\": 5, \"label\": \"count\"}, {\"out_degree\": 406, \"count\": 3, \"label\": \"count\"}, {\"out_degree\": 407, \"count\": 5, \"label\": \"count\"}, {\"out_degree\": 408, \"count\": 1, \"label\": \"count\"}, {\"out_degree\": 409, \"count\": 3, \"label\": \"count\"}, {\"out_degree\": 410, \"count\": 2, \"label\": \"count\"}, {\"out_degree\": 411, \"count\": 1, \"label\": \"count\"}, {\"out_degree\": 412, \"count\": 2, \"label\": \"count\"}, {\"out_degree\": 413, \"count\": 2, \"label\": \"count\"}, {\"out_degree\": 414, \"count\": 2, \"label\": \"count\"}, {\"out_degree\": 415, \"count\": 2, \"label\": \"count\"}, {\"out_degree\": 416, \"count\": 1, \"label\": \"count\"}, {\"out_degree\": 417, \"count\": 1, \"label\": \"count\"}, {\"out_degree\": 418, \"count\": 411, \"label\": \"count\"}, {\"out_degree\": 419, \"count\": 1, \"label\": \"count\"}, {\"out_degree\": 420, \"count\": 1, \"label\": \"count\"}, {\"out_degree\": 421, \"count\": 1, \"label\": \"count\"}, {\"out_degree\": 422, \"count\": 2, \"label\": \"count\"}, {\"out_degree\": 423, \"count\": 2, \"label\": \"count\"}, {\"out_degree\": 425, \"count\": 4, \"label\": \"count\"}, {\"out_degree\": 426, \"count\": 3, \"label\": \"count\"}, {\"out_degree\": 427, \"count\": 3, \"label\": \"count\"}, {\"out_degree\": 428, \"count\": 5, \"label\": \"count\"}, {\"out_degree\": 430, \"count\": 2, \"label\": \"count\"}, {\"out_degree\": 431, \"count\": 5, \"label\": \"count\"}, {\"out_degree\": 433, \"count\": 1, \"label\": \"count\"}, {\"out_degree\": 434, \"count\": 1, \"label\": \"count\"}, {\"out_degree\": 435, \"count\": 2, \"label\": \"count\"}, {\"out_degree\": 436, \"count\": 1, \"label\": \"count\"}, {\"out_degree\": 437, \"count\": 3, \"label\": \"count\"}, {\"out_degree\": 438, \"count\": 4, \"label\": \"count\"}, {\"out_degree\": 439, \"count\": 2, \"label\": \"count\"}, {\"out_degree\": 440, \"count\": 2, \"label\": \"count\"}, {\"out_degree\": 441, \"count\": 2, \"label\": \"count\"}, {\"out_degree\": 442, \"count\": 1, \"label\": \"count\"}, {\"out_degree\": 443, \"count\": 2, \"label\": \"count\"}, {\"out_degree\": 446, \"count\": 2, \"label\": \"count\"}, {\"out_degree\": 447, \"count\": 1, \"label\": \"count\"}, {\"out_degree\": 448, \"count\": 1, \"label\": \"count\"}, {\"out_degree\": 449, \"count\": 2, \"label\": \"count\"}, {\"out_degree\": 450, \"count\": 1, \"label\": \"count\"}, {\"out_degree\": 451, \"count\": 2, \"label\": \"count\"}, {\"out_degree\": 452, \"count\": 1, \"label\": \"count\"}, {\"out_degree\": 453, \"count\": 4, \"label\": \"count\"}, {\"out_degree\": 454, \"count\": 3, \"label\": \"count\"}, {\"out_degree\": 456, \"count\": 4, \"label\": \"count\"}, {\"out_degree\": 457, \"count\": 1, \"label\": \"count\"}, {\"out_degree\": 458, \"count\": 2, \"label\": \"count\"}, {\"out_degree\": 460, \"count\": 3, \"label\": \"count\"}, {\"out_degree\": 461, \"count\": 3, \"label\": \"count\"}, {\"out_degree\": 462, \"count\": 3, \"label\": \"count\"}, {\"out_degree\": 463, \"count\": 1, \"label\": \"count\"}, {\"out_degree\": 465, \"count\": 2, \"label\": \"count\"}, {\"out_degree\": 466, \"count\": 2, \"label\": \"count\"}, {\"out_degree\": 467, \"count\": 1, \"label\": \"count\"}, {\"out_degree\": 469, \"count\": 2, \"label\": \"count\"}, {\"out_degree\": 470, \"count\": 1, \"label\": \"count\"}, {\"out_degree\": 471, \"count\": 1, \"label\": \"count\"}, {\"out_degree\": 472, \"count\": 3, \"label\": \"count\"}, {\"out_degree\": 473, \"count\": 1, \"label\": \"count\"}, {\"out_degree\": 474, \"count\": 3, \"label\": \"count\"}, {\"out_degree\": 477, \"count\": 2, \"label\": \"count\"}, {\"out_degree\": 478, \"count\": 1, \"label\": \"count\"}, {\"out_degree\": 481, \"count\": 1, \"label\": \"count\"}, {\"out_degree\": 483, \"count\": 1, \"label\": \"count\"}, {\"out_degree\": 485, \"count\": 1, \"label\": \"count\"}, {\"out_degree\": 486, \"count\": 2, \"label\": \"count\"}, {\"out_degree\": 487, \"count\": 1, \"label\": \"count\"}, {\"out_degree\": 488, \"count\": 5, \"label\": \"count\"}, {\"out_degree\": 489, \"count\": 2, \"label\": \"count\"}, {\"out_degree\": 490, \"count\": 3, \"label\": \"count\"}, {\"out_degree\": 491, \"count\": 2, \"label\": \"count\"}, {\"out_degree\": 492, \"count\": 2, \"label\": \"count\"}, {\"out_degree\": 493, \"count\": 1, \"label\": \"count\"}, {\"out_degree\": 494, \"count\": 3, \"label\": \"count\"}, {\"out_degree\": 495, \"count\": 2, \"label\": \"count\"}, {\"out_degree\": 496, \"count\": 1, \"label\": \"count\"}, {\"out_degree\": 497, \"count\": 1, \"label\": \"count\"}, {\"out_degree\": 498, \"count\": 1, \"label\": \"count\"}, {\"out_degree\": 499, \"count\": 3, \"label\": \"count\"}, {\"out_degree\": 500, \"count\": 1, \"label\": \"count\"}, {\"out_degree\": 501, \"count\": 3, \"label\": \"count\"}, {\"out_degree\": 502, \"count\": 5, \"label\": \"count\"}, {\"out_degree\": 503, \"count\": 3, \"label\": \"count\"}, {\"out_degree\": 504, \"count\": 3, \"label\": \"count\"}, {\"out_degree\": 506, \"count\": 3, \"label\": \"count\"}, {\"out_degree\": 507, \"count\": 1, \"label\": \"count\"}, {\"out_degree\": 509, \"count\": 1, \"label\": \"count\"}, {\"out_degree\": 511, \"count\": 1, \"label\": \"count\"}, {\"out_degree\": 512, \"count\": 1, \"label\": \"count\"}, {\"out_degree\": 513, \"count\": 1, \"label\": \"count\"}, {\"out_degree\": 515, \"count\": 1, \"label\": \"count\"}, {\"out_degree\": 516, \"count\": 2, \"label\": \"count\"}, {\"out_degree\": 518, \"count\": 1, \"label\": \"count\"}, {\"out_degree\": 520, \"count\": 2, \"label\": \"count\"}, {\"out_degree\": 522, \"count\": 1, \"label\": \"count\"}, {\"out_degree\": 524, \"count\": 1, \"label\": \"count\"}, {\"out_degree\": 525, \"count\": 1, \"label\": \"count\"}, {\"out_degree\": 526, \"count\": 1, \"label\": \"count\"}, {\"out_degree\": 527, \"count\": 1, \"label\": \"count\"}, {\"out_degree\": 528, \"count\": 1, \"label\": \"count\"}, {\"out_degree\": 530, \"count\": 2, \"label\": \"count\"}, {\"out_degree\": 532, \"count\": 2, \"label\": \"count\"}, {\"out_degree\": 533, \"count\": 2, \"label\": \"count\"}, {\"out_degree\": 534, \"count\": 3, \"label\": \"count\"}, {\"out_degree\": 537, \"count\": 2, \"label\": \"count\"}, {\"out_degree\": 538, \"count\": 2, \"label\": \"count\"}, {\"out_degree\": 539, \"count\": 1, \"label\": \"count\"}, {\"out_degree\": 541, \"count\": 1, \"label\": \"count\"}, {\"out_degree\": 542, \"count\": 1, \"label\": \"count\"}, {\"out_degree\": 544, \"count\": 3, \"label\": \"count\"}, {\"out_degree\": 546, \"count\": 3, \"label\": \"count\"}, {\"out_degree\": 547, \"count\": 1, \"label\": \"count\"}, {\"out_degree\": 548, \"count\": 1, \"label\": \"count\"}, {\"out_degree\": 550, \"count\": 541, \"label\": \"count\"}, {\"out_degree\": 552, \"count\": 1, \"label\": \"count\"}, {\"out_degree\": 553, \"count\": 1, \"label\": \"count\"}, {\"out_degree\": 554, \"count\": 1, \"label\": \"count\"}, {\"out_degree\": 557, \"count\": 1, \"label\": \"count\"}, {\"out_degree\": 559, \"count\": 4, \"label\": \"count\"}, {\"out_degree\": 560, \"count\": 1, \"label\": \"count\"}, {\"out_degree\": 561, \"count\": 4, \"label\": \"count\"}, {\"out_degree\": 562, \"count\": 2, \"label\": \"count\"}, {\"out_degree\": 564, \"count\": 1, \"label\": \"count\"}, {\"out_degree\": 565, \"count\": 1, \"label\": \"count\"}, {\"out_degree\": 566, \"count\": 1, \"label\": \"count\"}, {\"out_degree\": 567, \"count\": 1, \"label\": \"count\"}, {\"out_degree\": 569, \"count\": 1, \"label\": \"count\"}, {\"out_degree\": 571, \"count\": 1, \"label\": \"count\"}, {\"out_degree\": 572, \"count\": 3, \"label\": \"count\"}, {\"out_degree\": 577, \"count\": 1, \"label\": \"count\"}, {\"out_degree\": 580, \"count\": 1, \"label\": \"count\"}, {\"out_degree\": 582, \"count\": 1, \"label\": \"count\"}, {\"out_degree\": 586, \"count\": 2, \"label\": \"count\"}, {\"out_degree\": 589, \"count\": 2, \"label\": \"count\"}, {\"out_degree\": 598, \"count\": 1, \"label\": \"count\"}, {\"out_degree\": 600, \"count\": 1, \"label\": \"count\"}, {\"out_degree\": 604, \"count\": 1, \"label\": \"count\"}, {\"out_degree\": 605, \"count\": 1, \"label\": \"count\"}, {\"out_degree\": 607, \"count\": 2, \"label\": \"count\"}, {\"out_degree\": 608, \"count\": 2, \"label\": \"count\"}, {\"out_degree\": 609, \"count\": 1, \"label\": \"count\"}, {\"out_degree\": 614, \"count\": 2, \"label\": \"count\"}, {\"out_degree\": 615, \"count\": 1, \"label\": \"count\"}, {\"out_degree\": 616, \"count\": 1, \"label\": \"count\"}, {\"out_degree\": 617, \"count\": 2, \"label\": \"count\"}, {\"out_degree\": 618, \"count\": 1, \"label\": \"count\"}, {\"out_degree\": 619, \"count\": 1, \"label\": \"count\"}, {\"out_degree\": 620, \"count\": 1, \"label\": \"count\"}, {\"out_degree\": 621, \"count\": 1, \"label\": \"count\"}, {\"out_degree\": 625, \"count\": 2, \"label\": \"count\"}, {\"out_degree\": 627, \"count\": 1, \"label\": \"count\"}, {\"out_degree\": 629, \"count\": 1, \"label\": \"count\"}, {\"out_degree\": 631, \"count\": 1, \"label\": \"count\"}, {\"out_degree\": 632, \"count\": 1, \"label\": \"count\"}, {\"out_degree\": 633, \"count\": 1, \"label\": \"count\"}, {\"out_degree\": 635, \"count\": 1, \"label\": \"count\"}, {\"out_degree\": 637, \"count\": 1, \"label\": \"count\"}, {\"out_degree\": 639, \"count\": 1, \"label\": \"count\"}, {\"out_degree\": 641, \"count\": 1, \"label\": \"count\"}, {\"out_degree\": 642, \"count\": 4, \"label\": \"count\"}, {\"out_degree\": 645, \"count\": 1, \"label\": \"count\"}, {\"out_degree\": 647, \"count\": 1, \"label\": \"count\"}, {\"out_degree\": 648, \"count\": 3, \"label\": \"count\"}, {\"out_degree\": 649, \"count\": 1, \"label\": \"count\"}, {\"out_degree\": 651, \"count\": 1, \"label\": \"count\"}, {\"out_degree\": 654, \"count\": 1, \"label\": \"count\"}, {\"out_degree\": 660, \"count\": 1, \"label\": \"count\"}, {\"out_degree\": 661, \"count\": 1, \"label\": \"count\"}, {\"out_degree\": 664, \"count\": 1, \"label\": \"count\"}, {\"out_degree\": 666, \"count\": 1, \"label\": \"count\"}, {\"out_degree\": 676, \"count\": 1, \"label\": \"count\"}, {\"out_degree\": 678, \"count\": 1, \"label\": \"count\"}, {\"out_degree\": 681, \"count\": 1, \"label\": \"count\"}, {\"out_degree\": 682, \"count\": 2, \"label\": \"count\"}, {\"out_degree\": 683, \"count\": 1, \"label\": \"count\"}, {\"out_degree\": 685, \"count\": 1, \"label\": \"count\"}, {\"out_degree\": 686, \"count\": 1, \"label\": \"count\"}, {\"out_degree\": 687, \"count\": 1, \"label\": \"count\"}, {\"out_degree\": 692, \"count\": 2, \"label\": \"count\"}, {\"out_degree\": 694, \"count\": 1, \"label\": \"count\"}, {\"out_degree\": 695, \"count\": 1, \"label\": \"count\"}, {\"out_degree\": 697, \"count\": 1, \"label\": \"count\"}, {\"out_degree\": 698, \"count\": 1, \"label\": \"count\"}, {\"out_degree\": 704, \"count\": 1, \"label\": \"count\"}, {\"out_degree\": 705, \"count\": 1, \"label\": \"count\"}, {\"out_degree\": 707, \"count\": 1, \"label\": \"count\"}, {\"out_degree\": 709, \"count\": 1, \"label\": \"count\"}, {\"out_degree\": 711, \"count\": 1, \"label\": \"count\"}, {\"out_degree\": 712, \"count\": 1, \"label\": \"count\"}, {\"out_degree\": 714, \"count\": 1, \"label\": \"count\"}, {\"out_degree\": 718, \"count\": 2, \"label\": \"count\"}, {\"out_degree\": 719, \"count\": 2, \"label\": \"count\"}, {\"out_degree\": 723, \"count\": 1, \"label\": \"count\"}, {\"out_degree\": 726, \"count\": 1, \"label\": \"count\"}, {\"out_degree\": 728, \"count\": 1, \"label\": \"count\"}, {\"out_degree\": 731, \"count\": 1, \"label\": \"count\"}, {\"out_degree\": 734, \"count\": 1, \"label\": \"count\"}, {\"out_degree\": 742, \"count\": 1, \"label\": \"count\"}, {\"out_degree\": 744, \"count\": 1, \"label\": \"count\"}, {\"out_degree\": 746, \"count\": 1, \"label\": \"count\"}, {\"out_degree\": 748, \"count\": 1, \"label\": \"count\"}, {\"out_degree\": 751, \"count\": 1, \"label\": \"count\"}, {\"out_degree\": 753, \"count\": 1, \"label\": \"count\"}, {\"out_degree\": 756, \"count\": 1, \"label\": \"count\"}, {\"out_degree\": 767, \"count\": 1, \"label\": \"count\"}, {\"out_degree\": 769, \"count\": 1, \"label\": \"count\"}, {\"out_degree\": 770, \"count\": 1, \"label\": \"count\"}, {\"out_degree\": 772, \"count\": 1, \"label\": \"count\"}, {\"out_degree\": 780, \"count\": 1, \"label\": \"count\"}, {\"out_degree\": 783, \"count\": 1, \"label\": \"count\"}, {\"out_degree\": 791, \"count\": 1, \"label\": \"count\"}, {\"out_degree\": 804, \"count\": 2, \"label\": \"count\"}, {\"out_degree\": 805, \"count\": 1, \"label\": \"count\"}, {\"out_degree\": 808, \"count\": 1, \"label\": \"count\"}, {\"out_degree\": 811, \"count\": 1, \"label\": \"count\"}, {\"out_degree\": 813, \"count\": 1, \"label\": \"count\"}, {\"out_degree\": 815, \"count\": 1, \"label\": \"count\"}, {\"out_degree\": 816, \"count\": 1, \"label\": \"count\"}, {\"out_degree\": 823, \"count\": 1, \"label\": \"count\"}, {\"out_degree\": 825, \"count\": 1, \"label\": \"count\"}, {\"out_degree\": 830, \"count\": 1, \"label\": \"count\"}, {\"out_degree\": 838, \"count\": 1, \"label\": \"count\"}, {\"out_degree\": 844, \"count\": 1, \"label\": \"count\"}, {\"out_degree\": 859, \"count\": 1, \"label\": \"count\"}, {\"out_degree\": 862, \"count\": 1, \"label\": \"count\"}, {\"out_degree\": 863, \"count\": 1, \"label\": \"count\"}, {\"out_degree\": 864, \"count\": 1, \"label\": \"count\"}, {\"out_degree\": 875, \"count\": 1, \"label\": \"count\"}, {\"out_degree\": 876, \"count\": 1, \"label\": \"count\"}, {\"out_degree\": 878, \"count\": 1, \"label\": \"count\"}, {\"out_degree\": 881, \"count\": 2, \"label\": \"count\"}, {\"out_degree\": 883, \"count\": 1, \"label\": \"count\"}, {\"out_degree\": 884, \"count\": 1, \"label\": \"count\"}, {\"out_degree\": 886, \"count\": 1, \"label\": \"count\"}, {\"out_degree\": 892, \"count\": 1, \"label\": \"count\"}, {\"out_degree\": 898, \"count\": 1, \"label\": \"count\"}, {\"out_degree\": 900, \"count\": 1, \"label\": \"count\"}, {\"out_degree\": 901, \"count\": 2, \"label\": \"count\"}, {\"out_degree\": 907, \"count\": 1, \"label\": \"count\"}, {\"out_degree\": 915, \"count\": 1, \"label\": \"count\"}, {\"out_degree\": 924, \"count\": 2, \"label\": \"count\"}, {\"out_degree\": 949, \"count\": 1, \"label\": \"count\"}, {\"out_degree\": 952, \"count\": 1, \"label\": \"count\"}, {\"out_degree\": 956, \"count\": 1, \"label\": \"count\"}, {\"out_degree\": 957, \"count\": 1, \"label\": \"count\"}, {\"out_degree\": 967, \"count\": 1, \"label\": \"count\"}, {\"out_degree\": 968, \"count\": 1, \"label\": \"count\"}, {\"out_degree\": 984, \"count\": 1, \"label\": \"count\"}, {\"out_degree\": 993, \"count\": 2, \"label\": \"count\"}, {\"out_degree\": 1001, \"count\": 5, \"label\": \"count\"}, {\"out_degree\": 1012, \"count\": 1, \"label\": \"count\"}, {\"out_degree\": 1020, \"count\": 1, \"label\": \"count\"}, {\"out_degree\": 1021, \"count\": 1, \"label\": \"count\"}, {\"out_degree\": 1045, \"count\": 1, \"label\": \"count\"}, {\"out_degree\": 1068, \"count\": 1, \"label\": \"count\"}, {\"out_degree\": 1086, \"count\": 1, \"label\": \"count\"}, {\"out_degree\": 1108, \"count\": 1, \"label\": \"count\"}, {\"out_degree\": 1121, \"count\": 1, \"label\": \"count\"}, {\"out_degree\": 1123, \"count\": 1, \"label\": \"count\"}, {\"out_degree\": 1125, \"count\": 1, \"label\": \"count\"}, {\"out_degree\": 1152, \"count\": 1, \"label\": \"count\"}, {\"out_degree\": 1154, \"count\": 1, \"label\": \"count\"}, {\"out_degree\": 1157, \"count\": 1, \"label\": \"count\"}, {\"out_degree\": 1166, \"count\": 1, \"label\": \"count\"}, {\"out_degree\": 1185, \"count\": 1, \"label\": \"count\"}, {\"out_degree\": 1193, \"count\": 1, \"label\": \"count\"}, {\"out_degree\": 1196, \"count\": 1, \"label\": \"count\"}, {\"out_degree\": 1199, \"count\": 1, \"label\": \"count\"}, {\"out_degree\": 1244, \"count\": 1, \"label\": \"count\"}, {\"out_degree\": 1276, \"count\": 1, \"label\": \"count\"}, {\"out_degree\": 1291, \"count\": 1, \"label\": \"count\"}, {\"out_degree\": 1293, \"count\": 1, \"label\": \"count\"}, {\"out_degree\": 1352, \"count\": 1, \"label\": \"count\"}, {\"out_degree\": 1353, \"count\": 1, \"label\": \"count\"}, {\"out_degree\": 1357, \"count\": 1, \"label\": \"count\"}, {\"out_degree\": 1379, \"count\": 1, \"label\": \"count\"}, {\"out_degree\": 1394, \"count\": 1, \"label\": \"count\"}, {\"out_degree\": 1402, \"count\": 1, \"label\": \"count\"}, {\"out_degree\": 1418, \"count\": 1, \"label\": \"count\"}, {\"out_degree\": 1439, \"count\": 1, \"label\": \"count\"}, {\"out_degree\": 1440, \"count\": 1, \"label\": \"count\"}, {\"out_degree\": 1467, \"count\": 1, \"label\": \"count\"}, {\"out_degree\": 1539, \"count\": 1, \"label\": \"count\"}, {\"out_degree\": 1592, \"count\": 1, \"label\": \"count\"}, {\"out_degree\": 1987, \"count\": 1, \"label\": \"count\"}, {\"out_degree\": 1991, \"count\": 1, \"label\": \"count\"}, {\"out_degree\": 2072, \"count\": 1, \"label\": \"count\"}, {\"out_degree\": 2988, \"count\": 1, \"label\": \"count\"}, {\"out_degree\": 5350, \"count\": 1, \"label\": \"count\"}]}}, {\"mode\": \"vega-lite\"});\n",
       "</script>"
      ],
      "text/plain": [
       "alt.Chart(...)"
      ]
     },
     "execution_count": 13,
     "metadata": {},
     "output_type": "execute_result"
    }
   ],
   "source": [
    "data = pd.read_csv(\n",
    "    os.environ[\"OUT\"] + \"/statistics.out_degree.distribution.tsv\", sep=\"\\t\"\n",
    ")\n",
    "\n",
    "alt.Chart(data).mark_circle(size=60).encode(\n",
    "    x=alt.X(\"out_degree\", scale=alt.Scale(type=\"log\")),\n",
    "    y=alt.Y(\"count\", scale=alt.Scale(type=\"log\"), title=\"count of nodes\"),\n",
    "    tooltip=[\"out_degree\", \"count\"],\n",
    ").interactive().properties(title=\"Distribution of Out Degree\")"
   ]
  },
  {
   "cell_type": "markdown",
   "id": "a765dc5c",
   "metadata": {
    "papermill": {
     "duration": null,
     "end_time": null,
     "exception": null,
     "start_time": null,
     "status": "pending"
    },
    "tags": []
   },
   "source": [
    "## Summary of results"
   ]
  },
  {
   "cell_type": "code",
   "execution_count": 14,
   "id": "32a6f08b",
   "metadata": {
    "papermill": {
     "duration": null,
     "end_time": null,
     "exception": null,
     "start_time": null,
     "status": "pending"
    },
    "tags": []
   },
   "outputs": [
    {
     "name": "stdout",
     "output_type": "stream",
     "text": [
      "-rw-r--r-- 1 hrathod div22  86M Apr  8 13:47 /nas/home/hrathod/output/for_novartis/novartis/useful_files/aliases.en.tsv.gz\r\n",
      "-rw-r--r-- 1 hrathod div22 7.3G Apr  9 01:57 /nas/home/hrathod/output/for_novartis/novartis/useful_files/derived.isastar.tsv.gz\r\n",
      "-rw-r--r-- 1 hrathod div22 112M Apr  8 16:54 /nas/home/hrathod/output/for_novartis/novartis/useful_files/derived.isa.tsv.gz\r\n",
      "-rw-r--r-- 1 hrathod div22 478M Apr  8 16:06 /nas/home/hrathod/output/for_novartis/novartis/useful_files/derived.P279star.tsv.gz\r\n",
      "-rw-r--r-- 1 hrathod div22  36M Apr  8 13:59 /nas/home/hrathod/output/for_novartis/novartis/useful_files/derived.P279.tsv.gz\r\n",
      "-rw-r--r-- 1 hrathod div22 7.3G Apr  9 19:37 /nas/home/hrathod/output/for_novartis/novartis/useful_files/derived.P31P279star.tsv.gz\r\n",
      "-rw-r--r-- 1 hrathod div22 410M Apr  8 13:56 /nas/home/hrathod/output/for_novartis/novartis/useful_files/derived.P31.tsv.gz\r\n",
      "-rw-r--r-- 1 hrathod div22 167M Apr  8 13:50 /nas/home/hrathod/output/for_novartis/novartis/useful_files/descriptions.en.tsv.gz\r\n",
      "-rw-r--r-- 1 hrathod div22 372M Apr  8 13:46 /nas/home/hrathod/output/for_novartis/novartis/useful_files/labels.en.tsv.gz\r\n",
      "-rw-r--r-- 1 hrathod div22  36M Apr 10 07:28 /nas/home/hrathod/output/for_novartis/novartis/useful_files/metadata.in_degree.tsv.gz\r\n",
      "-rw-r--r-- 1 hrathod div22 220M Apr 10 01:58 /nas/home/hrathod/output/for_novartis/novartis/useful_files/metadata.out_degree.tsv.gz\r\n",
      "-rw-r--r-- 1 hrathod div22 842M Apr  9 23:09 /nas/home/hrathod/output/for_novartis/novartis/useful_files/metadata.pagerank.directed.tsv.gz\r\n",
      "-rw-r--r-- 1 hrathod div22 939M Apr 10 01:23 /nas/home/hrathod/output/for_novartis/novartis/useful_files/metadata.pagerank.undirected.tsv.gz\r\n",
      "-rw-r--r-- 1 hrathod div22  53K Apr 10 07:29 /nas/home/hrathod/output/for_novartis/novartis/useful_files/statistics.in_degree.distribution.tsv\r\n",
      "-rw-r--r-- 1 hrathod div22 8.6K Apr 10 13:14 /nas/home/hrathod/output/for_novartis/novartis/useful_files/statistics.out_degree.distribution.tsv\r\n"
     ]
    }
   ],
   "source": [
    "!ls -lh $OUT/*"
   ]
  },
  {
   "cell_type": "markdown",
   "id": "1afe97af",
   "metadata": {
    "papermill": {
     "duration": null,
     "end_time": null,
     "exception": null,
     "start_time": null,
     "status": "pending"
    },
    "tags": []
   },
   "source": [
    "Highest page rank"
   ]
  },
  {
   "cell_type": "code",
   "execution_count": 17,
   "id": "d41ac35a",
   "metadata": {},
   "outputs": [
    {
     "name": "stdout",
     "output_type": "stream",
     "text": [
      "/nas/home/hrathod/output/for_novartis/novartis/useful_files/metadata.pagerank.undirected.tsv.gz\r\n"
     ]
    }
   ],
   "source": [
    "!echo $OUT/metadata.pagerank.undirected.tsv.gz"
   ]
  },
  {
   "cell_type": "code",
   "execution_count": 21,
   "id": "1b38c287",
   "metadata": {
    "papermill": {
     "duration": null,
     "end_time": null,
     "exception": null,
     "start_time": null,
     "status": "pending"
    },
    "tags": []
   },
   "outputs": [
    {
     "name": "stdout",
     "output_type": "stream",
     "text": [
      "Traceback (most recent call last):\n",
      "  File \"/nas/home/hrathod/anaconda3/envs/c_k_g/lib/python3.7/site-packages/kgtk/cli/query.py\", line 174, in run\n",
      "    index=options.get('index'))\n",
      "  File \"/nas/home/hrathod/anaconda3/envs/c_k_g/lib/python3.7/site-packages/kgtk/kypher/query.py\", line 177, in __init__\n",
      "    self.query = parser.intern(query)\n",
      "  File \"/nas/home/hrathod/anaconda3/envs/c_k_g/lib/python3.7/site-packages/kgtk/kypher/parser.py\", line 890, in intern\n",
      "    return KypherQuery(query_string)\n",
      "  File \"/nas/home/hrathod/anaconda3/envs/c_k_g/lib/python3.7/site-packages/kgtk/kypher/parser.py\", line 811, in __init__\n",
      "    self.query = intern_ast(self, self.parse.Kypher())\n",
      "  File \"/nas/home/hrathod/anaconda3/envs/c_k_g/lib/python3.7/site-packages/parsley.py\", line 98, in invokeRule\n",
      "    raise err\n",
      "ometa.runtime.ParseError: \n",
      " MATCH pagerank: (n1)-[:undirected_pagerank]->(page_rank), label: (n1)-[:label]->(label) RETURN distinct n1, label as label, page_rank as `undirected page rank ORDER BY cast(page_rank, float) desc LIMIT 10\n",
      "^\n",
      "Parse error at line 2, column 0: expected EOF. trail: [anything]\n",
      "\n",
      "\n",
      "During handling of the above exception, another exception occurred:\n",
      "\n",
      "Traceback (most recent call last):\n",
      "  File \"/nas/home/hrathod/anaconda3/envs/c_k_g/lib/python3.7/site-packages/kgtk/exceptions.py\", line 46, in __call__\n",
      "    return_code = func(*args, **kwargs) or 0\n",
      "  File \"/nas/home/hrathod/anaconda3/envs/c_k_g/lib/python3.7/site-packages/kgtk/cli/query.py\", line 208, in run\n",
      "    raise KGTKException(str(e) + '\\n')\n",
      "kgtk.exceptions.KGTKException: \n",
      " MATCH pagerank: (n1)-[:undirected_pagerank]->(page_rank), label: (n1)-[:label]->(label) RETURN distinct n1, label as label, page_rank as `undirected page rank ORDER BY cast(page_rank, float) desc LIMIT 10\n",
      "^\n",
      "Parse error at line 2, column 0: expected EOF. trail: [anything]\n",
      "\n",
      "\n",
      "\n",
      " MATCH pagerank: (n1)-[:undirected_pagerank]->(page_rank), label: (n1)-[:label]->(label) RETURN distinct n1, label as label, page_rank as `undirected page rank ORDER BY cast(page_rank, float) desc LIMIT 10\n",
      "^\n",
      "Parse error at line 2, column 0: expected EOF. trail: [anything]\n",
      "\n",
      "\n",
      "\n"
     ]
    }
   ],
   "source": [
    "\n",
    "if compute_pagerank:\n",
    "    !$kypher -i $OUT/metadata.pagerank.undirected.tsv.gz -i \"$LABELS\" -o - \\\n",
    "    --match 'pagerank: (n1)-[:undirected_pagerank]->(page_rank), label: (n1)-[:label]->(label)' \\\n",
    "    --return 'distinct n1, label as label, page_rank as `undirected page rank' \\\n",
    "    --order-by 'cast(page_rank, float) desc' \\\n",
    "    --limit 10 \\\n",
    "    | col"
   ]
  },
  {
   "cell_type": "code",
   "execution_count": 22,
   "id": "c87d9dfa",
   "metadata": {
    "papermill": {
     "duration": null,
     "end_time": null,
     "exception": null,
     "start_time": null,
     "status": "pending"
    },
    "tags": []
   },
   "outputs": [
    {
     "name": "stdout",
     "output_type": "stream",
     "text": [
      "-rw-r--r-- 1 hrathod div22 390663548 Apr  8 04:30 /nas/home/hrathod/output/for_novartis/novartis/parts/labels.en.tsv.gz\r\n"
     ]
    }
   ],
   "source": [
    "!ls -l $LABELS"
   ]
  },
  {
   "cell_type": "code",
   "execution_count": null,
   "id": "69cfd06f",
   "metadata": {
    "papermill": {
     "duration": null,
     "end_time": null,
     "exception": null,
     "start_time": null,
     "status": "pending"
    },
    "tags": []
   },
   "outputs": [],
   "source": []
  }
 ],
 "metadata": {
  "celltoolbar": "Tags",
  "kernelspec": {
   "display_name": "Python 3",
   "language": "python",
   "name": "python3"
  },
  "language_info": {
   "codemirror_mode": {
    "name": "ipython",
    "version": 3
   },
   "file_extension": ".py",
   "mimetype": "text/x-python",
   "name": "python",
   "nbconvert_exporter": "python",
   "pygments_lexer": "ipython3",
   "version": "3.7.10"
  },
  "papermill": {
   "default_parameters": {},
   "duration": null,
   "end_time": null,
   "environment_variables": {},
   "exception": null,
   "input_path": "/data/hrathod/final_data/kgtk/use-cases/Wikidata Useful Files.ipynb",
   "output_path": "/nas/home/hrathod/output/for_novartis/temp.novartis/Wikidata Useful Files Out.ipynb",
   "parameters": {
    "cache_path": "/nas/home/hrathod/output/for_novartis/novartis/temp.useful_files",
    "compute_pagerank": true,
    "delete_database": false,
    "languages": "en",
    "output_folder": "useful_files",
    "output_path": "/nas/home/hrathod/output/for_novartis/novartis",
    "temp_folder": "temp.useful_files",
    "wiki_root_folder": "/nas/home/hrathod/output/for_novartis/novartis/parts/"
   },
   "start_time": "2021-04-08T20:38:11.168374",
   "version": "2.3.3"
  }
 },
 "nbformat": 4,
 "nbformat_minor": 5
}
